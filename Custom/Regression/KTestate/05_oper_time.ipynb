{
 "cells": [
  {
   "cell_type": "markdown",
   "id": "eac342a2-ee1b-416d-b2c9-5783a661b1ba",
   "metadata": {
    "tags": []
   },
   "source": [
    "## Import Library"
   ]
  },
  {
   "cell_type": "code",
   "execution_count": 228,
   "id": "e63b3002-2ee1-448a-9056-b64aff8bf89d",
   "metadata": {
    "tags": []
   },
   "outputs": [],
   "source": [
    "import datetime\n",
    "import pandas as pd\n",
    "import numpy as np\n",
    "\n",
    "import matplotlib.pyplot as plt\n",
    "\n",
    "from tensorflow.keras.models import load_model\n",
    "from tensorflow.keras.losses import MeanAbsolutePercentageError, MeanAbsoluteError, MeanSquaredError\n",
    "import tensorflow as tf\n",
    "\n",
    "gpus = tf.config.list_physical_devices('GPU')\n",
    "if gpus:\n",
    "    try:\n",
    "        tf.config.experimental.set_memory_growth(gpus[0], True)\n",
    "    except RuntimeError as e:\n",
    "        print(e)\n",
    "        \n",
    "pd.set_option('mode.chained_assignment',  None) # <==== 경고를 끈다"
   ]
  },
  {
   "cell_type": "markdown",
   "id": "b12447d2-161c-4c6c-b2cf-297bf856a9ae",
   "metadata": {
    "tags": []
   },
   "source": [
    "## Load Data"
   ]
  },
  {
   "cell_type": "code",
   "execution_count": 229,
   "id": "211e549c-0f9f-418d-9bb8-5365796617db",
   "metadata": {
    "tags": []
   },
   "outputs": [],
   "source": [
    "eda_floor = ['1F', '2F', '3F']\n",
    "\n",
    "for floor in eda_floor:\n",
    "    globals()[f'test_df_{floor}'] = pd.read_csv(f'test_df_{floor}.csv')\n",
    "    globals()[f'test_df_{floor}']['시간'] = pd.to_datetime(globals()[f'test_df_{floor}']['시간'])"
   ]
  },
  {
   "cell_type": "markdown",
   "id": "1eddf8e5-ed8d-4bc0-9c60-e56ee866798b",
   "metadata": {
    "tags": []
   },
   "source": [
    "## Create Validation Dataset"
   ]
  },
  {
   "cell_type": "code",
   "execution_count": 230,
   "id": "53ce003b-f8a6-40e1-b573-d6111938ac0d",
   "metadata": {
    "tags": []
   },
   "outputs": [],
   "source": [
    "for floor in eda_floor:        \n",
    "    temp_df = globals()[f'test_df_{floor}'].copy()    \n",
    "    temp_df['날짜'] = pd.to_datetime(temp_df['시간']).dt.normalize()\n",
    "    \n",
    "    ## 공조기와 냉난방기가 가동중일 때의 데이터만 필터링    \n",
    "    temp_df['AHU_on'] = np.where(temp_df['급기휀상태'] > 0 , 1, 0)    \n",
    "\n",
    "    ## 상승하는 추세의 데이터만 출력\n",
    "    temp_df['temper_raise'] = np.where(temp_df['환기온도'] - temp_df['환기온도'].shift(1) > 0, 1, 0)\n",
    "\n",
    "    ## 직전 데이터 출력\n",
    "    time_temp = temp_df[(temp_df['AHU_on'] == 1) & (temp_df['temper_raise'] == 1)].groupby('날짜')['시간'].min() - datetime.timedelta(minutes = 15)\n",
    "    time_temp = time_temp.reset_index()\n",
    "    temp_df['temper_raise'] = np.where(temp_df['시간'].isin(time_temp['시간']), 1, temp_df['temper_raise'])\n",
    "    temp_df['AHU_on'] = np.where(temp_df['시간'].isin(time_temp['시간']), 1, temp_df['AHU_on'])\n",
    "\n",
    "    ## 감소추세 직전 데이터 필터링 (상승 후 감소하는 시점 제외)\n",
    "    filter_df = pd.DataFrame()\n",
    "    for date in temp_df['날짜'].unique():\n",
    "        temp_df_2 = temp_df[temp_df['날짜'] == date].copy()\n",
    "        temp_df_2 = temp_df_2[(temp_df_2['AHU_on'] == 1) & (temp_df_2['temper_raise'] == 1)].reset_index(drop = True)        \n",
    "        temp_df_2['time_diff'] = temp_df_2['시간'] - temp_df_2['시간'].shift(1)\n",
    "        \n",
    "        temp_df_2['time_diff'] = temp_df_2['time_diff'].astype(\"timedelta64[m]\")\n",
    "        if temp_df_2[temp_df_2['time_diff'] > 15].shape[0] > 0:\n",
    "            temp_df_2 = temp_df_2[temp_df_2['시간'] < temp_df_2[temp_df_2['time_diff'] > 15]['시간'].min()]    \n",
    "        filter_df = pd.concat([filter_df, temp_df_2])    \n",
    "    valid_df = pd.merge(filter_df.groupby(['날짜'])['환기온도'].min(), filter_df.groupby(['날짜'])['환기온도'].max(), left_index = True, right_index = True)\n",
    "    valid_df = pd.merge(valid_df, filter_df.groupby(['날짜'])['급기휀상태'].sum(), left_index = True, right_index = True)\n",
    "    valid_df.columns = ['시작온도', '목표온도', '가동시간']\n",
    "    valid_df.reset_index(drop = False, inplace = True)\n",
    "    globals()[f'valid_df_{floor}'] = valid_df.copy()"
   ]
  },
  {
   "cell_type": "markdown",
   "id": "b9019c85-0163-4149-9136-5f586a9d48bd",
   "metadata": {
    "tags": []
   },
   "source": [
    "## Pre-Processing to Prediction"
   ]
  },
  {
   "cell_type": "code",
   "execution_count": 231,
   "id": "60153ccc-5b86-40f7-9f1b-ef22b00728d9",
   "metadata": {
    "tags": []
   },
   "outputs": [],
   "source": [
    "def daily_sliding(orig_df, LOOK_BACK, FORECAST_RANGE):\n",
    "    start_idx = 0\n",
    "    end_idx = LOOK_BACK\n",
    "    df_x = pd.DataFrame()\n",
    "    df_y = pd.DataFrame()\n",
    "    while end_idx < len(orig_df):    \n",
    "        temp_x = pd.DataFrame(np.reshape(orig_df[start_idx:end_idx][['환기온도']].values, (-1, LOOK_BACK)))\n",
    "        temp_y = pd.DataFrame(np.reshape(orig_df[end_idx:end_idx+FORECAST_RANGE][['환기온도']].values, (-1, FORECAST_RANGE)))\n",
    "        df_x = pd.concat([df_x, temp_x])\n",
    "        df_y = pd.concat([df_y, temp_y])\n",
    "        start_idx += 96\n",
    "        end_idx += 96\n",
    "    df_x.columns = [str(i) for i in list(df_x)]\n",
    "    df_y.columns = [str(i) for i in list(df_y)]\n",
    "    df_x.reset_index(drop = True, inplace = True)\n",
    "    df_y.reset_index(drop = True, inplace = True)\n",
    "    return df_x.values, df_y.values"
   ]
  },
  {
   "cell_type": "code",
   "execution_count": 232,
   "id": "68710fdb-bbb5-4cc9-b271-d83e71d9d166",
   "metadata": {
    "tags": []
   },
   "outputs": [
    {
     "name": "stdout",
     "output_type": "stream",
     "text": [
      "(18, 672) (18, 96)\n",
      "(18, 672) (18, 96)\n",
      "(18, 672) (18, 96)\n"
     ]
    }
   ],
   "source": [
    "LOOK_BACK = 672\n",
    "FORECAST_RANGE = 96\n",
    "\n",
    "for floor in eda_floor:\n",
    "    globals()[f'test_x_{floor}'], globals()[f'test_y_{floor}'] = daily_sliding(globals()[f'test_df_{floor}'], LOOK_BACK, FORECAST_RANGE)\n",
    "    print(globals()[f'test_x_{floor}'].shape, globals()[f'test_y_{floor}'].shape)\n",
    "    \n",
    "    globals()[f'test_df_{floor}']['날짜'] = pd.to_datetime(globals()[f'test_df_{floor}']['시간']).dt.normalize()\n",
    "    globals()[f'test_date_{floor}'] = globals()[f'test_df_{floor}']['날짜'].unique()\n",
    "    globals()[f'test_date_{floor}'].sort()\n",
    "    globals()[f'test_x_{floor}'] = pd.DataFrame(index = globals()[f'test_date_{floor}'][7:], data = globals()[f'test_x_{floor}'])"
   ]
  },
  {
   "cell_type": "markdown",
   "id": "406b6f32-876d-4edd-98e0-ebd65abf0dbc",
   "metadata": {
    "tags": []
   },
   "source": [
    "## Model Load & Prediction"
   ]
  },
  {
   "cell_type": "code",
   "execution_count": 233,
   "id": "bda88a3d-6da7-487a-894b-f4570566b92f",
   "metadata": {
    "tags": []
   },
   "outputs": [],
   "source": [
    "def time_results(floor, date):\n",
    "    test_x_values = globals()[f'test_x_{floor}']\n",
    "    test_x_values = test_x_values[test_x_values.index == date].values\n",
    "    test_x_values = np.reshape(test_x_values, (test_x_values.shape[0], test_x_values.shape[1], -1))        \n",
    "    model = load_model('lstm_model.h5', compile = False)\n",
    "\n",
    "    pred = model.predict(test_x_values)\n",
    "    pred = pd.DataFrame(columns = ['temper'], data = pred.flatten())\n",
    "    pred['time'] = pd.date_range(date, periods=96, freq='15min')\n",
    "    pred['temper_raise'] = np.where(pred['temper'] - pred['temper'].shift(1) > 0, 1, 0)\n",
    "    pred['hour'] = pred['time'].dt.hour\n",
    "    return pred"
   ]
  },
  {
   "cell_type": "markdown",
   "id": "cba58703-3d9e-4337-91e4-9492880dd16a",
   "metadata": {
    "tags": []
   },
   "source": [
    "## Get Operation Time"
   ]
  },
  {
   "cell_type": "code",
   "execution_count": 412,
   "id": "07fc3cc4-71a2-45ef-81af-2172b939d882",
   "metadata": {
    "tags": []
   },
   "outputs": [],
   "source": [
    "def get_time(now_temper, pred):    \n",
    "    if (now_temper >= pred['temper'].min()) & (now_temper <= pred['temper'].max()): ## 타겟 온도가 pred 범위 안에 있을 경우 실행\n",
    "        pred['now_diff'] = abs(pred['temper'] - now_temper) ## (타겟온도 - 예측값)의 절대값 계산\n",
    "        temp_df = pd.DataFrame(columns = list(pred))\n",
    "        temp_df = temp_df.append(pred[pred['now_diff'] == pred[pred['temper'] >= now_temper]['now_diff'].min()]) ## 타겟 온도보다 크면서 차이가 가장 적은 값\n",
    "        temp_df = temp_df.append(pred[pred['now_diff'] == pred[pred['temper'] <= now_temper]['now_diff'].min()]) ## 타겟 온도보다 작으면서 차이가 가장 적은 값        \n",
    "    elif now_temper < pred['temper'].min(): ## 타겟 온도가 Pred 범위보다 작을 경우\n",
    "        temp_df = pred[pred['temper'].shift(1) / pred['temper'] <=0.95].head(2)  \n",
    "    elif now_temper > pred['temper'].max(): ## 타겟 온도가 Pred 범위보다 클 경우                                \n",
    "        temp_df = pred[pred['temper'].shift(1) / pred['temper'] <=0.95].tail(2)  \n",
    "\n",
    "    temp_df.sort_values('time', inplace = True)\n",
    "    temp_df.reset_index(drop = True, inplace = True)\n",
    "    add_time = 0 + (1-0) * (now_temper-temp_df.loc[0]['temper']) / (temp_df.loc[1]['temper'] - temp_df.loc[0]['temper'])    \n",
    "    temp_df.loc[len(temp_df),'temper'] = now_temper\n",
    "    temp_df.sort_values('temper', inplace = True)\n",
    "    temp_df.reset_index(drop = True, inplace = True)     \n",
    "\n",
    "    \n",
    "    if temp_df['temper'].nunique() == 1:\n",
    "        return temp_df.loc[0]['time']\n",
    "    elif now_temper < pred['temper'].min(): ## 타겟 온도가 Pred 범위보다 작을 경우\n",
    "        return temp_df.loc[temp_df[temp_df['temper'] == now_temper].index[0] + 1]['time'] + datetime.timedelta(minutes = 15 * (add_time - 1))\n",
    "    else:    \n",
    "        return temp_df.loc[temp_df[temp_df['temper'] == now_temper].index[0] - 1]['time'] + datetime.timedelta(minutes = 15 * (add_time - 1))"
   ]
  },
  {
   "cell_type": "markdown",
   "id": "d458ae91-9a2f-48c5-9912-2730d3072ba0",
   "metadata": {
    "tags": []
   },
   "source": [
    "## Test Results"
   ]
  },
  {
   "cell_type": "code",
   "execution_count": 413,
   "id": "1c7ea5ef-4bbe-42f3-be31-9e4f305752d7",
   "metadata": {
    "tags": []
   },
   "outputs": [
    {
     "data": {
      "text/plain": [
       "Timestamp('2022-12-14 09:34:52.857308')"
      ]
     },
     "execution_count": 413,
     "metadata": {},
     "output_type": "execute_result"
    }
   ],
   "source": [
    "date = '2022-12-14'\n",
    "floor = '3F'\n",
    "pred = time_results(floor, date)\n",
    "\n",
    "## 감소추세 직전 데이터 필터링 (상승 후 감소하는 시점 제외)\n",
    "pred = pred[pred['hour'] >= 5].copy()\n",
    "pred = pred[pred['temper_raise'] == 1].reset_index(drop = True)\n",
    "pred['time_diff'] = pred['time'] - pred['time'].shift(1)\n",
    "pred['time_diff'] = pred['time_diff'].astype(\"timedelta64[m]\")\n",
    "if pred[pred['time_diff'] > 15].shape[0] > 0:\n",
    "    pred = pred[pred['time'] < pred[pred['time_diff'] > 15]['time'].min()]      \n",
    "pred['temper'] = round(pred['temper'],2)\n",
    "\n",
    "valid_df = globals()[f'valid_df_{floor}'].copy()\n",
    "valid_df = valid_df[valid_df['날짜'] == date]\n",
    "\n",
    "get_time(valid_df['목표온도'].values[0], pred)\n",
    "# diff = datetime.datetime.strptime(str(get_time(valid_df['목표온도'].values[0], pred))[:19],\"%Y-%m-%d %H:%M:%S\") - datetime.datetime.strptime(str(get_time(valid_df['시작온도'].values[0], pred))[:19],\"%Y-%m-%d %H:%M:%S\")\n",
    "\n",
    "# pred_time = diff.total_seconds() / 60\n",
    "# oper_time = valid_df['가동시간'].values[0]\n",
    "# print(f\"prediction time : {pred_time}\")\n",
    "# print(f\"operation time : {oper_time}\")\n",
    "# print(f\"error : {abs(oper_time - pred_time)}\")"
   ]
  },
  {
   "cell_type": "markdown",
   "id": "16a67f3c-5fc7-4a41-b9ce-b9c8d6b2251a",
   "metadata": {},
   "source": [
    "## Total Performance"
   ]
  },
  {
   "cell_type": "code",
   "execution_count": 422,
   "id": "4d16c8f0-9e0f-42af-a027-7ab4e88c6829",
   "metadata": {
    "tags": []
   },
   "outputs": [
    {
     "data": {
      "text/plain": [
       "7.7116434334352135"
      ]
     },
     "execution_count": 422,
     "metadata": {},
     "output_type": "execute_result"
    }
   ],
   "source": [
    "from sklearn.metrics import mean_absolute_error\n",
    "np.sqrt(mean_absolute_error(oper_2F, pred_2F))"
   ]
  },
  {
   "cell_type": "code",
   "execution_count": 438,
   "id": "f21411e1-fe54-478a-85d6-b813560654bb",
   "metadata": {
    "tags": []
   },
   "outputs": [
    {
     "data": {
      "image/png": "[encoded data removed]",
      "text/plain": [
       "<Figure size 1080x144 with 1 Axes>"
      ]
     },
     "metadata": {
      "needs_background": "light"
     },
     "output_type": "display_data"
    }
   ],
   "source": [
    "floor = '3F'\n",
    "plt.figure(figsize = (15,2))\n",
    "plt.plot(globals()[f'oper_{floor}'])\n",
    "plt.plot(globals()[f'pred_{floor}'])\n",
    "# plt.plot(globals()[f'error_{floor}'])\n",
    "plt.show()"
   ]
  },
  {
   "cell_type": "code",
   "execution_count": 426,
   "id": "1f308470-54f0-4589-b200-bb1df7a81a7b",
   "metadata": {
    "tags": []
   },
   "outputs": [
    {
     "data": {
      "text/plain": [
       "3.6999999999999886"
      ]
     },
     "execution_count": 426,
     "metadata": {},
     "output_type": "execute_result"
    }
   ],
   "source": [
    "min(error_2F)"
   ]
  },
  {
   "cell_type": "code",
   "execution_count": 427,
   "id": "9bfe457b-1d30-4b6f-9955-332db162cab5",
   "metadata": {
    "tags": []
   },
   "outputs": [
    {
     "data": {
      "text/plain": [
       "141.53333333333333"
      ]
     },
     "execution_count": 427,
     "metadata": {},
     "output_type": "execute_result"
    }
   ],
   "source": [
    "max(error_2F)"
   ]
  },
  {
   "cell_type": "code",
   "execution_count": 437,
   "id": "f48729db-93fd-49d2-bc17-6da46eb3a176",
   "metadata": {},
   "outputs": [
    {
     "name": "stdout",
     "output_type": "stream",
     "text": [
      "2022-12-07 00:00:00\n",
      "2022-12-07 08:26:50.050471\n",
      "2022-12-07 06:46:14.117816\n",
      "prediction time : 100.6\n",
      "operation time : 55.0\n",
      "error : 45.599999999999994 \n",
      "\n",
      "2022-12-08 00:00:00\n",
      "2022-12-08 08:29:21.905077\n",
      "2022-12-08 06:48:49.999678\n",
      "prediction time : 100.53333333333333\n",
      "operation time : 43.0\n",
      "error : 57.53333333333333 \n",
      "\n",
      "2022-12-09 00:00:00\n",
      "2022-12-09 08:29:55.852725\n",
      "2022-12-09 07:08:42.377799\n",
      "prediction time : 81.21666666666667\n",
      "operation time : 57.0\n",
      "error : 24.21666666666667 \n",
      "\n",
      "2022-12-12 00:00:00\n",
      "2022-12-12 08:43:21.562016\n",
      "2022-12-12 06:37:58.529529\n",
      "prediction time : 125.38333333333334\n",
      "operation time : 87.0\n",
      "error : 38.38333333333334 \n",
      "\n",
      "2022-12-13 00:00:00\n",
      "2022-12-13 08:45:49.606065\n",
      "2022-12-13 06:57:22.500595\n",
      "prediction time : 108.45\n",
      "operation time : 70.0\n",
      "error : 38.45 \n",
      "\n",
      "2022-12-14 00:00:00\n",
      "2022-12-14 09:34:52.857308\n",
      "2022-12-14 04:38:57.094714\n",
      "prediction time : 295.9166666666667\n",
      "operation time : 73.0\n",
      "error : 222.91666666666669 \n",
      "\n",
      "2022-12-15 00:00:00\n",
      "2022-12-15 09:00:11.539126\n",
      "2022-12-15 06:30:25.713575\n",
      "prediction time : 149.76666666666668\n",
      "operation time : 82.0\n",
      "error : 67.76666666666668 \n",
      "\n",
      "2022-12-16 00:00:00\n",
      "2022-12-16 09:14:53.024315\n",
      "2022-12-16 06:39:06.065630\n",
      "prediction time : 155.78333333333333\n",
      "operation time : 73.0\n",
      "error : 82.78333333333333 \n",
      "\n",
      "2022-12-19 00:00:00\n",
      "2022-12-19 10:00:00\n",
      "2022-12-19 05:28:30.639627\n",
      "prediction time : 271.5\n",
      "operation time : 74.0\n",
      "error : 197.5 \n",
      "\n",
      "2022-12-20 00:00:00\n",
      "2022-12-20 08:55:26.204310\n",
      "2022-12-20 06:42:18.949341\n",
      "prediction time : 133.13333333333333\n",
      "operation time : 89.0\n",
      "error : 44.133333333333326 \n",
      "\n",
      "2022-12-21 00:00:00\n",
      "2022-12-21 08:26:02.437093\n",
      "2022-12-21 06:34:04.857784\n",
      "prediction time : 111.96666666666667\n",
      "operation time : 72.0\n",
      "error : 39.96666666666667 \n",
      "\n",
      "2022-12-22 00:00:00\n",
      "2022-12-22 09:02:43.637953\n",
      "2022-12-22 06:33:59.075202\n",
      "prediction time : 148.73333333333332\n",
      "operation time : 68.0\n",
      "error : 80.73333333333332 \n",
      "\n",
      "2022-12-23 00:00:00\n",
      "2022-12-23 08:55:58.209393\n",
      "2022-12-23 03:31:09.951883\n",
      "prediction time : 324.81666666666666\n",
      "operation time : 88.0\n",
      "error : 236.81666666666666 \n",
      "\n",
      "2022-12-26 00:00:00\n",
      "2022-12-26 09:09:29.725254\n",
      "2022-12-26 06:53:57.000052\n"
     ]
    },
    {
     "name": "stderr",
     "output_type": "stream",
     "text": [
      "<ipython-input-412-cb698de35ca6>:14: RuntimeWarning: divide by zero encountered in double_scalars\n",
      "  add_time = 0 + (1-0) * (now_temper-temp_df.loc[0]['temper']) / (temp_df.loc[1]['temper'] - temp_df.loc[0]['temper'])\n",
      "<ipython-input-412-cb698de35ca6>:14: RuntimeWarning: divide by zero encountered in double_scalars\n",
      "  add_time = 0 + (1-0) * (now_temper-temp_df.loc[0]['temper']) / (temp_df.loc[1]['temper'] - temp_df.loc[0]['temper'])\n"
     ]
    },
    {
     "name": "stdout",
     "output_type": "stream",
     "text": [
      "prediction time : 135.53333333333333\n",
      "operation time : 60.0\n",
      "error : 75.53333333333333 \n",
      "\n",
      "2022-12-27 00:00:00\n",
      "2022-12-27 08:49:59.999237\n",
      "2022-12-27 06:45:06.081891\n",
      "prediction time : 124.88333333333334\n",
      "operation time : 101.0\n",
      "error : 23.88333333333334 \n",
      "\n",
      "2022-12-28 00:00:00\n",
      "2022-12-28 08:34:17.141491\n",
      "2022-12-28 06:03:25.240174\n",
      "prediction time : 150.86666666666667\n",
      "operation time : 72.0\n",
      "error : 78.86666666666667 \n",
      "\n",
      "2022-12-29 00:00:00\n",
      "2022-12-29 08:41:03.158817\n",
      "2022-12-29 06:28:18.262055\n",
      "prediction time : 132.75\n",
      "operation time : 91.0\n",
      "error : 41.75 \n",
      "\n",
      "2022-12-30 00:00:00\n",
      "2022-12-30 08:23:31.765688\n",
      "2022-12-30 06:18:03.065600\n",
      "prediction time : 125.46666666666667\n",
      "operation time : 51.0\n",
      "error : 74.46666666666667 \n",
      "\n"
     ]
    }
   ],
   "source": [
    "floor = '3F'\n",
    "\n",
    "valid_df = globals()[f'valid_df_{floor}'].copy()\n",
    "\n",
    "test_x_values = globals()[f'test_x_{floor}'].values\n",
    "test_x_values = np.reshape(test_x_values, (test_x_values.shape[0], test_x_values.shape[1], -1))        \n",
    "model = load_model('lstm_model.h5', compile = False)\n",
    "pred = model.predict(test_x_values)\n",
    "pred = pd.DataFrame(index = globals()[f'test_x_{floor}'].index, data = pred.reshape(pred.shape[0],pred.shape[1]))\n",
    "pred = pred.T\n",
    "\n",
    "globals()[f'oper_{floor}'] = []\n",
    "globals()[f'pred_{floor}'] = []\n",
    "globals()[f'error_{floor}'] = []\n",
    "\n",
    "for col in list(pred):\n",
    "    print(col)\n",
    "    temp_df = pred[[col]].copy()\n",
    "    temp_df.rename(columns = {col : 'temper'}, inplace = True)\n",
    "    temp_df['time'] = pd.date_range(col, periods=96, freq='15min')\n",
    "    temp_df['temper_raise'] = np.where(temp_df['temper'] - temp_df['temper'].shift(1) > 0, 1, 0)\n",
    "    temp_df['hour'] = temp_df['time'].dt.hour\n",
    "    \n",
    "    ## 감소추세 직전 데이터 필터링 (상승 후 감소하는 시점 제외)\n",
    "    temp_df = temp_df[temp_df['hour'] >= 5].copy()\n",
    "    temp_df = temp_df[temp_df['temper_raise'] == 1].reset_index(drop = True)\n",
    "    temp_df['time_diff'] = temp_df['time'] - temp_df['time'].shift(1)\n",
    "    temp_df['time_diff'] = temp_df['time_diff'].astype(\"timedelta64[m]\")\n",
    "    if temp_df[temp_df['time_diff'] > 15].shape[0] > 0:\n",
    "        temp_df = temp_df[temp_df['time'] < temp_df[temp_df['time_diff'] > 15]['time'].min()]     \n",
    "    \n",
    "    temp_df['temper'] = round(temp_df['temper'],2)\n",
    "    ## Performance Check\n",
    "    temp_valid = valid_df[valid_df['날짜'] == col]            \n",
    "    print(get_time(temp_valid['목표온도'].values[0], temp_df))\n",
    "    print(get_time(temp_valid['시작온도'].values[0], temp_df))    \n",
    "    diff = datetime.datetime.strptime(str(get_time(temp_valid['목표온도'].values[0], temp_df))[:19],\"%Y-%m-%d %H:%M:%S\") - datetime.datetime.strptime(str(get_time(temp_valid['시작온도'].values[0], temp_df))[:19],\"%Y-%m-%d %H:%M:%S\")\n",
    "\n",
    "    # print(\"\\n\")\n",
    "    pred_time = diff.total_seconds() / 60\n",
    "    oper_time = temp_valid['가동시간'].values[0]\n",
    "    globals()[f'oper_{floor}'].append(oper_time)\n",
    "    globals()[f'pred_{floor}'].append(pred_time)\n",
    "    globals()[f'error_{floor}'].append(oper_time - pred_time)\n",
    "    print(f\"prediction time : {pred_time}\")\n",
    "    print(f\"operation time : {oper_time}\")\n",
    "    print(f\"error : {abs(oper_time - pred_time)} \\n\")"
   ]
  },
  {
   "cell_type": "code",
   "execution_count": null,
   "id": "3459d54a-6a1c-4af5-8545-c3b7ab178be3",
   "metadata": {},
   "outputs": [],
   "source": []
  }
 ],
 "metadata": {
  "instance_type": "ml.g4dn.16xlarge",
  "kernelspec": {
   "display_name": "Python 3 (TensorFlow 2.6 Python 3.8 GPU Optimized)",
   "language": "python",
   "name": "python3__SAGEMAKER_INTERNAL__arn:aws:sagemaker:ap-northeast-2:806072073708:image/tensorflow-2.6-gpu-py38-cu112-ubuntu20.04-v1"
  },
  "language_info": {
   "codemirror_mode": {
    "name": "ipython",
    "version": 3
   },
   "file_extension": ".py",
   "mimetype": "text/x-python",
   "name": "python",
   "nbconvert_exporter": "python",
   "pygments_lexer": "ipython3",
   "version": "3.8.2"
  }
 },
 "nbformat": 4,
 "nbformat_minor": 5
}
