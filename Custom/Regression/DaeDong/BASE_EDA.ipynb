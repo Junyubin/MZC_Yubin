{
 "cells": [
  {
   "cell_type": "markdown",
   "id": "8103b8be-b466-4dc4-8945-dd20c071182d",
   "metadata": {
    "tags": []
   },
   "source": [
    "## Import Library"
   ]
  },
  {
   "cell_type": "code",
   "execution_count": 4,
   "id": "3fa005ef-d041-4c7e-aa35-3cffcd1e68fb",
   "metadata": {},
   "outputs": [],
   "source": [
    "# !pip install awswrangler -q"
   ]
  },
  {
   "cell_type": "code",
   "execution_count": 3,
   "id": "969126c5-0a97-4565-8f4c-c764b429ea6a",
   "metadata": {
    "tags": []
   },
   "outputs": [],
   "source": [
    "import awswrangler as wr\n",
    "import numpy as np\n",
    "import pandas as pd\n",
    "import json\n",
    "import gc"
   ]
  },
  {
   "cell_type": "markdown",
   "id": "d1c5d9fb-42b3-40dc-a4bd-da7cb1524e56",
   "metadata": {
    "tags": []
   },
   "source": [
    "## Load Data"
   ]
  },
  {
   "cell_type": "code",
   "execution_count": 4,
   "id": "73ba741b-96de-4359-96d7-9155c88a6913",
   "metadata": {
    "tags": []
   },
   "outputs": [],
   "source": [
    "## Change Data Format\n",
    "# monitor_hist = wr.s3.read_csv('s3://dd-ai-ml/raw_data/monitoring_history_202304241141.csv')\n",
    "# monitor_hist.to_parquet('s3://dd-ai-ml/preprocessing/monitoring_history_202304241141.parquet')\n",
    "# monitor_hist = wr.s3.read_parquet('s3://dd-ai-ml/preprocessing/monitoring_history_202304241141.parquet')\n",
    "# monitor_hist = pd.json_normalize(monitor_hist.data.apply(json.loads))\n",
    "# monitor_hist.to_csv('s3://dd-ai-ml/raw_data/preprocessing/parse_data.csv', index = False)"
   ]
  },
  {
   "cell_type": "code",
   "execution_count": 5,
   "id": "a7f99f2a-d36a-43f2-a41d-4bd27a49317f",
   "metadata": {
    "tags": []
   },
   "outputs": [
    {
     "name": "stdout",
     "output_type": "stream",
     "text": [
      "monitor_hist : (902910, 59)\n",
      "control_setting : (7, 15)\n",
      "controller : (6, 10)\n",
      "device : (28, 29)\n",
      "device_log : (214585, 15)\n",
      "gsm_info : (379, 37)\n"
     ]
    }
   ],
   "source": [
    "monitor_hist = wr.s3.read_csv('s3://dd-ai-ml/raw_data/preprocessing/parse_data.csv')\n",
    "control_setting = wr.s3.read_csv('s3://dd-ai-ml/raw_data/control_setting_202304241113.csv')\n",
    "controller = wr.s3.read_csv('s3://dd-ai-ml/raw_data/controller_202304241123.csv')\n",
    "device = wr.s3.read_csv('s3://dd-ai-ml/raw_data/device_202304241047.csv')\n",
    "device_log = wr.s3.read_csv('s3://dd-ai-ml/raw_data/device_control_log_202304241041.csv')\n",
    "gsm_info = wr.s3.read_csv('s3://dd-ai-ml/raw_data/gsm_info_202304241114.csv') ## 농가 정보\n",
    "\n",
    "print(f'monitor_hist : {monitor_hist.shape}')\n",
    "print(f'control_setting : {control_setting.shape}')\n",
    "print(f'controller : {controller.shape}')\n",
    "print(f'device : {device.shape}')\n",
    "print(f'device_log : {device_log.shape}')\n",
    "print(f'gsm_info : {gsm_info.shape}')"
   ]
  },
  {
   "cell_type": "code",
   "execution_count": 14,
   "id": "68ed1369-6c9f-4e84-bafa-f4dba3d6f6b3",
   "metadata": {
    "tags": []
   },
   "outputs": [
    {
     "data": {
      "text/html": [
       "<div>\n",
       "<style scoped>\n",
       "    .dataframe tbody tr th:only-of-type {\n",
       "        vertical-align: middle;\n",
       "    }\n",
       "\n",
       "    .dataframe tbody tr th {\n",
       "        vertical-align: top;\n",
       "    }\n",
       "\n",
       "    .dataframe thead th {\n",
       "        text-align: right;\n",
       "    }\n",
       "</style>\n",
       "<table border=\"1\" class=\"dataframe\">\n",
       "  <thead>\n",
       "    <tr style=\"text-align: right;\">\n",
       "      <th></th>\n",
       "      <th>seq</th>\n",
       "      <th>device_id</th>\n",
       "      <th>event_date</th>\n",
       "      <th>command</th>\n",
       "      <th>duration</th>\n",
       "      <th>actor</th>\n",
       "      <th>client_ip</th>\n",
       "      <th>reason</th>\n",
       "      <th>modbus_address1</th>\n",
       "      <th>modbus_address2</th>\n",
       "      <th>modbus_address3</th>\n",
       "      <th>run_command</th>\n",
       "      <th>block_reason</th>\n",
       "      <th>gsm_key</th>\n",
       "      <th>green_house_id</th>\n",
       "    </tr>\n",
       "  </thead>\n",
       "  <tbody>\n",
       "    <tr>\n",
       "      <th>0</th>\n",
       "      <td>18333577</td>\n",
       "      <td>6345000000001</td>\n",
       "      <td>2021-04-22 01:58:57</td>\n",
       "      <td>Stop</td>\n",
       "      <td>0</td>\n",
       "      <td>99616269</td>\n",
       "      <td>175.202.71.114</td>\n",
       "      <td>NaN</td>\n",
       "      <td>NaN</td>\n",
       "      <td>NaN</td>\n",
       "      <td>NaN</td>\n",
       "      <td>1</td>\n",
       "      <td>NaN</td>\n",
       "      <td>6345</td>\n",
       "      <td>NaN</td>\n",
       "    </tr>\n",
       "    <tr>\n",
       "      <th>1</th>\n",
       "      <td>18333578</td>\n",
       "      <td>6345000000001</td>\n",
       "      <td>2021-04-22 01:58:57</td>\n",
       "      <td>Stop</td>\n",
       "      <td>0</td>\n",
       "      <td>99616269</td>\n",
       "      <td>175.202.71.114</td>\n",
       "      <td>NaN</td>\n",
       "      <td>NaN</td>\n",
       "      <td>NaN</td>\n",
       "      <td>NaN</td>\n",
       "      <td>1</td>\n",
       "      <td>NaN</td>\n",
       "      <td>6345</td>\n",
       "      <td>NaN</td>\n",
       "    </tr>\n",
       "    <tr>\n",
       "      <th>2</th>\n",
       "      <td>18333579</td>\n",
       "      <td>6345000000001</td>\n",
       "      <td>2021-04-22 01:58:57</td>\n",
       "      <td>Close</td>\n",
       "      <td>40</td>\n",
       "      <td>99616269</td>\n",
       "      <td>175.202.71.114</td>\n",
       "      <td>NaN</td>\n",
       "      <td>NaN</td>\n",
       "      <td>NaN</td>\n",
       "      <td>NaN</td>\n",
       "      <td>1</td>\n",
       "      <td>NaN</td>\n",
       "      <td>6345</td>\n",
       "      <td>NaN</td>\n",
       "    </tr>\n",
       "    <tr>\n",
       "      <th>3</th>\n",
       "      <td>18333583</td>\n",
       "      <td>6345000000002</td>\n",
       "      <td>2021-04-22 01:59:09</td>\n",
       "      <td>Stop</td>\n",
       "      <td>0</td>\n",
       "      <td>99616269</td>\n",
       "      <td>175.202.71.114</td>\n",
       "      <td>NaN</td>\n",
       "      <td>NaN</td>\n",
       "      <td>NaN</td>\n",
       "      <td>NaN</td>\n",
       "      <td>1</td>\n",
       "      <td>NaN</td>\n",
       "      <td>6345</td>\n",
       "      <td>NaN</td>\n",
       "    </tr>\n",
       "    <tr>\n",
       "      <th>4</th>\n",
       "      <td>18333584</td>\n",
       "      <td>6345000000002</td>\n",
       "      <td>2021-04-22 01:59:09</td>\n",
       "      <td>Stop</td>\n",
       "      <td>0</td>\n",
       "      <td>99616269</td>\n",
       "      <td>175.202.71.114</td>\n",
       "      <td>NaN</td>\n",
       "      <td>NaN</td>\n",
       "      <td>NaN</td>\n",
       "      <td>NaN</td>\n",
       "      <td>1</td>\n",
       "      <td>NaN</td>\n",
       "      <td>6345</td>\n",
       "      <td>NaN</td>\n",
       "    </tr>\n",
       "  </tbody>\n",
       "</table>\n",
       "</div>"
      ],
      "text/plain": [
       "        seq      device_id           event_date command  duration     actor  \\\n",
       "0  18333577  6345000000001  2021-04-22 01:58:57    Stop         0  99616269   \n",
       "1  18333578  6345000000001  2021-04-22 01:58:57    Stop         0  99616269   \n",
       "2  18333579  6345000000001  2021-04-22 01:58:57   Close        40  99616269   \n",
       "3  18333583  6345000000002  2021-04-22 01:59:09    Stop         0  99616269   \n",
       "4  18333584  6345000000002  2021-04-22 01:59:09    Stop         0  99616269   \n",
       "\n",
       "        client_ip reason  modbus_address1  modbus_address2  modbus_address3  \\\n",
       "0  175.202.71.114    NaN              NaN              NaN              NaN   \n",
       "1  175.202.71.114    NaN              NaN              NaN              NaN   \n",
       "2  175.202.71.114    NaN              NaN              NaN              NaN   \n",
       "3  175.202.71.114    NaN              NaN              NaN              NaN   \n",
       "4  175.202.71.114    NaN              NaN              NaN              NaN   \n",
       "\n",
       "   run_command  block_reason  gsm_key  green_house_id  \n",
       "0            1           NaN     6345             NaN  \n",
       "1            1           NaN     6345             NaN  \n",
       "2            1           NaN     6345             NaN  \n",
       "3            1           NaN     6345             NaN  \n",
       "4            1           NaN     6345             NaN  "
      ]
     },
     "execution_count": 14,
     "metadata": {},
     "output_type": "execute_result"
    }
   ],
   "source": [
    "device_log.head()"
   ]
  },
  {
   "cell_type": "code",
   "execution_count": 10,
   "id": "bcba3d36-8fb7-4e9c-9aef-1672b8447f95",
   "metadata": {
    "tags": []
   },
   "outputs": [
    {
     "data": {
      "text/html": [
       "<div>\n",
       "<style scoped>\n",
       "    .dataframe tbody tr th:only-of-type {\n",
       "        vertical-align: middle;\n",
       "    }\n",
       "\n",
       "    .dataframe tbody tr th {\n",
       "        vertical-align: top;\n",
       "    }\n",
       "\n",
       "    .dataframe thead th {\n",
       "        text-align: right;\n",
       "    }\n",
       "</style>\n",
       "<table border=\"1\" class=\"dataframe\">\n",
       "  <thead>\n",
       "    <tr style=\"text-align: right;\">\n",
       "      <th></th>\n",
       "      <th>id</th>\n",
       "      <th>gsm_key</th>\n",
       "      <th>green_house_id</th>\n",
       "      <th>logic_name</th>\n",
       "      <th>logic_id</th>\n",
       "      <th>logic_period_size</th>\n",
       "      <th>logic_env</th>\n",
       "      <th>logic_period_env</th>\n",
       "      <th>create_dt</th>\n",
       "      <th>update_dt</th>\n",
       "      <th>auto_manual_mode</th>\n",
       "      <th>java_class_name</th>\n",
       "      <th>control_status</th>\n",
       "      <th>view_order</th>\n",
       "      <th>update_system</th>\n",
       "    </tr>\n",
       "  </thead>\n",
       "  <tbody>\n",
       "    <tr>\n",
       "      <th>0</th>\n",
       "      <td>6345000000001</td>\n",
       "      <td>6345</td>\n",
       "      <td>6345000000001</td>\n",
       "      <td>1중창</td>\n",
       "      <td>56</td>\n",
       "      <td>0</td>\n",
       "      <td>{\"close_temperature\":null,\"condition\":null,\"ma...</td>\n",
       "      <td>[]</td>\n",
       "      <td>2020-12-17 11:23:22</td>\n",
       "      <td>2022-09-22 08:31:41</td>\n",
       "      <td>auto</td>\n",
       "      <td>WindowRainSgController</td>\n",
       "      <td>NaN</td>\n",
       "      <td>1</td>\n",
       "      <td>supervisor</td>\n",
       "    </tr>\n",
       "    <tr>\n",
       "      <th>1</th>\n",
       "      <td>6345000000002</td>\n",
       "      <td>6345</td>\n",
       "      <td>6345000000001</td>\n",
       "      <td>보온-상</td>\n",
       "      <td>60</td>\n",
       "      <td>0</td>\n",
       "      <td>{\"condition\":null,\"max_position\":null,\"relativ...</td>\n",
       "      <td>[{\"condition\":\"3\",\"relative_time\":\"2020-12-16T...</td>\n",
       "      <td>2020-12-17 11:23:22</td>\n",
       "      <td>2022-07-10 05:52:36</td>\n",
       "      <td>manual</td>\n",
       "      <td>DCTimeController</td>\n",
       "      <td>NaN</td>\n",
       "      <td>4</td>\n",
       "      <td>supervisor</td>\n",
       "    </tr>\n",
       "    <tr>\n",
       "      <th>2</th>\n",
       "      <td>6345000000003</td>\n",
       "      <td>6345</td>\n",
       "      <td>6345000000001</td>\n",
       "      <td>보온-하</td>\n",
       "      <td>60</td>\n",
       "      <td>0</td>\n",
       "      <td>{\"condition\":null,\"max_position\":null,\"relativ...</td>\n",
       "      <td>[{\"condition\":\"3\",\"relative_time\":\"2020-12-16T...</td>\n",
       "      <td>2020-12-17 11:23:22</td>\n",
       "      <td>2022-04-19 14:09:22</td>\n",
       "      <td>manual</td>\n",
       "      <td>DCTimeController</td>\n",
       "      <td>NaN</td>\n",
       "      <td>5</td>\n",
       "      <td>supervisor</td>\n",
       "    </tr>\n",
       "    <tr>\n",
       "      <th>3</th>\n",
       "      <td>6345000000004</td>\n",
       "      <td>6345</td>\n",
       "      <td>6345000000001</td>\n",
       "      <td>2중창-하</td>\n",
       "      <td>59</td>\n",
       "      <td>0</td>\n",
       "      <td>{\"close_temperature\":null,\"condition\":null,\"ma...</td>\n",
       "      <td>[{\"condition\":\"1\",\"relative_time\":\"2020-12-16T...</td>\n",
       "      <td>2020-12-17 11:23:23</td>\n",
       "      <td>2022-04-19 15:06:08</td>\n",
       "      <td>manual</td>\n",
       "      <td>DCTempCondControlller</td>\n",
       "      <td>NaN</td>\n",
       "      <td>3</td>\n",
       "      <td>supervisor</td>\n",
       "    </tr>\n",
       "    <tr>\n",
       "      <th>4</th>\n",
       "      <td>6345000000005</td>\n",
       "      <td>6345</td>\n",
       "      <td>6345000000001</td>\n",
       "      <td>2중창-상</td>\n",
       "      <td>59</td>\n",
       "      <td>0</td>\n",
       "      <td>{\"close_temperature\":null,\"condition\":null,\"ma...</td>\n",
       "      <td>[{\"condition\":\"2\",\"relative_time\":\"2020-12-16T...</td>\n",
       "      <td>2020-12-17 11:23:23</td>\n",
       "      <td>2022-04-20 12:14:02</td>\n",
       "      <td>manual</td>\n",
       "      <td>DCTempCondControlller</td>\n",
       "      <td>NaN</td>\n",
       "      <td>2</td>\n",
       "      <td>supervisor</td>\n",
       "    </tr>\n",
       "    <tr>\n",
       "      <th>5</th>\n",
       "      <td>6345000000006</td>\n",
       "      <td>6345</td>\n",
       "      <td>6345000000001</td>\n",
       "      <td>유동팬</td>\n",
       "      <td>14</td>\n",
       "      <td>0</td>\n",
       "      <td>{\"condition\":null,\"operation_hum\":null,\"operat...</td>\n",
       "      <td>[{\"condition\":\"3\",\"relative_start_time\":\"2020-...</td>\n",
       "      <td>2020-12-17 11:23:23</td>\n",
       "      <td>2022-09-29 16:38:49</td>\n",
       "      <td>auto</td>\n",
       "      <td>FloatFanController</td>\n",
       "      <td>NaN</td>\n",
       "      <td>6</td>\n",
       "      <td>supervisor</td>\n",
       "    </tr>\n",
       "    <tr>\n",
       "      <th>6</th>\n",
       "      <td>6345000000007</td>\n",
       "      <td>6345</td>\n",
       "      <td>6345000000001</td>\n",
       "      <td>천창팬</td>\n",
       "      <td>11</td>\n",
       "      <td>0</td>\n",
       "      <td>{\"condition\":null,\"operation_temperature\":null...</td>\n",
       "      <td>[{\"period\":1,\"condition\":\"3\",\"relative_start_t...</td>\n",
       "      <td>2020-12-17 11:23:23</td>\n",
       "      <td>2022-04-19 15:06:08</td>\n",
       "      <td>manual</td>\n",
       "      <td>ExhaustFanController</td>\n",
       "      <td>NaN</td>\n",
       "      <td>7</td>\n",
       "      <td>supervisor</td>\n",
       "    </tr>\n",
       "  </tbody>\n",
       "</table>\n",
       "</div>"
      ],
      "text/plain": [
       "              id  gsm_key  green_house_id logic_name  logic_id  \\\n",
       "0  6345000000001     6345   6345000000001        1중창        56   \n",
       "1  6345000000002     6345   6345000000001       보온-상        60   \n",
       "2  6345000000003     6345   6345000000001       보온-하        60   \n",
       "3  6345000000004     6345   6345000000001      2중창-하        59   \n",
       "4  6345000000005     6345   6345000000001      2중창-상        59   \n",
       "5  6345000000006     6345   6345000000001        유동팬        14   \n",
       "6  6345000000007     6345   6345000000001        천창팬        11   \n",
       "\n",
       "   logic_period_size                                          logic_env  \\\n",
       "0                  0  {\"close_temperature\":null,\"condition\":null,\"ma...   \n",
       "1                  0  {\"condition\":null,\"max_position\":null,\"relativ...   \n",
       "2                  0  {\"condition\":null,\"max_position\":null,\"relativ...   \n",
       "3                  0  {\"close_temperature\":null,\"condition\":null,\"ma...   \n",
       "4                  0  {\"close_temperature\":null,\"condition\":null,\"ma...   \n",
       "5                  0  {\"condition\":null,\"operation_hum\":null,\"operat...   \n",
       "6                  0  {\"condition\":null,\"operation_temperature\":null...   \n",
       "\n",
       "                                    logic_period_env            create_dt  \\\n",
       "0                                                 []  2020-12-17 11:23:22   \n",
       "1  [{\"condition\":\"3\",\"relative_time\":\"2020-12-16T...  2020-12-17 11:23:22   \n",
       "2  [{\"condition\":\"3\",\"relative_time\":\"2020-12-16T...  2020-12-17 11:23:22   \n",
       "3  [{\"condition\":\"1\",\"relative_time\":\"2020-12-16T...  2020-12-17 11:23:23   \n",
       "4  [{\"condition\":\"2\",\"relative_time\":\"2020-12-16T...  2020-12-17 11:23:23   \n",
       "5  [{\"condition\":\"3\",\"relative_start_time\":\"2020-...  2020-12-17 11:23:23   \n",
       "6  [{\"period\":1,\"condition\":\"3\",\"relative_start_t...  2020-12-17 11:23:23   \n",
       "\n",
       "             update_dt auto_manual_mode         java_class_name  \\\n",
       "0  2022-09-22 08:31:41             auto  WindowRainSgController   \n",
       "1  2022-07-10 05:52:36           manual        DCTimeController   \n",
       "2  2022-04-19 14:09:22           manual        DCTimeController   \n",
       "3  2022-04-19 15:06:08           manual   DCTempCondControlller   \n",
       "4  2022-04-20 12:14:02           manual   DCTempCondControlller   \n",
       "5  2022-09-29 16:38:49             auto      FloatFanController   \n",
       "6  2022-04-19 15:06:08           manual    ExhaustFanController   \n",
       "\n",
       "   control_status  view_order update_system  \n",
       "0             NaN           1    supervisor  \n",
       "1             NaN           4    supervisor  \n",
       "2             NaN           5    supervisor  \n",
       "3             NaN           3    supervisor  \n",
       "4             NaN           2    supervisor  \n",
       "5             NaN           6    supervisor  \n",
       "6             NaN           7    supervisor  "
      ]
     },
     "execution_count": 10,
     "metadata": {},
     "output_type": "execute_result"
    }
   ],
   "source": [
    "control_setting"
   ]
  },
  {
   "cell_type": "markdown",
   "id": "2c5fdfd6-b9c1-4996-ad42-61e6a02a553a",
   "metadata": {
    "tags": []
   },
   "source": [
    "## Data Filltering on gsm_key"
   ]
  },
  {
   "cell_type": "code",
   "execution_count": 5,
   "id": "7953c933-f07c-47ce-917f-532fe558eebb",
   "metadata": {
    "tags": []
   },
   "outputs": [
    {
     "name": "stdout",
     "output_type": "stream",
     "text": [
      "monitor_hist : (902910, 59)\n",
      "control_setting : (7, 15)\n",
      "controller : (6, 10)\n",
      "device : (28, 29)\n",
      "device_log : (214585, 15)\n",
      "gsm_info : (1, 37)\n"
     ]
    }
   ],
   "source": [
    "## gsm_key == 6345 (정읍_박인식)\n",
    "monitor_hist = monitor_hist[monitor_hist['gsm_key'] == 6345]\n",
    "control_setting = control_setting[control_setting['gsm_key'] == 6345]\n",
    "controller = controller[controller['gsm_key'] == 6345]\n",
    "device = device[device['gsm_key'] == 6345]\n",
    "device_log = device_log[device_log['gsm_key'] == 6345]\n",
    "gsm_info = gsm_info[gsm_info['gsm_key'] == 6345]\n",
    "\n",
    "print(f'monitor_hist : {monitor_hist.shape}')\n",
    "print(f'control_setting : {control_setting.shape}')\n",
    "print(f'controller : {controller.shape}')\n",
    "print(f'device : {device.shape}')\n",
    "print(f'device_log : {device_log.shape}')\n",
    "print(f'gsm_info : {gsm_info.shape}')"
   ]
  },
  {
   "cell_type": "code",
   "execution_count": 10,
   "id": "2395f5dc-1cbf-4732-8c6f-b609b97df598",
   "metadata": {
    "tags": []
   },
   "outputs": [
    {
     "name": "stdout",
     "output_type": "stream",
     "text": [
      "['1중창' '보온-상' '보온-하' '2중창-하' '2중창-상' '유동팬' '천창팬']\n",
      "['1중창[좌]' '1중창[우]' '2중창[상]' '2중창[하]' '제어기전원' '주전원' '보온[상]' '보온[하]' '유동팬'\n",
      " '천창팬' '온도1' '습도1' '지온1' '지습1' 'CO2-1' '온도2' '습도2' '지온2' '지습2' 'CO2-2'\n",
      " '감우' '광량' '습도' '외온' '풍속' '풍향' '평균온도' '평균습도']\n"
     ]
    }
   ],
   "source": [
    "## 동일한 의미를 갖나, 표현하는 방식이 다름\n",
    "print(control_setting['logic_name'].unique())\n",
    "print(device['nickname'].unique())"
   ]
  },
  {
   "cell_type": "markdown",
   "id": "b3a6aef8-5c0a-493d-a4b5-c64981351d40",
   "metadata": {
    "tags": []
   },
   "source": [
    "## Delete All NaN Columns"
   ]
  },
  {
   "cell_type": "code",
   "execution_count": 11,
   "id": "74b5ed8d-f70b-46a3-8aa3-a3eb1a985dab",
   "metadata": {},
   "outputs": [
    {
     "name": "stdout",
     "output_type": "stream",
     "text": [
      "(902910, 59)\n",
      "(902910, 59) \n",
      "\n",
      "(7, 15)\n",
      "drop col : control_status\n",
      "(7, 14) \n",
      "\n",
      "(6, 10)\n",
      "drop col : port\n",
      "drop col : controller_status\n",
      "drop col : properties\n",
      "(6, 7) \n",
      "\n",
      "(28, 29)\n",
      "drop col : user_info_id\n",
      "drop col : device_type_nickname\n",
      "drop col : description\n",
      "drop col : setup_date\n",
      "drop col : memo\n",
      "drop col : properties\n",
      "drop col : reg_min\n",
      "drop col : reg_max\n",
      "drop col : min_value\n",
      "drop col : max_value\n",
      "(28, 19) \n",
      "\n",
      "(214585, 15)\n",
      "drop col : modbus_address1\n",
      "drop col : modbus_address2\n",
      "drop col : modbus_address3\n",
      "drop col : block_reason\n",
      "drop col : green_house_id\n",
      "(214585, 10) \n",
      "\n",
      "(1, 37)\n",
      "drop col : owner_user_info_id\n",
      "drop col : remote_address\n",
      "drop col : package_version\n",
      "drop col : schema_version\n",
      "drop col : farm_nickname_i18n\n",
      "drop col : user_id\n",
      "drop col : farm_db_id\n",
      "(1, 30) \n",
      "\n"
     ]
    }
   ],
   "source": [
    "def drop_all_nan(df):\n",
    "    print(df.shape)\n",
    "    for col in list(df):\n",
    "        if df[col].isna().sum() == len(df):\n",
    "            print(f'drop col : {col}')\n",
    "            df.drop(col, axis = 1, inplace = True)\n",
    "    print(f'{df.shape} \\n')\n",
    "    \n",
    "drop_all_nan(monitor_hist)\n",
    "drop_all_nan(control_setting)\n",
    "drop_all_nan(controller)\n",
    "drop_all_nan(device)\n",
    "drop_all_nan(device_log)\n",
    "drop_all_nan(gsm_info)"
   ]
  },
  {
   "cell_type": "markdown",
   "id": "81f615f9-bf82-4140-9fea-339c433fbab7",
   "metadata": {
    "tags": []
   },
   "source": [
    "## Data Join"
   ]
  },
  {
   "cell_type": "code",
   "execution_count": 12,
   "id": "3526f4bb-f45e-4121-9f5d-fecb7a5f566b",
   "metadata": {
    "tags": []
   },
   "outputs": [
    {
     "name": "stdout",
     "output_type": "stream",
     "text": [
      "monitor_hist : (902910, 59)\n",
      "control_setting : (7, 14)\n",
      "controller : (6, 7)\n",
      "device : (28, 19)\n",
      "device_log : (214585, 10)\n",
      "gsm_info : (1, 30)\n"
     ]
    }
   ],
   "source": [
    "print(f'monitor_hist : {monitor_hist.shape}')\n",
    "print(f'control_setting : {control_setting.shape}')\n",
    "print(f'controller : {controller.shape}')\n",
    "print(f'device : {device.shape}')\n",
    "print(f'device_log : {device_log.shape}')\n",
    "print(f'gsm_info : {gsm_info.shape}')"
   ]
  },
  {
   "cell_type": "code",
   "execution_count": 40,
   "id": "5ea1fbed-399b-4c49-9406-f4165fca3457",
   "metadata": {
    "tags": []
   },
   "outputs": [
    {
     "name": "stdout",
     "output_type": "stream",
     "text": [
      "join controller & gsm_info shape : (6, 36)\n",
      "join device & merge_df shape : (28, 53)\n",
      "join device_log & merge_df shape : (214585, 61)\n"
     ]
    }
   ],
   "source": [
    "merge_df = pd.merge(controller, gsm_info, on = 'gsm_key', how = 'left') ## join column unique 개수 같음\n",
    "merge_df.rename(columns = {'update_date' : 'update_date_gsm'}, inplace = True)\n",
    "merge_df.rename(columns = {'update_dt' : 'update_date_controller'}, inplace = True)\n",
    "merge_df.rename(columns = {'id' : 'controller_id'}, inplace = True)\n",
    "print(f'join controller & gsm_info shape : {merge_df.shape}')\n",
    "\n",
    "merge_df = pd.merge(device, merge_df, on = ['controller_id', 'gsm_key'], how = 'left') ## join column unique 개수 같음\n",
    "merge_df.rename(columns = {'update_date' : 'update_date_device'}, inplace = True)\n",
    "merge_df.rename(columns = {'id' : 'device_id'}, inplace = True)\n",
    "print(f'join device & merge_df shape : {merge_df.shape}')\n",
    "\n",
    "merge_df = pd.merge(device_log, merge_df, on = ['gsm_key', 'device_id'], how = 'left')\n",
    "merge_df.rename(columns = {'event_date' : 'event_date_log'}, inplace = True)\n",
    "print(f'join device_log & merge_df shape : {merge_df.shape}')"
   ]
  },
  {
   "cell_type": "markdown",
   "id": "a0fc21b6-bef8-4c9d-92bf-e256dbd726d1",
   "metadata": {
    "tags": []
   },
   "source": [
    "## Explore Data"
   ]
  },
  {
   "cell_type": "code",
   "execution_count": 173,
   "id": "c7f8c465-f6ed-478f-a948-7ed47d48078e",
   "metadata": {
    "tags": []
   },
   "outputs": [
    {
     "name": "stdout",
     "output_type": "stream",
     "text": [
      "['1중창' '보온-상' '보온-하' '2중창-하' '2중창-상' '유동팬' '천창팬']\n",
      "['1중창[좌]' '1중창[우]' '2중창[상]' '2중창[하]' '제어기전원' '주전원' '보온[상]' '보온[하]' '유동팬'\n",
      " '천창팬' '온도1' '습도1' '지온1' '지습1' 'CO2-1' '온도2' '습도2' '지온2' '지습2' 'CO2-2'\n",
      " '감우' '광량' '습도' '외온' '풍속' '풍향' '평균온도' '평균습도']\n"
     ]
    }
   ],
   "source": [
    "## 분석 대상 추출\n",
    "print(control_setting['logic_name'].unique())\n",
    "print(device['nickname'].unique())"
   ]
  },
  {
   "cell_type": "code",
   "execution_count": 110,
   "id": "e3715420-a20d-4735-a294-be5195d576b2",
   "metadata": {
    "tags": []
   },
   "outputs": [
    {
     "name": "stdout",
     "output_type": "stream",
     "text": [
      "28\n",
      "8\n"
     ]
    }
   ],
   "source": [
    "## device_log의 unique device_id : 8, merge_df(device)의 unique device_id : 28개\n",
    "print(device.id.nunique()) \n",
    "print(device_log.device_id.nunique())"
   ]
  },
  {
   "cell_type": "code",
   "execution_count": 209,
   "id": "e6f62478-f766-4a49-b048-498ba51848fd",
   "metadata": {
    "tags": []
   },
   "outputs": [],
   "source": [
    "# device"
   ]
  },
  {
   "cell_type": "code",
   "execution_count": 210,
   "id": "28b065b6-9cca-4f5f-bdea-4dc70aa3041f",
   "metadata": {
    "tags": []
   },
   "outputs": [
    {
     "name": "stdout",
     "output_type": "stream",
     "text": [
      "6345000000001 device id has 7473 row\n",
      "6345000000002 device id has 6150 row\n",
      "6345000000003 device id has 1084 row\n",
      "6345000000004 device id has 84 row\n"
     ]
    }
   ],
   "source": [
    "## device log에 포함되어있는 8개의 device id마다 존재하는 log 개수 다름\n",
    "## 1~4까지 1중창[좌,우], 2중창 [상,하]의 log 개수가 전부 다름 (개별 모델링 필요)\n",
    "for device_id in device_log.device_id.unique():    \n",
    "    if str(device_id)[-1:] in ['1','2','3','4']:\n",
    "        print(f\"{device_id} device id has {device_log[device_log['device_id'] == device_id].shape[0]} row\")"
   ]
  },
  {
   "cell_type": "code",
   "execution_count": 213,
   "id": "08f11897-07d5-4d98-b800-02bf33b2dc55",
   "metadata": {
    "tags": []
   },
   "outputs": [
    {
     "data": {
      "text/html": [
       "<div>\n",
       "<style scoped>\n",
       "    .dataframe tbody tr th:only-of-type {\n",
       "        vertical-align: middle;\n",
       "    }\n",
       "\n",
       "    .dataframe tbody tr th {\n",
       "        vertical-align: top;\n",
       "    }\n",
       "\n",
       "    .dataframe thead th {\n",
       "        text-align: right;\n",
       "    }\n",
       "</style>\n",
       "<table border=\"1\" class=\"dataframe\">\n",
       "  <thead>\n",
       "    <tr style=\"text-align: right;\">\n",
       "      <th></th>\n",
       "      <th>seq</th>\n",
       "      <th>device_id</th>\n",
       "      <th>event_date</th>\n",
       "      <th>command</th>\n",
       "      <th>duration</th>\n",
       "      <th>actor</th>\n",
       "      <th>client_ip</th>\n",
       "      <th>reason</th>\n",
       "      <th>run_command</th>\n",
       "      <th>gsm_key</th>\n",
       "    </tr>\n",
       "  </thead>\n",
       "  <tbody>\n",
       "    <tr>\n",
       "      <th>1604</th>\n",
       "      <td>19004439</td>\n",
       "      <td>6345000000001</td>\n",
       "      <td>2021-05-03 15:22:11</td>\n",
       "      <td>Open</td>\n",
       "      <td>60</td>\n",
       "      <td>99616269</td>\n",
       "      <td>211.199.190.110</td>\n",
       "      <td>NaN</td>\n",
       "      <td>1</td>\n",
       "      <td>6345</td>\n",
       "    </tr>\n",
       "    <tr>\n",
       "      <th>1607</th>\n",
       "      <td>19004452</td>\n",
       "      <td>6345000000001</td>\n",
       "      <td>2021-05-03 15:22:26</td>\n",
       "      <td>Close</td>\n",
       "      <td>100</td>\n",
       "      <td>99616269</td>\n",
       "      <td>211.199.190.110</td>\n",
       "      <td>NaN</td>\n",
       "      <td>1</td>\n",
       "      <td>6345</td>\n",
       "    </tr>\n",
       "    <tr>\n",
       "      <th>1610</th>\n",
       "      <td>19004498</td>\n",
       "      <td>6345000000001</td>\n",
       "      <td>2021-05-03 15:23:07</td>\n",
       "      <td>Open</td>\n",
       "      <td>60</td>\n",
       "      <td>99616269</td>\n",
       "      <td>211.199.190.110</td>\n",
       "      <td>NaN</td>\n",
       "      <td>1</td>\n",
       "      <td>6345</td>\n",
       "    </tr>\n",
       "    <tr>\n",
       "      <th>1613</th>\n",
       "      <td>19005152</td>\n",
       "      <td>6345000000001</td>\n",
       "      <td>2021-05-03 15:36:00</td>\n",
       "      <td>Open</td>\n",
       "      <td>60</td>\n",
       "      <td>99616269</td>\n",
       "      <td>211.199.190.110</td>\n",
       "      <td>NaN</td>\n",
       "      <td>1</td>\n",
       "      <td>6345</td>\n",
       "    </tr>\n",
       "    <tr>\n",
       "      <th>1618</th>\n",
       "      <td>19005173</td>\n",
       "      <td>6345000000001</td>\n",
       "      <td>2021-05-03 15:36:14</td>\n",
       "      <td>Close</td>\n",
       "      <td>99</td>\n",
       "      <td>99616269</td>\n",
       "      <td>211.199.190.110</td>\n",
       "      <td>NaN</td>\n",
       "      <td>1</td>\n",
       "      <td>6345</td>\n",
       "    </tr>\n",
       "    <tr>\n",
       "      <th>1623</th>\n",
       "      <td>19005192</td>\n",
       "      <td>6345000000001</td>\n",
       "      <td>2021-05-03 15:36:33</td>\n",
       "      <td>Open</td>\n",
       "      <td>60</td>\n",
       "      <td>99616269</td>\n",
       "      <td>211.199.190.110</td>\n",
       "      <td>NaN</td>\n",
       "      <td>1</td>\n",
       "      <td>6345</td>\n",
       "    </tr>\n",
       "    <tr>\n",
       "      <th>1626</th>\n",
       "      <td>19005225</td>\n",
       "      <td>6345000000001</td>\n",
       "      <td>2021-05-03 15:37:11</td>\n",
       "      <td>Open</td>\n",
       "      <td>60</td>\n",
       "      <td>99616269</td>\n",
       "      <td>211.199.190.110</td>\n",
       "      <td>NaN</td>\n",
       "      <td>1</td>\n",
       "      <td>6345</td>\n",
       "    </tr>\n",
       "    <tr>\n",
       "      <th>1637</th>\n",
       "      <td>19005271</td>\n",
       "      <td>6345000000001</td>\n",
       "      <td>2021-05-03 15:37:52</td>\n",
       "      <td>Open</td>\n",
       "      <td>60</td>\n",
       "      <td>99616269</td>\n",
       "      <td>211.199.190.110</td>\n",
       "      <td>NaN</td>\n",
       "      <td>1</td>\n",
       "      <td>6345</td>\n",
       "    </tr>\n",
       "    <tr>\n",
       "      <th>1640</th>\n",
       "      <td>19005292</td>\n",
       "      <td>6345000000001</td>\n",
       "      <td>2021-05-03 15:38:18</td>\n",
       "      <td>Open</td>\n",
       "      <td>60</td>\n",
       "      <td>99616269</td>\n",
       "      <td>211.199.190.110</td>\n",
       "      <td>NaN</td>\n",
       "      <td>1</td>\n",
       "      <td>6345</td>\n",
       "    </tr>\n",
       "    <tr>\n",
       "      <th>1643</th>\n",
       "      <td>19005714</td>\n",
       "      <td>6345000000001</td>\n",
       "      <td>2021-05-03 15:46:40</td>\n",
       "      <td>Open</td>\n",
       "      <td>60</td>\n",
       "      <td>99616269</td>\n",
       "      <td>211.199.190.110</td>\n",
       "      <td>NaN</td>\n",
       "      <td>1</td>\n",
       "      <td>6345</td>\n",
       "    </tr>\n",
       "    <tr>\n",
       "      <th>1646</th>\n",
       "      <td>19005720</td>\n",
       "      <td>6345000000001</td>\n",
       "      <td>2021-05-03 15:46:51</td>\n",
       "      <td>Open</td>\n",
       "      <td>60</td>\n",
       "      <td>99616269</td>\n",
       "      <td>211.199.190.110</td>\n",
       "      <td>NaN</td>\n",
       "      <td>1</td>\n",
       "      <td>6345</td>\n",
       "    </tr>\n",
       "    <tr>\n",
       "      <th>1651</th>\n",
       "      <td>19005732</td>\n",
       "      <td>6345000000001</td>\n",
       "      <td>2021-05-03 15:47:02</td>\n",
       "      <td>Close</td>\n",
       "      <td>99</td>\n",
       "      <td>99616269</td>\n",
       "      <td>211.199.190.110</td>\n",
       "      <td>NaN</td>\n",
       "      <td>1</td>\n",
       "      <td>6345</td>\n",
       "    </tr>\n",
       "  </tbody>\n",
       "</table>\n",
       "</div>"
      ],
      "text/plain": [
       "           seq      device_id           event_date command  duration  \\\n",
       "1604  19004439  6345000000001  2021-05-03 15:22:11    Open        60   \n",
       "1607  19004452  6345000000001  2021-05-03 15:22:26   Close       100   \n",
       "1610  19004498  6345000000001  2021-05-03 15:23:07    Open        60   \n",
       "1613  19005152  6345000000001  2021-05-03 15:36:00    Open        60   \n",
       "1618  19005173  6345000000001  2021-05-03 15:36:14   Close        99   \n",
       "1623  19005192  6345000000001  2021-05-03 15:36:33    Open        60   \n",
       "1626  19005225  6345000000001  2021-05-03 15:37:11    Open        60   \n",
       "1637  19005271  6345000000001  2021-05-03 15:37:52    Open        60   \n",
       "1640  19005292  6345000000001  2021-05-03 15:38:18    Open        60   \n",
       "1643  19005714  6345000000001  2021-05-03 15:46:40    Open        60   \n",
       "1646  19005720  6345000000001  2021-05-03 15:46:51    Open        60   \n",
       "1651  19005732  6345000000001  2021-05-03 15:47:02   Close        99   \n",
       "\n",
       "         actor        client_ip reason  run_command  gsm_key  \n",
       "1604  99616269  211.199.190.110    NaN            1     6345  \n",
       "1607  99616269  211.199.190.110    NaN            1     6345  \n",
       "1610  99616269  211.199.190.110    NaN            1     6345  \n",
       "1613  99616269  211.199.190.110    NaN            1     6345  \n",
       "1618  99616269  211.199.190.110    NaN            1     6345  \n",
       "1623  99616269  211.199.190.110    NaN            1     6345  \n",
       "1626  99616269  211.199.190.110    NaN            1     6345  \n",
       "1637  99616269  211.199.190.110    NaN            1     6345  \n",
       "1640  99616269  211.199.190.110    NaN            1     6345  \n",
       "1643  99616269  211.199.190.110    NaN            1     6345  \n",
       "1646  99616269  211.199.190.110    NaN            1     6345  \n",
       "1651  99616269  211.199.190.110    NaN            1     6345  "
      ]
     },
     "execution_count": 213,
     "metadata": {},
     "output_type": "execute_result"
    }
   ],
   "source": [
    "## 동일한 대상 및 환경에 대해 중복되는 이벤트가 연속해서 발생 (2021-05-03 15:36:33 ~ 2021-05-03 15:46:51)\n",
    "temp_df = device_log[(device_log['event_date'].str.split(' ',expand = True)[0] == '2021-05-03') & (device_log['device_id'] == 6345000000001) & (device_log['client_ip'] == '211.199.190.110')]\n",
    "temp_df[temp_df['command'] != 'Stop'].head(12)"
   ]
  },
  {
   "cell_type": "code",
   "execution_count": 178,
   "id": "a7657ebc-69f2-4da3-afb3-ebbd3518a70c",
   "metadata": {
    "tags": []
   },
   "outputs": [
    {
     "data": {
      "text/html": [
       "<div>\n",
       "<style scoped>\n",
       "    .dataframe tbody tr th:only-of-type {\n",
       "        vertical-align: middle;\n",
       "    }\n",
       "\n",
       "    .dataframe tbody tr th {\n",
       "        vertical-align: top;\n",
       "    }\n",
       "\n",
       "    .dataframe thead th {\n",
       "        text-align: right;\n",
       "    }\n",
       "</style>\n",
       "<table border=\"1\" class=\"dataframe\">\n",
       "  <thead>\n",
       "    <tr style=\"text-align: right;\">\n",
       "      <th></th>\n",
       "      <th>seq</th>\n",
       "      <th>device_id</th>\n",
       "      <th>event_date</th>\n",
       "      <th>command</th>\n",
       "      <th>duration</th>\n",
       "      <th>actor</th>\n",
       "      <th>client_ip</th>\n",
       "      <th>reason</th>\n",
       "      <th>run_command</th>\n",
       "      <th>gsm_key</th>\n",
       "    </tr>\n",
       "  </thead>\n",
       "  <tbody>\n",
       "    <tr>\n",
       "      <th>0</th>\n",
       "      <td>18333577</td>\n",
       "      <td>6345000000001</td>\n",
       "      <td>2021-04-22 01:58:57</td>\n",
       "      <td>Stop</td>\n",
       "      <td>0</td>\n",
       "      <td>99616269</td>\n",
       "      <td>175.202.71.114</td>\n",
       "      <td>NaN</td>\n",
       "      <td>1</td>\n",
       "      <td>6345</td>\n",
       "    </tr>\n",
       "    <tr>\n",
       "      <th>1</th>\n",
       "      <td>18333578</td>\n",
       "      <td>6345000000001</td>\n",
       "      <td>2021-04-22 01:58:57</td>\n",
       "      <td>Stop</td>\n",
       "      <td>0</td>\n",
       "      <td>99616269</td>\n",
       "      <td>175.202.71.114</td>\n",
       "      <td>NaN</td>\n",
       "      <td>1</td>\n",
       "      <td>6345</td>\n",
       "    </tr>\n",
       "    <tr>\n",
       "      <th>2</th>\n",
       "      <td>18333579</td>\n",
       "      <td>6345000000001</td>\n",
       "      <td>2021-04-22 01:58:57</td>\n",
       "      <td>Close</td>\n",
       "      <td>40</td>\n",
       "      <td>99616269</td>\n",
       "      <td>175.202.71.114</td>\n",
       "      <td>NaN</td>\n",
       "      <td>1</td>\n",
       "      <td>6345</td>\n",
       "    </tr>\n",
       "  </tbody>\n",
       "</table>\n",
       "</div>"
      ],
      "text/plain": [
       "        seq      device_id           event_date command  duration     actor  \\\n",
       "0  18333577  6345000000001  2021-04-22 01:58:57    Stop         0  99616269   \n",
       "1  18333578  6345000000001  2021-04-22 01:58:57    Stop         0  99616269   \n",
       "2  18333579  6345000000001  2021-04-22 01:58:57   Close        40  99616269   \n",
       "\n",
       "        client_ip reason  run_command  gsm_key  \n",
       "0  175.202.71.114    NaN            1     6345  \n",
       "1  175.202.71.114    NaN            1     6345  \n",
       "2  175.202.71.114    NaN            1     6345  "
      ]
     },
     "execution_count": 178,
     "metadata": {},
     "output_type": "execute_result"
    }
   ],
   "source": [
    "## 하나의 device id log에서 동일한 시간(event_date)에 다양한 command 존재\n",
    "device_log[device_log['device_id'] == 6345000000001].head(3)"
   ]
  },
  {
   "cell_type": "code",
   "execution_count": 197,
   "id": "b33fd162-18aa-4f9a-bc47-9df9abbaa6eb",
   "metadata": {
    "tags": []
   },
   "outputs": [],
   "source": [
    "# control_setting['logic_env'][0]"
   ]
  },
  {
   "cell_type": "code",
   "execution_count": 215,
   "id": "2ae8aacc-8a2b-486c-abd1-ab2ae1aaf538",
   "metadata": {
    "tags": []
   },
   "outputs": [],
   "source": [
    "# device_log[(device_log['duration']>0) & (device_log['device_id'] == 6345000000001)].head(20)"
   ]
  },
  {
   "cell_type": "markdown",
   "id": "afc47a78-dfc5-4bb6-b548-7f0d5f70e868",
   "metadata": {
    "tags": []
   },
   "source": [
    "## ERD 추가 설명 필요"
   ]
  },
  {
   "cell_type": "code",
   "execution_count": 176,
   "id": "ac44204a-984f-40a5-a9c8-fa4f767af061",
   "metadata": {
    "tags": []
   },
   "outputs": [
    {
     "name": "stdout",
     "output_type": "stream",
     "text": [
      "['AutoControlSystem' 'Owner' nan]\n",
      "['99616269' '99616386']\n"
     ]
    }
   ],
   "source": [
    "## client_ip가 공백이 아닐경우 actor값 수치형으로 존재\n",
    "## client_ip가 공백일 경우 actor값은 문자형 or NaN으로 존재\n",
    "print(device_log[device_log['client_ip'].isna()]['actor'].unique())\n",
    "print(device_log[~device_log['client_ip'].isna()]['actor'].unique())"
   ]
  },
  {
   "cell_type": "code",
   "execution_count": 221,
   "id": "346f819c-ea96-42a2-9065-9206658e0146",
   "metadata": {
    "tags": []
   },
   "outputs": [
    {
     "name": "stdout",
     "output_type": "stream",
     "text": [
      "device_log col gsm_key unique values : [6345]\n",
      "device col gsm_key unique values : [6345]\n",
      "\n",
      "\n",
      "device_log col modbus_address3 unique values : [nan]\n",
      "device col modbus_address3 unique values : [ 2.  4.  6.  8. -1. nan]\n",
      "\n",
      "\n",
      "device_log col modbus_address2 unique values : [nan]\n",
      "device col modbus_address2 unique values : [ 1.  3.  5.  7. 10. 11.  6. nan]\n",
      "\n",
      "\n",
      "device_log col green_house_id unique values : [nan]\n",
      "device col green_house_id unique values : [0]\n",
      "\n",
      "\n",
      "device_log col modbus_address1 unique values : [nan]\n",
      "device col modbus_address1 unique values : ['1' '2' '3' '4' '5' '6' 'temp1' 'hum1' 'gtemp1' 'ghum1' 'co2' 'rain'\n",
      " 'light' 'windsp' 'winddir' nan]\n",
      "\n",
      "\n"
     ]
    }
   ],
   "source": [
    "## device id 기준으로 device_log와 device_cont 매핑하려 하나 공통된 컬럼에 포함되어있는 정보가 너무 다름\n",
    "## device_log 공통된 컬럼의 대부분 값이 nan으로 표현되어있음 -> device_cont 정보로 대체하는것이 맞는가?\n",
    "\n",
    "for col in set(list(device_log)) & set(list(device)):\n",
    "    print(f'device_log col {col} unique values : {device_log[col].unique()}')\n",
    "    print(f'device col {col} unique values : {device[col].unique()}')\n",
    "    print('\\n')"
   ]
  },
  {
   "cell_type": "markdown",
   "id": "e6742d3d-7329-4fe0-bd79-61da7ba71fd5",
   "metadata": {},
   "source": [
    "## Test"
   ]
  },
  {
   "cell_type": "code",
   "execution_count": 13,
   "id": "2fc23f1f-6e86-40de-af42-3c2e64fb0274",
   "metadata": {
    "tags": []
   },
   "outputs": [
    {
     "data": {
      "text/plain": [
       "array(['1중창[좌]', '1중창[우]', '2중창[상]', '2중창[하]', '제어기전원', '주전원', '보온[상]',\n",
       "       '보온[하]', '유동팬', '천창팬', '온도1', '습도1', '지온1', '지습1', 'CO2-1', '온도2',\n",
       "       '습도2', '지온2', '지습2', 'CO2-2', '감우', '광량', '습도', '외온', '풍속', '풍향',\n",
       "       '평균온도', '평균습도'], dtype=object)"
      ]
     },
     "execution_count": 13,
     "metadata": {},
     "output_type": "execute_result"
    }
   ],
   "source": [
    "device['nickname'].unique()"
   ]
  },
  {
   "cell_type": "code",
   "execution_count": 15,
   "id": "801824ab-1e73-4648-8e17-be0c07587afc",
   "metadata": {
    "tags": []
   },
   "outputs": [
    {
     "data": {
      "text/plain": [
       "array([[6345000000027, 20201, 1, nan, 6345, 0, 6345000000006, '평균온도',\n",
       "        nan, nan, nan, 0, 0, 0, 0, nan, nan, nan, nan, 0, 1,\n",
       "        '2021-10-14 10:02:59', 1, 1, nan, nan, nan, nan, nan]],\n",
       "      dtype=object)"
      ]
     },
     "execution_count": 15,
     "metadata": {},
     "output_type": "execute_result"
    }
   ],
   "source": [
    "device[device['nickname'] == '평균온도'].values"
   ]
  },
  {
   "cell_type": "code",
   "execution_count": 18,
   "id": "7a2f87c3-7bfc-4500-a1a0-ec2909ff656d",
   "metadata": {
    "tags": []
   },
   "outputs": [
    {
     "data": {
      "text/plain": [
       "array(['99616269', 'AutoControlSystem', '99616386'], dtype=object)"
      ]
     },
     "execution_count": 18,
     "metadata": {},
     "output_type": "execute_result"
    }
   ],
   "source": [
    "device_log[(device_log['duration'] != 0) & (device_log['device_id'] == 6345000000001)]['actor'].unique()"
   ]
  },
  {
   "cell_type": "code",
   "execution_count": 21,
   "id": "5ac295ed-7613-40d4-8196-38d89ccbb82a",
   "metadata": {
    "tags": []
   },
   "outputs": [
    {
     "data": {
      "text/plain": [
       "array([nan, '자동 동작', '고온 위험 ,34.5도', '초기 설정', '고온 위험 ,33.3도',\n",
       "       '고온 위험 ,25.6도', '고온 위험 ,31.3도', '고온 위험 ,26.1도', '고온 위험 ,21.1도',\n",
       "       '감우 위험', '저온 위험, 18.0도', '저온 위험, 18.9도', '저온 위험, 17.0도',\n",
       "       '저온 위험, 16.8도', '저온 위험, 16.5도', '저온 위험, 16.0도', '저온 위험, 15.5도',\n",
       "       '고온 위험 ,21.7도', '저온 위험, 17.9도', '장비초기화', '저온 위험, 16.2도',\n",
       "       '저온 위험, 16.3도', '저온 위험, 15.2도', '저온 위험, 14.5도', '저온 위험, 14.6도',\n",
       "       '고온 위험 ,23.5도', '저온 위험, 17.8도', '저온 위험, 17.6도', '저온 위험, 17.4도',\n",
       "       '저온 위험, 17.3도', '저온 위험, 17.1도', '저온 위험, 16.9도', '저온 위험, 16.6도',\n",
       "       '저온 위험, 16.4도', '저온 위험, 14.7도', '저온 위험, 14.8도', '저온 위험, 14.9도',\n",
       "       '저온 위험, 14.2도', '저온 위험, 14.1도', '저온 위험, 14.3도', '저온 위험, 14.4도',\n",
       "       '저온 위험, 13.9도', '저온 위험, 14.0도', '저온 위험, 13.8도', '저온 위험, 13.7도',\n",
       "       '저온 위험, 13.6도', '저온 위험, 13.5도', '저온 위험, 13.4도', '저온 위험, 16.7도',\n",
       "       '저온 위험, 15.0도', '저온 위험, 15.3도', '저온 위험, 15.8도', '저온 위험, 17.2도',\n",
       "       '저온 위험, 17.5도', '저온 위험, 16.1도', '저온 위험, 13.3도', '저온 위험, 13.2도',\n",
       "       '저온 위험, 13.1도', '저온 위험, 13.0도', '저온 위험, 12.9도', '저온 위험, 12.8도',\n",
       "       '저온 위험, 15.1도', '고온 위험 ,27.6도', '저온 위험, 17.7도', '고온 위험 ,26.2도',\n",
       "       '고온 위험 ,24.8도', '고온 위험 ,32.2도', '고온 위험 ,28.6도', '고온 위험 ,28.8도',\n",
       "       '저온 위험, 18.1도', '고온 위험 ,29.1도', '저온 위험, 18.3도', '저온 위험, 19.9도',\n",
       "       '저온 위험, 19.7도', '저온 위험, 19.4도', '저온 위험, 18.8도', '저온 위험, 19.5도',\n",
       "       '저온 위험, 19.3도', '저온 위험, 19.2도', '저온 위험, 18.6도', '저온 위험, 18.5도',\n",
       "       '저온 위험, 18.2도', '저온 위험, 18.7도', '저온 위험, 21.9도', '고온 위험 ,28.1도',\n",
       "       '고온 위험 ,24.1도', '저온 위험, 15.7도', '저온 위험, 15.9도', '저온 위험, 18.4도',\n",
       "       '저온 위험, 19.8도', '저온 위험, 19.6도', '저온 위험, 19.1도', '저온 위험, 12.5도',\n",
       "       '저온 위험, 11.8도', '저온 위험, 11.4도', '저온 위험, 12.2도', '저온 위험, 12.4도',\n",
       "       '저온 위험, 12.6도', '저온 위험, 12.7도', '저온 위험, 19.0도', '저온 위험, 12.3도',\n",
       "       '저온 위험, 11.9도', '저온 위험, 15.6도', '저온 위험, 12.1도', '고온 위험 ,22.1도',\n",
       "       '저온 위험, 15.4도', '고온 위험 ,20.1도', '저온 위험, 11.7도', '저온 위험, 11.6도',\n",
       "       '저온 위험, 11.1도', '저온 위험, 10.8도', '저온 위험, 10.5도', '저온 위험, 10.7도',\n",
       "       '저온 위험, 10.6도', '저온 위험, 10.4도', '저온 위험, 10.3도', '저온 위험, 11.2도',\n",
       "       '고온 위험 ,22.2도', '고온 위험 ,21.8도', '저온 위험, 12.0도', '저온 위험, 11.0도',\n",
       "       '저온 위험, 10.2도', '저온 위험, 10.1도', '저온 위험, 10.0도', '저온 위험, 9.9도',\n",
       "       '저온 위험, 11.3도', '저온 위험, 9.8도', '저온 위험, 9.7도', '고온 위험 ,32.9도',\n",
       "       '저온 위험, 20.9도', '저온 위험, 10.9도', '저온 위험, 11.5도', '저온 위험, 22.9도',\n",
       "       '저온 위험, 22.1도', '저온 위험, 21.7도', '저온 위험, 22.6도', '저온 위험, 25.9도',\n",
       "       '고온 위험 ,27.1도', '저온 위험, 24.9도', '고온 위험 ,26.6도', '저온 위험, 23.9도',\n",
       "       '저온 위험, 26.7도', '저온 위험, 26.9도', '고온 위험 ,28.0도', '저온 위험, 23.8도',\n",
       "       '고온 위험 ,27.0도', '고온 위험 ,30.8도', '고온 위험 ,29.2도', '고온 위험 ,26.0도',\n",
       "       '고온 위험 ,25.0도', '고온 위험 ,25.1도', '고온 위험 ,27.3도', '저온 위험, 20.4도',\n",
       "       '저온 위험, 20.8도', '고온 위험 ,27.2도', '고온 위험 ,26.9도', '저온 위험, 20.7도',\n",
       "       '저온 위험, 22.2도', '저온 위험, 23.7도', '고온 위험 ,33.0도', '고온 위험 ,24.2도',\n",
       "       '고온 위험 ,24.9도', '고온 위험 ,21.2도', '고온 위험 ,21.3도', '고온 위험 ,24.0도',\n",
       "       '고온 위험 ,33.4도', '고온 위험 ,34.0도', '고온 위험 ,30.0도', '고온 위험 ,28.2도',\n",
       "       '고온 위험 ,26.4도'], dtype=object)"
      ]
     },
     "execution_count": 21,
     "metadata": {},
     "output_type": "execute_result"
    }
   ],
   "source": [
    "device_log[(device_log['duration'] != 0) & (device_log['device_id'] == 6345000000001)]['reason'].unique()"
   ]
  },
  {
   "cell_type": "code",
   "execution_count": 22,
   "id": "7e992ccd-a46d-4aec-916c-ef6749979b16",
   "metadata": {
    "tags": []
   },
   "outputs": [
    {
     "data": {
      "text/plain": [
       "array(['Close', 'Open', 'AutoInitOpen', 'AutoInitClose'], dtype=object)"
      ]
     },
     "execution_count": 22,
     "metadata": {},
     "output_type": "execute_result"
    }
   ],
   "source": [
    "device_log[(device_log['duration'] != 0) & (device_log['device_id'] == 6345000000001)]['command'].unique()"
   ]
  },
  {
   "cell_type": "code",
   "execution_count": 25,
   "id": "dad94e7b-2ebe-477a-acc1-514e5ee18b8b",
   "metadata": {
    "tags": []
   },
   "outputs": [
    {
     "data": {
      "text/html": [
       "<div>\n",
       "<style scoped>\n",
       "    .dataframe tbody tr th:only-of-type {\n",
       "        vertical-align: middle;\n",
       "    }\n",
       "\n",
       "    .dataframe tbody tr th {\n",
       "        vertical-align: top;\n",
       "    }\n",
       "\n",
       "    .dataframe thead th {\n",
       "        text-align: right;\n",
       "    }\n",
       "</style>\n",
       "<table border=\"1\" class=\"dataframe\">\n",
       "  <thead>\n",
       "    <tr style=\"text-align: right;\">\n",
       "      <th></th>\n",
       "      <th>seq</th>\n",
       "      <th>device_id</th>\n",
       "      <th>event_date</th>\n",
       "      <th>command</th>\n",
       "      <th>duration</th>\n",
       "      <th>actor</th>\n",
       "      <th>client_ip</th>\n",
       "      <th>reason</th>\n",
       "      <th>modbus_address1</th>\n",
       "      <th>modbus_address2</th>\n",
       "      <th>modbus_address3</th>\n",
       "      <th>run_command</th>\n",
       "      <th>block_reason</th>\n",
       "      <th>gsm_key</th>\n",
       "      <th>green_house_id</th>\n",
       "    </tr>\n",
       "  </thead>\n",
       "  <tbody>\n",
       "    <tr>\n",
       "      <th>8</th>\n",
       "      <td>18345902</td>\n",
       "      <td>6345000000001</td>\n",
       "      <td>2021-04-22 08:59:25</td>\n",
       "      <td>Open</td>\n",
       "      <td>60</td>\n",
       "      <td>99616269</td>\n",
       "      <td>211.199.190.110</td>\n",
       "      <td>NaN</td>\n",
       "      <td>NaN</td>\n",
       "      <td>NaN</td>\n",
       "      <td>NaN</td>\n",
       "      <td>1</td>\n",
       "      <td>NaN</td>\n",
       "      <td>6345</td>\n",
       "      <td>NaN</td>\n",
       "    </tr>\n",
       "    <tr>\n",
       "      <th>1066</th>\n",
       "      <td>18802850</td>\n",
       "      <td>6345000000001</td>\n",
       "      <td>2021-04-30 05:52:32</td>\n",
       "      <td>Open</td>\n",
       "      <td>60</td>\n",
       "      <td>99616269</td>\n",
       "      <td>121.154.204.161</td>\n",
       "      <td>NaN</td>\n",
       "      <td>NaN</td>\n",
       "      <td>NaN</td>\n",
       "      <td>NaN</td>\n",
       "      <td>1</td>\n",
       "      <td>NaN</td>\n",
       "      <td>6345</td>\n",
       "      <td>NaN</td>\n",
       "    </tr>\n",
       "    <tr>\n",
       "      <th>1218</th>\n",
       "      <td>18867782</td>\n",
       "      <td>6345000000001</td>\n",
       "      <td>2021-05-01 08:48:36</td>\n",
       "      <td>Open</td>\n",
       "      <td>60</td>\n",
       "      <td>99616269</td>\n",
       "      <td>121.154.204.161</td>\n",
       "      <td>NaN</td>\n",
       "      <td>NaN</td>\n",
       "      <td>NaN</td>\n",
       "      <td>NaN</td>\n",
       "      <td>1</td>\n",
       "      <td>NaN</td>\n",
       "      <td>6345</td>\n",
       "      <td>NaN</td>\n",
       "    </tr>\n",
       "    <tr>\n",
       "      <th>1230</th>\n",
       "      <td>18897331</td>\n",
       "      <td>6345000000001</td>\n",
       "      <td>2021-05-01 17:39:03</td>\n",
       "      <td>Open</td>\n",
       "      <td>60</td>\n",
       "      <td>99616269</td>\n",
       "      <td>223.39.207.8</td>\n",
       "      <td>NaN</td>\n",
       "      <td>NaN</td>\n",
       "      <td>NaN</td>\n",
       "      <td>NaN</td>\n",
       "      <td>1</td>\n",
       "      <td>NaN</td>\n",
       "      <td>6345</td>\n",
       "      <td>NaN</td>\n",
       "    </tr>\n",
       "    <tr>\n",
       "      <th>1244</th>\n",
       "      <td>18932150</td>\n",
       "      <td>6345000000001</td>\n",
       "      <td>2021-05-02 11:37:25</td>\n",
       "      <td>Open</td>\n",
       "      <td>60</td>\n",
       "      <td>99616269</td>\n",
       "      <td>175.202.71.75</td>\n",
       "      <td>NaN</td>\n",
       "      <td>NaN</td>\n",
       "      <td>NaN</td>\n",
       "      <td>NaN</td>\n",
       "      <td>1</td>\n",
       "      <td>NaN</td>\n",
       "      <td>6345</td>\n",
       "      <td>NaN</td>\n",
       "    </tr>\n",
       "    <tr>\n",
       "      <th>...</th>\n",
       "      <td>...</td>\n",
       "      <td>...</td>\n",
       "      <td>...</td>\n",
       "      <td>...</td>\n",
       "      <td>...</td>\n",
       "      <td>...</td>\n",
       "      <td>...</td>\n",
       "      <td>...</td>\n",
       "      <td>...</td>\n",
       "      <td>...</td>\n",
       "      <td>...</td>\n",
       "      <td>...</td>\n",
       "      <td>...</td>\n",
       "      <td>...</td>\n",
       "      <td>...</td>\n",
       "    </tr>\n",
       "    <tr>\n",
       "      <th>214440</th>\n",
       "      <td>34459499</td>\n",
       "      <td>6345000000001</td>\n",
       "      <td>2022-10-04 10:22:06</td>\n",
       "      <td>Open</td>\n",
       "      <td>120</td>\n",
       "      <td>AutoControlSystem</td>\n",
       "      <td>NaN</td>\n",
       "      <td>고온 위험 ,21.3도</td>\n",
       "      <td>NaN</td>\n",
       "      <td>NaN</td>\n",
       "      <td>NaN</td>\n",
       "      <td>1</td>\n",
       "      <td>NaN</td>\n",
       "      <td>6345</td>\n",
       "      <td>NaN</td>\n",
       "    </tr>\n",
       "    <tr>\n",
       "      <th>214442</th>\n",
       "      <td>34459507</td>\n",
       "      <td>6345000000001</td>\n",
       "      <td>2022-10-04 10:22:16</td>\n",
       "      <td>Open</td>\n",
       "      <td>120</td>\n",
       "      <td>AutoControlSystem</td>\n",
       "      <td>NaN</td>\n",
       "      <td>고온 위험 ,21.1도</td>\n",
       "      <td>NaN</td>\n",
       "      <td>NaN</td>\n",
       "      <td>NaN</td>\n",
       "      <td>1</td>\n",
       "      <td>NaN</td>\n",
       "      <td>6345</td>\n",
       "      <td>NaN</td>\n",
       "    </tr>\n",
       "    <tr>\n",
       "      <th>214448</th>\n",
       "      <td>34485653</td>\n",
       "      <td>6345000000001</td>\n",
       "      <td>2022-10-05 08:05:12</td>\n",
       "      <td>Open</td>\n",
       "      <td>120</td>\n",
       "      <td>AutoControlSystem</td>\n",
       "      <td>NaN</td>\n",
       "      <td>고온 위험 ,21.1도</td>\n",
       "      <td>NaN</td>\n",
       "      <td>NaN</td>\n",
       "      <td>NaN</td>\n",
       "      <td>1</td>\n",
       "      <td>NaN</td>\n",
       "      <td>6345</td>\n",
       "      <td>NaN</td>\n",
       "    </tr>\n",
       "    <tr>\n",
       "      <th>214450</th>\n",
       "      <td>34485660</td>\n",
       "      <td>6345000000001</td>\n",
       "      <td>2022-10-05 08:05:26</td>\n",
       "      <td>Open</td>\n",
       "      <td>120</td>\n",
       "      <td>AutoControlSystem</td>\n",
       "      <td>NaN</td>\n",
       "      <td>고온 위험 ,21.1도</td>\n",
       "      <td>NaN</td>\n",
       "      <td>NaN</td>\n",
       "      <td>NaN</td>\n",
       "      <td>1</td>\n",
       "      <td>NaN</td>\n",
       "      <td>6345</td>\n",
       "      <td>NaN</td>\n",
       "    </tr>\n",
       "    <tr>\n",
       "      <th>214452</th>\n",
       "      <td>34485663</td>\n",
       "      <td>6345000000001</td>\n",
       "      <td>2022-10-05 08:05:36</td>\n",
       "      <td>Open</td>\n",
       "      <td>120</td>\n",
       "      <td>AutoControlSystem</td>\n",
       "      <td>NaN</td>\n",
       "      <td>고온 위험 ,21.1도</td>\n",
       "      <td>NaN</td>\n",
       "      <td>NaN</td>\n",
       "      <td>NaN</td>\n",
       "      <td>1</td>\n",
       "      <td>NaN</td>\n",
       "      <td>6345</td>\n",
       "      <td>NaN</td>\n",
       "    </tr>\n",
       "  </tbody>\n",
       "</table>\n",
       "<p>672 rows × 15 columns</p>\n",
       "</div>"
      ],
      "text/plain": [
       "             seq      device_id           event_date command  duration  \\\n",
       "8       18345902  6345000000001  2021-04-22 08:59:25    Open        60   \n",
       "1066    18802850  6345000000001  2021-04-30 05:52:32    Open        60   \n",
       "1218    18867782  6345000000001  2021-05-01 08:48:36    Open        60   \n",
       "1230    18897331  6345000000001  2021-05-01 17:39:03    Open        60   \n",
       "1244    18932150  6345000000001  2021-05-02 11:37:25    Open        60   \n",
       "...          ...            ...                  ...     ...       ...   \n",
       "214440  34459499  6345000000001  2022-10-04 10:22:06    Open       120   \n",
       "214442  34459507  6345000000001  2022-10-04 10:22:16    Open       120   \n",
       "214448  34485653  6345000000001  2022-10-05 08:05:12    Open       120   \n",
       "214450  34485660  6345000000001  2022-10-05 08:05:26    Open       120   \n",
       "214452  34485663  6345000000001  2022-10-05 08:05:36    Open       120   \n",
       "\n",
       "                    actor        client_ip        reason  modbus_address1  \\\n",
       "8                99616269  211.199.190.110           NaN              NaN   \n",
       "1066             99616269  121.154.204.161           NaN              NaN   \n",
       "1218             99616269  121.154.204.161           NaN              NaN   \n",
       "1230             99616269     223.39.207.8           NaN              NaN   \n",
       "1244             99616269    175.202.71.75           NaN              NaN   \n",
       "...                   ...              ...           ...              ...   \n",
       "214440  AutoControlSystem              NaN  고온 위험 ,21.3도              NaN   \n",
       "214442  AutoControlSystem              NaN  고온 위험 ,21.1도              NaN   \n",
       "214448  AutoControlSystem              NaN  고온 위험 ,21.1도              NaN   \n",
       "214450  AutoControlSystem              NaN  고온 위험 ,21.1도              NaN   \n",
       "214452  AutoControlSystem              NaN  고온 위험 ,21.1도              NaN   \n",
       "\n",
       "        modbus_address2  modbus_address3  run_command  block_reason  gsm_key  \\\n",
       "8                   NaN              NaN            1           NaN     6345   \n",
       "1066                NaN              NaN            1           NaN     6345   \n",
       "1218                NaN              NaN            1           NaN     6345   \n",
       "1230                NaN              NaN            1           NaN     6345   \n",
       "1244                NaN              NaN            1           NaN     6345   \n",
       "...                 ...              ...          ...           ...      ...   \n",
       "214440              NaN              NaN            1           NaN     6345   \n",
       "214442              NaN              NaN            1           NaN     6345   \n",
       "214448              NaN              NaN            1           NaN     6345   \n",
       "214450              NaN              NaN            1           NaN     6345   \n",
       "214452              NaN              NaN            1           NaN     6345   \n",
       "\n",
       "        green_house_id  \n",
       "8                  NaN  \n",
       "1066               NaN  \n",
       "1218               NaN  \n",
       "1230               NaN  \n",
       "1244               NaN  \n",
       "...                ...  \n",
       "214440             NaN  \n",
       "214442             NaN  \n",
       "214448             NaN  \n",
       "214450             NaN  \n",
       "214452             NaN  \n",
       "\n",
       "[672 rows x 15 columns]"
      ]
     },
     "execution_count": 25,
     "metadata": {},
     "output_type": "execute_result"
    }
   ],
   "source": [
    "device_log[(device_log['duration'] != 0) & (device_log['device_id'] == 6345000000001)& (device_log['command'] == 'Open')]"
   ]
  }
 ],
 "metadata": {
  "availableInstances": [
   {
    "_defaultOrder": 0,
    "_isFastLaunch": true,
    "category": "General purpose",
    "gpuNum": 0,
    "hideHardwareSpecs": false,
    "memoryGiB": 4,
    "name": "ml.t3.medium",
    "vcpuNum": 2
   },
   {
    "_defaultOrder": 1,
    "_isFastLaunch": false,
    "category": "General purpose",
    "gpuNum": 0,
    "hideHardwareSpecs": false,
    "memoryGiB": 8,
    "name": "ml.t3.large",
    "vcpuNum": 2
   },
   {
    "_defaultOrder": 2,
    "_isFastLaunch": false,
    "category": "General purpose",
    "gpuNum": 0,
    "hideHardwareSpecs": false,
    "memoryGiB": 16,
    "name": "ml.t3.xlarge",
    "vcpuNum": 4
   },
   {
    "_defaultOrder": 3,
    "_isFastLaunch": false,
    "category": "General purpose",
    "gpuNum": 0,
    "hideHardwareSpecs": false,
    "memoryGiB": 32,
    "name": "ml.t3.2xlarge",
    "vcpuNum": 8
   },
   {
    "_defaultOrder": 4,
    "_isFastLaunch": true,
    "category": "General purpose",
    "gpuNum": 0,
    "hideHardwareSpecs": false,
    "memoryGiB": 8,
    "name": "ml.m5.large",
    "vcpuNum": 2
   },
   {
    "_defaultOrder": 5,
    "_isFastLaunch": false,
    "category": "General purpose",
    "gpuNum": 0,
    "hideHardwareSpecs": false,
    "memoryGiB": 16,
    "name": "ml.m5.xlarge",
    "vcpuNum": 4
   },
   {
    "_defaultOrder": 6,
    "_isFastLaunch": false,
    "category": "General purpose",
    "gpuNum": 0,
    "hideHardwareSpecs": false,
    "memoryGiB": 32,
    "name": "ml.m5.2xlarge",
    "vcpuNum": 8
   },
   {
    "_defaultOrder": 7,
    "_isFastLaunch": false,
    "category": "General purpose",
    "gpuNum": 0,
    "hideHardwareSpecs": false,
    "memoryGiB": 64,
    "name": "ml.m5.4xlarge",
    "vcpuNum": 16
   },
   {
    "_defaultOrder": 8,
    "_isFastLaunch": false,
    "category": "General purpose",
    "gpuNum": 0,
    "hideHardwareSpecs": false,
    "memoryGiB": 128,
    "name": "ml.m5.8xlarge",
    "vcpuNum": 32
   },
   {
    "_defaultOrder": 9,
    "_isFastLaunch": false,
    "category": "General purpose",
    "gpuNum": 0,
    "hideHardwareSpecs": false,
    "memoryGiB": 192,
    "name": "ml.m5.12xlarge",
    "vcpuNum": 48
   },
   {
    "_defaultOrder": 10,
    "_isFastLaunch": false,
    "category": "General purpose",
    "gpuNum": 0,
    "hideHardwareSpecs": false,
    "memoryGiB": 256,
    "name": "ml.m5.16xlarge",
    "vcpuNum": 64
   },
   {
    "_defaultOrder": 11,
    "_isFastLaunch": false,
    "category": "General purpose",
    "gpuNum": 0,
    "hideHardwareSpecs": false,
    "memoryGiB": 384,
    "name": "ml.m5.24xlarge",
    "vcpuNum": 96
   },
   {
    "_defaultOrder": 12,
    "_isFastLaunch": false,
    "category": "General purpose",
    "gpuNum": 0,
    "hideHardwareSpecs": false,
    "memoryGiB": 8,
    "name": "ml.m5d.large",
    "vcpuNum": 2
   },
   {
    "_defaultOrder": 13,
    "_isFastLaunch": false,
    "category": "General purpose",
    "gpuNum": 0,
    "hideHardwareSpecs": false,
    "memoryGiB": 16,
    "name": "ml.m5d.xlarge",
    "vcpuNum": 4
   },
   {
    "_defaultOrder": 14,
    "_isFastLaunch": false,
    "category": "General purpose",
    "gpuNum": 0,
    "hideHardwareSpecs": false,
    "memoryGiB": 32,
    "name": "ml.m5d.2xlarge",
    "vcpuNum": 8
   },
   {
    "_defaultOrder": 15,
    "_isFastLaunch": false,
    "category": "General purpose",
    "gpuNum": 0,
    "hideHardwareSpecs": false,
    "memoryGiB": 64,
    "name": "ml.m5d.4xlarge",
    "vcpuNum": 16
   },
   {
    "_defaultOrder": 16,
    "_isFastLaunch": false,
    "category": "General purpose",
    "gpuNum": 0,
    "hideHardwareSpecs": false,
    "memoryGiB": 128,
    "name": "ml.m5d.8xlarge",
    "vcpuNum": 32
   },
   {
    "_defaultOrder": 17,
    "_isFastLaunch": false,
    "category": "General purpose",
    "gpuNum": 0,
    "hideHardwareSpecs": false,
    "memoryGiB": 192,
    "name": "ml.m5d.12xlarge",
    "vcpuNum": 48
   },
   {
    "_defaultOrder": 18,
    "_isFastLaunch": false,
    "category": "General purpose",
    "gpuNum": 0,
    "hideHardwareSpecs": false,
    "memoryGiB": 256,
    "name": "ml.m5d.16xlarge",
    "vcpuNum": 64
   },
   {
    "_defaultOrder": 19,
    "_isFastLaunch": false,
    "category": "General purpose",
    "gpuNum": 0,
    "hideHardwareSpecs": false,
    "memoryGiB": 384,
    "name": "ml.m5d.24xlarge",
    "vcpuNum": 96
   },
   {
    "_defaultOrder": 20,
    "_isFastLaunch": false,
    "category": "General purpose",
    "gpuNum": 0,
    "hideHardwareSpecs": true,
    "memoryGiB": 0,
    "name": "ml.geospatial.interactive",
    "supportedImageNames": [
     "sagemaker-geospatial-v1-0"
    ],
    "vcpuNum": 0
   },
   {
    "_defaultOrder": 21,
    "_isFastLaunch": true,
    "category": "Compute optimized",
    "gpuNum": 0,
    "hideHardwareSpecs": false,
    "memoryGiB": 4,
    "name": "ml.c5.large",
    "vcpuNum": 2
   },
   {
    "_defaultOrder": 22,
    "_isFastLaunch": false,
    "category": "Compute optimized",
    "gpuNum": 0,
    "hideHardwareSpecs": false,
    "memoryGiB": 8,
    "name": "ml.c5.xlarge",
    "vcpuNum": 4
   },
   {
    "_defaultOrder": 23,
    "_isFastLaunch": false,
    "category": "Compute optimized",
    "gpuNum": 0,
    "hideHardwareSpecs": false,
    "memoryGiB": 16,
    "name": "ml.c5.2xlarge",
    "vcpuNum": 8
   },
   {
    "_defaultOrder": 24,
    "_isFastLaunch": false,
    "category": "Compute optimized",
    "gpuNum": 0,
    "hideHardwareSpecs": false,
    "memoryGiB": 32,
    "name": "ml.c5.4xlarge",
    "vcpuNum": 16
   },
   {
    "_defaultOrder": 25,
    "_isFastLaunch": false,
    "category": "Compute optimized",
    "gpuNum": 0,
    "hideHardwareSpecs": false,
    "memoryGiB": 72,
    "name": "ml.c5.9xlarge",
    "vcpuNum": 36
   },
   {
    "_defaultOrder": 26,
    "_isFastLaunch": false,
    "category": "Compute optimized",
    "gpuNum": 0,
    "hideHardwareSpecs": false,
    "memoryGiB": 96,
    "name": "ml.c5.12xlarge",
    "vcpuNum": 48
   },
   {
    "_defaultOrder": 27,
    "_isFastLaunch": false,
    "category": "Compute optimized",
    "gpuNum": 0,
    "hideHardwareSpecs": false,
    "memoryGiB": 144,
    "name": "ml.c5.18xlarge",
    "vcpuNum": 72
   },
   {
    "_defaultOrder": 28,
    "_isFastLaunch": false,
    "category": "Compute optimized",
    "gpuNum": 0,
    "hideHardwareSpecs": false,
    "memoryGiB": 192,
    "name": "ml.c5.24xlarge",
    "vcpuNum": 96
   },
   {
    "_defaultOrder": 29,
    "_isFastLaunch": true,
    "category": "Accelerated computing",
    "gpuNum": 1,
    "hideHardwareSpecs": false,
    "memoryGiB": 16,
    "name": "ml.g4dn.xlarge",
    "vcpuNum": 4
   },
   {
    "_defaultOrder": 30,
    "_isFastLaunch": false,
    "category": "Accelerated computing",
    "gpuNum": 1,
    "hideHardwareSpecs": false,
    "memoryGiB": 32,
    "name": "ml.g4dn.2xlarge",
    "vcpuNum": 8
   },
   {
    "_defaultOrder": 31,
    "_isFastLaunch": false,
    "category": "Accelerated computing",
    "gpuNum": 1,
    "hideHardwareSpecs": false,
    "memoryGiB": 64,
    "name": "ml.g4dn.4xlarge",
    "vcpuNum": 16
   },
   {
    "_defaultOrder": 32,
    "_isFastLaunch": false,
    "category": "Accelerated computing",
    "gpuNum": 1,
    "hideHardwareSpecs": false,
    "memoryGiB": 128,
    "name": "ml.g4dn.8xlarge",
    "vcpuNum": 32
   },
   {
    "_defaultOrder": 33,
    "_isFastLaunch": false,
    "category": "Accelerated computing",
    "gpuNum": 4,
    "hideHardwareSpecs": false,
    "memoryGiB": 192,
    "name": "ml.g4dn.12xlarge",
    "vcpuNum": 48
   },
   {
    "_defaultOrder": 34,
    "_isFastLaunch": false,
    "category": "Accelerated computing",
    "gpuNum": 1,
    "hideHardwareSpecs": false,
    "memoryGiB": 256,
    "name": "ml.g4dn.16xlarge",
    "vcpuNum": 64
   },
   {
    "_defaultOrder": 35,
    "_isFastLaunch": false,
    "category": "Accelerated computing",
    "gpuNum": 1,
    "hideHardwareSpecs": false,
    "memoryGiB": 61,
    "name": "ml.p3.2xlarge",
    "vcpuNum": 8
   },
   {
    "_defaultOrder": 36,
    "_isFastLaunch": false,
    "category": "Accelerated computing",
    "gpuNum": 4,
    "hideHardwareSpecs": false,
    "memoryGiB": 244,
    "name": "ml.p3.8xlarge",
    "vcpuNum": 32
   },
   {
    "_defaultOrder": 37,
    "_isFastLaunch": false,
    "category": "Accelerated computing",
    "gpuNum": 8,
    "hideHardwareSpecs": false,
    "memoryGiB": 488,
    "name": "ml.p3.16xlarge",
    "vcpuNum": 64
   },
   {
    "_defaultOrder": 38,
    "_isFastLaunch": false,
    "category": "Accelerated computing",
    "gpuNum": 8,
    "hideHardwareSpecs": false,
    "memoryGiB": 768,
    "name": "ml.p3dn.24xlarge",
    "vcpuNum": 96
   },
   {
    "_defaultOrder": 39,
    "_isFastLaunch": false,
    "category": "Memory Optimized",
    "gpuNum": 0,
    "hideHardwareSpecs": false,
    "memoryGiB": 16,
    "name": "ml.r5.large",
    "vcpuNum": 2
   },
   {
    "_defaultOrder": 40,
    "_isFastLaunch": false,
    "category": "Memory Optimized",
    "gpuNum": 0,
    "hideHardwareSpecs": false,
    "memoryGiB": 32,
    "name": "ml.r5.xlarge",
    "vcpuNum": 4
   },
   {
    "_defaultOrder": 41,
    "_isFastLaunch": false,
    "category": "Memory Optimized",
    "gpuNum": 0,
    "hideHardwareSpecs": false,
    "memoryGiB": 64,
    "name": "ml.r5.2xlarge",
    "vcpuNum": 8
   },
   {
    "_defaultOrder": 42,
    "_isFastLaunch": false,
    "category": "Memory Optimized",
    "gpuNum": 0,
    "hideHardwareSpecs": false,
    "memoryGiB": 128,
    "name": "ml.r5.4xlarge",
    "vcpuNum": 16
   },
   {
    "_defaultOrder": 43,
    "_isFastLaunch": false,
    "category": "Memory Optimized",
    "gpuNum": 0,
    "hideHardwareSpecs": false,
    "memoryGiB": 256,
    "name": "ml.r5.8xlarge",
    "vcpuNum": 32
   },
   {
    "_defaultOrder": 44,
    "_isFastLaunch": false,
    "category": "Memory Optimized",
    "gpuNum": 0,
    "hideHardwareSpecs": false,
    "memoryGiB": 384,
    "name": "ml.r5.12xlarge",
    "vcpuNum": 48
   },
   {
    "_defaultOrder": 45,
    "_isFastLaunch": false,
    "category": "Memory Optimized",
    "gpuNum": 0,
    "hideHardwareSpecs": false,
    "memoryGiB": 512,
    "name": "ml.r5.16xlarge",
    "vcpuNum": 64
   },
   {
    "_defaultOrder": 46,
    "_isFastLaunch": false,
    "category": "Memory Optimized",
    "gpuNum": 0,
    "hideHardwareSpecs": false,
    "memoryGiB": 768,
    "name": "ml.r5.24xlarge",
    "vcpuNum": 96
   },
   {
    "_defaultOrder": 47,
    "_isFastLaunch": false,
    "category": "Accelerated computing",
    "gpuNum": 1,
    "hideHardwareSpecs": false,
    "memoryGiB": 16,
    "name": "ml.g5.xlarge",
    "vcpuNum": 4
   },
   {
    "_defaultOrder": 48,
    "_isFastLaunch": false,
    "category": "Accelerated computing",
    "gpuNum": 1,
    "hideHardwareSpecs": false,
    "memoryGiB": 32,
    "name": "ml.g5.2xlarge",
    "vcpuNum": 8
   },
   {
    "_defaultOrder": 49,
    "_isFastLaunch": false,
    "category": "Accelerated computing",
    "gpuNum": 1,
    "hideHardwareSpecs": false,
    "memoryGiB": 64,
    "name": "ml.g5.4xlarge",
    "vcpuNum": 16
   },
   {
    "_defaultOrder": 50,
    "_isFastLaunch": false,
    "category": "Accelerated computing",
    "gpuNum": 1,
    "hideHardwareSpecs": false,
    "memoryGiB": 128,
    "name": "ml.g5.8xlarge",
    "vcpuNum": 32
   },
   {
    "_defaultOrder": 51,
    "_isFastLaunch": false,
    "category": "Accelerated computing",
    "gpuNum": 1,
    "hideHardwareSpecs": false,
    "memoryGiB": 256,
    "name": "ml.g5.16xlarge",
    "vcpuNum": 64
   },
   {
    "_defaultOrder": 52,
    "_isFastLaunch": false,
    "category": "Accelerated computing",
    "gpuNum": 4,
    "hideHardwareSpecs": false,
    "memoryGiB": 192,
    "name": "ml.g5.12xlarge",
    "vcpuNum": 48
   },
   {
    "_defaultOrder": 53,
    "_isFastLaunch": false,
    "category": "Accelerated computing",
    "gpuNum": 4,
    "hideHardwareSpecs": false,
    "memoryGiB": 384,
    "name": "ml.g5.24xlarge",
    "vcpuNum": 96
   },
   {
    "_defaultOrder": 54,
    "_isFastLaunch": false,
    "category": "Accelerated computing",
    "gpuNum": 8,
    "hideHardwareSpecs": false,
    "memoryGiB": 768,
    "name": "ml.g5.48xlarge",
    "vcpuNum": 192
   }
  ],
  "instance_type": "ml.g4dn.xlarge",
  "kernelspec": {
   "display_name": "Python 3 (TensorFlow 2.6 Python 3.8 GPU Optimized)",
   "language": "python",
   "name": "python3__SAGEMAKER_INTERNAL__arn:aws:sagemaker:ap-northeast-2:806072073708:image/tensorflow-2.6-gpu-py38-cu112-ubuntu20.04-v1"
  },
  "language_info": {
   "codemirror_mode": {
    "name": "ipython",
    "version": 3
   },
   "file_extension": ".py",
   "mimetype": "text/x-python",
   "name": "python",
   "nbconvert_exporter": "python",
   "pygments_lexer": "ipython3",
   "version": "3.8.2"
  }
 },
 "nbformat": 4,
 "nbformat_minor": 5
}
