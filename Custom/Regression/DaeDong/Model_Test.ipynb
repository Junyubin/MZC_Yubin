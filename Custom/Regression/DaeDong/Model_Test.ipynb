{
 "cells": [
  {
   "cell_type": "code",
   "execution_count": 2,
   "id": "edbcc871-a6d7-48df-ae5b-db5f208a5b40",
   "metadata": {
    "tags": []
   },
   "outputs": [
    {
     "name": "stdout",
     "output_type": "stream",
     "text": [
      "\u001b[31mERROR: pip's dependency resolver does not currently take into account all the packages that are installed. This behaviour is the source of the following dependency conflicts.\n",
      "tensorflow 2.6.2 requires typing-extensions~=3.7.4, but you have typing-extensions 4.6.2 which is incompatible.\n",
      "awscli 1.22.22 requires botocore==1.23.22, but you have botocore 1.29.142 which is incompatible.\n",
      "awscli 1.22.22 requires s3transfer<0.6.0,>=0.5.0, but you have s3transfer 0.6.1 which is incompatible.\u001b[0m\n",
      "\u001b[33mWARNING: Running pip as the 'root' user can result in broken permissions and conflicting behaviour with the system package manager. It is recommended to use a virtual environment instead: https://pip.pypa.io/warnings/venv\u001b[0m\n",
      "\u001b[33mWARNING: You are using pip version 21.3.1; however, version 23.1.2 is available.\n",
      "You should consider upgrading via the '/usr/local/bin/python3.8 -m pip install --upgrade pip' command.\u001b[0m\n"
     ]
    }
   ],
   "source": [
    "!pip install awswrangler -q"
   ]
  },
  {
   "cell_type": "code",
   "execution_count": 3,
   "id": "b109bf00-53aa-4795-b1df-f99f56d1bb27",
   "metadata": {
    "tags": []
   },
   "outputs": [],
   "source": [
    "import awswrangler as wr \n",
    "import numpy as np\n",
    "import pandas as pd\n",
    "import matplotlib.pyplot as plt\n",
    "import datetime\n",
    "import json"
   ]
  },
  {
   "cell_type": "code",
   "execution_count": 4,
   "id": "ec47e2af-ef0e-4887-a719-b8c41678e8c1",
   "metadata": {
    "tags": []
   },
   "outputs": [],
   "source": [
    "# pd.set_option('display.max.colwidth',80)"
   ]
  },
  {
   "cell_type": "markdown",
   "id": "2210f6f1-81b0-478c-a931-f8313790313d",
   "metadata": {
    "tags": []
   },
   "source": [
    "## Load Data"
   ]
  },
  {
   "cell_type": "code",
   "execution_count": 5,
   "id": "e9c5e45f-a75e-49aa-8121-a7d0739fbbaa",
   "metadata": {
    "tags": []
   },
   "outputs": [],
   "source": [
    "# monitor_hist = wr.s3.read_parquet('s3://dd-ai-ml/preprocessing/monitoring_history_202304241141.parquet')\n",
    "# monitor_hist = pd.json_normalize(monitor_hist.data.apply(json.loads))\n",
    "monitor_hist = wr.s3.read_csv('s3://dd-ai-ml/raw_data/preprocessing/parse_data.csv')"
   ]
  },
  {
   "cell_type": "code",
   "execution_count": 6,
   "id": "59e23d74-6441-4e6b-9fdd-51cb4cf801ef",
   "metadata": {
    "tags": []
   },
   "outputs": [],
   "source": [
    "## 형변환\n",
    "monitor_hist['event_date'] = pd.to_datetime(monitor_hist['event_date'])\n",
    "monitor_hist['event_date_min'] = pd.to_datetime(monitor_hist['event_date_min'])\n",
    "monitor_hist['crops_start_date'] = pd.to_datetime(monitor_hist['crops_start_date'])\n",
    "monitor_hist['crops_end_date'] = pd.to_datetime(monitor_hist['crops_end_date'])\n",
    "\n",
    "## 컬럼명 변경\n",
    "monitor_hist.columns = ['_'.join(col.split('$'))  if '$' in col else col for col in list(monitor_hist)]"
   ]
  },
  {
   "cell_type": "code",
   "execution_count": 7,
   "id": "9ca67c7a-2a33-4389-8f75-9326fbb4b0e8",
   "metadata": {
    "tags": []
   },
   "outputs": [],
   "source": [
    "## Test Model\n",
    "monitor_hist = monitor_hist[:10000]"
   ]
  },
  {
   "cell_type": "code",
   "execution_count": 8,
   "id": "e2fb691d-b9cc-4ae3-bc30-7e261d4a2f89",
   "metadata": {
    "tags": []
   },
   "outputs": [
    {
     "data": {
      "text/plain": [
       "(10000, 59)"
      ]
     },
     "execution_count": 8,
     "metadata": {},
     "output_type": "execute_result"
    }
   ],
   "source": [
    "monitor_hist.shape"
   ]
  },
  {
   "cell_type": "code",
   "execution_count": 9,
   "id": "b525cf91-bac9-4393-84c6-e3d1d0c2143a",
   "metadata": {
    "tags": []
   },
   "outputs": [
    {
     "data": {
      "text/plain": [
       "(Timestamp('2021-01-01 00:00:07.813000'),\n",
       " Timestamp('2021-01-07 22:56:12.813000'))"
      ]
     },
     "execution_count": 9,
     "metadata": {},
     "output_type": "execute_result"
    }
   ],
   "source": [
    "monitor_hist['event_date'].min(), monitor_hist['event_date'].max()"
   ]
  },
  {
   "cell_type": "code",
   "execution_count": 10,
   "id": "3a6ef4fc-d1a4-4b5f-b744-063971f8cf4e",
   "metadata": {
    "tags": []
   },
   "outputs": [
    {
     "name": "stdout",
     "output_type": "stream",
     "text": [
      "gsm_key\n",
      "green_house_id\n",
      "prd_code\n",
      "crops_start_date\n",
      "crops_end_date\n",
      "top_window_1_auto_manual_mode\n",
      "top_window_2_auto_manual_mode\n",
      "side_window_1_auto_manual_mode\n",
      "side_window_2\n",
      "side_window_2_run_status\n",
      "side_window_2_auto_manual_mode\n",
      "dc_power_1\n",
      "dc_power_1_run_status\n",
      "dc_power_1_auto_manual_mode\n",
      "ac_power_1\n",
      "ac_power_1_run_status\n",
      "ac_power_1_auto_manual_mode\n",
      "heat_cover_1_auto_manual_mode\n",
      "heat_cover_2\n",
      "heat_cover_2_run_status\n",
      "heat_cover_2_auto_manual_mode\n",
      "float_fan_1_auto_manual_mode\n",
      "exhaust_fan_1_auto_manual_mode\n"
     ]
    }
   ],
   "source": [
    "# ## 변수 추가생성\n",
    "# monitor_hist['hour'] = monitor_hist['event_date'].dt.hour\n",
    "# monitor_hist['month'] = monitor_hist['event_date'].dt.month\n",
    "\n",
    "## 단일값 제거\n",
    "for col in list(monitor_hist):\n",
    "    if monitor_hist[col].nunique() <= 1:\n",
    "        print(col)\n",
    "        monitor_hist.drop(col, axis = 1, inplace = True)        \n",
    "\n",
    "# ## 불필요 컬럼 제거\n",
    "# rm_col = ['crops_start_date', 'crops_end_date', 'event_date']\n",
    "# monitor_hist = monitor_hist[[col for col in list(monitor_hist) if col not in rm_col]]"
   ]
  },
  {
   "cell_type": "markdown",
   "id": "d15359eb-5564-4c5b-90ba-1884aa5f5ccd",
   "metadata": {
    "tags": []
   },
   "source": [
    "## Test"
   ]
  },
  {
   "cell_type": "code",
   "execution_count": 11,
   "id": "cca9f30a-6886-4833-b350-7e039800b05c",
   "metadata": {
    "tags": []
   },
   "outputs": [
    {
     "data": {
      "text/plain": [
       "['sensor_inner_temperature1_1_target',\n",
       " 'sensor_inner_hum1_1_target',\n",
       " 'sensor_plantation_temperature_1_1_target',\n",
       " 'sensor_plantation_hum_1_1_target',\n",
       " 'sensor_inner_co2_1_target',\n",
       " 'sensor_inner_temperature1_2_target',\n",
       " 'sensor_inner_hum1_2_target',\n",
       " 'sensor_plantation_temperature_1_2_target',\n",
       " 'sensor_plantation_hum_1_2_target',\n",
       " 'sensor_inner_co2_2_target']"
      ]
     },
     "execution_count": 11,
     "metadata": {},
     "output_type": "execute_result"
    }
   ],
   "source": [
    "## col_n = 10, MSE = 400\n",
    "target_base = ['sensor_inner_temperature1_1', 'sensor_inner_hum1_1', 'sensor_plantation_temperature_1_1',\n",
    "          'sensor_plantation_hum_1_1', 'sensor_inner_co2_1', 'sensor_inner_temperature1_2',\n",
    "          'sensor_inner_hum1_2', 'sensor_plantation_temperature_1_2', 'sensor_plantation_hum_1_2', 'sensor_inner_co2_2',]\n",
    "\n",
    "### col_n = 5, MSE = 200\n",
    "# target_base = ['sensor_inner_temperature1_1', 'sensor_inner_hum1_1', 'sensor_plantation_temperature_1_1',\n",
    "#           'sensor_plantation_hum_1_1', 'sensor_inner_co2_1']\n",
    "\n",
    "### col_n = 1, MSE = 2\n",
    "# target_base = ['sensor_inner_temperature1_1']\n",
    "\n",
    "target = [col+'_target' for col in target_base]\n",
    "target"
   ]
  },
  {
   "cell_type": "code",
   "execution_count": 12,
   "id": "8627ed9c-609a-4403-859f-8d5c831e9d1f",
   "metadata": {
    "tags": []
   },
   "outputs": [
    {
     "name": "stderr",
     "output_type": "stream",
     "text": [
      "/usr/local/lib/python3.8/site-packages/pandas/core/frame.py:3191: SettingWithCopyWarning: \n",
      "A value is trying to be set on a copy of a slice from a DataFrame.\n",
      "Try using .loc[row_indexer,col_indexer] = value instead\n",
      "\n",
      "See the caveats in the documentation: https://pandas.pydata.org/pandas-docs/stable/user_guide/indexing.html#returning-a-view-versus-a-copy\n",
      "  self[k1] = value[k2]\n",
      "<ipython-input-12-3c4641653af7>:4: SettingWithCopyWarning: \n",
      "A value is trying to be set on a copy of a slice from a DataFrame\n",
      "\n",
      "See the caveats in the documentation: https://pandas.pydata.org/pandas-docs/stable/user_guide/indexing.html#returning-a-view-versus-a-copy\n",
      "  train_df.dropna(axis = 0, inplace = True)\n",
      "/usr/local/lib/python3.8/site-packages/pandas/core/frame.py:3191: SettingWithCopyWarning: \n",
      "A value is trying to be set on a copy of a slice from a DataFrame.\n",
      "Try using .loc[row_indexer,col_indexer] = value instead\n",
      "\n",
      "See the caveats in the documentation: https://pandas.pydata.org/pandas-docs/stable/user_guide/indexing.html#returning-a-view-versus-a-copy\n",
      "  self[k1] = value[k2]\n",
      "<ipython-input-12-3c4641653af7>:9: SettingWithCopyWarning: \n",
      "A value is trying to be set on a copy of a slice from a DataFrame\n",
      "\n",
      "See the caveats in the documentation: https://pandas.pydata.org/pandas-docs/stable/user_guide/indexing.html#returning-a-view-versus-a-copy\n",
      "  test_df.dropna(axis = 0, inplace = True)\n"
     ]
    }
   ],
   "source": [
    "train_df = monitor_hist[:int(len(monitor_hist) * 0.8)]\n",
    "train_df[target] = train_df[target_base].shift(30)\n",
    "train_df.reset_index(drop = True, inplace = True)\n",
    "train_df.dropna(axis = 0, inplace = True)\n",
    "\n",
    "test_df = monitor_hist[int(len(monitor_hist) * 0.8):]\n",
    "test_df[target] = test_df[target_base].shift(30)\n",
    "test_df.reset_index(drop = True, inplace = True)\n",
    "test_df.dropna(axis = 0, inplace = True)"
   ]
  },
  {
   "cell_type": "code",
   "execution_count": 13,
   "id": "21f36e64-2c5f-4fb4-83cb-1f95ad60a594",
   "metadata": {
    "tags": []
   },
   "outputs": [],
   "source": [
    "train_x = train_df[[col for col in list(train_df) if col not in target]]\n",
    "train_x = train_x.select_dtypes(include = ['int64', 'float64'])\n",
    "train_y = train_df[[col for col in list(train_df) if col in target]]\n",
    "\n",
    "test_x = test_df[[col for col in list(test_df) if col not in target]]\n",
    "test_x = test_x.select_dtypes(include = ['int64', 'float64'])\n",
    "test_y = test_df[[col for col in list(test_df) if col in target]]"
   ]
  },
  {
   "cell_type": "code",
   "execution_count": 14,
   "id": "74f5a36d-e709-425d-9900-2c04d5c55e5d",
   "metadata": {
    "tags": []
   },
   "outputs": [
    {
     "data": {
      "text/plain": [
       "((7970, 34), (7970, 10))"
      ]
     },
     "execution_count": 14,
     "metadata": {},
     "output_type": "execute_result"
    }
   ],
   "source": [
    "train_x.shape, train_y.shape"
   ]
  },
  {
   "cell_type": "code",
   "execution_count": 15,
   "id": "dd9578f3-0608-46f9-9cfd-e2bc95e90a77",
   "metadata": {
    "tags": []
   },
   "outputs": [
    {
     "data": {
      "text/plain": [
       "((1970, 34), (1970, 10))"
      ]
     },
     "execution_count": 15,
     "metadata": {},
     "output_type": "execute_result"
    }
   ],
   "source": [
    "test_x.shape, test_y.shape"
   ]
  },
  {
   "cell_type": "code",
   "execution_count": 16,
   "id": "1f771a8a-9b42-4094-8783-025afac48d93",
   "metadata": {
    "tags": []
   },
   "outputs": [],
   "source": [
    "# from sklearn.preprocessing import MinMaxScaler\n",
    "\n",
    "# scl_model_x = MinMaxScaler()\n",
    "# scl_model_x.fit(train_x)\n",
    "\n",
    "# train_x = scl_model_x.transform(train_x)\n",
    "# test_x = scl_model_x.transform(test_x)\n",
    "\n",
    "# scl_model_y = MinMaxScaler()\n",
    "# scl_model_y.fit(train_y)\n",
    "\n",
    "# train_y = scl_model_y.transform(train_y)\n",
    "# test_y = scl_model_y.transform(test_y)"
   ]
  },
  {
   "cell_type": "code",
   "execution_count": 18,
   "id": "3b6ab655-0021-4461-a1ce-89c595852e58",
   "metadata": {
    "tags": []
   },
   "outputs": [
    {
     "data": {
      "text/plain": [
       "23"
      ]
     },
     "execution_count": 18,
     "metadata": {},
     "output_type": "execute_result"
    }
   ],
   "source": [
    "import gc\n",
    "\n",
    "gc.collect()"
   ]
  },
  {
   "cell_type": "code",
   "execution_count": 18,
   "id": "87cb1663-318e-4976-a99a-361c2e392bba",
   "metadata": {},
   "outputs": [],
   "source": [
    "## y값 scaling\n",
    "## 마지막 layer activation function 조정"
   ]
  },
  {
   "cell_type": "code",
   "execution_count": 19,
   "id": "19ed2db9-6f21-4b58-8e98-d9bdf044a15d",
   "metadata": {
    "tags": []
   },
   "outputs": [
    {
     "name": "stdout",
     "output_type": "stream",
     "text": [
      "Model: \"sequential\"\n",
      "_________________________________________________________________\n",
      "Layer (type)                 Output Shape              Param #   \n",
      "=================================================================\n",
      "dense (Dense)                (None, 32)                1120      \n",
      "_________________________________________________________________\n",
      "dense_1 (Dense)              (None, 16)                528       \n",
      "_________________________________________________________________\n",
      "dense_2 (Dense)              (None, 8)                 136       \n",
      "_________________________________________________________________\n",
      "dense_3 (Dense)              (None, 10)                90        \n",
      "=================================================================\n",
      "Total params: 1,874\n",
      "Trainable params: 1,874\n",
      "Non-trainable params: 0\n",
      "_________________________________________________________________\n"
     ]
    }
   ],
   "source": [
    "import tensorflow as tf\n",
    "from tensorflow.keras import Sequential\n",
    "from tensorflow.keras.layers import Dense, LayerNormalization, Conv1D, Input, MaxPooling1D, Flatten, Dropout\n",
    "from keras.callbacks import EarlyStopping\n",
    "import keras.backend as K\n",
    "\n",
    "tf.random.set_seed(1004)\n",
    "K.clear_session()\n",
    "\n",
    "model = Sequential([\n",
    "    Input(shape = (train_x.shape[1:])),\n",
    "    Dense(32, activation = 'relu'),\n",
    "    Dense(16, activation = 'relu'),\n",
    "    Dense(8, activation = 'relu'),\n",
    "    Dense(train_y.shape[1])\n",
    "    # Dense(train_y.shape[1], activation = 'sigmoid')\n",
    "])\n",
    "\n",
    "# early_stopping = EarlyStopping(monitor='loss', patience=10, min_delta = 0.00001)\n",
    "model.compile(loss='mse',\n",
    "              optimizer='adam',\n",
    "              metrics=['mae', 'mse'])\n",
    "\n",
    "model.summary()"
   ]
  },
  {
   "cell_type": "code",
   "execution_count": 21,
   "id": "88cd08fa-9757-40a3-8e77-0a443c46e564",
   "metadata": {
    "scrolled": true,
    "tags": []
   },
   "outputs": [
    {
     "name": "stdout",
     "output_type": "stream",
     "text": [
      "Epoch 1/500\n",
      "Extension horovod.torch has not been built: /usr/local/lib/python3.8/site-packages/horovod/torch/mpi_lib/_mpi_lib.cpython-38-x86_64-linux-gnu.so not found\n",
      "If this is not expected, reinstall Horovod with HOROVOD_WITH_PYTORCH=1 to debug the build error.\n",
      "Warning! MPI libs are missing, but python applications are still avaiable.\n",
      "[2023-05-25 01:14:05.235 tensorflow-2-6-gpu--ml-g4dn-xlarge-7eba0e151157af0bd8a25c896f03:18 INFO utils.py:27] RULE_JOB_STOP_SIGNAL_FILENAME: None\n",
      "[2023-05-25 01:14:05.261 tensorflow-2-6-gpu--ml-g4dn-xlarge-7eba0e151157af0bd8a25c896f03:18 INFO profiler_config_parser.py:111] Unable to find config at /opt/ml/input/config/profilerconfig.json. Profiler is disabled.\n",
      "499/499 [==============================] - 2s 2ms/step - loss: 8582792192.0000 - mae: 17093.7754 - mse: 8582792192.0000\n",
      "Epoch 2/500\n",
      "499/499 [==============================] - 1s 2ms/step - loss: 282557.5312 - mae: 216.8061 - mse: 282557.5312\n",
      "Epoch 3/500\n",
      "499/499 [==============================] - 1s 2ms/step - loss: 252427.3594 - mae: 237.9267 - mse: 252427.3594\n",
      "Epoch 4/500\n",
      "499/499 [==============================] - 1s 2ms/step - loss: 209398.4375 - mae: 236.6136 - mse: 209398.4375\n",
      "Epoch 5/500\n",
      "499/499 [==============================] - 1s 2ms/step - loss: 168244.9219 - mae: 216.4507 - mse: 168244.9219\n",
      "Epoch 6/500\n",
      "499/499 [==============================] - 1s 2ms/step - loss: 144068.6875 - mae: 193.3460 - mse: 144068.6875\n",
      "Epoch 7/500\n",
      "499/499 [==============================] - 1s 2ms/step - loss: 126149.4766 - mae: 173.3004 - mse: 126149.4766\n",
      "Epoch 8/500\n",
      "499/499 [==============================] - 1s 2ms/step - loss: 118319.8984 - mae: 160.0589 - mse: 118319.8984\n",
      "Epoch 9/500\n",
      "499/499 [==============================] - 1s 2ms/step - loss: 112797.6797 - mae: 147.0759 - mse: 112797.6797\n",
      "Epoch 10/500\n",
      "499/499 [==============================] - 1s 2ms/step - loss: 104789.6875 - mae: 135.1890 - mse: 104789.6875\n",
      "Epoch 11/500\n",
      "499/499 [==============================] - 1s 2ms/step - loss: 98587.8281 - mae: 125.4266 - mse: 98587.8281\n",
      "Epoch 12/500\n",
      "499/499 [==============================] - 1s 2ms/step - loss: 98602.5625 - mae: 118.2571 - mse: 98602.5625\n",
      "Epoch 13/500\n",
      "499/499 [==============================] - 1s 2ms/step - loss: 92712.1250 - mae: 112.1295 - mse: 92712.1250\n",
      "Epoch 14/500\n",
      "499/499 [==============================] - 1s 2ms/step - loss: 99216.9609 - mae: 110.6850 - mse: 99216.9609\n",
      "Epoch 15/500\n",
      "499/499 [==============================] - 1s 2ms/step - loss: 96435.0469 - mae: 107.8385 - mse: 96435.0469\n",
      "Epoch 16/500\n",
      "499/499 [==============================] - 1s 2ms/step - loss: 93752.5469 - mae: 106.2446 - mse: 93752.5469\n",
      "Epoch 17/500\n",
      "499/499 [==============================] - 1s 2ms/step - loss: 89730.3906 - mae: 105.2738 - mse: 89730.3906\n",
      "Epoch 18/500\n",
      "499/499 [==============================] - 1s 2ms/step - loss: 92463.0859 - mae: 105.5882 - mse: 92463.0859\n",
      "Epoch 19/500\n",
      "499/499 [==============================] - 1s 2ms/step - loss: 98340.4922 - mae: 108.9558 - mse: 98340.4922\n",
      "Epoch 20/500\n",
      "499/499 [==============================] - 1s 2ms/step - loss: 90553.9375 - mae: 104.6848 - mse: 90553.9375\n",
      "Epoch 21/500\n",
      "499/499 [==============================] - 1s 2ms/step - loss: 98063.6875 - mae: 109.2697 - mse: 98063.6875\n",
      "Epoch 22/500\n",
      "499/499 [==============================] - 1s 2ms/step - loss: 88175.6641 - mae: 103.3993 - mse: 88175.6641\n",
      "Epoch 23/500\n",
      "499/499 [==============================] - 1s 2ms/step - loss: 95378.6250 - mae: 106.5414 - mse: 95378.6250\n",
      "Epoch 24/500\n",
      "499/499 [==============================] - 1s 2ms/step - loss: 86691.6328 - mae: 102.6311 - mse: 86691.6328\n",
      "Epoch 25/500\n",
      "499/499 [==============================] - 1s 2ms/step - loss: 77303.2656 - mae: 99.2285 - mse: 77303.2656\n",
      "Epoch 26/500\n",
      "499/499 [==============================] - 1s 2ms/step - loss: 79656.1719 - mae: 100.0259 - mse: 79656.1719\n",
      "Epoch 27/500\n",
      "499/499 [==============================] - 1s 2ms/step - loss: 94236.4453 - mae: 107.0658 - mse: 94236.4453\n",
      "Epoch 28/500\n",
      "499/499 [==============================] - 1s 2ms/step - loss: 82661.3984 - mae: 100.4632 - mse: 82661.3984\n",
      "Epoch 29/500\n",
      "499/499 [==============================] - 1s 2ms/step - loss: 69524.6719 - mae: 95.2294 - mse: 69524.6719\n",
      "Epoch 30/500\n",
      "499/499 [==============================] - 1s 2ms/step - loss: 63932.5938 - mae: 93.1228 - mse: 63932.5938\n",
      "Epoch 31/500\n",
      "499/499 [==============================] - 1s 2ms/step - loss: 69157.3516 - mae: 94.4732 - mse: 69157.3516\n",
      "Epoch 32/500\n",
      "499/499 [==============================] - 1s 2ms/step - loss: 56527.9922 - mae: 87.8524 - mse: 56527.9922\n",
      "Epoch 33/500\n",
      "499/499 [==============================] - 1s 2ms/step - loss: 43160.3789 - mae: 81.2922 - mse: 43160.3789\n",
      "Epoch 34/500\n",
      "499/499 [==============================] - 1s 2ms/step - loss: 38021.0000 - mae: 78.6815 - mse: 38021.0000\n",
      "Epoch 35/500\n",
      "499/499 [==============================] - 1s 2ms/step - loss: 31953.8477 - mae: 74.9459 - mse: 31953.8477\n",
      "Epoch 36/500\n",
      "499/499 [==============================] - 1s 2ms/step - loss: 31856.5605 - mae: 74.8401 - mse: 31856.5605\n",
      "Epoch 37/500\n",
      "499/499 [==============================] - 1s 2ms/step - loss: 34022.4648 - mae: 75.5499 - mse: 34022.4648\n",
      "Epoch 38/500\n",
      "499/499 [==============================] - 1s 2ms/step - loss: 34963.7734 - mae: 76.1961 - mse: 34963.7734\n",
      "Epoch 39/500\n",
      "499/499 [==============================] - 1s 2ms/step - loss: 31935.8262 - mae: 74.1137 - mse: 31935.8262\n",
      "Epoch 40/500\n",
      "499/499 [==============================] - 1s 2ms/step - loss: 29768.9551 - mae: 72.2429 - mse: 29768.9551\n",
      "Epoch 41/500\n",
      "499/499 [==============================] - 1s 2ms/step - loss: 25434.3184 - mae: 69.0125 - mse: 25434.3184\n",
      "Epoch 42/500\n",
      "499/499 [==============================] - 1s 2ms/step - loss: 30501.6523 - mae: 72.3040 - mse: 30501.6523\n",
      "Epoch 43/500\n",
      "499/499 [==============================] - 1s 2ms/step - loss: 44581.0156 - mae: 79.5148 - mse: 44581.0156\n",
      "Epoch 44/500\n",
      "499/499 [==============================] - 1s 2ms/step - loss: 32365.2461 - mae: 73.1733 - mse: 32365.2461\n",
      "Epoch 45/500\n",
      "499/499 [==============================] - 1s 2ms/step - loss: 27937.2148 - mae: 70.2300 - mse: 27937.2148\n",
      "Epoch 46/500\n",
      "499/499 [==============================] - 1s 2ms/step - loss: 25660.0547 - mae: 68.3659 - mse: 25660.0547\n",
      "Epoch 47/500\n",
      "499/499 [==============================] - 1s 2ms/step - loss: 25950.7344 - mae: 68.3054 - mse: 25950.7344\n",
      "Epoch 48/500\n",
      "499/499 [==============================] - 1s 2ms/step - loss: 26415.2305 - mae: 67.9190 - mse: 26415.2305\n",
      "Epoch 49/500\n",
      "499/499 [==============================] - 1s 2ms/step - loss: 55037.8945 - mae: 84.1058 - mse: 55037.8945\n",
      "Epoch 50/500\n",
      "499/499 [==============================] - 1s 2ms/step - loss: 22986.4258 - mae: 65.8836 - mse: 22986.4258\n",
      "Epoch 51/500\n",
      "499/499 [==============================] - 1s 2ms/step - loss: 22773.9473 - mae: 65.0791 - mse: 22773.9473\n",
      "Epoch 52/500\n",
      "499/499 [==============================] - 1s 2ms/step - loss: 26914.7617 - mae: 67.7703 - mse: 26914.7617\n",
      "Epoch 53/500\n",
      "499/499 [==============================] - 1s 2ms/step - loss: 22544.0488 - mae: 63.3788 - mse: 22544.0488\n",
      "Epoch 54/500\n",
      "499/499 [==============================] - 1s 2ms/step - loss: 23440.0977 - mae: 64.2978 - mse: 23440.0977\n",
      "Epoch 55/500\n",
      "499/499 [==============================] - 1s 2ms/step - loss: 22296.6289 - mae: 61.8996 - mse: 22296.6289\n",
      "Epoch 56/500\n",
      "499/499 [==============================] - 1s 2ms/step - loss: 21493.2109 - mae: 61.2646 - mse: 21493.2109\n",
      "Epoch 57/500\n",
      "499/499 [==============================] - 1s 2ms/step - loss: 19768.0430 - mae: 58.1635 - mse: 19768.0430\n",
      "Epoch 58/500\n",
      "499/499 [==============================] - 1s 2ms/step - loss: 24649.2910 - mae: 64.5672 - mse: 24649.2910\n",
      "Epoch 59/500\n",
      "499/499 [==============================] - 1s 2ms/step - loss: 20922.5117 - mae: 60.0760 - mse: 20922.5117\n",
      "Epoch 60/500\n",
      "499/499 [==============================] - 1s 2ms/step - loss: 23004.5684 - mae: 63.6663 - mse: 23004.5684\n",
      "Epoch 61/500\n",
      "499/499 [==============================] - 1s 2ms/step - loss: 24521.9062 - mae: 63.1068 - mse: 24521.9062\n",
      "Epoch 62/500\n",
      "499/499 [==============================] - 1s 2ms/step - loss: 22031.1016 - mae: 61.2365 - mse: 22031.1016\n",
      "Epoch 63/500\n",
      "499/499 [==============================] - 1s 2ms/step - loss: 19921.0000 - mae: 58.0300 - mse: 19921.0000\n",
      "Epoch 64/500\n",
      "499/499 [==============================] - 1s 2ms/step - loss: 25455.0312 - mae: 64.3879 - mse: 25455.0312\n",
      "Epoch 65/500\n",
      "499/499 [==============================] - 1s 2ms/step - loss: 22293.6016 - mae: 60.2892 - mse: 22293.6016\n",
      "Epoch 66/500\n",
      "499/499 [==============================] - 1s 2ms/step - loss: 24843.5840 - mae: 63.4154 - mse: 24843.5840\n",
      "Epoch 67/500\n",
      "499/499 [==============================] - 1s 2ms/step - loss: 21687.5117 - mae: 61.0902 - mse: 21687.5117\n",
      "Epoch 68/500\n",
      "499/499 [==============================] - 1s 2ms/step - loss: 22491.1641 - mae: 60.9886 - mse: 22491.1641\n",
      "Epoch 69/500\n",
      "499/499 [==============================] - 1s 2ms/step - loss: 21221.8711 - mae: 59.5064 - mse: 21221.8711\n",
      "Epoch 70/500\n",
      "499/499 [==============================] - 1s 2ms/step - loss: 20389.3145 - mae: 58.0146 - mse: 20389.3145\n",
      "Epoch 71/500\n",
      "499/499 [==============================] - 1s 2ms/step - loss: 19935.3906 - mae: 57.0954 - mse: 19935.3906\n",
      "Epoch 72/500\n",
      "499/499 [==============================] - 1s 2ms/step - loss: 20963.7383 - mae: 58.4175 - mse: 20963.7383\n",
      "Epoch 73/500\n",
      "499/499 [==============================] - 1s 2ms/step - loss: 24088.7930 - mae: 61.0079 - mse: 24088.7930\n",
      "Epoch 74/500\n",
      "499/499 [==============================] - 1s 2ms/step - loss: 17305.2285 - mae: 52.2048 - mse: 17305.2285\n",
      "Epoch 75/500\n",
      "499/499 [==============================] - 1s 2ms/step - loss: 16997.4551 - mae: 51.0904 - mse: 16997.4551\n",
      "Epoch 76/500\n",
      "499/499 [==============================] - 1s 2ms/step - loss: 16207.6387 - mae: 50.8266 - mse: 16207.6387\n",
      "Epoch 77/500\n",
      "499/499 [==============================] - 1s 2ms/step - loss: 17216.5781 - mae: 52.4909 - mse: 17216.5781\n",
      "Epoch 78/500\n",
      "499/499 [==============================] - 1s 2ms/step - loss: 17210.5273 - mae: 51.9337 - mse: 17210.5273\n",
      "Epoch 79/500\n",
      "499/499 [==============================] - 1s 2ms/step - loss: 16734.3203 - mae: 51.1662 - mse: 16734.3203\n",
      "Epoch 80/500\n",
      "499/499 [==============================] - 1s 2ms/step - loss: 14583.3701 - mae: 45.8855 - mse: 14583.3701\n",
      "Epoch 81/500\n",
      "499/499 [==============================] - 1s 2ms/step - loss: 15717.6738 - mae: 49.4693 - mse: 15717.6738\n",
      "Epoch 82/500\n",
      "499/499 [==============================] - 1s 2ms/step - loss: 12361.7881 - mae: 42.4122 - mse: 12361.7881\n",
      "Epoch 83/500\n",
      "499/499 [==============================] - 1s 2ms/step - loss: 14332.0654 - mae: 46.0958 - mse: 14332.0654\n",
      "Epoch 84/500\n",
      "499/499 [==============================] - 1s 2ms/step - loss: 14225.5703 - mae: 46.1866 - mse: 14225.5703\n",
      "Epoch 85/500\n",
      "499/499 [==============================] - 1s 2ms/step - loss: 13883.4229 - mae: 45.3178 - mse: 13883.4229\n",
      "Epoch 86/500\n",
      "499/499 [==============================] - 1s 2ms/step - loss: 13489.9619 - mae: 44.7753 - mse: 13489.9619\n",
      "Epoch 87/500\n",
      "499/499 [==============================] - 1s 2ms/step - loss: 13590.5117 - mae: 45.1582 - mse: 13590.5117\n",
      "Epoch 88/500\n",
      "499/499 [==============================] - 1s 2ms/step - loss: 13396.9775 - mae: 44.0153 - mse: 13396.9775\n",
      "Epoch 89/500\n",
      "499/499 [==============================] - 1s 2ms/step - loss: 14920.3193 - mae: 47.2135 - mse: 14920.3193\n",
      "Epoch 90/500\n",
      "499/499 [==============================] - 1s 2ms/step - loss: 13685.7168 - mae: 45.0992 - mse: 13685.7168\n",
      "Epoch 91/500\n",
      "499/499 [==============================] - 1s 2ms/step - loss: 13980.2305 - mae: 45.4718 - mse: 13980.2305\n",
      "Epoch 92/500\n",
      "499/499 [==============================] - 1s 2ms/step - loss: 13573.9268 - mae: 44.6657 - mse: 13573.9268\n",
      "Epoch 93/500\n",
      "499/499 [==============================] - 1s 2ms/step - loss: 12971.6211 - mae: 43.7771 - mse: 12971.6211\n",
      "Epoch 94/500\n",
      "499/499 [==============================] - 1s 2ms/step - loss: 13519.1807 - mae: 44.8860 - mse: 13519.1807\n",
      "Epoch 95/500\n",
      "499/499 [==============================] - 1s 2ms/step - loss: 11312.0039 - mae: 39.6881 - mse: 11312.0039\n",
      "Epoch 96/500\n",
      "499/499 [==============================] - 1s 2ms/step - loss: 11639.1191 - mae: 39.5777 - mse: 11639.1191\n",
      "Epoch 97/500\n",
      "499/499 [==============================] - 1s 2ms/step - loss: 15489.7979 - mae: 48.4553 - mse: 15489.7979\n",
      "Epoch 98/500\n",
      "499/499 [==============================] - 1s 2ms/step - loss: 13057.0967 - mae: 43.3942 - mse: 13057.0967\n",
      "Epoch 99/500\n",
      "499/499 [==============================] - 1s 2ms/step - loss: 12435.4541 - mae: 41.9040 - mse: 12435.4541\n",
      "Epoch 100/500\n",
      "499/499 [==============================] - 1s 2ms/step - loss: 12918.5557 - mae: 43.0049 - mse: 12918.5557\n",
      "Epoch 101/500\n",
      "499/499 [==============================] - 1s 2ms/step - loss: 10904.4629 - mae: 38.3110 - mse: 10904.4629\n",
      "Epoch 102/500\n",
      "499/499 [==============================] - 1s 2ms/step - loss: 12517.3672 - mae: 42.4916 - mse: 12517.3672\n",
      "Epoch 103/500\n",
      "499/499 [==============================] - 1s 2ms/step - loss: 11669.7822 - mae: 39.8852 - mse: 11669.7822\n",
      "Epoch 104/500\n",
      "499/499 [==============================] - 1s 2ms/step - loss: 11091.0469 - mae: 38.7158 - mse: 11091.0469\n",
      "Epoch 105/500\n",
      "499/499 [==============================] - 1s 2ms/step - loss: 11476.0918 - mae: 39.9672 - mse: 11476.0918\n",
      "Epoch 106/500\n",
      "499/499 [==============================] - 1s 2ms/step - loss: 11883.7090 - mae: 40.9082 - mse: 11883.7090\n",
      "Epoch 107/500\n",
      "499/499 [==============================] - 1s 2ms/step - loss: 10674.7920 - mae: 37.7270 - mse: 10674.7920\n",
      "Epoch 108/500\n",
      "499/499 [==============================] - 1s 2ms/step - loss: 12576.9160 - mae: 42.7743 - mse: 12576.9160\n",
      "Epoch 109/500\n",
      "499/499 [==============================] - 1s 2ms/step - loss: 11312.8438 - mae: 39.1866 - mse: 11312.8438\n",
      "Epoch 110/500\n",
      "499/499 [==============================] - 1s 2ms/step - loss: 13199.5537 - mae: 43.5767 - mse: 13199.5537\n",
      "Epoch 111/500\n",
      "499/499 [==============================] - 1s 2ms/step - loss: 10630.4160 - mae: 37.4277 - mse: 10630.4160\n",
      "Epoch 112/500\n",
      "499/499 [==============================] - 1s 2ms/step - loss: 10180.0244 - mae: 36.3549 - mse: 10180.0244\n",
      "Epoch 113/500\n",
      "499/499 [==============================] - 1s 2ms/step - loss: 10297.8906 - mae: 36.2129 - mse: 10297.8906\n",
      "Epoch 114/500\n",
      "499/499 [==============================] - 1s 2ms/step - loss: 11778.3418 - mae: 40.2052 - mse: 11778.3418\n",
      "Epoch 115/500\n",
      "499/499 [==============================] - 1s 2ms/step - loss: 11903.6543 - mae: 40.1229 - mse: 11903.6543\n",
      "Epoch 116/500\n",
      "499/499 [==============================] - 1s 2ms/step - loss: 9923.3281 - mae: 35.4078 - mse: 9923.3281\n",
      "Epoch 117/500\n",
      "499/499 [==============================] - 1s 2ms/step - loss: 13851.9268 - mae: 45.1767 - mse: 13851.9268\n",
      "Epoch 118/500\n",
      "499/499 [==============================] - 1s 2ms/step - loss: 11466.9980 - mae: 39.7133 - mse: 11466.9980\n",
      "Epoch 119/500\n",
      "499/499 [==============================] - 1s 2ms/step - loss: 9890.7148 - mae: 34.7904 - mse: 9890.7148\n",
      "Epoch 120/500\n",
      "499/499 [==============================] - 1s 2ms/step - loss: 9902.7549 - mae: 35.4809 - mse: 9902.7549\n",
      "Epoch 121/500\n",
      "499/499 [==============================] - 1s 2ms/step - loss: 11316.8604 - mae: 38.5139 - mse: 11316.8604\n",
      "Epoch 122/500\n",
      "499/499 [==============================] - 1s 2ms/step - loss: 9974.2529 - mae: 35.2682 - mse: 9974.2529\n",
      "Epoch 123/500\n",
      "499/499 [==============================] - 1s 2ms/step - loss: 11740.2002 - mae: 39.7562 - mse: 11740.2002\n",
      "Epoch 124/500\n",
      "499/499 [==============================] - 1s 2ms/step - loss: 11160.6738 - mae: 38.6538 - mse: 11160.6738\n",
      "Epoch 125/500\n",
      "499/499 [==============================] - 1s 2ms/step - loss: 9839.6074 - mae: 34.9391 - mse: 9839.6074\n",
      "Epoch 126/500\n",
      "499/499 [==============================] - 1s 2ms/step - loss: 10019.8545 - mae: 35.7473 - mse: 10019.8545\n",
      "Epoch 127/500\n",
      "499/499 [==============================] - 1s 2ms/step - loss: 9834.0879 - mae: 34.4192 - mse: 9834.0879\n",
      "Epoch 128/500\n",
      "499/499 [==============================] - 1s 2ms/step - loss: 9835.6924 - mae: 34.9057 - mse: 9835.6924\n",
      "Epoch 129/500\n",
      "499/499 [==============================] - 1s 2ms/step - loss: 12938.5537 - mae: 42.3047 - mse: 12938.5537\n",
      "Epoch 130/500\n",
      "499/499 [==============================] - 1s 2ms/step - loss: 10374.1143 - mae: 36.5492 - mse: 10374.1143\n",
      "Epoch 131/500\n",
      "499/499 [==============================] - 1s 2ms/step - loss: 10121.0879 - mae: 35.9335 - mse: 10121.0879\n",
      "Epoch 132/500\n",
      "499/499 [==============================] - 1s 2ms/step - loss: 11097.1602 - mae: 38.4239 - mse: 11097.1602\n",
      "Epoch 133/500\n",
      "499/499 [==============================] - 1s 2ms/step - loss: 11722.1768 - mae: 39.7936 - mse: 11722.1768\n",
      "Epoch 134/500\n",
      "499/499 [==============================] - 1s 2ms/step - loss: 11574.5781 - mae: 39.2476 - mse: 11574.5781\n",
      "Epoch 135/500\n",
      "499/499 [==============================] - 1s 2ms/step - loss: 10283.5615 - mae: 36.4378 - mse: 10283.5615\n",
      "Epoch 136/500\n",
      "499/499 [==============================] - 1s 2ms/step - loss: 11259.5342 - mae: 38.9569 - mse: 11259.5342\n",
      "Epoch 137/500\n",
      "499/499 [==============================] - 1s 2ms/step - loss: 13135.1602 - mae: 42.9643 - mse: 13135.1602\n",
      "Epoch 138/500\n",
      "499/499 [==============================] - 1s 2ms/step - loss: 10859.5020 - mae: 37.2812 - mse: 10859.5020\n",
      "Epoch 139/500\n",
      "499/499 [==============================] - 1s 2ms/step - loss: 11990.8926 - mae: 39.6644 - mse: 11990.8926\n",
      "Epoch 140/500\n",
      "499/499 [==============================] - 1s 2ms/step - loss: 10511.8848 - mae: 36.3361 - mse: 10511.8848\n",
      "Epoch 141/500\n",
      "499/499 [==============================] - 1s 2ms/step - loss: 9355.4902 - mae: 32.6263 - mse: 9355.4902\n",
      "Epoch 142/500\n",
      "499/499 [==============================] - 1s 2ms/step - loss: 11129.2314 - mae: 38.1552 - mse: 11129.2314\n",
      "Epoch 143/500\n",
      "499/499 [==============================] - 1s 2ms/step - loss: 9311.9072 - mae: 33.1926 - mse: 9311.9072\n",
      "Epoch 144/500\n",
      "499/499 [==============================] - 1s 2ms/step - loss: 9381.9697 - mae: 33.3842 - mse: 9381.9697\n",
      "Epoch 145/500\n",
      "499/499 [==============================] - 1s 2ms/step - loss: 9306.8838 - mae: 33.0871 - mse: 9306.8838\n",
      "Epoch 146/500\n",
      "499/499 [==============================] - 1s 2ms/step - loss: 9429.6240 - mae: 33.6842 - mse: 9429.6240\n",
      "Epoch 147/500\n",
      "499/499 [==============================] - 1s 2ms/step - loss: 9186.0957 - mae: 33.1965 - mse: 9186.0957\n",
      "Epoch 148/500\n",
      "499/499 [==============================] - 1s 2ms/step - loss: 10013.6445 - mae: 34.8995 - mse: 10013.6445\n",
      "Epoch 149/500\n",
      "499/499 [==============================] - 1s 2ms/step - loss: 9100.2041 - mae: 32.0677 - mse: 9100.2041\n",
      "Epoch 150/500\n",
      "499/499 [==============================] - 1s 2ms/step - loss: 11223.5352 - mae: 37.9997 - mse: 11223.5352\n",
      "Epoch 151/500\n",
      "499/499 [==============================] - 1s 2ms/step - loss: 11853.3047 - mae: 39.2782 - mse: 11853.3047\n",
      "Epoch 152/500\n",
      "499/499 [==============================] - 1s 2ms/step - loss: 11145.1592 - mae: 38.2560 - mse: 11145.1592\n",
      "Epoch 153/500\n",
      "499/499 [==============================] - 1s 2ms/step - loss: 9895.3242 - mae: 35.1456 - mse: 9895.3242\n",
      "Epoch 154/500\n",
      "499/499 [==============================] - 1s 2ms/step - loss: 9968.7324 - mae: 35.1151 - mse: 9968.7324\n",
      "Epoch 155/500\n",
      "499/499 [==============================] - 1s 2ms/step - loss: 9721.2197 - mae: 35.0507 - mse: 9721.2197\n",
      "Epoch 156/500\n",
      "499/499 [==============================] - 1s 2ms/step - loss: 10121.1309 - mae: 35.0750 - mse: 10121.1309\n",
      "Epoch 157/500\n",
      "499/499 [==============================] - 1s 2ms/step - loss: 10131.7891 - mae: 35.5334 - mse: 10131.7891\n",
      "Epoch 158/500\n",
      "499/499 [==============================] - 1s 2ms/step - loss: 9512.9082 - mae: 33.9260 - mse: 9512.9082\n",
      "Epoch 159/500\n",
      "499/499 [==============================] - 1s 2ms/step - loss: 9755.5059 - mae: 34.9702 - mse: 9755.5059\n",
      "Epoch 160/500\n",
      "499/499 [==============================] - 1s 2ms/step - loss: 10353.3975 - mae: 36.2506 - mse: 10353.3975\n",
      "Epoch 161/500\n",
      "499/499 [==============================] - 1s 2ms/step - loss: 9441.5078 - mae: 33.5694 - mse: 9441.5078\n",
      "Epoch 162/500\n",
      "499/499 [==============================] - 1s 2ms/step - loss: 9830.4219 - mae: 35.3338 - mse: 9830.4219\n",
      "Epoch 163/500\n",
      "499/499 [==============================] - 1s 2ms/step - loss: 9578.4287 - mae: 33.7914 - mse: 9578.4287\n",
      "Epoch 164/500\n",
      "499/499 [==============================] - 1s 2ms/step - loss: 9566.5576 - mae: 33.7343 - mse: 9566.5576\n",
      "Epoch 165/500\n",
      "499/499 [==============================] - 1s 2ms/step - loss: 9968.3477 - mae: 35.1826 - mse: 9968.3477\n",
      "Epoch 166/500\n",
      "499/499 [==============================] - 1s 2ms/step - loss: 9161.2002 - mae: 33.0002 - mse: 9161.2002\n",
      "Epoch 167/500\n",
      "499/499 [==============================] - 1s 2ms/step - loss: 9665.1045 - mae: 33.9002 - mse: 9665.1045\n",
      "Epoch 168/500\n",
      "499/499 [==============================] - 1s 2ms/step - loss: 8727.4717 - mae: 31.2769 - mse: 8727.4717\n",
      "Epoch 169/500\n",
      "499/499 [==============================] - 1s 2ms/step - loss: 8936.8994 - mae: 31.9925 - mse: 8936.8994\n",
      "Epoch 170/500\n",
      "499/499 [==============================] - 1s 2ms/step - loss: 8826.6768 - mae: 31.9168 - mse: 8826.6768\n",
      "Epoch 171/500\n",
      "499/499 [==============================] - 1s 2ms/step - loss: 8911.3428 - mae: 31.4746 - mse: 8911.3428\n",
      "Epoch 172/500\n",
      "499/499 [==============================] - 1s 2ms/step - loss: 9349.9053 - mae: 33.1985 - mse: 9349.9053\n",
      "Epoch 173/500\n",
      "499/499 [==============================] - 1s 2ms/step - loss: 11084.4131 - mae: 37.3968 - mse: 11084.4131\n",
      "Epoch 174/500\n",
      "499/499 [==============================] - 1s 2ms/step - loss: 9833.9336 - mae: 34.6935 - mse: 9833.9336\n",
      "Epoch 175/500\n",
      "499/499 [==============================] - 1s 2ms/step - loss: 9448.0342 - mae: 33.8984 - mse: 9448.0342\n",
      "Epoch 176/500\n",
      "499/499 [==============================] - 1s 2ms/step - loss: 8658.1475 - mae: 31.1575 - mse: 8658.1475\n",
      "Epoch 177/500\n",
      "499/499 [==============================] - 1s 2ms/step - loss: 8628.2373 - mae: 31.3402 - mse: 8628.2373\n",
      "Epoch 178/500\n",
      "499/499 [==============================] - 1s 2ms/step - loss: 8558.0215 - mae: 30.8791 - mse: 8558.0215\n",
      "Epoch 179/500\n",
      "499/499 [==============================] - 1s 2ms/step - loss: 8959.3271 - mae: 31.8273 - mse: 8959.3271\n",
      "Epoch 180/500\n",
      "499/499 [==============================] - 1s 2ms/step - loss: 11457.3428 - mae: 37.6930 - mse: 11457.3428\n",
      "Epoch 181/500\n",
      "499/499 [==============================] - 1s 2ms/step - loss: 8620.3037 - mae: 30.8017 - mse: 8620.3037\n",
      "Epoch 182/500\n",
      "499/499 [==============================] - 1s 2ms/step - loss: 8983.1836 - mae: 31.8105 - mse: 8983.1836\n",
      "Epoch 183/500\n",
      "499/499 [==============================] - 1s 2ms/step - loss: 8843.6807 - mae: 31.5489 - mse: 8843.6807\n",
      "Epoch 184/500\n",
      "499/499 [==============================] - 1s 2ms/step - loss: 9265.8887 - mae: 32.8820 - mse: 9265.8887\n",
      "Epoch 185/500\n",
      "499/499 [==============================] - 1s 2ms/step - loss: 8708.7295 - mae: 31.3192 - mse: 8708.7295\n",
      "Epoch 186/500\n",
      "499/499 [==============================] - 1s 2ms/step - loss: 9462.7988 - mae: 33.1774 - mse: 9462.7988\n",
      "Epoch 187/500\n",
      "499/499 [==============================] - 1s 2ms/step - loss: 11446.9658 - mae: 37.3514 - mse: 11446.9658\n",
      "Epoch 188/500\n",
      "499/499 [==============================] - 1s 2ms/step - loss: 9460.9277 - mae: 33.7975 - mse: 9460.9277\n",
      "Epoch 189/500\n",
      "499/499 [==============================] - 1s 2ms/step - loss: 9225.3369 - mae: 32.9886 - mse: 9225.3369\n",
      "Epoch 190/500\n",
      "499/499 [==============================] - 1s 2ms/step - loss: 9126.9990 - mae: 32.8973 - mse: 9126.9990\n",
      "Epoch 191/500\n",
      "499/499 [==============================] - 1s 2ms/step - loss: 9254.3223 - mae: 33.3350 - mse: 9254.3223\n",
      "Epoch 192/500\n",
      "499/499 [==============================] - 1s 2ms/step - loss: 8906.2500 - mae: 32.3241 - mse: 8906.2500\n",
      "Epoch 193/500\n",
      "499/499 [==============================] - 1s 2ms/step - loss: 8801.8232 - mae: 31.8944 - mse: 8801.8232\n",
      "Epoch 194/500\n",
      "499/499 [==============================] - 1s 2ms/step - loss: 9083.7256 - mae: 32.6886 - mse: 9083.7256\n",
      "Epoch 195/500\n",
      "499/499 [==============================] - 1s 2ms/step - loss: 9052.9824 - mae: 32.6508 - mse: 9052.9824\n",
      "Epoch 196/500\n",
      "499/499 [==============================] - 1s 2ms/step - loss: 9708.0332 - mae: 34.1805 - mse: 9708.0332\n",
      "Epoch 197/500\n",
      "499/499 [==============================] - 1s 2ms/step - loss: 9056.1699 - mae: 32.5176 - mse: 9056.1699\n",
      "Epoch 198/500\n",
      "499/499 [==============================] - 1s 2ms/step - loss: 9121.3818 - mae: 32.7807 - mse: 9121.3818\n",
      "Epoch 199/500\n",
      "499/499 [==============================] - 1s 2ms/step - loss: 8659.5684 - mae: 31.2003 - mse: 8659.5684\n",
      "Epoch 200/500\n",
      "499/499 [==============================] - 1s 2ms/step - loss: 9542.0107 - mae: 33.7683 - mse: 9542.0107\n",
      "Epoch 201/500\n",
      "499/499 [==============================] - 1s 2ms/step - loss: 8427.9365 - mae: 30.9137 - mse: 8427.9365\n",
      "Epoch 202/500\n",
      "499/499 [==============================] - 1s 2ms/step - loss: 9138.1162 - mae: 32.8702 - mse: 9138.1162\n",
      "Epoch 203/500\n",
      "499/499 [==============================] - 1s 2ms/step - loss: 8948.6641 - mae: 32.3288 - mse: 8948.6641\n",
      "Epoch 204/500\n",
      "499/499 [==============================] - 1s 2ms/step - loss: 8972.3320 - mae: 32.1643 - mse: 8972.3320\n",
      "Epoch 205/500\n",
      "499/499 [==============================] - 1s 2ms/step - loss: 8602.5078 - mae: 31.1613 - mse: 8602.5078\n",
      "Epoch 206/500\n",
      "499/499 [==============================] - 1s 2ms/step - loss: 8867.8525 - mae: 32.0972 - mse: 8867.8525\n",
      "Epoch 207/500\n",
      "499/499 [==============================] - 1s 2ms/step - loss: 8504.2451 - mae: 30.7244 - mse: 8504.2451\n",
      "Epoch 208/500\n",
      "499/499 [==============================] - 1s 2ms/step - loss: 8517.7695 - mae: 30.7217 - mse: 8517.7695\n",
      "Epoch 209/500\n",
      "499/499 [==============================] - 1s 2ms/step - loss: 8711.1875 - mae: 31.5169 - mse: 8711.1875\n",
      "Epoch 210/500\n",
      "499/499 [==============================] - 1s 2ms/step - loss: 8598.3867 - mae: 30.8399 - mse: 8598.3867\n",
      "Epoch 211/500\n",
      "499/499 [==============================] - 1s 2ms/step - loss: 8541.2275 - mae: 30.7633 - mse: 8541.2275\n",
      "Epoch 212/500\n",
      "499/499 [==============================] - 1s 2ms/step - loss: 8903.4043 - mae: 31.9961 - mse: 8903.4043\n",
      "Epoch 213/500\n",
      "499/499 [==============================] - 1s 2ms/step - loss: 8535.1162 - mae: 31.1143 - mse: 8535.1162\n",
      "Epoch 214/500\n",
      "499/499 [==============================] - 1s 2ms/step - loss: 8195.3174 - mae: 29.8047 - mse: 8195.3174\n",
      "Epoch 215/500\n",
      "499/499 [==============================] - 1s 2ms/step - loss: 8298.7549 - mae: 29.8849 - mse: 8298.7549\n",
      "Epoch 216/500\n",
      "499/499 [==============================] - 1s 2ms/step - loss: 8409.3818 - mae: 30.7726 - mse: 8409.3818\n",
      "Epoch 217/500\n",
      "499/499 [==============================] - 1s 2ms/step - loss: 8397.1846 - mae: 30.4041 - mse: 8397.1846\n",
      "Epoch 218/500\n",
      "499/499 [==============================] - 1s 2ms/step - loss: 8286.2686 - mae: 30.2697 - mse: 8286.2686\n",
      "Epoch 219/500\n",
      "499/499 [==============================] - 1s 2ms/step - loss: 8447.6553 - mae: 30.7552 - mse: 8447.6553\n",
      "Epoch 220/500\n",
      "499/499 [==============================] - 1s 2ms/step - loss: 8438.4229 - mae: 31.4269 - mse: 8438.4229\n",
      "Epoch 221/500\n",
      "499/499 [==============================] - 1s 2ms/step - loss: 8363.6904 - mae: 30.3880 - mse: 8363.6904\n",
      "Epoch 222/500\n",
      "499/499 [==============================] - 1s 2ms/step - loss: 8183.7690 - mae: 30.1796 - mse: 8183.7690\n",
      "Epoch 223/500\n",
      "499/499 [==============================] - 1s 2ms/step - loss: 8316.2139 - mae: 30.5624 - mse: 8316.2139\n",
      "Epoch 224/500\n",
      "499/499 [==============================] - 1s 2ms/step - loss: 8329.1318 - mae: 30.7238 - mse: 8329.1318\n",
      "Epoch 225/500\n",
      "499/499 [==============================] - 1s 2ms/step - loss: 10038.4502 - mae: 34.4339 - mse: 10038.4502\n",
      "Epoch 226/500\n",
      "499/499 [==============================] - 1s 2ms/step - loss: 8373.7803 - mae: 30.4044 - mse: 8373.7803\n",
      "Epoch 227/500\n",
      "499/499 [==============================] - 1s 2ms/step - loss: 8052.9253 - mae: 29.4262 - mse: 8052.9253\n",
      "Epoch 228/500\n",
      "499/499 [==============================] - 1s 2ms/step - loss: 8050.2632 - mae: 29.4031 - mse: 8050.2632\n",
      "Epoch 229/500\n",
      "499/499 [==============================] - 1s 2ms/step - loss: 8530.5498 - mae: 30.9597 - mse: 8530.5498\n",
      "Epoch 230/500\n",
      "499/499 [==============================] - 1s 2ms/step - loss: 8071.4321 - mae: 29.3673 - mse: 8071.4321\n",
      "Epoch 231/500\n",
      "499/499 [==============================] - 1s 2ms/step - loss: 8265.3242 - mae: 30.2222 - mse: 8265.3242\n",
      "Epoch 232/500\n",
      "499/499 [==============================] - 1s 2ms/step - loss: 8339.6992 - mae: 30.7019 - mse: 8339.6992\n",
      "Epoch 233/500\n",
      "499/499 [==============================] - 1s 2ms/step - loss: 8073.6426 - mae: 30.0357 - mse: 8073.6426\n",
      "Epoch 234/500\n",
      "499/499 [==============================] - 1s 2ms/step - loss: 8321.0869 - mae: 30.6523 - mse: 8321.0869\n",
      "Epoch 235/500\n",
      "499/499 [==============================] - 1s 2ms/step - loss: 8067.1431 - mae: 29.4767 - mse: 8067.1431\n",
      "Epoch 236/500\n",
      "499/499 [==============================] - 1s 2ms/step - loss: 8261.7021 - mae: 30.6495 - mse: 8261.7021\n",
      "Epoch 237/500\n",
      "499/499 [==============================] - 1s 2ms/step - loss: 8383.9336 - mae: 30.6850 - mse: 8383.9336\n",
      "Epoch 238/500\n",
      "499/499 [==============================] - 1s 2ms/step - loss: 8214.0332 - mae: 30.6242 - mse: 8214.0332\n",
      "Epoch 239/500\n",
      "499/499 [==============================] - 1s 2ms/step - loss: 8288.6230 - mae: 30.5635 - mse: 8288.6230\n",
      "Epoch 240/500\n",
      "499/499 [==============================] - 1s 2ms/step - loss: 8275.2676 - mae: 30.4210 - mse: 8275.2676\n",
      "Epoch 241/500\n",
      "499/499 [==============================] - 1s 2ms/step - loss: 8175.7998 - mae: 30.4641 - mse: 8175.7998\n",
      "Epoch 242/500\n",
      "499/499 [==============================] - 1s 2ms/step - loss: 7957.6909 - mae: 29.7760 - mse: 7957.6909\n",
      "Epoch 243/500\n",
      "499/499 [==============================] - 1s 2ms/step - loss: 8314.8066 - mae: 30.4958 - mse: 8314.8066\n",
      "Epoch 244/500\n",
      "499/499 [==============================] - 1s 2ms/step - loss: 8232.5605 - mae: 30.3470 - mse: 8232.5605\n",
      "Epoch 245/500\n",
      "499/499 [==============================] - 1s 2ms/step - loss: 8472.0117 - mae: 31.0723 - mse: 8472.0117\n",
      "Epoch 246/500\n",
      "499/499 [==============================] - 1s 2ms/step - loss: 7963.3179 - mae: 29.7319 - mse: 7963.3179\n",
      "Epoch 247/500\n",
      "499/499 [==============================] - 1s 2ms/step - loss: 8292.1602 - mae: 30.3949 - mse: 8292.1602\n",
      "Epoch 248/500\n",
      "499/499 [==============================] - 1s 2ms/step - loss: 8431.7842 - mae: 31.2657 - mse: 8431.7842\n",
      "Epoch 249/500\n",
      "499/499 [==============================] - 1s 2ms/step - loss: 8101.0591 - mae: 30.3959 - mse: 8101.0591\n",
      "Epoch 250/500\n",
      "499/499 [==============================] - 1s 2ms/step - loss: 8294.0166 - mae: 30.3792 - mse: 8294.0166\n",
      "Epoch 251/500\n",
      "499/499 [==============================] - 1s 2ms/step - loss: 8394.5508 - mae: 30.5958 - mse: 8394.5508\n",
      "Epoch 252/500\n",
      "499/499 [==============================] - 1s 2ms/step - loss: 9917.4346 - mae: 33.1485 - mse: 9917.4346\n",
      "Epoch 253/500\n",
      "499/499 [==============================] - 1s 2ms/step - loss: 8104.1880 - mae: 29.9108 - mse: 8104.1880\n",
      "Epoch 254/500\n",
      "499/499 [==============================] - 1s 2ms/step - loss: 8099.0352 - mae: 30.1258 - mse: 8099.0352\n",
      "Epoch 255/500\n",
      "499/499 [==============================] - 1s 2ms/step - loss: 8295.4863 - mae: 30.6712 - mse: 8295.4863\n",
      "Epoch 256/500\n",
      "499/499 [==============================] - 1s 2ms/step - loss: 8361.6621 - mae: 31.3266 - mse: 8361.6621\n",
      "Epoch 257/500\n",
      "499/499 [==============================] - 1s 2ms/step - loss: 8186.5166 - mae: 30.1612 - mse: 8186.5166\n",
      "Epoch 258/500\n",
      "499/499 [==============================] - 1s 2ms/step - loss: 8401.8330 - mae: 30.9840 - mse: 8401.8330\n",
      "Epoch 259/500\n",
      "499/499 [==============================] - 1s 2ms/step - loss: 8193.4629 - mae: 30.5680 - mse: 8193.4629\n",
      "Epoch 260/500\n",
      "499/499 [==============================] - 1s 2ms/step - loss: 8164.7363 - mae: 30.2613 - mse: 8164.7363\n",
      "Epoch 261/500\n",
      "499/499 [==============================] - 1s 2ms/step - loss: 8388.9414 - mae: 30.7123 - mse: 8388.9414\n",
      "Epoch 262/500\n",
      "499/499 [==============================] - 1s 2ms/step - loss: 8329.1250 - mae: 30.4722 - mse: 8329.1250\n",
      "Epoch 263/500\n",
      "499/499 [==============================] - 1s 2ms/step - loss: 8327.7646 - mae: 30.7074 - mse: 8327.7646\n",
      "Epoch 264/500\n",
      "499/499 [==============================] - 1s 2ms/step - loss: 8247.3535 - mae: 30.3430 - mse: 8247.3535\n",
      "Epoch 265/500\n",
      "499/499 [==============================] - 1s 2ms/step - loss: 9362.0742 - mae: 32.1300 - mse: 9362.0742\n",
      "Epoch 266/500\n",
      "499/499 [==============================] - 1s 2ms/step - loss: 10426.1855 - mae: 34.3127 - mse: 10426.1855\n",
      "Epoch 267/500\n",
      "499/499 [==============================] - 1s 2ms/step - loss: 8487.7139 - mae: 30.6067 - mse: 8487.7139\n",
      "Epoch 268/500\n",
      "499/499 [==============================] - 1s 2ms/step - loss: 8859.8320 - mae: 31.6245 - mse: 8859.8320\n",
      "Epoch 269/500\n",
      "499/499 [==============================] - 1s 2ms/step - loss: 8564.6846 - mae: 31.2936 - mse: 8564.6846\n",
      "Epoch 270/500\n",
      "499/499 [==============================] - 1s 2ms/step - loss: 8342.4443 - mae: 30.6177 - mse: 8342.4443\n",
      "Epoch 271/500\n",
      "499/499 [==============================] - 1s 2ms/step - loss: 8542.5518 - mae: 30.9758 - mse: 8542.5518\n",
      "Epoch 272/500\n",
      "499/499 [==============================] - 1s 2ms/step - loss: 8609.6709 - mae: 31.1758 - mse: 8609.6709\n",
      "Epoch 273/500\n",
      "499/499 [==============================] - 1s 2ms/step - loss: 8568.6738 - mae: 31.1575 - mse: 8568.6738\n",
      "Epoch 274/500\n",
      "499/499 [==============================] - 1s 2ms/step - loss: 8518.2646 - mae: 30.9780 - mse: 8518.2646\n",
      "Epoch 275/500\n",
      "499/499 [==============================] - 1s 2ms/step - loss: 8279.6094 - mae: 30.4309 - mse: 8279.6094\n",
      "Epoch 276/500\n",
      "499/499 [==============================] - 1s 2ms/step - loss: 8255.6123 - mae: 30.7525 - mse: 8255.6123\n",
      "Epoch 277/500\n",
      "499/499 [==============================] - 1s 2ms/step - loss: 8739.9961 - mae: 31.5251 - mse: 8739.9961\n",
      "Epoch 278/500\n",
      "499/499 [==============================] - 1s 2ms/step - loss: 10003.0586 - mae: 33.2200 - mse: 10003.0586\n",
      "Epoch 279/500\n",
      "499/499 [==============================] - 1s 2ms/step - loss: 8850.3311 - mae: 30.4775 - mse: 8850.3311\n",
      "Epoch 280/500\n",
      "499/499 [==============================] - 1s 2ms/step - loss: 8590.5400 - mae: 30.4686 - mse: 8590.5400\n",
      "Epoch 281/500\n",
      "499/499 [==============================] - 1s 2ms/step - loss: 8718.1289 - mae: 30.9951 - mse: 8718.1289\n",
      "Epoch 282/500\n",
      "499/499 [==============================] - 1s 2ms/step - loss: 8496.5059 - mae: 30.9712 - mse: 8496.5059\n",
      "Epoch 283/500\n",
      "499/499 [==============================] - 1s 2ms/step - loss: 8843.5596 - mae: 31.4181 - mse: 8843.5596\n",
      "Epoch 284/500\n",
      "499/499 [==============================] - 1s 2ms/step - loss: 8191.5635 - mae: 30.3313 - mse: 8191.5635\n",
      "Epoch 285/500\n",
      "499/499 [==============================] - 1s 2ms/step - loss: 8368.5488 - mae: 30.5736 - mse: 8368.5488\n",
      "Epoch 286/500\n",
      "499/499 [==============================] - 1s 2ms/step - loss: 8427.9014 - mae: 30.6508 - mse: 8427.9014\n",
      "Epoch 287/500\n",
      "499/499 [==============================] - 1s 2ms/step - loss: 7975.2964 - mae: 29.7153 - mse: 7975.2964\n",
      "Epoch 288/500\n",
      "499/499 [==============================] - 1s 2ms/step - loss: 8420.3975 - mae: 30.6404 - mse: 8420.3975\n",
      "Epoch 289/500\n",
      "499/499 [==============================] - 1s 2ms/step - loss: 8585.4883 - mae: 30.9263 - mse: 8585.4883\n",
      "Epoch 290/500\n",
      "499/499 [==============================] - 1s 2ms/step - loss: 8745.0830 - mae: 31.2536 - mse: 8745.0830\n",
      "Epoch 291/500\n",
      "499/499 [==============================] - 1s 2ms/step - loss: 8384.9922 - mae: 31.0371 - mse: 8384.9922\n",
      "Epoch 292/500\n",
      "499/499 [==============================] - 1s 2ms/step - loss: 8263.1582 - mae: 30.2919 - mse: 8263.1582\n",
      "Epoch 293/500\n",
      "499/499 [==============================] - 1s 2ms/step - loss: 8210.5371 - mae: 30.5559 - mse: 8210.5371\n",
      "Epoch 294/500\n",
      "499/499 [==============================] - 1s 2ms/step - loss: 8495.5342 - mae: 30.9775 - mse: 8495.5342\n",
      "Epoch 295/500\n",
      "499/499 [==============================] - 1s 2ms/step - loss: 8247.1328 - mae: 30.6976 - mse: 8247.1328\n",
      "Epoch 296/500\n",
      "499/499 [==============================] - 1s 2ms/step - loss: 8110.3179 - mae: 30.2637 - mse: 8110.3179\n",
      "Epoch 297/500\n",
      "499/499 [==============================] - 1s 2ms/step - loss: 8071.6367 - mae: 29.8600 - mse: 8071.6367\n",
      "Epoch 298/500\n",
      "499/499 [==============================] - 1s 2ms/step - loss: 8628.7373 - mae: 31.2608 - mse: 8628.7373\n",
      "Epoch 299/500\n",
      "499/499 [==============================] - 1s 2ms/step - loss: 8331.5264 - mae: 30.4619 - mse: 8331.5264\n",
      "Epoch 300/500\n",
      "499/499 [==============================] - 1s 2ms/step - loss: 8270.8330 - mae: 30.7187 - mse: 8270.8330\n",
      "Epoch 301/500\n",
      "499/499 [==============================] - 1s 2ms/step - loss: 8292.4717 - mae: 30.5242 - mse: 8292.4717\n",
      "Epoch 302/500\n",
      "499/499 [==============================] - 1s 2ms/step - loss: 8070.9912 - mae: 29.9506 - mse: 8070.9912\n",
      "Epoch 303/500\n",
      "499/499 [==============================] - 1s 2ms/step - loss: 8364.7070 - mae: 30.7919 - mse: 8364.7070\n",
      "Epoch 304/500\n",
      "499/499 [==============================] - 1s 2ms/step - loss: 8607.3574 - mae: 31.3031 - mse: 8607.3574\n",
      "Epoch 305/500\n",
      "499/499 [==============================] - 1s 2ms/step - loss: 8382.0664 - mae: 30.7020 - mse: 8382.0664\n",
      "Epoch 306/500\n",
      "499/499 [==============================] - 1s 2ms/step - loss: 8138.8086 - mae: 30.0986 - mse: 8138.8086\n",
      "Epoch 307/500\n",
      "499/499 [==============================] - 1s 2ms/step - loss: 8008.7144 - mae: 30.0578 - mse: 8008.7144\n",
      "Epoch 308/500\n",
      "499/499 [==============================] - 1s 2ms/step - loss: 7961.3281 - mae: 30.1669 - mse: 7961.3281\n",
      "Epoch 309/500\n",
      "499/499 [==============================] - 1s 2ms/step - loss: 8974.6240 - mae: 31.8826 - mse: 8974.6240\n",
      "Epoch 310/500\n",
      "499/499 [==============================] - 1s 2ms/step - loss: 8107.6904 - mae: 30.3507 - mse: 8107.6904\n",
      "Epoch 311/500\n",
      "499/499 [==============================] - 1s 2ms/step - loss: 7842.0356 - mae: 29.4207 - mse: 7842.0356\n",
      "Epoch 312/500\n",
      "499/499 [==============================] - 1s 2ms/step - loss: 7872.6587 - mae: 29.5727 - mse: 7872.6587\n",
      "Epoch 313/500\n",
      "499/499 [==============================] - 1s 2ms/step - loss: 8205.9775 - mae: 30.2455 - mse: 8205.9775\n",
      "Epoch 314/500\n",
      "499/499 [==============================] - 1s 2ms/step - loss: 8193.3545 - mae: 30.2780 - mse: 8193.3545\n",
      "Epoch 315/500\n",
      "499/499 [==============================] - 1s 2ms/step - loss: 7967.7363 - mae: 29.8487 - mse: 7967.7363\n",
      "Epoch 316/500\n",
      "499/499 [==============================] - 1s 2ms/step - loss: 8290.2139 - mae: 30.3867 - mse: 8290.2139\n",
      "Epoch 317/500\n",
      "499/499 [==============================] - 1s 2ms/step - loss: 7879.6221 - mae: 29.9048 - mse: 7879.6221\n",
      "Epoch 318/500\n",
      "499/499 [==============================] - 1s 2ms/step - loss: 8126.3374 - mae: 30.0209 - mse: 8126.3374\n",
      "Epoch 319/500\n",
      "499/499 [==============================] - 1s 2ms/step - loss: 8528.2119 - mae: 30.9231 - mse: 8528.2119\n",
      "Epoch 320/500\n",
      "499/499 [==============================] - 1s 2ms/step - loss: 8152.8901 - mae: 30.2476 - mse: 8152.8901\n",
      "Epoch 321/500\n",
      "499/499 [==============================] - 1s 2ms/step - loss: 7787.1572 - mae: 29.4976 - mse: 7787.1572\n",
      "Epoch 322/500\n",
      "499/499 [==============================] - 1s 2ms/step - loss: 7834.2954 - mae: 29.7471 - mse: 7834.2954\n",
      "Epoch 323/500\n",
      "499/499 [==============================] - 1s 2ms/step - loss: 8180.0571 - mae: 30.3489 - mse: 8180.0571\n",
      "Epoch 324/500\n",
      "499/499 [==============================] - 1s 2ms/step - loss: 7998.7759 - mae: 30.0128 - mse: 7998.7759\n",
      "Epoch 325/500\n",
      "499/499 [==============================] - 1s 2ms/step - loss: 7924.6104 - mae: 29.9387 - mse: 7924.6104\n",
      "Epoch 326/500\n",
      "499/499 [==============================] - 1s 2ms/step - loss: 8347.7383 - mae: 30.6288 - mse: 8347.7383\n",
      "Epoch 327/500\n",
      "499/499 [==============================] - 1s 2ms/step - loss: 8129.8867 - mae: 30.0613 - mse: 8129.8867\n",
      "Epoch 328/500\n",
      "499/499 [==============================] - 1s 2ms/step - loss: 8139.2061 - mae: 30.2664 - mse: 8139.2061\n",
      "Epoch 329/500\n",
      "499/499 [==============================] - 1s 2ms/step - loss: 7946.7393 - mae: 29.8551 - mse: 7946.7393\n",
      "Epoch 330/500\n",
      "499/499 [==============================] - 1s 2ms/step - loss: 7964.9409 - mae: 29.8622 - mse: 7964.9409\n",
      "Epoch 331/500\n",
      "499/499 [==============================] - 1s 2ms/step - loss: 8009.4351 - mae: 30.0873 - mse: 8009.4351\n",
      "Epoch 332/500\n",
      "499/499 [==============================] - 1s 2ms/step - loss: 8040.8291 - mae: 29.9733 - mse: 8040.8291\n",
      "Epoch 333/500\n",
      "499/499 [==============================] - 1s 2ms/step - loss: 7936.2949 - mae: 29.8613 - mse: 7936.2949\n",
      "Epoch 334/500\n",
      "499/499 [==============================] - 1s 2ms/step - loss: 8011.3643 - mae: 29.6766 - mse: 8011.3643\n",
      "Epoch 335/500\n",
      "499/499 [==============================] - 1s 2ms/step - loss: 8060.7109 - mae: 30.1882 - mse: 8060.7109\n",
      "Epoch 336/500\n",
      "499/499 [==============================] - 1s 2ms/step - loss: 8092.7056 - mae: 30.1759 - mse: 8092.7056\n",
      "Epoch 337/500\n",
      "499/499 [==============================] - 1s 2ms/step - loss: 7930.4766 - mae: 29.7706 - mse: 7930.4766\n",
      "Epoch 338/500\n",
      "499/499 [==============================] - 1s 2ms/step - loss: 7833.5029 - mae: 29.5507 - mse: 7833.5029\n",
      "Epoch 339/500\n",
      "499/499 [==============================] - 1s 2ms/step - loss: 7907.0547 - mae: 29.4329 - mse: 7907.0547\n",
      "Epoch 340/500\n",
      "499/499 [==============================] - 1s 2ms/step - loss: 8196.5293 - mae: 30.3307 - mse: 8196.5293\n",
      "Epoch 341/500\n",
      "499/499 [==============================] - 1s 2ms/step - loss: 7785.2368 - mae: 29.3054 - mse: 7785.2368\n",
      "Epoch 342/500\n",
      "499/499 [==============================] - 1s 2ms/step - loss: 7861.7793 - mae: 29.7217 - mse: 7861.7793\n",
      "Epoch 343/500\n",
      "499/499 [==============================] - 1s 2ms/step - loss: 7882.2188 - mae: 29.6140 - mse: 7882.2188\n",
      "Epoch 344/500\n",
      "499/499 [==============================] - 1s 2ms/step - loss: 7788.3975 - mae: 29.4135 - mse: 7788.3975\n",
      "Epoch 345/500\n",
      "499/499 [==============================] - 1s 2ms/step - loss: 7827.8569 - mae: 29.6738 - mse: 7827.8569\n",
      "Epoch 346/500\n",
      "499/499 [==============================] - 1s 2ms/step - loss: 7978.8408 - mae: 29.7816 - mse: 7978.8408\n",
      "Epoch 347/500\n",
      "499/499 [==============================] - 1s 2ms/step - loss: 7593.2046 - mae: 29.1430 - mse: 7593.2046\n",
      "Epoch 348/500\n",
      "499/499 [==============================] - 1s 2ms/step - loss: 8226.7861 - mae: 29.9859 - mse: 8226.7861\n",
      "Epoch 349/500\n",
      "499/499 [==============================] - 1s 2ms/step - loss: 7886.0610 - mae: 29.5240 - mse: 7886.0610\n",
      "Epoch 350/500\n",
      "499/499 [==============================] - 1s 2ms/step - loss: 8156.0889 - mae: 30.0728 - mse: 8156.0889\n",
      "Epoch 351/500\n",
      "499/499 [==============================] - 1s 2ms/step - loss: 8083.3286 - mae: 30.0121 - mse: 8083.3286\n",
      "Epoch 352/500\n",
      "499/499 [==============================] - 1s 2ms/step - loss: 8169.5933 - mae: 30.2467 - mse: 8169.5933\n",
      "Epoch 353/500\n",
      "499/499 [==============================] - 1s 2ms/step - loss: 8052.2236 - mae: 30.0774 - mse: 8052.2236\n",
      "Epoch 354/500\n",
      "499/499 [==============================] - 1s 2ms/step - loss: 7808.3779 - mae: 29.5382 - mse: 7808.3779\n",
      "Epoch 355/500\n",
      "499/499 [==============================] - 1s 2ms/step - loss: 7771.7246 - mae: 29.3703 - mse: 7771.7246\n",
      "Epoch 356/500\n",
      "499/499 [==============================] - 1s 2ms/step - loss: 7770.8315 - mae: 29.3381 - mse: 7770.8315\n",
      "Epoch 357/500\n",
      "499/499 [==============================] - 1s 2ms/step - loss: 8103.8604 - mae: 30.1849 - mse: 8103.8604\n",
      "Epoch 358/500\n",
      "499/499 [==============================] - 1s 2ms/step - loss: 7844.3345 - mae: 29.6977 - mse: 7844.3345\n",
      "Epoch 359/500\n",
      "499/499 [==============================] - 1s 2ms/step - loss: 8037.4629 - mae: 29.8950 - mse: 8037.4629\n",
      "Epoch 360/500\n",
      "499/499 [==============================] - 1s 2ms/step - loss: 7861.4473 - mae: 29.5758 - mse: 7861.4473\n",
      "Epoch 361/500\n",
      "499/499 [==============================] - 1s 2ms/step - loss: 7714.5503 - mae: 29.2763 - mse: 7714.5503\n",
      "Epoch 362/500\n",
      "499/499 [==============================] - 1s 2ms/step - loss: 7536.1216 - mae: 28.4904 - mse: 7536.1216\n",
      "Epoch 363/500\n",
      "499/499 [==============================] - 1s 2ms/step - loss: 8052.3950 - mae: 30.0093 - mse: 8052.3950\n",
      "Epoch 364/500\n",
      "499/499 [==============================] - 1s 2ms/step - loss: 7974.6182 - mae: 29.8861 - mse: 7974.6182\n",
      "Epoch 365/500\n",
      "499/499 [==============================] - 1s 2ms/step - loss: 7831.9941 - mae: 29.6004 - mse: 7831.9941\n",
      "Epoch 366/500\n",
      "499/499 [==============================] - 1s 2ms/step - loss: 7635.1084 - mae: 29.1026 - mse: 7635.1084\n",
      "Epoch 367/500\n",
      "499/499 [==============================] - 1s 2ms/step - loss: 7686.6714 - mae: 29.0772 - mse: 7686.6714\n",
      "Epoch 368/500\n",
      "499/499 [==============================] - 1s 2ms/step - loss: 7779.6172 - mae: 29.2736 - mse: 7779.6172\n",
      "Epoch 369/500\n",
      "499/499 [==============================] - 1s 2ms/step - loss: 7755.6724 - mae: 29.3911 - mse: 7755.6724\n",
      "Epoch 370/500\n",
      "499/499 [==============================] - 1s 2ms/step - loss: 7712.0229 - mae: 29.5756 - mse: 7712.0229\n",
      "Epoch 371/500\n",
      "499/499 [==============================] - 1s 2ms/step - loss: 7868.7847 - mae: 29.6529 - mse: 7868.7847\n",
      "Epoch 372/500\n",
      "499/499 [==============================] - 1s 2ms/step - loss: 7850.0957 - mae: 29.5771 - mse: 7850.0957\n",
      "Epoch 373/500\n",
      "499/499 [==============================] - 1s 2ms/step - loss: 7666.3716 - mae: 29.1731 - mse: 7666.3716\n",
      "Epoch 374/500\n",
      "499/499 [==============================] - 1s 2ms/step - loss: 7715.8608 - mae: 29.2796 - mse: 7715.8608\n",
      "Epoch 375/500\n",
      "499/499 [==============================] - 1s 2ms/step - loss: 7692.1367 - mae: 29.0116 - mse: 7692.1367\n",
      "Epoch 376/500\n",
      "499/499 [==============================] - 1s 2ms/step - loss: 7673.9624 - mae: 29.1360 - mse: 7673.9624\n",
      "Epoch 377/500\n",
      "499/499 [==============================] - 1s 2ms/step - loss: 7652.3164 - mae: 29.2368 - mse: 7652.3164\n",
      "Epoch 378/500\n",
      "499/499 [==============================] - 1s 2ms/step - loss: 7700.7104 - mae: 29.1162 - mse: 7700.7104\n",
      "Epoch 379/500\n",
      "499/499 [==============================] - 1s 2ms/step - loss: 7669.3804 - mae: 29.0745 - mse: 7669.3804\n",
      "Epoch 380/500\n",
      "499/499 [==============================] - 1s 2ms/step - loss: 7800.8042 - mae: 29.3034 - mse: 7800.8042\n",
      "Epoch 381/500\n",
      "499/499 [==============================] - 1s 2ms/step - loss: 7945.0137 - mae: 29.7682 - mse: 7945.0137\n",
      "Epoch 382/500\n",
      "499/499 [==============================] - 1s 2ms/step - loss: 7877.4028 - mae: 29.5500 - mse: 7877.4028\n",
      "Epoch 383/500\n",
      "499/499 [==============================] - 1s 2ms/step - loss: 7639.3354 - mae: 29.0924 - mse: 7639.3354\n",
      "Epoch 384/500\n",
      "499/499 [==============================] - 1s 2ms/step - loss: 7602.7700 - mae: 28.8658 - mse: 7602.7700\n",
      "Epoch 385/500\n",
      "499/499 [==============================] - 1s 2ms/step - loss: 7476.8052 - mae: 28.5236 - mse: 7476.8052\n",
      "Epoch 386/500\n",
      "499/499 [==============================] - 1s 2ms/step - loss: 7842.1836 - mae: 29.3370 - mse: 7842.1836\n",
      "Epoch 387/500\n",
      "499/499 [==============================] - 1s 2ms/step - loss: 7591.9390 - mae: 28.8053 - mse: 7591.9390\n",
      "Epoch 388/500\n",
      "499/499 [==============================] - 1s 2ms/step - loss: 7834.4551 - mae: 29.3918 - mse: 7834.4551\n",
      "Epoch 389/500\n",
      "499/499 [==============================] - 1s 2ms/step - loss: 7563.4370 - mae: 28.9388 - mse: 7563.4370\n",
      "Epoch 390/500\n",
      "499/499 [==============================] - 1s 2ms/step - loss: 7620.8257 - mae: 28.9795 - mse: 7620.8257\n",
      "Epoch 391/500\n",
      "499/499 [==============================] - 1s 2ms/step - loss: 7874.1787 - mae: 29.5184 - mse: 7874.1787\n",
      "Epoch 392/500\n",
      "499/499 [==============================] - 1s 2ms/step - loss: 7826.0054 - mae: 29.0193 - mse: 7826.0054\n",
      "Epoch 393/500\n",
      "499/499 [==============================] - 1s 2ms/step - loss: 7541.6377 - mae: 28.6384 - mse: 7541.6377\n",
      "Epoch 394/500\n",
      "499/499 [==============================] - 1s 2ms/step - loss: 7489.6787 - mae: 28.8299 - mse: 7489.6787\n",
      "Epoch 395/500\n",
      "499/499 [==============================] - 1s 2ms/step - loss: 7770.3647 - mae: 29.1726 - mse: 7770.3647\n",
      "Epoch 396/500\n",
      "499/499 [==============================] - 1s 2ms/step - loss: 7552.6548 - mae: 28.8603 - mse: 7552.6548\n",
      "Epoch 397/500\n",
      "499/499 [==============================] - 1s 2ms/step - loss: 7738.2715 - mae: 29.3300 - mse: 7738.2715\n",
      "Epoch 398/500\n",
      "499/499 [==============================] - 1s 2ms/step - loss: 7657.4165 - mae: 29.1583 - mse: 7657.4165\n",
      "Epoch 399/500\n",
      "499/499 [==============================] - 1s 2ms/step - loss: 7532.8472 - mae: 28.8919 - mse: 7532.8472\n",
      "Epoch 400/500\n",
      "499/499 [==============================] - 1s 2ms/step - loss: 7646.9404 - mae: 28.9809 - mse: 7646.9404\n",
      "Epoch 401/500\n",
      "499/499 [==============================] - 1s 2ms/step - loss: 7429.9175 - mae: 28.6444 - mse: 7429.9175\n",
      "Epoch 402/500\n",
      "499/499 [==============================] - 1s 2ms/step - loss: 7704.5547 - mae: 29.2965 - mse: 7704.5547\n",
      "Epoch 403/500\n",
      "499/499 [==============================] - 1s 2ms/step - loss: 7541.4263 - mae: 28.7489 - mse: 7541.4263\n",
      "Epoch 404/500\n",
      "499/499 [==============================] - 1s 2ms/step - loss: 7650.0034 - mae: 28.8050 - mse: 7650.0034\n",
      "Epoch 405/500\n",
      "499/499 [==============================] - 1s 2ms/step - loss: 7635.2393 - mae: 28.9627 - mse: 7635.2393\n",
      "Epoch 406/500\n",
      "499/499 [==============================] - 1s 2ms/step - loss: 7713.8555 - mae: 29.1462 - mse: 7713.8555\n",
      "Epoch 407/500\n",
      "499/499 [==============================] - 1s 2ms/step - loss: 7535.8130 - mae: 28.9025 - mse: 7535.8130\n",
      "Epoch 408/500\n",
      "499/499 [==============================] - 1s 2ms/step - loss: 7574.0234 - mae: 28.8409 - mse: 7574.0234\n",
      "Epoch 409/500\n",
      "499/499 [==============================] - 1s 2ms/step - loss: 7566.2041 - mae: 28.7635 - mse: 7566.2041\n",
      "Epoch 410/500\n",
      "499/499 [==============================] - 1s 2ms/step - loss: 7454.6372 - mae: 28.4527 - mse: 7454.6372\n",
      "Epoch 411/500\n",
      "499/499 [==============================] - 1s 2ms/step - loss: 7564.2021 - mae: 28.8104 - mse: 7564.2021\n",
      "Epoch 412/500\n",
      "499/499 [==============================] - 1s 2ms/step - loss: 7729.1646 - mae: 29.1661 - mse: 7729.1646\n",
      "Epoch 413/500\n",
      "499/499 [==============================] - 1s 2ms/step - loss: 7642.3950 - mae: 28.8591 - mse: 7642.3950\n",
      "Epoch 414/500\n",
      "499/499 [==============================] - 1s 2ms/step - loss: 8324.3330 - mae: 29.7220 - mse: 8324.3330\n",
      "Epoch 415/500\n",
      "499/499 [==============================] - 1s 2ms/step - loss: 7690.9746 - mae: 29.0177 - mse: 7690.9746\n",
      "Epoch 416/500\n",
      "499/499 [==============================] - 1s 2ms/step - loss: 7566.6777 - mae: 28.8787 - mse: 7566.6777\n",
      "Epoch 417/500\n",
      "499/499 [==============================] - 1s 2ms/step - loss: 7437.5698 - mae: 28.5802 - mse: 7437.5698\n",
      "Epoch 418/500\n",
      "499/499 [==============================] - 1s 2ms/step - loss: 7539.1797 - mae: 28.7293 - mse: 7539.1797\n",
      "Epoch 419/500\n",
      "499/499 [==============================] - 1s 2ms/step - loss: 7455.7910 - mae: 28.6119 - mse: 7455.7910\n",
      "Epoch 420/500\n",
      "499/499 [==============================] - 1s 2ms/step - loss: 7560.4111 - mae: 28.8401 - mse: 7560.4111\n",
      "Epoch 421/500\n",
      "499/499 [==============================] - 1s 2ms/step - loss: 7457.6206 - mae: 28.5180 - mse: 7457.6206\n",
      "Epoch 422/500\n",
      "499/499 [==============================] - 1s 2ms/step - loss: 7431.4048 - mae: 28.7224 - mse: 7431.4048\n",
      "Epoch 423/500\n",
      "499/499 [==============================] - 1s 2ms/step - loss: 7463.2466 - mae: 28.6194 - mse: 7463.2466\n",
      "Epoch 424/500\n",
      "499/499 [==============================] - 1s 2ms/step - loss: 7603.1689 - mae: 28.9018 - mse: 7603.1689\n",
      "Epoch 425/500\n",
      "499/499 [==============================] - 1s 2ms/step - loss: 7386.7280 - mae: 28.2592 - mse: 7386.7280\n",
      "Epoch 426/500\n",
      "499/499 [==============================] - 1s 2ms/step - loss: 7521.5811 - mae: 28.7492 - mse: 7521.5811\n",
      "Epoch 427/500\n",
      "499/499 [==============================] - 1s 2ms/step - loss: 7488.4702 - mae: 28.5135 - mse: 7488.4702\n",
      "Epoch 428/500\n",
      "499/499 [==============================] - 1s 2ms/step - loss: 7614.3677 - mae: 29.2985 - mse: 7614.3677\n",
      "Epoch 429/500\n",
      "499/499 [==============================] - 1s 2ms/step - loss: 7303.2944 - mae: 28.2526 - mse: 7303.2944\n",
      "Epoch 430/500\n",
      "499/499 [==============================] - 1s 2ms/step - loss: 7475.6387 - mae: 28.5576 - mse: 7475.6387\n",
      "Epoch 431/500\n",
      "499/499 [==============================] - 1s 2ms/step - loss: 7417.2246 - mae: 28.2951 - mse: 7417.2246\n",
      "Epoch 432/500\n",
      "499/499 [==============================] - 1s 2ms/step - loss: 7573.3623 - mae: 28.5805 - mse: 7573.3623\n",
      "Epoch 433/500\n",
      "499/499 [==============================] - 1s 2ms/step - loss: 7594.3267 - mae: 28.7964 - mse: 7594.3267\n",
      "Epoch 434/500\n",
      "499/499 [==============================] - 1s 2ms/step - loss: 7623.8535 - mae: 29.0245 - mse: 7623.8535\n",
      "Epoch 435/500\n",
      "499/499 [==============================] - 1s 2ms/step - loss: 7535.9053 - mae: 29.0889 - mse: 7535.9053\n",
      "Epoch 436/500\n",
      "499/499 [==============================] - 1s 2ms/step - loss: 7403.8081 - mae: 28.2850 - mse: 7403.8081\n",
      "Epoch 437/500\n",
      "499/499 [==============================] - 1s 2ms/step - loss: 7613.1650 - mae: 28.7870 - mse: 7613.1650\n",
      "Epoch 438/500\n",
      "499/499 [==============================] - 1s 2ms/step - loss: 7881.6694 - mae: 29.5290 - mse: 7881.6694\n",
      "Epoch 439/500\n",
      "499/499 [==============================] - 1s 2ms/step - loss: 7325.5464 - mae: 28.2004 - mse: 7325.5464\n",
      "Epoch 440/500\n",
      "499/499 [==============================] - 1s 2ms/step - loss: 7473.3496 - mae: 28.5340 - mse: 7473.3496\n",
      "Epoch 441/500\n",
      "499/499 [==============================] - 1s 2ms/step - loss: 7569.0444 - mae: 29.0072 - mse: 7569.0444\n",
      "Epoch 442/500\n",
      "499/499 [==============================] - 1s 2ms/step - loss: 7406.7905 - mae: 28.3608 - mse: 7406.7905\n",
      "Epoch 443/500\n",
      "499/499 [==============================] - 1s 2ms/step - loss: 7648.4136 - mae: 29.0396 - mse: 7648.4136\n",
      "Epoch 444/500\n",
      "499/499 [==============================] - 1s 2ms/step - loss: 7625.1743 - mae: 28.9603 - mse: 7625.1743\n",
      "Epoch 445/500\n",
      "499/499 [==============================] - 1s 2ms/step - loss: 7306.6978 - mae: 28.2266 - mse: 7306.6978\n",
      "Epoch 446/500\n",
      "499/499 [==============================] - 1s 2ms/step - loss: 7387.7217 - mae: 28.6160 - mse: 7387.7217\n",
      "Epoch 447/500\n",
      "499/499 [==============================] - 1s 2ms/step - loss: 7605.4121 - mae: 28.9918 - mse: 7605.4121\n",
      "Epoch 448/500\n",
      "499/499 [==============================] - 1s 2ms/step - loss: 7348.2656 - mae: 28.2349 - mse: 7348.2656\n",
      "Epoch 449/500\n",
      "499/499 [==============================] - 1s 2ms/step - loss: 7399.9487 - mae: 28.2182 - mse: 7399.9487\n",
      "Epoch 450/500\n",
      "499/499 [==============================] - 1s 2ms/step - loss: 7341.1689 - mae: 28.2550 - mse: 7341.1689\n",
      "Epoch 451/500\n",
      "499/499 [==============================] - 1s 2ms/step - loss: 7460.9946 - mae: 28.3843 - mse: 7460.9946\n",
      "Epoch 452/500\n",
      "499/499 [==============================] - 1s 2ms/step - loss: 7486.7925 - mae: 28.7940 - mse: 7486.7925\n",
      "Epoch 453/500\n",
      "499/499 [==============================] - 1s 2ms/step - loss: 7384.3037 - mae: 28.1710 - mse: 7384.3037\n",
      "Epoch 454/500\n",
      "499/499 [==============================] - 1s 2ms/step - loss: 7457.1943 - mae: 28.3061 - mse: 7457.1943\n",
      "Epoch 455/500\n",
      "499/499 [==============================] - 1s 2ms/step - loss: 7372.6729 - mae: 28.3457 - mse: 7372.6729\n",
      "Epoch 456/500\n",
      "499/499 [==============================] - 1s 2ms/step - loss: 7400.2139 - mae: 28.3830 - mse: 7400.2139\n",
      "Epoch 457/500\n",
      "499/499 [==============================] - 1s 2ms/step - loss: 7421.8496 - mae: 28.4846 - mse: 7421.8496\n",
      "Epoch 458/500\n",
      "499/499 [==============================] - 1s 2ms/step - loss: 7538.0576 - mae: 28.7124 - mse: 7538.0576\n",
      "Epoch 459/500\n",
      "499/499 [==============================] - 1s 2ms/step - loss: 7472.8765 - mae: 28.6233 - mse: 7472.8765\n",
      "Epoch 460/500\n",
      "499/499 [==============================] - 1s 2ms/step - loss: 7404.5415 - mae: 28.3566 - mse: 7404.5415\n",
      "Epoch 461/500\n",
      "499/499 [==============================] - 1s 2ms/step - loss: 7330.5947 - mae: 28.4738 - mse: 7330.5947\n",
      "Epoch 462/500\n",
      "499/499 [==============================] - 1s 2ms/step - loss: 7486.4136 - mae: 28.6155 - mse: 7486.4136\n",
      "Epoch 463/500\n",
      "499/499 [==============================] - 1s 2ms/step - loss: 7358.2148 - mae: 28.2103 - mse: 7358.2148\n",
      "Epoch 464/500\n",
      "499/499 [==============================] - 1s 2ms/step - loss: 7437.8691 - mae: 28.6051 - mse: 7437.8691\n",
      "Epoch 465/500\n",
      "499/499 [==============================] - 1s 2ms/step - loss: 7543.3955 - mae: 28.7245 - mse: 7543.3955\n",
      "Epoch 466/500\n",
      "499/499 [==============================] - 1s 2ms/step - loss: 7264.5059 - mae: 27.9905 - mse: 7264.5059\n",
      "Epoch 467/500\n",
      "499/499 [==============================] - 1s 2ms/step - loss: 7309.5923 - mae: 28.1557 - mse: 7309.5923\n",
      "Epoch 468/500\n",
      "499/499 [==============================] - 1s 2ms/step - loss: 7290.6362 - mae: 28.2502 - mse: 7290.6362\n",
      "Epoch 469/500\n",
      "499/499 [==============================] - 1s 2ms/step - loss: 7323.9297 - mae: 28.3199 - mse: 7323.9297\n",
      "Epoch 470/500\n",
      "499/499 [==============================] - 1s 2ms/step - loss: 7240.6738 - mae: 28.0892 - mse: 7240.6738\n",
      "Epoch 471/500\n",
      "499/499 [==============================] - 1s 2ms/step - loss: 7281.2100 - mae: 28.1078 - mse: 7281.2100\n",
      "Epoch 472/500\n",
      "499/499 [==============================] - 1s 2ms/step - loss: 7310.4600 - mae: 28.1228 - mse: 7310.4600\n",
      "Epoch 473/500\n",
      "499/499 [==============================] - 1s 2ms/step - loss: 7410.4019 - mae: 28.5217 - mse: 7410.4019\n",
      "Epoch 474/500\n",
      "499/499 [==============================] - 1s 2ms/step - loss: 7275.2651 - mae: 27.9864 - mse: 7275.2651\n",
      "Epoch 475/500\n",
      "499/499 [==============================] - 1s 2ms/step - loss: 7540.7910 - mae: 28.8409 - mse: 7540.7910\n",
      "Epoch 476/500\n",
      "499/499 [==============================] - 1s 2ms/step - loss: 7198.0151 - mae: 27.7414 - mse: 7198.0151\n",
      "Epoch 477/500\n",
      "499/499 [==============================] - 1s 2ms/step - loss: 7546.5557 - mae: 28.8766 - mse: 7546.5557\n",
      "Epoch 478/500\n",
      "499/499 [==============================] - 1s 2ms/step - loss: 7342.5518 - mae: 28.1716 - mse: 7342.5518\n",
      "Epoch 479/500\n",
      "499/499 [==============================] - 1s 2ms/step - loss: 7396.3721 - mae: 28.4213 - mse: 7396.3721\n",
      "Epoch 480/500\n",
      "499/499 [==============================] - 1s 2ms/step - loss: 7245.4824 - mae: 28.0667 - mse: 7245.4824\n",
      "Epoch 481/500\n",
      "499/499 [==============================] - 1s 2ms/step - loss: 7300.0845 - mae: 28.0905 - mse: 7300.0845\n",
      "Epoch 482/500\n",
      "499/499 [==============================] - 1s 2ms/step - loss: 7405.5005 - mae: 28.1555 - mse: 7405.5005\n",
      "Epoch 483/500\n",
      "499/499 [==============================] - 1s 2ms/step - loss: 7500.7944 - mae: 28.7030 - mse: 7500.7944\n",
      "Epoch 484/500\n",
      "499/499 [==============================] - 1s 2ms/step - loss: 7254.7554 - mae: 28.0100 - mse: 7254.7554\n",
      "Epoch 485/500\n",
      "499/499 [==============================] - 1s 2ms/step - loss: 7490.7842 - mae: 28.4021 - mse: 7490.7842\n",
      "Epoch 486/500\n",
      "499/499 [==============================] - 1s 2ms/step - loss: 7351.1714 - mae: 28.2745 - mse: 7351.1714\n",
      "Epoch 487/500\n",
      "499/499 [==============================] - 1s 2ms/step - loss: 7322.6543 - mae: 28.1371 - mse: 7322.6543\n",
      "Epoch 488/500\n",
      "499/499 [==============================] - 1s 2ms/step - loss: 7376.8120 - mae: 28.4062 - mse: 7376.8120\n",
      "Epoch 489/500\n",
      "499/499 [==============================] - 1s 2ms/step - loss: 7322.7495 - mae: 28.0687 - mse: 7322.7495\n",
      "Epoch 490/500\n",
      "499/499 [==============================] - 1s 2ms/step - loss: 7408.2393 - mae: 28.4158 - mse: 7408.2393\n",
      "Epoch 491/500\n",
      "499/499 [==============================] - 1s 2ms/step - loss: 7276.1113 - mae: 27.8846 - mse: 7276.1113\n",
      "Epoch 492/500\n",
      "499/499 [==============================] - 1s 2ms/step - loss: 7285.0830 - mae: 27.9849 - mse: 7285.0830\n",
      "Epoch 493/500\n",
      "499/499 [==============================] - 1s 2ms/step - loss: 7455.5854 - mae: 28.4628 - mse: 7455.5854\n",
      "Epoch 494/500\n",
      "499/499 [==============================] - 1s 2ms/step - loss: 7229.9810 - mae: 27.8308 - mse: 7229.9810\n",
      "Epoch 495/500\n",
      "499/499 [==============================] - 1s 2ms/step - loss: 7244.2407 - mae: 27.7702 - mse: 7244.2407\n",
      "Epoch 496/500\n",
      "499/499 [==============================] - 1s 2ms/step - loss: 7516.6079 - mae: 28.6955 - mse: 7516.6079\n",
      "Epoch 497/500\n",
      "499/499 [==============================] - 1s 2ms/step - loss: 7358.4351 - mae: 28.2560 - mse: 7358.4351\n",
      "Epoch 498/500\n",
      "499/499 [==============================] - 1s 2ms/step - loss: 7334.7012 - mae: 28.3039 - mse: 7334.7012\n",
      "Epoch 499/500\n",
      "499/499 [==============================] - 1s 2ms/step - loss: 7226.1489 - mae: 27.9007 - mse: 7226.1489\n",
      "Epoch 500/500\n",
      "499/499 [==============================] - 1s 2ms/step - loss: 7393.2354 - mae: 28.3134 - mse: 7393.2354\n"
     ]
    }
   ],
   "source": [
    "# model.fit(train_x, train_y, epochs=30, batch_size = 64, verbose = 1, callbacks = early_stopping)\n",
    "hist = model.fit(train_x, train_y, epochs=500, batch_size = 16, verbose = 1)"
   ]
  },
  {
   "cell_type": "code",
   "execution_count": 51,
   "id": "96786daf-975c-4746-8cb4-658966f08a6e",
   "metadata": {
    "tags": []
   },
   "outputs": [
    {
     "data": {
      "image/png": "[encoded data removed]",
      "text/plain": [
       "<Figure size 1080x360 with 1 Axes>"
      ]
     },
     "metadata": {
      "needs_background": "light"
     },
     "output_type": "display_data"
    }
   ],
   "source": [
    "plt.figure(figsize = (15,5))\n",
    "plt.plot(hist.history['loss'][:])\n",
    "plt.show()"
   ]
  },
  {
   "cell_type": "code",
   "execution_count": 44,
   "id": "4f9707aa-c3f8-459d-9ee6-ebe36462ac2d",
   "metadata": {
    "tags": []
   },
   "outputs": [],
   "source": [
    "pred = model.predict(test_x)\n",
    "# pred = scl_model_y.inverse_transform(pred)\n",
    "# actual = scl_model_y.inverse_transform(test_y)\n",
    "actual = test_y"
   ]
  },
  {
   "cell_type": "code",
   "execution_count": 45,
   "id": "ec3582ac-2530-4d6d-be58-d518404a64f2",
   "metadata": {
    "tags": []
   },
   "outputs": [],
   "source": [
    "from sklearn.metrics import mean_absolute_percentage_error, mean_squared_error"
   ]
  },
  {
   "cell_type": "code",
   "execution_count": 46,
   "id": "5eb78686-d655-4a94-bf27-1f819e6ea379",
   "metadata": {
    "tags": []
   },
   "outputs": [
    {
     "data": {
      "text/plain": [
       "21514.589300548683"
      ]
     },
     "execution_count": 46,
     "metadata": {},
     "output_type": "execute_result"
    }
   ],
   "source": [
    "mean_squared_error(actual, pred)"
   ]
  },
  {
   "cell_type": "code",
   "execution_count": 47,
   "id": "8c92cd73-91ef-4852-bf6b-fae6f6ec6482",
   "metadata": {
    "tags": []
   },
   "outputs": [
    {
     "data": {
      "text/plain": [
       "146.67852365138083"
      ]
     },
     "execution_count": 47,
     "metadata": {},
     "output_type": "execute_result"
    }
   ],
   "source": [
    "np.sqrt(mean_squared_error(actual, pred))"
   ]
  },
  {
   "cell_type": "code",
   "execution_count": 48,
   "id": "a612e26a-2e80-42fc-8379-619ea2ad6a3b",
   "metadata": {
    "tags": []
   },
   "outputs": [],
   "source": [
    "actual_df = pd.DataFrame(columns = list(target), data = actual)\n",
    "pred_df = pd.DataFrame(columns = list(target), data = pred)"
   ]
  },
  {
   "cell_type": "code",
   "execution_count": 49,
   "id": "6fc1c293-b8d6-41f4-89a4-4cab04e31bd7",
   "metadata": {
    "tags": []
   },
   "outputs": [
    {
     "data": {
      "image/png": "[encoded data removed]",
      "text/plain": [
       "<Figure size 720x360 with 1 Axes>"
      ]
     },
     "metadata": {
      "needs_background": "light"
     },
     "output_type": "display_data"
    },
    {
     "data": {
      "image/png": "[encoded data removed]",
      "text/plain": [
       "<Figure size 720x360 with 1 Axes>"
      ]
     },
     "metadata": {
      "needs_background": "light"
     },
     "output_type": "display_data"
    },
    {
     "data": {
      "image/png": "[encoded data removed]",
      "text/plain": [
       "<Figure size 720x360 with 1 Axes>"
      ]
     },
     "metadata": {
      "needs_background": "light"
     },
     "output_type": "display_data"
    },
    {
     "data": {
      "image/png": "[encoded data removed]",
      "text/plain": [
       "<Figure size 720x360 with 1 Axes>"
      ]
     },
     "metadata": {
      "needs_background": "light"
     },
     "output_type": "display_data"
    },
    {
     "data": {
      "image/png": "[encoded data removed]",
      "text/plain": [
       "<Figure size 720x360 with 1 Axes>"
      ]
     },
     "metadata": {
      "needs_background": "light"
     },
     "output_type": "display_data"
    },
    {
     "data": {
      "image/png": "[encoded data removed]",
      "text/plain": [
       "<Figure size 720x360 with 1 Axes>"
      ]
     },
     "metadata": {
      "needs_background": "light"
     },
     "output_type": "display_data"
    },
    {
     "data": {
      "image/png": "[encoded data removed]",
      "text/plain": [
       "<Figure size 720x360 with 1 Axes>"
      ]
     },
     "metadata": {
      "needs_background": "light"
     },
     "output_type": "display_data"
    },
    {
     "data": {
      "image/png": "[encoded data removed]",
      "text/plain": [
       "<Figure size 720x360 with 1 Axes>"
      ]
     },
     "metadata": {
      "needs_background": "light"
     },
     "output_type": "display_data"
    },
    {
     "data": {
      "image/png": "[encoded data removed]",
      "text/plain": [
       "<Figure size 720x360 with 1 Axes>"
      ]
     },
     "metadata": {
      "needs_background": "light"
     },
     "output_type": "display_data"
    },
    {
     "data": {
      "image/png": "[encoded data removed]",
      "text/plain": [
       "<Figure size 720x360 with 1 Axes>"
      ]
     },
     "metadata": {
      "needs_background": "light"
     },
     "output_type": "display_data"
    }
   ],
   "source": [
    "import matplotlib.pyplot as plt\n",
    "\n",
    "for col in list(pred_df):\n",
    "    # col = 'sensor_inner_temperature1_1_target'\n",
    "    # idx = 1000000\n",
    "\n",
    "    plt.figure(figsize = (10,5))\n",
    "    plt.plot(pred_df[col][:])\n",
    "    plt.plot(actual_df[col][:])\n",
    "    plt.title(col)\n",
    "    plt.show()"
   ]
  },
  {
   "cell_type": "code",
   "execution_count": null,
   "id": "dbc247f6-e1e3-4e75-9889-9ac2614160e7",
   "metadata": {},
   "outputs": [],
   "source": []
  },
  {
   "cell_type": "code",
   "execution_count": null,
   "id": "812441ed-9b06-4e00-8d3e-7a77f6a998eb",
   "metadata": {},
   "outputs": [],
   "source": []
  },
  {
   "cell_type": "code",
   "execution_count": null,
   "id": "6fd9e2b5-91d6-47d4-9b27-10cec6787604",
   "metadata": {},
   "outputs": [],
   "source": []
  },
  {
   "cell_type": "code",
   "execution_count": null,
   "id": "0a20e8c3-7687-4850-9af0-7e3cbc95ff3d",
   "metadata": {},
   "outputs": [],
   "source": []
  },
  {
   "cell_type": "code",
   "execution_count": null,
   "id": "228777bd-b8d0-4572-bd8a-694fc3ea1e14",
   "metadata": {},
   "outputs": [],
   "source": []
  },
  {
   "cell_type": "code",
   "execution_count": null,
   "id": "38463f62-1152-4390-b984-c4a1af3ae69c",
   "metadata": {},
   "outputs": [],
   "source": []
  },
  {
   "cell_type": "code",
   "execution_count": null,
   "id": "bdce9e7c-4d22-4120-adeb-88106a0f2365",
   "metadata": {},
   "outputs": [],
   "source": []
  },
  {
   "cell_type": "code",
   "execution_count": null,
   "id": "d85ecf3d-e0d0-4d84-a352-e25bf9523f09",
   "metadata": {},
   "outputs": [],
   "source": []
  },
  {
   "cell_type": "code",
   "execution_count": null,
   "id": "0074d557-1c83-43a8-ab9d-e5591d2ad141",
   "metadata": {},
   "outputs": [],
   "source": []
  },
  {
   "cell_type": "code",
   "execution_count": null,
   "id": "1dc6a3ab-075e-4543-b02a-c3cba33292d0",
   "metadata": {},
   "outputs": [],
   "source": []
  },
  {
   "cell_type": "code",
   "execution_count": null,
   "id": "7f05428d-4f6e-4875-9f9f-10c984d24e24",
   "metadata": {},
   "outputs": [],
   "source": []
  },
  {
   "cell_type": "code",
   "execution_count": null,
   "id": "419c42ba-32c0-40b1-8038-0f3fe7db24bc",
   "metadata": {},
   "outputs": [],
   "source": []
  },
  {
   "cell_type": "code",
   "execution_count": null,
   "id": "363a16e7-db99-4da0-81fd-1eec75d4bb56",
   "metadata": {},
   "outputs": [],
   "source": []
  },
  {
   "cell_type": "code",
   "execution_count": null,
   "id": "37884afc-6154-43b2-bb33-ff96ddb6f909",
   "metadata": {},
   "outputs": [],
   "source": []
  },
  {
   "cell_type": "code",
   "execution_count": null,
   "id": "e8cc2cb8-e3b4-4597-9efc-0c7d8bbeaf7d",
   "metadata": {},
   "outputs": [],
   "source": []
  },
  {
   "cell_type": "code",
   "execution_count": null,
   "id": "ecda7547-0d5b-4309-ae90-b4dc9e835cd8",
   "metadata": {},
   "outputs": [],
   "source": []
  }
 ],
 "metadata": {
  "availableInstances": [
   {
    "_defaultOrder": 0,
    "_isFastLaunch": true,
    "category": "General purpose",
    "gpuNum": 0,
    "hideHardwareSpecs": false,
    "memoryGiB": 4,
    "name": "ml.t3.medium",
    "vcpuNum": 2
   },
   {
    "_defaultOrder": 1,
    "_isFastLaunch": false,
    "category": "General purpose",
    "gpuNum": 0,
    "hideHardwareSpecs": false,
    "memoryGiB": 8,
    "name": "ml.t3.large",
    "vcpuNum": 2
   },
   {
    "_defaultOrder": 2,
    "_isFastLaunch": false,
    "category": "General purpose",
    "gpuNum": 0,
    "hideHardwareSpecs": false,
    "memoryGiB": 16,
    "name": "ml.t3.xlarge",
    "vcpuNum": 4
   },
   {
    "_defaultOrder": 3,
    "_isFastLaunch": false,
    "category": "General purpose",
    "gpuNum": 0,
    "hideHardwareSpecs": false,
    "memoryGiB": 32,
    "name": "ml.t3.2xlarge",
    "vcpuNum": 8
   },
   {
    "_defaultOrder": 4,
    "_isFastLaunch": true,
    "category": "General purpose",
    "gpuNum": 0,
    "hideHardwareSpecs": false,
    "memoryGiB": 8,
    "name": "ml.m5.large",
    "vcpuNum": 2
   },
   {
    "_defaultOrder": 5,
    "_isFastLaunch": false,
    "category": "General purpose",
    "gpuNum": 0,
    "hideHardwareSpecs": false,
    "memoryGiB": 16,
    "name": "ml.m5.xlarge",
    "vcpuNum": 4
   },
   {
    "_defaultOrder": 6,
    "_isFastLaunch": false,
    "category": "General purpose",
    "gpuNum": 0,
    "hideHardwareSpecs": false,
    "memoryGiB": 32,
    "name": "ml.m5.2xlarge",
    "vcpuNum": 8
   },
   {
    "_defaultOrder": 7,
    "_isFastLaunch": false,
    "category": "General purpose",
    "gpuNum": 0,
    "hideHardwareSpecs": false,
    "memoryGiB": 64,
    "name": "ml.m5.4xlarge",
    "vcpuNum": 16
   },
   {
    "_defaultOrder": 8,
    "_isFastLaunch": false,
    "category": "General purpose",
    "gpuNum": 0,
    "hideHardwareSpecs": false,
    "memoryGiB": 128,
    "name": "ml.m5.8xlarge",
    "vcpuNum": 32
   },
   {
    "_defaultOrder": 9,
    "_isFastLaunch": false,
    "category": "General purpose",
    "gpuNum": 0,
    "hideHardwareSpecs": false,
    "memoryGiB": 192,
    "name": "ml.m5.12xlarge",
    "vcpuNum": 48
   },
   {
    "_defaultOrder": 10,
    "_isFastLaunch": false,
    "category": "General purpose",
    "gpuNum": 0,
    "hideHardwareSpecs": false,
    "memoryGiB": 256,
    "name": "ml.m5.16xlarge",
    "vcpuNum": 64
   },
   {
    "_defaultOrder": 11,
    "_isFastLaunch": false,
    "category": "General purpose",
    "gpuNum": 0,
    "hideHardwareSpecs": false,
    "memoryGiB": 384,
    "name": "ml.m5.24xlarge",
    "vcpuNum": 96
   },
   {
    "_defaultOrder": 12,
    "_isFastLaunch": false,
    "category": "General purpose",
    "gpuNum": 0,
    "hideHardwareSpecs": false,
    "memoryGiB": 8,
    "name": "ml.m5d.large",
    "vcpuNum": 2
   },
   {
    "_defaultOrder": 13,
    "_isFastLaunch": false,
    "category": "General purpose",
    "gpuNum": 0,
    "hideHardwareSpecs": false,
    "memoryGiB": 16,
    "name": "ml.m5d.xlarge",
    "vcpuNum": 4
   },
   {
    "_defaultOrder": 14,
    "_isFastLaunch": false,
    "category": "General purpose",
    "gpuNum": 0,
    "hideHardwareSpecs": false,
    "memoryGiB": 32,
    "name": "ml.m5d.2xlarge",
    "vcpuNum": 8
   },
   {
    "_defaultOrder": 15,
    "_isFastLaunch": false,
    "category": "General purpose",
    "gpuNum": 0,
    "hideHardwareSpecs": false,
    "memoryGiB": 64,
    "name": "ml.m5d.4xlarge",
    "vcpuNum": 16
   },
   {
    "_defaultOrder": 16,
    "_isFastLaunch": false,
    "category": "General purpose",
    "gpuNum": 0,
    "hideHardwareSpecs": false,
    "memoryGiB": 128,
    "name": "ml.m5d.8xlarge",
    "vcpuNum": 32
   },
   {
    "_defaultOrder": 17,
    "_isFastLaunch": false,
    "category": "General purpose",
    "gpuNum": 0,
    "hideHardwareSpecs": false,
    "memoryGiB": 192,
    "name": "ml.m5d.12xlarge",
    "vcpuNum": 48
   },
   {
    "_defaultOrder": 18,
    "_isFastLaunch": false,
    "category": "General purpose",
    "gpuNum": 0,
    "hideHardwareSpecs": false,
    "memoryGiB": 256,
    "name": "ml.m5d.16xlarge",
    "vcpuNum": 64
   },
   {
    "_defaultOrder": 19,
    "_isFastLaunch": false,
    "category": "General purpose",
    "gpuNum": 0,
    "hideHardwareSpecs": false,
    "memoryGiB": 384,
    "name": "ml.m5d.24xlarge",
    "vcpuNum": 96
   },
   {
    "_defaultOrder": 20,
    "_isFastLaunch": false,
    "category": "General purpose",
    "gpuNum": 0,
    "hideHardwareSpecs": true,
    "memoryGiB": 0,
    "name": "ml.geospatial.interactive",
    "supportedImageNames": [
     "sagemaker-geospatial-v1-0"
    ],
    "vcpuNum": 0
   },
   {
    "_defaultOrder": 21,
    "_isFastLaunch": true,
    "category": "Compute optimized",
    "gpuNum": 0,
    "hideHardwareSpecs": false,
    "memoryGiB": 4,
    "name": "ml.c5.large",
    "vcpuNum": 2
   },
   {
    "_defaultOrder": 22,
    "_isFastLaunch": false,
    "category": "Compute optimized",
    "gpuNum": 0,
    "hideHardwareSpecs": false,
    "memoryGiB": 8,
    "name": "ml.c5.xlarge",
    "vcpuNum": 4
   },
   {
    "_defaultOrder": 23,
    "_isFastLaunch": false,
    "category": "Compute optimized",
    "gpuNum": 0,
    "hideHardwareSpecs": false,
    "memoryGiB": 16,
    "name": "ml.c5.2xlarge",
    "vcpuNum": 8
   },
   {
    "_defaultOrder": 24,
    "_isFastLaunch": false,
    "category": "Compute optimized",
    "gpuNum": 0,
    "hideHardwareSpecs": false,
    "memoryGiB": 32,
    "name": "ml.c5.4xlarge",
    "vcpuNum": 16
   },
   {
    "_defaultOrder": 25,
    "_isFastLaunch": false,
    "category": "Compute optimized",
    "gpuNum": 0,
    "hideHardwareSpecs": false,
    "memoryGiB": 72,
    "name": "ml.c5.9xlarge",
    "vcpuNum": 36
   },
   {
    "_defaultOrder": 26,
    "_isFastLaunch": false,
    "category": "Compute optimized",
    "gpuNum": 0,
    "hideHardwareSpecs": false,
    "memoryGiB": 96,
    "name": "ml.c5.12xlarge",
    "vcpuNum": 48
   },
   {
    "_defaultOrder": 27,
    "_isFastLaunch": false,
    "category": "Compute optimized",
    "gpuNum": 0,
    "hideHardwareSpecs": false,
    "memoryGiB": 144,
    "name": "ml.c5.18xlarge",
    "vcpuNum": 72
   },
   {
    "_defaultOrder": 28,
    "_isFastLaunch": false,
    "category": "Compute optimized",
    "gpuNum": 0,
    "hideHardwareSpecs": false,
    "memoryGiB": 192,
    "name": "ml.c5.24xlarge",
    "vcpuNum": 96
   },
   {
    "_defaultOrder": 29,
    "_isFastLaunch": true,
    "category": "Accelerated computing",
    "gpuNum": 1,
    "hideHardwareSpecs": false,
    "memoryGiB": 16,
    "name": "ml.g4dn.xlarge",
    "vcpuNum": 4
   },
   {
    "_defaultOrder": 30,
    "_isFastLaunch": false,
    "category": "Accelerated computing",
    "gpuNum": 1,
    "hideHardwareSpecs": false,
    "memoryGiB": 32,
    "name": "ml.g4dn.2xlarge",
    "vcpuNum": 8
   },
   {
    "_defaultOrder": 31,
    "_isFastLaunch": false,
    "category": "Accelerated computing",
    "gpuNum": 1,
    "hideHardwareSpecs": false,
    "memoryGiB": 64,
    "name": "ml.g4dn.4xlarge",
    "vcpuNum": 16
   },
   {
    "_defaultOrder": 32,
    "_isFastLaunch": false,
    "category": "Accelerated computing",
    "gpuNum": 1,
    "hideHardwareSpecs": false,
    "memoryGiB": 128,
    "name": "ml.g4dn.8xlarge",
    "vcpuNum": 32
   },
   {
    "_defaultOrder": 33,
    "_isFastLaunch": false,
    "category": "Accelerated computing",
    "gpuNum": 4,
    "hideHardwareSpecs": false,
    "memoryGiB": 192,
    "name": "ml.g4dn.12xlarge",
    "vcpuNum": 48
   },
   {
    "_defaultOrder": 34,
    "_isFastLaunch": false,
    "category": "Accelerated computing",
    "gpuNum": 1,
    "hideHardwareSpecs": false,
    "memoryGiB": 256,
    "name": "ml.g4dn.16xlarge",
    "vcpuNum": 64
   },
   {
    "_defaultOrder": 35,
    "_isFastLaunch": false,
    "category": "Accelerated computing",
    "gpuNum": 1,
    "hideHardwareSpecs": false,
    "memoryGiB": 61,
    "name": "ml.p3.2xlarge",
    "vcpuNum": 8
   },
   {
    "_defaultOrder": 36,
    "_isFastLaunch": false,
    "category": "Accelerated computing",
    "gpuNum": 4,
    "hideHardwareSpecs": false,
    "memoryGiB": 244,
    "name": "ml.p3.8xlarge",
    "vcpuNum": 32
   },
   {
    "_defaultOrder": 37,
    "_isFastLaunch": false,
    "category": "Accelerated computing",
    "gpuNum": 8,
    "hideHardwareSpecs": false,
    "memoryGiB": 488,
    "name": "ml.p3.16xlarge",
    "vcpuNum": 64
   },
   {
    "_defaultOrder": 38,
    "_isFastLaunch": false,
    "category": "Accelerated computing",
    "gpuNum": 8,
    "hideHardwareSpecs": false,
    "memoryGiB": 768,
    "name": "ml.p3dn.24xlarge",
    "vcpuNum": 96
   },
   {
    "_defaultOrder": 39,
    "_isFastLaunch": false,
    "category": "Memory Optimized",
    "gpuNum": 0,
    "hideHardwareSpecs": false,
    "memoryGiB": 16,
    "name": "ml.r5.large",
    "vcpuNum": 2
   },
   {
    "_defaultOrder": 40,
    "_isFastLaunch": false,
    "category": "Memory Optimized",
    "gpuNum": 0,
    "hideHardwareSpecs": false,
    "memoryGiB": 32,
    "name": "ml.r5.xlarge",
    "vcpuNum": 4
   },
   {
    "_defaultOrder": 41,
    "_isFastLaunch": false,
    "category": "Memory Optimized",
    "gpuNum": 0,
    "hideHardwareSpecs": false,
    "memoryGiB": 64,
    "name": "ml.r5.2xlarge",
    "vcpuNum": 8
   },
   {
    "_defaultOrder": 42,
    "_isFastLaunch": false,
    "category": "Memory Optimized",
    "gpuNum": 0,
    "hideHardwareSpecs": false,
    "memoryGiB": 128,
    "name": "ml.r5.4xlarge",
    "vcpuNum": 16
   },
   {
    "_defaultOrder": 43,
    "_isFastLaunch": false,
    "category": "Memory Optimized",
    "gpuNum": 0,
    "hideHardwareSpecs": false,
    "memoryGiB": 256,
    "name": "ml.r5.8xlarge",
    "vcpuNum": 32
   },
   {
    "_defaultOrder": 44,
    "_isFastLaunch": false,
    "category": "Memory Optimized",
    "gpuNum": 0,
    "hideHardwareSpecs": false,
    "memoryGiB": 384,
    "name": "ml.r5.12xlarge",
    "vcpuNum": 48
   },
   {
    "_defaultOrder": 45,
    "_isFastLaunch": false,
    "category": "Memory Optimized",
    "gpuNum": 0,
    "hideHardwareSpecs": false,
    "memoryGiB": 512,
    "name": "ml.r5.16xlarge",
    "vcpuNum": 64
   },
   {
    "_defaultOrder": 46,
    "_isFastLaunch": false,
    "category": "Memory Optimized",
    "gpuNum": 0,
    "hideHardwareSpecs": false,
    "memoryGiB": 768,
    "name": "ml.r5.24xlarge",
    "vcpuNum": 96
   },
   {
    "_defaultOrder": 47,
    "_isFastLaunch": false,
    "category": "Accelerated computing",
    "gpuNum": 1,
    "hideHardwareSpecs": false,
    "memoryGiB": 16,
    "name": "ml.g5.xlarge",
    "vcpuNum": 4
   },
   {
    "_defaultOrder": 48,
    "_isFastLaunch": false,
    "category": "Accelerated computing",
    "gpuNum": 1,
    "hideHardwareSpecs": false,
    "memoryGiB": 32,
    "name": "ml.g5.2xlarge",
    "vcpuNum": 8
   },
   {
    "_defaultOrder": 49,
    "_isFastLaunch": false,
    "category": "Accelerated computing",
    "gpuNum": 1,
    "hideHardwareSpecs": false,
    "memoryGiB": 64,
    "name": "ml.g5.4xlarge",
    "vcpuNum": 16
   },
   {
    "_defaultOrder": 50,
    "_isFastLaunch": false,
    "category": "Accelerated computing",
    "gpuNum": 1,
    "hideHardwareSpecs": false,
    "memoryGiB": 128,
    "name": "ml.g5.8xlarge",
    "vcpuNum": 32
   },
   {
    "_defaultOrder": 51,
    "_isFastLaunch": false,
    "category": "Accelerated computing",
    "gpuNum": 1,
    "hideHardwareSpecs": false,
    "memoryGiB": 256,
    "name": "ml.g5.16xlarge",
    "vcpuNum": 64
   },
   {
    "_defaultOrder": 52,
    "_isFastLaunch": false,
    "category": "Accelerated computing",
    "gpuNum": 4,
    "hideHardwareSpecs": false,
    "memoryGiB": 192,
    "name": "ml.g5.12xlarge",
    "vcpuNum": 48
   },
   {
    "_defaultOrder": 53,
    "_isFastLaunch": false,
    "category": "Accelerated computing",
    "gpuNum": 4,
    "hideHardwareSpecs": false,
    "memoryGiB": 384,
    "name": "ml.g5.24xlarge",
    "vcpuNum": 96
   },
   {
    "_defaultOrder": 54,
    "_isFastLaunch": false,
    "category": "Accelerated computing",
    "gpuNum": 8,
    "hideHardwareSpecs": false,
    "memoryGiB": 768,
    "name": "ml.g5.48xlarge",
    "vcpuNum": 192
   }
  ],
  "instance_type": "ml.g4dn.xlarge",
  "kernelspec": {
   "display_name": "Python 3 (TensorFlow 2.6 Python 3.8 GPU Optimized)",
   "language": "python",
   "name": "python3__SAGEMAKER_INTERNAL__arn:aws:sagemaker:ap-northeast-2:806072073708:image/tensorflow-2.6-gpu-py38-cu112-ubuntu20.04-v1"
  },
  "language_info": {
   "codemirror_mode": {
    "name": "ipython",
    "version": 3
   },
   "file_extension": ".py",
   "mimetype": "text/x-python",
   "name": "python",
   "nbconvert_exporter": "python",
   "pygments_lexer": "ipython3",
   "version": "3.8.2"
  }
 },
 "nbformat": 4,
 "nbformat_minor": 5
}
