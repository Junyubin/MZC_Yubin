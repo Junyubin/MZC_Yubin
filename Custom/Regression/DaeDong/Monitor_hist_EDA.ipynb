{
 "cells": [
  {
   "cell_type": "markdown",
   "id": "b0150bb1-9626-4f3d-856d-57e66d416671",
   "metadata": {
    "tags": []
   },
   "source": [
    "## Import Library"
   ]
  },
  {
   "cell_type": "code",
   "execution_count": 2,
   "id": "cde585aa-fe7a-4f79-9324-04793d86a679",
   "metadata": {},
   "outputs": [
    {
     "name": "stdout",
     "output_type": "stream",
     "text": [
      "\u001b[31mERROR: pip's dependency resolver does not currently take into account all the packages that are installed. This behaviour is the source of the following dependency conflicts.\n",
      "tensorflow 2.6.2 requires typing-extensions~=3.7.4, but you have typing-extensions 4.6.0 which is incompatible.\n",
      "awscli 1.22.22 requires botocore==1.23.22, but you have botocore 1.29.138 which is incompatible.\n",
      "awscli 1.22.22 requires s3transfer<0.6.0,>=0.5.0, but you have s3transfer 0.6.1 which is incompatible.\u001b[0m\n",
      "\u001b[33mWARNING: Running pip as the 'root' user can result in broken permissions and conflicting behaviour with the system package manager. It is recommended to use a virtual environment instead: https://pip.pypa.io/warnings/venv\u001b[0m\n",
      "\u001b[33mWARNING: You are using pip version 21.3.1; however, version 23.1.2 is available.\n",
      "You should consider upgrading via the '/usr/local/bin/python3.8 -m pip install --upgrade pip' command.\u001b[0m\n"
     ]
    }
   ],
   "source": [
    "!pip install awswrangler -q"
   ]
  },
  {
   "cell_type": "code",
   "execution_count": 3,
   "id": "b628a9c3-10a1-4e5a-ad37-d500e6845ac6",
   "metadata": {
    "tags": []
   },
   "outputs": [],
   "source": [
    "import awswrangler as wr\n",
    "import numpy as np\n",
    "import pandas as pd\n",
    "import json\n",
    "import gc\n",
    "import matplotlib.pyplot as plt\n",
    "import seaborn as sns"
   ]
  },
  {
   "cell_type": "markdown",
   "id": "63982aa3-4ac5-46b4-843c-38c4e9da47b1",
   "metadata": {
    "tags": []
   },
   "source": [
    "## Load Data"
   ]
  },
  {
   "cell_type": "code",
   "execution_count": 4,
   "id": "e6a25982-8ee8-495e-ad15-2b815fc7161c",
   "metadata": {
    "tags": []
   },
   "outputs": [],
   "source": [
    "monitor_hist = wr.s3.read_csv('s3://dd-ai-ml/raw_data/preprocessing/parse_data.csv')\n",
    "device_type = wr.s3.read_csv('s3://dd-ai-ml/raw_data/cd_device_type_202305031333.csv')"
   ]
  },
  {
   "cell_type": "code",
   "execution_count": 5,
   "id": "d2b4d19a-24dc-46bc-947c-c211de9a3b39",
   "metadata": {
    "tags": []
   },
   "outputs": [
    {
     "data": {
      "text/plain": [
       "(902910, 59)"
      ]
     },
     "execution_count": 5,
     "metadata": {},
     "output_type": "execute_result"
    }
   ],
   "source": [
    "monitor_hist.shape"
   ]
  },
  {
   "cell_type": "markdown",
   "id": "1ec2c5fe-8ee5-4984-aaf8-194689959abf",
   "metadata": {
    "tags": []
   },
   "source": [
    "## 데이터 전처리"
   ]
  },
  {
   "cell_type": "code",
   "execution_count": 8,
   "id": "d67c3da4-96f4-4018-8b32-dbc9a8968bda",
   "metadata": {
    "tags": []
   },
   "outputs": [
    {
     "name": "stdout",
     "output_type": "stream",
     "text": [
      "gsm_key\n",
      "green_house_id\n",
      "prd_code\n",
      "dc_power_1\n",
      "dc_power_1_auto_manual_mode\n",
      "ac_power_1\n",
      "ac_power_1_auto_manual_mode\n"
     ]
    }
   ],
   "source": [
    "## 형변환\n",
    "monitor_hist['event_date'] = pd.to_datetime(monitor_hist['event_date'])\n",
    "monitor_hist['event_date_min'] = pd.to_datetime(monitor_hist['event_date_min'])\n",
    "monitor_hist['crops_start_date'] = pd.to_datetime(monitor_hist['crops_start_date'])\n",
    "monitor_hist['crops_end_date'] = pd.to_datetime(monitor_hist['crops_end_date'])\n",
    "\n",
    "## 변수 추가생성\n",
    "monitor_hist['hour'] = monitor_hist['event_date'].dt.hour\n",
    "monitor_hist['month'] = monitor_hist['event_date'].dt.month\n",
    "\n",
    "## 컬럼명 변경\n",
    "monitor_hist.columns = ['_'.join(col.split('$'))  if '$' in col else col for col in list(monitor_hist)]\n",
    "\n",
    "## 단일값 제거\n",
    "for col in list(monitor_hist):\n",
    "    if monitor_hist[col].nunique() <= 1:\n",
    "        print(col)\n",
    "        monitor_hist.drop(col, axis = 1, inplace = True)\n",
    "        "
   ]
  },
  {
   "cell_type": "markdown",
   "id": "823bf756-884c-499e-b62b-2872f02013ba",
   "metadata": {
    "tags": []
   },
   "source": [
    "## EDA"
   ]
  },
  {
   "cell_type": "code",
   "execution_count": 7,
   "id": "9b69af2c-5308-4efc-a6fe-94a817476f0f",
   "metadata": {
    "scrolled": true,
    "tags": []
   },
   "outputs": [
    {
     "name": "stdout",
     "output_type": "stream",
     "text": [
      "<class 'pandas.core.frame.DataFrame'>\n",
      "RangeIndex: 902910 entries, 0 to 902909\n",
      "Data columns (total 54 columns):\n",
      " #   Column                             Non-Null Count   Dtype         \n",
      "---  ------                             --------------   -----         \n",
      " 0   event_date                         902910 non-null  datetime64[ns]\n",
      " 1   event_date_min                     902910 non-null  datetime64[ns]\n",
      " 2   crops_start_date                   883493 non-null  datetime64[ns]\n",
      " 3   crops_end_date                     883493 non-null  datetime64[ns]\n",
      " 4   day_night                          902910 non-null  int64         \n",
      " 5   top_window_1                       902910 non-null  float64       \n",
      " 6   top_window_1_run_status            902910 non-null  int64         \n",
      " 7   top_window_1_auto_manual_mode      902910 non-null  int64         \n",
      " 8   top_window_2                       902910 non-null  float64       \n",
      " 9   top_window_2_run_status            902910 non-null  int64         \n",
      " 10  top_window_2_auto_manual_mode      902910 non-null  int64         \n",
      " 11  side_window_1                      902910 non-null  float64       \n",
      " 12  side_window_1_run_status           902910 non-null  int64         \n",
      " 13  side_window_1_auto_manual_mode     902910 non-null  int64         \n",
      " 14  side_window_2                      902910 non-null  float64       \n",
      " 15  side_window_2_run_status           902910 non-null  int64         \n",
      " 16  side_window_2_auto_manual_mode     902910 non-null  int64         \n",
      " 17  dc_power_1_run_status              902910 non-null  int64         \n",
      " 18  ac_power_1_run_status              902910 non-null  int64         \n",
      " 19  heat_cover_1                       902910 non-null  float64       \n",
      " 20  heat_cover_1_run_status            902910 non-null  int64         \n",
      " 21  heat_cover_1_auto_manual_mode      902910 non-null  int64         \n",
      " 22  heat_cover_2                       902910 non-null  float64       \n",
      " 23  heat_cover_2_run_status            902910 non-null  int64         \n",
      " 24  heat_cover_2_auto_manual_mode      902910 non-null  int64         \n",
      " 25  float_fan_1                        902910 non-null  int64         \n",
      " 26  float_fan_1_run_status             902910 non-null  int64         \n",
      " 27  float_fan_1_auto_manual_mode       902910 non-null  int64         \n",
      " 28  exhaust_fan_1                      902910 non-null  int64         \n",
      " 29  exhaust_fan_1_run_status           902910 non-null  int64         \n",
      " 30  exhaust_fan_1_auto_manual_mode     902910 non-null  int64         \n",
      " 31  sensor_inner_temperature1_1        891096 non-null  float64       \n",
      " 32  sensor_inner_hum1_1                891096 non-null  float64       \n",
      " 33  sensor_plantation_temperature_1_1  891095 non-null  float64       \n",
      " 34  sensor_plantation_hum_1_1          891095 non-null  float64       \n",
      " 35  sensor_inner_co2_1                 891090 non-null  float64       \n",
      " 36  sensor_inner_temperature1_2        892549 non-null  float64       \n",
      " 37  sensor_inner_hum1_2                891196 non-null  float64       \n",
      " 38  sensor_plantation_temperature_1_2  892549 non-null  float64       \n",
      " 39  sensor_plantation_hum_1_2          892549 non-null  float64       \n",
      " 40  sensor_inner_co2_2                 892549 non-null  float64       \n",
      " 41  sensor_rain_1                      892573 non-null  float64       \n",
      " 42  sensor_outer_light_1_total_m       902910 non-null  int64         \n",
      " 43  sensor_outer_light_1_total_h       902910 non-null  int64         \n",
      " 44  sensor_outer_light_1_total_d       902910 non-null  int64         \n",
      " 45  sensor_outer_light_1               892573 non-null  float64       \n",
      " 46  sensor_outer_hum_1                 892573 non-null  float64       \n",
      " 47  sensor_outer_temperature_1         892573 non-null  float64       \n",
      " 48  sensor_wind_speed_1                848979 non-null  float64       \n",
      " 49  sensor_wind_direction_1            892573 non-null  float64       \n",
      " 50  v_sensor_group_temp_1              891095 non-null  float64       \n",
      " 51  v_sensor_group_hum_1               891095 non-null  float64       \n",
      " 52  hour                               902910 non-null  int64         \n",
      " 53  month                              902910 non-null  int64         \n",
      "dtypes: datetime64[ns](4), float64(24), int64(26)\n",
      "memory usage: 372.0 MB\n"
     ]
    }
   ],
   "source": [
    "monitor_hist.info()"
   ]
  },
  {
   "cell_type": "code",
   "execution_count": 8,
   "id": "3e1b2781-29f5-4629-91e2-ff5ada7d8748",
   "metadata": {
    "tags": []
   },
   "outputs": [
    {
     "name": "stdout",
     "output_type": "stream",
     "text": [
      "0    486\n",
      "1     71\n",
      "Name: top_window_1_run_status, dtype: int64\n",
      "0    1577\n",
      "1    1181\n",
      "Name: top_window_1_run_status, dtype: int64\n"
     ]
    },
    {
     "name": "stderr",
     "output_type": "stream",
     "text": [
      "<ipython-input-8-d79fb9c6be46>:5: SettingWithCopyWarning: \n",
      "A value is trying to be set on a copy of a slice from a DataFrame.\n",
      "Try using .loc[row_indexer,col_indexer] = value instead\n",
      "\n",
      "See the caveats in the documentation: https://pandas.pydata.org/pandas-docs/stable/user_guide/indexing.html#returning-a-view-versus-a-copy\n",
      "  open_log['time'] = open_log['event_date'].apply(lambda x : x[:16] + ':00')\n",
      "<ipython-input-8-d79fb9c6be46>:8: SettingWithCopyWarning: \n",
      "A value is trying to be set on a copy of a slice from a DataFrame.\n",
      "Try using .loc[row_indexer,col_indexer] = value instead\n",
      "\n",
      "See the caveats in the documentation: https://pandas.pydata.org/pandas-docs/stable/user_guide/indexing.html#returning-a-view-versus-a-copy\n",
      "  close_log['time'] = close_log['event_date'].apply(lambda x : x[:16] + ':00')\n"
     ]
    }
   ],
   "source": [
    "## device log 데이터와 매핑되지 않으며 의미를 찾을 수 없음\n",
    "device_log = wr.s3.read_csv('s3://dd-ai-ml/raw_data/device_control_log_202304241041.csv')\n",
    "\n",
    "open_log = device_log[(device_log['duration'] != 0) & (device_log['device_id'] == 6345000000001)& (device_log['command'] == 'Open')]\n",
    "open_log['time'] = open_log['event_date'].apply(lambda x : x[:16] + ':00')\n",
    "\n",
    "close_log = device_log[(device_log['duration'] != 0) & (device_log['device_id'] == 6345000000001)& (device_log['command'] == 'Close')]\n",
    "close_log['time'] = close_log['event_date'].apply(lambda x : x[:16] + ':00')\n",
    "\n",
    "## close\n",
    "print(monitor_hist[monitor_hist['event_date_min'].isin(open_log['time'])]['top_window_1_run_status'].value_counts())\n",
    "\n",
    "## open\n",
    "print(monitor_hist[monitor_hist['event_date_min'].isin(close_log['time'])]['top_window_1_run_status'].value_counts())"
   ]
  },
  {
   "cell_type": "code",
   "execution_count": 9,
   "id": "f3badda0-159e-4d64-ba20-1c4a17022b42",
   "metadata": {
    "tags": []
   },
   "outputs": [
    {
     "data": {
      "image/png": "[encoded data removed]",
      "text/plain": [
       "<Figure size 1440x1440 with 2 Axes>"
      ]
     },
     "metadata": {
      "needs_background": "light"
     },
     "output_type": "display_data"
    }
   ],
   "source": [
    "plt.figure(figsize = (20,20))\n",
    "ax = sns.heatmap(monitor_hist.corr())\n",
    "# ax = sns.heatmap(monitor_hist.corr()[['top_window_1_run_status']], annot = True)\n",
    "plt.show() "
   ]
  },
  {
   "cell_type": "markdown",
   "id": "6da34278-a72a-4764-8ece-45bc5a687b6c",
   "metadata": {
    "tags": []
   },
   "source": [
    "### - day_night"
   ]
  },
  {
   "cell_type": "code",
   "execution_count": 10,
   "id": "01001c5b-1934-4815-8785-7ff7153c0a77",
   "metadata": {
    "tags": []
   },
   "outputs": [
    {
     "data": {
      "text/plain": [
       "1    472884\n",
       "2    430026\n",
       "Name: day_night, dtype: int64"
      ]
     },
     "execution_count": 10,
     "metadata": {},
     "output_type": "execute_result"
    }
   ],
   "source": [
    "monitor_hist['day_night'].value_counts()"
   ]
  },
  {
   "cell_type": "code",
   "execution_count": 11,
   "id": "c84cdda1-52fa-4de9-9dca-a510e1250c76",
   "metadata": {
    "scrolled": true,
    "tags": []
   },
   "outputs": [
    {
     "name": "stdout",
     "output_type": "stream",
     "text": [
      "** 1월 **\n",
      "day_night 낮(1) 시간대 : [ 7  8  9 10 11 12 13 14 15 16 17]\n",
      "day_night 밤(2) 시간대 : [ 0  1  2  3  4  5  6  7 17 18 19 20 21 22 23] \n",
      "\n",
      "** 2월 **\n",
      "day_night 낮(1) 시간대 : [ 7  8  9 10 11 12 13 14 15 16 17 18]\n",
      "day_night 밤(2) 시간대 : [ 0  1  2  3  4  5  6  7 18 19 20 21 22 23] \n",
      "\n",
      "** 3월 **\n",
      "day_night 낮(1) 시간대 : [ 7  8  9 10 11 12 13 14 15 16 17 18  6]\n",
      "day_night 밤(2) 시간대 : [ 0  1  2  3  4  5  6  7 18 19 20 21 22 23] \n",
      "\n",
      "** 4월 **\n",
      "day_night 낮(1) 시간대 : [ 6  7  8  9 10 11 12 13 14 15 16 17 18 19  5]\n",
      "day_night 밤(2) 시간대 : [ 0  1  2  3  4  5  6 18 19 20 21 22 23] \n",
      "\n",
      "** 5월 **\n",
      "day_night 낮(1) 시간대 : [ 5  6  7  8  9 10 11 12 13 14 15 16 17 18 19]\n",
      "day_night 밤(2) 시간대 : [ 0  1  2  3  4  5 19 20 21 22 23] \n",
      "\n",
      "** 6월 **\n",
      "day_night 낮(1) 시간대 : [ 5  6  7  8  9 10 11 12 13 14 15 16 17 18 19]\n",
      "day_night 밤(2) 시간대 : [ 0  1  2  3  4  5 19 20 21 22 23] \n",
      "\n",
      "** 7월 **\n",
      "day_night 낮(1) 시간대 : [ 5  6  7  8  9 10 11 12 13 14 15 16 17 18 19]\n",
      "day_night 밤(2) 시간대 : [ 0  1  2  3  4  5 19 20 21 22 23] \n",
      "\n",
      "** 8월 **\n",
      "day_night 낮(1) 시간대 : [ 5  6  7  8  9 10 11 12 13 14 15 16 17 18 19]\n",
      "day_night 밤(2) 시간대 : [ 0  1  2  3  4  5 19 20 21 22 23  6] \n",
      "\n",
      "** 9월 **\n",
      "day_night 낮(1) 시간대 : [ 6  7  8  9 10 11 12 13 14 15 16 17 18 19]\n",
      "day_night 밤(2) 시간대 : [ 0  1  2  3  4  5  6 19 20 21 22 23 18] \n",
      "\n",
      "** 10월 **\n",
      "day_night 낮(1) 시간대 : [ 6  7  8  9 10 11 12 13 14 15 16 17 18]\n",
      "day_night 밤(2) 시간대 : [ 0  1  2  3  4  5  6 18 19 20 21 22 23 17] \n",
      "\n",
      "** 11월 **\n",
      "day_night 낮(1) 시간대 : [ 6  7  8  9 10 11 12 13 14 15 16 17]\n",
      "day_night 밤(2) 시간대 : [ 6 17 18 19 20 21 22 23  0  1  2  3  4  5  7] \n",
      "\n",
      "** 12월 **\n",
      "day_night 낮(1) 시간대 : [ 7  8  9 10 11 12 13 14 15 16 17]\n",
      "day_night 밤(2) 시간대 : [ 0  1  2  3  4  5  6  7 17 18 19 20 21 22 23] \n",
      "\n"
     ]
    }
   ],
   "source": [
    "## 월별로 낮과 밤으로 넘어가는 시간이 앞뒤로 일부 겹침\n",
    "for month in range(1,13):\n",
    "    print(f\"** {month}월 **\")\n",
    "    temp_df = monitor_hist[monitor_hist['month'] == month].copy()\n",
    "    print(f\"day_night 낮(1) 시간대 : {temp_df[temp_df['day_night'] == 1]['hour'].unique()}\")\n",
    "    print(f\"day_night 밤(2) 시간대 : {temp_df[temp_df['day_night'] == 2]['hour'].unique()} \\n\")"
   ]
  },
  {
   "cell_type": "markdown",
   "id": "1814a731-abe9-43b3-abc2-af6d1fe2cacb",
   "metadata": {
    "tags": []
   },
   "source": [
    "### - window"
   ]
  },
  {
   "cell_type": "code",
   "execution_count": 68,
   "id": "a536e3b9-5b8a-4f71-a74d-1dbe49fe60c7",
   "metadata": {
    "tags": []
   },
   "outputs": [
    {
     "data": {
      "image/png": "[encoded data removed]",
      "text/plain": [
       "<Figure size 1440x360 with 1 Axes>"
      ]
     },
     "metadata": {
      "needs_background": "light"
     },
     "output_type": "display_data"
    }
   ],
   "source": [
    "plt.figure(figsize = (20,5))\n",
    "plt.plot(monitor_hist['top_window_1'][7920:7940])\n",
    "plt.show()"
   ]
  },
  {
   "cell_type": "code",
   "execution_count": 13,
   "id": "47ce88ed-fe83-4720-b371-a57b3fde6733",
   "metadata": {
    "tags": []
   },
   "outputs": [
    {
     "name": "stdout",
     "output_type": "stream",
     "text": [
      "\n",
      "** top_window_1 info **\n",
      "0.0 100.0\n",
      "101 [0.0, 16.0, 73.0, 100.0, 94.0, 82.0, 60.0, 39.0, 66.0, 51.0, 85.0, 25.0, 80.0, 63.0, 3.0, 48.0, 42.0, 57.0, 40.0, 71.0, 11.0, 53.0, 65.0, 5.0, 15.0, 81.0, 97.0, 37.0, 50.0, 18.0, 75.0, 4.0, 89.0, 61.0, 1.0, 74.0, 14.0, 84.0, 83.0, 23.0, 27.0, 79.0, 19.0, 13.0, 70.0, 21.0, 99.0, 24.0, 98.0, 6.0, 90.0, 32.0, 34.0, 78.0, 29.0, 31.0, 22.0, 10.0, 59.0, 47.0, 33.0, 8.0, 77.0, 17.0, 46.0, 30.0, 87.0, 95.0, 35.0, 92.0, 76.0, 86.0, 26.0, 68.0, 41.0, 96.0, 36.0, 91.0, 38.0, 44.0, 9.0, 93.0, 20.0, 52.0, 55.0, 49.0, 54.0, 62.0, 2.0, 69.0, 88.0, 28.0, 72.0, 45.0, 7.0, 43.0, 58.0, 64.0, 67.0, 56.0, 12.0]\n",
      "39.082918855364106 0.0 100.0\n",
      "19.480338398143367 0.0 100.0\n",
      "\n",
      "** top_window_2 info **\n",
      "0.0 100.0\n",
      "101 [0.0, 60.0, 40.0, 100.0, 83.0, 27.0, 16.0, 1.0, 65.0, 5.0, 36.0, 68.0, 42.0, 77.0, 17.0, 70.0, 10.0, 95.0, 35.0, 69.0, 9.0, 21.0, 56.0, 62.0, 80.0, 20.0, 44.0, 93.0, 33.0, 76.0, 72.0, 12.0, 88.0, 28.0, 26.0, 78.0, 41.0, 64.0, 4.0, 2.0, 18.0, 92.0, 31.0, 87.0, 63.0, 14.0, 43.0, 46.0, 75.0, 15.0, 98.0, 38.0, 13.0, 94.0, 34.0, 85.0, 25.0, 71.0, 86.0, 48.0, 49.0, 73.0, 82.0, 22.0, 54.0, 59.0, 11.0, 50.0, 47.0, 19.0, 61.0, 91.0, 66.0, 7.0, 39.0, 53.0, 55.0, 29.0, 90.0, 30.0, 6.0, 32.0, 3.0, 45.0, 96.0, 8.0, 57.0, 74.0, 58.0, 84.0, 67.0, 89.0, 24.0, 79.0, 99.0, 51.0, 97.0, 23.0, 81.0, 52.0, 37.0]\n",
      "37.636105260486715 0.0 100.0\n",
      "19.915942291861423 0.0 100.0\n",
      "\n",
      "** side_window_1 info **\n",
      "0.0 100.0\n",
      "99 [0.0, 1.0, 21.0, 41.0, 61.0, 81.0, 100.0, 98.0, 78.0, 58.0, 38.0, 18.0, 8.0, 28.0, 48.0, 68.0, 77.0, 3.0, 19.0, 33.0, 23.0, 24.0, 14.0, 4.0, 44.0, 64.0, 84.0, 89.0, 94.0, 90.0, 86.0, 66.0, 46.0, 26.0, 93.0, 88.0, 97.0, 39.0, 34.0, 54.0, 74.0, 12.0, 32.0, 52.0, 72.0, 92.0, 87.0, 67.0, 47.0, 27.0, 7.0, 9.0, 29.0, 49.0, 69.0, 20.0, 40.0, 60.0, 80.0, 11.0, 31.0, 51.0, 71.0, 91.0, 73.0, 53.0, 13.0, 2.0, 22.0, 42.0, 62.0, 82.0, 57.0, 59.0, 70.0, 95.0, 75.0, 56.0, 37.0, 17.0, 5.0, 6.0, 30.0, 50.0, 79.0, 83.0, 76.0, 96.0, 55.0, 15.0, 35.0, 10.0, 43.0, 99.0, 16.0, 36.0, 85.0, 25.0, 45.0]\n",
      "16.550532477309446 0.0 100.0\n",
      "11.911356522628864 0.0 100.0\n",
      "\n",
      "** side_window_2 info **\n",
      "0.0 100.0\n",
      "59 [0.0, 2.0, 12.0, 20.0, 8.0, 23.0, 38.0, 50.0, 53.0, 68.0, 83.0, 98.0, 100.0, 93.0, 86.0, 14.0, 29.0, 44.0, 59.0, 74.0, 89.0, 96.0, 79.0, 62.0, 27.0, 10.0, 97.0, 80.0, 63.0, 45.0, 28.0, 11.0, 3.0, 18.0, 33.0, 48.0, 78.0, 94.0, 77.0, 65.0, 49.0, 32.0, 15.0, 1.0, 16.0, 31.0, 46.0, 61.0, 76.0, 91.0, 9.0, 24.0, 39.0, 54.0, 69.0, 84.0, 5.0, 35.0, 95.0]\n",
      "3.7218070393584894 0.0 100.0\n",
      "3.571718919321157 0.0 100.0\n"
     ]
    }
   ],
   "source": [
    "window_list = ['top_window_1', 'top_window_2', 'side_window_1', 'side_window_2']\n",
    "\n",
    "for window in window_list:\n",
    "    print(f\"\\n** {window} info **\")\n",
    "    ## 0 ~ 100 사이의 값 보유\n",
    "    print(monitor_hist[window].min(), monitor_hist[window].max())\n",
    "    print(monitor_hist[window].nunique(), monitor_hist[window].unique().tolist())\n",
    "    \n",
    "    print(monitor_hist[monitor_hist['day_night'] == 1][window].mean(), monitor_hist[monitor_hist['day_night'] == 1][window].min(), monitor_hist[monitor_hist['day_night'] == 1][window].max())\n",
    "    print(monitor_hist[monitor_hist['day_night'] == 2][window].mean(), monitor_hist[monitor_hist['day_night'] == 2][window].min(), monitor_hist[monitor_hist['day_night'] == 2][window].max())"
   ]
  },
  {
   "cell_type": "markdown",
   "id": "d0d359d2-9701-4ba1-b2a0-b078ba5ad9ca",
   "metadata": {
    "tags": []
   },
   "source": [
    "### - auto_manual_mode"
   ]
  },
  {
   "cell_type": "code",
   "execution_count": 14,
   "id": "f5236de5-9420-4fef-abce-57e55440500c",
   "metadata": {
    "tags": []
   },
   "outputs": [
    {
     "name": "stdout",
     "output_type": "stream",
     "text": [
      "\n",
      "** top_window_1 auto manual mode **\n",
      "[1, 0]\n",
      "1    763470\n",
      "0    139440\n",
      "Name: top_window_1_auto_manual_mode, dtype: int64\n",
      "\n",
      "** top_window_2 auto manual mode **\n",
      "[1, 0]\n",
      "1    714767\n",
      "0    188143\n",
      "Name: top_window_2_auto_manual_mode, dtype: int64\n",
      "\n",
      "** side_window_1 auto manual mode **\n",
      "[1, 0]\n",
      "1    482964\n",
      "0    419946\n",
      "Name: side_window_1_auto_manual_mode, dtype: int64\n",
      "\n",
      "** side_window_2 auto manual mode **\n",
      "[1, 0]\n",
      "0    452529\n",
      "1    450381\n",
      "Name: side_window_2_auto_manual_mode, dtype: int64\n"
     ]
    }
   ],
   "source": [
    "for window in window_list:\n",
    "    print(f\"\\n** {window} auto manual mode **\")\n",
    "    print(monitor_hist[f'{window}_auto_manual_mode'].unique().tolist())\n",
    "    print(monitor_hist[f'{window}_auto_manual_mode'].value_counts())    "
   ]
  },
  {
   "cell_type": "markdown",
   "id": "766a8960-93a7-4cee-a7db-385e6ffc7556",
   "metadata": {
    "tags": []
   },
   "source": [
    "### - window_run_status"
   ]
  },
  {
   "cell_type": "code",
   "execution_count": 15,
   "id": "2ff23d9d-79f0-4d56-a4ef-1941d3b4e53d",
   "metadata": {
    "scrolled": true,
    "tags": []
   },
   "outputs": [
    {
     "name": "stdout",
     "output_type": "stream",
     "text": [
      "\n",
      "** top_window_1 run status **\n",
      "[0, 1, 2]\n",
      "0    888651\n",
      "2      7532\n",
      "1      6727\n",
      "Name: top_window_1_run_status, dtype: int64\n",
      "\n",
      "** top_window_2 run status **\n",
      "[0, 1, 2]\n",
      "0    888762\n",
      "2      7532\n",
      "1      6616\n",
      "Name: top_window_2_run_status, dtype: int64\n",
      "\n",
      "** side_window_1 run status **\n",
      "[0, 1, 2]\n",
      "0    894858\n",
      "2      7532\n",
      "1       520\n",
      "Name: side_window_1_run_status, dtype: int64\n",
      "\n",
      "** side_window_2 run status **\n",
      "[0, 1, 2]\n",
      "0    895304\n",
      "2      7532\n",
      "1        74\n",
      "Name: side_window_2_run_status, dtype: int64\n"
     ]
    }
   ],
   "source": [
    "for window in window_list:\n",
    "    print(f\"\\n** {window} run status **\")\n",
    "    print(monitor_hist[f'{window}_run_status'].unique().tolist())\n",
    "    print(monitor_hist[f'{window}_run_status'].value_counts())    "
   ]
  },
  {
   "cell_type": "code",
   "execution_count": 16,
   "id": "15da11e1-e45f-4073-b1b0-7cb6ba61f49e",
   "metadata": {
    "tags": []
   },
   "outputs": [
    {
     "data": {
      "text/plain": [
       "0.0      4142\n",
       "100.0    2577\n",
       "92.0      813\n",
       "Name: top_window_1, dtype: int64"
      ]
     },
     "execution_count": 16,
     "metadata": {},
     "output_type": "execute_result"
    }
   ],
   "source": [
    "## 고장 상태(2)이지만 창문이 완전히 열려있는 경우 존재\n",
    "monitor_hist[monitor_hist['top_window_1_run_status'] == 2]['top_window_1'].value_counts()"
   ]
  },
  {
   "cell_type": "code",
   "execution_count": 26,
   "id": "1537af13-a13c-43da-b15e-c2a7f948d952",
   "metadata": {
    "tags": []
   },
   "outputs": [
    {
     "data": {
      "text/plain": [
       "6727"
      ]
     },
     "execution_count": 26,
     "metadata": {},
     "output_type": "execute_result"
    }
   ],
   "source": [
    "## 동작 상태(1)이지만 창문이 완전히 닫혀있는 경우 존재 (6727건)\n",
    "monitor_hist[monitor_hist['top_window_1_run_status'] == 1]['top_window_1'].value_counts()"
   ]
  },
  {
   "cell_type": "code",
   "execution_count": 25,
   "id": "2eac80a6-908a-42aa-8f2d-5ab5885fd6c4",
   "metadata": {
    "tags": []
   },
   "outputs": [
    {
     "data": {
      "text/plain": [
       "888651"
      ]
     },
     "execution_count": 25,
     "metadata": {},
     "output_type": "execute_result"
    }
   ],
   "source": [
    "## 정지 상태(0)일 때 가장 많은 데이터값이 존재\n",
    "monitor_hist[monitor_hist['top_window_1_run_status'] == 0]['top_window_1'].value_counts().sum()"
   ]
  },
  {
   "cell_type": "code",
   "execution_count": 28,
   "id": "7d9ca926-e8f2-498b-9184-308c31fefbe1",
   "metadata": {
    "tags": []
   },
   "outputs": [
    {
     "data": {
      "text/plain": [
       "0    137667\n",
       "2      1755\n",
       "1        18\n",
       "Name: top_window_1_run_status, dtype: int64"
      ]
     },
     "execution_count": 28,
     "metadata": {},
     "output_type": "execute_result"
    }
   ],
   "source": [
    "## 수동/자동일때 모두 다양한 상태값 존재\n",
    "monitor_hist[monitor_hist['top_window_1_auto_manual_mode'] == 0]['top_window_1_run_status'].value_counts()"
   ]
  },
  {
   "cell_type": "code",
   "execution_count": 29,
   "id": "58e3bfdf-eeba-4bc1-a05e-712fa13dadc2",
   "metadata": {
    "tags": []
   },
   "outputs": [
    {
     "data": {
      "text/plain": [
       "0    750984\n",
       "1      6709\n",
       "2      5777\n",
       "Name: top_window_1_run_status, dtype: int64"
      ]
     },
     "execution_count": 29,
     "metadata": {},
     "output_type": "execute_result"
    }
   ],
   "source": [
    "monitor_hist[monitor_hist['top_window_1_auto_manual_mode'] == 1]['top_window_1_run_status'].value_counts()"
   ]
  },
  {
   "cell_type": "code",
   "execution_count": 19,
   "id": "d2c4cd7b-dc3c-4bc9-81f9-abf20b2533a3",
   "metadata": {
    "tags": []
   },
   "outputs": [],
   "source": [
    "temp = monitor_hist.copy()\n",
    "for col in [col for col in list(monitor_hist) if 'sensor' in col]:\n",
    "    # temp[f'temp_{col}_1'] = np.where((temp['top_window_1_run_status'] == 1) & (temp['top_window_1_auto_manual_mode']== 1), temp[col], np.NaN)\n",
    "    # temp[f'temp_{col}_2'] = np.where((temp['top_window_2_run_status'] == 1) & (temp['top_window_1_auto_manual_mode']== 1), temp[col], np.NaN)\n",
    "    # temp[f'temp_{col}_3'] = np.where((temp['side_window_1_run_status'] == 1) & (temp['side_window_1_auto_manual_mode']== 1), temp[col], np.NaN)\n",
    "    # temp[f'temp_{col}_4'] = np.where((temp['side_window_2_run_status'] == 1) & (temp['side_window_2_auto_manual_mode']== 1), temp[col], np.NaN)\n",
    "    \n",
    "    temp[f'temp_{col}_1'] = np.where(temp['top_window_1_run_status'] == 1, temp[col], np.NaN)\n",
    "    temp[f'temp_{col}_2'] = np.where(temp['top_window_2_run_status'] == 1, temp[col], np.NaN)\n",
    "    temp[f'temp_{col}_3'] = np.where(temp['side_window_1_run_status'] == 1, temp[col], np.NaN)\n",
    "    temp[f'temp_{col}_4'] = np.where(temp['side_window_2_run_status'] == 1, temp[col], np.NaN)"
   ]
  },
  {
   "cell_type": "code",
   "execution_count": 20,
   "id": "1bc2ebe6-ad7e-430e-808e-f0382dc03e09",
   "metadata": {
    "tags": []
   },
   "outputs": [
    {
     "data": {
      "image/png": "[encoded data removed]",
      "text/plain": [
       "<Figure size 2160x216 with 1 Axes>"
      ]
     },
     "metadata": {
      "needs_background": "light"
     },
     "output_type": "display_data"
    }
   ],
   "source": [
    "# temp = monitor_hist\n",
    "\n",
    "# temp['event_date_min'] = temp['event_date_min'].astype('str')\n",
    "# temp['date'] = temp['event_date_min'].str.split(' ', expand = True)[0]\n",
    "\n",
    "# temp[temp['top_window_1_run_status'] == 1].value_counts('date').reset_index().head(20)\n",
    "\n",
    "## runstatue = 1일 경우\n",
    "\n",
    "st_idx = 24*60*0\n",
    "ed_idx = 24*60*2\n",
    "\n",
    "for col in [col for col in list(monitor_hist) if 'sensor' in col][:1]:\n",
    "    plt.figure(figsize = (30,3))\n",
    "    plt.plot(temp['event_date_min'][st_idx:ed_idx], temp[col][st_idx:ed_idx])\n",
    "    plt.scatter(temp['event_date_min'][st_idx:ed_idx], temp[f'temp_{col}_1'][st_idx:ed_idx], c= 'red')\n",
    "    plt.scatter(temp['event_date_min'][st_idx:ed_idx], temp[f'temp_{col}_2'][st_idx:ed_idx], c= 'orange')\n",
    "    plt.scatter(temp['event_date_min'][st_idx:ed_idx], temp[f'temp_{col}_3'][st_idx:ed_idx], c= 'yellow')\n",
    "    plt.scatter(temp['event_date_min'][st_idx:ed_idx], temp[f'temp_{col}_4'][st_idx:ed_idx], c= 'green')\n",
    "\n",
    "    plt.title(col)\n",
    "    plt.show()"
   ]
  },
  {
   "cell_type": "markdown",
   "id": "706cc8a7-d4b9-4f83-b132-df98ca622bcb",
   "metadata": {},
   "source": [
    "## 추가 데이터 확인"
   ]
  },
  {
   "cell_type": "code",
   "execution_count": 30,
   "id": "a61d7031-78b1-4ce9-85eb-273b22960998",
   "metadata": {},
   "outputs": [
    {
     "data": {
      "text/plain": [
       "array(['actuator', 'sensor_outer', 'sensor_reusable', 'sensor_inner',\n",
       "       'v_device', 'nutrient'], dtype=object)"
      ]
     },
     "execution_count": 30,
     "metadata": {},
     "output_type": "execute_result"
    }
   ],
   "source": [
    "device_type['kind'].unique()"
   ]
  },
  {
   "cell_type": "code",
   "execution_count": 51,
   "id": "6c93cdd3-27ca-4591-ae18-b05d4632659e",
   "metadata": {
    "tags": []
   },
   "outputs": [
    {
     "data": {
      "text/html": [
       "<div>\n",
       "<style scoped>\n",
       "    .dataframe tbody tr th:only-of-type {\n",
       "        vertical-align: middle;\n",
       "    }\n",
       "\n",
       "    .dataframe tbody tr th {\n",
       "        vertical-align: top;\n",
       "    }\n",
       "\n",
       "    .dataframe thead th {\n",
       "        text-align: right;\n",
       "    }\n",
       "</style>\n",
       "<table border=\"1\" class=\"dataframe\">\n",
       "  <thead>\n",
       "    <tr style=\"text-align: right;\">\n",
       "      <th></th>\n",
       "      <th>id</th>\n",
       "      <th>name</th>\n",
       "      <th>description</th>\n",
       "      <th>last_update</th>\n",
       "      <th>device_type</th>\n",
       "      <th>device_type_name</th>\n",
       "      <th>device_type_group</th>\n",
       "      <th>kind</th>\n",
       "      <th>is_physical_device</th>\n",
       "      <th>manufacturer</th>\n",
       "      <th>...</th>\n",
       "      <th>accum_h</th>\n",
       "      <th>accum_d</th>\n",
       "      <th>value_mod</th>\n",
       "      <th>op_time</th>\n",
       "      <th>value_type</th>\n",
       "      <th>opmode_error</th>\n",
       "      <th>value_exchange</th>\n",
       "      <th>sensing_timeout</th>\n",
       "      <th>control_unit</th>\n",
       "      <th>graph_color</th>\n",
       "    </tr>\n",
       "  </thead>\n",
       "  <tbody>\n",
       "    <tr>\n",
       "      <th>61</th>\n",
       "      <td>10301</td>\n",
       "      <td>sensor_plantation_temperature_1</td>\n",
       "      <td>배지온도1</td>\n",
       "      <td>2014-11-13 00:00:00</td>\n",
       "      <td>sensor_plantation_temperature_1</td>\n",
       "      <td>배지온도1</td>\n",
       "      <td>sensor_plantation_temperature</td>\n",
       "      <td>sensor_inner</td>\n",
       "      <td>1.0</td>\n",
       "      <td>KT</td>\n",
       "      <td>...</td>\n",
       "      <td>0</td>\n",
       "      <td>0</td>\n",
       "      <td>NaN</td>\n",
       "      <td>0</td>\n",
       "      <td>0</td>\n",
       "      <td>0</td>\n",
       "      <td>0</td>\n",
       "      <td>300</td>\n",
       "      <td>Ratio</td>\n",
       "      <td>NaN</td>\n",
       "    </tr>\n",
       "    <tr>\n",
       "      <th>62</th>\n",
       "      <td>10401</td>\n",
       "      <td>sensor_plantation_hum_1</td>\n",
       "      <td>배지습도1</td>\n",
       "      <td>2020-12-01 17:08:08</td>\n",
       "      <td>sensor_plantation_hum_1</td>\n",
       "      <td>배지습도1</td>\n",
       "      <td>sensor_plantation_hum</td>\n",
       "      <td>sensor_inner</td>\n",
       "      <td>1.0</td>\n",
       "      <td>KT</td>\n",
       "      <td>...</td>\n",
       "      <td>0</td>\n",
       "      <td>0</td>\n",
       "      <td>NaN</td>\n",
       "      <td>0</td>\n",
       "      <td>0</td>\n",
       "      <td>0</td>\n",
       "      <td>0</td>\n",
       "      <td>300</td>\n",
       "      <td>Ratio</td>\n",
       "      <td>#1f78b4</td>\n",
       "    </tr>\n",
       "    <tr>\n",
       "      <th>63</th>\n",
       "      <td>10501</td>\n",
       "      <td>sensor_plantation_ec</td>\n",
       "      <td>배지ec</td>\n",
       "      <td>2020-12-01 17:08:08</td>\n",
       "      <td>sensor_plantation_ec</td>\n",
       "      <td>배지ec</td>\n",
       "      <td>sensor_plantation_ec</td>\n",
       "      <td>sensor_inner</td>\n",
       "      <td>1.0</td>\n",
       "      <td>KT</td>\n",
       "      <td>...</td>\n",
       "      <td>0</td>\n",
       "      <td>0</td>\n",
       "      <td>NaN</td>\n",
       "      <td>0</td>\n",
       "      <td>0</td>\n",
       "      <td>0</td>\n",
       "      <td>0</td>\n",
       "      <td>300</td>\n",
       "      <td>Ratio</td>\n",
       "      <td>#fc8d62</td>\n",
       "    </tr>\n",
       "    <tr>\n",
       "      <th>64</th>\n",
       "      <td>10601</td>\n",
       "      <td>sensor_plantation_ph</td>\n",
       "      <td>배지ph</td>\n",
       "      <td>2014-11-13 00:00:00</td>\n",
       "      <td>sensor_plantation_ph</td>\n",
       "      <td>배지ph</td>\n",
       "      <td>sensor_plantation_ph</td>\n",
       "      <td>sensor_inner</td>\n",
       "      <td>1.0</td>\n",
       "      <td>KT</td>\n",
       "      <td>...</td>\n",
       "      <td>0</td>\n",
       "      <td>0</td>\n",
       "      <td>NaN</td>\n",
       "      <td>0</td>\n",
       "      <td>0</td>\n",
       "      <td>0</td>\n",
       "      <td>0</td>\n",
       "      <td>300</td>\n",
       "      <td>Ratio</td>\n",
       "      <td>NaN</td>\n",
       "    </tr>\n",
       "  </tbody>\n",
       "</table>\n",
       "<p>4 rows × 38 columns</p>\n",
       "</div>"
      ],
      "text/plain": [
       "       id                             name description          last_update  \\\n",
       "61  10301  sensor_plantation_temperature_1       배지온도1  2014-11-13 00:00:00   \n",
       "62  10401          sensor_plantation_hum_1       배지습도1  2020-12-01 17:08:08   \n",
       "63  10501             sensor_plantation_ec        배지ec  2020-12-01 17:08:08   \n",
       "64  10601             sensor_plantation_ph        배지ph  2014-11-13 00:00:00   \n",
       "\n",
       "                        device_type device_type_name  \\\n",
       "61  sensor_plantation_temperature_1            배지온도1   \n",
       "62          sensor_plantation_hum_1            배지습도1   \n",
       "63             sensor_plantation_ec             배지ec   \n",
       "64             sensor_plantation_ph             배지ph   \n",
       "\n",
       "                device_type_group          kind  is_physical_device  \\\n",
       "61  sensor_plantation_temperature  sensor_inner                 1.0   \n",
       "62          sensor_plantation_hum  sensor_inner                 1.0   \n",
       "63           sensor_plantation_ec  sensor_inner                 1.0   \n",
       "64           sensor_plantation_ph  sensor_inner                 1.0   \n",
       "\n",
       "   manufacturer  ... accum_h accum_d value_mod  op_time  value_type  \\\n",
       "61           KT  ...       0       0       NaN        0           0   \n",
       "62           KT  ...       0       0       NaN        0           0   \n",
       "63           KT  ...       0       0       NaN        0           0   \n",
       "64           KT  ...       0       0       NaN        0           0   \n",
       "\n",
       "   opmode_error  value_exchange  sensing_timeout control_unit  graph_color  \n",
       "61            0               0              300        Ratio          NaN  \n",
       "62            0               0              300        Ratio      #1f78b4  \n",
       "63            0               0              300        Ratio      #fc8d62  \n",
       "64            0               0              300        Ratio          NaN  \n",
       "\n",
       "[4 rows x 38 columns]"
      ]
     },
     "execution_count": 51,
     "metadata": {},
     "output_type": "execute_result"
    }
   ],
   "source": [
    "device_type[device_type['name'].str.contains('plantation')]"
   ]
  },
  {
   "cell_type": "code",
   "execution_count": 47,
   "id": "feea18c9-45d8-4048-9011-c919f8bbbd53",
   "metadata": {},
   "outputs": [
    {
     "name": "stdout",
     "output_type": "stream",
     "text": [
      "id : [10001]\n",
      "name : ['sensor_inner_temperature1']\n",
      "description : ['온도1']\n",
      "last_update : ['2020-12-01 17:08:07']\n",
      "device_type : ['sensor_inner_temperature1']\n",
      "device_type_name : ['온도1']\n",
      "device_type_group : ['sensor_inner_temperature']\n",
      "kind : ['sensor_inner']\n",
      "is_physical_device : [1.]\n",
      "manufacturer : ['KT']\n",
      "model_name : ['1']\n",
      "model_spec : ['1']\n",
      "model_version : ['1']\n",
      "is_master : [0.]\n",
      "use_house_type : [19]\n",
      "default_address1 : ['temp1']\n",
      "default_address2 : [nan]\n",
      "default_address3 : [nan]\n",
      "dcac : ['DC']\n",
      "min_value : [-40.]\n",
      "max_value : [80.]\n",
      "description_i18n : ['__common.device_type.name.sensor_inner_temperature1']\n",
      "device_type_name_i18n : ['__common.device_type.name.sensor_inner_temperature1']\n",
      "unit : ['℃']\n",
      "round_number : [1.]\n",
      "topic_group : [nan]\n",
      "reset_point : [0.]\n",
      "accum_m : [0]\n",
      "accum_h : [0]\n",
      "accum_d : [0]\n",
      "value_mod : [nan]\n",
      "op_time : [0]\n",
      "value_type : [0]\n",
      "opmode_error : [0]\n",
      "value_exchange : [0]\n",
      "sensing_timeout : [300]\n",
      "control_unit : ['Ratio']\n",
      "graph_color : ['#e41a1c']\n"
     ]
    }
   ],
   "source": [
    "for col in list(device_type):\n",
    "    print(f\"{col} : {device_type[device_type['name'] == 'sensor_inner_temperature1'][col].values}\")"
   ]
  },
  {
   "cell_type": "code",
   "execution_count": 49,
   "id": "a679dccf-60f5-4d01-bbb5-3f7e56ee187d",
   "metadata": {
    "tags": []
   },
   "outputs": [
    {
     "data": {
      "text/plain": [
       "68.1"
      ]
     },
     "execution_count": 49,
     "metadata": {},
     "output_type": "execute_result"
    }
   ],
   "source": [
    "monitor_hist['sensor_inner_temperature1_1'].max()"
   ]
  },
  {
   "cell_type": "code",
   "execution_count": 48,
   "id": "5d8dcd91-8b8e-45c7-96a2-b6f4fbfbbc8b",
   "metadata": {
    "tags": []
   },
   "outputs": [
    {
     "data": {
      "text/plain": [
       "2.6"
      ]
     },
     "execution_count": 48,
     "metadata": {},
     "output_type": "execute_result"
    }
   ],
   "source": [
    "monitor_hist['sensor_inner_temperature1_1'].min()"
   ]
  },
  {
   "cell_type": "code",
   "execution_count": 23,
   "id": "548290af-6227-4787-aeb7-04962e2d2965",
   "metadata": {},
   "outputs": [
    {
     "data": {
      "text/plain": [
       "(144, 38)"
      ]
     },
     "execution_count": 23,
     "metadata": {},
     "output_type": "execute_result"
    }
   ],
   "source": [
    "device_type.shape"
   ]
  },
  {
   "cell_type": "code",
   "execution_count": null,
   "id": "e5fa10c1-1644-430e-8cba-d68f01259eea",
   "metadata": {},
   "outputs": [],
   "source": []
  },
  {
   "cell_type": "code",
   "execution_count": null,
   "id": "f5612eaa-19ef-4efb-82a2-820b8bcd5ae2",
   "metadata": {},
   "outputs": [],
   "source": []
  }
 ],
 "metadata": {
  "availableInstances": [
   {
    "_defaultOrder": 0,
    "_isFastLaunch": true,
    "category": "General purpose",
    "gpuNum": 0,
    "hideHardwareSpecs": false,
    "memoryGiB": 4,
    "name": "ml.t3.medium",
    "vcpuNum": 2
   },
   {
    "_defaultOrder": 1,
    "_isFastLaunch": false,
    "category": "General purpose",
    "gpuNum": 0,
    "hideHardwareSpecs": false,
    "memoryGiB": 8,
    "name": "ml.t3.large",
    "vcpuNum": 2
   },
   {
    "_defaultOrder": 2,
    "_isFastLaunch": false,
    "category": "General purpose",
    "gpuNum": 0,
    "hideHardwareSpecs": false,
    "memoryGiB": 16,
    "name": "ml.t3.xlarge",
    "vcpuNum": 4
   },
   {
    "_defaultOrder": 3,
    "_isFastLaunch": false,
    "category": "General purpose",
    "gpuNum": 0,
    "hideHardwareSpecs": false,
    "memoryGiB": 32,
    "name": "ml.t3.2xlarge",
    "vcpuNum": 8
   },
   {
    "_defaultOrder": 4,
    "_isFastLaunch": true,
    "category": "General purpose",
    "gpuNum": 0,
    "hideHardwareSpecs": false,
    "memoryGiB": 8,
    "name": "ml.m5.large",
    "vcpuNum": 2
   },
   {
    "_defaultOrder": 5,
    "_isFastLaunch": false,
    "category": "General purpose",
    "gpuNum": 0,
    "hideHardwareSpecs": false,
    "memoryGiB": 16,
    "name": "ml.m5.xlarge",
    "vcpuNum": 4
   },
   {
    "_defaultOrder": 6,
    "_isFastLaunch": false,
    "category": "General purpose",
    "gpuNum": 0,
    "hideHardwareSpecs": false,
    "memoryGiB": 32,
    "name": "ml.m5.2xlarge",
    "vcpuNum": 8
   },
   {
    "_defaultOrder": 7,
    "_isFastLaunch": false,
    "category": "General purpose",
    "gpuNum": 0,
    "hideHardwareSpecs": false,
    "memoryGiB": 64,
    "name": "ml.m5.4xlarge",
    "vcpuNum": 16
   },
   {
    "_defaultOrder": 8,
    "_isFastLaunch": false,
    "category": "General purpose",
    "gpuNum": 0,
    "hideHardwareSpecs": false,
    "memoryGiB": 128,
    "name": "ml.m5.8xlarge",
    "vcpuNum": 32
   },
   {
    "_defaultOrder": 9,
    "_isFastLaunch": false,
    "category": "General purpose",
    "gpuNum": 0,
    "hideHardwareSpecs": false,
    "memoryGiB": 192,
    "name": "ml.m5.12xlarge",
    "vcpuNum": 48
   },
   {
    "_defaultOrder": 10,
    "_isFastLaunch": false,
    "category": "General purpose",
    "gpuNum": 0,
    "hideHardwareSpecs": false,
    "memoryGiB": 256,
    "name": "ml.m5.16xlarge",
    "vcpuNum": 64
   },
   {
    "_defaultOrder": 11,
    "_isFastLaunch": false,
    "category": "General purpose",
    "gpuNum": 0,
    "hideHardwareSpecs": false,
    "memoryGiB": 384,
    "name": "ml.m5.24xlarge",
    "vcpuNum": 96
   },
   {
    "_defaultOrder": 12,
    "_isFastLaunch": false,
    "category": "General purpose",
    "gpuNum": 0,
    "hideHardwareSpecs": false,
    "memoryGiB": 8,
    "name": "ml.m5d.large",
    "vcpuNum": 2
   },
   {
    "_defaultOrder": 13,
    "_isFastLaunch": false,
    "category": "General purpose",
    "gpuNum": 0,
    "hideHardwareSpecs": false,
    "memoryGiB": 16,
    "name": "ml.m5d.xlarge",
    "vcpuNum": 4
   },
   {
    "_defaultOrder": 14,
    "_isFastLaunch": false,
    "category": "General purpose",
    "gpuNum": 0,
    "hideHardwareSpecs": false,
    "memoryGiB": 32,
    "name": "ml.m5d.2xlarge",
    "vcpuNum": 8
   },
   {
    "_defaultOrder": 15,
    "_isFastLaunch": false,
    "category": "General purpose",
    "gpuNum": 0,
    "hideHardwareSpecs": false,
    "memoryGiB": 64,
    "name": "ml.m5d.4xlarge",
    "vcpuNum": 16
   },
   {
    "_defaultOrder": 16,
    "_isFastLaunch": false,
    "category": "General purpose",
    "gpuNum": 0,
    "hideHardwareSpecs": false,
    "memoryGiB": 128,
    "name": "ml.m5d.8xlarge",
    "vcpuNum": 32
   },
   {
    "_defaultOrder": 17,
    "_isFastLaunch": false,
    "category": "General purpose",
    "gpuNum": 0,
    "hideHardwareSpecs": false,
    "memoryGiB": 192,
    "name": "ml.m5d.12xlarge",
    "vcpuNum": 48
   },
   {
    "_defaultOrder": 18,
    "_isFastLaunch": false,
    "category": "General purpose",
    "gpuNum": 0,
    "hideHardwareSpecs": false,
    "memoryGiB": 256,
    "name": "ml.m5d.16xlarge",
    "vcpuNum": 64
   },
   {
    "_defaultOrder": 19,
    "_isFastLaunch": false,
    "category": "General purpose",
    "gpuNum": 0,
    "hideHardwareSpecs": false,
    "memoryGiB": 384,
    "name": "ml.m5d.24xlarge",
    "vcpuNum": 96
   },
   {
    "_defaultOrder": 20,
    "_isFastLaunch": false,
    "category": "General purpose",
    "gpuNum": 0,
    "hideHardwareSpecs": true,
    "memoryGiB": 0,
    "name": "ml.geospatial.interactive",
    "supportedImageNames": [
     "sagemaker-geospatial-v1-0"
    ],
    "vcpuNum": 0
   },
   {
    "_defaultOrder": 21,
    "_isFastLaunch": true,
    "category": "Compute optimized",
    "gpuNum": 0,
    "hideHardwareSpecs": false,
    "memoryGiB": 4,
    "name": "ml.c5.large",
    "vcpuNum": 2
   },
   {
    "_defaultOrder": 22,
    "_isFastLaunch": false,
    "category": "Compute optimized",
    "gpuNum": 0,
    "hideHardwareSpecs": false,
    "memoryGiB": 8,
    "name": "ml.c5.xlarge",
    "vcpuNum": 4
   },
   {
    "_defaultOrder": 23,
    "_isFastLaunch": false,
    "category": "Compute optimized",
    "gpuNum": 0,
    "hideHardwareSpecs": false,
    "memoryGiB": 16,
    "name": "ml.c5.2xlarge",
    "vcpuNum": 8
   },
   {
    "_defaultOrder": 24,
    "_isFastLaunch": false,
    "category": "Compute optimized",
    "gpuNum": 0,
    "hideHardwareSpecs": false,
    "memoryGiB": 32,
    "name": "ml.c5.4xlarge",
    "vcpuNum": 16
   },
   {
    "_defaultOrder": 25,
    "_isFastLaunch": false,
    "category": "Compute optimized",
    "gpuNum": 0,
    "hideHardwareSpecs": false,
    "memoryGiB": 72,
    "name": "ml.c5.9xlarge",
    "vcpuNum": 36
   },
   {
    "_defaultOrder": 26,
    "_isFastLaunch": false,
    "category": "Compute optimized",
    "gpuNum": 0,
    "hideHardwareSpecs": false,
    "memoryGiB": 96,
    "name": "ml.c5.12xlarge",
    "vcpuNum": 48
   },
   {
    "_defaultOrder": 27,
    "_isFastLaunch": false,
    "category": "Compute optimized",
    "gpuNum": 0,
    "hideHardwareSpecs": false,
    "memoryGiB": 144,
    "name": "ml.c5.18xlarge",
    "vcpuNum": 72
   },
   {
    "_defaultOrder": 28,
    "_isFastLaunch": false,
    "category": "Compute optimized",
    "gpuNum": 0,
    "hideHardwareSpecs": false,
    "memoryGiB": 192,
    "name": "ml.c5.24xlarge",
    "vcpuNum": 96
   },
   {
    "_defaultOrder": 29,
    "_isFastLaunch": true,
    "category": "Accelerated computing",
    "gpuNum": 1,
    "hideHardwareSpecs": false,
    "memoryGiB": 16,
    "name": "ml.g4dn.xlarge",
    "vcpuNum": 4
   },
   {
    "_defaultOrder": 30,
    "_isFastLaunch": false,
    "category": "Accelerated computing",
    "gpuNum": 1,
    "hideHardwareSpecs": false,
    "memoryGiB": 32,
    "name": "ml.g4dn.2xlarge",
    "vcpuNum": 8
   },
   {
    "_defaultOrder": 31,
    "_isFastLaunch": false,
    "category": "Accelerated computing",
    "gpuNum": 1,
    "hideHardwareSpecs": false,
    "memoryGiB": 64,
    "name": "ml.g4dn.4xlarge",
    "vcpuNum": 16
   },
   {
    "_defaultOrder": 32,
    "_isFastLaunch": false,
    "category": "Accelerated computing",
    "gpuNum": 1,
    "hideHardwareSpecs": false,
    "memoryGiB": 128,
    "name": "ml.g4dn.8xlarge",
    "vcpuNum": 32
   },
   {
    "_defaultOrder": 33,
    "_isFastLaunch": false,
    "category": "Accelerated computing",
    "gpuNum": 4,
    "hideHardwareSpecs": false,
    "memoryGiB": 192,
    "name": "ml.g4dn.12xlarge",
    "vcpuNum": 48
   },
   {
    "_defaultOrder": 34,
    "_isFastLaunch": false,
    "category": "Accelerated computing",
    "gpuNum": 1,
    "hideHardwareSpecs": false,
    "memoryGiB": 256,
    "name": "ml.g4dn.16xlarge",
    "vcpuNum": 64
   },
   {
    "_defaultOrder": 35,
    "_isFastLaunch": false,
    "category": "Accelerated computing",
    "gpuNum": 1,
    "hideHardwareSpecs": false,
    "memoryGiB": 61,
    "name": "ml.p3.2xlarge",
    "vcpuNum": 8
   },
   {
    "_defaultOrder": 36,
    "_isFastLaunch": false,
    "category": "Accelerated computing",
    "gpuNum": 4,
    "hideHardwareSpecs": false,
    "memoryGiB": 244,
    "name": "ml.p3.8xlarge",
    "vcpuNum": 32
   },
   {
    "_defaultOrder": 37,
    "_isFastLaunch": false,
    "category": "Accelerated computing",
    "gpuNum": 8,
    "hideHardwareSpecs": false,
    "memoryGiB": 488,
    "name": "ml.p3.16xlarge",
    "vcpuNum": 64
   },
   {
    "_defaultOrder": 38,
    "_isFastLaunch": false,
    "category": "Accelerated computing",
    "gpuNum": 8,
    "hideHardwareSpecs": false,
    "memoryGiB": 768,
    "name": "ml.p3dn.24xlarge",
    "vcpuNum": 96
   },
   {
    "_defaultOrder": 39,
    "_isFastLaunch": false,
    "category": "Memory Optimized",
    "gpuNum": 0,
    "hideHardwareSpecs": false,
    "memoryGiB": 16,
    "name": "ml.r5.large",
    "vcpuNum": 2
   },
   {
    "_defaultOrder": 40,
    "_isFastLaunch": false,
    "category": "Memory Optimized",
    "gpuNum": 0,
    "hideHardwareSpecs": false,
    "memoryGiB": 32,
    "name": "ml.r5.xlarge",
    "vcpuNum": 4
   },
   {
    "_defaultOrder": 41,
    "_isFastLaunch": false,
    "category": "Memory Optimized",
    "gpuNum": 0,
    "hideHardwareSpecs": false,
    "memoryGiB": 64,
    "name": "ml.r5.2xlarge",
    "vcpuNum": 8
   },
   {
    "_defaultOrder": 42,
    "_isFastLaunch": false,
    "category": "Memory Optimized",
    "gpuNum": 0,
    "hideHardwareSpecs": false,
    "memoryGiB": 128,
    "name": "ml.r5.4xlarge",
    "vcpuNum": 16
   },
   {
    "_defaultOrder": 43,
    "_isFastLaunch": false,
    "category": "Memory Optimized",
    "gpuNum": 0,
    "hideHardwareSpecs": false,
    "memoryGiB": 256,
    "name": "ml.r5.8xlarge",
    "vcpuNum": 32
   },
   {
    "_defaultOrder": 44,
    "_isFastLaunch": false,
    "category": "Memory Optimized",
    "gpuNum": 0,
    "hideHardwareSpecs": false,
    "memoryGiB": 384,
    "name": "ml.r5.12xlarge",
    "vcpuNum": 48
   },
   {
    "_defaultOrder": 45,
    "_isFastLaunch": false,
    "category": "Memory Optimized",
    "gpuNum": 0,
    "hideHardwareSpecs": false,
    "memoryGiB": 512,
    "name": "ml.r5.16xlarge",
    "vcpuNum": 64
   },
   {
    "_defaultOrder": 46,
    "_isFastLaunch": false,
    "category": "Memory Optimized",
    "gpuNum": 0,
    "hideHardwareSpecs": false,
    "memoryGiB": 768,
    "name": "ml.r5.24xlarge",
    "vcpuNum": 96
   },
   {
    "_defaultOrder": 47,
    "_isFastLaunch": false,
    "category": "Accelerated computing",
    "gpuNum": 1,
    "hideHardwareSpecs": false,
    "memoryGiB": 16,
    "name": "ml.g5.xlarge",
    "vcpuNum": 4
   },
   {
    "_defaultOrder": 48,
    "_isFastLaunch": false,
    "category": "Accelerated computing",
    "gpuNum": 1,
    "hideHardwareSpecs": false,
    "memoryGiB": 32,
    "name": "ml.g5.2xlarge",
    "vcpuNum": 8
   },
   {
    "_defaultOrder": 49,
    "_isFastLaunch": false,
    "category": "Accelerated computing",
    "gpuNum": 1,
    "hideHardwareSpecs": false,
    "memoryGiB": 64,
    "name": "ml.g5.4xlarge",
    "vcpuNum": 16
   },
   {
    "_defaultOrder": 50,
    "_isFastLaunch": false,
    "category": "Accelerated computing",
    "gpuNum": 1,
    "hideHardwareSpecs": false,
    "memoryGiB": 128,
    "name": "ml.g5.8xlarge",
    "vcpuNum": 32
   },
   {
    "_defaultOrder": 51,
    "_isFastLaunch": false,
    "category": "Accelerated computing",
    "gpuNum": 1,
    "hideHardwareSpecs": false,
    "memoryGiB": 256,
    "name": "ml.g5.16xlarge",
    "vcpuNum": 64
   },
   {
    "_defaultOrder": 52,
    "_isFastLaunch": false,
    "category": "Accelerated computing",
    "gpuNum": 4,
    "hideHardwareSpecs": false,
    "memoryGiB": 192,
    "name": "ml.g5.12xlarge",
    "vcpuNum": 48
   },
   {
    "_defaultOrder": 53,
    "_isFastLaunch": false,
    "category": "Accelerated computing",
    "gpuNum": 4,
    "hideHardwareSpecs": false,
    "memoryGiB": 384,
    "name": "ml.g5.24xlarge",
    "vcpuNum": 96
   },
   {
    "_defaultOrder": 54,
    "_isFastLaunch": false,
    "category": "Accelerated computing",
    "gpuNum": 8,
    "hideHardwareSpecs": false,
    "memoryGiB": 768,
    "name": "ml.g5.48xlarge",
    "vcpuNum": 192
   }
  ],
  "instance_type": "ml.t3.medium",
  "kernelspec": {
   "display_name": "Python 3 (TensorFlow 2.6 Python 3.8 GPU Optimized)",
   "language": "python",
   "name": "python3__SAGEMAKER_INTERNAL__arn:aws:sagemaker:ap-northeast-2:806072073708:image/tensorflow-2.6-gpu-py38-cu112-ubuntu20.04-v1"
  },
  "language_info": {
   "codemirror_mode": {
    "name": "ipython",
    "version": 3
   },
   "file_extension": ".py",
   "mimetype": "text/x-python",
   "name": "python",
   "nbconvert_exporter": "python",
   "pygments_lexer": "ipython3",
   "version": "3.8.2"
  }
 },
 "nbformat": 4,
 "nbformat_minor": 5
}
