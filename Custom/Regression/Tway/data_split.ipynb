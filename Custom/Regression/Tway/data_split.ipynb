{
 "cells": [
  {
   "cell_type": "code",
   "execution_count": 3,
   "id": "e09b90d8-5cfa-4dea-a5d6-5ce70e904e41",
   "metadata": {
    "tags": []
   },
   "outputs": [],
   "source": [
    "import boto3\n",
    "import pandas as pd\n",
    "\n",
    "bucket = 'poc-2209-twayairport-dp'\n",
    "\n",
    "s3 = boto3.client('s3')\n",
    "obj_list = s3.list_objects(Bucket = bucket, Prefix = 'data/original')\n",
    "obj_list = [i['Key'] for i in obj_list['Contents'] if '.csv' in i['Key']]"
   ]
  },
  {
   "cell_type": "code",
   "execution_count": 4,
   "id": "04722b35-387c-4c85-b6d1-0c468334bb4f",
   "metadata": {
    "tags": []
   },
   "outputs": [],
   "source": [
    "booking_list = [i for i in obj_list if '예약' in i]\n",
    "coupon_list = [i for i in obj_list if '쿠폰' in i]\n",
    "flight_list = [i for i in obj_list if '비행편정보' in i]"
   ]
  },
  {
   "cell_type": "code",
   "execution_count": 143,
   "id": "b69a3f0d-18b7-45b5-b6f0-d0fa336c9ee0",
   "metadata": {
    "scrolled": true,
    "tags": []
   },
   "outputs": [
    {
     "name": "stdout",
     "output_type": "stream",
     "text": [
      "data/original/예약_20170608.csv\n",
      " \n",
      "data/original/예약_20180608.csv\n",
      " \n",
      "data/original/예약_20220220_20220226.csv\n",
      " \n",
      "data/original/예약_20220821_20220827.csv\n",
      " \n",
      "data/original/예약_20220822.csv\n",
      " \n",
      "saved data : train_data/booking/raw_csv/2016/12/booking.csv\n",
      "saved data : train_data/booking/raw_csv/2016/11/booking.csv\n",
      "saved data : train_data/booking/raw_csv/2017/02/booking.csv\n",
      "saved data : train_data/booking/raw_csv/2017/03/booking.csv\n",
      "saved data : train_data/booking/raw_csv/2017/01/booking.csv\n",
      "saved data : train_data/booking/raw_csv/2017/04/booking.csv\n",
      "saved data : train_data/booking/raw_csv/2017/06/booking.csv\n",
      "saved data : train_data/booking/raw_csv/2017/05/booking.csv\n",
      "saved data : train_data/booking/raw_csv/2017/07/booking.csv\n",
      "saved data : train_data/booking/raw_csv/2017/08/booking.csv\n",
      "saved data : train_data/booking/raw_csv/2017/09/booking.csv\n",
      "saved data : train_data/booking/raw_csv/2017/11/booking.csv\n",
      "saved data : train_data/booking/raw_csv/2017/12/booking.csv\n",
      "saved data : train_data/booking/raw_csv/2018/01/booking.csv\n",
      "saved data : train_data/booking/raw_csv/2018/02/booking.csv\n",
      "saved data : train_data/booking/raw_csv/2018/03/booking.csv\n",
      "saved data : train_data/booking/raw_csv/2018/04/booking.csv\n",
      "saved data : train_data/booking/raw_csv/2018/05/booking.csv\n",
      "saved data : train_data/booking/raw_csv/2018/06/booking.csv\n",
      "saved data : train_data/booking/raw_csv/2018/07/booking.csv\n",
      "saved data : train_data/booking/raw_csv/2018/08/booking.csv\n",
      "saved data : train_data/booking/raw_csv/2018/09/booking.csv\n",
      "saved data : train_data/booking/raw_csv/2022/01/booking.csv\n",
      "saved data : train_data/booking/raw_csv/2022/02/booking.csv\n",
      "saved data : train_data/booking/raw_csv/2022/03/booking.csv\n",
      "saved data : train_data/booking/raw_csv/2022/04/booking.csv\n",
      "saved data : train_data/booking/raw_csv/2022/05/booking.csv\n",
      "saved data : train_data/booking/raw_csv/2022/06/booking.csv\n",
      "saved data : train_data/booking/raw_csv/2022/07/booking.csv\n",
      "saved data : train_data/booking/raw_csv/2022/08/booking.csv\n",
      "saved data : train_data/booking/raw_csv/2021/08/booking.csv\n",
      "saved data : train_data/booking/raw_csv/2021/09/booking.csv\n",
      "saved data : train_data/booking/raw_csv/2021/10/booking.csv\n",
      "saved data : train_data/booking/raw_csv/2021/11/booking.csv\n",
      "saved data : train_data/booking/raw_csv/2021/12/booking.csv\n"
     ]
    }
   ],
   "source": [
    "data_list = ['booking']\n",
    "for data_name in data_list:\n",
    "    df = pd.DataFrame()\n",
    "    for path in globals()[f'{data_name}_list']:        \n",
    "        print(path)\n",
    "        print(\" \")                       \n",
    "        df = pd.concat([df, pd.read_csv(f's3://{bucket}/{path}')])\n",
    "    if data_name == 'booking':\n",
    "        df['year'] = df['capture_date'].str.split('-', expand = True)[0]\n",
    "        df['month'] = df['capture_date'].str.split('-', expand = True)[1]        \n",
    "    elif data_name == 'coupon':\n",
    "        df['issuedate'] = df['issuedate'].astype('str')\n",
    "        df['issuedate'] = df['issuedate'].str.replace('-','')\n",
    "        df['year'] = df['issuedate'].str.slice(start=0, stop=4)\n",
    "        df['month'] = df['issuedate'].str.slice(start=4, stop=6)\n",
    "    elif data_name == 'flight':\n",
    "        df['year'] = df['flight_departure_date'].str.split('-', expand = True)[0]\n",
    "        df['month'] = df['flight_departure_date'].str.split('-', expand = True)[1]    \n",
    "        df['day'] = df['flight_departure_date'].str.split('-', expand = True)[2]    \n",
    "        \n",
    "    df.drop_duplicates(inplace = True)\n",
    "    \n",
    "    for year in df['year'].unique():        \n",
    "        temp_year = df[df['year'] == year].copy()\n",
    "        for month in temp_year['month'].unique():            \n",
    "            temp_month = temp_year[(temp_year['year'] == year)&(temp_year['month'] == month)].copy()\n",
    "            if 'day' in list(df):\n",
    "                for day in temp_month['day'].unique():\n",
    "                    temp_day = temp_month[temp_month['day'] == day]                    \n",
    "                    temp_day.drop(['year','month','day'], axis = 1,inplace = True)\n",
    "                    temp_day.to_csv(f's3://poc-2209-twayairport-dp/train_data/{data_name}/raw_csv/{year}/{month}/{day}/{data_name}.csv', index=False)\n",
    "                    print(f'saved data : train_data/{data_name}/raw_csv/{year}/{month}/{day}/{data_name}.csv')                    \n",
    "            else:\n",
    "                temp_month.drop(['year','month'], axis = 1,inplace = True)\n",
    "                temp_month.to_csv(f's3://poc-2209-twayairport-dp/train_data/{data_name}/raw_csv/{year}/{month}/{data_name}.csv', index=False)\n",
    "                print(f'saved data : train_data/{data_name}/raw_csv/{year}/{month}/{data_name}.csv')"
   ]
  },
  {
   "cell_type": "code",
   "execution_count": null,
   "id": "001223fd-9246-41e7-921f-21ea878dcb16",
   "metadata": {},
   "outputs": [],
   "source": []
  },
  {
   "cell_type": "code",
   "execution_count": null,
   "id": "f6016967-e29b-4a41-82a6-24f3740eb59c",
   "metadata": {},
   "outputs": [],
   "source": []
  },
  {
   "cell_type": "code",
   "execution_count": null,
   "id": "d9e19325-88a4-4998-b4bc-618e241870fa",
   "metadata": {},
   "outputs": [],
   "source": []
  },
  {
   "cell_type": "code",
   "execution_count": null,
   "id": "6adb145e-875b-43f0-bd47-1ecdea290460",
   "metadata": {},
   "outputs": [],
   "source": []
  },
  {
   "cell_type": "code",
   "execution_count": null,
   "id": "11af144e-d220-4e5e-8589-3f05c30b8099",
   "metadata": {},
   "outputs": [],
   "source": []
  }
 ],
 "metadata": {
  "instance_type": "ml.t3.2xlarge",
  "kernelspec": {
   "display_name": "Python 3 (Data Science)",
   "language": "python",
   "name": "python3__SAGEMAKER_INTERNAL__arn:aws:sagemaker:ap-northeast-2:806072073708:image/datascience-1.0"
  },
  "language_info": {
   "codemirror_mode": {
    "name": "ipython",
    "version": 3
   },
   "file_extension": ".py",
   "mimetype": "text/x-python",
   "name": "python",
   "nbconvert_exporter": "python",
   "pygments_lexer": "ipython3",
   "version": "3.7.10"
  }
 },
 "nbformat": 4,
 "nbformat_minor": 5
}
