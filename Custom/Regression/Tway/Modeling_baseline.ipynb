{
 "cells": [
  {
   "cell_type": "markdown",
   "id": "a2526e08-649c-4c62-810d-8c7ee5c76669",
   "metadata": {},
   "source": [
    "# Modeling Performence Check - baseline model (RandomForestRegression)"
   ]
  },
  {
   "cell_type": "markdown",
   "id": "4d35ddf1-1967-474a-b7db-ee6873a79b11",
   "metadata": {
    "tags": []
   },
   "source": [
    "## 1) Data Load\n"
   ]
  },
  {
   "cell_type": "code",
   "execution_count": 93,
   "id": "0c0f396a-48f5-4ce8-ae75-83725e9bc018",
   "metadata": {},
   "outputs": [],
   "source": [
    "from sklearn.preprocessing import MinMaxScaler, RobustScaler, Normalizer, StandardScaler ## minmax(0,1), 이상치 고려, (평균0, 분산1)\n",
    "from sklearn.feature_selection import VarianceThreshold,RFECV\n",
    "from sklearn.metrics import mean_squared_error, r2_score\n",
    "from sklearn.ensemble import RandomForestRegressor\n",
    "from sklearn.decomposition import PCA\n",
    "from sklearn.cluster import KMeans\n",
    "from sklearn.linear_model import Lasso\n",
    "\n",
    "import plotly.express as px\n",
    "import matplotlib.pyplot as plt\n",
    "import pandas as pd\n",
    "import numpy as np\n",
    "\n",
    "import pickle\n",
    "import sagemaker\n",
    "\n",
    "sagemaker_session = sagemaker.Session()\n",
    "role = sagemaker.get_execution_role()\n",
    "\n",
    "pd.set_option('display.max_rows', 500)\n",
    "pd.set_option('display.max_columns', 500)\n",
    "pd.set_option('display.width', 1000)"
   ]
  },
  {
   "cell_type": "code",
   "execution_count": 94,
   "id": "74584003-7bce-4a58-be97-7e3ef6b44a27",
   "metadata": {},
   "outputs": [
    {
     "name": "stdout",
     "output_type": "stream",
     "text": [
      "Data booking_df Read Done -----------\n",
      "Data coupon_df Read Done -----------\n",
      "Data flight_df Read Done -----------\n",
      "Data discount_ratio Read Done -----------\n",
      "Data peak_low_season Read Done -----------\n",
      "Data fare_by_class Read Done -----------\n",
      "Data total_df Read Done -----------\n"
     ]
    }
   ],
   "source": [
    "data_list = ['booking_df', 'coupon_df', 'flight_df', 'discount_ratio', 'peak_low_season', 'fare_by_class','total_df']\n",
    "for i in data_list:\n",
    "    print(f\"Data {i} Read Done -----------\")\n",
    "    globals()[i] = pd.read_parquet(f'/root/data/{i}.parquet')"
   ]
  },
  {
   "cell_type": "markdown",
   "id": "5673ba8b-4864-4b3c-885e-80477eb60572",
   "metadata": {},
   "source": [
    "## 2) Feature Selection"
   ]
  },
  {
   "cell_type": "markdown",
   "id": "250357d7-2b27-49e3-a5cc-527152d39c69",
   "metadata": {},
   "source": [
    "### - 기본 Feature 선정 및 형태 변환"
   ]
  },
  {
   "cell_type": "code",
   "execution_count": 95,
   "id": "1fef42bd-0b6e-4a24-85de-48a2c641f1da",
   "metadata": {},
   "outputs": [
    {
     "data": {
      "text/plain": [
       "(706628, 68)"
      ]
     },
     "execution_count": 95,
     "metadata": {},
     "output_type": "execute_result"
    }
   ],
   "source": [
    "sel_basic_feature = [\n",
    "    # 'total_sold_seats', 'before_tss', 'before_ss', 'sold_seats', 'available_seats', 'remain_seats', 'remain_days', ## 판매/잔여 좌석 및 날짜\n",
    "    'before_ss', 'sold_seats', 'available_seats', 'remain_seats', 'remain_days', ## 판매/잔여 좌석 및 날짜    \n",
    "    'departure_hour', 'departure_minute', 'departure_time_format_min', ## 출발 시간 관련 포맷별 데이터\n",
    "    'CJU', 'GMP', ## 출발 위치\n",
    "    'peak', 'weekday', 'weekend', 'premium', ## 성수기, 평일, 주말, 주말할증\n",
    "    'departureweekday_0', 'departureweekday_1', 'departureweekday_2', 'departureweekday_3', 'departureweekday_4', 'departureweekday_5', 'departureweekday_6', ## 출발 요일\n",
    "    'issueweekday_0', 'issueweekday_1', 'issueweekday_2', 'issueweekday_3', 'issueweekday_4', 'issueweekday_5', 'issueweekday_6', ## 구매 요일\n",
    "    'month_6', 'month_7', 'month_8', ## 출발 월\n",
    "    'year_2017', 'year_2018', ## 출발 년도\n",
    "    # 'month_2', 'month_6', 'month_7', 'month_8', ## 출발 월\n",
    "    # 'year_2017', 'year_2018', 'year_2022', ## 출발 년도\n",
    "]\n",
    "      \n",
    "target = ['fix_fare']\n",
    "\n",
    "for i in sel_basic_feature:    \n",
    "    total_df[i] = total_df[i].astype('float32')\n",
    "    \n",
    "model_df = total_df[total_df['year'].isin([2017,2018])].copy()\n",
    "model_df.shape"
   ]
  },
  {
   "cell_type": "markdown",
   "id": "d4ede3cf-7e50-45bb-823e-08ea2a68a840",
   "metadata": {},
   "source": [
    "### - Feature Selection 결과"
   ]
  },
  {
   "cell_type": "code",
   "execution_count": 96,
   "id": "9edeb5bb-84df-4ced-a961-9d145a5160d4",
   "metadata": {},
   "outputs": [],
   "source": [
    "sel_basic_feature = ['before_ss', 'sold_seats', 'available_seats', 'remain_seats',  'remain_days', 'total_sold_seats','cabin_authorised_cap', \n",
    "                     'departure_hour', 'departure_minute', 'departure_time_format_min',    \n",
    "                     'CJU', 'GMP',    \n",
    "                     'peak', 'weekday', 'weekend', 'premium',\n",
    "                     'departureweekday_0', 'departureweekday_1', 'departureweekday_2', 'departureweekday_3', 'departureweekday_4', 'departureweekday_5', 'departureweekday_6',\n",
    "                     'issueweekday_0', 'issueweekday_1', 'issueweekday_2', 'issueweekday_3', 'issueweekday_4', 'issueweekday_5', 'issueweekday_6',\n",
    "                     'month_2', 'month_6', 'month_7', 'month_8',\n",
    "                     'year_2017', 'year_2018', 'year_2022']\n",
    "\n",
    "sel_var_feature = ['before_ss', 'sold_seats', 'available_seats', 'remain_seats', 'remain_days', 'departure_hour', \n",
    "                   'departure_minute', 'departure_time_format_min', 'CJU', 'GMP', 'peak', 'weekday', 'weekend', \n",
    "                   'month_6', 'month_7', 'month_8', 'year_2017', 'year_2018']\n",
    "\n",
    "sel_corr_feature = ['weekday', 'weekend', 'peak', 'sold_seats', 'departureweekday_5', 'premium', 'departureweekday_1', \n",
    "                    'month_8', 'departureweekday_6', 'before_ss', 'departureweekday_2', 'remain_seats', 'departureweekday_4', \n",
    "                    'departureweekday_3', 'year_2018', 'year_2017', 'remain_days', 'month_6', 'month_7']\n",
    "\n",
    "sel_vif_feature = ['before_ss', 'sold_seats', 'available_seats', 'remain_seats', 'remain_days', 'peak', 'premium']\n",
    "\n",
    "sel_rf_feature = ['remain_days', 'departure_time_format_min', 'weekday', 'peak', 'remain_seats', 'departure_hour', \n",
    "                  'sold_seats', 'before_ss', 'available_seats', 'departureweekday_6', 'departureweekday_4', 'year_2017', \n",
    "                  'month_6', 'month_8', 'GMP', 'CJU', 'premium', 'year_2018', 'departure_minute', 'month_7']"
   ]
  },
  {
   "cell_type": "markdown",
   "id": "762cd0e4-6658-467e-b9a4-b28428955d07",
   "metadata": {},
   "source": [
    "## 3) Train/Test Data Split &  Baseline Model 성능 확인"
   ]
  },
  {
   "cell_type": "code",
   "execution_count": 97,
   "id": "5ec4f4b5-613d-4736-8103-974cbd724ac7",
   "metadata": {},
   "outputs": [],
   "source": [
    "model_df['departure_fare_basis'] = np.where(model_df['peak']==1, 'peak'\n",
    "                                            , (np.where(model_df['premium']==1, 'premium'\n",
    "                                                        , np.where(model_df['weekend']==1, 'weekend', 'weekday')\n",
    "                                                       )\n",
    "                                              )\n",
    "                                           )\n"
   ]
  },
  {
   "cell_type": "code",
   "execution_count": 98,
   "id": "d3272c21-617f-4e9b-b221-0e384c4d2666",
   "metadata": {
    "scrolled": true,
    "tags": []
   },
   "outputs": [
    {
     "name": "stdout",
     "output_type": "stream",
     "text": [
      "==================================================\n",
      "basic - ['GMP'] - [6, 7, 8] - ['weekday', 'weekend', 'peak', 'premium']\n"
     ]
    },
    {
     "ename": "KeyboardInterrupt",
     "evalue": "",
     "output_type": "error",
     "traceback": [
      "\u001b[0;31m---------------------------------------------------------------------------\u001b[0m",
      "\u001b[0;31mKeyboardInterrupt\u001b[0m                         Traceback (most recent call last)",
      "\u001b[0;32m<ipython-input-98-20106c833a22>\u001b[0m in \u001b[0;36m<module>\u001b[0;34m\u001b[0m\n\u001b[1;32m     32\u001b[0m                 \u001b[0;32mtry\u001b[0m\u001b[0;34m:\u001b[0m\u001b[0;34m\u001b[0m\u001b[0;34m\u001b[0m\u001b[0m\n\u001b[1;32m     33\u001b[0m                     \u001b[0;31m# train_score, train_rmse = RF_MODULE(train_df[use_feature], train_df['fix_fare'], 'train', version_i)\u001b[0m\u001b[0;34m\u001b[0m\u001b[0;34m\u001b[0m\u001b[0;34m\u001b[0m\u001b[0m\n\u001b[0;32m---> 34\u001b[0;31m                     \u001b[0mtest_score\u001b[0m\u001b[0;34m,\u001b[0m \u001b[0mtest_rmse\u001b[0m \u001b[0;34m=\u001b[0m \u001b[0mRF_MODULE\u001b[0m\u001b[0;34m(\u001b[0m\u001b[0mtest_df\u001b[0m\u001b[0;34m[\u001b[0m\u001b[0muse_feature\u001b[0m\u001b[0;34m]\u001b[0m\u001b[0;34m,\u001b[0m \u001b[0mtest_df\u001b[0m\u001b[0;34m[\u001b[0m\u001b[0;34m'fix_fare'\u001b[0m\u001b[0;34m]\u001b[0m\u001b[0;34m,\u001b[0m \u001b[0;34m'test'\u001b[0m\u001b[0;34m,\u001b[0m \u001b[0mversion_i\u001b[0m\u001b[0;34m)\u001b[0m\u001b[0;34m\u001b[0m\u001b[0;34m\u001b[0m\u001b[0m\n\u001b[0m\u001b[1;32m     35\u001b[0m                     temp_df = pd.DataFrame(columns = ['dest', 'month', 'option', 'version', 'cluster', 'train_score', 'train_rmse', 'test_score', 'test_rmse'],\n\u001b[1;32m     36\u001b[0m                                                data = [[str(dest_i), str(month_i), str(option_i), version_i, 0, train_score, train_rmse, test_score, test_rmse]])                    \n",
      "\u001b[0;32m<ipython-input-55-19bd2e05fda5>\u001b[0m in \u001b[0;36mRF_MODULE\u001b[0;34m(data_x, data_y, mode, algorithm)\u001b[0m\n\u001b[1;32m      8\u001b[0m             \u001b[0mrf_model\u001b[0m \u001b[0;34m=\u001b[0m \u001b[0mpickle\u001b[0m\u001b[0;34m.\u001b[0m\u001b[0mload\u001b[0m\u001b[0;34m(\u001b[0m\u001b[0mf\u001b[0m\u001b[0;34m)\u001b[0m\u001b[0;34m\u001b[0m\u001b[0;34m\u001b[0m\u001b[0m\n\u001b[1;32m      9\u001b[0m \u001b[0;34m\u001b[0m\u001b[0m\n\u001b[0;32m---> 10\u001b[0;31m     \u001b[0;32mreturn\u001b[0m \u001b[0mrf_model\u001b[0m\u001b[0;34m.\u001b[0m\u001b[0mscore\u001b[0m\u001b[0;34m(\u001b[0m\u001b[0mdata_x\u001b[0m\u001b[0;34m,\u001b[0m \u001b[0mdata_y\u001b[0m\u001b[0;34m)\u001b[0m\u001b[0;34m,\u001b[0m \u001b[0mmean_squared_error\u001b[0m\u001b[0;34m(\u001b[0m\u001b[0mdata_y\u001b[0m\u001b[0;34m,\u001b[0m \u001b[0mrf_model\u001b[0m\u001b[0;34m.\u001b[0m\u001b[0mpredict\u001b[0m\u001b[0;34m(\u001b[0m\u001b[0mdata_x\u001b[0m\u001b[0;34m)\u001b[0m\u001b[0;34m)\u001b[0m\u001b[0;34m**\u001b[0m\u001b[0;36m0.5\u001b[0m\u001b[0;34m\u001b[0m\u001b[0;34m\u001b[0m\u001b[0m\n\u001b[0m",
      "\u001b[0;32m/usr/local/lib/python3.8/site-packages/sklearn/ensemble/_forest.py\u001b[0m in \u001b[0;36mpredict\u001b[0;34m(self, X)\u001b[0m\n\u001b[1;32m    795\u001b[0m         \u001b[0;31m# Parallel loop\u001b[0m\u001b[0;34m\u001b[0m\u001b[0;34m\u001b[0m\u001b[0;34m\u001b[0m\u001b[0m\n\u001b[1;32m    796\u001b[0m         \u001b[0mlock\u001b[0m \u001b[0;34m=\u001b[0m \u001b[0mthreading\u001b[0m\u001b[0;34m.\u001b[0m\u001b[0mLock\u001b[0m\u001b[0;34m(\u001b[0m\u001b[0;34m)\u001b[0m\u001b[0;34m\u001b[0m\u001b[0;34m\u001b[0m\u001b[0m\n\u001b[0;32m--> 797\u001b[0;31m         Parallel(n_jobs=n_jobs, verbose=self.verbose,\n\u001b[0m\u001b[1;32m    798\u001b[0m                  \u001b[0;34m**\u001b[0m\u001b[0m_joblib_parallel_args\u001b[0m\u001b[0;34m(\u001b[0m\u001b[0mrequire\u001b[0m\u001b[0;34m=\u001b[0m\u001b[0;34m\"sharedmem\"\u001b[0m\u001b[0;34m)\u001b[0m\u001b[0;34m)\u001b[0m\u001b[0;34m(\u001b[0m\u001b[0;34m\u001b[0m\u001b[0;34m\u001b[0m\u001b[0m\n\u001b[1;32m    799\u001b[0m             \u001b[0mdelayed\u001b[0m\u001b[0;34m(\u001b[0m\u001b[0m_accumulate_prediction\u001b[0m\u001b[0;34m)\u001b[0m\u001b[0;34m(\u001b[0m\u001b[0me\u001b[0m\u001b[0;34m.\u001b[0m\u001b[0mpredict\u001b[0m\u001b[0;34m,\u001b[0m \u001b[0mX\u001b[0m\u001b[0;34m,\u001b[0m \u001b[0;34m[\u001b[0m\u001b[0my_hat\u001b[0m\u001b[0;34m]\u001b[0m\u001b[0;34m,\u001b[0m \u001b[0mlock\u001b[0m\u001b[0;34m)\u001b[0m\u001b[0;34m\u001b[0m\u001b[0;34m\u001b[0m\u001b[0m\n",
      "\u001b[0;32m/usr/local/lib/python3.8/site-packages/joblib/parallel.py\u001b[0m in \u001b[0;36m__call__\u001b[0;34m(self, iterable)\u001b[0m\n\u001b[1;32m   1044\u001b[0m                 \u001b[0mself\u001b[0m\u001b[0;34m.\u001b[0m\u001b[0m_iterating\u001b[0m \u001b[0;34m=\u001b[0m \u001b[0mself\u001b[0m\u001b[0;34m.\u001b[0m\u001b[0m_original_iterator\u001b[0m \u001b[0;32mis\u001b[0m \u001b[0;32mnot\u001b[0m \u001b[0;32mNone\u001b[0m\u001b[0;34m\u001b[0m\u001b[0;34m\u001b[0m\u001b[0m\n\u001b[1;32m   1045\u001b[0m \u001b[0;34m\u001b[0m\u001b[0m\n\u001b[0;32m-> 1046\u001b[0;31m             \u001b[0;32mwhile\u001b[0m \u001b[0mself\u001b[0m\u001b[0;34m.\u001b[0m\u001b[0mdispatch_one_batch\u001b[0m\u001b[0;34m(\u001b[0m\u001b[0miterator\u001b[0m\u001b[0;34m)\u001b[0m\u001b[0;34m:\u001b[0m\u001b[0;34m\u001b[0m\u001b[0;34m\u001b[0m\u001b[0m\n\u001b[0m\u001b[1;32m   1047\u001b[0m                 \u001b[0;32mpass\u001b[0m\u001b[0;34m\u001b[0m\u001b[0;34m\u001b[0m\u001b[0m\n\u001b[1;32m   1048\u001b[0m \u001b[0;34m\u001b[0m\u001b[0m\n",
      "\u001b[0;32m/usr/local/lib/python3.8/site-packages/joblib/parallel.py\u001b[0m in \u001b[0;36mdispatch_one_batch\u001b[0;34m(self, iterator)\u001b[0m\n\u001b[1;32m    859\u001b[0m                 \u001b[0;32mreturn\u001b[0m \u001b[0;32mFalse\u001b[0m\u001b[0;34m\u001b[0m\u001b[0;34m\u001b[0m\u001b[0m\n\u001b[1;32m    860\u001b[0m             \u001b[0;32melse\u001b[0m\u001b[0;34m:\u001b[0m\u001b[0;34m\u001b[0m\u001b[0;34m\u001b[0m\u001b[0m\n\u001b[0;32m--> 861\u001b[0;31m                 \u001b[0mself\u001b[0m\u001b[0;34m.\u001b[0m\u001b[0m_dispatch\u001b[0m\u001b[0;34m(\u001b[0m\u001b[0mtasks\u001b[0m\u001b[0;34m)\u001b[0m\u001b[0;34m\u001b[0m\u001b[0;34m\u001b[0m\u001b[0m\n\u001b[0m\u001b[1;32m    862\u001b[0m                 \u001b[0;32mreturn\u001b[0m \u001b[0;32mTrue\u001b[0m\u001b[0;34m\u001b[0m\u001b[0;34m\u001b[0m\u001b[0m\n\u001b[1;32m    863\u001b[0m \u001b[0;34m\u001b[0m\u001b[0m\n",
      "\u001b[0;32m/usr/local/lib/python3.8/site-packages/joblib/parallel.py\u001b[0m in \u001b[0;36m_dispatch\u001b[0;34m(self, batch)\u001b[0m\n\u001b[1;32m    777\u001b[0m         \u001b[0;32mwith\u001b[0m \u001b[0mself\u001b[0m\u001b[0;34m.\u001b[0m\u001b[0m_lock\u001b[0m\u001b[0;34m:\u001b[0m\u001b[0;34m\u001b[0m\u001b[0;34m\u001b[0m\u001b[0m\n\u001b[1;32m    778\u001b[0m             \u001b[0mjob_idx\u001b[0m \u001b[0;34m=\u001b[0m \u001b[0mlen\u001b[0m\u001b[0;34m(\u001b[0m\u001b[0mself\u001b[0m\u001b[0;34m.\u001b[0m\u001b[0m_jobs\u001b[0m\u001b[0;34m)\u001b[0m\u001b[0;34m\u001b[0m\u001b[0;34m\u001b[0m\u001b[0m\n\u001b[0;32m--> 779\u001b[0;31m             \u001b[0mjob\u001b[0m \u001b[0;34m=\u001b[0m \u001b[0mself\u001b[0m\u001b[0;34m.\u001b[0m\u001b[0m_backend\u001b[0m\u001b[0;34m.\u001b[0m\u001b[0mapply_async\u001b[0m\u001b[0;34m(\u001b[0m\u001b[0mbatch\u001b[0m\u001b[0;34m,\u001b[0m \u001b[0mcallback\u001b[0m\u001b[0;34m=\u001b[0m\u001b[0mcb\u001b[0m\u001b[0;34m)\u001b[0m\u001b[0;34m\u001b[0m\u001b[0;34m\u001b[0m\u001b[0m\n\u001b[0m\u001b[1;32m    780\u001b[0m             \u001b[0;31m# A job can complete so quickly than its callback is\u001b[0m\u001b[0;34m\u001b[0m\u001b[0;34m\u001b[0m\u001b[0;34m\u001b[0m\u001b[0m\n\u001b[1;32m    781\u001b[0m             \u001b[0;31m# called before we get here, causing self._jobs to\u001b[0m\u001b[0;34m\u001b[0m\u001b[0;34m\u001b[0m\u001b[0;34m\u001b[0m\u001b[0m\n",
      "\u001b[0;32m/usr/local/lib/python3.8/site-packages/joblib/_parallel_backends.py\u001b[0m in \u001b[0;36mapply_async\u001b[0;34m(self, func, callback)\u001b[0m\n\u001b[1;32m    206\u001b[0m     \u001b[0;32mdef\u001b[0m \u001b[0mapply_async\u001b[0m\u001b[0;34m(\u001b[0m\u001b[0mself\u001b[0m\u001b[0;34m,\u001b[0m \u001b[0mfunc\u001b[0m\u001b[0;34m,\u001b[0m \u001b[0mcallback\u001b[0m\u001b[0;34m=\u001b[0m\u001b[0;32mNone\u001b[0m\u001b[0;34m)\u001b[0m\u001b[0;34m:\u001b[0m\u001b[0;34m\u001b[0m\u001b[0;34m\u001b[0m\u001b[0m\n\u001b[1;32m    207\u001b[0m         \u001b[0;34m\"\"\"Schedule a func to be run\"\"\"\u001b[0m\u001b[0;34m\u001b[0m\u001b[0;34m\u001b[0m\u001b[0m\n\u001b[0;32m--> 208\u001b[0;31m         \u001b[0mresult\u001b[0m \u001b[0;34m=\u001b[0m \u001b[0mImmediateResult\u001b[0m\u001b[0;34m(\u001b[0m\u001b[0mfunc\u001b[0m\u001b[0;34m)\u001b[0m\u001b[0;34m\u001b[0m\u001b[0;34m\u001b[0m\u001b[0m\n\u001b[0m\u001b[1;32m    209\u001b[0m         \u001b[0;32mif\u001b[0m \u001b[0mcallback\u001b[0m\u001b[0;34m:\u001b[0m\u001b[0;34m\u001b[0m\u001b[0;34m\u001b[0m\u001b[0m\n\u001b[1;32m    210\u001b[0m             \u001b[0mcallback\u001b[0m\u001b[0;34m(\u001b[0m\u001b[0mresult\u001b[0m\u001b[0;34m)\u001b[0m\u001b[0;34m\u001b[0m\u001b[0;34m\u001b[0m\u001b[0m\n",
      "\u001b[0;32m/usr/local/lib/python3.8/site-packages/joblib/_parallel_backends.py\u001b[0m in \u001b[0;36m__init__\u001b[0;34m(self, batch)\u001b[0m\n\u001b[1;32m    570\u001b[0m         \u001b[0;31m# Don't delay the application, to avoid keeping the input\u001b[0m\u001b[0;34m\u001b[0m\u001b[0;34m\u001b[0m\u001b[0;34m\u001b[0m\u001b[0m\n\u001b[1;32m    571\u001b[0m         \u001b[0;31m# arguments in memory\u001b[0m\u001b[0;34m\u001b[0m\u001b[0;34m\u001b[0m\u001b[0;34m\u001b[0m\u001b[0m\n\u001b[0;32m--> 572\u001b[0;31m         \u001b[0mself\u001b[0m\u001b[0;34m.\u001b[0m\u001b[0mresults\u001b[0m \u001b[0;34m=\u001b[0m \u001b[0mbatch\u001b[0m\u001b[0;34m(\u001b[0m\u001b[0;34m)\u001b[0m\u001b[0;34m\u001b[0m\u001b[0;34m\u001b[0m\u001b[0m\n\u001b[0m\u001b[1;32m    573\u001b[0m \u001b[0;34m\u001b[0m\u001b[0m\n\u001b[1;32m    574\u001b[0m     \u001b[0;32mdef\u001b[0m \u001b[0mget\u001b[0m\u001b[0;34m(\u001b[0m\u001b[0mself\u001b[0m\u001b[0;34m)\u001b[0m\u001b[0;34m:\u001b[0m\u001b[0;34m\u001b[0m\u001b[0;34m\u001b[0m\u001b[0m\n",
      "\u001b[0;32m/usr/local/lib/python3.8/site-packages/joblib/parallel.py\u001b[0m in \u001b[0;36m__call__\u001b[0;34m(self)\u001b[0m\n\u001b[1;32m    260\u001b[0m         \u001b[0;31m# change the default number of processes to -1\u001b[0m\u001b[0;34m\u001b[0m\u001b[0;34m\u001b[0m\u001b[0;34m\u001b[0m\u001b[0m\n\u001b[1;32m    261\u001b[0m         \u001b[0;32mwith\u001b[0m \u001b[0mparallel_backend\u001b[0m\u001b[0;34m(\u001b[0m\u001b[0mself\u001b[0m\u001b[0;34m.\u001b[0m\u001b[0m_backend\u001b[0m\u001b[0;34m,\u001b[0m \u001b[0mn_jobs\u001b[0m\u001b[0;34m=\u001b[0m\u001b[0mself\u001b[0m\u001b[0;34m.\u001b[0m\u001b[0m_n_jobs\u001b[0m\u001b[0;34m)\u001b[0m\u001b[0;34m:\u001b[0m\u001b[0;34m\u001b[0m\u001b[0;34m\u001b[0m\u001b[0m\n\u001b[0;32m--> 262\u001b[0;31m             return [func(*args, **kwargs)\n\u001b[0m\u001b[1;32m    263\u001b[0m                     for func, args, kwargs in self.items]\n\u001b[1;32m    264\u001b[0m \u001b[0;34m\u001b[0m\u001b[0m\n",
      "\u001b[0;32m/usr/local/lib/python3.8/site-packages/joblib/parallel.py\u001b[0m in \u001b[0;36m<listcomp>\u001b[0;34m(.0)\u001b[0m\n\u001b[1;32m    260\u001b[0m         \u001b[0;31m# change the default number of processes to -1\u001b[0m\u001b[0;34m\u001b[0m\u001b[0;34m\u001b[0m\u001b[0;34m\u001b[0m\u001b[0m\n\u001b[1;32m    261\u001b[0m         \u001b[0;32mwith\u001b[0m \u001b[0mparallel_backend\u001b[0m\u001b[0;34m(\u001b[0m\u001b[0mself\u001b[0m\u001b[0;34m.\u001b[0m\u001b[0m_backend\u001b[0m\u001b[0;34m,\u001b[0m \u001b[0mn_jobs\u001b[0m\u001b[0;34m=\u001b[0m\u001b[0mself\u001b[0m\u001b[0;34m.\u001b[0m\u001b[0m_n_jobs\u001b[0m\u001b[0;34m)\u001b[0m\u001b[0;34m:\u001b[0m\u001b[0;34m\u001b[0m\u001b[0;34m\u001b[0m\u001b[0m\n\u001b[0;32m--> 262\u001b[0;31m             return [func(*args, **kwargs)\n\u001b[0m\u001b[1;32m    263\u001b[0m                     for func, args, kwargs in self.items]\n\u001b[1;32m    264\u001b[0m \u001b[0;34m\u001b[0m\u001b[0m\n",
      "\u001b[0;32m/usr/local/lib/python3.8/site-packages/sklearn/utils/fixes.py\u001b[0m in \u001b[0;36m__call__\u001b[0;34m(self, *args, **kwargs)\u001b[0m\n\u001b[1;32m    220\u001b[0m     \u001b[0;32mdef\u001b[0m \u001b[0m__call__\u001b[0m\u001b[0;34m(\u001b[0m\u001b[0mself\u001b[0m\u001b[0;34m,\u001b[0m \u001b[0;34m*\u001b[0m\u001b[0margs\u001b[0m\u001b[0;34m,\u001b[0m \u001b[0;34m**\u001b[0m\u001b[0mkwargs\u001b[0m\u001b[0;34m)\u001b[0m\u001b[0;34m:\u001b[0m\u001b[0;34m\u001b[0m\u001b[0;34m\u001b[0m\u001b[0m\n\u001b[1;32m    221\u001b[0m         \u001b[0;32mwith\u001b[0m \u001b[0mconfig_context\u001b[0m\u001b[0;34m(\u001b[0m\u001b[0;34m**\u001b[0m\u001b[0mself\u001b[0m\u001b[0;34m.\u001b[0m\u001b[0mconfig\u001b[0m\u001b[0;34m)\u001b[0m\u001b[0;34m:\u001b[0m\u001b[0;34m\u001b[0m\u001b[0;34m\u001b[0m\u001b[0m\n\u001b[0;32m--> 222\u001b[0;31m             \u001b[0;32mreturn\u001b[0m \u001b[0mself\u001b[0m\u001b[0;34m.\u001b[0m\u001b[0mfunction\u001b[0m\u001b[0;34m(\u001b[0m\u001b[0;34m*\u001b[0m\u001b[0margs\u001b[0m\u001b[0;34m,\u001b[0m \u001b[0;34m**\u001b[0m\u001b[0mkwargs\u001b[0m\u001b[0;34m)\u001b[0m\u001b[0;34m\u001b[0m\u001b[0;34m\u001b[0m\u001b[0m\n\u001b[0m",
      "\u001b[0;32m/usr/local/lib/python3.8/site-packages/sklearn/ensemble/_forest.py\u001b[0m in \u001b[0;36m_accumulate_prediction\u001b[0;34m(predict, X, out, lock)\u001b[0m\n\u001b[1;32m    465\u001b[0m     \u001b[0mcomplains\u001b[0m \u001b[0mthat\u001b[0m \u001b[0mit\u001b[0m \u001b[0mcannot\u001b[0m \u001b[0mpickle\u001b[0m \u001b[0mit\u001b[0m \u001b[0mwhen\u001b[0m \u001b[0mplaced\u001b[0m \u001b[0mthere\u001b[0m\u001b[0;34m.\u001b[0m\u001b[0;34m\u001b[0m\u001b[0;34m\u001b[0m\u001b[0m\n\u001b[1;32m    466\u001b[0m     \"\"\"\n\u001b[0;32m--> 467\u001b[0;31m     \u001b[0mprediction\u001b[0m \u001b[0;34m=\u001b[0m \u001b[0mpredict\u001b[0m\u001b[0;34m(\u001b[0m\u001b[0mX\u001b[0m\u001b[0;34m,\u001b[0m \u001b[0mcheck_input\u001b[0m\u001b[0;34m=\u001b[0m\u001b[0;32mFalse\u001b[0m\u001b[0;34m)\u001b[0m\u001b[0;34m\u001b[0m\u001b[0;34m\u001b[0m\u001b[0m\n\u001b[0m\u001b[1;32m    468\u001b[0m     \u001b[0;32mwith\u001b[0m \u001b[0mlock\u001b[0m\u001b[0;34m:\u001b[0m\u001b[0;34m\u001b[0m\u001b[0;34m\u001b[0m\u001b[0m\n\u001b[1;32m    469\u001b[0m         \u001b[0;32mif\u001b[0m \u001b[0mlen\u001b[0m\u001b[0;34m(\u001b[0m\u001b[0mout\u001b[0m\u001b[0;34m)\u001b[0m \u001b[0;34m==\u001b[0m \u001b[0;36m1\u001b[0m\u001b[0;34m:\u001b[0m\u001b[0;34m\u001b[0m\u001b[0;34m\u001b[0m\u001b[0m\n",
      "\u001b[0;32m/usr/local/lib/python3.8/site-packages/sklearn/tree/_classes.py\u001b[0m in \u001b[0;36mpredict\u001b[0;34m(self, X, check_input)\u001b[0m\n\u001b[1;32m    441\u001b[0m         \u001b[0mcheck_is_fitted\u001b[0m\u001b[0;34m(\u001b[0m\u001b[0mself\u001b[0m\u001b[0;34m)\u001b[0m\u001b[0;34m\u001b[0m\u001b[0;34m\u001b[0m\u001b[0m\n\u001b[1;32m    442\u001b[0m         \u001b[0mX\u001b[0m \u001b[0;34m=\u001b[0m \u001b[0mself\u001b[0m\u001b[0;34m.\u001b[0m\u001b[0m_validate_X_predict\u001b[0m\u001b[0;34m(\u001b[0m\u001b[0mX\u001b[0m\u001b[0;34m,\u001b[0m \u001b[0mcheck_input\u001b[0m\u001b[0;34m)\u001b[0m\u001b[0;34m\u001b[0m\u001b[0;34m\u001b[0m\u001b[0m\n\u001b[0;32m--> 443\u001b[0;31m         \u001b[0mproba\u001b[0m \u001b[0;34m=\u001b[0m \u001b[0mself\u001b[0m\u001b[0;34m.\u001b[0m\u001b[0mtree_\u001b[0m\u001b[0;34m.\u001b[0m\u001b[0mpredict\u001b[0m\u001b[0;34m(\u001b[0m\u001b[0mX\u001b[0m\u001b[0;34m)\u001b[0m\u001b[0;34m\u001b[0m\u001b[0;34m\u001b[0m\u001b[0m\n\u001b[0m\u001b[1;32m    444\u001b[0m         \u001b[0mn_samples\u001b[0m \u001b[0;34m=\u001b[0m \u001b[0mX\u001b[0m\u001b[0;34m.\u001b[0m\u001b[0mshape\u001b[0m\u001b[0;34m[\u001b[0m\u001b[0;36m0\u001b[0m\u001b[0;34m]\u001b[0m\u001b[0;34m\u001b[0m\u001b[0;34m\u001b[0m\u001b[0m\n\u001b[1;32m    445\u001b[0m \u001b[0;34m\u001b[0m\u001b[0m\n",
      "\u001b[0;31mKeyboardInterrupt\u001b[0m: "
     ]
    }
   ],
   "source": [
    "# dest = [['CJU', 'GMP'], ['CJU'], ['GMP']]\n",
    "dest = [['GMP']]\n",
    "month = [[6,7,8], [6], [7], [8]]\n",
    "option = [['weekday', 'weekend', 'peak', 'premium'], ['weekday'], ['weekend'], ['peak'], ['premium']]\n",
    "version = ['basic']\n",
    "# version = ['var', 'corr', 'vif', 'rf']\n",
    "\n",
    "# dest = [['CJU'], ['GMP']]\n",
    "# month = [[6], [7], [8]]\n",
    "# option = [['weekday'], ['weekend'], ['peak'], ['premium']]\n",
    "# version = ['var', 'corr', 'vif', 'rf']\n",
    "\n",
    "dest = [['CJU']]\n",
    "month = [[6,7,8]]\n",
    "option = [['primium']]\n",
    "cluster = 1\n",
    "version = ['var']\n",
    "\n",
    "\n",
    "results = pd.DataFrame(columns = ['dest', 'month', 'option', 'version', 'cluster', 'train_score', 'train_rmse', 'test_score', 'test_rmse'])\n",
    "\n",
    "for version_i in version:\n",
    "    for dest_i in dest:\n",
    "        for month_i in month:\n",
    "            for option_i in option:                \n",
    "                print(\"=\"*50)\n",
    "                print(f'{version_i} - {dest_i} - {month_i} - {option_i}')\n",
    "                use_feature = globals()[f'sel_{version_i}_feature']\n",
    "\n",
    "                train_df = model_df[(model_df['startseg'].isin(dest_i))                                        \n",
    "                                    & (model_df['month'].isin(month_i))\n",
    "                                    & (model_df['departure_fare_basis'].isin(option_i))\n",
    "                                    & (model_df['year'] == 2017)].reset_index(drop = True)\n",
    "                test_df = model_df[(model_df['startseg'].isin(dest_i))                                        \n",
    "                                    & (model_df['month'].isin(month_i))\n",
    "                                    & (model_df['departure_fare_basis'].isin(option_i))\n",
    "                                    & (model_df['year'] == 2018)].reset_index(drop = True)\n",
    "                \n",
    "                try:\n",
    "                    # train_score, train_rmse = RF_MODULE(train_df[use_feature], train_df['fix_fare'], 'train', version_i)                    \n",
    "                    test_score, test_rmse = RF_MODULE(test_df[use_feature], test_df['fix_fare'], 'test', version_i)\n",
    "                    temp_df = pd.DataFrame(columns = ['dest', 'month', 'option', 'version', 'cluster', 'train_score', 'train_rmse', 'test_score', 'test_rmse'],\n",
    "                                               data = [[str(dest_i), str(month_i), str(option_i), version_i, 0, train_score, train_rmse, test_score, test_rmse]])                    \n",
    "                    results = pd.concat([results, temp_df])\n",
    "                    \n",
    "                # try: ## pca, cluster 포함\n",
    "                #     train_score, train_rmse = RF_MODEL_MODULE(train_df, use_feature, 'train', version_i)\n",
    "                #     test_score, test_rmse = RF_MODEL_MODULE(test_df, use_feature, 'test', version_i)\n",
    "                #     for cluster in [0, 1]:\n",
    "                #         temp_df = pd.DataFrame(columns = ['dest', 'month', 'option', 'version', 'cluster', 'train_score', 'train_rmse', 'test_score', 'test_rmse'],\n",
    "                #                                data = [[dest_i[0], month_i[0], option_i[0], version_i, cluster, train_score[cluster], train_rmse[cluster], test_score[cluster], test_rmse[cluster]]])\n",
    "                #         results = pd.concat([results, temp_df])\n",
    "                \n",
    "                except Exception as e:\n",
    "                    print(e)"
   ]
  },
  {
   "cell_type": "code",
   "execution_count": 52,
   "id": "b827beca-9473-4494-a97e-3c35cfa8dac4",
   "metadata": {},
   "outputs": [],
   "source": [
    "results.to_csv('basic_results.csv')"
   ]
  },
  {
   "cell_type": "markdown",
   "id": "2788254d-1abd-4c36-b555-448d92d74568",
   "metadata": {
    "tags": []
   },
   "source": [
    "## *) Preprocessing (PCA & Clustering)"
   ]
  },
  {
   "cell_type": "markdown",
   "id": "550ff114-05d4-4195-a909-7d10205e924b",
   "metadata": {},
   "source": [
    "### - PCA (components = 2)"
   ]
  },
  {
   "cell_type": "code",
   "execution_count": 53,
   "id": "b4e2ec35-1f96-4a34-9c7d-ed5faa8742b9",
   "metadata": {},
   "outputs": [],
   "source": [
    "def PCA_MODULE(data, mode, algorithm):\n",
    "    data_x = data.copy()\n",
    "    if mode == 'train':\n",
    "        ## Fit & Save PCA\n",
    "        pca = PCA(n_components=2).fit(data_x)                \n",
    "        with open(f'/root/preprocessing/pca_{algorithm}.pickle', 'wb') as f:\n",
    "            pickle.dump(pca, f)        \n",
    "    else:\n",
    "        ## Load PCA\n",
    "        with open(f'/root/preprocessing/pca_{algorithm}.pickle', 'rb') as f:\n",
    "            pca = pickle.load(f)\n",
    "        ## Transform PCA\n",
    "    printcipalComponents = pca.transform(data_x)\n",
    "        ## Return PCA Result as DataFrame\n",
    "    return pd.DataFrame(data=printcipalComponents, columns = [f'principal_component_{i}' for i in range(len(pca.explained_variance_ratio_))])"
   ]
  },
  {
   "cell_type": "markdown",
   "id": "3eea68dc-7d24-473a-9553-c4197eeb01ab",
   "metadata": {},
   "source": [
    "### - Clustering (Kmenas)"
   ]
  },
  {
   "cell_type": "code",
   "execution_count": 54,
   "id": "7c74a7da-7d7a-4c5f-854b-71802a04b4c4",
   "metadata": {},
   "outputs": [],
   "source": [
    "def CLUSTERING_MODULE(data, k, mode, algorithm):\n",
    "    data_x = data.copy()    \n",
    "    if mode == 'train':\n",
    "        ## Fit & Save KMeans Clustering\n",
    "        cluster_model = KMeans(n_clusters = k).fit(data_x)\n",
    "        with open(f'/root/preprocessing/cluster_{algorithm}.pickle', 'wb') as f:\n",
    "            pickle.dump(cluster_model, f)\n",
    "    else:\n",
    "        ## Load KMeans Model\n",
    "        with open(f'/root/preprocessing/cluster_{algorithm}.pickle', 'rb') as f:\n",
    "            cluster_model = pickle.load(f)\n",
    "        ## Transform KMeans\n",
    "    data_x['cluster'] = cluster_model.predict(data_x)\n",
    "        ## Return Kmeans Result as DataFrame\n",
    "    return data_x "
   ]
  },
  {
   "cell_type": "code",
   "execution_count": 55,
   "id": "76f8353d-2e40-4cf7-aad3-b14ed4e58cd2",
   "metadata": {},
   "outputs": [],
   "source": [
    "def RF_MODULE(data_x, data_y, mode, algorithm):\n",
    "    if mode == 'train':        \n",
    "        rf_model = RandomForestRegressor(random_state=0).fit(data_x, data_y)                                \n",
    "        with open(f'/root/preprocessing/rf_{algorithm}.pickle', 'wb') as f:\n",
    "            pickle.dump(rf_model, f)\n",
    "    else:        \n",
    "        with open(f'/root/preprocessing/rf_{algorithm}.pickle', 'rb') as f:\n",
    "            rf_model = pickle.load(f)        \n",
    "            \n",
    "    return rf_model.score(data_x, data_y), mean_squared_error(data_y, rf_model.predict(data_x))**0.5"
   ]
  },
  {
   "cell_type": "markdown",
   "id": "2959861e-bd5c-491e-877c-a23a6138be7a",
   "metadata": {
    "tags": []
   },
   "source": [
    "### - RandomForest Modeling"
   ]
  },
  {
   "cell_type": "code",
   "execution_count": 56,
   "id": "38483419-2ccc-4c31-93e4-e41ac40382a1",
   "metadata": {},
   "outputs": [],
   "source": [
    "def RF_MODEL_MODULE(data, use_feature, mode, version):\n",
    "    data_x = data[use_feature].copy()\n",
    "    data_y = data[['fix_fare']].copy()\n",
    "    \n",
    "    ## Preprocessing Fit & Save\n",
    "    pca_df = PCA_MODULE(data_x, mode, version)    \n",
    "    clust_df = CLUSTERING_MODULE(pca_df, 2, mode, version)\n",
    "    score_list = []\n",
    "    rmse_list = []\n",
    "    \n",
    "    if mode == 'train':            \n",
    "        ## Randomforest regression Fit & Save\n",
    "        # for i in clust_df['cluster'].unique():\n",
    "        for i in [0, 1]:\n",
    "            print(f\"CLUSTER {i}\")\n",
    "            ## Split data as cluster\n",
    "            train_x = clust_df[clust_df['cluster'] == i][list(pca_df)]\n",
    "            train_y = data_y.iloc[train_x.index.tolist()]   \n",
    "            \n",
    "            ## Model Fit & Save                           \n",
    "            score, rmse = RF_MODULE(train_x, train_y, mode, version)\n",
    "            # data.loc[train_x.index.tolist(), 'predict'] = pred\n",
    "            # data.loc[train_x.index.tolist(), 'cluster'] = i\n",
    "            score_list.append(score)\n",
    "            rmse_list.append(rmse)\n",
    "            \n",
    "            \n",
    "    else:        \n",
    "        ## Randomforest regression Load & Transform\n",
    "        # for i in clust_df['cluster'].unique():\n",
    "        for i in [0, 1]:\n",
    "            print(f\"CLUSTER {i}\")\n",
    "            ## Split data as cluster\n",
    "            test_x = clust_df[clust_df['cluster'] == i][list(pca_df)]\n",
    "            test_y = data_y.iloc[test_x.index.tolist()]['fix_fare']                \n",
    "\n",
    "            ## Model Load & Transform                            \n",
    "            score, rmse = RF_MODULE(test_x, test_y, mode, version)\n",
    "            # data.loc[test_x.index.tolist(), 'predict'] = pred\n",
    "            # data.loc[test_y.index.tolist(), 'cluster'] = i\n",
    "            score_list.append(score)\n",
    "            rmse_list.append(rmse)\n",
    "            \n",
    "    return score_list, rmse_list"
   ]
  },
  {
   "cell_type": "markdown",
   "id": "0b8163ca-f393-491f-b6ef-826347196848",
   "metadata": {},
   "source": [
    "## Deeplearning"
   ]
  },
  {
   "cell_type": "code",
   "execution_count": 57,
   "id": "20df9700-fa8f-49e8-a1dd-d9119d0d0c89",
   "metadata": {},
   "outputs": [
    {
     "name": "stdout",
     "output_type": "stream",
     "text": [
      "2.6.2\n"
     ]
    }
   ],
   "source": [
    "import pathlib\n",
    "\n",
    "import matplotlib.pyplot as plt\n",
    "import pandas as pd\n",
    "import seaborn as sns\n",
    "\n",
    "import tensorflow as tf\n",
    "from tensorflow import keras\n",
    "from tensorflow.keras import layers\n",
    "from keras import backend\n",
    "\n",
    "from tensorflow.keras.callbacks import EarlyStopping\n",
    "\n",
    "print(tf.__version__)"
   ]
  },
  {
   "cell_type": "code",
   "execution_count": 75,
   "id": "f3cd3397-f7f0-4620-9aff-c8167f2a786e",
   "metadata": {},
   "outputs": [],
   "source": [
    "dest_i = ['CJU','GMP']\n",
    "month_i = [6]\n",
    "option_i = ['weekday']\n",
    "cluster = 1\n",
    "version_i = 'var'"
   ]
  },
  {
   "cell_type": "code",
   "execution_count": 84,
   "id": "b9d3ae30-9155-4d4b-8aef-017e7bba337b",
   "metadata": {},
   "outputs": [],
   "source": [
    "dest_i = ['CJU']\n",
    "month_i = [6,7,8]\n",
    "option_i = ['premium']\n",
    "cluster = 1\n",
    "version_i = 'var'\n",
    "use_feature = globals()[f'sel_{version_i}_feature']\n",
    "\n",
    "train_df = model_df[(model_df['startseg'].isin(dest_i))                                        \n",
    "                    & (model_df['month'].isin(month_i))\n",
    "                    & (model_df['departure_fare_basis'].isin(option_i))\n",
    "                    & (model_df['year'] == 2017)].reset_index(drop = True)\n",
    "test_df = model_df[(model_df['startseg'].isin(dest_i))                                        \n",
    "                    & (model_df['month'].isin(month_i))\n",
    "                    & (model_df['departure_fare_basis'].isin(option_i))\n",
    "                    & (model_df['year'] == 2018)].reset_index(drop = True)"
   ]
  },
  {
   "cell_type": "code",
   "execution_count": 85,
   "id": "91f110d8-ee1d-48cc-80a0-b4e61ed87f09",
   "metadata": {},
   "outputs": [],
   "source": [
    "def dnn_pps(data, mode):\n",
    "    data_x = data[use_feature].copy()\n",
    "    data_y = data[['fix_fare']].copy()\n",
    "    pca_df = PCA_MODULE(data_x, mode, version_i)    \n",
    "    clust_df = CLUSTERING_MODULE(pca_df, 2, mode, version_i)\n",
    "    clust_df = clust_df[clust_df['cluster'] == cluster][list(pca_df)]\n",
    "    temp_x = clust_df.copy()\n",
    "    temp_y = data_y.iloc[clust_df.index]\n",
    "    return temp_x, temp_y "
   ]
  },
  {
   "cell_type": "code",
   "execution_count": 86,
   "id": "628e0477-b2fe-4273-82cd-40ac909c1c78",
   "metadata": {},
   "outputs": [],
   "source": [
    "train_x, train_y = dnn_pps(train_df, 'train')\n",
    "test_x, test_y = dnn_pps(test_df, 'test')"
   ]
  },
  {
   "cell_type": "code",
   "execution_count": 91,
   "id": "a9b50d39-320d-485e-9ca2-08f8600e5b59",
   "metadata": {},
   "outputs": [
    {
     "data": {
      "text/plain": [
       "(167, 2)"
      ]
     },
     "execution_count": 91,
     "metadata": {},
     "output_type": "execute_result"
    }
   ],
   "source": [
    "train_x.shape"
   ]
  },
  {
   "cell_type": "code",
   "execution_count": 87,
   "id": "fe86c85d-c576-45bd-aa87-aaf47744703a",
   "metadata": {},
   "outputs": [],
   "source": [
    "def rmse(y_true, y_pred):\n",
    "    return backend.sqrt(backend.mean(backend.square(y_pred - y_true), axis=1))\n",
    "\n",
    "keras.backend.clear_session()\n",
    "tf.random.set_seed(1004)\n",
    "model = keras.Sequential([\n",
    "    layers.Dense(8, activation='relu', input_shape=train_x.shape),\n",
    "    layers.Dense(8, activation='elu'),\n",
    "    layers.Dense(4, activation='relu'),\n",
    "    layers.Dense(1)\n",
    "]) \n",
    "\n",
    "earlystopping = EarlyStopping(monitor='loss', patience=10, min_delta = 10)\n",
    "model.compile(loss=rmse, optimizer='Adam', metrics=[rmse, 'mse'])"
   ]
  },
  {
   "cell_type": "code",
   "execution_count": 88,
   "id": "cfa34ccf-50bd-48cd-b6a1-392832388322",
   "metadata": {
    "scrolled": true,
    "tags": []
   },
   "outputs": [
    {
     "name": "stdout",
     "output_type": "stream",
     "text": [
      "Epoch 1/500\n",
      "WARNING:tensorflow:Model was constructed with shape (None, 167, 2) for input KerasTensor(type_spec=TensorSpec(shape=(None, 167, 2), dtype=tf.float32, name='dense_input'), name='dense_input', description=\"created by layer 'dense_input'\"), but it was called on an input with incompatible shape (None, 2).\n"
     ]
    },
    {
     "name": "stderr",
     "output_type": "stream",
     "text": [
      "WARNING:tensorflow:Model was constructed with shape (None, 167, 2) for input KerasTensor(type_spec=TensorSpec(shape=(None, 167, 2), dtype=tf.float32, name='dense_input'), name='dense_input', description=\"created by layer 'dense_input'\"), but it was called on an input with incompatible shape (None, 2).\n"
     ]
    },
    {
     "name": "stdout",
     "output_type": "stream",
     "text": [
      "WARNING:tensorflow:Model was constructed with shape (None, 167, 2) for input KerasTensor(type_spec=TensorSpec(shape=(None, 167, 2), dtype=tf.float32, name='dense_input'), name='dense_input', description=\"created by layer 'dense_input'\"), but it was called on an input with incompatible shape (None, 2).\n"
     ]
    },
    {
     "name": "stderr",
     "output_type": "stream",
     "text": [
      "WARNING:tensorflow:Model was constructed with shape (None, 167, 2) for input KerasTensor(type_spec=TensorSpec(shape=(None, 167, 2), dtype=tf.float32, name='dense_input'), name='dense_input', description=\"created by layer 'dense_input'\"), but it was called on an input with incompatible shape (None, 2).\n"
     ]
    },
    {
     "name": "stdout",
     "output_type": "stream",
     "text": [
      "1/5 [=====>........................] - ETA: 1s - loss: 88062.0938 - rmse: 88062.0938 - mse: 8049127424.0000WARNING:tensorflow:Model was constructed with shape (None, 167, 2) for input KerasTensor(type_spec=TensorSpec(shape=(None, 167, 2), dtype=tf.float32, name='dense_input'), name='dense_input', description=\"created by layer 'dense_input'\"), but it was called on an input with incompatible shape (None, 2).\n"
     ]
    },
    {
     "name": "stderr",
     "output_type": "stream",
     "text": [
      "WARNING:tensorflow:Model was constructed with shape (None, 167, 2) for input KerasTensor(type_spec=TensorSpec(shape=(None, 167, 2), dtype=tf.float32, name='dense_input'), name='dense_input', description=\"created by layer 'dense_input'\"), but it was called on an input with incompatible shape (None, 2).\n"
     ]
    },
    {
     "name": "stdout",
     "output_type": "stream",
     "text": [
      "5/5 [==============================] - 0s 33ms/step - loss: 91270.4062 - rmse: 91270.4062 - mse: 8442930688.0000 - val_loss: 84104.9219 - val_rmse: 84104.9219 - val_mse: 7573076480.0000\n",
      "Epoch 2/500\n",
      "5/5 [==============================] - 0s 6ms/step - loss: 91266.0234 - rmse: 91266.0234 - mse: 8442127872.0000 - val_loss: 84100.6094 - val_rmse: 84100.6094 - val_mse: 7572322304.0000\n",
      "Epoch 3/500\n",
      "5/5 [==============================] - 0s 6ms/step - loss: 91261.4844 - rmse: 91261.4844 - mse: 8441293824.0000 - val_loss: 84096.1953 - val_rmse: 84096.1953 - val_mse: 7571548672.0000\n",
      "Epoch 4/500\n",
      "5/5 [==============================] - 0s 5ms/step - loss: 91256.8516 - rmse: 91256.8516 - mse: 8440449536.0000 - val_loss: 84091.5859 - val_rmse: 84091.5859 - val_mse: 7570740736.0000\n",
      "Epoch 5/500\n",
      "5/5 [==============================] - 0s 5ms/step - loss: 91252.0000 - rmse: 91252.0000 - mse: 8439559680.0000 - val_loss: 84086.7344 - val_rmse: 84086.7344 - val_mse: 7569889792.0000\n",
      "Epoch 6/500\n",
      "5/5 [==============================] - 0s 6ms/step - loss: 91246.8984 - rmse: 91246.8984 - mse: 8438622208.0000 - val_loss: 84081.6172 - val_rmse: 84081.6172 - val_mse: 7568992768.0000\n",
      "Epoch 7/500\n",
      "5/5 [==============================] - 0s 6ms/step - loss: 91241.5000 - rmse: 91241.5000 - mse: 8437634048.0000 - val_loss: 84076.1875 - val_rmse: 84076.1875 - val_mse: 7568041472.0000\n",
      "Epoch 8/500\n",
      "5/5 [==============================] - 0s 6ms/step - loss: 91235.7891 - rmse: 91235.7891 - mse: 8436583424.0000 - val_loss: 84070.4297 - val_rmse: 84070.4297 - val_mse: 7567032320.0000\n",
      "Epoch 9/500\n",
      "5/5 [==============================] - 0s 6ms/step - loss: 91229.7031 - rmse: 91229.7031 - mse: 8435469824.0000 - val_loss: 84064.3047 - val_rmse: 84064.3047 - val_mse: 7565956608.0000\n",
      "Epoch 10/500\n",
      "5/5 [==============================] - 0s 6ms/step - loss: 91223.2344 - rmse: 91223.2344 - mse: 8434279936.0000 - val_loss: 84057.6172 - val_rmse: 84057.6172 - val_mse: 7564785664.0000\n",
      "Epoch 11/500\n",
      "5/5 [==============================] - 0s 6ms/step - loss: 91215.8984 - rmse: 91215.8984 - mse: 8432939008.0000 - val_loss: 84048.7344 - val_rmse: 84048.7344 - val_mse: 7563215872.0000\n",
      "Epoch 12/500\n",
      "5/5 [==============================] - 0s 6ms/step - loss: 91206.1328 - rmse: 91206.1328 - mse: 8431148032.0000 - val_loss: 84037.9453 - val_rmse: 84037.9453 - val_mse: 7561315840.0000\n",
      "Epoch 13/500\n",
      "5/5 [==============================] - 0s 6ms/step - loss: 91194.4531 - rmse: 91194.4531 - mse: 8429002752.0000 - val_loss: 84025.8750 - val_rmse: 84025.8750 - val_mse: 7559203328.0000\n",
      "Epoch 14/500\n",
      "5/5 [==============================] - 0s 6ms/step - loss: 91181.5781 - rmse: 91181.5781 - mse: 8426645504.0000 - val_loss: 84012.7812 - val_rmse: 84012.7812 - val_mse: 7556916224.0000\n",
      "Epoch 15/500\n",
      "5/5 [==============================] - 0s 6ms/step - loss: 91167.6641 - rmse: 91167.6641 - mse: 8424098816.0000 - val_loss: 83998.6875 - val_rmse: 83998.6875 - val_mse: 7554456576.0000\n",
      "Epoch 16/500\n",
      "5/5 [==============================] - 0s 6ms/step - loss: 91152.6797 - rmse: 91152.6797 - mse: 8421347328.0000 - val_loss: 83983.5938 - val_rmse: 83983.5938 - val_mse: 7551819264.0000\n",
      "Epoch 17/500\n",
      "5/5 [==============================] - 0s 6ms/step - loss: 91136.6406 - rmse: 91136.6406 - mse: 8418417664.0000 - val_loss: 83967.4297 - val_rmse: 83967.4297 - val_mse: 7548999168.0000\n",
      "Epoch 18/500\n",
      "5/5 [==============================] - 0s 6ms/step - loss: 91119.3984 - rmse: 91119.3984 - mse: 8415259136.0000 - val_loss: 83950.1016 - val_rmse: 83950.1016 - val_mse: 7545976320.0000\n",
      "Epoch 19/500\n",
      "5/5 [==============================] - 0s 6ms/step - loss: 91100.9922 - rmse: 91100.9922 - mse: 8411893248.0000 - val_loss: 83931.5625 - val_rmse: 83931.5625 - val_mse: 7542742016.0000\n",
      "Epoch 20/500\n",
      "5/5 [==============================] - 0s 6ms/step - loss: 91081.2969 - rmse: 91081.2969 - mse: 8408305152.0000 - val_loss: 83911.6953 - val_rmse: 83911.6953 - val_mse: 7539275776.0000\n",
      "Epoch 21/500\n",
      "5/5 [==============================] - 0s 5ms/step - loss: 91060.2109 - rmse: 91060.2188 - mse: 8404441088.0000 - val_loss: 83889.9453 - val_rmse: 83889.9453 - val_mse: 7535476736.0000\n",
      "Epoch 22/500\n",
      "5/5 [==============================] - 0s 6ms/step - loss: 91037.0469 - rmse: 91037.0469 - mse: 8400203264.0000 - val_loss: 83863.7734 - val_rmse: 83863.7734 - val_mse: 7530878976.0000\n",
      "Epoch 23/500\n",
      "5/5 [==============================] - 0s 6ms/step - loss: 91009.1328 - rmse: 91009.1328 - mse: 8395073024.0000 - val_loss: 83833.5312 - val_rmse: 83833.5312 - val_mse: 7525555200.0000\n",
      "Epoch 24/500\n",
      "5/5 [==============================] - 0s 6ms/step - loss: 90976.6875 - rmse: 90976.6875 - mse: 8389140992.0000 - val_loss: 83800.0938 - val_rmse: 83800.0938 - val_mse: 7519693312.0000\n",
      "Epoch 25/500\n",
      "5/5 [==============================] - 0s 6ms/step - loss: 90940.7656 - rmse: 90940.7656 - mse: 8382562816.0000 - val_loss: 83764.0547 - val_rmse: 83764.0547 - val_mse: 7513408000.0000\n",
      "Epoch 26/500\n",
      "5/5 [==============================] - 0s 6ms/step - loss: 90902.3828 - rmse: 90902.3828 - mse: 8375586304.0000 - val_loss: 83725.2969 - val_rmse: 83725.2969 - val_mse: 7506657280.0000\n",
      "Epoch 27/500\n",
      "5/5 [==============================] - 0s 6ms/step - loss: 90861.2188 - rmse: 90861.2188 - mse: 8368062976.0000 - val_loss: 83684.1406 - val_rmse: 83684.1406 - val_mse: 7499501568.0000\n",
      "Epoch 28/500\n",
      "5/5 [==============================] - 0s 6ms/step - loss: 90817.5312 - rmse: 90817.5312 - mse: 8360071680.0000 - val_loss: 83640.4141 - val_rmse: 83640.4141 - val_mse: 7491903488.0000\n",
      "Epoch 29/500\n",
      "5/5 [==============================] - 0s 6ms/step - loss: 90771.1016 - rmse: 90771.1016 - mse: 8351603200.0000 - val_loss: 83594.0078 - val_rmse: 83594.0078 - val_mse: 7483841536.0000\n",
      "Epoch 30/500\n",
      "5/5 [==============================] - 0s 6ms/step - loss: 90721.8984 - rmse: 90721.8984 - mse: 8342646272.0000 - val_loss: 83544.8516 - val_rmse: 83544.8516 - val_mse: 7475312640.0000\n",
      "Epoch 31/500\n",
      "5/5 [==============================] - 0s 6ms/step - loss: 90669.6875 - rmse: 90669.6875 - mse: 8333131264.0000 - val_loss: 83492.7500 - val_rmse: 83492.7500 - val_mse: 7466278400.0000\n",
      "Epoch 32/500\n",
      "5/5 [==============================] - 0s 5ms/step - loss: 90614.3594 - rmse: 90614.3594 - mse: 8323058176.0000 - val_loss: 83437.5625 - val_rmse: 83437.5625 - val_mse: 7456714752.0000\n",
      "Epoch 33/500\n",
      "5/5 [==============================] - 0s 6ms/step - loss: 90555.8594 - rmse: 90555.8594 - mse: 8312454144.0000 - val_loss: 83379.1719 - val_rmse: 83379.1719 - val_mse: 7446606336.0000\n",
      "Epoch 34/500\n",
      "5/5 [==============================] - 0s 6ms/step - loss: 90493.8750 - rmse: 90493.8750 - mse: 8301165056.0000 - val_loss: 83317.3516 - val_rmse: 83317.3516 - val_mse: 7435909632.0000\n",
      "Epoch 35/500\n",
      "5/5 [==============================] - 0s 6ms/step - loss: 90428.4375 - rmse: 90428.4375 - mse: 8289294848.0000 - val_loss: 83252.0625 - val_rmse: 83252.0625 - val_mse: 7424622592.0000\n",
      "Epoch 36/500\n",
      "5/5 [==============================] - 0s 6ms/step - loss: 90359.1875 - rmse: 90359.1875 - mse: 8276730880.0000 - val_loss: 83183.4141 - val_rmse: 83183.4141 - val_mse: 7412769792.0000\n",
      "Epoch 37/500\n",
      "5/5 [==============================] - 0s 6ms/step - loss: 90286.2734 - rmse: 90286.2734 - mse: 8263431168.0000 - val_loss: 83110.6094 - val_rmse: 83110.6094 - val_mse: 7400204800.0000\n",
      "Epoch 38/500\n",
      "5/5 [==============================] - 0s 5ms/step - loss: 90209.0391 - rmse: 90209.0391 - mse: 8249428992.0000 - val_loss: 83033.6562 - val_rmse: 83033.6562 - val_mse: 7386937344.0000\n",
      "Epoch 39/500\n",
      "5/5 [==============================] - 0s 6ms/step - loss: 90127.2656 - rmse: 90127.2656 - mse: 8234677248.0000 - val_loss: 82952.5703 - val_rmse: 82952.5703 - val_mse: 7372981248.0000\n",
      "Epoch 40/500\n",
      "5/5 [==============================] - 0s 6ms/step - loss: 90041.1484 - rmse: 90041.1484 - mse: 8219112960.0000 - val_loss: 82866.8984 - val_rmse: 82866.8984 - val_mse: 7358242816.0000\n",
      "Epoch 41/500\n",
      "5/5 [==============================] - 0s 5ms/step - loss: 89950.2422 - rmse: 89950.2422 - mse: 8202672640.0000 - val_loss: 82776.5469 - val_rmse: 82776.5469 - val_mse: 7342714880.0000\n",
      "Epoch 42/500\n",
      "5/5 [==============================] - 0s 5ms/step - loss: 89854.4375 - rmse: 89854.4375 - mse: 8185387520.0000 - val_loss: 82681.3906 - val_rmse: 82681.3906 - val_mse: 7326382592.0000\n",
      "Epoch 43/500\n",
      "5/5 [==============================] - 0s 6ms/step - loss: 89753.6172 - rmse: 89753.6172 - mse: 8167160320.0000 - val_loss: 82581.1953 - val_rmse: 82581.1953 - val_mse: 7309216256.0000\n",
      "Epoch 44/500\n",
      "5/5 [==============================] - 0s 6ms/step - loss: 89647.2969 - rmse: 89647.2969 - mse: 8147995648.0000 - val_loss: 82475.8203 - val_rmse: 82475.8203 - val_mse: 7291181056.0000\n",
      "Epoch 45/500\n",
      "5/5 [==============================] - 0s 6ms/step - loss: 89535.2578 - rmse: 89535.2578 - mse: 8127886848.0000 - val_loss: 82364.9688 - val_rmse: 82364.9688 - val_mse: 7272228864.0000\n",
      "Epoch 46/500\n",
      "5/5 [==============================] - 0s 6ms/step - loss: 89417.8438 - rmse: 89417.8438 - mse: 8106800128.0000 - val_loss: 82248.3828 - val_rmse: 82248.3828 - val_mse: 7252322816.0000\n",
      "Epoch 47/500\n",
      "5/5 [==============================] - 0s 6ms/step - loss: 89294.3047 - rmse: 89294.3047 - mse: 8084575232.0000 - val_loss: 82125.9062 - val_rmse: 82125.9062 - val_mse: 7231451136.0000\n",
      "Epoch 48/500\n",
      "5/5 [==============================] - 0s 6ms/step - loss: 89164.3594 - rmse: 89164.3594 - mse: 8061360640.0000 - val_loss: 81997.3125 - val_rmse: 81997.3125 - val_mse: 7209576448.0000\n",
      "Epoch 49/500\n",
      "5/5 [==============================] - 0s 6ms/step - loss: 89027.6406 - rmse: 89027.6406 - mse: 8036909056.0000 - val_loss: 81862.4062 - val_rmse: 81862.4062 - val_mse: 7186674176.0000\n",
      "Epoch 50/500\n",
      "5/5 [==============================] - 0s 6ms/step - loss: 88884.5625 - rmse: 88884.5625 - mse: 8011299840.0000 - val_loss: 81720.6875 - val_rmse: 81720.6875 - val_mse: 7162657280.0000\n",
      "Epoch 51/500\n",
      "5/5 [==============================] - 0s 6ms/step - loss: 88734.1719 - rmse: 88734.1719 - mse: 7984518144.0000 - val_loss: 81571.9375 - val_rmse: 81571.9375 - val_mse: 7137494016.0000\n",
      "Epoch 52/500\n",
      "5/5 [==============================] - 0s 6ms/step - loss: 88576.2812 - rmse: 88576.2812 - mse: 7956447232.0000 - val_loss: 81415.6797 - val_rmse: 81415.6797 - val_mse: 7111091200.0000\n",
      "Epoch 53/500\n",
      "5/5 [==============================] - 0s 6ms/step - loss: 88410.2578 - rmse: 88410.2578 - mse: 7926881280.0000 - val_loss: 81252.0625 - val_rmse: 81252.0625 - val_mse: 7083526656.0000\n",
      "Epoch 54/500\n",
      "5/5 [==============================] - 0s 6ms/step - loss: 88236.3125 - rmse: 88236.3125 - mse: 7896011264.0000 - val_loss: 81080.5859 - val_rmse: 81080.5859 - val_mse: 7054709760.0000\n",
      "Epoch 55/500\n",
      "5/5 [==============================] - 0s 6ms/step - loss: 88054.1406 - rmse: 88054.1406 - mse: 7863719424.0000 - val_loss: 80900.4922 - val_rmse: 80900.4922 - val_mse: 7024484864.0000\n",
      "Epoch 56/500\n",
      "5/5 [==============================] - 0s 5ms/step - loss: 87862.9141 - rmse: 87862.9141 - mse: 7830071808.0000 - val_loss: 80711.7812 - val_rmse: 80711.7812 - val_mse: 6992890368.0000\n",
      "Epoch 57/500\n",
      "5/5 [==============================] - 0s 5ms/step - loss: 87662.6641 - rmse: 87662.6641 - mse: 7794739712.0000 - val_loss: 80514.0859 - val_rmse: 80514.0859 - val_mse: 6959884800.0000\n",
      "Epoch 58/500\n",
      "5/5 [==============================] - 0s 6ms/step - loss: 87452.6797 - rmse: 87452.6797 - mse: 7757898752.0000 - val_loss: 80307.1875 - val_rmse: 80307.1875 - val_mse: 6925452800.0000\n",
      "Epoch 59/500\n",
      "5/5 [==============================] - 0s 6ms/step - loss: 87232.5078 - rmse: 87232.5078 - mse: 7719242240.0000 - val_loss: 80090.4062 - val_rmse: 80090.4062 - val_mse: 6889441280.0000\n",
      "Epoch 60/500\n",
      "5/5 [==============================] - 0s 6ms/step - loss: 87002.6406 - rmse: 87002.6406 - mse: 7679078400.0000 - val_loss: 79863.4766 - val_rmse: 79863.4766 - val_mse: 6851865088.0000\n",
      "Epoch 61/500\n",
      "5/5 [==============================] - 0s 6ms/step - loss: 86761.2812 - rmse: 86761.2812 - mse: 7636851200.0000 - val_loss: 79626.3594 - val_rmse: 79626.3594 - val_mse: 6812731392.0000\n",
      "Epoch 62/500\n",
      "5/5 [==============================] - 0s 6ms/step - loss: 86509.3438 - rmse: 86509.3438 - mse: 7593015296.0000 - val_loss: 79378.3281 - val_rmse: 79378.3281 - val_mse: 6771913728.0000\n",
      "Epoch 63/500\n",
      "5/5 [==============================] - 0s 5ms/step - loss: 86246.0703 - rmse: 86246.0703 - mse: 7547486208.0000 - val_loss: 79119.0703 - val_rmse: 79119.0703 - val_mse: 6729381888.0000\n",
      "Epoch 64/500\n",
      "5/5 [==============================] - 0s 6ms/step - loss: 85971.0156 - rmse: 85971.0156 - mse: 7500126720.0000 - val_loss: 78848.2734 - val_rmse: 78848.2734 - val_mse: 6685088768.0000\n",
      "Epoch 65/500\n",
      "5/5 [==============================] - 0s 6ms/step - loss: 85684.0078 - rmse: 85684.0078 - mse: 7450576896.0000 - val_loss: 78566.7344 - val_rmse: 78566.7344 - val_mse: 6639228416.0000\n",
      "Epoch 66/500\n",
      "5/5 [==============================] - 0s 6ms/step - loss: 85384.7891 - rmse: 85384.7891 - mse: 7399230464.0000 - val_loss: 78274.8594 - val_rmse: 78274.8594 - val_mse: 6591886848.0000\n",
      "Epoch 67/500\n",
      "5/5 [==============================] - 0s 6ms/step - loss: 85074.5234 - rmse: 85074.5234 - mse: 7345920000.0000 - val_loss: 77969.0547 - val_rmse: 77969.0547 - val_mse: 6542468608.0000\n",
      "Epoch 68/500\n",
      "5/5 [==============================] - 0s 6ms/step - loss: 84749.6250 - rmse: 84749.6250 - mse: 7290691072.0000 - val_loss: 77649.8594 - val_rmse: 77649.8594 - val_mse: 6491057152.0000\n",
      "Epoch 69/500\n",
      "5/5 [==============================] - 0s 5ms/step - loss: 84410.4922 - rmse: 84410.4922 - mse: 7233096704.0000 - val_loss: 77318.6875 - val_rmse: 77318.6875 - val_mse: 6437942784.0000\n",
      "Epoch 70/500\n",
      "5/5 [==============================] - 0s 6ms/step - loss: 84059.0078 - rmse: 84059.0078 - mse: 7173771264.0000 - val_loss: 76972.4219 - val_rmse: 76972.4219 - val_mse: 6382642176.0000\n",
      "Epoch 71/500\n",
      "5/5 [==============================] - 0s 6ms/step - loss: 83690.8516 - rmse: 83690.8516 - mse: 7111736832.0000 - val_loss: 76611.6797 - val_rmse: 76611.6797 - val_mse: 6325316096.0000\n",
      "Epoch 72/500\n",
      "5/5 [==============================] - 0s 6ms/step - loss: 83308.0938 - rmse: 83308.0938 - mse: 7047708672.0000 - val_loss: 76236.2422 - val_rmse: 76236.2422 - val_mse: 6265996800.0000\n",
      "Epoch 73/500\n",
      "5/5 [==============================] - 0s 6ms/step - loss: 82907.8906 - rmse: 82907.8906 - mse: 6980821504.0000 - val_loss: 75845.8047 - val_rmse: 75845.8047 - val_mse: 6204573184.0000\n",
      "Epoch 74/500\n",
      "5/5 [==============================] - 0s 6ms/step - loss: 82494.0469 - rmse: 82494.0469 - mse: 6912147456.0000 - val_loss: 75439.4844 - val_rmse: 75439.4844 - val_mse: 6140965888.0000\n",
      "Epoch 75/500\n",
      "5/5 [==============================] - 0s 6ms/step - loss: 82061.9297 - rmse: 82061.9297 - mse: 6840966144.0000 - val_loss: 75017.7188 - val_rmse: 75017.7188 - val_mse: 6075272192.0000\n",
      "Epoch 76/500\n",
      "5/5 [==============================] - 0s 6ms/step - loss: 81615.3516 - rmse: 81615.3516 - mse: 6767377408.0000 - val_loss: 74580.5469 - val_rmse: 74580.5469 - val_mse: 6007603200.0000\n",
      "Epoch 77/500\n",
      "5/5 [==============================] - 0s 5ms/step - loss: 81150.8438 - rmse: 81150.8438 - mse: 6691413504.0000 - val_loss: 74127.6406 - val_rmse: 74127.6406 - val_mse: 5937993216.0000\n",
      "Epoch 78/500\n",
      "5/5 [==============================] - 0s 6ms/step - loss: 80669.3359 - rmse: 80669.3359 - mse: 6613095424.0000 - val_loss: 73657.1953 - val_rmse: 73657.1953 - val_mse: 5866135040.0000\n",
      "Epoch 79/500\n",
      "5/5 [==============================] - 0s 6ms/step - loss: 80168.9922 - rmse: 80168.9922 - mse: 6532531200.0000 - val_loss: 73168.8125 - val_rmse: 73168.8125 - val_mse: 5791959552.0000\n",
      "Epoch 80/500\n",
      "5/5 [==============================] - 0s 6ms/step - loss: 79650.8750 - rmse: 79650.8750 - mse: 6449443840.0000 - val_loss: 72662.2266 - val_rmse: 72662.2266 - val_mse: 5715514368.0000\n",
      "Epoch 81/500\n",
      "5/5 [==============================] - 0s 6ms/step - loss: 79112.2500 - rmse: 79112.2500 - mse: 6363250176.0000 - val_loss: 72137.6172 - val_rmse: 72137.6172 - val_mse: 5636900352.0000\n",
      "Epoch 82/500\n",
      "5/5 [==============================] - 0s 6ms/step - loss: 78555.8906 - rmse: 78555.8906 - mse: 6275580928.0000 - val_loss: 71594.0156 - val_rmse: 71594.0156 - val_mse: 5556026880.0000\n",
      "Epoch 83/500\n",
      "5/5 [==============================] - 0s 6ms/step - loss: 77979.6719 - rmse: 77979.6719 - mse: 6184885760.0000 - val_loss: 71031.3359 - val_rmse: 71031.3359 - val_mse: 5472969728.0000\n",
      "Epoch 84/500\n",
      "5/5 [==============================] - 0s 6ms/step - loss: 77381.9531 - rmse: 77381.9531 - mse: 6091528704.0000 - val_loss: 70449.4375 - val_rmse: 70449.4375 - val_mse: 5387774976.0000\n",
      "Epoch 85/500\n",
      "5/5 [==============================] - 0s 6ms/step - loss: 76765.3047 - rmse: 76765.3047 - mse: 5996069888.0000 - val_loss: 69847.5312 - val_rmse: 69847.5312 - val_mse: 5300459008.0000\n",
      "Epoch 86/500\n",
      "5/5 [==============================] - 0s 5ms/step - loss: 76125.1953 - rmse: 76125.1953 - mse: 5897977856.0000 - val_loss: 69225.7031 - val_rmse: 69225.7031 - val_mse: 5211055104.0000\n",
      "Epoch 87/500\n",
      "5/5 [==============================] - 0s 6ms/step - loss: 75464.6562 - rmse: 75464.6562 - mse: 5797682688.0000 - val_loss: 68582.8125 - val_rmse: 68582.8125 - val_mse: 5119414784.0000\n",
      "Epoch 88/500\n",
      "5/5 [==============================] - 0s 6ms/step - loss: 74781.7344 - rmse: 74781.7344 - mse: 5694246400.0000 - val_loss: 67919.0938 - val_rmse: 67919.0938 - val_mse: 5025730560.0000\n",
      "Epoch 89/500\n",
      "5/5 [==============================] - 0s 6ms/step - loss: 74078.5469 - rmse: 74078.5469 - mse: 5589375488.0000 - val_loss: 67234.0234 - val_rmse: 67234.0234 - val_mse: 4929973248.0000\n",
      "Epoch 90/500\n",
      "5/5 [==============================] - 0s 6ms/step - loss: 73351.4922 - rmse: 73351.4922 - mse: 5482094592.0000 - val_loss: 66530.2812 - val_rmse: 66530.2812 - val_mse: 4832590848.0000\n",
      "Epoch 91/500\n",
      "5/5 [==============================] - 0s 6ms/step - loss: 72603.7188 - rmse: 72603.7188 - mse: 5372931072.0000 - val_loss: 65801.8125 - val_rmse: 65801.8125 - val_mse: 4732879872.0000\n",
      "Epoch 92/500\n",
      "5/5 [==============================] - 0s 6ms/step - loss: 71828.7656 - rmse: 71828.7656 - mse: 5259860480.0000 - val_loss: 65050.1914 - val_rmse: 65050.1914 - val_mse: 4631239168.0000\n",
      "Epoch 93/500\n",
      "5/5 [==============================] - 0s 6ms/step - loss: 71029.8750 - rmse: 71029.8750 - mse: 5145775104.0000 - val_loss: 64315.6680 - val_rmse: 64315.6680 - val_mse: 4527455744.0000\n",
      "Epoch 94/500\n",
      "5/5 [==============================] - 0s 6ms/step - loss: 70204.2578 - rmse: 70204.2578 - mse: 5028123136.0000 - val_loss: 63567.8086 - val_rmse: 63567.8086 - val_mse: 4421778432.0000\n",
      "Epoch 95/500\n",
      "5/5 [==============================] - 0s 6ms/step - loss: 69352.7734 - rmse: 69352.7734 - mse: 4909415424.0000 - val_loss: 62797.0820 - val_rmse: 62797.0820 - val_mse: 4314236928.0000\n",
      "Epoch 96/500\n",
      "5/5 [==============================] - 0s 6ms/step - loss: 68475.3984 - rmse: 68475.3984 - mse: 4787710464.0000 - val_loss: 62002.0078 - val_rmse: 62002.0078 - val_mse: 4204710144.0000\n",
      "Epoch 97/500\n",
      "5/5 [==============================] - 0s 6ms/step - loss: 67580.5391 - rmse: 67580.5391 - mse: 4664240128.0000 - val_loss: 61186.8711 - val_rmse: 61186.8711 - val_mse: 4093965568.0000\n",
      "Epoch 98/500\n",
      "5/5 [==============================] - 0s 6ms/step - loss: 66671.9531 - rmse: 66671.9531 - mse: 4539558912.0000 - val_loss: 60353.1758 - val_rmse: 60353.1758 - val_mse: 3982312448.0000\n",
      "Epoch 99/500\n",
      "5/5 [==============================] - 0s 6ms/step - loss: 65760.1016 - rmse: 65760.1016 - mse: 4414402560.0000 - val_loss: 59496.3242 - val_rmse: 59496.3242 - val_mse: 3869271040.0000\n",
      "Epoch 100/500\n",
      "5/5 [==============================] - 0s 6ms/step - loss: 64815.7383 - rmse: 64815.7383 - mse: 4287015168.0000 - val_loss: 58615.9219 - val_rmse: 58615.9219 - val_mse: 3754857984.0000\n",
      "Epoch 101/500\n",
      "5/5 [==============================] - 0s 6ms/step - loss: 63840.7383 - rmse: 63840.7383 - mse: 4158379520.0000 - val_loss: 57713.2617 - val_rmse: 57713.2617 - val_mse: 3639429120.0000\n",
      "Epoch 102/500\n",
      "5/5 [==============================] - 0s 6ms/step - loss: 62847.2812 - rmse: 62847.2812 - mse: 4028187136.0000 - val_loss: 56784.9570 - val_rmse: 56784.9570 - val_mse: 3522729728.0000\n",
      "Epoch 103/500\n",
      "5/5 [==============================] - 0s 6ms/step - loss: 61827.1172 - rmse: 61827.1172 - mse: 3896628480.0000 - val_loss: 55830.5156 - val_rmse: 55830.5156 - val_mse: 3404878848.0000\n",
      "Epoch 104/500\n",
      "5/5 [==============================] - 0s 6ms/step - loss: 60784.9102 - rmse: 60784.9102 - mse: 3764359680.0000 - val_loss: 54845.3750 - val_rmse: 54845.3750 - val_mse: 3285406208.0000\n",
      "Epoch 105/500\n",
      "5/5 [==============================] - 0s 6ms/step - loss: 59687.1836 - rmse: 59687.1836 - mse: 3628910336.0000 - val_loss: 53839.0508 - val_rmse: 53839.0508 - val_mse: 3165718016.0000\n",
      "Epoch 106/500\n",
      "5/5 [==============================] - 0s 5ms/step - loss: 58584.2422 - rmse: 58584.2422 - mse: 3494858752.0000 - val_loss: 52802.6094 - val_rmse: 52802.6094 - val_mse: 3044928512.0000\n",
      "Epoch 107/500\n",
      "5/5 [==============================] - 0s 6ms/step - loss: 57441.3008 - rmse: 57441.3008 - mse: 3358196992.0000 - val_loss: 51738.1055 - val_rmse: 51738.1055 - val_mse: 2923465472.0000\n",
      "Epoch 108/500\n",
      "5/5 [==============================] - 0s 6ms/step - loss: 56280.2031 - rmse: 56280.2031 - mse: 3222247424.0000 - val_loss: 50643.2148 - val_rmse: 50643.2148 - val_mse: 2801384960.0000\n",
      "Epoch 109/500\n",
      "5/5 [==============================] - 0s 6ms/step - loss: 55066.8516 - rmse: 55066.8516 - mse: 3083600128.0000 - val_loss: 49521.6758 - val_rmse: 49521.6758 - val_mse: 2679193600.0000\n",
      "Epoch 110/500\n",
      "5/5 [==============================] - 0s 6ms/step - loss: 53827.7031 - rmse: 53827.7031 - mse: 2945223936.0000 - val_loss: 48371.9336 - val_rmse: 48371.9336 - val_mse: 2557007616.0000\n",
      "Epoch 111/500\n",
      "5/5 [==============================] - 0s 6ms/step - loss: 52566.8320 - rmse: 52566.8320 - mse: 2807101952.0000 - val_loss: 47188.9688 - val_rmse: 47188.9688 - val_mse: 2434483456.0000\n",
      "Epoch 112/500\n",
      "5/5 [==============================] - 0s 6ms/step - loss: 51251.8945 - rmse: 51251.8945 - mse: 2667904000.0000 - val_loss: 45979.1367 - val_rmse: 45979.1367 - val_mse: 2312526592.0000\n",
      "Epoch 113/500\n",
      "5/5 [==============================] - 0s 6ms/step - loss: 49935.9375 - rmse: 49935.9375 - mse: 2531313408.0000 - val_loss: 44733.0859 - val_rmse: 44733.0859 - val_mse: 2190564864.0000\n",
      "Epoch 114/500\n",
      "5/5 [==============================] - 0s 5ms/step - loss: 48563.7031 - rmse: 48563.7031 - mse: 2392648448.0000 - val_loss: 43456.6836 - val_rmse: 43456.6836 - val_mse: 2069388288.0000\n",
      "Epoch 115/500\n",
      "5/5 [==============================] - 0s 6ms/step - loss: 47150.2578 - rmse: 47150.2578 - mse: 2254884096.0000 - val_loss: 42151.2656 - val_rmse: 42151.2656 - val_mse: 1949396224.0000\n",
      "Epoch 116/500\n",
      "5/5 [==============================] - 0s 6ms/step - loss: 45713.7070 - rmse: 45713.7070 - mse: 2119038592.0000 - val_loss: 40812.6875 - val_rmse: 40812.6875 - val_mse: 1830558720.0000\n",
      "Epoch 117/500\n",
      "5/5 [==============================] - 0s 6ms/step - loss: 44239.9336 - rmse: 44239.9336 - mse: 1983848448.0000 - val_loss: 39448.7344 - val_rmse: 39448.7344 - val_mse: 1713147648.0000\n",
      "Epoch 118/500\n",
      "5/5 [==============================] - 0s 5ms/step - loss: 42743.0078 - rmse: 42743.0078 - mse: 1850892928.0000 - val_loss: 38144.0547 - val_rmse: 38144.0547 - val_mse: 1597434240.0000\n",
      "Epoch 119/500\n",
      "5/5 [==============================] - 0s 6ms/step - loss: 41206.9844 - rmse: 41206.9844 - mse: 1718778752.0000 - val_loss: 36847.9883 - val_rmse: 36847.9883 - val_mse: 1483834752.0000\n",
      "Epoch 120/500\n",
      "5/5 [==============================] - 0s 6ms/step - loss: 39627.1992 - rmse: 39627.1992 - mse: 1588641408.0000 - val_loss: 35522.4297 - val_rmse: 35522.4297 - val_mse: 1372729984.0000\n",
      "Epoch 121/500\n",
      "5/5 [==============================] - 0s 6ms/step - loss: 38029.4883 - rmse: 38029.4883 - mse: 1462120192.0000 - val_loss: 34160.6758 - val_rmse: 34160.6758 - val_mse: 1263905408.0000\n",
      "Epoch 122/500\n",
      "5/5 [==============================] - 0s 6ms/step - loss: 36387.7461 - rmse: 36387.7461 - mse: 1338068736.0000 - val_loss: 32772.1562 - val_rmse: 32772.1562 - val_mse: 1158295040.0000\n",
      "Epoch 123/500\n",
      "5/5 [==============================] - 0s 5ms/step - loss: 34707.8711 - rmse: 34707.8711 - mse: 1217325696.0000 - val_loss: 31352.5215 - val_rmse: 31352.5215 - val_mse: 1056020480.0000\n",
      "Epoch 124/500\n",
      "5/5 [==============================] - 0s 6ms/step - loss: 33012.5430 - rmse: 33012.5430 - mse: 1101305600.0000 - val_loss: 29898.5117 - val_rmse: 29898.5117 - val_mse: 957357184.0000\n",
      "Epoch 125/500\n",
      "5/5 [==============================] - 0s 6ms/step - loss: 31243.9141 - rmse: 31243.9141 - mse: 986580736.0000 - val_loss: 28442.2793 - val_rmse: 28442.2793 - val_mse: 864696704.0000\n",
      "Epoch 126/500\n",
      "5/5 [==============================] - 0s 6ms/step - loss: 29496.6328 - rmse: 29496.6328 - mse: 880484544.0000 - val_loss: 26930.8262 - val_rmse: 26930.8262 - val_mse: 774913088.0000\n",
      "Epoch 127/500\n",
      "5/5 [==============================] - 0s 6ms/step - loss: 27681.4629 - rmse: 27681.4629 - mse: 776962816.0000 - val_loss: 25379.1895 - val_rmse: 25379.1895 - val_mse: 689477248.0000\n",
      "Epoch 128/500\n",
      "5/5 [==============================] - 0s 6ms/step - loss: 25803.1445 - rmse: 25803.1445 - mse: 677323840.0000 - val_loss: 23789.0371 - val_rmse: 23789.0371 - val_mse: 609054656.0000\n",
      "Epoch 129/500\n",
      "5/5 [==============================] - 0s 6ms/step - loss: 23901.4531 - rmse: 23901.4531 - mse: 584148096.0000 - val_loss: 22158.0410 - val_rmse: 22158.0410 - val_mse: 534059616.0000\n",
      "Epoch 130/500\n",
      "5/5 [==============================] - 0s 6ms/step - loss: 21948.4453 - rmse: 21948.4453 - mse: 497074112.0000 - val_loss: 20486.4629 - val_rmse: 20486.4629 - val_mse: 465083232.0000\n",
      "Epoch 131/500\n",
      "5/5 [==============================] - 0s 6ms/step - loss: 19947.9746 - rmse: 19947.9746 - mse: 416057440.0000 - val_loss: 18787.6543 - val_rmse: 18787.6543 - val_mse: 403179744.0000\n",
      "Epoch 132/500\n",
      "5/5 [==============================] - 0s 6ms/step - loss: 17885.1348 - rmse: 17885.1348 - mse: 341101376.0000 - val_loss: 17079.1738 - val_rmse: 17079.1738 - val_mse: 349208512.0000\n",
      "Epoch 133/500\n",
      "5/5 [==============================] - 0s 6ms/step - loss: 15819.2158 - rmse: 15819.2158 - mse: 275507584.0000 - val_loss: 15323.9922 - val_rmse: 15323.9922 - val_mse: 302505248.0000\n",
      "Epoch 134/500\n",
      "5/5 [==============================] - 0s 6ms/step - loss: 13715.3926 - rmse: 13715.3926 - mse: 219011824.0000 - val_loss: 13513.0645 - val_rmse: 13513.0645 - val_mse: 263501584.0000\n",
      "Epoch 135/500\n",
      "5/5 [==============================] - 0s 6ms/step - loss: 11546.2979 - rmse: 11546.2979 - mse: 169689824.0000 - val_loss: 11662.2373 - val_rmse: 11662.2373 - val_mse: 233213952.0000\n",
      "Epoch 136/500\n",
      "5/5 [==============================] - 0s 5ms/step - loss: 9351.2842 - rmse: 9351.2842 - mse: 128840552.0000 - val_loss: 9777.0312 - val_rmse: 9777.0312 - val_mse: 212309888.0000\n",
      "Epoch 137/500\n",
      "5/5 [==============================] - 0s 5ms/step - loss: 7270.4438 - rmse: 7270.4438 - mse: 100457536.0000 - val_loss: 7884.6914 - val_rmse: 7884.6914 - val_mse: 201533264.0000\n",
      "Epoch 138/500\n",
      "5/5 [==============================] - 0s 6ms/step - loss: 5194.0835 - rmse: 5194.0835 - mse: 82605112.0000 - val_loss: 6220.4219 - val_rmse: 6220.4219 - val_mse: 200777872.0000\n",
      "Epoch 139/500\n",
      "5/5 [==============================] - 0s 6ms/step - loss: 3562.9441 - rmse: 3562.9441 - mse: 73618128.0000 - val_loss: 5635.6641 - val_rmse: 5635.6641 - val_mse: 208403232.0000\n",
      "Epoch 140/500\n",
      "5/5 [==============================] - 0s 6ms/step - loss: 2932.0793 - rmse: 2932.0793 - mse: 75598096.0000 - val_loss: 5714.6992 - val_rmse: 5714.6992 - val_mse: 216689808.0000\n",
      "Epoch 141/500\n",
      "5/5 [==============================] - 0s 6ms/step - loss: 2916.5718 - rmse: 2916.5718 - mse: 79233048.0000 - val_loss: 5750.4106 - val_rmse: 5750.4106 - val_mse: 218994912.0000\n",
      "Epoch 142/500\n",
      "5/5 [==============================] - 0s 6ms/step - loss: 2899.8003 - rmse: 2899.8003 - mse: 79208464.0000 - val_loss: 5660.1284 - val_rmse: 5660.1284 - val_mse: 214711552.0000\n",
      "Epoch 143/500\n",
      "5/5 [==============================] - 0s 6ms/step - loss: 2759.4814 - rmse: 2759.4814 - mse: 76837424.0000 - val_loss: 5599.9712 - val_rmse: 5599.9712 - val_mse: 210320048.0000\n",
      "Epoch 144/500\n",
      "5/5 [==============================] - 0s 6ms/step - loss: 2711.4500 - rmse: 2711.4500 - mse: 74908784.0000 - val_loss: 5543.0054 - val_rmse: 5543.0054 - val_mse: 206451264.0000\n",
      "Epoch 145/500\n",
      "5/5 [==============================] - 0s 6ms/step - loss: 2669.8044 - rmse: 2669.8044 - mse: 73849536.0000 - val_loss: 5495.1147 - val_rmse: 5495.1147 - val_mse: 203599264.0000\n",
      "Epoch 146/500\n",
      "5/5 [==============================] - 0s 6ms/step - loss: 2648.0400 - rmse: 2648.0400 - mse: 72807328.0000 - val_loss: 5468.1206 - val_rmse: 5468.1206 - val_mse: 202581904.0000\n",
      "Epoch 147/500\n",
      "5/5 [==============================] - 0s 6ms/step - loss: 2591.2510 - rmse: 2591.2510 - mse: 72797200.0000 - val_loss: 5459.3491 - val_rmse: 5459.3491 - val_mse: 203262736.0000\n",
      "Epoch 148/500\n",
      "5/5 [==============================] - 0s 6ms/step - loss: 2527.4949 - rmse: 2527.4949 - mse: 73015736.0000 - val_loss: 5440.1147 - val_rmse: 5440.1147 - val_mse: 202949504.0000\n",
      "Epoch 149/500\n",
      "5/5 [==============================] - 0s 5ms/step - loss: 2485.0564 - rmse: 2485.0564 - mse: 72954480.0000 - val_loss: 5418.5225 - val_rmse: 5418.5225 - val_mse: 202403808.0000\n",
      "Epoch 150/500\n",
      "5/5 [==============================] - 0s 6ms/step - loss: 2441.3301 - rmse: 2441.3301 - mse: 72828496.0000 - val_loss: 5398.5898 - val_rmse: 5398.5898 - val_mse: 202064640.0000\n",
      "Epoch 151/500\n",
      "5/5 [==============================] - 0s 6ms/step - loss: 2402.4265 - rmse: 2402.4265 - mse: 73065312.0000 - val_loss: 5389.3447 - val_rmse: 5389.3447 - val_mse: 202958016.0000\n",
      "Epoch 152/500\n",
      "5/5 [==============================] - 0s 6ms/step - loss: 2368.3845 - rmse: 2368.3845 - mse: 73606672.0000 - val_loss: 5371.7915 - val_rmse: 5371.7915 - val_mse: 202920368.0000\n",
      "Epoch 153/500\n",
      "5/5 [==============================] - 0s 6ms/step - loss: 2315.8821 - rmse: 2315.8821 - mse: 73025496.0000 - val_loss: 5334.7490 - val_rmse: 5334.7490 - val_mse: 200454464.0000\n",
      "Epoch 154/500\n",
      "5/5 [==============================] - 0s 6ms/step - loss: 2282.0757 - rmse: 2282.0757 - mse: 72290480.0000 - val_loss: 5309.3315 - val_rmse: 5309.3315 - val_mse: 199350848.0000\n",
      "Epoch 155/500\n",
      "5/5 [==============================] - 0s 5ms/step - loss: 2244.7363 - rmse: 2244.7363 - mse: 72242256.0000 - val_loss: 5298.0962 - val_rmse: 5298.0962 - val_mse: 199809152.0000\n",
      "Epoch 156/500\n",
      "5/5 [==============================] - 0s 6ms/step - loss: 2213.1697 - rmse: 2213.1697 - mse: 72399832.0000 - val_loss: 5276.1938 - val_rmse: 5276.1938 - val_mse: 198962560.0000\n",
      "Epoch 157/500\n",
      "5/5 [==============================] - 0s 5ms/step - loss: 2188.8181 - rmse: 2188.8181 - mse: 72150432.0000 - val_loss: 5265.4414 - val_rmse: 5265.4414 - val_mse: 197876848.0000\n",
      "Epoch 158/500\n",
      "5/5 [==============================] - 0s 6ms/step - loss: 2182.3530 - rmse: 2182.3530 - mse: 71823984.0000 - val_loss: 5307.4438 - val_rmse: 5307.4438 - val_mse: 198559952.0000\n",
      "Epoch 159/500\n",
      "5/5 [==============================] - 0s 6ms/step - loss: 2176.5935 - rmse: 2176.5935 - mse: 72047944.0000 - val_loss: 5270.2915 - val_rmse: 5270.2915 - val_mse: 197673936.0000\n",
      "Epoch 160/500\n",
      "5/5 [==============================] - 0s 6ms/step - loss: 2173.9028 - rmse: 2173.9028 - mse: 71661264.0000 - val_loss: 5266.0654 - val_rmse: 5266.0654 - val_mse: 197358592.0000\n",
      "Epoch 161/500\n",
      "5/5 [==============================] - 0s 6ms/step - loss: 2173.9631 - rmse: 2173.9631 - mse: 71705480.0000 - val_loss: 5249.7183 - val_rmse: 5249.7183 - val_mse: 196579424.0000\n",
      "Epoch 162/500\n",
      "5/5 [==============================] - 0s 6ms/step - loss: 2207.4810 - rmse: 2207.4810 - mse: 71229504.0000 - val_loss: 5280.4302 - val_rmse: 5280.4302 - val_mse: 197215088.0000\n",
      "Epoch 163/500\n",
      "5/5 [==============================] - 0s 5ms/step - loss: 2187.0850 - rmse: 2187.0850 - mse: 71798952.0000 - val_loss: 5254.4346 - val_rmse: 5254.4346 - val_mse: 196856256.0000\n",
      "Epoch 164/500\n",
      "5/5 [==============================] - 0s 6ms/step - loss: 2183.8088 - rmse: 2183.8088 - mse: 71415176.0000 - val_loss: 5264.1987 - val_rmse: 5264.1987 - val_mse: 197206464.0000\n",
      "Epoch 165/500\n",
      "5/5 [==============================] - 0s 6ms/step - loss: 2182.1223 - rmse: 2182.1223 - mse: 71870664.0000 - val_loss: 5283.4937 - val_rmse: 5283.4937 - val_mse: 197656752.0000\n",
      "Epoch 166/500\n",
      "5/5 [==============================] - 0s 6ms/step - loss: 2171.6187 - rmse: 2171.6187 - mse: 71785520.0000 - val_loss: 5271.3833 - val_rmse: 5271.3833 - val_mse: 197515056.0000\n",
      "Epoch 167/500\n",
      "5/5 [==============================] - 0s 6ms/step - loss: 2172.5657 - rmse: 2172.5657 - mse: 71712664.0000 - val_loss: 5264.3638 - val_rmse: 5264.3638 - val_mse: 197441440.0000\n",
      "Epoch 168/500\n",
      "5/5 [==============================] - 0s 6ms/step - loss: 2173.9766 - rmse: 2173.9766 - mse: 71631936.0000 - val_loss: 5263.1353 - val_rmse: 5263.1353 - val_mse: 197467328.0000\n",
      "Epoch 169/500\n",
      "5/5 [==============================] - 0s 6ms/step - loss: 2172.7810 - rmse: 2172.7810 - mse: 71795072.0000 - val_loss: 5290.0884 - val_rmse: 5290.0884 - val_mse: 197931968.0000\n"
     ]
    }
   ],
   "source": [
    "EPOCHS = 500\n",
    "BATCH_SIZE = 32\n",
    "\n",
    "history = model.fit(train_x, train_y, epochs=EPOCHS, batch_size = BATCH_SIZE, validation_split=0.2, verbose=1, callbacks=earlystopping)"
   ]
  },
  {
   "cell_type": "code",
   "execution_count": 89,
   "id": "835ef3cb-9cbc-4e29-b3fc-1f376effdae3",
   "metadata": {
    "tags": []
   },
   "outputs": [
    {
     "data": {
      "image/png": "[encoded data removed]",
      "text/plain": [
       "<Figure size 1080x360 with 1 Axes>"
      ]
     },
     "metadata": {
      "needs_background": "light"
     },
     "output_type": "display_data"
    },
    {
     "data": {
      "image/png": "[encoded data removed]",
      "text/plain": [
       "<Figure size 1080x360 with 1 Axes>"
      ]
     },
     "metadata": {
      "needs_background": "light"
     },
     "output_type": "display_data"
    },
    {
     "data": {
      "image/png": "[encoded data removed]",
      "text/plain": [
       "<Figure size 1080x360 with 1 Axes>"
      ]
     },
     "metadata": {
      "needs_background": "light"
     },
     "output_type": "display_data"
    }
   ],
   "source": [
    "# 6 훈련 과정 시각화 (정확도)\n",
    "plt.figure(figsize = (15,5))\n",
    "plt.plot(history.history['mse'])\n",
    "plt.plot(history.history['val_mse'])\n",
    "plt.title('Model mse')\n",
    "plt.xlabel('Epoch')\n",
    "plt.ylabel('mse')\n",
    "plt.legend(['Train', 'Test'], loc='upper left')\n",
    "plt.show()\n",
    "\n",
    "plt.figure(figsize = (15,5))\n",
    "plt.plot(history.history['loss'])\n",
    "plt.plot(history.history['val_loss'])\n",
    "plt.title('Model loss')\n",
    "plt.xlabel('Epoch')\n",
    "plt.ylabel('Loss')\n",
    "plt.legend(['Train', 'Test'], loc='upper left')\n",
    "plt.show()\n",
    "\n",
    "plt.figure(figsize = (15,5))\n",
    "plt.plot(history.history['rmse'])\n",
    "plt.plot(history.history['val_rmse'])\n",
    "plt.title('Model rmse')\n",
    "plt.xlabel('Epoch')\n",
    "plt.ylabel('rmse')\n",
    "plt.legend(['Train', 'Test'], loc='upper left')\n",
    "plt.show()"
   ]
  },
  {
   "cell_type": "code",
   "execution_count": 90,
   "id": "b89066b9-b39d-4c90-92a2-7f8c0f14e9f9",
   "metadata": {},
   "outputs": [
    {
     "name": "stdout",
     "output_type": "stream",
     "text": [
      "TRAIN\n",
      "WARNING:tensorflow:Model was constructed with shape (None, 167, 2) for input KerasTensor(type_spec=TensorSpec(shape=(None, 167, 2), dtype=tf.float32, name='dense_input'), name='dense_input', description=\"created by layer 'dense_input'\"), but it was called on an input with incompatible shape (None, 2).\n"
     ]
    },
    {
     "name": "stderr",
     "output_type": "stream",
     "text": [
      "WARNING:tensorflow:Model was constructed with shape (None, 167, 2) for input KerasTensor(type_spec=TensorSpec(shape=(None, 167, 2), dtype=tf.float32, name='dense_input'), name='dense_input', description=\"created by layer 'dense_input'\"), but it was called on an input with incompatible shape (None, 2).\n"
     ]
    },
    {
     "name": "stdout",
     "output_type": "stream",
     "text": [
      "0.5119473404307282\n",
      "9876.675681972669\n",
      "TEST\n",
      "0.07736803606951137\n",
      "10178.813304696989\n"
     ]
    }
   ],
   "source": [
    "print(\"TRAIN\")\n",
    "print(r2_score(train_y, model.predict(train_x)))\n",
    "print(mean_squared_error(train_y, model.predict(train_x))**0.5)\n",
    "print(\"TEST\")\n",
    "print(r2_score(test_y, model.predict(test_x)))\n",
    "print(mean_squared_error(test_y, model.predict(test_x))**0.5)"
   ]
  },
  {
   "cell_type": "code",
   "execution_count": null,
   "id": "2f536d6c-4130-45e5-9f46-a1dc39e8a9f3",
   "metadata": {},
   "outputs": [],
   "source": []
  }
 ],
 "metadata": {
  "instance_type": "ml.g4dn.2xlarge",
  "kernelspec": {
   "display_name": "Python 3 (TensorFlow 2.6 Python 3.8 GPU Optimized)",
   "language": "python",
   "name": "python3__SAGEMAKER_INTERNAL__arn:aws:sagemaker:ap-northeast-2:806072073708:image/tensorflow-2.6-gpu-py38-cu112-ubuntu20.04-v1"
  },
  "language_info": {
   "codemirror_mode": {
    "name": "ipython",
    "version": 3
   },
   "file_extension": ".py",
   "mimetype": "text/x-python",
   "name": "python",
   "nbconvert_exporter": "python",
   "pygments_lexer": "ipython3",
   "version": "3.8.2"
  }
 },
 "nbformat": 4,
 "nbformat_minor": 5
}
