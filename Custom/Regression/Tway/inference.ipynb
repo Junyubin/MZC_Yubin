{
 "cells": [
  {
   "cell_type": "code",
   "execution_count": 69,
   "id": "bc43f03d-2fc8-421b-984e-418406092910",
   "metadata": {
    "tags": []
   },
   "outputs": [],
   "source": [
    "['capture_date', 'total_sold_seats', 'cabin_authorised_cap', 'leg_departure_date_time', 'startseg']\n",
    "features = ['total_sold_seats', 'startseg_CJU', 'startseg_GMP', 'remain_seats', 'departure_hour', 'departure_minute', 'departure_time_format_min', 'remain_days', \n",
    "            'departureweekday_0', 'departureweekday_1', 'departureweekday_2', 'departureweekday_3', 'departureweekday_4', 'departureweekday_5', 'departureweekday_6', \n",
    "            'issueweekday_0', 'issueweekday_1', 'issueweekday_2', 'issueweekday_3', 'issueweekday_4', 'issueweekday_5', 'issueweekday_6']"
   ]
  },
  {
   "cell_type": "code",
   "execution_count": 81,
   "id": "7ec6a207-71a9-42d6-b2e5-dd3f05570008",
   "metadata": {
    "tags": []
   },
   "outputs": [],
   "source": [
    "import boto3\n",
    "import awswrangler as wr\n",
    "import pandas as pd\n",
    "\n",
    "s3 = boto3.client('s3')\n",
    "bucket = 'poc-2209-twayairport-dp'\n",
    "\n",
    "## Load Train Data\n",
    "obj_list = s3.list_objects(Bucket = bucket, Prefix = 'train_data')\n",
    "obj_list = [i['Key'].split('/')[1] for i in obj_list['Contents'] if 'train_data.parquet' in i['Key']]   "
   ]
  },
  {
   "cell_type": "code",
   "execution_count": 82,
   "id": "05c0fc4c-ce1a-4aa6-ad28-13a9e4a0d646",
   "metadata": {
    "tags": []
   },
   "outputs": [],
   "source": [
    "df = wr.s3.read_parquet(f\"s3://{bucket}/train_data/{max(obj_list)}/train_data.parquet\")\n",
    "df = df[['capture_date', 'total_sold_seats', 'cabin_authorised_cap', 'leg_departure_date_time', 'startseg']]"
   ]
  },
  {
   "cell_type": "code",
   "execution_count": 83,
   "id": "2f82a608-c9d2-4c41-9328-a8add7e7f1b7",
   "metadata": {
    "tags": []
   },
   "outputs": [
    {
     "data": {
      "text/plain": [
       "['leg_departure_date_time',\n",
       " 'startseg',\n",
       " 'total_sold_seats',\n",
       " 'cabin_authorised_cap']"
      ]
     },
     "execution_count": 83,
     "metadata": {},
     "output_type": "execute_result"
    }
   ],
   "source": [
    "['leg_departure_date_time', 'startseg', 'total_sold_seats', 'cabin_authorised_cap']\n",
    "# capture_date = today로 대체"
   ]
  },
  {
   "cell_type": "code",
   "execution_count": 84,
   "id": "17eff72d-de73-4aca-b2a0-f58eab007ff2",
   "metadata": {
    "tags": []
   },
   "outputs": [],
   "source": [
    "import datetime\n",
    "\n",
    "capture_date = datetime.datetime.today().strftime('%Y-%m-%d')\n",
    "leg_departure_date_time = '2022-12-31 13:25:00'\n",
    "startseg = 'GMP'\n",
    "total_sold_seats = 31\n",
    "cabin_authorised_cap = 189\n",
    "\n",
    "if startseg == 'GMP': startseg_GMP, startseg_CJU = 1, 0\n",
    "else: startseg_GMP, startseg_CJU = 0,1\n",
    "\n",
    "remain_seats = int(cabin_authorised_cap) - int(total_sold_seats)\n",
    "\n",
    "## Create Columns About Time\n",
    "leg_departure_date_time = datetime.datetime.strptime(leg_departure_date_time,'%Y-%m-%d %H:%M:%S')\n",
    "departure_hour = leg_departure_date_time.hour ## 출발 시간\n",
    "departure_minute = leg_departure_date_time.minute ## 출발 분\n",
    "departure_time_format_min = departure_hour * 60 + departure_minute ## 출발 시간+분 -> 분\n",
    "\n",
    "capture_date = datetime.datetime.strptime(capture_date,'%Y-%m-%d')\n",
    "issueweekday = capture_date.weekday() ## 티켓 구매 요일\n",
    "departureweekday = leg_departure_date_time.weekday() ## 항공권 출발 요일\n",
    "remain_days = leg_departure_date_time - capture_date ## 출발까지 잔여일\n",
    "remain_days = remain_days.days\n",
    "\n",
    "for i in range(7):\n",
    "    globals()[f'departureweekday_{i}'] = 0\n",
    "    globals()[f'issueweekday_{i}'] = 0\n",
    "    if i == departureweekday: globals()[f'departureweekday_{i}'] = 1\n",
    "    if i == issueweekday: globals()[f'issueweekday_{i}'] = 1    \n",
    "    \n",
    "df = pd.DataFrame(columns = features, index = [0])\n",
    "for i in list(df):\n",
    "    df[i] = globals()[i]"
   ]
  },
  {
   "cell_type": "code",
   "execution_count": null,
   "id": "b2e90f9c-f396-44fd-b7b2-7ecbed5b17ed",
   "metadata": {},
   "outputs": [],
   "source": [
    "import json\n",
    "import boto3\n",
    "import joblib\n",
    "import tarfile\n",
    "import pandas as pd\n",
    "import os\n",
    "import datetime\n",
    "\n",
    "def handler(event, context):\n",
    "    # TODO implement\n",
    "    print('start!')\n",
    "    s3_client = boto3.client('s3')\n",
    "    bucket = 'poc-2209-twayairport-dp'\n",
    "    prefix = 'sagemaker-sklearn-artifact'\n",
    "    \n",
    "    obj_list = s3_client.list_objects(Bucket=bucket, Prefix=prefix)\n",
    "    obj_list = [i['Key'].split('/')[1] for i in obj_list['Contents'] if 'output' in i['Key']]\n",
    "    print('=' * 70)\n",
    "    print(obj_list)\n",
    "    print(max(obj_list))\n",
    "    model_file_nm = max(obj_list)    \n",
    "    print('=' * 70)\n",
    "    \n",
    "    s3_client.download_file(bucket, f'{prefix}/{model_file_nm}/output/model.tar.gz', '/tmp/model.tar.gz')\n",
    "    \n",
    "    file = tarfile.open('/tmp/model.tar.gz')\n",
    "    file.extractall('/tmp')\n",
    "    file.close()\n",
    "    \n",
    "    path = '/tmp'\n",
    "    file_list = os.listdir(path)\n",
    "    print(f'file_list {file_list}')\n",
    "    \n",
    "    model = joblib.load('/tmp/model.joblib')\n",
    "    print(model)\n",
    "\n",
    "    ## Data Preprocessing\n",
    "    capture_date = datetime.datetime.today().strftime('%Y-%m-%d')\n",
    "    \n",
    "    ## 수정 필요\n",
    "    leg_departure_date_time = '2022-12-31 13:25:00'\n",
    "    startseg = 'GMP'\n",
    "    total_sold_seats = 31\n",
    "    cabin_authorised_cap = 189\n",
    "\n",
    "    if startseg == 'GMP': startseg_GMP, startseg_CJU = 1, 0\n",
    "    else: startseg_GMP, startseg_CJU = 0,1\n",
    "    remain_seats = int(cabin_authorised_cap) - int(total_sold_seats)\n",
    "\n",
    "    ## Create Columns About Time\n",
    "    leg_departure_date_time = datetime.datetime.strptime(leg_departure_date_time,'%Y-%m-%d %H:%M:%S')\n",
    "    departure_hour = leg_departure_date_time.hour ## 출발 시간\n",
    "    departure_minute = leg_departure_date_time.minute ## 출발 분\n",
    "    departure_time_format_min = departure_hour * 60 + departure_minute ## 출발 시간+분 -> 분\n",
    "\n",
    "    capture_date = datetime.datetime.strptime(capture_date,'%Y-%m-%d')\n",
    "    issueweekday = capture_date.weekday() ## 티켓 구매 요일\n",
    "    departureweekday = leg_departure_date_time.weekday() ## 항공권 출발 요일\n",
    "    remain_days = leg_departure_date_time - capture_date ## 출발까지 잔여일\n",
    "    remain_days = remain_days.days\n",
    "\n",
    "    for i in range(7):\n",
    "        globals()[f'departureweekday_{i}'] = 0\n",
    "        globals()[f'issueweekday_{i}'] = 0\n",
    "        if i == departureweekday: globals()[f'departureweekday_{i}'] = 1\n",
    "        if i == issueweekday: globals()[f'issueweekday_{i}'] = 1   \n",
    "        \n",
    "    features = ['total_sold_seats', 'startseg_CJU', 'startseg_GMP', 'remain_seats', 'departure_hour', 'departure_minute', 'departure_time_format_min', 'remain_days', \n",
    "                'departureweekday_0', 'departureweekday_1', 'departureweekday_2', 'departureweekday_3', 'departureweekday_4', 'departureweekday_5', 'departureweekday_6', \n",
    "                'issueweekday_0', 'issueweekday_1', 'issueweekday_2', 'issueweekday_3', 'issueweekday_4', 'issueweekday_5', 'issueweekday_6']      \n",
    "    df = pd.DataFrame(columns = features, index = [0])\n",
    "    for i in list(df):\n",
    "        df[i] = globals()[i]\n",
    "        \n",
    "    print(model.predict(df))\n",
    "    \n",
    "    return {\n",
    "        'statusCode': 200,\n",
    "        'body': json.dumps('Hello from Lambda!')\n",
    "    }\n"
   ]
  }
 ],
 "metadata": {
  "kernelspec": {
   "display_name": "Python 3 (Data Science)",
   "language": "python",
   "name": "python3__SAGEMAKER_INTERNAL__arn:aws:sagemaker:ap-northeast-2:806072073708:image/datascience-1.0"
  },
  "language_info": {
   "codemirror_mode": {
    "name": "ipython",
    "version": 3
   },
   "file_extension": ".py",
   "mimetype": "text/x-python",
   "name": "python",
   "nbconvert_exporter": "python",
   "pygments_lexer": "ipython3",
   "version": "3.7.10"
  }
 },
 "nbformat": 4,
 "nbformat_minor": 5
}
