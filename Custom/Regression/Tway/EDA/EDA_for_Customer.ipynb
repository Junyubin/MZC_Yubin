{
 "cells": [
  {
   "cell_type": "markdown",
   "id": "97559075-87c8-4061-9198-7d9e2c8e98a5",
   "metadata": {},
   "source": [
    "# 티웨이항공 사전 데이터 EDA - for Customer"
   ]
  },
  {
   "cell_type": "markdown",
   "id": "b0280f0f-a95f-48de-a180-eff5a632772e",
   "metadata": {
    "tags": []
   },
   "source": [
    "- 일자: 2022.08.22. ~ 08.31.\n",
    "- 작업자: 전유빈, 김상욱"
   ]
  },
  {
   "cell_type": "code",
   "execution_count": 34,
   "id": "2b7b98bd-437e-497f-85c1-f1f9143c4b9a",
   "metadata": {
    "jupyter": {
     "source_hidden": true
    },
    "tags": []
   },
   "outputs": [
    {
     "name": "stdout",
     "output_type": "stream",
     "text": [
      "1. 총 데이터 (건수, Feature수)\n",
      " - 예약데이터:   (151848, 15)\n",
      " - 쿠폰데이터:   (6727, 15)\n",
      " - 비행편데이터: (34, 7)\n"
     ]
    }
   ],
   "source": [
    "import pandas as pd\n",
    "import sagemaker\n",
    "import matplotlib.pyplot as plt\n",
    "\n",
    "sagemaker_session = sagemaker.Session()\n",
    "role = sagemaker.get_execution_role()\n",
    "\n",
    "bucket = 'poc-2209-twayairport-dp'\n",
    "\n",
    "booking_df = pd.read_csv(f's3://{bucket}/data/original/예약_20220822.csv')\n",
    "coupon_df = pd.read_csv(f's3://{bucket}/data/original/쿠폰_20220822.csv')\n",
    "flight_df = pd.read_csv(f's3://{bucket}/data/original/비행편정보_20220822.csv')\n",
    "weather_df = pd.read_csv(f's3://{bucket}/data/etc/OBS_ASOS_TIM_20220831155407.csv', encoding='CP949')\n",
    "\n",
    "# 데이터 크기, 형태 체크\n",
    "print('1. 총 데이터 (건수, Feature수)')\n",
    "print(f' - 예약데이터:   {booking_df.shape}')\n",
    "print(f' - 쿠폰데이터:   {coupon_df.shape}')\n",
    "print(f' - 비행편데이터: {flight_df.shape}')\n",
    "\n",
    "# 컬럼명 변경은 핵심적으로 사용할 coupon_df 기준으로 변경\n",
    "booking_df.rename(columns={'flight_number': 'flightno',\n",
    "                           'flight_departure_date': 'flightdate',\n",
    "                           'capture_date': 'issuedate',\n",
    "                           'airline_code': 'carrier',\n",
    "                           'fare_class': 'bookingclass',\n",
    "                           'cabin_code': 'cabinclass'}, inplace=True)\n",
    "\n",
    "flight_df.rename(columns={'flight_number': 'flightno',\n",
    "                          'flight_departure_date': 'flightdate',\n",
    "                          'cabin_class': 'cabinclass'}, inplace=True)\n",
    "\n",
    "# 날짜 데이터 형변환\n",
    "booking_df['flightdate'] = pd.to_datetime(booking_df['flightdate'], format='%Y-%m-%d')\n",
    "booking_df['issuedate'] = pd.to_datetime(booking_df['issuedate'], format='%Y-%m-%d')\n",
    "coupon_df['flightdate'] = pd.to_datetime(coupon_df['flightdate'], format='%Y%m%d')\n",
    "coupon_df['issuedate'] = pd.to_datetime(coupon_df['issuedate'], format='%Y%m%d')\n",
    "flight_df['flightdate'] = pd.to_datetime(flight_df['flightdate'], format='%Y-%m-%d')\n",
    "flight_df['leg_departure_date_time'] = pd.to_datetime(flight_df['leg_departure_date_time'])\n",
    "flight_df['leg_arrival_date_time'] = pd.to_datetime(flight_df['leg_arrival_date_time'])\n",
    "\n",
    "flightno_list = flight_df['flightno'].unique()\n",
    "\n",
    "# 날씨 데이터 가공\n",
    "weather_df['강수량(mm)'].fillna(0, inplace=True)\n",
    "weather_df['일시'] = pd.to_datetime(weather_df['일시'])\n",
    "weather_df['date'] = weather_df['일시'].dt.date\n",
    "\n",
    "date_list = list(weather_df['date'].unique())\n",
    "temp_min = list(weather_df.groupby(['date'])['기온(°C)'].min())\n",
    "temp_max = list(weather_df.groupby(['date'])['기온(°C)'].max())\n",
    "temp_avg = list(weather_df.groupby(['date'])['기온(°C)'].mean())\n",
    "precipitation_total = list(weather_df.groupby(['date'])['강수량(mm)'].sum())\n",
    "cloudiness = list(weather_df.groupby(['date'])['전운량(10분위)'].mean())\n",
    "\n",
    "new_weather_df = pd.DataFrame({\n",
    "                    'date': date_list,\n",
    "                    'temp_min': temp_min,\n",
    "                    'temp_max': temp_max,\n",
    "                    'temp_avg': temp_avg,\n",
    "                    'precipitation_total': precipitation_total,\n",
    "                    'cloudiness': cloudiness\n",
    "                })\n",
    "new_weather_df['date'] = pd.to_datetime(new_weather_df['date'])\n",
    "\n",
    "# 누적판매좌석 추출\n",
    "seats_df = pd.DataFrame({'total_sold_seats' : booking_df.groupby([\"flightno\", \"issuedate\", 'cabinclass'])['sold_seats'].sum()}).reset_index()\n",
    "\n",
    "# 항공편데이터와 merge\n",
    "seats_df = pd.merge(seats_df, flight_df[['flightno', 'cabinclass', 'cabin_authorised_cap']], on=['flightno', 'cabinclass'], how='left')\n",
    "\n",
    "# 일일 판매좌석 테이블 생성\n",
    "new_seats_df = pd.DataFrame()\n",
    "\n",
    "for flightno in sorted(flightno_list):\n",
    "    temp_df = seats_df[(seats_df['flightno'] == flightno) & (seats_df['cabinclass'] == 'Y')]\n",
    "    temp_df['sold_seats'] = temp_df['total_sold_seats'] - temp_df['total_sold_seats'].shift().fillna(0)\n",
    "\n",
    "    new_seats_df = pd.concat([new_seats_df, temp_df], axis=0)\n",
    "\n",
    "# 쿠폰 데이터에서 추가로 얻을 수 있는 값.\n",
    "coupon_df['remaindate'] = (coupon_df['flightdate'] - coupon_df['issuedate']).dt.days\n",
    "coupon_df['issueweekday'] = coupon_df['issuedate'].dt.weekday\n",
    "coupon_df['fare_1000'] = coupon_df['fare'] // 1000 * 1000\n",
    "\n",
    "# 쿠폰데이터 기준 테이블 합치기\n",
    "flight_columns = ['flightno', 'cabinclass', 'cabin_authorised_cap', 'leg_departure_date_time', 'leg_arrival_date_time']\n",
    "seats_columns = ['flightno', 'issuedate', 'cabinclass', 'sold_seats', 'total_sold_seats']\n",
    "\n",
    "new_coupon_df = pd.merge(coupon_df, flight_df[flight_columns], on=['flightno', 'cabinclass'], how='left')\n",
    "new_coupon_df = pd.merge(new_coupon_df, new_seats_df[seats_columns], on=['flightno', 'issuedate', 'cabinclass'], how='left')\n",
    "new_coupon_df = pd.merge(new_coupon_df, new_weather_df, left_on=['issuedate'], right_on=['date'], how='left')\n",
    "\n",
    "new_coupon_df = new_coupon_df.dropna()\n",
    "\n",
    "new_coupon_df['departure_hour'] = new_coupon_df['leg_departure_date_time'].dt.hour\n",
    "new_coupon_df['departure_minute'] = new_coupon_df['leg_departure_date_time'].dt.minute\n",
    "new_coupon_df['departure_time_format_min'] = new_coupon_df['departure_hour'] * 60 + new_coupon_df['departure_minute']"
   ]
  },
  {
   "cell_type": "code",
   "execution_count": 35,
   "id": "21c699ea-7c28-4e83-a688-f4bee0ef42a5",
   "metadata": {
    "tags": []
   },
   "outputs": [],
   "source": [
    "# 이상치 제거\n",
    "df = new_coupon_df.copy()\n",
    "\n",
    "# 비즈니스석 제외\n",
    "df = df[df['cabinclass'] == 'Y']\n",
    "\n",
    "# bookingclass 특수값 제거\n",
    "business = ['F', 'C', 'R', 'CC', 'CG', 'C1', 'C2'] # 이코너미만 체크할 것\n",
    "economic = ['Y', 'Z', 'W', 'V', 'T', 'S', 'P', 'O', 'N', 'M', 'L', 'I', 'H', 'J', 'E', 'D', 'B']\n",
    "event = ['A', 'BB', 'BL', 'UU', 'U',  'G', 'Q', 'R', 'X'] # 정상가가 아님 고려대상 X\n",
    "\n",
    "df = df[df['bookingclass'].isin(economic)]\n",
    "\n",
    "# 이코노미, 특수값 제거 후에도 0원 짜리가 존재함\n",
    "df = df[df['fare'] != 0]"
   ]
  },
  {
   "cell_type": "code",
   "execution_count": 31,
   "id": "e25a47b6-e0b8-40dc-9c17-a053e863b2ba",
   "metadata": {},
   "outputs": [
    {
     "name": "stderr",
     "output_type": "stream",
     "text": [
      "/opt/conda/lib/python3.7/site-packages/ipykernel_launcher.py:25: DataConversionWarning: A column-vector y was passed when a 1d array was expected. Please change the shape of y to (n_samples,), for example using ravel().\n"
     ]
    },
    {
     "name": "stdout",
     "output_type": "stream",
     "text": [
      "==================================================\n",
      "train score....\n",
      "coefficient of determination of the prediction: 0.9834859874869375\n",
      "RMSE: 2133.8820978973195\n",
      "==================================================\n",
      "test score....\n",
      "coefficient of determination of the prediction: 0.9753403558924839\n",
      "RMSE: 2618.1119442673385\n",
      "==================================================\n",
      "각 Feature별 영향도 확인\n",
      "departure_hour: 0.3280452359698354\n",
      "departure_minute: 0.021102543518425162\n",
      "departure_time_format_min: 0.3421630415060493\n",
      "sold_seats: 0.013179399031447676\n",
      "total_sold_seats: 0.21355963324819247\n",
      "remaindate: 0.0819501467260498\n"
     ]
    }
   ],
   "source": [
    "from sklearn.model_selection import train_test_split\n",
    "from sklearn.ensemble import RandomForestRegressor\n",
    "from sklearn.metrics import mean_squared_error\n",
    "import numpy as np\n",
    "\n",
    "target_y = ['fare']\n",
    "feature_x = ['departure_hour', 'departure_minute', 'departure_time_format_min'\n",
    "             , 'sold_seats', 'total_sold_seats', 'remaindate']\n",
    "\n",
    "df['remaindate'] = df['remaindate'].astype('float')\n",
    "df['departure_hour'] = df['departure_hour'].astype('float')\n",
    "df['departure_minute'] = df['departure_minute'].astype('float')\n",
    "df['departure_time_format_min'] = df['departure_time_format_min'].astype('float')\n",
    "\n",
    "gimpo = df[df['startseg'] == 'GMP']\n",
    "jeju = df[df['startseg'] == 'CJU']\n",
    "\n",
    "gimpo_x = gimpo[feature_x]\n",
    "gimpo_y = gimpo[target_y]\n",
    "\n",
    "## Train/Test Split\n",
    "train_x, test_x, train_y, test_y = train_test_split(gimpo_x, gimpo_y, test_size=0.2, random_state=42)\n",
    "\n",
    "model = RandomForestRegressor(max_depth=10, random_state=42)\n",
    "model.fit(train_x, train_y)\n",
    "\n",
    "print('=' * 50)\n",
    "## Train 점수\n",
    "print('train score....')\n",
    "print(f'coefficient of determination of the prediction: {model.score(train_x, train_y)}')\n",
    "pred = model.predict(train_x)\n",
    "RMSE = mean_squared_error(train_y, pred)**0.5\n",
    "print(f'RMSE: {RMSE}')\n",
    "print('=' * 50)\n",
    "## Test 점수\n",
    "print('test score....')\n",
    "print(f'coefficient of determination of the prediction: {model.score(test_x, test_y)}')\n",
    "pred = model.predict(test_x)\n",
    "RMSE = mean_squared_error(test_y, pred)**0.5\n",
    "print(f'RMSE: {RMSE}')\n",
    "\n",
    "\n",
    "# feature importance\n",
    "print('=' * 50)\n",
    "print(f'각 Feature별 영향도 확인')\n",
    "feature_importances = model.feature_importances_\n",
    "for i in range(len(feature_x)):\n",
    "    print(f\"{feature_x[i]}: {feature_importances[i]}\")"
   ]
  },
  {
   "cell_type": "code",
   "execution_count": null,
   "id": "b9957707-14ab-403f-9985-3aa9da59f0f0",
   "metadata": {},
   "outputs": [],
   "source": []
  }
 ],
 "metadata": {
  "instance_type": "ml.t3.medium",
  "kernelspec": {
   "display_name": "Python 3 (Data Science)",
   "language": "python",
   "name": "python3__SAGEMAKER_INTERNAL__arn:aws:sagemaker:ap-northeast-2:806072073708:image/datascience-1.0"
  },
  "language_info": {
   "codemirror_mode": {
    "name": "ipython",
    "version": 3
   },
   "file_extension": ".py",
   "mimetype": "text/x-python",
   "name": "python",
   "nbconvert_exporter": "python",
   "pygments_lexer": "ipython3",
   "version": "3.7.10"
  }
 },
 "nbformat": 4,
 "nbformat_minor": 5
}
