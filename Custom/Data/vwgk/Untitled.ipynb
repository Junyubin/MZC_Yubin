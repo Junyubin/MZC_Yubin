{
 "cells": [
  {
   "cell_type": "code",
   "execution_count": 4,
   "id": "920c3ec0-35b8-4238-a765-987577f1b698",
   "metadata": {},
   "outputs": [],
   "source": [
    "# !pip install awswrangler"
   ]
  },
  {
   "cell_type": "code",
   "execution_count": 8,
   "id": "d4b9c389-b6f4-44d7-9c8f-7780b1160b91",
   "metadata": {},
   "outputs": [],
   "source": [
    "from urllib.parse import unquote_plus\n",
    "import awswrangler as wr \n",
    "import pandas as pd\n",
    "import numpy as np\n",
    "import boto3\n",
    "\n",
    "bucket = 'poc-2209-volkswagen/marketstatus-import'\n",
    "key = 'raw/2022/08/KAIDA PC Registration(Aug., 2022)_Tesla.xls'\n",
    "_, year, month, filename = key.split('/')"
   ]
  },
  {
   "cell_type": "code",
   "execution_count": 9,
   "id": "c7787dbf-afff-4f37-9219-e965ffdda6ff",
   "metadata": {},
   "outputs": [],
   "source": [
    "path = f's3://{bucket}/{key}'\n",
    "df = wr.s3.read_excel(path,\n",
    "    header=3,\n",
    "    skipfooter=1,\n",
    "    usecols='A:E,G:R',\n",
    "    names=['Company', 'Brand', 'Model', 'cc', 'Price',1, 2, 3, 4, 5, 6, 7, 8, 9, 10, 11, 12,],\n",
    ")"
   ]
  },
  {
   "cell_type": "code",
   "execution_count": 10,
   "id": "940401c5-3c5a-468d-89d3-624dbaadf7cc",
   "metadata": {},
   "outputs": [],
   "source": [
    "company_meta_path = 's3://poc-2209-volkswagen/marketstatus-metas/company/'\n",
    "company = wr.s3.read_csv(company_meta_path)\n",
    "\n",
    "brand_meta_path = 's3://poc-2209-volkswagen/marketstatus-metas/brand/'\n",
    "brand = wr.s3.read_csv(brand_meta_path)\n",
    "\n",
    "df = df[df['Model'].notnull()]\n",
    "df['Company'] = df['Company'].str.replace(' \\n ', ' ')\n",
    "\n",
    "company_new = []\n",
    "for c in df['Company']:\n",
    "    if company['Company_raw'].isin([c]).any():\n",
    "        company_new.append(company.loc[company['Company_raw'] == c, 'Company'].item())\n",
    "    elif pd.isna(c):\n",
    "        company_new.append(np.NaN)\n",
    "    else:\n",
    "        raise ValueError(f'No such value in meta table: {c}')\n",
    "df['Company'] = company_new\n",
    "\n",
    "brand_new = []\n",
    "for c in df['Brand']:\n",
    "    if brand['Brand_raw'].isin([c]).any():\n",
    "        brand_new.append(brand.loc[brand['Brand_raw'] == c, 'Brand'].item())\n",
    "    elif pd.isna(c):\n",
    "        brand_new.append(np.NaN)\n",
    "    else:\n",
    "        raise ValueError(f'No such value in meta table: {c}')\n",
    "df['Brand'] = brand_new\n",
    "\n",
    "df[['Company', 'Brand']] = df[['Company', 'Brand']].fillna(method='ffill')\n",
    "\n",
    "df = pd.melt(df, id_vars=['Company', 'Brand', 'Model', 'cc', 'Price'], value_vars=[1, 2, 3, 4, 5, 6, 7, 8, 9, 10, 11, 12,], var_name='Month', value_name='Qty')\n",
    "df['Qty'] = df['Qty'].astype(float)\n",
    "\n",
    "df['Year'] = int(year)"
   ]
  },
  {
   "cell_type": "code",
   "execution_count": 55,
   "id": "dfe3831c-288a-44cf-9df4-703d86acee3c",
   "metadata": {},
   "outputs": [],
   "source": [
    "########################################################################################################\n",
    "master_meta_path = 's3://poc-2209-volkswagen/marketstatus-metas/master/'\n",
    "master = wr.s3.read_csv(master_meta_path, encoding='euckr')"
   ]
  },
  {
   "cell_type": "code",
   "execution_count": 58,
   "id": "ac1e9a66-4ffd-4fd1-a4e6-bc78051a1ac0",
   "metadata": {},
   "outputs": [
    {
     "data": {
      "text/plain": [
       "0.5683937072753906"
      ]
     },
     "execution_count": 58,
     "metadata": {},
     "output_type": "execute_result"
    }
   ],
   "source": [
    "model_new = []\n",
    "start = time.time()\n",
    "for c in df['Model']:\n",
    "    if (c in master['Model'].values) or (pd.isna(c)):\n",
    "        pass\n",
    "    else:\n",
    "        model_new.append(c)            \n",
    "        \n",
    "time.time() - start"
   ]
  },
  {
   "cell_type": "code",
   "execution_count": 68,
   "id": "c5ee9a60-36d3-4f01-8a91-38f859f7bc18",
   "metadata": {},
   "outputs": [],
   "source": [
    "os.environ['snsARN'] = 'arn:aws:sns:ap-northeast-2:257832939543:temp_marketstatus-lambda-error-topic'"
   ]
  },
  {
   "cell_type": "code",
   "execution_count": 72,
   "id": "ecea0427-b0c1-4ea7-8129-ecb1f45cbcc8",
   "metadata": {},
   "outputs": [],
   "source": [
    "import os\n",
    "from botocore.exceptions import ClientError\n",
    "\n",
    "if len(model_new) > 0:\n",
    "    sns_arn = os.environ['snsARN']  # Getting the SNS Topic ARN passed in by the environment variables.\n",
    "    snsclient = boto3.client('sns')\n",
    "    try:\n",
    "        message = \"\"\n",
    "        message += \"\\nModel value error  summary\" + \"\\n\\n\"\n",
    "        message += \"##########################################################\\n\"\n",
    "        message += \"# Number of model not included:- \" + str(len(model_new)) + \"\\n\"\n",
    "        message += \"# Model list:- \" + str(model_new) + \"\\n\"\n",
    "        message += \"##########################################################\\n\"\n",
    "\n",
    "        # Sending the notification...\n",
    "        snsclient.publish(\n",
    "            TargetArn=sns_arn,\n",
    "            Subject=f'Execution error for Lambda',\n",
    "            Message=message\n",
    "        )\n",
    "    except ClientError as e:\n",
    "        logger.error(\"An error occured: %s\" % e)\n"
   ]
  },
  {
   "cell_type": "code",
   "execution_count": null,
   "id": "18e8dc0a-c224-4b93-8c08-7f217698dfa5",
   "metadata": {},
   "outputs": [],
   "source": []
  }
 ],
 "metadata": {
  "instance_type": "ml.t3.medium",
  "kernelspec": {
   "display_name": "Python 3 (Data Science)",
   "language": "python",
   "name": "python3__SAGEMAKER_INTERNAL__arn:aws:sagemaker:ap-northeast-2:806072073708:image/datascience-1.0"
  },
  "language_info": {
   "codemirror_mode": {
    "name": "ipython",
    "version": 3
   },
   "file_extension": ".py",
   "mimetype": "text/x-python",
   "name": "python",
   "nbconvert_exporter": "python",
   "pygments_lexer": "ipython3",
   "version": "3.7.10"
  }
 },
 "nbformat": 4,
 "nbformat_minor": 5
}
