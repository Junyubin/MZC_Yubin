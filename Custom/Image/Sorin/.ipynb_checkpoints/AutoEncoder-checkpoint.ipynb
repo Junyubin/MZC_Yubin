{
 "cells": [
  {
   "cell_type": "code",
   "execution_count": 19,
   "id": "fba43bae-3267-4e0d-8cc7-3dbba4ded0ed",
   "metadata": {},
   "outputs": [],
   "source": [
    "# %cd dataset_220525\n",
    "# %pwd\n",
    "# !aws s3 cp s3://poc-2208-sorin/220525_불량분류_1차/ . --recursive\n",
    "# !pip install opencv-python-headless"
   ]
  },
  {
   "cell_type": "code",
   "execution_count": 2,
   "id": "7c2bd738-0792-4e27-a070-66d27ea6f0df",
   "metadata": {},
   "outputs": [],
   "source": [
    "import os\n",
    "base_dir = '/root/MZC_Yubin/Sorin'\n",
    "train_dir = os.path.join(base_dir, 'dataset_220524')\n",
    "validation_dir = os.path.join(base_dir, 'dataset_220525')\n",
    "\n",
    "# 훈련에 사용되는 고양이/개 이미지 경로\n",
    "train_etc = os.path.join(train_dir, 'B_ETC')\n",
    "train_hole = os.path.join(train_dir, 'B_Hole')\n",
    "train_swell_nomal = os.path.join(train_dir, 'B_Swell_Nomal')\n",
    "train_swell_point = os.path.join(train_dir, 'B_Swell_pointed')\n",
    "train_soot = os.path.join(train_dir, 'B_Swoot')\n",
    "train_bad = os.path.join(train_dir, 'Bad')\n",
    "\n",
    "# 테스트에 사용되는 고양이/개 이미지 경로\n",
    "valid_etc = os.path.join(validation_dir, 'B_ETC')\n",
    "valid_hole = os.path.join(validation_dir, 'B_Hole')\n",
    "valid_swell_nomal = os.path.join(validation_dir, 'B_Swell_Nomal')\n",
    "valid_swell_point = os.path.join(validation_dir, 'B_Swell_pointed')\n",
    "valid_soot = os.path.join(validation_dir, 'B_Swoot')\n",
    "valid_bad = os.path.join(validation_dir, 'Bad')"
   ]
  },
  {
   "cell_type": "code",
   "execution_count": 3,
   "id": "e563a28f-1837-458d-a617-eae14e90f271",
   "metadata": {},
   "outputs": [
    {
     "name": "stdout",
     "output_type": "stream",
     "text": [
      "Total training etc images : 7\n",
      "Total validation etc images : 17\n",
      "**********\n",
      "Total training hole images : 14\n",
      "Total validation hole images : 48\n",
      "**********\n",
      "Total training swell_nomal images : 1\n",
      "Total validation swell_nomal images : 15\n",
      "**********\n",
      "Total training swell_point images : 7\n",
      "Total validation swell_point images : 27\n",
      "**********\n",
      "Total training soot images : 72\n",
      "Total validation soot images : 12\n",
      "**********\n",
      "Total training bad images : 42\n",
      "Total validation bad images : 13\n",
      "**********\n"
     ]
    }
   ],
   "source": [
    "label_list = ['etc', 'hole', 'swell_nomal', 'swell_point', 'soot', 'bad']\n",
    "for i in label_list:\n",
    "    print(f'Total training {i} images :', len(os.listdir(globals()['train_{}'.format(i)])))\n",
    "    print(f'Total validation {i} images :', len(os.listdir(globals()['valid_{}'.format(i)])))\n",
    "    print(\"*\"*10)"
   ]
  },
  {
   "cell_type": "code",
   "execution_count": 4,
   "id": "92f0c857-9575-42f4-9dcc-b590b751a740",
   "metadata": {},
   "outputs": [
    {
     "name": "stdout",
     "output_type": "stream",
     "text": [
      "Found 143 images belonging to 6 classes.\n",
      "Found 132 images belonging to 6 classes.\n"
     ]
    }
   ],
   "source": [
    "from tensorflow.keras.preprocessing.image import ImageDataGenerator\n",
    "\n",
    "train_datagen = ImageDataGenerator(rotation_range = 20, width_shift_range = 0.2, height_shift_range = 0.2, rescale = 1. / 255)\n",
    "test_datagen  = ImageDataGenerator(rotation_range = 20, width_shift_range = 0.2, height_shift_range = 0.2, rescale = 1. / 255)\n",
    "\n",
    "train_generator = train_datagen.flow_from_directory(train_dir, class_mode='sparse', target_size=(512,512))\n",
    "validation_generator =  test_datagen.flow_from_directory(validation_dir, class_mode  = 'sparse', target_size =(512,512))"
   ]
  },
  {
   "cell_type": "code",
   "execution_count": 5,
   "id": "c5eee013-c879-45ab-9bcd-a94de9576079",
   "metadata": {},
   "outputs": [],
   "source": [
    "import matplotlib.pyplot as plt\n",
    "import cv2\n",
    "import numpy as np\n",
    "images = []\n",
    "\n",
    "for i in enumerate(range(3)):\n",
    "    img, label = train_generator.next()\n",
    "    n_img = len(label)\n",
    "    \n",
    "    base = cv2.cvtColor(img[0], cv2.COLOR_RGB2BGR)  # keras는 RGB, openCV는 BGR이라 변경함\n",
    "    for idx in range(n_img - 1):\n",
    "        img2 = cv2.cvtColor(img[idx + 1], cv2.COLOR_RGB2BGR)\n",
    "        base = np.hstack((base, img2))\n",
    "    images.append(base)\n",
    "\n",
    "img = images[0]\n",
    "# print(images)\n",
    "# for idx in range(len(images) - 1):\n",
    "#     img = np.vstack((img, images[idx + 1]))\n",
    "# plt.imshow(img)\n",
    "# plt.show()"
   ]
  },
  {
   "cell_type": "code",
   "execution_count": 6,
   "id": "7d7f1797-8f63-4c43-8242-24828d10a559",
   "metadata": {},
   "outputs": [
    {
     "data": {
      "text/plain": [
       "(512, 16384, 3)"
      ]
     },
     "execution_count": 6,
     "metadata": {},
     "output_type": "execute_result"
    }
   ],
   "source": [
    "images[0].shape"
   ]
  },
  {
   "cell_type": "code",
   "execution_count": 7,
   "id": "7758fc17-3016-4d2d-8e45-eff6dd14a6f9",
   "metadata": {},
   "outputs": [],
   "source": [
    "import tensorflow as tf\n",
    "\n",
    "model = tf.keras.models.Sequential([\n",
    "  tf.keras.layers.Conv2D(16, (3,3), activation='relu', input_shape=(512, 512, 3)),\n",
    "  tf.keras.layers.MaxPooling2D(2,2),\n",
    "  tf.keras.layers.Conv2D(32, (3,3), activation='relu'),\n",
    "  tf.keras.layers.MaxPooling2D(2,2),\n",
    "  tf.keras.layers.Conv2D(64, (3,3), activation='relu'),\n",
    "  tf.keras.layers.MaxPooling2D(2,2),\n",
    "  tf.keras.layers.Flatten(),\n",
    "  tf.keras.layers.Dense(512, activation='relu'),\n",
    "  tf.keras.layers.Dense(len(label_list), activation='sigmoid')\n",
    "])\n",
    "model.compile(optimizer='adam', loss='sparse_categorical_crossentropy', metrics='accuracy')\n",
    "# model.summary()"
   ]
  },
  {
   "cell_type": "code",
   "execution_count": null,
   "id": "0d4f3543-dbfc-4f2e-b527-26c8b81b8fed",
   "metadata": {},
   "outputs": [
    {
     "name": "stdout",
     "output_type": "stream",
     "text": [
      "Epoch 1/100\n",
      "Extension horovod.torch has not been built: /usr/local/lib/python3.8/site-packages/horovod/torch/mpi_lib/_mpi_lib.cpython-38-x86_64-linux-gnu.so not found\n",
      "If this is not expected, reinstall Horovod with HOROVOD_WITH_PYTORCH=1 to debug the build error.\n",
      "Warning! MPI libs are missing, but python applications are still avaiable.\n",
      "[2022-09-06 00:23:07.733 tensorflow-2-6-gpu--ml-g4dn-xlarge-7eba0e151157af0bd8a25c896f03:20 INFO utils.py:27] RULE_JOB_STOP_SIGNAL_FILENAME: None\n",
      "[2022-09-06 00:23:07.758 tensorflow-2-6-gpu--ml-g4dn-xlarge-7eba0e151157af0bd8a25c896f03:20 INFO profiler_config_parser.py:111] Unable to find config at /opt/ml/input/config/profilerconfig.json. Profiler is disabled.\n",
      "5/5 [==============================] - 34s 7s/step - loss: 7.1168 - accuracy: 0.3566 - val_loss: 8.1916 - val_accuracy: 0.1970\n",
      "Epoch 2/100\n",
      "5/5 [==============================] - 20s 4s/step - loss: 1.8036 - accuracy: 0.5594 - val_loss: 2.5798 - val_accuracy: 0.1136\n",
      "Epoch 3/100\n",
      "5/5 [==============================] - 19s 4s/step - loss: 1.0560 - accuracy: 0.6434 - val_loss: 2.4832 - val_accuracy: 0.0909\n",
      "Epoch 4/100\n",
      "5/5 [==============================] - 19s 4s/step - loss: 0.7443 - accuracy: 0.7622 - val_loss: 2.3262 - val_accuracy: 0.1970\n",
      "Epoch 5/100\n",
      "5/5 [==============================] - 20s 4s/step - loss: 0.6302 - accuracy: 0.8112 - val_loss: 2.3770 - val_accuracy: 0.2576\n",
      "Epoch 6/100\n",
      "5/5 [==============================] - 19s 4s/step - loss: 0.5783 - accuracy: 0.8112 - val_loss: 2.5665 - val_accuracy: 0.2197\n",
      "Epoch 7/100\n",
      "5/5 [==============================] - 19s 4s/step - loss: 0.5217 - accuracy: 0.8462 - val_loss: 2.3194 - val_accuracy: 0.2576\n",
      "Epoch 8/100\n",
      "5/5 [==============================] - 19s 4s/step - loss: 0.4325 - accuracy: 0.8531 - val_loss: 2.3178 - val_accuracy: 0.2424\n",
      "Epoch 9/100\n",
      "3/5 [=================>............] - ETA: 4s - loss: 0.3922 - accuracy: 0.8750"
     ]
    }
   ],
   "source": [
    "early_stopping_callback = tf.keras.callbacks.EarlyStopping(monitor='val_loss', min_delta=0.001, patience=5,restore_best_weights=True, mode='min')\n",
    "\n",
    "history = model.fit(train_generator,\n",
    "                    validation_data=validation_generator,\n",
    "                    epochs=100,\n",
    "                    batch_size = 128,\n",
    "                    verbose=1,\n",
    "                    callbacks = early_stopping_callback)"
   ]
  },
  {
   "cell_type": "code",
   "execution_count": null,
   "id": "27f4762f-451b-4996-b1c1-cc84f383da06",
   "metadata": {},
   "outputs": [],
   "source": [
    "import matplotlib.pyplot as plt\n",
    "\n",
    "acc = history.history['accuracy']\n",
    "val_acc = history.history['val_accuracy']\n",
    "loss = history.history['loss']\n",
    "val_loss = history.history['val_loss']\n",
    "\n",
    "epochs = range(len(acc))\n",
    "\n",
    "plt.plot(epochs, acc, 'bo', label='Training accuracy')\n",
    "plt.plot(epochs, val_acc, 'b', label='Validation accuracy')\n",
    "plt.title('Training and validation accuracy')\n",
    "plt.legend()\n",
    "\n",
    "plt.figure()\n",
    "\n",
    "plt.plot(epochs, loss, 'go', label='Training Loss')\n",
    "plt.plot(epochs, val_loss, 'g', label='Validation Loss')\n",
    "plt.title('Training and validation loss')\n",
    "plt.legend()\n",
    "\n",
    "plt.show()"
   ]
  },
  {
   "cell_type": "code",
   "execution_count": null,
   "id": "e7484766-9082-4c93-88f4-bd2063ac5e7d",
   "metadata": {},
   "outputs": [],
   "source": []
  },
  {
   "cell_type": "code",
   "execution_count": null,
   "id": "376ae03b-51c1-49d5-b2e8-d55da5756c5a",
   "metadata": {},
   "outputs": [],
   "source": []
  }
 ],
 "metadata": {
  "instance_type": "ml.g4dn.xlarge",
  "kernelspec": {
   "display_name": "Python 3 (TensorFlow 2.6 Python 3.8 GPU Optimized)",
   "language": "python",
   "name": "python3__SAGEMAKER_INTERNAL__arn:aws:sagemaker:ap-northeast-2:806072073708:image/tensorflow-2.6-gpu-py38-cu112-ubuntu20.04-v1"
  },
  "language_info": {
   "codemirror_mode": {
    "name": "ipython",
    "version": 3
   },
   "file_extension": ".py",
   "mimetype": "text/x-python",
   "name": "python",
   "nbconvert_exporter": "python",
   "pygments_lexer": "ipython3",
   "version": "3.8.2"
  }
 },
 "nbformat": 4,
 "nbformat_minor": 5
}
