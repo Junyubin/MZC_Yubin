{
 "cells": [
  {
   "cell_type": "code",
   "execution_count": null,
   "id": "35b6f811-c90f-4a61-b23c-f6c8dd85905b",
   "metadata": {},
   "outputs": [],
   "source": [
    "!pip install tensorflow"
   ]
  },
  {
   "cell_type": "code",
   "execution_count": 4,
   "id": "5377081e-431c-4398-ace3-a07e72bf3988",
   "metadata": {},
   "outputs": [],
   "source": [
    "import tensorflow as tf\n",
    "from tensorflow import keras\n",
    "from sklearn.model_selection import train_test_split\n",
    "import numpy as np\n",
    "tf.random.set_seed(42)"
   ]
  },
  {
   "cell_type": "markdown",
   "id": "2c87303a-f4aa-4455-9b3c-6052827dd7ed",
   "metadata": {
    "id": "fQSb0wK85QcA"
   },
   "source": [
    "## 패션 MNIST 데이터 불러오기"
   ]
  },
  {
   "cell_type": "code",
   "execution_count": 37,
   "id": "81cc8a0a-d2a1-4227-a703-4dcc8721d913",
   "metadata": {
    "colab": {
     "base_uri": "https://localhost:8080/"
    },
    "id": "BGJBttQs5QcA",
    "outputId": "7312d494-5253-4823-9822-33295351e6cd"
   },
   "outputs": [],
   "source": [
    "## Load Data\n",
    "(train_input, train_target), (test_input, test_target) = keras.datasets.fashion_mnist.load_data()"
   ]
  },
  {
   "cell_type": "code",
   "execution_count": 38,
   "id": "b515228a-ba66-4df0-952d-9a9dbc600255",
   "metadata": {},
   "outputs": [],
   "source": [
    "train_input = train_input[:1000]\n",
    "train_target = train_target[:1000]\n",
    "test_input = test_input[:100]\n",
    "test_target = test_target[:100]"
   ]
  },
  {
   "cell_type": "code",
   "execution_count": 39,
   "id": "0fbe3bf7-6443-4dcb-a03a-b402b9c7b73a",
   "metadata": {},
   "outputs": [],
   "source": [
    "## Data Scaling (픽셀 값이 최대 255이기 때문에 255기준으로 0~1 MinMaxScaling 진행)\n",
    "train_scaled = train_input.reshape(-1, 28, 28, 1) / 255.0\n",
    "test_scaled = test_input.reshape(-1, 28, 28, 1) / 255.0\n",
    "## Train/Test Split (8:2)\n",
    "train_scaled, val_scaled, train_target, val_target = train_test_split(train_scaled, train_target, test_size=0.2, random_state=42)"
   ]
  },
  {
   "cell_type": "markdown",
   "id": "c19e3a12-5af9-490e-928b-30922345dab6",
   "metadata": {
    "tags": []
   },
   "source": [
    "## 시각화"
   ]
  },
  {
   "cell_type": "code",
   "execution_count": 40,
   "id": "30040e24-96da-49bd-97d0-6c653b2ab855",
   "metadata": {},
   "outputs": [
    {
     "data": {
      "image/png": "[encoded data removed]",
      "text/plain": [
       "<Figure size 640x480 with 1 Axes>"
      ]
     },
     "metadata": {},
     "output_type": "display_data"
    }
   ],
   "source": [
    "img = train_input[0]\n",
    "import matplotlib.pyplot as plt \n",
    "plt.imshow(img)\n",
    "plt.show()"
   ]
  },
  {
   "cell_type": "code",
   "execution_count": 41,
   "id": "cae45a7a-f402-4ae4-9d1f-380cd340f8a1",
   "metadata": {},
   "outputs": [
    {
     "data": {
      "text/plain": [
       "(800, 28, 28, 1)"
      ]
     },
     "execution_count": 41,
     "metadata": {},
     "output_type": "execute_result"
    }
   ],
   "source": [
    "train_scaled.shape"
   ]
  },
  {
   "cell_type": "code",
   "execution_count": 46,
   "id": "05ebc47b-c88f-4702-9c90-fe0f5f641e08",
   "metadata": {},
   "outputs": [
    {
     "data": {
      "text/plain": [
       "(100, 28, 28, 1)"
      ]
     },
     "execution_count": 46,
     "metadata": {},
     "output_type": "execute_result"
    }
   ],
   "source": [
    "test_scaled.shape"
   ]
  },
  {
   "cell_type": "code",
   "execution_count": 48,
   "id": "5ea9cf48-08d1-4eaa-b314-5aaf13d69e42",
   "metadata": {},
   "outputs": [
    {
     "data": {
      "text/plain": [
       "(800, 784)"
      ]
     },
     "execution_count": 48,
     "metadata": {},
     "output_type": "execute_result"
    }
   ],
   "source": [
    "tree_train = np.reshape(train_scaled,(800,-1))\n",
    "tree_test = np.reshape(test_scaled,(100,-1))\n",
    "tree_train.shape"
   ]
  },
  {
   "cell_type": "code",
   "execution_count": 61,
   "id": "54cbf2de-f989-40fa-9d94-2616387caec2",
   "metadata": {},
   "outputs": [
    {
     "data": {
      "text/plain": [
       "DecisionTreeClassifier(ccp_alpha=0.0, class_weight=None, criterion='gini',\n",
       "                       max_depth=10, max_features=None, max_leaf_nodes=None,\n",
       "                       min_impurity_decrease=0.0, min_impurity_split=None,\n",
       "                       min_samples_leaf=1, min_samples_split=2,\n",
       "                       min_weight_fraction_leaf=0.0, presort='deprecated',\n",
       "                       random_state=0, splitter='best')"
      ]
     },
     "execution_count": 61,
     "metadata": {},
     "output_type": "execute_result"
    }
   ],
   "source": [
    "from sklearn.tree import DecisionTreeClassifier\n",
    "\n",
    "tree_model = DecisionTreeClassifier(random_state=0, max_depth=10)\n",
    "tree_model.fit(tree_train, train_target)"
   ]
  },
  {
   "cell_type": "code",
   "execution_count": 62,
   "id": "ca7a7d34-0e6f-43dc-8a72-57501b95a66b",
   "metadata": {},
   "outputs": [
    {
     "data": {
      "text/plain": [
       "0.982165022319354"
      ]
     },
     "execution_count": 62,
     "metadata": {},
     "output_type": "execute_result"
    }
   ],
   "source": [
    "train_pred = tree_model.predict(tree_train)\n",
    "f1_score(train_target, train_pred, average = 'macro')"
   ]
  },
  {
   "cell_type": "code",
   "execution_count": 63,
   "id": "a3bce0e0-8fd8-4a9f-8dd5-c04e043195c3",
   "metadata": {},
   "outputs": [
    {
     "data": {
      "text/plain": [
       "0.6441109995234633"
      ]
     },
     "execution_count": 63,
     "metadata": {},
     "output_type": "execute_result"
    }
   ],
   "source": [
    "test_pred = tree_model.predict(tree_test)\n",
    "f1_score(test_target, test_pred, average = 'macro')"
   ]
  },
  {
   "cell_type": "code",
   "execution_count": 64,
   "id": "d823b56a-13f8-4a82-bef5-3678d0d075cf",
   "metadata": {},
   "outputs": [
    {
     "data": {
      "text/plain": [
       "array([[ 5,  1,  1,  0,  0,  0,  1,  0,  0,  0],\n",
       "       [ 1, 12,  0,  0,  0,  0,  0,  0,  0,  0],\n",
       "       [ 1,  0,  6,  0,  4,  0,  3,  0,  0,  0],\n",
       "       [ 0,  0,  0,  6,  1,  0,  0,  0,  2,  0],\n",
       "       [ 0,  0,  8,  0,  2,  0,  0,  0,  0,  0],\n",
       "       [ 0,  0,  0,  0,  0,  6,  0,  2,  0,  1],\n",
       "       [ 0,  0,  2,  0,  1,  0,  4,  0,  1,  0],\n",
       "       [ 0,  0,  0,  0,  0,  2,  0,  9,  0,  0],\n",
       "       [ 0,  0,  0,  0,  1,  0,  1,  0, 10,  0],\n",
       "       [ 0,  0,  0,  0,  0,  0,  0,  2,  0,  4]])"
      ]
     },
     "execution_count": 64,
     "metadata": {},
     "output_type": "execute_result"
    }
   ],
   "source": [
    "confusion_matrix(test_target, tree_pred)"
   ]
  },
  {
   "cell_type": "markdown",
   "id": "345ba8d6-418c-4a1d-8a28-433321863e76",
   "metadata": {
    "tags": []
   },
   "source": [
    "## Model - Conv2D"
   ]
  },
  {
   "cell_type": "code",
   "execution_count": 19,
   "id": "acb4e712-2ddd-4741-81c0-3a98a4c202ba",
   "metadata": {},
   "outputs": [
    {
     "data": {
      "text/plain": [
       "(8000, 28, 28, 1)"
      ]
     },
     "execution_count": 19,
     "metadata": {},
     "output_type": "execute_result"
    }
   ],
   "source": [
    "train_scaled.shape"
   ]
  },
  {
   "cell_type": "code",
   "execution_count": 20,
   "id": "0cfb21ad-d065-4949-9e6b-a8d3fa93162c",
   "metadata": {},
   "outputs": [],
   "source": [
    "from sklearn.metrics import confusion_matrix,f1_score, accuracy_score, precision_score, recall_score\n",
    "from tensorflow.keras import Sequential\n",
    "from tensorflow.keras.layers import Conv2D, Dense, Flatten, Dropout, MaxPooling2D, Input, Conv2DTranspose, Concatenate, Resizing, BatchNormalization\n",
    "from tensorflow.keras import backend as K \n",
    "from tensorflow.keras.callbacks import EarlyStopping\n",
    "\n",
    "from keras.preprocessing.image import ImageDataGenerator"
   ]
  },
  {
   "cell_type": "code",
   "execution_count": 21,
   "id": "4b6a00de-1091-40b9-b90f-bb7f96e2ea64",
   "metadata": {},
   "outputs": [],
   "source": [
    "K.clear_session()\n",
    "model = Sequential()\n",
    "model.add(Conv2D(32, 3, padding = 'same', activation = 'relu', input_shape = train_scaled.shape[1:]))\n",
    "model.add(Conv2D(64, 2, padding = 'same', activation = 'relu'))\n",
    "model.add(MaxPooling2D(2))\n",
    "model.add(Flatten())\n",
    "model.add(Dense(100, activation = 'relu'))\n",
    "model.add(Dropout(0.4))\n",
    "model.add(Dense(len(np.unique(train_target)), activation = 'softmax'))\n",
    "# model.summary()"
   ]
  },
  {
   "cell_type": "code",
   "execution_count": 22,
   "id": "d64dace2-80b5-4d2b-8b0c-e07fd2371cf6",
   "metadata": {
    "tags": []
   },
   "outputs": [
    {
     "name": "stdout",
     "output_type": "stream",
     "text": [
      "63/63 [==============================] - 13s 200ms/step - loss: 0.9199 - accuracy: 0.6714 - val_loss: 0.5065 - val_accuracy: 0.8250\n"
     ]
    }
   ],
   "source": [
    "model.compile(optimizer='adam', loss='sparse_categorical_crossentropy', metrics='accuracy')\n",
    "early_stopping_callback = EarlyStopping(monitor='val_loss', min_delta=0.001, patience=10,restore_best_weights=True, mode='min')\n",
    "history = model.fit(train_scaled, train_target, epochs=1, batch_size = 128 , validation_data=(val_scaled, val_target), callbacks = early_stopping_callback)"
   ]
  },
  {
   "cell_type": "code",
   "execution_count": 24,
   "id": "d8bf3b5c-52e7-435a-a32c-348a7a6b0155",
   "metadata": {},
   "outputs": [],
   "source": [
    "# import matplotlib.pyplot as plt\n",
    "\n",
    "# plt.plot(history.history['loss'])\n",
    "# plt.plot(history.history['val_loss'])\n",
    "# plt.xlabel('epoch')\n",
    "# plt.ylabel('loss')\n",
    "# plt.legend(['train', 'val'])\n",
    "# plt.show()"
   ]
  },
  {
   "cell_type": "code",
   "execution_count": 32,
   "id": "86f974af-49e2-41d8-b4e8-dc74ff9d304a",
   "metadata": {},
   "outputs": [
    {
     "name": "stdout",
     "output_type": "stream",
     "text": [
      "4/4 [==============================] - 0s 11ms/step\n"
     ]
    },
    {
     "data": {
      "image/png": "[encoded data removed]",
      "text/plain": [
       "<Figure size 640x480 with 2 Axes>"
      ]
     },
     "metadata": {},
     "output_type": "display_data"
    }
   ],
   "source": [
    "mode = 'test'\n",
    "\n",
    "pred = model.predict(globals()[f'{mode}_scaled'])\n",
    "pred = np.argmax(pred, axis = 1)\n",
    "\n",
    "import seaborn as sns\n",
    "classes = ['티셔츠', '바지', '스웨터', '드레스', '코트', '샌달', '셔츠', '스니커즈', '가방', '앵클 부츠']\n",
    "confusion_max = confusion_matrix(globals()[f'{mode}_target'], pred)\n",
    "np.fill_diagonal(confusion_max, 0)\n",
    "\n",
    "sns.heatmap(confusion_max, cmap=\"YlGnBu\")\n",
    "plt.show()"
   ]
  },
  {
   "cell_type": "code",
   "execution_count": null,
   "id": "603ebb34-cdf7-4e57-8591-3f3223edbcca",
   "metadata": {},
   "outputs": [],
   "source": []
  }
 ],
 "metadata": {
  "instance_type": "ml.t3.medium",
  "kernelspec": {
   "display_name": "Python 3 (Data Science)",
   "language": "python",
   "name": "python3__SAGEMAKER_INTERNAL__arn:aws:sagemaker:ap-northeast-2:806072073708:image/datascience-1.0"
  },
  "language_info": {
   "codemirror_mode": {
    "name": "ipython",
    "version": 3
   },
   "file_extension": ".py",
   "mimetype": "text/x-python",
   "name": "python",
   "nbconvert_exporter": "python",
   "pygments_lexer": "ipython3",
   "version": "3.7.10"
  }
 },
 "nbformat": 4,
 "nbformat_minor": 5
}
