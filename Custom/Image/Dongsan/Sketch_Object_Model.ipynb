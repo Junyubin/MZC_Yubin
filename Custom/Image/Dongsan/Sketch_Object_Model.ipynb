{
 "cells": [
  {
   "cell_type": "markdown",
   "id": "2fcd997e-5c91-419a-9f4f-19461003aba4",
   "metadata": {},
   "source": [
    "## Zip File 풀기"
   ]
  },
  {
   "cell_type": "code",
   "execution_count": 1,
   "id": "12423940-22f3-4f8e-839f-5bfb31398d78",
   "metadata": {},
   "outputs": [],
   "source": [
    "# import zipfile\n",
    "         \n",
    "# fantasy_zip = zipfile.ZipFile('sketches_png.zip')\n",
    "# fantasy_zip.extractall('sketch_png')\n",
    " \n",
    "# fantasy_zip.close()"
   ]
  },
  {
   "cell_type": "markdown",
   "id": "499c3f99-387d-4611-8067-0495e31aca52",
   "metadata": {},
   "source": [
    "## 데이터 불러오기\n"
   ]
  },
  {
   "cell_type": "code",
   "execution_count": 2,
   "id": "c2fd5952-d6c2-41ee-a9d7-ac82f75dd25c",
   "metadata": {},
   "outputs": [],
   "source": [
    "import cv2\n",
    "import matplotlib.pyplot as plt\n",
    "import random\n",
    "import os\n",
    "import matplotlib.image as mpimg\n",
    "import pickle\n",
    "import numpy as np"
   ]
  },
  {
   "cell_type": "code",
   "execution_count": null,
   "id": "60c80ef9-9f8d-4e47-b70e-6bb62ba821c9",
   "metadata": {},
   "outputs": [
    {
     "name": "stdout",
     "output_type": "stream",
     "text": [
      "ear 5920.png\n",
      "ear 5847.png\n",
      "tennis-racket 17706.png\n",
      "tennis-racket 17689.png\n",
      "crocodile 4985.png\n",
      "crocodile 5030.png\n",
      "microphone 10372.png\n"
     ]
    }
   ],
   "source": [
    "IMG_WIDTH=128\n",
    "IMG_HEIGHT=128\n",
    "\n",
    "img_data_array=[]\n",
    "class_name=[]\n",
    "\n",
    "img_folder = 'sketch_png'\n",
    "for dir1 in os.listdir(img_folder):\n",
    "    try:\n",
    "        for file in os.listdir(os.path.join(img_folder, dir1)):       \n",
    "            try:\n",
    "                image_path= os.path.join(img_folder, dir1,  file)\n",
    "                image= cv2.imread(image_path, cv2.COLOR_BGR2RGB)\n",
    "                image=cv2.resize(image, (IMG_HEIGHT, IMG_WIDTH),interpolation = cv2.INTER_AREA)\n",
    "                image=np.array(image)\n",
    "                image = image.astype('float32')\n",
    "                image /= 255 \n",
    "                img_data_array.append(image)\n",
    "                class_name.append(dir1)        \n",
    "            except:\n",
    "                print(dir1,file)\n",
    "                pass\n",
    "    except:\n",
    "        pass"
   ]
  },
  {
   "cell_type": "markdown",
   "id": "1b281f2e-b9c0-4dcc-a87d-2a25d69297eb",
   "metadata": {},
   "source": [
    "## 데이터 확인"
   ]
  },
  {
   "cell_type": "code",
   "execution_count": null,
   "id": "31f13538-94f1-4583-99e1-b3a136cc01aa",
   "metadata": {
    "tags": []
   },
   "outputs": [],
   "source": [
    "plt.figure(figsize=(20,20))\n",
    "\n",
    "img_folder='sketch_png/airplane'\n",
    "\n",
    "for i in range(1):\n",
    "    file = random.choice(os.listdir(img_folder))\n",
    "    image_path= os.path.join(img_folder, file)\n",
    "    img=mpimg.imread(image_path)\n",
    "    print(img.shape)\n",
    "    ax=plt.subplot(1,5,i+1)\n",
    "    ax.title.set_text(file)\n",
    "    plt.imshow(img, cmap='gray')"
   ]
  },
  {
   "cell_type": "markdown",
   "id": "0f3360f7-d2ea-420a-b6ae-48cd884c1781",
   "metadata": {
    "tags": []
   },
   "source": [
    "##  데이터 저장"
   ]
  },
  {
   "cell_type": "code",
   "execution_count": 5,
   "id": "37ff80f1-9f89-4920-8b54-7af4f2fa58a6",
   "metadata": {},
   "outputs": [],
   "source": [
    "# with open(\"png_data.pickle\",'wb') as fw:\n",
    "#     pickle.dump(img_data_array, fw)\n",
    "# with open(\"label_data.pickle\",'wb') as fw:\n",
    "#     pickle.dump(class_name, fw)"
   ]
  },
  {
   "cell_type": "markdown",
   "id": "7e8b957d-c779-4b03-b8c4-aa047a7b957f",
   "metadata": {},
   "source": [
    "## 데이터 불러오기"
   ]
  },
  {
   "cell_type": "code",
   "execution_count": 6,
   "id": "f4f78005-a052-49d5-941c-203af9a412bc",
   "metadata": {},
   "outputs": [],
   "source": [
    "with open(\"png_data.pickle\",'rb') as fr:\n",
    "    img_data_array = pickle.load(fr)\n",
    "with open(\"label_data.pickle\",'rb') as fr:\n",
    "    class_name = pickle.load(fr)"
   ]
  },
  {
   "cell_type": "code",
   "execution_count": 7,
   "id": "c998a2a9-12d4-42c0-8a03-5cb5c4717281",
   "metadata": {},
   "outputs": [
    {
     "data": {
      "text/plain": [
       "(20000, 128, 128)"
      ]
     },
     "execution_count": 7,
     "metadata": {},
     "output_type": "execute_result"
    }
   ],
   "source": [
    "np.array(img_data_array).shape"
   ]
  },
  {
   "cell_type": "markdown",
   "id": "51b3684f-ea7b-4e5d-9506-a1890588dac6",
   "metadata": {},
   "source": [
    "## 데이터 형변환\n"
   ]
  },
  {
   "cell_type": "code",
   "execution_count": 8,
   "id": "ad6462cf-3b25-42e5-a2c7-17c279bdfcce",
   "metadata": {},
   "outputs": [
    {
     "data": {
      "text/plain": [
       "(20000, 128, 128, 1)"
      ]
     },
     "execution_count": 8,
     "metadata": {},
     "output_type": "execute_result"
    }
   ],
   "source": [
    "## X data reshape\n",
    "img_data_array = np.array(img_data_array)\n",
    "img_data_array = img_data_array.reshape(img_data_array.shape[0],img_data_array.shape[1],img_data_array.shape[2],-1)\n",
    "img_data_array.shape"
   ]
  },
  {
   "cell_type": "code",
   "execution_count": 9,
   "id": "22918a27-fbbe-4733-bb44-5624005c125b",
   "metadata": {},
   "outputs": [
    {
     "data": {
      "text/plain": [
       "<matplotlib.image.AxesImage at 0x7f89ce0379d0>"
      ]
     },
     "execution_count": 9,
     "metadata": {},
     "output_type": "execute_result"
    },
    {
     "data": {
      "image/png": "[encoded data removed]",
      "text/plain": [
       "<Figure size 432x288 with 1 Axes>"
      ]
     },
     "metadata": {
      "needs_background": "light"
     },
     "output_type": "display_data"
    }
   ],
   "source": [
    "plt.imshow(img_data_array[100], cmap = 'gray')"
   ]
  },
  {
   "cell_type": "code",
   "execution_count": 10,
   "id": "f40a6780-aa31-4697-80d4-298117f38fc3",
   "metadata": {},
   "outputs": [],
   "source": [
    "## Y data label encoding\n",
    "import pandas as pd\n",
    "temp_df = pd.DataFrame(columns = ['label'], data = class_name)\n",
    "\n",
    "label_index = list(set(class_name))\n",
    "label_dict = {string : i for i,string in enumerate(label_index)}\n",
    "\n",
    "temp_df['label'].replace(label_dict, inplace =True)\n",
    "class_name = temp_df['label'].values"
   ]
  },
  {
   "cell_type": "markdown",
   "id": "3c21935e-dd4c-496f-ae00-ac16979fbd7c",
   "metadata": {},
   "source": [
    "## Train/Test Split (8:2)"
   ]
  },
  {
   "cell_type": "code",
   "execution_count": 11,
   "id": "14355c01-a056-4d06-9ca5-c1a04ad395c7",
   "metadata": {},
   "outputs": [],
   "source": [
    "from sklearn.model_selection import train_test_split\n",
    "train_scaled, val_scaled, train_target, val_target = train_test_split(img_data_array, class_name, test_size=0.2, random_state=42)\n",
    "train_scaled = np.array(train_scaled)"
   ]
  },
  {
   "cell_type": "markdown",
   "id": "345ba8d6-418c-4a1d-8a28-433321863e76",
   "metadata": {
    "tags": []
   },
   "source": [
    "## Model - Conv2D"
   ]
  },
  {
   "cell_type": "code",
   "execution_count": 12,
   "id": "0cfb21ad-d065-4949-9e6b-a8d3fa93162c",
   "metadata": {},
   "outputs": [],
   "source": [
    "from sklearn.metrics import confusion_matrix,f1_score, accuracy_score, precision_score, recall_score\n",
    "from tensorflow.keras import Sequential\n",
    "from tensorflow.keras.layers import Conv2D, Dense, Flatten, Dropout, MaxPooling2D, Input, Conv2DTranspose, Concatenate, Resizing, BatchNormalization\n",
    "from tensorflow.keras import backend as K \n",
    "from tensorflow.keras.callbacks import EarlyStopping\n",
    "import tensorflow as tf\n",
    "from tensorflow import keras\n",
    "tf.random.set_seed(42)"
   ]
  },
  {
   "cell_type": "code",
   "execution_count": 13,
   "id": "cc14d482-520c-48f3-b720-b21134361b90",
   "metadata": {},
   "outputs": [
    {
     "data": {
      "text/plain": [
       "(128, 128, 1)"
      ]
     },
     "execution_count": 13,
     "metadata": {},
     "output_type": "execute_result"
    }
   ],
   "source": [
    "train_scaled.shape[1:]"
   ]
  },
  {
   "cell_type": "code",
   "execution_count": null,
   "id": "1df06803-4c7f-4fd7-9d22-4663e49e67d2",
   "metadata": {},
   "outputs": [],
   "source": [
    "model = Sequential()\n",
    "model.add(Conv2D(16, (3, 3), activation='relu', input_shape = train_scaled.shape[1:]))\n",
    "model.add(MaxPooling2D(2,2))\n",
    "model.add(Conv2D(32, (3, 3), padding = 'same', activation = 'relu'))\n",
    "model.add(MaxPooling2D(2,2))\n",
    "model.add(Conv2D(64, (3, 3), padding = 'same', activation = 'relu'))\n",
    "model.add(MaxPooling2D(2,2))\n",
    "model.add(Conv2D(64, (3, 3), padding = 'same', activation = 'relu'))\n",
    "model.add(MaxPooling2D(2,2))\n",
    "model.add(Conv2D(64, (3, 3), padding = 'same', activation = 'relu'))\n",
    "model.add(MaxPooling2D(2,2))\n",
    "model.add(Flatten())\n",
    "model.add(Dense(512, activation='relu'))\n",
    "model.add(Dense(len(np.unique(train_target)),activation = 'softmax'))\n",
    "\n",
    "model.summary()"
   ]
  },
  {
   "cell_type": "code",
   "execution_count": 14,
   "id": "4b6a00de-1091-40b9-b90f-bb7f96e2ea64",
   "metadata": {},
   "outputs": [
    {
     "name": "stdout",
     "output_type": "stream",
     "text": [
      "Model: \"sequential\"\n",
      "_________________________________________________________________\n",
      "Layer (type)                 Output Shape              Param #   \n",
      "=================================================================\n",
      "conv2d (Conv2D)              (None, 128, 128, 32)      320       \n",
      "_________________________________________________________________\n",
      "conv2d_1 (Conv2D)            (None, 128, 128, 64)      8256      \n",
      "_________________________________________________________________\n",
      "max_pooling2d (MaxPooling2D) (None, 64, 64, 64)        0         \n",
      "_________________________________________________________________\n",
      "flatten (Flatten)            (None, 262144)            0         \n",
      "_________________________________________________________________\n",
      "dense (Dense)                (None, 256)               67109120  \n",
      "_________________________________________________________________\n",
      "dropout (Dropout)            (None, 256)               0         \n",
      "_________________________________________________________________\n",
      "dense_1 (Dense)              (None, 250)               64250     \n",
      "=================================================================\n",
      "Total params: 67,181,946\n",
      "Trainable params: 67,181,946\n",
      "Non-trainable params: 0\n",
      "_________________________________________________________________\n"
     ]
    }
   ],
   "source": [
    "K.clear_session()\n",
    "model = Sequential()\n",
    "model.add(Conv2D(32, 3, padding = 'same', activation = 'relu', input_shape = train_scaled.shape[1:]))\n",
    "model.add(Conv2D(64, 2, padding = 'same', activation = 'relu'))\n",
    "model.add(MaxPooling2D(2))\n",
    "model.add(Flatten())\n",
    "model.add(Dense(256, activation = 'relu'))\n",
    "model.add(Dropout(0.4))\n",
    "model.add(Dense(len(np.unique(train_target)), activation = 'softmax'))\n",
    "model.summary()"
   ]
  },
  {
   "cell_type": "code",
   "execution_count": 15,
   "id": "defd2ee7-5de5-49d2-b5e6-60078cf31c1b",
   "metadata": {},
   "outputs": [
    {
     "name": "stdout",
     "output_type": "stream",
     "text": [
      "Epoch 1/100\n",
      "Extension horovod.torch has not been built: /usr/local/lib/python3.8/site-packages/horovod/torch/mpi_lib/_mpi_lib.cpython-38-x86_64-linux-gnu.so not found\n",
      "If this is not expected, reinstall Horovod with HOROVOD_WITH_PYTORCH=1 to debug the build error.\n",
      "Warning! MPI libs are missing, but python applications are still avaiable.\n",
      "[2022-08-01 06:33:57.815 tensorflow-2-6-cpu--ml-g4dn-xlarge-46981aad7de2c9ad4ff237041403:1152 INFO utils.py:27] RULE_JOB_STOP_SIGNAL_FILENAME: None\n",
      "[2022-08-01 06:33:57.964 tensorflow-2-6-cpu--ml-g4dn-xlarge-46981aad7de2c9ad4ff237041403:1152 INFO profiler_config_parser.py:111] Unable to find config at /opt/ml/input/config/profilerconfig.json. Profiler is disabled.\n",
      "250/250 [==============================] - 175s 695ms/step - loss: 5.5234 - accuracy: 0.0029 - val_loss: 5.5216 - val_accuracy: 0.0022\n",
      "Epoch 2/100\n",
      "250/250 [==============================] - 173s 692ms/step - loss: 5.5215 - accuracy: 0.0028 - val_loss: 5.5217 - val_accuracy: 0.0022\n",
      "Epoch 3/100\n",
      "250/250 [==============================] - 173s 691ms/step - loss: 5.5215 - accuracy: 0.0030 - val_loss: 5.5218 - val_accuracy: 0.0020\n",
      "Epoch 4/100\n",
      "250/250 [==============================] - 172s 687ms/step - loss: 5.5215 - accuracy: 0.0039 - val_loss: 5.5219 - val_accuracy: 0.0020\n",
      "Epoch 5/100\n",
      "241/250 [===========================>..] - ETA: 5s - loss: 5.5214 - accuracy: 0.0046"
     ]
    },
    {
     "ename": "KeyboardInterrupt",
     "evalue": "",
     "output_type": "error",
     "traceback": [
      "\u001b[0;31m---------------------------------------------------------------------------\u001b[0m",
      "\u001b[0;31mKeyboardInterrupt\u001b[0m                         Traceback (most recent call last)",
      "\u001b[0;32m<ipython-input-15-ed3e429243f6>\u001b[0m in \u001b[0;36m<module>\u001b[0;34m\u001b[0m\n\u001b[1;32m      1\u001b[0m \u001b[0mmodel\u001b[0m\u001b[0;34m.\u001b[0m\u001b[0mcompile\u001b[0m\u001b[0;34m(\u001b[0m\u001b[0moptimizer\u001b[0m\u001b[0;34m=\u001b[0m\u001b[0;34m'SGD'\u001b[0m\u001b[0;34m,\u001b[0m \u001b[0mloss\u001b[0m\u001b[0;34m=\u001b[0m\u001b[0;34m'sparse_categorical_crossentropy'\u001b[0m\u001b[0;34m,\u001b[0m \u001b[0mmetrics\u001b[0m\u001b[0;34m=\u001b[0m\u001b[0;34m'accuracy'\u001b[0m\u001b[0;34m)\u001b[0m\u001b[0;34m\u001b[0m\u001b[0;34m\u001b[0m\u001b[0m\n\u001b[1;32m      2\u001b[0m \u001b[0mearly_stopping_callback\u001b[0m \u001b[0;34m=\u001b[0m \u001b[0mEarlyStopping\u001b[0m\u001b[0;34m(\u001b[0m\u001b[0mmonitor\u001b[0m\u001b[0;34m=\u001b[0m\u001b[0;34m'val_loss'\u001b[0m\u001b[0;34m,\u001b[0m \u001b[0mmin_delta\u001b[0m\u001b[0;34m=\u001b[0m\u001b[0;36m0.001\u001b[0m\u001b[0;34m,\u001b[0m \u001b[0mpatience\u001b[0m\u001b[0;34m=\u001b[0m\u001b[0;36m10\u001b[0m\u001b[0;34m,\u001b[0m\u001b[0mrestore_best_weights\u001b[0m\u001b[0;34m=\u001b[0m\u001b[0;32mTrue\u001b[0m\u001b[0;34m,\u001b[0m \u001b[0mmode\u001b[0m\u001b[0;34m=\u001b[0m\u001b[0;34m'min'\u001b[0m\u001b[0;34m)\u001b[0m\u001b[0;34m\u001b[0m\u001b[0;34m\u001b[0m\u001b[0m\n\u001b[0;32m----> 3\u001b[0;31m \u001b[0mhistory\u001b[0m \u001b[0;34m=\u001b[0m \u001b[0mmodel\u001b[0m\u001b[0;34m.\u001b[0m\u001b[0mfit\u001b[0m\u001b[0;34m(\u001b[0m\u001b[0mtrain_scaled\u001b[0m\u001b[0;34m,\u001b[0m \u001b[0mtrain_target\u001b[0m\u001b[0;34m,\u001b[0m \u001b[0mepochs\u001b[0m\u001b[0;34m=\u001b[0m\u001b[0;36m100\u001b[0m\u001b[0;34m,\u001b[0m \u001b[0mbatch_size\u001b[0m \u001b[0;34m=\u001b[0m \u001b[0;36m64\u001b[0m \u001b[0;34m,\u001b[0m \u001b[0mvalidation_data\u001b[0m\u001b[0;34m=\u001b[0m\u001b[0;34m(\u001b[0m\u001b[0mval_scaled\u001b[0m\u001b[0;34m,\u001b[0m \u001b[0mval_target\u001b[0m\u001b[0;34m)\u001b[0m\u001b[0;34m,\u001b[0m \u001b[0mcallbacks\u001b[0m \u001b[0;34m=\u001b[0m \u001b[0mearly_stopping_callback\u001b[0m\u001b[0;34m)\u001b[0m\u001b[0;34m\u001b[0m\u001b[0;34m\u001b[0m\u001b[0m\n\u001b[0m",
      "\u001b[0;32m/usr/local/lib/python3.8/site-packages/keras/engine/training.py\u001b[0m in \u001b[0;36mfit\u001b[0;34m(self, x, y, batch_size, epochs, verbose, callbacks, validation_split, validation_data, shuffle, class_weight, sample_weight, initial_epoch, steps_per_epoch, validation_steps, validation_batch_size, validation_freq, max_queue_size, workers, use_multiprocessing)\u001b[0m\n\u001b[1;32m   1182\u001b[0m                 _r=1):\n\u001b[1;32m   1183\u001b[0m               \u001b[0mcallbacks\u001b[0m\u001b[0;34m.\u001b[0m\u001b[0mon_train_batch_begin\u001b[0m\u001b[0;34m(\u001b[0m\u001b[0mstep\u001b[0m\u001b[0;34m)\u001b[0m\u001b[0;34m\u001b[0m\u001b[0;34m\u001b[0m\u001b[0m\n\u001b[0;32m-> 1184\u001b[0;31m               \u001b[0mtmp_logs\u001b[0m \u001b[0;34m=\u001b[0m \u001b[0mself\u001b[0m\u001b[0;34m.\u001b[0m\u001b[0mtrain_function\u001b[0m\u001b[0;34m(\u001b[0m\u001b[0miterator\u001b[0m\u001b[0;34m)\u001b[0m\u001b[0;34m\u001b[0m\u001b[0;34m\u001b[0m\u001b[0m\n\u001b[0m\u001b[1;32m   1185\u001b[0m               \u001b[0;32mif\u001b[0m \u001b[0mdata_handler\u001b[0m\u001b[0;34m.\u001b[0m\u001b[0mshould_sync\u001b[0m\u001b[0;34m:\u001b[0m\u001b[0;34m\u001b[0m\u001b[0;34m\u001b[0m\u001b[0m\n\u001b[1;32m   1186\u001b[0m                 \u001b[0mcontext\u001b[0m\u001b[0;34m.\u001b[0m\u001b[0masync_wait\u001b[0m\u001b[0;34m(\u001b[0m\u001b[0;34m)\u001b[0m\u001b[0;34m\u001b[0m\u001b[0;34m\u001b[0m\u001b[0m\n",
      "\u001b[0;32m/usr/local/lib/python3.8/site-packages/tensorflow/python/eager/def_function.py\u001b[0m in \u001b[0;36m__call__\u001b[0;34m(self, *args, **kwds)\u001b[0m\n\u001b[1;32m    883\u001b[0m \u001b[0;34m\u001b[0m\u001b[0m\n\u001b[1;32m    884\u001b[0m       \u001b[0;32mwith\u001b[0m \u001b[0mOptionalXlaContext\u001b[0m\u001b[0;34m(\u001b[0m\u001b[0mself\u001b[0m\u001b[0;34m.\u001b[0m\u001b[0m_jit_compile\u001b[0m\u001b[0;34m)\u001b[0m\u001b[0;34m:\u001b[0m\u001b[0;34m\u001b[0m\u001b[0;34m\u001b[0m\u001b[0m\n\u001b[0;32m--> 885\u001b[0;31m         \u001b[0mresult\u001b[0m \u001b[0;34m=\u001b[0m \u001b[0mself\u001b[0m\u001b[0;34m.\u001b[0m\u001b[0m_call\u001b[0m\u001b[0;34m(\u001b[0m\u001b[0;34m*\u001b[0m\u001b[0margs\u001b[0m\u001b[0;34m,\u001b[0m \u001b[0;34m**\u001b[0m\u001b[0mkwds\u001b[0m\u001b[0;34m)\u001b[0m\u001b[0;34m\u001b[0m\u001b[0;34m\u001b[0m\u001b[0m\n\u001b[0m\u001b[1;32m    886\u001b[0m \u001b[0;34m\u001b[0m\u001b[0m\n\u001b[1;32m    887\u001b[0m       \u001b[0mnew_tracing_count\u001b[0m \u001b[0;34m=\u001b[0m \u001b[0mself\u001b[0m\u001b[0;34m.\u001b[0m\u001b[0mexperimental_get_tracing_count\u001b[0m\u001b[0;34m(\u001b[0m\u001b[0;34m)\u001b[0m\u001b[0;34m\u001b[0m\u001b[0;34m\u001b[0m\u001b[0m\n",
      "\u001b[0;32m/usr/local/lib/python3.8/site-packages/tensorflow/python/eager/def_function.py\u001b[0m in \u001b[0;36m_call\u001b[0;34m(self, *args, **kwds)\u001b[0m\n\u001b[1;32m    915\u001b[0m       \u001b[0;31m# In this case we have created variables on the first call, so we run the\u001b[0m\u001b[0;34m\u001b[0m\u001b[0;34m\u001b[0m\u001b[0;34m\u001b[0m\u001b[0m\n\u001b[1;32m    916\u001b[0m       \u001b[0;31m# defunned version which is guaranteed to never create variables.\u001b[0m\u001b[0;34m\u001b[0m\u001b[0;34m\u001b[0m\u001b[0;34m\u001b[0m\u001b[0m\n\u001b[0;32m--> 917\u001b[0;31m       \u001b[0;32mreturn\u001b[0m \u001b[0mself\u001b[0m\u001b[0;34m.\u001b[0m\u001b[0m_stateless_fn\u001b[0m\u001b[0;34m(\u001b[0m\u001b[0;34m*\u001b[0m\u001b[0margs\u001b[0m\u001b[0;34m,\u001b[0m \u001b[0;34m**\u001b[0m\u001b[0mkwds\u001b[0m\u001b[0;34m)\u001b[0m  \u001b[0;31m# pylint: disable=not-callable\u001b[0m\u001b[0;34m\u001b[0m\u001b[0;34m\u001b[0m\u001b[0m\n\u001b[0m\u001b[1;32m    918\u001b[0m     \u001b[0;32melif\u001b[0m \u001b[0mself\u001b[0m\u001b[0;34m.\u001b[0m\u001b[0m_stateful_fn\u001b[0m \u001b[0;32mis\u001b[0m \u001b[0;32mnot\u001b[0m \u001b[0;32mNone\u001b[0m\u001b[0;34m:\u001b[0m\u001b[0;34m\u001b[0m\u001b[0;34m\u001b[0m\u001b[0m\n\u001b[1;32m    919\u001b[0m       \u001b[0;31m# Release the lock early so that multiple threads can perform the call\u001b[0m\u001b[0;34m\u001b[0m\u001b[0;34m\u001b[0m\u001b[0;34m\u001b[0m\u001b[0m\n",
      "\u001b[0;32m/usr/local/lib/python3.8/site-packages/tensorflow/python/eager/function.py\u001b[0m in \u001b[0;36m__call__\u001b[0;34m(self, *args, **kwargs)\u001b[0m\n\u001b[1;32m   3037\u001b[0m       (graph_function,\n\u001b[1;32m   3038\u001b[0m        filtered_flat_args) = self._maybe_define_function(args, kwargs)\n\u001b[0;32m-> 3039\u001b[0;31m     return graph_function._call_flat(\n\u001b[0m\u001b[1;32m   3040\u001b[0m         filtered_flat_args, captured_inputs=graph_function.captured_inputs)  # pylint: disable=protected-access\n\u001b[1;32m   3041\u001b[0m \u001b[0;34m\u001b[0m\u001b[0m\n",
      "\u001b[0;32m/usr/local/lib/python3.8/site-packages/tensorflow/python/eager/function.py\u001b[0m in \u001b[0;36m_call_flat\u001b[0;34m(self, args, captured_inputs, cancellation_manager)\u001b[0m\n\u001b[1;32m   1961\u001b[0m         and executing_eagerly):\n\u001b[1;32m   1962\u001b[0m       \u001b[0;31m# No tape is watching; skip to running the function.\u001b[0m\u001b[0;34m\u001b[0m\u001b[0;34m\u001b[0m\u001b[0;34m\u001b[0m\u001b[0m\n\u001b[0;32m-> 1963\u001b[0;31m       return self._build_call_outputs(self._inference_function.call(\n\u001b[0m\u001b[1;32m   1964\u001b[0m           ctx, args, cancellation_manager=cancellation_manager))\n\u001b[1;32m   1965\u001b[0m     forward_backward = self._select_forward_and_backward_functions(\n",
      "\u001b[0;32m/usr/local/lib/python3.8/site-packages/tensorflow/python/eager/function.py\u001b[0m in \u001b[0;36mcall\u001b[0;34m(self, ctx, args, cancellation_manager)\u001b[0m\n\u001b[1;32m    589\u001b[0m       \u001b[0;32mwith\u001b[0m \u001b[0m_InterpolateFunctionError\u001b[0m\u001b[0;34m(\u001b[0m\u001b[0mself\u001b[0m\u001b[0;34m)\u001b[0m\u001b[0;34m:\u001b[0m\u001b[0;34m\u001b[0m\u001b[0;34m\u001b[0m\u001b[0m\n\u001b[1;32m    590\u001b[0m         \u001b[0;32mif\u001b[0m \u001b[0mcancellation_manager\u001b[0m \u001b[0;32mis\u001b[0m \u001b[0;32mNone\u001b[0m\u001b[0;34m:\u001b[0m\u001b[0;34m\u001b[0m\u001b[0;34m\u001b[0m\u001b[0m\n\u001b[0;32m--> 591\u001b[0;31m           outputs = execute.execute(\n\u001b[0m\u001b[1;32m    592\u001b[0m               \u001b[0mstr\u001b[0m\u001b[0;34m(\u001b[0m\u001b[0mself\u001b[0m\u001b[0;34m.\u001b[0m\u001b[0msignature\u001b[0m\u001b[0;34m.\u001b[0m\u001b[0mname\u001b[0m\u001b[0;34m)\u001b[0m\u001b[0;34m,\u001b[0m\u001b[0;34m\u001b[0m\u001b[0;34m\u001b[0m\u001b[0m\n\u001b[1;32m    593\u001b[0m               \u001b[0mnum_outputs\u001b[0m\u001b[0;34m=\u001b[0m\u001b[0mself\u001b[0m\u001b[0;34m.\u001b[0m\u001b[0m_num_outputs\u001b[0m\u001b[0;34m,\u001b[0m\u001b[0;34m\u001b[0m\u001b[0;34m\u001b[0m\u001b[0m\n",
      "\u001b[0;32m/usr/local/lib/python3.8/site-packages/tensorflow/python/eager/execute.py\u001b[0m in \u001b[0;36mquick_execute\u001b[0;34m(op_name, num_outputs, inputs, attrs, ctx, name)\u001b[0m\n\u001b[1;32m     57\u001b[0m   \u001b[0;32mtry\u001b[0m\u001b[0;34m:\u001b[0m\u001b[0;34m\u001b[0m\u001b[0;34m\u001b[0m\u001b[0m\n\u001b[1;32m     58\u001b[0m     \u001b[0mctx\u001b[0m\u001b[0;34m.\u001b[0m\u001b[0mensure_initialized\u001b[0m\u001b[0;34m(\u001b[0m\u001b[0;34m)\u001b[0m\u001b[0;34m\u001b[0m\u001b[0;34m\u001b[0m\u001b[0m\n\u001b[0;32m---> 59\u001b[0;31m     tensors = pywrap_tfe.TFE_Py_Execute(ctx._handle, device_name, op_name,\n\u001b[0m\u001b[1;32m     60\u001b[0m                                         inputs, attrs, num_outputs)\n\u001b[1;32m     61\u001b[0m   \u001b[0;32mexcept\u001b[0m \u001b[0mcore\u001b[0m\u001b[0;34m.\u001b[0m\u001b[0m_NotOkStatusException\u001b[0m \u001b[0;32mas\u001b[0m \u001b[0me\u001b[0m\u001b[0;34m:\u001b[0m\u001b[0;34m\u001b[0m\u001b[0;34m\u001b[0m\u001b[0m\n",
      "\u001b[0;31mKeyboardInterrupt\u001b[0m: "
     ]
    }
   ],
   "source": [
    "model.compile(optimizer='SGD', loss='sparse_categorical_crossentropy', metrics='accuracy')\n",
    "early_stopping_callback = EarlyStopping(monitor='val_loss', min_delta=0.001, patience=10,restore_best_weights=True, mode='min')\n",
    "history = model.fit(train_scaled, train_target, epochs=100, batch_size = 64 , validation_data=(val_scaled, val_target), callbacks = early_stopping_callback)"
   ]
  },
  {
   "cell_type": "code",
   "execution_count": null,
   "id": "d8bf3b5c-52e7-435a-a32c-348a7a6b0155",
   "metadata": {},
   "outputs": [],
   "source": [
    "import matplotlib.pyplot as plt\n",
    "\n",
    "plt.plot(history.history['loss'])\n",
    "plt.plot(history.history['val_loss'])\n",
    "plt.xlabel('epoch')\n",
    "plt.ylabel('loss')\n",
    "plt.legend(['train', 'val'])\n",
    "plt.show()"
   ]
  },
  {
   "cell_type": "code",
   "execution_count": null,
   "id": "86f974af-49e2-41d8-b4e8-dc74ff9d304a",
   "metadata": {},
   "outputs": [],
   "source": [
    "mode = 'val'\n",
    "\n",
    "pred = model.predict(globals()[f'{mode}_scaled'])\n",
    "pred = np.argmax(pred, axis = 1)\n",
    "\n",
    "f1_ = f1_score(globals()[f'{mode}_target'], pred, average = 'macro')\n",
    "acc_ = accuracy_score(globals()[f'{mode}_target'], pred)\n",
    "prec_ = precision_score(globals()[f'{mode}_target'], pred, average = 'macro')\n",
    "recall_ = recall_score(globals()[f'{mode}_target'], pred, average = 'macro')\n",
    "\n",
    "print(f'f1_score : {f1_} \\nacc_score : {acc_}\\nprecicion_score : {prec_}\\nrecall_score : {recall_}')\n",
    "confusion_matrix(globals()[f'{mode}_target'], pred)"
   ]
  },
  {
   "cell_type": "code",
   "execution_count": 85,
   "id": "bcad13a2-d88c-4b8d-9ae4-6a29729ef8ad",
   "metadata": {},
   "outputs": [
    {
     "data": {
      "text/plain": [
       "<AxesSubplot:>"
      ]
     },
     "execution_count": 85,
     "metadata": {},
     "output_type": "execute_result"
    },
    {
     "data": {
      "image/png": "[encoded data removed]",
      "text/plain": [
       "<Figure size 432x288 with 2 Axes>"
      ]
     },
     "metadata": {
      "needs_background": "light"
     },
     "output_type": "display_data"
    }
   ],
   "source": [
    "import seaborn as sns\n",
    "classes = ['티셔츠', '바지', '스웨터', '드레스', '코트', '샌달', '셔츠', '스니커즈', '가방', '앵클 부츠']\n",
    "confusion_max = confusion_matrix(globals()[f'{mode}_target'], pred)\n",
    "np.fill_diagonal(confusion_max, 0)\n",
    "\n",
    "sns.heatmap(confusion_max, cmap=\"YlGnBu\")"
   ]
  },
  {
   "cell_type": "markdown",
   "id": "e91a25ac-39be-4bc8-aa97-f5f418d08e42",
   "metadata": {
    "tags": []
   },
   "source": [
    "## Model Test"
   ]
  },
  {
   "cell_type": "code",
   "execution_count": 72,
   "id": "62df3943-002d-4a6a-88c6-2fa545fc004c",
   "metadata": {},
   "outputs": [],
   "source": [
    "from tensorflow.python.keras.applications.vgg16 import VGG16\n",
    "from tensorflow.python.keras.applications.vgg19 import VGG19\n",
    "### Image sizing 조절 layer : Resizing, Conv2DTranspose(Autoencoder 생성의 경우 많이 쓰이는 듯)"
   ]
  },
  {
   "cell_type": "code",
   "execution_count": 73,
   "id": "e9a031c5-48cf-4474-b227-4c9b101ef8a0",
   "metadata": {},
   "outputs": [],
   "source": [
    "## VGG 모델 불러오기\n",
    "base_model = VGG16(include_top = False, weights = \"imagenet\", input_shape = (32,32,3))\n",
    "base_model.trainable = False ## 가중치 고정\n",
    "# base_model.summary()"
   ]
  },
  {
   "cell_type": "code",
   "execution_count": 74,
   "id": "43270ca7-630e-4910-bb3f-7ffcd6599b4f",
   "metadata": {},
   "outputs": [],
   "source": [
    "## 가중치 고정 안된 layer 있는지 확인\n",
    "for i in base_model.layers:\n",
    "    if len(i.non_trainable_weights) < 0:\n",
    "        print(i.name)\n",
    "        print(len(i.non_trainable_weights))        "
   ]
  },
  {
   "cell_type": "code",
   "execution_count": 75,
   "id": "4ce44b34-8e6f-47aa-b26b-1069454f9717",
   "metadata": {},
   "outputs": [],
   "source": [
    "# ## Resizing을 통한 모델 결합\n",
    "# K.clear_session()\n",
    "# resize_model = Sequential()\n",
    "# resize_model.add(Input(shape = train_scaled.shape[1:]))\n",
    "# resize_model.add(Resizing(32,32, interpolation = 'gaussian'))\n",
    "# resize_model.add(Conv2D(3,3,padding = 'same', activation = 'relu'))\n",
    "# resize_model.add(base_model)\n",
    "# resize_model.add(Flatten())\n",
    "# resize_model.add(Dense(len(np.unique(test_target)), activation = 'relu'))\n",
    "# resize_model.summary()"
   ]
  },
  {
   "cell_type": "code",
   "execution_count": 76,
   "id": "b33860b0-2632-4178-8d9f-348faf74188a",
   "metadata": {},
   "outputs": [],
   "source": [
    "# resize_model.compile(optimizer='adam', loss='sparse_categorical_crossentropy', metrics='accuracy')\n",
    "# early_stopping_callback = EarlyStopping(monitor='val_loss', min_delta=0.001, patience=10, mode='min')\n",
    "# history = resize_model.fit(train_scaled, train_target, epochs=100, batch_size = 32 , validation_data=(val_scaled, val_target), callbacks = early_stopping_callback)"
   ]
  },
  {
   "cell_type": "code",
   "execution_count": 77,
   "id": "7bd91d38-6899-4b68-a618-6d60f6e1666c",
   "metadata": {},
   "outputs": [],
   "source": [
    "# ## Conv2D Trans를 통한 모델 결합\n",
    "# K.clear_session()\n",
    "# test_model = Sequential()\n",
    "# test_model.add(Input(shape = train_scaled.shape[1:]))\n",
    "# test_model.add(Conv2DTranspose(3,5,padding = 'valid'))\n",
    "# test_model.add(base_model)\n",
    "# test_model.add(Flatten())\n",
    "# test_model.add(Dense(len(np.unique(test_target))))\n",
    "# test_model.summary()"
   ]
  },
  {
   "cell_type": "code",
   "execution_count": 78,
   "id": "ecc172eb-b5fc-405f-8d95-94bcc9cd33eb",
   "metadata": {},
   "outputs": [],
   "source": [
    "# test_model.compile(optimizer='adam', loss='sparse_categorical_crossentropy', metrics='accuracy')\n",
    "# early_stopping_callback = EarlyStopping(monitor='val_loss', min_delta=0.001, patience=10, mode='min')\n",
    "# history = test_model.fit(train_scaled, train_target, epochs=100, batch_size = 64 , validation_data=(val_scaled, val_target), callbacks = early_stopping_callback)"
   ]
  }
 ],
 "metadata": {
  "instance_type": "ml.t3.medium",
  "kernelspec": {
   "display_name": "Python 3 (TensorFlow 2.6 Python 3.8 CPU Optimized)",
   "language": "python",
   "name": "python3__SAGEMAKER_INTERNAL__arn:aws:sagemaker:ap-northeast-2:806072073708:image/tensorflow-2.6-cpu-py38-ubuntu20.04-v1"
  },
  "language_info": {
   "codemirror_mode": {
    "name": "ipython",
    "version": 3
   },
   "file_extension": ".py",
   "mimetype": "text/x-python",
   "name": "python",
   "nbconvert_exporter": "python",
   "pygments_lexer": "ipython3",
   "version": "3.8.2"
  }
 },
 "nbformat": 4,
 "nbformat_minor": 5
}
