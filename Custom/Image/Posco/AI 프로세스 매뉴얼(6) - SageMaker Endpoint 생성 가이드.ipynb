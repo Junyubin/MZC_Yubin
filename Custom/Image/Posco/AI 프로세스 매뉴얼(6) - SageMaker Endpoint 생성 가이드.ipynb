{
 "cells": [
  {
   "cell_type": "markdown",
   "id": "c3a59dd3",
   "metadata": {},
   "source": [
    "# AI/ML 프로세스 매뉴얼(5) - SageMaker Endpoint 생성가이드"
   ]
  },
  {
   "cell_type": "markdown",
   "id": "a541c439",
   "metadata": {},
   "source": [
    "## 1) Yolov5 clone 및 필요 라이브러리 설치"
   ]
  },
  {
   "cell_type": "code",
   "execution_count": 2,
   "id": "ffa50dd2",
   "metadata": {
    "scrolled": true
   },
   "outputs": [
    {
     "name": "stdout",
     "output_type": "stream",
     "text": [
      "Cloning into 'yolov5'...\n",
      "remote: Enumerating objects: 14391, done.\u001b[K\n",
      "remote: Counting objects: 100% (12/12), done.\u001b[K\n",
      "remote: Compressing objects: 100% (9/9), done.\u001b[K\n",
      "remote: Total 14391 (delta 3), reused 7 (delta 3), pack-reused 14379\u001b[K\n",
      "Receiving objects: 100% (14391/14391), 13.33 MiB | 20.58 MiB/s, done.\n",
      "Resolving deltas: 100% (9958/9958), done.\n",
      "/home/ec2-user/SageMaker/yolov5\n",
      "Looking in indexes: https://pypi.org/simple, https://pip.repos.neuron.amazonaws.com\n",
      "Requirement already satisfied: matplotlib>=3.2.2 in /home/ec2-user/anaconda3/envs/amazonei_tensorflow2_p36/lib/python3.6/site-packages (from -r requirements.txt (line 5)) (3.3.4)\n",
      "Requirement already satisfied: numpy>=1.18.5 in /home/ec2-user/anaconda3/envs/amazonei_tensorflow2_p36/lib/python3.6/site-packages (from -r requirements.txt (line 6)) (1.19.5)\n",
      "Requirement already satisfied: opencv-python>=4.1.1 in /home/ec2-user/anaconda3/envs/amazonei_tensorflow2_p36/lib/python3.6/site-packages (from -r requirements.txt (line 7)) (4.2.0.34)\n",
      "Requirement already satisfied: Pillow>=7.1.2 in /home/ec2-user/anaconda3/envs/amazonei_tensorflow2_p36/lib/python3.6/site-packages (from -r requirements.txt (line 8)) (8.4.0)\n",
      "Requirement already satisfied: PyYAML>=5.3.1 in /home/ec2-user/anaconda3/envs/amazonei_tensorflow2_p36/lib/python3.6/site-packages (from -r requirements.txt (line 9)) (5.4.1)\n",
      "Requirement already satisfied: requests>=2.23.0 in /home/ec2-user/anaconda3/envs/amazonei_tensorflow2_p36/lib/python3.6/site-packages (from -r requirements.txt (line 10)) (2.27.1)\n",
      "Requirement already satisfied: scipy>=1.4.1 in /home/ec2-user/anaconda3/envs/amazonei_tensorflow2_p36/lib/python3.6/site-packages (from -r requirements.txt (line 11)) (1.5.3)\n",
      "Collecting torch>=1.7.0\n",
      "  Downloading torch-1.10.2-cp36-cp36m-manylinux1_x86_64.whl (881.9 MB)\n",
      "     |████████████████████████████████| 881.9 MB 2.4 kB/s             █████▊| 873.8 MB 83.9 MB/s eta 0:00:01\n",
      "\u001b[?25hCollecting torchvision>=0.8.1\n",
      "  Downloading torchvision-0.11.2-cp36-cp36m-manylinux1_x86_64.whl (23.3 MB)\n",
      "     |████████████████████████████████| 23.3 MB 74.5 MB/s            \n",
      "\u001b[?25hCollecting tqdm>=4.64.0\n",
      "  Downloading tqdm-4.64.1-py2.py3-none-any.whl (78 kB)\n",
      "     |████████████████████████████████| 78 kB 856 kB/s             \n",
      "\u001b[?25hRequirement already satisfied: tensorboard>=2.4.1 in /home/ec2-user/anaconda3/envs/amazonei_tensorflow2_p36/lib/python3.6/site-packages (from -r requirements.txt (line 18)) (2.8.0)\n",
      "Requirement already satisfied: pandas>=1.1.4 in /home/ec2-user/anaconda3/envs/amazonei_tensorflow2_p36/lib/python3.6/site-packages (from -r requirements.txt (line 23)) (1.1.5)\n",
      "Requirement already satisfied: seaborn>=0.11.0 in /home/ec2-user/anaconda3/envs/amazonei_tensorflow2_p36/lib/python3.6/site-packages (from -r requirements.txt (line 24)) (0.11.1)\n",
      "Requirement already satisfied: ipython in /home/ec2-user/anaconda3/envs/amazonei_tensorflow2_p36/lib/python3.6/site-packages (from -r requirements.txt (line 41)) (7.16.1)\n",
      "Requirement already satisfied: psutil in /home/ec2-user/anaconda3/envs/amazonei_tensorflow2_p36/lib/python3.6/site-packages (from -r requirements.txt (line 42)) (5.8.0)\n",
      "Collecting thop>=0.1.1\n",
      "  Downloading thop-0.1.1.post2209072238-py3-none-any.whl (15 kB)\n",
      "Requirement already satisfied: kiwisolver>=1.0.1 in /home/ec2-user/anaconda3/envs/amazonei_tensorflow2_p36/lib/python3.6/site-packages (from matplotlib>=3.2.2->-r requirements.txt (line 5)) (1.3.1)\n",
      "Requirement already satisfied: python-dateutil>=2.1 in /home/ec2-user/anaconda3/envs/amazonei_tensorflow2_p36/lib/python3.6/site-packages (from matplotlib>=3.2.2->-r requirements.txt (line 5)) (2.8.1)\n",
      "Requirement already satisfied: pyparsing!=2.0.4,!=2.1.2,!=2.1.6,>=2.0.3 in /home/ec2-user/anaconda3/envs/amazonei_tensorflow2_p36/lib/python3.6/site-packages (from matplotlib>=3.2.2->-r requirements.txt (line 5)) (2.4.7)\n",
      "Requirement already satisfied: cycler>=0.10 in /home/ec2-user/anaconda3/envs/amazonei_tensorflow2_p36/lib/python3.6/site-packages (from matplotlib>=3.2.2->-r requirements.txt (line 5)) (0.10.0)\n",
      "Requirement already satisfied: idna<4,>=2.5 in /home/ec2-user/anaconda3/envs/amazonei_tensorflow2_p36/lib/python3.6/site-packages (from requests>=2.23.0->-r requirements.txt (line 10)) (3.1)\n",
      "Requirement already satisfied: certifi>=2017.4.17 in /home/ec2-user/anaconda3/envs/amazonei_tensorflow2_p36/lib/python3.6/site-packages (from requests>=2.23.0->-r requirements.txt (line 10)) (2021.5.30)\n",
      "Requirement already satisfied: charset-normalizer~=2.0.0 in /home/ec2-user/anaconda3/envs/amazonei_tensorflow2_p36/lib/python3.6/site-packages (from requests>=2.23.0->-r requirements.txt (line 10)) (2.0.12)\n",
      "Requirement already satisfied: urllib3<1.27,>=1.21.1 in /home/ec2-user/anaconda3/envs/amazonei_tensorflow2_p36/lib/python3.6/site-packages (from requests>=2.23.0->-r requirements.txt (line 10)) (1.26.8)\n",
      "Requirement already satisfied: dataclasses in /home/ec2-user/anaconda3/envs/amazonei_tensorflow2_p36/lib/python3.6/site-packages (from torch>=1.7.0->-r requirements.txt (line 12)) (0.8)\n",
      "Requirement already satisfied: typing-extensions in /home/ec2-user/anaconda3/envs/amazonei_tensorflow2_p36/lib/python3.6/site-packages (from torch>=1.7.0->-r requirements.txt (line 12)) (4.1.1)\n",
      "Collecting torch>=1.7.0\n",
      "  Downloading torch-1.10.1-cp36-cp36m-manylinux1_x86_64.whl (881.9 MB)\n",
      "     |████████████████████████████████| 881.9 MB 2.3 kB/s             \n",
      "\u001b[?25hRequirement already satisfied: importlib-resources in /home/ec2-user/anaconda3/envs/amazonei_tensorflow2_p36/lib/python3.6/site-packages (from tqdm>=4.64.0->-r requirements.txt (line 14)) (5.4.0)\n",
      "Requirement already satisfied: protobuf>=3.6.0 in /home/ec2-user/anaconda3/envs/amazonei_tensorflow2_p36/lib/python3.6/site-packages (from tensorboard>=2.4.1->-r requirements.txt (line 18)) (3.15.1)\n",
      "Requirement already satisfied: absl-py>=0.4 in /home/ec2-user/anaconda3/envs/amazonei_tensorflow2_p36/lib/python3.6/site-packages (from tensorboard>=2.4.1->-r requirements.txt (line 18)) (1.0.0)\n",
      "Requirement already satisfied: werkzeug>=0.11.15 in /home/ec2-user/anaconda3/envs/amazonei_tensorflow2_p36/lib/python3.6/site-packages (from tensorboard>=2.4.1->-r requirements.txt (line 18)) (2.0.3)\n",
      "Requirement already satisfied: google-auth<3,>=1.6.3 in /home/ec2-user/anaconda3/envs/amazonei_tensorflow2_p36/lib/python3.6/site-packages (from tensorboard>=2.4.1->-r requirements.txt (line 18)) (2.6.2)\n",
      "Requirement already satisfied: google-auth-oauthlib<0.5,>=0.4.1 in /home/ec2-user/anaconda3/envs/amazonei_tensorflow2_p36/lib/python3.6/site-packages (from tensorboard>=2.4.1->-r requirements.txt (line 18)) (0.4.6)\n",
      "Requirement already satisfied: grpcio>=1.24.3 in /home/ec2-user/anaconda3/envs/amazonei_tensorflow2_p36/lib/python3.6/site-packages (from tensorboard>=2.4.1->-r requirements.txt (line 18)) (1.44.0)\n",
      "Requirement already satisfied: markdown>=2.6.8 in /home/ec2-user/anaconda3/envs/amazonei_tensorflow2_p36/lib/python3.6/site-packages (from tensorboard>=2.4.1->-r requirements.txt (line 18)) (3.3.6)\n",
      "Requirement already satisfied: tensorboard-plugin-wit>=1.6.0 in /home/ec2-user/anaconda3/envs/amazonei_tensorflow2_p36/lib/python3.6/site-packages (from tensorboard>=2.4.1->-r requirements.txt (line 18)) (1.8.1)\n",
      "Requirement already satisfied: tensorboard-data-server<0.7.0,>=0.6.0 in /home/ec2-user/anaconda3/envs/amazonei_tensorflow2_p36/lib/python3.6/site-packages (from tensorboard>=2.4.1->-r requirements.txt (line 18)) (0.6.1)\n",
      "Requirement already satisfied: wheel>=0.26 in /home/ec2-user/anaconda3/envs/amazonei_tensorflow2_p36/lib/python3.6/site-packages (from tensorboard>=2.4.1->-r requirements.txt (line 18)) (0.36.2)\n",
      "Requirement already satisfied: setuptools>=41.0.0 in /home/ec2-user/anaconda3/envs/amazonei_tensorflow2_p36/lib/python3.6/site-packages (from tensorboard>=2.4.1->-r requirements.txt (line 18)) (49.6.0.post20210108)\n",
      "Requirement already satisfied: pytz>=2017.2 in /home/ec2-user/anaconda3/envs/amazonei_tensorflow2_p36/lib/python3.6/site-packages (from pandas>=1.1.4->-r requirements.txt (line 23)) (2021.1)\n",
      "Requirement already satisfied: prompt-toolkit!=3.0.0,!=3.0.1,<3.1.0,>=2.0.0 in /home/ec2-user/anaconda3/envs/amazonei_tensorflow2_p36/lib/python3.6/site-packages (from ipython->-r requirements.txt (line 41)) (3.0.4)\n",
      "Requirement already satisfied: traitlets>=4.2 in /home/ec2-user/anaconda3/envs/amazonei_tensorflow2_p36/lib/python3.6/site-packages (from ipython->-r requirements.txt (line 41)) (4.3.3)\n",
      "Requirement already satisfied: backcall in /home/ec2-user/anaconda3/envs/amazonei_tensorflow2_p36/lib/python3.6/site-packages (from ipython->-r requirements.txt (line 41)) (0.2.0)\n",
      "Requirement already satisfied: decorator in /home/ec2-user/anaconda3/envs/amazonei_tensorflow2_p36/lib/python3.6/site-packages (from ipython->-r requirements.txt (line 41)) (4.4.2)\n",
      "Requirement already satisfied: pickleshare in /home/ec2-user/anaconda3/envs/amazonei_tensorflow2_p36/lib/python3.6/site-packages (from ipython->-r requirements.txt (line 41)) (0.7.5)\n",
      "Requirement already satisfied: jedi>=0.10 in /home/ec2-user/anaconda3/envs/amazonei_tensorflow2_p36/lib/python3.6/site-packages (from ipython->-r requirements.txt (line 41)) (0.17.2)\n",
      "Requirement already satisfied: pexpect in /home/ec2-user/anaconda3/envs/amazonei_tensorflow2_p36/lib/python3.6/site-packages (from ipython->-r requirements.txt (line 41)) (4.8.0)\n",
      "Requirement already satisfied: pygments in /home/ec2-user/anaconda3/envs/amazonei_tensorflow2_p36/lib/python3.6/site-packages (from ipython->-r requirements.txt (line 41)) (2.8.0)\n",
      "Requirement already satisfied: six in /home/ec2-user/anaconda3/envs/amazonei_tensorflow2_p36/lib/python3.6/site-packages (from absl-py>=0.4->tensorboard>=2.4.1->-r requirements.txt (line 18)) (1.15.0)\n",
      "Requirement already satisfied: cachetools<6.0,>=2.0.0 in /home/ec2-user/anaconda3/envs/amazonei_tensorflow2_p36/lib/python3.6/site-packages (from google-auth<3,>=1.6.3->tensorboard>=2.4.1->-r requirements.txt (line 18)) (4.2.4)\n",
      "Requirement already satisfied: pyasn1-modules>=0.2.1 in /home/ec2-user/anaconda3/envs/amazonei_tensorflow2_p36/lib/python3.6/site-packages (from google-auth<3,>=1.6.3->tensorboard>=2.4.1->-r requirements.txt (line 18)) (0.2.8)\n",
      "Requirement already satisfied: rsa<5,>=3.1.4 in /home/ec2-user/anaconda3/envs/amazonei_tensorflow2_p36/lib/python3.6/site-packages (from google-auth<3,>=1.6.3->tensorboard>=2.4.1->-r requirements.txt (line 18)) (4.7.2)\n",
      "Requirement already satisfied: requests-oauthlib>=0.7.0 in /home/ec2-user/anaconda3/envs/amazonei_tensorflow2_p36/lib/python3.6/site-packages (from google-auth-oauthlib<0.5,>=0.4.1->tensorboard>=2.4.1->-r requirements.txt (line 18)) (1.3.1)\n",
      "Requirement already satisfied: parso<0.8.0,>=0.7.0 in /home/ec2-user/anaconda3/envs/amazonei_tensorflow2_p36/lib/python3.6/site-packages (from jedi>=0.10->ipython->-r requirements.txt (line 41)) (0.7.0)\n",
      "Requirement already satisfied: importlib-metadata>=4.4 in /home/ec2-user/anaconda3/envs/amazonei_tensorflow2_p36/lib/python3.6/site-packages (from markdown>=2.6.8->tensorboard>=2.4.1->-r requirements.txt (line 18)) (4.8.3)\n",
      "Requirement already satisfied: wcwidth in /home/ec2-user/anaconda3/envs/amazonei_tensorflow2_p36/lib/python3.6/site-packages (from prompt-toolkit!=3.0.0,!=3.0.1,<3.1.0,>=2.0.0->ipython->-r requirements.txt (line 41)) (0.2.5)\n",
      "Requirement already satisfied: ipython-genutils in /home/ec2-user/anaconda3/envs/amazonei_tensorflow2_p36/lib/python3.6/site-packages (from traitlets>=4.2->ipython->-r requirements.txt (line 41)) (0.2.0)\n",
      "Requirement already satisfied: zipp>=3.1.0 in /home/ec2-user/anaconda3/envs/amazonei_tensorflow2_p36/lib/python3.6/site-packages (from importlib-resources->tqdm>=4.64.0->-r requirements.txt (line 14)) (3.4.0)\n",
      "Requirement already satisfied: ptyprocess>=0.5 in /home/ec2-user/anaconda3/envs/amazonei_tensorflow2_p36/lib/python3.6/site-packages (from pexpect->ipython->-r requirements.txt (line 41)) (0.7.0)\n",
      "Requirement already satisfied: pyasn1<0.5.0,>=0.4.6 in /home/ec2-user/anaconda3/envs/amazonei_tensorflow2_p36/lib/python3.6/site-packages (from pyasn1-modules>=0.2.1->google-auth<3,>=1.6.3->tensorboard>=2.4.1->-r requirements.txt (line 18)) (0.4.8)\n",
      "Requirement already satisfied: oauthlib>=3.0.0 in /home/ec2-user/anaconda3/envs/amazonei_tensorflow2_p36/lib/python3.6/site-packages (from requests-oauthlib>=0.7.0->google-auth-oauthlib<0.5,>=0.4.1->tensorboard>=2.4.1->-r requirements.txt (line 18)) (3.2.0)\n",
      "Installing collected packages: torch, tqdm, torchvision, thop\n",
      "  Attempting uninstall: tqdm\n",
      "    Found existing installation: tqdm 4.63.0\n",
      "    Uninstalling tqdm-4.63.0:\n",
      "      Successfully uninstalled tqdm-4.63.0\n",
      "Successfully installed thop-0.1.1.post2209072238 torch-1.10.1 torchvision-0.11.2 tqdm-4.64.1\n"
     ]
    }
   ],
   "source": [
    "!git clone https://github.com/ultralytics/yolov5\n",
    "%cd /home/ec2-user/SageMaker/yolov5"
   ]
  },
  {
   "cell_type": "code",
   "execution_count": 6,
   "id": "03e0fe75",
   "metadata": {
    "scrolled": true
   },
   "outputs": [
    {
     "name": "stdout",
     "output_type": "stream",
     "text": [
      "Looking in indexes: https://pypi.org/simple, https://pip.repos.neuron.amazonaws.com\n",
      "Requirement already satisfied: matplotlib>=3.2.2 in /home/ec2-user/anaconda3/envs/amazonei_tensorflow2_p36/lib/python3.6/site-packages (from -r requirements.txt (line 5)) (3.3.4)\n",
      "Requirement already satisfied: numpy>=1.18.5 in /home/ec2-user/anaconda3/envs/amazonei_tensorflow2_p36/lib/python3.6/site-packages (from -r requirements.txt (line 6)) (1.19.5)\n",
      "Requirement already satisfied: opencv-python>=4.1.1 in /home/ec2-user/anaconda3/envs/amazonei_tensorflow2_p36/lib/python3.6/site-packages (from -r requirements.txt (line 7)) (4.2.0.34)\n",
      "Requirement already satisfied: Pillow>=7.1.2 in /home/ec2-user/anaconda3/envs/amazonei_tensorflow2_p36/lib/python3.6/site-packages (from -r requirements.txt (line 8)) (8.4.0)\n",
      "Requirement already satisfied: PyYAML>=5.3.1 in /home/ec2-user/anaconda3/envs/amazonei_tensorflow2_p36/lib/python3.6/site-packages (from -r requirements.txt (line 9)) (5.4.1)\n",
      "Requirement already satisfied: requests>=2.23.0 in /home/ec2-user/anaconda3/envs/amazonei_tensorflow2_p36/lib/python3.6/site-packages (from -r requirements.txt (line 10)) (2.27.1)\n",
      "Requirement already satisfied: scipy>=1.4.1 in /home/ec2-user/anaconda3/envs/amazonei_tensorflow2_p36/lib/python3.6/site-packages (from -r requirements.txt (line 11)) (1.5.3)\n",
      "Requirement already satisfied: torch>=1.7.0 in /home/ec2-user/anaconda3/envs/amazonei_tensorflow2_p36/lib/python3.6/site-packages (from -r requirements.txt (line 12)) (1.10.1)\n",
      "Requirement already satisfied: torchvision>=0.8.1 in /home/ec2-user/anaconda3/envs/amazonei_tensorflow2_p36/lib/python3.6/site-packages (from -r requirements.txt (line 13)) (0.11.2)\n",
      "Requirement already satisfied: tqdm>=4.64.0 in /home/ec2-user/anaconda3/envs/amazonei_tensorflow2_p36/lib/python3.6/site-packages (from -r requirements.txt (line 14)) (4.64.1)\n",
      "Requirement already satisfied: tensorboard>=2.4.1 in /home/ec2-user/anaconda3/envs/amazonei_tensorflow2_p36/lib/python3.6/site-packages (from -r requirements.txt (line 18)) (2.8.0)\n",
      "Requirement already satisfied: pandas>=1.1.4 in /home/ec2-user/anaconda3/envs/amazonei_tensorflow2_p36/lib/python3.6/site-packages (from -r requirements.txt (line 23)) (1.1.5)\n",
      "Requirement already satisfied: seaborn>=0.11.0 in /home/ec2-user/anaconda3/envs/amazonei_tensorflow2_p36/lib/python3.6/site-packages (from -r requirements.txt (line 24)) (0.11.1)\n",
      "Requirement already satisfied: ipython in /home/ec2-user/anaconda3/envs/amazonei_tensorflow2_p36/lib/python3.6/site-packages (from -r requirements.txt (line 41)) (7.16.1)\n",
      "Requirement already satisfied: psutil in /home/ec2-user/anaconda3/envs/amazonei_tensorflow2_p36/lib/python3.6/site-packages (from -r requirements.txt (line 42)) (5.8.0)\n",
      "Requirement already satisfied: thop>=0.1.1 in /home/ec2-user/anaconda3/envs/amazonei_tensorflow2_p36/lib/python3.6/site-packages (from -r requirements.txt (line 43)) (0.1.1.post2209072238)\n",
      "Requirement already satisfied: pyparsing!=2.0.4,!=2.1.2,!=2.1.6,>=2.0.3 in /home/ec2-user/anaconda3/envs/amazonei_tensorflow2_p36/lib/python3.6/site-packages (from matplotlib>=3.2.2->-r requirements.txt (line 5)) (2.4.7)\n",
      "Requirement already satisfied: kiwisolver>=1.0.1 in /home/ec2-user/anaconda3/envs/amazonei_tensorflow2_p36/lib/python3.6/site-packages (from matplotlib>=3.2.2->-r requirements.txt (line 5)) (1.3.1)\n",
      "Requirement already satisfied: cycler>=0.10 in /home/ec2-user/anaconda3/envs/amazonei_tensorflow2_p36/lib/python3.6/site-packages (from matplotlib>=3.2.2->-r requirements.txt (line 5)) (0.10.0)\n",
      "Requirement already satisfied: python-dateutil>=2.1 in /home/ec2-user/anaconda3/envs/amazonei_tensorflow2_p36/lib/python3.6/site-packages (from matplotlib>=3.2.2->-r requirements.txt (line 5)) (2.8.1)\n",
      "Requirement already satisfied: urllib3<1.27,>=1.21.1 in /home/ec2-user/anaconda3/envs/amazonei_tensorflow2_p36/lib/python3.6/site-packages (from requests>=2.23.0->-r requirements.txt (line 10)) (1.26.8)\n",
      "Requirement already satisfied: charset-normalizer~=2.0.0 in /home/ec2-user/anaconda3/envs/amazonei_tensorflow2_p36/lib/python3.6/site-packages (from requests>=2.23.0->-r requirements.txt (line 10)) (2.0.12)\n",
      "Requirement already satisfied: idna<4,>=2.5 in /home/ec2-user/anaconda3/envs/amazonei_tensorflow2_p36/lib/python3.6/site-packages (from requests>=2.23.0->-r requirements.txt (line 10)) (3.1)\n",
      "Requirement already satisfied: certifi>=2017.4.17 in /home/ec2-user/anaconda3/envs/amazonei_tensorflow2_p36/lib/python3.6/site-packages (from requests>=2.23.0->-r requirements.txt (line 10)) (2021.5.30)\n",
      "Requirement already satisfied: typing-extensions in /home/ec2-user/anaconda3/envs/amazonei_tensorflow2_p36/lib/python3.6/site-packages (from torch>=1.7.0->-r requirements.txt (line 12)) (4.1.1)\n",
      "Requirement already satisfied: dataclasses in /home/ec2-user/anaconda3/envs/amazonei_tensorflow2_p36/lib/python3.6/site-packages (from torch>=1.7.0->-r requirements.txt (line 12)) (0.8)\n",
      "Requirement already satisfied: importlib-resources in /home/ec2-user/anaconda3/envs/amazonei_tensorflow2_p36/lib/python3.6/site-packages (from tqdm>=4.64.0->-r requirements.txt (line 14)) (5.4.0)\n",
      "Requirement already satisfied: markdown>=2.6.8 in /home/ec2-user/anaconda3/envs/amazonei_tensorflow2_p36/lib/python3.6/site-packages (from tensorboard>=2.4.1->-r requirements.txt (line 18)) (3.3.6)\n",
      "Requirement already satisfied: protobuf>=3.6.0 in /home/ec2-user/anaconda3/envs/amazonei_tensorflow2_p36/lib/python3.6/site-packages (from tensorboard>=2.4.1->-r requirements.txt (line 18)) (3.15.1)\n",
      "Requirement already satisfied: werkzeug>=0.11.15 in /home/ec2-user/anaconda3/envs/amazonei_tensorflow2_p36/lib/python3.6/site-packages (from tensorboard>=2.4.1->-r requirements.txt (line 18)) (2.0.3)\n",
      "Requirement already satisfied: tensorboard-data-server<0.7.0,>=0.6.0 in /home/ec2-user/anaconda3/envs/amazonei_tensorflow2_p36/lib/python3.6/site-packages (from tensorboard>=2.4.1->-r requirements.txt (line 18)) (0.6.1)\n",
      "Requirement already satisfied: google-auth<3,>=1.6.3 in /home/ec2-user/anaconda3/envs/amazonei_tensorflow2_p36/lib/python3.6/site-packages (from tensorboard>=2.4.1->-r requirements.txt (line 18)) (2.6.2)\n",
      "Requirement already satisfied: grpcio>=1.24.3 in /home/ec2-user/anaconda3/envs/amazonei_tensorflow2_p36/lib/python3.6/site-packages (from tensorboard>=2.4.1->-r requirements.txt (line 18)) (1.44.0)\n",
      "Requirement already satisfied: absl-py>=0.4 in /home/ec2-user/anaconda3/envs/amazonei_tensorflow2_p36/lib/python3.6/site-packages (from tensorboard>=2.4.1->-r requirements.txt (line 18)) (1.0.0)\n",
      "Requirement already satisfied: wheel>=0.26 in /home/ec2-user/anaconda3/envs/amazonei_tensorflow2_p36/lib/python3.6/site-packages (from tensorboard>=2.4.1->-r requirements.txt (line 18)) (0.36.2)\n",
      "Requirement already satisfied: setuptools>=41.0.0 in /home/ec2-user/anaconda3/envs/amazonei_tensorflow2_p36/lib/python3.6/site-packages (from tensorboard>=2.4.1->-r requirements.txt (line 18)) (49.6.0.post20210108)\n",
      "Requirement already satisfied: tensorboard-plugin-wit>=1.6.0 in /home/ec2-user/anaconda3/envs/amazonei_tensorflow2_p36/lib/python3.6/site-packages (from tensorboard>=2.4.1->-r requirements.txt (line 18)) (1.8.1)\n",
      "Requirement already satisfied: google-auth-oauthlib<0.5,>=0.4.1 in /home/ec2-user/anaconda3/envs/amazonei_tensorflow2_p36/lib/python3.6/site-packages (from tensorboard>=2.4.1->-r requirements.txt (line 18)) (0.4.6)\n",
      "Requirement already satisfied: pytz>=2017.2 in /home/ec2-user/anaconda3/envs/amazonei_tensorflow2_p36/lib/python3.6/site-packages (from pandas>=1.1.4->-r requirements.txt (line 23)) (2021.1)\n",
      "Requirement already satisfied: backcall in /home/ec2-user/anaconda3/envs/amazonei_tensorflow2_p36/lib/python3.6/site-packages (from ipython->-r requirements.txt (line 41)) (0.2.0)\n",
      "Requirement already satisfied: jedi>=0.10 in /home/ec2-user/anaconda3/envs/amazonei_tensorflow2_p36/lib/python3.6/site-packages (from ipython->-r requirements.txt (line 41)) (0.17.2)\n",
      "Requirement already satisfied: pexpect in /home/ec2-user/anaconda3/envs/amazonei_tensorflow2_p36/lib/python3.6/site-packages (from ipython->-r requirements.txt (line 41)) (4.8.0)\n",
      "Requirement already satisfied: decorator in /home/ec2-user/anaconda3/envs/amazonei_tensorflow2_p36/lib/python3.6/site-packages (from ipython->-r requirements.txt (line 41)) (4.4.2)\n",
      "Requirement already satisfied: prompt-toolkit!=3.0.0,!=3.0.1,<3.1.0,>=2.0.0 in /home/ec2-user/anaconda3/envs/amazonei_tensorflow2_p36/lib/python3.6/site-packages (from ipython->-r requirements.txt (line 41)) (3.0.4)\n",
      "Requirement already satisfied: pygments in /home/ec2-user/anaconda3/envs/amazonei_tensorflow2_p36/lib/python3.6/site-packages (from ipython->-r requirements.txt (line 41)) (2.8.0)\n",
      "Requirement already satisfied: pickleshare in /home/ec2-user/anaconda3/envs/amazonei_tensorflow2_p36/lib/python3.6/site-packages (from ipython->-r requirements.txt (line 41)) (0.7.5)\n",
      "Requirement already satisfied: traitlets>=4.2 in /home/ec2-user/anaconda3/envs/amazonei_tensorflow2_p36/lib/python3.6/site-packages (from ipython->-r requirements.txt (line 41)) (4.3.3)\n",
      "Requirement already satisfied: six in /home/ec2-user/anaconda3/envs/amazonei_tensorflow2_p36/lib/python3.6/site-packages (from absl-py>=0.4->tensorboard>=2.4.1->-r requirements.txt (line 18)) (1.15.0)\n",
      "Requirement already satisfied: pyasn1-modules>=0.2.1 in /home/ec2-user/anaconda3/envs/amazonei_tensorflow2_p36/lib/python3.6/site-packages (from google-auth<3,>=1.6.3->tensorboard>=2.4.1->-r requirements.txt (line 18)) (0.2.8)\n",
      "Requirement already satisfied: cachetools<6.0,>=2.0.0 in /home/ec2-user/anaconda3/envs/amazonei_tensorflow2_p36/lib/python3.6/site-packages (from google-auth<3,>=1.6.3->tensorboard>=2.4.1->-r requirements.txt (line 18)) (4.2.4)\n",
      "Requirement already satisfied: rsa<5,>=3.1.4 in /home/ec2-user/anaconda3/envs/amazonei_tensorflow2_p36/lib/python3.6/site-packages (from google-auth<3,>=1.6.3->tensorboard>=2.4.1->-r requirements.txt (line 18)) (4.7.2)\n",
      "Requirement already satisfied: requests-oauthlib>=0.7.0 in /home/ec2-user/anaconda3/envs/amazonei_tensorflow2_p36/lib/python3.6/site-packages (from google-auth-oauthlib<0.5,>=0.4.1->tensorboard>=2.4.1->-r requirements.txt (line 18)) (1.3.1)\n",
      "Requirement already satisfied: parso<0.8.0,>=0.7.0 in /home/ec2-user/anaconda3/envs/amazonei_tensorflow2_p36/lib/python3.6/site-packages (from jedi>=0.10->ipython->-r requirements.txt (line 41)) (0.7.0)\n",
      "Requirement already satisfied: importlib-metadata>=4.4 in /home/ec2-user/anaconda3/envs/amazonei_tensorflow2_p36/lib/python3.6/site-packages (from markdown>=2.6.8->tensorboard>=2.4.1->-r requirements.txt (line 18)) (4.8.3)\n",
      "Requirement already satisfied: wcwidth in /home/ec2-user/anaconda3/envs/amazonei_tensorflow2_p36/lib/python3.6/site-packages (from prompt-toolkit!=3.0.0,!=3.0.1,<3.1.0,>=2.0.0->ipython->-r requirements.txt (line 41)) (0.2.5)\n",
      "Requirement already satisfied: ipython-genutils in /home/ec2-user/anaconda3/envs/amazonei_tensorflow2_p36/lib/python3.6/site-packages (from traitlets>=4.2->ipython->-r requirements.txt (line 41)) (0.2.0)\n",
      "Requirement already satisfied: zipp>=3.1.0 in /home/ec2-user/anaconda3/envs/amazonei_tensorflow2_p36/lib/python3.6/site-packages (from importlib-resources->tqdm>=4.64.0->-r requirements.txt (line 14)) (3.4.0)\n",
      "Requirement already satisfied: ptyprocess>=0.5 in /home/ec2-user/anaconda3/envs/amazonei_tensorflow2_p36/lib/python3.6/site-packages (from pexpect->ipython->-r requirements.txt (line 41)) (0.7.0)\n",
      "Requirement already satisfied: pyasn1<0.5.0,>=0.4.6 in /home/ec2-user/anaconda3/envs/amazonei_tensorflow2_p36/lib/python3.6/site-packages (from pyasn1-modules>=0.2.1->google-auth<3,>=1.6.3->tensorboard>=2.4.1->-r requirements.txt (line 18)) (0.4.8)\n",
      "Requirement already satisfied: oauthlib>=3.0.0 in /home/ec2-user/anaconda3/envs/amazonei_tensorflow2_p36/lib/python3.6/site-packages (from requests-oauthlib>=0.7.0->google-auth-oauthlib<0.5,>=0.4.1->tensorboard>=2.4.1->-r requirements.txt (line 18)) (3.2.0)\n"
     ]
    }
   ],
   "source": [
    "!pip install -r requirements.txt"
   ]
  },
  {
   "cell_type": "markdown",
   "id": "50b62da8",
   "metadata": {},
   "source": [
    "## 2) 모델 프레임워크 변환 (Pytorch -> Tensorflow)\n",
    "* 사전조건\n",
    "    * 이전에 학습 된 모델 가중치 (ex_ best.pt)가 있어야 함"
   ]
  },
  {
   "cell_type": "code",
   "execution_count": null,
   "id": "9de301fc",
   "metadata": {},
   "outputs": [],
   "source": [
    "!python export.py --weights /home/ec2-user/SageMaker/best.pt --include saved_model --nms"
   ]
  },
  {
   "cell_type": "markdown",
   "id": "68d87cbf",
   "metadata": {},
   "source": [
    "## 3) 모델 패키징\n",
    "* 아래의 폴더구조 생성 후 변환 된 모델 패키징\n",
    "* s3 버킷에 패키징 된 모델 저장"
   ]
  },
  {
   "cell_type": "code",
   "execution_count": null,
   "id": "e7d2f0b6",
   "metadata": {},
   "outputs": [],
   "source": [
    "%cd /home/ec2-user/SageMaker\n",
    "!mkdir export && mkdir export/Servo\n",
    "!mv best_saved_model export/Servo/1\n",
    "!tar -czvf model.tar.gz export/"
   ]
  },
  {
   "cell_type": "code",
   "execution_count": null,
   "id": "93cd066f",
   "metadata": {},
   "outputs": [],
   "source": [
    "!aws s3 cp model.tar.gz \"s3://posco-test-20221011/model.tar.gz\""
   ]
  },
  {
   "cell_type": "markdown",
   "id": "7e8c8556",
   "metadata": {},
   "source": [
    "## 4) SageMaker Endpoint 생성"
   ]
  },
  {
   "cell_type": "code",
   "execution_count": null,
   "id": "aef25a6a",
   "metadata": {},
   "outputs": [],
   "source": [
    "import os\n",
    "import tensorflow as tf\n",
    "from tensorflow.keras import backend\n",
    "from sagemaker.tensorflow import TensorFlowModel\n",
    "from sagemaker import get_excution_role"
   ]
  },
  {
   "cell_type": "code",
   "execution_count": null,
   "id": "75afac07",
   "metadata": {},
   "outputs": [],
   "source": [
    "model_data = \"s3://posco-test-20221011/model.tar.gz\" ## 패키징 된 모델의 S3 위치\n",
    "model = TensorFlowModel(model_data=model_data, ## 모델 데이터 위치\n",
    "                        framework_version='2.8', ## 프레임워크 버전\n",
    "                        role=get_execution_role()) ## SageMaker 실행 역할\n",
    "INSTANCE_TYPE = 'ml.c6i.xlarge' ## Endpoint 실행 인스턴스 타입\n",
    "ENDPOINT_NAME = 'yolov5-demo' ## Endpoint 이름\n",
    "\n",
    "predictor = model.deploy(initial_instance_count=1, ## Endpoint 실행 인스턴스 수\n",
    "                         instance_type=INSTANCE_TYPE,\n",
    "                         endpoint_name=ENDPOINT_NAME)"
   ]
  },
  {
   "cell_type": "markdown",
   "id": "b2ee47d1",
   "metadata": {},
   "source": [
    "## 5) 배포된 모델 확인 및 실시간 추론체크"
   ]
  },
  {
   "cell_type": "code",
   "execution_count": null,
   "id": "a52c0c16",
   "metadata": {},
   "outputs": [],
   "source": [
    "import numpy as np\n",
    "import json\n",
    "import boto3, botocore\n",
    "\n",
    "config = botocore.config.Config(read_time = 80)\n",
    "runtime = boto3.client('runtime.sagemaker', config = config)\n",
    "ENDPOINT_NAME = 'yolov5-demo' ## 실행할 Endpoint 이름\n",
    "\n",
    "modelHeight, modelWidth = 640, 640 ## 이미지 사이즈\n",
    "blank_image = np.zeros((modelHeight,modelWidth,3), np.uint8) ## 공백 이미지 생성\n",
    "data = np.array(blank_image.astype(np.float32)/255.) ## 이미지 스케일링\n",
    "payload = json.dumps([data.tolist()]) ## 이미지 데이터 형 변환\n",
    "\n",
    "response = runtime.invoke_endpoint(EndpointName=ENDPOINT_NAME, ## 실시간 추론 테스트\n",
    "                                   ContentType='application/json',\n",
    "                                   Body=payload)\n",
    "\n",
    "result = json.loads(response['Body'].read().decode()) ## 결과 출력\n",
    "print('Results: ', result)"
   ]
  }
 ],
 "metadata": {
  "kernelspec": {
   "display_name": "conda_amazonei_tensorflow2_p36",
   "language": "python",
   "name": "conda_amazonei_tensorflow2_p36"
  },
  "language_info": {
   "codemirror_mode": {
    "name": "ipython",
    "version": 3
   },
   "file_extension": ".py",
   "mimetype": "text/x-python",
   "name": "python",
   "nbconvert_exporter": "python",
   "pygments_lexer": "ipython3",
   "version": "3.6.13"
  }
 },
 "nbformat": 4,
 "nbformat_minor": 5
}
