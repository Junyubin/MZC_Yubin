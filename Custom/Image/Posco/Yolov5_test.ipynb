{
 "cells": [
  {
   "cell_type": "code",
   "execution_count": null,
   "id": "757c988e-4150-4617-a27f-6094029b2cd6",
   "metadata": {},
   "outputs": [],
   "source": [
    "## Tensorflow Kernel\n",
    "\n",
    "# ## https://github.com/ultralytics/yolov5 -- Pytorch Libarary Documentation\n",
    "# !git clone https://github.com/ultralytics/yolov5  # clone\n",
    "%pwd\n",
    "%cd yolov5"
   ]
  },
  {
   "cell_type": "code",
   "execution_count": 3,
   "id": "e6219dc4-0133-48c3-816f-6558e2ca3f02",
   "metadata": {},
   "outputs": [
    {
     "data": {
      "text/html": [
       "<script>Jupyter.notebook.kernel.restart()</script>"
      ],
      "text/plain": [
       "<IPython.core.display.HTML object>"
      ]
     },
     "execution_count": 3,
     "metadata": {},
     "output_type": "execute_result"
    }
   ],
   "source": [
    "from IPython.core.display import HTML\n",
    "HTML(\"<script>Jupyter.notebook.kernel.restart()</script>\")"
   ]
  },
  {
   "cell_type": "markdown",
   "id": "0940babc-4f13-43f5-a4ec-383f18200972",
   "metadata": {},
   "source": [
    "## Yolov5 Model Inference"
   ]
  },
  {
   "cell_type": "code",
   "execution_count": 4,
   "id": "91118b59-018e-43e3-92a0-d66f6778d583",
   "metadata": {},
   "outputs": [
    {
     "name": "stdout",
     "output_type": "stream",
     "text": [
      "\u001b[33mWARNING: Running pip as the 'root' user can result in broken permissions and conflicting behaviour with the system package manager. It is recommended to use a virtual environment instead: https://pip.pypa.io/warnings/venv\u001b[0m\n",
      "Note: you may need to restart the kernel to use updated packages.\n"
     ]
    }
   ],
   "source": [
    "%pip install -qr requirements.txt  # install\n",
    "from time import time"
   ]
  },
  {
   "cell_type": "code",
   "execution_count": 5,
   "id": "447163e8-d43a-422a-8ca3-5f5320201daf",
   "metadata": {},
   "outputs": [
    {
     "name": "stderr",
     "output_type": "stream",
     "text": [
      "YOLOv5 🚀 v6.1-359-g628c05c Python-3.6.13 torch-1.8.1 CPU\n"
     ]
    },
    {
     "name": "stdout",
     "output_type": "stream",
     "text": [
      "Setup complete ✅ (2 CPUs, 3.8 GB RAM, 0.1/27.0 GB disk)\n"
     ]
    }
   ],
   "source": [
    "import torch\n",
    "import utils\n",
    "\n",
    "display = utils.notebook_init()  # checks"
   ]
  },
  {
   "cell_type": "code",
   "execution_count": 6,
   "id": "2a15aab5-cf45-428e-8f63-ce3e452e72d1",
   "metadata": {},
   "outputs": [
    {
     "name": "stdout",
     "output_type": "stream",
     "text": [
      "\u001b[34m\u001b[1mdetect: \u001b[0mweights=yolov5s.pt, source=data/sample, data=data/coco128.yaml, imgsz=[640, 640], conf_thres=0.25, iou_thres=0.45, max_det=1000, device=, view_img=False, save_txt=False, save_conf=False, save_crop=False, nosave=False, classes=None, agnostic_nms=False, augment=False, visualize=False, update=False, project=runs/detect, name=exp, exist_ok=False, line_thickness=3, hide_labels=False, hide_conf=False, half=False, dnn=False\n",
      "Python 3.7.0 required by YOLOv5, but Python 3.6.13 is currently installed\n",
      "YOLOv5 🚀 v6.1-359-g628c05c Python-3.6.13 torch-1.8.1 CPU\n",
      "\n",
      "Fusing layers... \n",
      "[2022-08-29 06:56:50.014 pytorch-1-8-gpu-py36-ml-t3-medium-584c86764ba9e5b3834e021ce31b:82 INFO utils.py:27] RULE_JOB_STOP_SIGNAL_FILENAME: None\n",
      "[2022-08-29 06:56:50.138 pytorch-1-8-gpu-py36-ml-t3-medium-584c86764ba9e5b3834e021ce31b:82 INFO profiler_config_parser.py:102] Unable to find config at /opt/ml/input/config/profilerconfig.json. Profiler is disabled.\n",
      "YOLOv5s summary: 213 layers, 7225885 parameters, 0 gradients, 16.4 GFLOPs\n",
      "image 1/11 /root/MZC_Yubin/Posco/yolov5/data/sample/frame_001.png: 448x640 1 chair, Done. (0.214s)\n",
      "image 2/11 /root/MZC_Yubin/Posco/yolov5/data/sample/frame_002.png: 352x640 Done. (0.170s)\n",
      "image 3/11 /root/MZC_Yubin/Posco/yolov5/data/sample/frame_003.png: 448x640 3 trucks, 1 umbrella, Done. (0.204s)\n",
      "image 4/11 /root/MZC_Yubin/Posco/yolov5/data/sample/frame_004.png: 416x640 1 person, 1 truck, 1 traffic light, 2 umbrellas, 1 surfboard, Done. (0.184s)\n",
      "image 5/11 /root/MZC_Yubin/Posco/yolov5/data/sample/frame_005.png: 416x640 1 car, 1 truck, 1 traffic light, Done. (0.183s)\n",
      "image 6/11 /root/MZC_Yubin/Posco/yolov5/data/sample/frame_006.png: 416x640 1 umbrella, Done. (0.182s)\n",
      "image 7/11 /root/MZC_Yubin/Posco/yolov5/data/sample/frame_007.png: 448x640 1 car, 1 traffic light, 1 chair, Done. (0.196s)\n",
      "image 8/11 /root/MZC_Yubin/Posco/yolov5/data/sample/frame_008.png: 384x640 2 trucks, 1 traffic light, 1 chair, Done. (0.187s)\n",
      "image 9/11 /root/MZC_Yubin/Posco/yolov5/data/sample/frame_009.png: 448x640 1 traffic light, 1 chair, Done. (0.200s)\n",
      "image 10/11 /root/MZC_Yubin/Posco/yolov5/data/sample/frame_010.png: 416x640 1 truck, Done. (0.181s)\n",
      "image 11/11 /root/MZC_Yubin/Posco/yolov5/data/sample/frame_011.png: 416x640 1 truck, 1 traffic light, Done. (0.189s)\n",
      "Speed: 0.8ms pre-process, 190.0ms inference, 2.3ms NMS per image at shape (1, 3, 640, 640)\n",
      "Results saved to \u001b[1mruns/detect/exp\u001b[0m\n",
      "9.451218128204346\n"
     ]
    }
   ],
   "source": [
    "start_time = time()\n",
    "\n",
    "!python detect.py --source data/sample\n",
    "\n",
    "print(time() - start_time)"
   ]
  },
  {
   "cell_type": "code",
   "execution_count": null,
   "id": "913b7112-bdc0-420d-894e-040b095d3ced",
   "metadata": {},
   "outputs": [],
   "source": []
  },
  {
   "cell_type": "code",
   "execution_count": null,
   "id": "5750878c-8085-496e-b63f-0d2ee838bef9",
   "metadata": {},
   "outputs": [],
   "source": []
  },
  {
   "cell_type": "code",
   "execution_count": null,
   "id": "084dbb5f-1c66-49d9-a310-036cd5cc86ba",
   "metadata": {},
   "outputs": [],
   "source": []
  }
 ],
 "metadata": {
  "instance_type": "ml.g4dn.xlarge",
  "kernelspec": {
   "display_name": "Python 3 (PyTorch 1.8 Python 3.6 GPU Optimized)",
   "language": "python",
   "name": "python3__SAGEMAKER_INTERNAL__arn:aws:sagemaker:ap-northeast-2:806072073708:image/pytorch-1.8-gpu-py36"
  },
  "language_info": {
   "codemirror_mode": {
    "name": "ipython",
    "version": 3
   },
   "file_extension": ".py",
   "mimetype": "text/x-python",
   "name": "python",
   "nbconvert_exporter": "python",
   "pygments_lexer": "ipython3",
   "version": "3.6.13"
  }
 },
 "nbformat": 4,
 "nbformat_minor": 5
}
