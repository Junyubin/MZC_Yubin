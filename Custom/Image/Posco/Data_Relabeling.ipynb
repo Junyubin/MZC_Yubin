{
 "cells": [
  {
   "cell_type": "code",
   "execution_count": 6,
   "id": "319f0f64-9214-4917-8d7a-fd2a471d0e65",
   "metadata": {},
   "outputs": [],
   "source": [
    "from os import listdir\n",
    "from os.path import isfile, join\n",
    "\n",
    "# mypath = 'yolov5/Hard-Hat-Sample-1/train/labels'\n",
    "mypath = 'datasets/coco128/images/train2017'\n",
    "\n",
    "onlyfiles = [f for f in listdir(mypath) if isfile(join(mypath, f))]"
   ]
  },
  {
   "cell_type": "code",
   "execution_count": 7,
   "id": "f19032d2-5dad-4e49-890d-524ca983530b",
   "metadata": {},
   "outputs": [
    {
     "data": {
      "text/plain": [
       "129"
      ]
     },
     "execution_count": 7,
     "metadata": {},
     "output_type": "execute_result"
    }
   ],
   "source": [
    "len(onlyfiles)"
   ]
  },
  {
   "cell_type": "code",
   "execution_count": 3,
   "id": "3d455bd7-376f-4557-93ee-7f6f090ec68b",
   "metadata": {},
   "outputs": [
    {
     "data": {
      "text/plain": [
       "'yolov5/Hard-Hat-Sample-1/train/labels/000040_jpg.rf.ZWhxaO4BVVAMw9tL1Ggr.txt'"
      ]
     },
     "execution_count": 3,
     "metadata": {},
     "output_type": "execute_result"
    }
   ],
   "source": [
    "f'{mypath}/{onlyfiles[5]}'"
   ]
  },
  {
   "cell_type": "code",
   "execution_count": 4,
   "id": "afb538f7-fa18-440e-bd51-16f09274f1de",
   "metadata": {},
   "outputs": [],
   "source": [
    "import numpy as np\n",
    "import pandas as pd\n",
    "import pickle\n",
    "\n",
    "\n",
    "hard_hat_dict = {'0':'head','1':'helmet','2':'person'}\n",
    "coco_dict = {'80':'head','81':'helmet','0':'person'}\n",
    "coco_dict = dict(map(reversed,coco_dict.items()))\n",
    "\n",
    "\n",
    "for file_name in onlyfiles:\n",
    "    lst = []\n",
    "    with open(f'{mypath}/{file_name}') as small_pf:\n",
    "        ## text file 엔터 없이 읽기\n",
    "        tmp_list = []\n",
    "        for line in small_pf:\n",
    "            line = line.rstrip(\"\\n\")  \n",
    "            if line == \"\":\n",
    "                lst.append(tmp_list)\n",
    "                tmp_list = []\n",
    "            else:\n",
    "                tmp_list.extend(line.split())\n",
    "        if tmp_list:  # add last one\n",
    "            lst.append(tmp_list)\n",
    "\n",
    "        ## 형변환 후 DF로 변경        \n",
    "        temp_array = np.array(lst)\n",
    "        temp_df = pd.DataFrame(columns = ['label','x','y','width','height'], data = np.reshape(temp_array, (-1,5)))\n",
    "\n",
    "        ## 기존 Label과 index 맞추기 위해 변경\n",
    "        temp_df['label'].replace(hard_hat_dict, inplace =True)\n",
    "        temp_df['label'].replace(coco_dict, inplace = True)\n",
    "\n",
    "        ## 형변환\n",
    "        result_array = np.reshape(np.array(temp_df),(1,-1)).tolist()\n",
    "        result_list = []\n",
    "        for i in range(int(len(result_array[0])/5)):\n",
    "            result_list.append(' '.join(result_array[0][i*5:(i+1)*5]))\n",
    "\n",
    "    with open(f'datasets/custom_data/labels/train2017/{file_name}', 'w') as f:\n",
    "        for line in result_list:\n",
    "            f.write(line)\n",
    "            f.write('\\n')"
   ]
  },
  {
   "cell_type": "code",
   "execution_count": null,
   "id": "d5d854ca-da3b-49bb-a1f9-7f058bbd17dc",
   "metadata": {},
   "outputs": [],
   "source": []
  },
  {
   "cell_type": "code",
   "execution_count": null,
   "id": "0d92974b-1ea0-4b29-8d09-c5a5c113ea1a",
   "metadata": {},
   "outputs": [],
   "source": []
  }
 ],
 "metadata": {
  "instance_type": "ml.g4dn.xlarge",
  "kernelspec": {
   "display_name": "Python 3 (TensorFlow 2.6 Python 3.8 GPU Optimized)",
   "language": "python",
   "name": "python3__SAGEMAKER_INTERNAL__arn:aws:sagemaker:ap-northeast-2:806072073708:image/tensorflow-2.6-gpu-py38-cu112-ubuntu20.04-v1"
  },
  "language_info": {
   "codemirror_mode": {
    "name": "ipython",
    "version": 3
   },
   "file_extension": ".py",
   "mimetype": "text/x-python",
   "name": "python",
   "nbconvert_exporter": "python",
   "pygments_lexer": "ipython3",
   "version": "3.8.2"
  }
 },
 "nbformat": 4,
 "nbformat_minor": 5
}
