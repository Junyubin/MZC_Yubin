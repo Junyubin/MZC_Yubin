{
 "cells": [
  {
   "cell_type": "code",
   "execution_count": 15,
   "id": "3a1ca2fc-f390-44b7-b617-f4818771f5dd",
   "metadata": {},
   "outputs": [
    {
     "name": "stdout",
     "output_type": "stream",
     "text": [
      "2\n",
      "fail step 2\n"
     ]
    }
   ],
   "source": [
    "import zipfile\n",
    "\n",
    "for i in [2]:\n",
    "    print(i)\n",
    "    if i == 0:\n",
    "        label = '양호'\n",
    "    elif i == 1:\n",
    "        label = '경증'\n",
    "    elif i == 2:\n",
    "        label = '중증도'\n",
    "    else:\n",
    "        label = '중증'\n",
    "    \n",
    "    try:\n",
    "        fantasy_zip = zipfile.ZipFile(f'[원천]피지과다_{i}.{label}.zip')\n",
    "        fantasy_zip.extractall(f'피지_{i}')\n",
    "        fantasy_zip.close()\n",
    "    except:\n",
    "        \n",
    "        print(f\"fail step {i}\")\n",
    "        pass"
   ]
  },
  {
   "cell_type": "code",
   "execution_count": null,
   "id": "f9beaa6a-fc08-4e60-b4df-11b3f060614e",
   "metadata": {},
   "outputs": [],
   "source": [
    "import os\n",
    "for i in [0,1,2,3]:\n",
    "    print(len(os.listdir(f'AWS/cosmax/피지_{i}')))"
   ]
  },
  {
   "cell_type": "code",
   "execution_count": null,
   "id": "7ebaff68-44b1-4b1d-9e0c-4015abdce1ed",
   "metadata": {},
   "outputs": [],
   "source": []
  }
 ],
 "metadata": {
  "instance_type": "ml.t3.medium",
  "kernelspec": {
   "display_name": "Python 3 (Data Science)",
   "language": "python",
   "name": "python3__SAGEMAKER_INTERNAL__arn:aws:sagemaker:ap-northeast-2:806072073708:image/datascience-1.0"
  },
  "language_info": {
   "codemirror_mode": {
    "name": "ipython",
    "version": 3
   },
   "file_extension": ".py",
   "mimetype": "text/x-python",
   "name": "python",
   "nbconvert_exporter": "python",
   "pygments_lexer": "ipython3",
   "version": "3.7.10"
  }
 },
 "nbformat": 4,
 "nbformat_minor": 5
}
