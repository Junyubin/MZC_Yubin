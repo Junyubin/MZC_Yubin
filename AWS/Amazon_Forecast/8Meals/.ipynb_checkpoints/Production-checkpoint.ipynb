{
 "cells": [
  {
   "cell_type": "markdown",
   "id": "79186e60-f646-4efd-ae08-331d31e143dd",
   "metadata": {
    "tags": []
   },
   "source": [
    "## 최종 모델\n",
    "- Forward fill & Backward fill 진행한 RETAIL 도메인의 CNN 모델"
   ]
  },
  {
   "cell_type": "code",
   "execution_count": 2,
   "id": "73f4726a-32e9-4f20-ad96-9ba02ac6d340",
   "metadata": {
    "tags": []
   },
   "outputs": [],
   "source": [
    "# !pip install awswrangler -q\n",
    "import awswrangler as wr\n",
    "import pandas as pd\n",
    "import numpy as np\n",
    "import boto3\n",
    "import logging\n",
    "import os\n",
    "from botocore.exceptions import ClientError\n",
    "\n",
    "logging.basicConfig(level=logging.INFO)\n",
    "logger = logging.getLogger(__name__)\n",
    "\n",
    "s3 = boto3.client('s3')\n",
    "\n",
    "## layer : arn:aws:lambda:ap-northeast-2:336392948345:layer:AWSDataWrangler-Python39:3"
   ]
  },
  {
   "cell_type": "markdown",
   "id": "c5aa1a6d-83e7-4c46-8044-520d921a4bf6",
   "metadata": {
    "tags": []
   },
   "source": [
    "## Lambda - Data_PreProcessing"
   ]
  },
  {
   "cell_type": "code",
   "execution_count": 39,
   "id": "3605d941-3d6b-4a4f-9c0d-f8dc0efc4dab",
   "metadata": {
    "scrolled": true,
    "tags": []
   },
   "outputs": [],
   "source": [
    "# bucket = 'poc-2208-8meals'\n",
    "# obj_list = s3.list_objects(Bucket = bucket)\n",
    "# key_list = [i['Key'] for i in obj_list['Contents'] if ('raw_data' in i['Key']) and (('.csv' in i['Key']))]        \n",
    "\n",
    "\n",
    "# import awswrangler as wr\n",
    "# import pandas as pd\n",
    "# import numpy as np\n",
    "# import boto3\n",
    "\n",
    "# for key_ in key_list:\n",
    "#     key = key_\n",
    "    \n",
    "#     # bucket = event['Records'][0]['s3']['bucket']['name']\n",
    "#     # key = event['Records'][0]['s3']['object']['key']\n",
    "    \n",
    "#     ############## Lambda Code ##############   \n",
    "#     path = f's3://{bucket}/{key}' ## Data path\n",
    "    \n",
    "#     ## Domestic Data Load\n",
    "#     raw_df = wr.s3.read_csv(path)\n",
    "#     raw_df['date'] = pd.to_datetime(raw_df['date'])\n",
    "#     raw_df['date'] = raw_df['date'].apply(lambda x : x.strftime('%Y-%m-%d')) ## Date 형변환\n",
    "        \n",
    "#     ##################################추후 삭제#####################################\n",
    "#     raw_df = raw_df[raw_df['date'] <= '2016-04-01']\n",
    "#     ################################################################################\n",
    "\n",
    "#     ## Data PreProcessing\n",
    "#     df = pd.DataFrame()\n",
    "#     df[['item_id','timestamp','demand']] = raw_df[~raw_df['등급'].isin(['모돈','등외'])][['등급','date','가격_전체']] ## 컬럼명 변환 및 등급 필터링    \n",
    "\n",
    "#     ## 날짜 결측치 확인 후 날짜 보간\n",
    "#     if len(set(pd.date_range(df['timestamp'].min(), df['timestamp'].max())) - set(df['timestamp'])) > 0:\n",
    "#         temp_df = pd.DataFrame()\n",
    "#         for grade in df['item_id'].unique():\n",
    "#             temp_date = pd.DataFrame(columns = ['timestamp'], data = set(pd.date_range(df['timestamp'].min(), df['timestamp'].max())) - set(df['timestamp']))\n",
    "#             temp_date['item_id'] = grade\n",
    "#             temp_df = pd.concat([temp_df, temp_date])    \n",
    "#     temp_df['demand'] = np.NaN\n",
    "#     temp_df['timestamp'] = temp_df['timestamp'].apply(lambda x : x.strftime('%Y-%m-%d')) ## Date 형변환\n",
    "\n",
    "#     df = pd.concat([df, temp_df])\n",
    "    \n",
    "#     ## 등급별 Forward/Backward Fill 진행\n",
    "#     fill_df = pd.DataFrame()\n",
    "#     for grade in df['item_id'].unique():\n",
    "#         temp_df = df[df['item_id'] == grade].sort_values('timestamp')\n",
    "#         temp_df.fillna(method = 'ffill', inplace = True)\n",
    "#         temp_df.fillna(method = 'bfill', inplace = True)\n",
    "#         fill_df = pd.concat([fill_df, temp_df])\n",
    "#     fill_df.reset_index(drop = True, inplace = True)\n",
    "#     fill_df = fill_df[['timestamp', 'demand', 'item_id']]\n",
    "    \n",
    "#     ## Forecast 용 데이터 저장\n",
    "#     wr.s3.to_csv(df = fill_df,\n",
    "#                  path = f\"s3://{bucket}/forecast_input/{fill_df['timestamp'].min()}_{fill_df['timestamp'].max()}.csv\",\n",
    "#                  index = False)    \n",
    "        \n",
    "#     ## Quicksight용 데이터 저장\n",
    "#     quick_df = pd.melt(raw_df, id_vars=['date', '등급'])    \n",
    "#     quick_df.rename(columns = {'variable': '구분', 'value': '가격/두수'}, inplace = True)\n",
    "#     quick_df['가격/두수'] = np.where(quick_df['가격/두수'] == 'NaN', np.NaN, quick_df['가격/두수'])\n",
    "#     quick_df['tag'] = 'real'\n",
    "    \n",
    "#     min_date = quick_df['date'].min()\n",
    "#     max_date = quick_df['date'].max()\n",
    "       \n",
    "#     ## Data Delete From Athena\n",
    "#     sess = boto3.Session(region_name='ap-northeast-2')\n",
    "#     for grade in quick_df['등급'].unique():        \n",
    "#         query = f\"\"\"DELETE FROM \"8meals_database\".quicksight_table\n",
    "#                     WHERE \"date\" between date('{min_date}') and date('{max_date}')\n",
    "#                     AND grade = '{grade}'\n",
    "#                     AND tag = 'real'\"\"\"\n",
    "#         query_exec_id = wr.athena.start_query_execution(sql=query, database='8meals_database', boto3_session=sess, wait=True)\n",
    "#         print(f'GRADE {grade} Delete Done.')\n",
    "        \n",
    "#     ## Data Insert To Athena\n",
    "#     df_arr = quick_df.to_numpy()    \n",
    "\n",
    "#     start_batch = 0\n",
    "#     end_batch = 0\n",
    "#     batch_size = 3000\n",
    "#     print(f'Total Data Size : {df_arr.shape}')\n",
    "\n",
    "#     while end_batch < len(df_arr):\n",
    "#         end_batch += batch_size\n",
    "#         if end_batch > len(df_arr):\n",
    "#             end_batch = len(df_arr) + 1    \n",
    "#         print(f'------- Data Insert {start_batch} ~ {end_batch} -------')\n",
    "#         temp_arr = df_arr[start_batch:end_batch]\n",
    "#         query = \"\"\"INSERT INTO \"8meals_database\".quicksight_table VALUES \"\"\"\n",
    "#         for r in temp_arr:\n",
    "#             query += f\"\"\"(date('{r[0]}'), '{r[1]}', '{r[2]}', '{r[3]}', '{r[4]}'),\\n\"\"\"\n",
    "#         query = query[:-2]\n",
    "#         query_exec_id = wr.athena.start_query_execution(sql=query, database='8meals_database', boto3_session=sess, wait=True)\n",
    "        \n",
    "#         start_batch += batch_size                    \n",
    "#     print('Data Insert Done.')     "
   ]
  },
  {
   "cell_type": "markdown",
   "id": "f73d555f-f333-4d5d-991b-7748f35e7247",
   "metadata": {
    "tags": []
   },
   "source": [
    "## Lambda - Forecast Dataset Import"
   ]
  },
  {
   "cell_type": "code",
   "execution_count": 38,
   "id": "954804fd-329a-4a62-9e28-300126905ba1",
   "metadata": {
    "tags": []
   },
   "outputs": [],
   "source": [
    "# bucket = 'poc-2208-8meals'\n",
    "# obj_list = s3.list_objects(Bucket = bucket)\n",
    "# key_list = [i['Key'] for i in obj_list['Contents'] if ('forecast_input' in i['Key']) and (('.csv' in i['Key']))]        \n",
    "\n",
    "# import boto3\n",
    "# import datetime\n",
    "# import awswrangler as wr\n",
    "\n",
    "# for key_ in key_list:\n",
    "#     key = key_\n",
    "#     ############## Lambda Code ##############   \n",
    "#     path = f's3://{bucket}/{key}' ## Data path\n",
    "    \n",
    "#     ## Domestic Data Load\n",
    "#     raw_df = wr.s3.read_csv(path)\n",
    "    \n",
    "#     ## Forecast Setting\n",
    "#     session = boto3.Session() \n",
    "#     forecast = session.client(service_name=\"forecast\") \n",
    "#     forecast_query = session.client(service_name=\"forecastquery\")\n",
    "#     s3 = session.client(service_name=\"s3\")\n",
    "    \n",
    "#     ## Set Today Date_Hour\n",
    "#     now = datetime.datetime.now()\n",
    "#     now = now.strftime('%Y%m%d_%H')\n",
    "    \n",
    "#     ## Create Dataset Group\n",
    "#     dataset_group_arn = forecast.create_dataset_group(DatasetGroupName = f'forecast_dataset_group_{now}',\n",
    "#                                                       Domain = 'RETAIL')\n",
    "#     dataset_group_arn = dataset_group_arn['DatasetGroupArn']\n",
    "\n",
    "#     ## Create DataSet Schema\n",
    "#     ts_schema ={\n",
    "#         \"Attributes\":[\n",
    "#             {\n",
    "#                 \"AttributeName\":\"timestamp\",\n",
    "#                 \"AttributeType\":\"timestamp\"\n",
    "#             },\n",
    "#             {\n",
    "#                 \"AttributeName\":\"demand\",\n",
    "#                 \"AttributeType\":\"float\"\n",
    "#             },\n",
    "#             {\n",
    "#                 \"AttributeName\":\"item_id\",\n",
    "#                 \"AttributeType\":\"string\"\n",
    "#             }\n",
    "#         ]\n",
    "#     }\n",
    "\n",
    "#     ## Create Dataset\n",
    "#     dataset_arn = forecast.create_dataset(DatasetName = f'forecast_dataset_{now}',\n",
    "#                                           Domain = 'RETAIL',\n",
    "#                                           DatasetType = 'TARGET_TIME_SERIES',                                                                            \n",
    "#                                           DataFrequency= 'D',\n",
    "#                                           Schema=ts_schema)\n",
    "#     dataset_arn = dataset_arn['DatasetArn']\n",
    "#     forecast.update_dataset_group(DatasetGroupArn=dataset_group_arn, DatasetArns=[dataset_arn])\n",
    "    \n",
    "#     ## Create Dataset Import Job\n",
    "#     dataset_import_job_arn = forecast.create_dataset_import_job(DatasetImportJobName = f'forecast_dataset_import_job_{now}',\n",
    "#                                                                 DatasetArn = dataset_arn,\n",
    "#                                                                 DataSource = {\n",
    "#                                                                     \"S3Config\" : {\"Path\": f's3://{bucket}/{key}',\n",
    "#                                                                                   \"RoleArn\": 'arn:aws:iam::257832939543:role/service-role/AmazonForecast-ExecutionRole-1654746282029'\n",
    "#                                                                                  } \n",
    "#                                                                                 },\n",
    "#                                                                 TimestampFormat = 'yyyy-MM-dd')"
   ]
  },
  {
   "cell_type": "markdown",
   "id": "18745057-aecb-4ab5-a7dd-ab13dc8a8520",
   "metadata": {
    "tags": []
   },
   "source": [
    "## Lambda - Forecast Training"
   ]
  },
  {
   "cell_type": "code",
   "execution_count": 69,
   "id": "17afb637-81b8-47c1-b7a3-61b4bf771337",
   "metadata": {
    "scrolled": true,
    "tags": []
   },
   "outputs": [],
   "source": [
    "# import boto3\n",
    "# import datetime\n",
    "\n",
    "# ## Create Forecast models\n",
    "# algorithm = 'CNN-QR'\n",
    "\n",
    "# ## Forecast Setting\n",
    "# session = boto3.Session() \n",
    "# forecast = session.client(service_name=\"forecast\") \n",
    "\n",
    "# ## Set Today Date_Hour\n",
    "# now = datetime.datetime.now()\n",
    "# for i in range(100):    \n",
    "#     if now.strftime('%Y%m%d_%H') in [datagroup_arn['DatasetGroupArn'][-11:] for datagroup_arn in forecast.list_dataset_groups()['DatasetGroups']]:\n",
    "#         now = now.strftime('%Y%m%d_%H')\n",
    "#         break\n",
    "#     else:\n",
    "#         now = now - datetime.timedelta(hours = 1)\n",
    "                \n",
    "# datagroup_arn = [datagroup_arn['DatasetGroupArn'] for datagroup_arn in forecast.list_dataset_groups()['DatasetGroups'] if now in datagroup_arn['DatasetGroupArn']][0]\n",
    "# name = '_'.join(datagroup_arn.split('/')[-1].split(\"_\")[-2:])\n",
    "# feturization = {'AttributeName': 'demand'}\n",
    "# forecast.create_predictor(PredictorName=f\"{name}_CNN_QR\",\n",
    "#                           AlgorithmArn=f\"arn:aws:forecast:::algorithm/{algorithm}\",\n",
    "#                           ForecastHorizon=1, ## 몇칠의 데이터를 볼 것인가\n",
    "#                           InputDataConfig={'DatasetGroupArn': datagroup_arn, 'SupplementaryFeatures': [{'Name': 'holiday', 'Value': 'KR'}]},\n",
    "#                           FeaturizationConfig={'ForecastFrequency': 'D', 'Featurizations': [feturization]})\n"
   ]
  },
  {
   "cell_type": "markdown",
   "id": "cf7330ec-0da8-4cd8-8be6-b1e100f452ec",
   "metadata": {
    "tags": []
   },
   "source": [
    "## Lambda - Forecast Generate Forecast"
   ]
  },
  {
   "cell_type": "code",
   "execution_count": 44,
   "id": "4eb8ccf6-60a2-4566-9c40-a03606c1bbdc",
   "metadata": {
    "tags": []
   },
   "outputs": [],
   "source": [
    "# import boto3\n",
    "# import datetime\n",
    "\n",
    "# ## Forecast Setting\n",
    "# session = boto3.Session() \n",
    "# forecast = session.client(service_name=\"forecast\") \n",
    "\n",
    "# ## Set Today Date_Hour\n",
    "# now = datetime.datetime.now()\n",
    "# for i in range(100):    \n",
    "#     if now.strftime('%Y%m%d_%H') in [predictor['PredictorArn'][-11:] for predictor in forecast.list_predictors()['Predictors']]:\n",
    "#         now = now.strftime('%Y%m%d_%H')\n",
    "#         break\n",
    "#     else:\n",
    "#         now = now - datetime.timedelta(hours = 1)\n",
    "\n",
    "# ## Create Forecast\n",
    "# predictor_arn = [predictor['PredictorArn'] for predictor in forecast.list_predictors()['Predictors'] if now in predictor['PredictorArn']][0]\n",
    "# name = predictor_arn.split('/')[-1]\n",
    "\n",
    "# forecast.create_forecast(ForecastName = 'forecast_'+ name, PredictorArn = predictor_arn)"
   ]
  },
  {
   "cell_type": "markdown",
   "id": "0cc8bc97-c86a-4068-a5e6-970b32961464",
   "metadata": {
    "tags": []
   },
   "source": [
    "## Lambda - Forecast Export Job"
   ]
  },
  {
   "cell_type": "code",
   "execution_count": 48,
   "id": "30c0d08d-ad20-41b4-be38-02a16c4fdb5e",
   "metadata": {
    "tags": []
   },
   "outputs": [],
   "source": [
    "# import boto3\n",
    "# import datetime\n",
    "\n",
    "# ## Forecast Setting\n",
    "# session = boto3.Session() \n",
    "# forecast = session.client(service_name=\"forecast\") \n",
    "# bucket = 'poc-2208-8meals'\n",
    "# iam_role = 'arn:aws:iam::257832939543:role/service-role/AmazonForecast-ExecutionRole-1654746282029' ## Forecast 관련 ARN으로 설정 필요\n",
    "\n",
    "# ## Set Today Date_Hour\n",
    "# now = datetime.datetime.now()\n",
    "# for i in range(100):    \n",
    "#     if now.strftime('%Y%m%d_%H') in [forecast_arn['ForecastArn'][-11:] for forecast_arn in forecast.list_forecasts()['Forecasts']]:\n",
    "#         now = now.strftime('%Y%m%d_%H')\n",
    "#         break\n",
    "#     else:\n",
    "#         now = now - datetime.timedelta(hours = 1)\n",
    "\n",
    "# ## Create Forecast Export Job\n",
    "# forecast_arn = [forecast_arn['ForecastArn'] for forecast_arn in forecast.list_forecasts()['Forecasts'] if now in forecast_arn['ForecastArn']][0]\n",
    "# name = forecast_arn.split('/')[-1]\n",
    "\n",
    "# forecast.create_forecast_export_job(ForecastExportJobName = name + '_export_job',\n",
    "#                                     ForecastArn = forecast_arn,\n",
    "#                                     Destination = {\"S3Config\": {\"Path\": f\"s3://{bucket}/forecast_output/{name}_results\",\n",
    "#                                                                 \"RoleArn\": iam_role}})"
   ]
  },
  {
   "cell_type": "markdown",
   "id": "3c1ac203-de4b-445b-aa1c-e02cef7e6a3b",
   "metadata": {
    "tags": []
   },
   "source": [
    "## Lambda - Data_PostProcessing"
   ]
  },
  {
   "cell_type": "code",
   "execution_count": 52,
   "id": "e4110156-1df1-4a5d-a4b3-d9f60336b549",
   "metadata": {
    "tags": []
   },
   "outputs": [],
   "source": [
    "## Set Today Date_Hour\n",
    "now = datetime.datetime.now()\n",
    "for i in range(100):    \n",
    "    if now.strftime('%Y%m%d_%H') in [forecast_arn['ForecastArn'][-11:] for forecast_arn in forecast.list_forecasts()['Forecasts']]:\n",
    "        now = now.strftime('%Y%m%d_%H')\n",
    "        break\n",
    "    else:\n",
    "        now = now - datetime.timedelta(hours = 1)"
   ]
  },
  {
   "cell_type": "code",
   "execution_count": 64,
   "id": "279e1797-42d7-4b69-a0a6-b655bf080d24",
   "metadata": {
    "tags": []
   },
   "outputs": [
    {
     "data": {
      "text/plain": [
       "{'20230509_02'}"
      ]
     },
     "execution_count": 64,
     "metadata": {},
     "output_type": "execute_result"
    }
   ],
   "source": [
    "import boto3\n",
    "\n",
    "session = boto3.Session() \n",
    "s3 = session.resource('s3')\n",
    "\n",
    "bucket = s3.Bucket('poc-2208-8meals')\n",
    "\n",
    "set(['_'.join(obj.key.split('/')[1].split('_')[3:5]) for obj in bucket.objects.all() if (obj.key.split('/')[0] == 'forecast_output') & (len(obj.key.split('/')) >= 3)])"
   ]
  },
  {
   "cell_type": "code",
   "execution_count": 62,
   "id": "a5672085-19ac-42e8-a8ae-c408bab12b60",
   "metadata": {
    "tags": []
   },
   "outputs": [
    {
     "data": {
      "text/plain": [
       "['forecast_output/',\n",
       " 'forecast_output/forecast_CNN_QR_20230509_02_results.csv/_CHECK',\n",
       " 'forecast_output/forecast_CNN_QR_20230509_02_results.csv/_SUCCESS',\n",
       " 'forecast_output/forecast_CNN_QR_20230509_02_results.csv/forecast_CNN_QR_20230509_02_export_job_2023-05-09T08-59-33Z_part0.csv',\n",
       " 'forecast_output/forecast_CNN_QR_20230509_02_results.csv/forecast_CNN_QR_20230509_02_export_job_2023-05-09T08-59-33Z_part1.csv',\n",
       " 'forecast_output/forecast_CNN_QR_20230509_02_results.csv/forecast_CNN_QR_20230509_02_export_job_2023-05-09T08-59-33Z_part2.csv',\n",
       " 'forecast_output/forecast_CNN_QR_20230509_02_results.csv/forecast_CNN_QR_20230509_02_export_job_2023-05-09T08-59-33Z_part3.csv']"
      ]
     },
     "execution_count": 62,
     "metadata": {},
     "output_type": "execute_result"
    }
   ],
   "source": [
    "[obj.key for obj in bucket.objects.all() if obj.key.split('/')[0] == 'forecast_output']"
   ]
  },
  {
   "cell_type": "code",
   "execution_count": null,
   "id": "1db5a179-a7f8-487a-a502-e35605a133b0",
   "metadata": {},
   "outputs": [],
   "source": []
  },
  {
   "cell_type": "code",
   "execution_count": null,
   "id": "c30b1682-8cbb-4756-88de-c91f310675dd",
   "metadata": {},
   "outputs": [],
   "source": []
  },
  {
   "cell_type": "code",
   "execution_count": null,
   "id": "d798ad32-0b12-41e5-852a-c798e126ed3a",
   "metadata": {},
   "outputs": [],
   "source": []
  },
  {
   "cell_type": "code",
   "execution_count": null,
   "id": "3747ca6b-d260-4d36-9188-f477020f4ae6",
   "metadata": {},
   "outputs": [],
   "source": []
  },
  {
   "cell_type": "code",
   "execution_count": null,
   "id": "3c356d4f-635e-41d6-9167-5607ed8108df",
   "metadata": {},
   "outputs": [],
   "source": []
  },
  {
   "cell_type": "code",
   "execution_count": null,
   "id": "0e100e88-7c3c-494a-8bf7-123d857e0757",
   "metadata": {},
   "outputs": [],
   "source": []
  },
  {
   "cell_type": "markdown",
   "id": "cb815b9b-75dc-4434-8363-ad17660b3ad5",
   "metadata": {
    "tags": []
   },
   "source": [
    "## Delete Resource"
   ]
  },
  {
   "cell_type": "code",
   "execution_count": 84,
   "id": "d847c303-4be0-442b-a16c-edc1a9dbd6c1",
   "metadata": {
    "scrolled": true,
    "tags": []
   },
   "outputs": [
    {
     "name": "stdout",
     "output_type": "stream",
     "text": [
      "arn:aws:forecast:ap-northeast-2:257832939543:dataset-import-job/forecast_dataset_20230508_00/forecast_dataset_import_job_20230508_00\n",
      "arn:aws:forecast:ap-northeast-2:257832939543:dataset-import-job/forecast_dataset_20230508_09_test/forecast_dataset_import_job_20230508_09_test\n",
      "arn:aws:forecast:ap-northeast-2:257832939543:dataset-group/forecast_dataset_group_20230508_00\n",
      "arn:aws:forecast:ap-northeast-2:257832939543:dataset/forecast_dataset_20230508_00\n",
      "An error occurred (ResourceInUseException) when calling the DeleteDataset operation: Operation not allowed when the resource arn:aws:forecast:ap-northeast-2:257832939543:dataset/forecast_dataset_20230508_00 is being referenced by these resources : [ arn:aws:forecast:ap-northeast-2:257832939543:dataset-import-job/forecast_dataset_20230508_00/forecast_dataset_import_job_20230508_00 ]\n",
      "arn:aws:forecast:ap-northeast-2:257832939543:dataset/forecast_dataset_20230508_09_test\n",
      "An error occurred (ResourceInUseException) when calling the DeleteDataset operation: Operation not allowed when the resource arn:aws:forecast:ap-northeast-2:257832939543:dataset/forecast_dataset_20230508_09_test is being referenced by these resources : [ arn:aws:forecast:ap-northeast-2:257832939543:dataset-import-job/forecast_dataset_20230508_09_test/forecast_dataset_import_job_20230508_09_test ]\n",
      "arn:aws:forecast:ap-northeast-2:257832939543:dataset/my_forecast_ds\n",
      "arn:aws:forecast:ap-northeast-2:257832939543:dataset-import-job/forecast_dataset_20230508_00/forecast_dataset_import_job_20230508_00\n",
      "arn:aws:forecast:ap-northeast-2:257832939543:dataset-import-job/forecast_dataset_20230508_09_test/forecast_dataset_import_job_20230508_09_test\n",
      "arn:aws:forecast:ap-northeast-2:257832939543:dataset/forecast_dataset_20230508_00\n",
      "An error occurred (ResourceInUseException) when calling the DeleteDataset operation: Operation not allowed when the resource arn:aws:forecast:ap-northeast-2:257832939543:dataset/forecast_dataset_20230508_00 is being referenced by these resources : [ arn:aws:forecast:ap-northeast-2:257832939543:dataset-import-job/forecast_dataset_20230508_00/forecast_dataset_import_job_20230508_00 ]\n",
      "arn:aws:forecast:ap-northeast-2:257832939543:dataset/forecast_dataset_20230508_09_test\n",
      "An error occurred (ResourceInUseException) when calling the DeleteDataset operation: Operation not allowed when the resource arn:aws:forecast:ap-northeast-2:257832939543:dataset/forecast_dataset_20230508_09_test is being referenced by these resources : [ arn:aws:forecast:ap-northeast-2:257832939543:dataset-import-job/forecast_dataset_20230508_09_test/forecast_dataset_import_job_20230508_09_test ]\n",
      "arn:aws:forecast:ap-northeast-2:257832939543:dataset/my_forecast_ds\n",
      "arn:aws:forecast:ap-northeast-2:257832939543:dataset-import-job/forecast_dataset_20230508_00/forecast_dataset_import_job_20230508_00\n",
      "arn:aws:forecast:ap-northeast-2:257832939543:dataset-import-job/forecast_dataset_20230508_09_test/forecast_dataset_import_job_20230508_09_test\n",
      "arn:aws:forecast:ap-northeast-2:257832939543:dataset/forecast_dataset_20230508_00\n",
      "An error occurred (ResourceInUseException) when calling the DeleteDataset operation: Operation not allowed when the resource arn:aws:forecast:ap-northeast-2:257832939543:dataset/forecast_dataset_20230508_00 is being referenced by these resources : [ arn:aws:forecast:ap-northeast-2:257832939543:dataset-import-job/forecast_dataset_20230508_00/forecast_dataset_import_job_20230508_00 ]\n",
      "arn:aws:forecast:ap-northeast-2:257832939543:dataset/forecast_dataset_20230508_09_test\n",
      "An error occurred (ResourceInUseException) when calling the DeleteDataset operation: Operation not allowed when the resource arn:aws:forecast:ap-northeast-2:257832939543:dataset/forecast_dataset_20230508_09_test is being referenced by these resources : [ arn:aws:forecast:ap-northeast-2:257832939543:dataset-import-job/forecast_dataset_20230508_09_test/forecast_dataset_import_job_20230508_09_test ]\n",
      "arn:aws:forecast:ap-northeast-2:257832939543:dataset/my_forecast_ds\n",
      "arn:aws:forecast:ap-northeast-2:257832939543:dataset-import-job/forecast_dataset_20230508_00/forecast_dataset_import_job_20230508_00\n",
      "arn:aws:forecast:ap-northeast-2:257832939543:dataset-import-job/forecast_dataset_20230508_09_test/forecast_dataset_import_job_20230508_09_test\n",
      "arn:aws:forecast:ap-northeast-2:257832939543:dataset/forecast_dataset_20230508_00\n",
      "An error occurred (ResourceInUseException) when calling the DeleteDataset operation: Operation not allowed when the resource arn:aws:forecast:ap-northeast-2:257832939543:dataset/forecast_dataset_20230508_00 is being referenced by these resources : [ arn:aws:forecast:ap-northeast-2:257832939543:dataset-import-job/forecast_dataset_20230508_00/forecast_dataset_import_job_20230508_00 ]\n",
      "arn:aws:forecast:ap-northeast-2:257832939543:dataset/forecast_dataset_20230508_09_test\n",
      "An error occurred (ResourceInUseException) when calling the DeleteDataset operation: Operation not allowed when the resource arn:aws:forecast:ap-northeast-2:257832939543:dataset/forecast_dataset_20230508_09_test is being referenced by these resources : [ arn:aws:forecast:ap-northeast-2:257832939543:dataset-import-job/forecast_dataset_20230508_09_test/forecast_dataset_import_job_20230508_09_test ]\n",
      "arn:aws:forecast:ap-northeast-2:257832939543:dataset/my_forecast_ds\n",
      "arn:aws:forecast:ap-northeast-2:257832939543:dataset-import-job/forecast_dataset_20230508_00/forecast_dataset_import_job_20230508_00\n",
      "arn:aws:forecast:ap-northeast-2:257832939543:dataset-import-job/forecast_dataset_20230508_09_test/forecast_dataset_import_job_20230508_09_test\n",
      "arn:aws:forecast:ap-northeast-2:257832939543:dataset/forecast_dataset_20230508_00\n",
      "An error occurred (ResourceInUseException) when calling the DeleteDataset operation: Operation not allowed when the resource arn:aws:forecast:ap-northeast-2:257832939543:dataset/forecast_dataset_20230508_00 is being referenced by these resources : [ arn:aws:forecast:ap-northeast-2:257832939543:dataset-import-job/forecast_dataset_20230508_00/forecast_dataset_import_job_20230508_00 ]\n",
      "arn:aws:forecast:ap-northeast-2:257832939543:dataset/forecast_dataset_20230508_09_test\n",
      "An error occurred (ResourceInUseException) when calling the DeleteDataset operation: Operation not allowed when the resource arn:aws:forecast:ap-northeast-2:257832939543:dataset/forecast_dataset_20230508_09_test is being referenced by these resources : [ arn:aws:forecast:ap-northeast-2:257832939543:dataset-import-job/forecast_dataset_20230508_09_test/forecast_dataset_import_job_20230508_09_test ]\n",
      "arn:aws:forecast:ap-northeast-2:257832939543:dataset/my_forecast_ds\n",
      "arn:aws:forecast:ap-northeast-2:257832939543:dataset-import-job/forecast_dataset_20230508_00/forecast_dataset_import_job_20230508_00\n",
      "arn:aws:forecast:ap-northeast-2:257832939543:dataset-import-job/forecast_dataset_20230508_09_test/forecast_dataset_import_job_20230508_09_test\n",
      "arn:aws:forecast:ap-northeast-2:257832939543:dataset/forecast_dataset_20230508_00\n",
      "An error occurred (ResourceInUseException) when calling the DeleteDataset operation: Operation not allowed when the resource arn:aws:forecast:ap-northeast-2:257832939543:dataset/forecast_dataset_20230508_00 is being referenced by these resources : [ arn:aws:forecast:ap-northeast-2:257832939543:dataset-import-job/forecast_dataset_20230508_00/forecast_dataset_import_job_20230508_00 ]\n",
      "arn:aws:forecast:ap-northeast-2:257832939543:dataset/forecast_dataset_20230508_09_test\n",
      "An error occurred (ResourceInUseException) when calling the DeleteDataset operation: Operation not allowed when the resource arn:aws:forecast:ap-northeast-2:257832939543:dataset/forecast_dataset_20230508_09_test is being referenced by these resources : [ arn:aws:forecast:ap-northeast-2:257832939543:dataset-import-job/forecast_dataset_20230508_09_test/forecast_dataset_import_job_20230508_09_test ]\n",
      "arn:aws:forecast:ap-northeast-2:257832939543:dataset/my_forecast_ds\n",
      "arn:aws:forecast:ap-northeast-2:257832939543:dataset-import-job/forecast_dataset_20230508_00/forecast_dataset_import_job_20230508_00\n",
      "arn:aws:forecast:ap-northeast-2:257832939543:dataset-import-job/forecast_dataset_20230508_09_test/forecast_dataset_import_job_20230508_09_test\n",
      "arn:aws:forecast:ap-northeast-2:257832939543:dataset/forecast_dataset_20230508_00\n",
      "An error occurred (ResourceInUseException) when calling the DeleteDataset operation: Operation not allowed when the resource arn:aws:forecast:ap-northeast-2:257832939543:dataset/forecast_dataset_20230508_00 is being referenced by these resources : [ arn:aws:forecast:ap-northeast-2:257832939543:dataset-import-job/forecast_dataset_20230508_00/forecast_dataset_import_job_20230508_00 ]\n",
      "arn:aws:forecast:ap-northeast-2:257832939543:dataset/forecast_dataset_20230508_09_test\n",
      "An error occurred (ResourceInUseException) when calling the DeleteDataset operation: Operation not allowed when the resource arn:aws:forecast:ap-northeast-2:257832939543:dataset/forecast_dataset_20230508_09_test is being referenced by these resources : [ arn:aws:forecast:ap-northeast-2:257832939543:dataset-import-job/forecast_dataset_20230508_09_test/forecast_dataset_import_job_20230508_09_test ]\n",
      "arn:aws:forecast:ap-northeast-2:257832939543:dataset/my_forecast_ds\n",
      "arn:aws:forecast:ap-northeast-2:257832939543:dataset-import-job/forecast_dataset_20230508_00/forecast_dataset_import_job_20230508_00\n",
      "arn:aws:forecast:ap-northeast-2:257832939543:dataset-import-job/forecast_dataset_20230508_09_test/forecast_dataset_import_job_20230508_09_test\n",
      "arn:aws:forecast:ap-northeast-2:257832939543:dataset/forecast_dataset_20230508_00\n",
      "An error occurred (ResourceInUseException) when calling the DeleteDataset operation: Operation not allowed when the resource arn:aws:forecast:ap-northeast-2:257832939543:dataset/forecast_dataset_20230508_00 is being referenced by these resources : [ arn:aws:forecast:ap-northeast-2:257832939543:dataset-import-job/forecast_dataset_20230508_00/forecast_dataset_import_job_20230508_00 ]\n",
      "arn:aws:forecast:ap-northeast-2:257832939543:dataset/forecast_dataset_20230508_09_test\n",
      "An error occurred (ResourceInUseException) when calling the DeleteDataset operation: Operation not allowed when the resource arn:aws:forecast:ap-northeast-2:257832939543:dataset/forecast_dataset_20230508_09_test is being referenced by these resources : [ arn:aws:forecast:ap-northeast-2:257832939543:dataset-import-job/forecast_dataset_20230508_09_test/forecast_dataset_import_job_20230508_09_test ]\n",
      "arn:aws:forecast:ap-northeast-2:257832939543:dataset/my_forecast_ds\n",
      "arn:aws:forecast:ap-northeast-2:257832939543:dataset-import-job/forecast_dataset_20230508_00/forecast_dataset_import_job_20230508_00\n",
      "arn:aws:forecast:ap-northeast-2:257832939543:dataset-import-job/forecast_dataset_20230508_09_test/forecast_dataset_import_job_20230508_09_test\n",
      "arn:aws:forecast:ap-northeast-2:257832939543:dataset/forecast_dataset_20230508_00\n",
      "An error occurred (ResourceInUseException) when calling the DeleteDataset operation: Operation not allowed when the resource arn:aws:forecast:ap-northeast-2:257832939543:dataset/forecast_dataset_20230508_00 is being referenced by these resources : [ arn:aws:forecast:ap-northeast-2:257832939543:dataset-import-job/forecast_dataset_20230508_00/forecast_dataset_import_job_20230508_00 ]\n",
      "arn:aws:forecast:ap-northeast-2:257832939543:dataset/forecast_dataset_20230508_09_test\n",
      "An error occurred (ResourceInUseException) when calling the DeleteDataset operation: Operation not allowed when the resource arn:aws:forecast:ap-northeast-2:257832939543:dataset/forecast_dataset_20230508_09_test is being referenced by these resources : [ arn:aws:forecast:ap-northeast-2:257832939543:dataset-import-job/forecast_dataset_20230508_09_test/forecast_dataset_import_job_20230508_09_test ]\n",
      "arn:aws:forecast:ap-northeast-2:257832939543:dataset/my_forecast_ds\n",
      "arn:aws:forecast:ap-northeast-2:257832939543:dataset-import-job/forecast_dataset_20230508_00/forecast_dataset_import_job_20230508_00\n",
      "arn:aws:forecast:ap-northeast-2:257832939543:dataset-import-job/forecast_dataset_20230508_09_test/forecast_dataset_import_job_20230508_09_test\n",
      "arn:aws:forecast:ap-northeast-2:257832939543:dataset/forecast_dataset_20230508_00\n",
      "An error occurred (ResourceInUseException) when calling the DeleteDataset operation: Operation not allowed when the resource arn:aws:forecast:ap-northeast-2:257832939543:dataset/forecast_dataset_20230508_00 is being referenced by these resources : [ arn:aws:forecast:ap-northeast-2:257832939543:dataset-import-job/forecast_dataset_20230508_00/forecast_dataset_import_job_20230508_00 ]\n",
      "arn:aws:forecast:ap-northeast-2:257832939543:dataset/forecast_dataset_20230508_09_test\n",
      "An error occurred (ResourceInUseException) when calling the DeleteDataset operation: Operation not allowed when the resource arn:aws:forecast:ap-northeast-2:257832939543:dataset/forecast_dataset_20230508_09_test is being referenced by these resources : [ arn:aws:forecast:ap-northeast-2:257832939543:dataset-import-job/forecast_dataset_20230508_09_test/forecast_dataset_import_job_20230508_09_test ]\n",
      "arn:aws:forecast:ap-northeast-2:257832939543:dataset/my_forecast_ds\n",
      "arn:aws:forecast:ap-northeast-2:257832939543:dataset-import-job/forecast_dataset_20230508_00/forecast_dataset_import_job_20230508_00\n",
      "arn:aws:forecast:ap-northeast-2:257832939543:dataset-import-job/forecast_dataset_20230508_09_test/forecast_dataset_import_job_20230508_09_test\n",
      "arn:aws:forecast:ap-northeast-2:257832939543:dataset/forecast_dataset_20230508_00\n",
      "An error occurred (ResourceInUseException) when calling the DeleteDataset operation: Operation not allowed when the resource arn:aws:forecast:ap-northeast-2:257832939543:dataset/forecast_dataset_20230508_00 is being referenced by these resources : [ arn:aws:forecast:ap-northeast-2:257832939543:dataset-import-job/forecast_dataset_20230508_00/forecast_dataset_import_job_20230508_00 ]\n",
      "arn:aws:forecast:ap-northeast-2:257832939543:dataset/forecast_dataset_20230508_09_test\n",
      "An error occurred (ResourceInUseException) when calling the DeleteDataset operation: Operation not allowed when the resource arn:aws:forecast:ap-northeast-2:257832939543:dataset/forecast_dataset_20230508_09_test is being referenced by these resources : [ arn:aws:forecast:ap-northeast-2:257832939543:dataset-import-job/forecast_dataset_20230508_09_test/forecast_dataset_import_job_20230508_09_test ]\n",
      "arn:aws:forecast:ap-northeast-2:257832939543:dataset/my_forecast_ds\n",
      "arn:aws:forecast:ap-northeast-2:257832939543:dataset-import-job/forecast_dataset_20230508_09/forecast_dataset_import_job_20230508_09\n",
      "An error occurred (ResourceInUseException) when calling the DeleteDatasetImportJob operation: Operation not allowed when the resource arn:aws:forecast:ap-northeast-2:257832939543:dataset-import-job/forecast_dataset_20230508_09/forecast_dataset_import_job_20230508_09 is being modified. Status : CREATE_PENDING\n",
      "arn:aws:forecast:ap-northeast-2:257832939543:dataset-group/forecast_dataset_group_20230508_09\n",
      "arn:aws:forecast:ap-northeast-2:257832939543:dataset/forecast_dataset_20230508_09\n",
      "arn:aws:forecast:ap-northeast-2:257832939543:dataset/forecast_dataset_20230508_00\n",
      "arn:aws:forecast:ap-northeast-2:257832939543:dataset/forecast_dataset_20230508_09_test\n",
      "arn:aws:forecast:ap-northeast-2:257832939543:dataset/my_forecast_ds\n",
      "arn:aws:forecast:ap-northeast-2:257832939543:dataset-import-job/forecast_dataset_20230508_09/forecast_dataset_import_job_20230508_09\n",
      "An error occurred (ResourceInUseException) when calling the DeleteDatasetImportJob operation: Operation not allowed when the resource arn:aws:forecast:ap-northeast-2:257832939543:dataset-import-job/forecast_dataset_20230508_09/forecast_dataset_import_job_20230508_09 is being modified. Status : CREATE_PENDING\n",
      "arn:aws:forecast:ap-northeast-2:257832939543:dataset/forecast_dataset_20230508_09\n",
      "arn:aws:forecast:ap-northeast-2:257832939543:dataset/forecast_dataset_20230508_00\n",
      "arn:aws:forecast:ap-northeast-2:257832939543:dataset/forecast_dataset_20230508_09_test\n",
      "arn:aws:forecast:ap-northeast-2:257832939543:dataset/my_forecast_ds\n",
      "arn:aws:forecast:ap-northeast-2:257832939543:dataset-import-job/forecast_dataset_20230508_09/forecast_dataset_import_job_20230508_09\n",
      "An error occurred (ResourceInUseException) when calling the DeleteDatasetImportJob operation: Operation not allowed when the resource arn:aws:forecast:ap-northeast-2:257832939543:dataset-import-job/forecast_dataset_20230508_09/forecast_dataset_import_job_20230508_09 is being modified. Status : CREATE_PENDING\n",
      "arn:aws:forecast:ap-northeast-2:257832939543:dataset/forecast_dataset_20230508_09\n",
      "arn:aws:forecast:ap-northeast-2:257832939543:dataset/forecast_dataset_20230508_00\n",
      "arn:aws:forecast:ap-northeast-2:257832939543:dataset/forecast_dataset_20230508_09_test\n",
      "arn:aws:forecast:ap-northeast-2:257832939543:dataset/my_forecast_ds\n",
      "arn:aws:forecast:ap-northeast-2:257832939543:dataset-import-job/forecast_dataset_20230508_09/forecast_dataset_import_job_20230508_09\n",
      "An error occurred (ResourceInUseException) when calling the DeleteDatasetImportJob operation: Operation not allowed when the resource arn:aws:forecast:ap-northeast-2:257832939543:dataset-import-job/forecast_dataset_20230508_09/forecast_dataset_import_job_20230508_09 is being modified. Status : CREATE_PENDING\n",
      "arn:aws:forecast:ap-northeast-2:257832939543:dataset/forecast_dataset_20230508_09\n",
      "arn:aws:forecast:ap-northeast-2:257832939543:dataset/forecast_dataset_20230508_00\n",
      "arn:aws:forecast:ap-northeast-2:257832939543:dataset/forecast_dataset_20230508_09_test\n",
      "arn:aws:forecast:ap-northeast-2:257832939543:dataset/my_forecast_ds\n",
      "arn:aws:forecast:ap-northeast-2:257832939543:dataset-import-job/forecast_dataset_20230508_09/forecast_dataset_import_job_20230508_09\n",
      "An error occurred (ResourceInUseException) when calling the DeleteDatasetImportJob operation: Operation not allowed when the resource arn:aws:forecast:ap-northeast-2:257832939543:dataset-import-job/forecast_dataset_20230508_09/forecast_dataset_import_job_20230508_09 is being modified. Status : CREATE_PENDING\n",
      "arn:aws:forecast:ap-northeast-2:257832939543:dataset/forecast_dataset_20230508_09\n",
      "arn:aws:forecast:ap-northeast-2:257832939543:dataset/forecast_dataset_20230508_00\n",
      "arn:aws:forecast:ap-northeast-2:257832939543:dataset/forecast_dataset_20230508_09_test\n",
      "arn:aws:forecast:ap-northeast-2:257832939543:dataset/my_forecast_ds\n",
      "arn:aws:forecast:ap-northeast-2:257832939543:dataset-import-job/forecast_dataset_20230508_09/forecast_dataset_import_job_20230508_09\n",
      "An error occurred (ResourceInUseException) when calling the DeleteDatasetImportJob operation: Operation not allowed when the resource arn:aws:forecast:ap-northeast-2:257832939543:dataset-import-job/forecast_dataset_20230508_09/forecast_dataset_import_job_20230508_09 is being modified. Status : CREATE_PENDING\n",
      "arn:aws:forecast:ap-northeast-2:257832939543:dataset/forecast_dataset_20230508_09\n",
      "arn:aws:forecast:ap-northeast-2:257832939543:dataset/forecast_dataset_20230508_00\n",
      "arn:aws:forecast:ap-northeast-2:257832939543:dataset/forecast_dataset_20230508_09_test\n",
      "arn:aws:forecast:ap-northeast-2:257832939543:dataset/my_forecast_ds\n",
      "arn:aws:forecast:ap-northeast-2:257832939543:dataset-import-job/forecast_dataset_20230508_09/forecast_dataset_import_job_20230508_09\n",
      "An error occurred (ResourceInUseException) when calling the DeleteDatasetImportJob operation: Operation not allowed when the resource arn:aws:forecast:ap-northeast-2:257832939543:dataset-import-job/forecast_dataset_20230508_09/forecast_dataset_import_job_20230508_09 is being modified. Status : CREATE_PENDING\n",
      "arn:aws:forecast:ap-northeast-2:257832939543:dataset/forecast_dataset_20230508_09\n",
      "arn:aws:forecast:ap-northeast-2:257832939543:dataset/forecast_dataset_20230508_00\n",
      "arn:aws:forecast:ap-northeast-2:257832939543:dataset/forecast_dataset_20230508_09_test\n",
      "arn:aws:forecast:ap-northeast-2:257832939543:dataset/my_forecast_ds\n",
      "arn:aws:forecast:ap-northeast-2:257832939543:dataset-import-job/forecast_dataset_20230508_09/forecast_dataset_import_job_20230508_09\n",
      "An error occurred (ResourceInUseException) when calling the DeleteDatasetImportJob operation: Operation not allowed when the resource arn:aws:forecast:ap-northeast-2:257832939543:dataset-import-job/forecast_dataset_20230508_09/forecast_dataset_import_job_20230508_09 is being modified. Status : CREATE_PENDING\n",
      "arn:aws:forecast:ap-northeast-2:257832939543:dataset/forecast_dataset_20230508_09\n",
      "arn:aws:forecast:ap-northeast-2:257832939543:dataset/forecast_dataset_20230508_00\n",
      "arn:aws:forecast:ap-northeast-2:257832939543:dataset/forecast_dataset_20230508_09_test\n",
      "arn:aws:forecast:ap-northeast-2:257832939543:dataset/my_forecast_ds\n",
      "arn:aws:forecast:ap-northeast-2:257832939543:dataset-import-job/forecast_dataset_20230508_09/forecast_dataset_import_job_20230508_09\n",
      "An error occurred (ResourceInUseException) when calling the DeleteDatasetImportJob operation: Operation not allowed when the resource arn:aws:forecast:ap-northeast-2:257832939543:dataset-import-job/forecast_dataset_20230508_09/forecast_dataset_import_job_20230508_09 is being modified. Status : CREATE_PENDING\n",
      "arn:aws:forecast:ap-northeast-2:257832939543:dataset/forecast_dataset_20230508_09\n",
      "arn:aws:forecast:ap-northeast-2:257832939543:dataset/forecast_dataset_20230508_00\n",
      "arn:aws:forecast:ap-northeast-2:257832939543:dataset/forecast_dataset_20230508_09_test\n",
      "arn:aws:forecast:ap-northeast-2:257832939543:dataset/my_forecast_ds\n",
      "arn:aws:forecast:ap-northeast-2:257832939543:dataset-import-job/forecast_dataset_20230508_09/forecast_dataset_import_job_20230508_09\n",
      "An error occurred (ResourceInUseException) when calling the DeleteDatasetImportJob operation: Operation not allowed when the resource arn:aws:forecast:ap-northeast-2:257832939543:dataset-import-job/forecast_dataset_20230508_09/forecast_dataset_import_job_20230508_09 is being modified. Status : CREATE_PENDING\n",
      "arn:aws:forecast:ap-northeast-2:257832939543:dataset/forecast_dataset_20230508_09\n",
      "arn:aws:forecast:ap-northeast-2:257832939543:dataset/forecast_dataset_20230508_00\n",
      "arn:aws:forecast:ap-northeast-2:257832939543:dataset/forecast_dataset_20230508_09_test\n",
      "arn:aws:forecast:ap-northeast-2:257832939543:dataset/my_forecast_ds\n",
      "arn:aws:forecast:ap-northeast-2:257832939543:dataset-import-job/forecast_dataset_20230508_09/forecast_dataset_import_job_20230508_09\n",
      "An error occurred (ResourceInUseException) when calling the DeleteDatasetImportJob operation: Operation not allowed when the resource arn:aws:forecast:ap-northeast-2:257832939543:dataset-import-job/forecast_dataset_20230508_09/forecast_dataset_import_job_20230508_09 is being modified. Status : CREATE_PENDING\n",
      "arn:aws:forecast:ap-northeast-2:257832939543:dataset/forecast_dataset_20230508_09\n",
      "arn:aws:forecast:ap-northeast-2:257832939543:dataset/forecast_dataset_20230508_00\n",
      "arn:aws:forecast:ap-northeast-2:257832939543:dataset/forecast_dataset_20230508_09_test\n",
      "arn:aws:forecast:ap-northeast-2:257832939543:dataset/my_forecast_ds\n",
      "arn:aws:forecast:ap-northeast-2:257832939543:dataset-import-job/forecast_dataset_20230508_09/forecast_dataset_import_job_20230508_09\n",
      "An error occurred (ResourceInUseException) when calling the DeleteDatasetImportJob operation: Operation not allowed when the resource arn:aws:forecast:ap-northeast-2:257832939543:dataset-import-job/forecast_dataset_20230508_09/forecast_dataset_import_job_20230508_09 is being modified. Status : CREATE_PENDING\n",
      "arn:aws:forecast:ap-northeast-2:257832939543:dataset/forecast_dataset_20230508_09\n",
      "arn:aws:forecast:ap-northeast-2:257832939543:dataset/forecast_dataset_20230508_00\n",
      "arn:aws:forecast:ap-northeast-2:257832939543:dataset/forecast_dataset_20230508_09_test\n",
      "arn:aws:forecast:ap-northeast-2:257832939543:dataset/my_forecast_ds\n",
      "arn:aws:forecast:ap-northeast-2:257832939543:dataset-import-job/forecast_dataset_20230508_09/forecast_dataset_import_job_20230508_09\n",
      "An error occurred (ResourceInUseException) when calling the DeleteDatasetImportJob operation: Operation not allowed when the resource arn:aws:forecast:ap-northeast-2:257832939543:dataset-import-job/forecast_dataset_20230508_09/forecast_dataset_import_job_20230508_09 is being modified. Status : CREATE_PENDING\n",
      "arn:aws:forecast:ap-northeast-2:257832939543:dataset/forecast_dataset_20230508_09\n",
      "arn:aws:forecast:ap-northeast-2:257832939543:dataset/forecast_dataset_20230508_00\n",
      "arn:aws:forecast:ap-northeast-2:257832939543:dataset/forecast_dataset_20230508_09_test\n",
      "arn:aws:forecast:ap-northeast-2:257832939543:dataset/my_forecast_ds\n",
      "arn:aws:forecast:ap-northeast-2:257832939543:dataset-import-job/forecast_dataset_20230508_09/forecast_dataset_import_job_20230508_09\n",
      "An error occurred (ResourceInUseException) when calling the DeleteDatasetImportJob operation: Operation not allowed when the resource arn:aws:forecast:ap-northeast-2:257832939543:dataset-import-job/forecast_dataset_20230508_09/forecast_dataset_import_job_20230508_09 is being modified. Status : CREATE_PENDING\n",
      "arn:aws:forecast:ap-northeast-2:257832939543:dataset/forecast_dataset_20230508_09\n",
      "arn:aws:forecast:ap-northeast-2:257832939543:dataset/forecast_dataset_20230508_00\n",
      "arn:aws:forecast:ap-northeast-2:257832939543:dataset/forecast_dataset_20230508_09_test\n",
      "arn:aws:forecast:ap-northeast-2:257832939543:dataset/my_forecast_ds\n",
      "arn:aws:forecast:ap-northeast-2:257832939543:dataset-import-job/forecast_dataset_20230508_09/forecast_dataset_import_job_20230508_09\n",
      "An error occurred (ResourceInUseException) when calling the DeleteDatasetImportJob operation: Operation not allowed when the resource arn:aws:forecast:ap-northeast-2:257832939543:dataset-import-job/forecast_dataset_20230508_09/forecast_dataset_import_job_20230508_09 is being modified. Status : CREATE_PENDING\n",
      "arn:aws:forecast:ap-northeast-2:257832939543:dataset/forecast_dataset_20230508_09\n",
      "arn:aws:forecast:ap-northeast-2:257832939543:dataset/forecast_dataset_20230508_00\n",
      "arn:aws:forecast:ap-northeast-2:257832939543:dataset/forecast_dataset_20230508_09_test\n",
      "arn:aws:forecast:ap-northeast-2:257832939543:dataset/my_forecast_ds\n",
      "arn:aws:forecast:ap-northeast-2:257832939543:dataset-import-job/forecast_dataset_20230508_09/forecast_dataset_import_job_20230508_09\n",
      "An error occurred (ResourceInUseException) when calling the DeleteDatasetImportJob operation: Operation not allowed when the resource arn:aws:forecast:ap-northeast-2:257832939543:dataset-import-job/forecast_dataset_20230508_09/forecast_dataset_import_job_20230508_09 is being modified. Status : CREATE_PENDING\n",
      "arn:aws:forecast:ap-northeast-2:257832939543:dataset/forecast_dataset_20230508_09\n",
      "arn:aws:forecast:ap-northeast-2:257832939543:dataset/forecast_dataset_20230508_00\n",
      "arn:aws:forecast:ap-northeast-2:257832939543:dataset/forecast_dataset_20230508_09_test\n",
      "arn:aws:forecast:ap-northeast-2:257832939543:dataset/my_forecast_ds\n",
      "arn:aws:forecast:ap-northeast-2:257832939543:dataset-import-job/forecast_dataset_20230508_09/forecast_dataset_import_job_20230508_09\n",
      "An error occurred (ResourceInUseException) when calling the DeleteDatasetImportJob operation: Operation not allowed when the resource arn:aws:forecast:ap-northeast-2:257832939543:dataset-import-job/forecast_dataset_20230508_09/forecast_dataset_import_job_20230508_09 is being modified. Status : CREATE_PENDING\n",
      "arn:aws:forecast:ap-northeast-2:257832939543:dataset/forecast_dataset_20230508_09\n",
      "arn:aws:forecast:ap-northeast-2:257832939543:dataset/forecast_dataset_20230508_00\n",
      "arn:aws:forecast:ap-northeast-2:257832939543:dataset/forecast_dataset_20230508_09_test\n",
      "arn:aws:forecast:ap-northeast-2:257832939543:dataset/my_forecast_ds\n",
      "arn:aws:forecast:ap-northeast-2:257832939543:dataset-import-job/forecast_dataset_20230508_09/forecast_dataset_import_job_20230508_09\n",
      "An error occurred (ResourceInUseException) when calling the DeleteDatasetImportJob operation: Operation not allowed when the resource arn:aws:forecast:ap-northeast-2:257832939543:dataset-import-job/forecast_dataset_20230508_09/forecast_dataset_import_job_20230508_09 is being modified. Status : CREATE_PENDING\n",
      "arn:aws:forecast:ap-northeast-2:257832939543:dataset/forecast_dataset_20230508_09\n",
      "arn:aws:forecast:ap-northeast-2:257832939543:dataset/forecast_dataset_20230508_00\n",
      "arn:aws:forecast:ap-northeast-2:257832939543:dataset/forecast_dataset_20230508_09_test\n",
      "arn:aws:forecast:ap-northeast-2:257832939543:dataset/my_forecast_ds\n",
      "arn:aws:forecast:ap-northeast-2:257832939543:dataset-import-job/forecast_dataset_20230508_09/forecast_dataset_import_job_20230508_09\n",
      "arn:aws:forecast:ap-northeast-2:257832939543:dataset/forecast_dataset_20230508_09\n",
      "arn:aws:forecast:ap-northeast-2:257832939543:dataset/my_forecast_ds\n",
      "arn:aws:forecast:ap-northeast-2:257832939543:dataset/forecast_dataset_20230508_09\n",
      "arn:aws:forecast:ap-northeast-2:257832939543:dataset/my_forecast_ds\n",
      "arn:aws:forecast:ap-northeast-2:257832939543:dataset/forecast_dataset_20230508_09\n",
      "arn:aws:forecast:ap-northeast-2:257832939543:dataset/my_forecast_ds\n",
      "arn:aws:forecast:ap-northeast-2:257832939543:dataset/forecast_dataset_20230508_09\n",
      "arn:aws:forecast:ap-northeast-2:257832939543:dataset/my_forecast_ds\n",
      "arn:aws:forecast:ap-northeast-2:257832939543:dataset/forecast_dataset_20230508_09\n",
      "arn:aws:forecast:ap-northeast-2:257832939543:dataset/my_forecast_ds\n",
      "arn:aws:forecast:ap-northeast-2:257832939543:dataset/forecast_dataset_20230508_09\n",
      "arn:aws:forecast:ap-northeast-2:257832939543:dataset/my_forecast_ds\n",
      "arn:aws:forecast:ap-northeast-2:257832939543:dataset/forecast_dataset_20230508_09\n",
      "arn:aws:forecast:ap-northeast-2:257832939543:dataset/my_forecast_ds\n",
      "arn:aws:forecast:ap-northeast-2:257832939543:dataset/forecast_dataset_20230508_09\n",
      "arn:aws:forecast:ap-northeast-2:257832939543:dataset/my_forecast_ds\n",
      "arn:aws:forecast:ap-northeast-2:257832939543:dataset/my_forecast_ds\n",
      "arn:aws:forecast:ap-northeast-2:257832939543:dataset/my_forecast_ds\n",
      "arn:aws:forecast:ap-northeast-2:257832939543:dataset/my_forecast_ds\n",
      "arn:aws:forecast:ap-northeast-2:257832939543:dataset/my_forecast_ds\n",
      "arn:aws:forecast:ap-northeast-2:257832939543:dataset/my_forecast_ds\n",
      "arn:aws:forecast:ap-northeast-2:257832939543:dataset/my_forecast_ds\n",
      "arn:aws:forecast:ap-northeast-2:257832939543:dataset/my_forecast_ds\n",
      "arn:aws:forecast:ap-northeast-2:257832939543:dataset/my_forecast_ds\n",
      "arn:aws:forecast:ap-northeast-2:257832939543:dataset/my_forecast_ds\n",
      "arn:aws:forecast:ap-northeast-2:257832939543:dataset/my_forecast_ds\n",
      "arn:aws:forecast:ap-northeast-2:257832939543:dataset/my_forecast_ds\n",
      "arn:aws:forecast:ap-northeast-2:257832939543:dataset/my_forecast_ds\n",
      "arn:aws:forecast:ap-northeast-2:257832939543:dataset/my_forecast_ds\n"
     ]
    },
    {
     "ename": "ClientError",
     "evalue": "An error occurred (ThrottlingException) when calling the ListDatasetGroups operation (reached max retries: 4): Request rate limit exceeded.",
     "output_type": "error",
     "traceback": [
      "\u001b[0;31m---------------------------------------------------------------------------\u001b[0m",
      "\u001b[0;31mClientError\u001b[0m                               Traceback (most recent call last)",
      "\u001b[0;32m<ipython-input-84-236b297f6718>\u001b[0m in \u001b[0;36m<module>\u001b[0;34m\u001b[0m\n\u001b[1;32m     36\u001b[0m \u001b[0;34m\u001b[0m\u001b[0m\n\u001b[1;32m     37\u001b[0m     \u001b[0;31m# Delete Forecast Dataset group All\u001b[0m\u001b[0;34m\u001b[0m\u001b[0;34m\u001b[0m\u001b[0;34m\u001b[0m\u001b[0m\n\u001b[0;32m---> 38\u001b[0;31m     \u001b[0;32mfor\u001b[0m \u001b[0mdatagroup\u001b[0m \u001b[0;32min\u001b[0m \u001b[0;34m[\u001b[0m\u001b[0mgroup\u001b[0m\u001b[0;34m[\u001b[0m\u001b[0;34m'DatasetGroupArn'\u001b[0m\u001b[0;34m]\u001b[0m \u001b[0;32mfor\u001b[0m \u001b[0mgroup\u001b[0m \u001b[0;32min\u001b[0m \u001b[0mforecast\u001b[0m\u001b[0;34m.\u001b[0m\u001b[0mlist_dataset_groups\u001b[0m\u001b[0;34m(\u001b[0m\u001b[0;34m)\u001b[0m\u001b[0;34m[\u001b[0m\u001b[0;34m'DatasetGroups'\u001b[0m\u001b[0;34m]\u001b[0m\u001b[0;34m]\u001b[0m\u001b[0;34m:\u001b[0m\u001b[0;34m\u001b[0m\u001b[0;34m\u001b[0m\u001b[0m\n\u001b[0m\u001b[1;32m     39\u001b[0m         \u001b[0mprint\u001b[0m\u001b[0;34m(\u001b[0m\u001b[0mdatagroup\u001b[0m\u001b[0;34m)\u001b[0m\u001b[0;34m\u001b[0m\u001b[0;34m\u001b[0m\u001b[0m\n\u001b[1;32m     40\u001b[0m         \u001b[0;32mtry\u001b[0m\u001b[0;34m:\u001b[0m\u001b[0;34m\u001b[0m\u001b[0;34m\u001b[0m\u001b[0m\n",
      "\u001b[0;32m/opt/conda/lib/python3.7/site-packages/botocore/client.py\u001b[0m in \u001b[0;36m_api_call\u001b[0;34m(self, *args, **kwargs)\u001b[0m\n\u001b[1;32m    528\u001b[0m                 )\n\u001b[1;32m    529\u001b[0m             \u001b[0;31m# The \"self\" in this scope is referring to the BaseClient.\u001b[0m\u001b[0;34m\u001b[0m\u001b[0;34m\u001b[0m\u001b[0;34m\u001b[0m\u001b[0m\n\u001b[0;32m--> 530\u001b[0;31m             \u001b[0;32mreturn\u001b[0m \u001b[0mself\u001b[0m\u001b[0;34m.\u001b[0m\u001b[0m_make_api_call\u001b[0m\u001b[0;34m(\u001b[0m\u001b[0moperation_name\u001b[0m\u001b[0;34m,\u001b[0m \u001b[0mkwargs\u001b[0m\u001b[0;34m)\u001b[0m\u001b[0;34m\u001b[0m\u001b[0;34m\u001b[0m\u001b[0m\n\u001b[0m\u001b[1;32m    531\u001b[0m \u001b[0;34m\u001b[0m\u001b[0m\n\u001b[1;32m    532\u001b[0m         \u001b[0m_api_call\u001b[0m\u001b[0;34m.\u001b[0m\u001b[0m__name__\u001b[0m \u001b[0;34m=\u001b[0m \u001b[0mstr\u001b[0m\u001b[0;34m(\u001b[0m\u001b[0mpy_operation_name\u001b[0m\u001b[0;34m)\u001b[0m\u001b[0;34m\u001b[0m\u001b[0;34m\u001b[0m\u001b[0m\n",
      "\u001b[0;32m/opt/conda/lib/python3.7/site-packages/botocore/client.py\u001b[0m in \u001b[0;36m_make_api_call\u001b[0;34m(self, operation_name, api_params)\u001b[0m\n\u001b[1;32m    958\u001b[0m             \u001b[0merror_code\u001b[0m \u001b[0;34m=\u001b[0m \u001b[0mparsed_response\u001b[0m\u001b[0;34m.\u001b[0m\u001b[0mget\u001b[0m\u001b[0;34m(\u001b[0m\u001b[0;34m\"Error\"\u001b[0m\u001b[0;34m,\u001b[0m \u001b[0;34m{\u001b[0m\u001b[0;34m}\u001b[0m\u001b[0;34m)\u001b[0m\u001b[0;34m.\u001b[0m\u001b[0mget\u001b[0m\u001b[0;34m(\u001b[0m\u001b[0;34m\"Code\"\u001b[0m\u001b[0;34m)\u001b[0m\u001b[0;34m\u001b[0m\u001b[0;34m\u001b[0m\u001b[0m\n\u001b[1;32m    959\u001b[0m             \u001b[0merror_class\u001b[0m \u001b[0;34m=\u001b[0m \u001b[0mself\u001b[0m\u001b[0;34m.\u001b[0m\u001b[0mexceptions\u001b[0m\u001b[0;34m.\u001b[0m\u001b[0mfrom_code\u001b[0m\u001b[0;34m(\u001b[0m\u001b[0merror_code\u001b[0m\u001b[0;34m)\u001b[0m\u001b[0;34m\u001b[0m\u001b[0;34m\u001b[0m\u001b[0m\n\u001b[0;32m--> 960\u001b[0;31m             \u001b[0;32mraise\u001b[0m \u001b[0merror_class\u001b[0m\u001b[0;34m(\u001b[0m\u001b[0mparsed_response\u001b[0m\u001b[0;34m,\u001b[0m \u001b[0moperation_name\u001b[0m\u001b[0;34m)\u001b[0m\u001b[0;34m\u001b[0m\u001b[0;34m\u001b[0m\u001b[0m\n\u001b[0m\u001b[1;32m    961\u001b[0m         \u001b[0;32melse\u001b[0m\u001b[0;34m:\u001b[0m\u001b[0;34m\u001b[0m\u001b[0;34m\u001b[0m\u001b[0m\n\u001b[1;32m    962\u001b[0m             \u001b[0;32mreturn\u001b[0m \u001b[0mparsed_response\u001b[0m\u001b[0;34m\u001b[0m\u001b[0;34m\u001b[0m\u001b[0m\n",
      "\u001b[0;31mClientError\u001b[0m: An error occurred (ThrottlingException) when calling the ListDatasetGroups operation (reached max retries: 4): Request rate limit exceeded."
     ]
    }
   ],
   "source": [
    "a = 1\n",
    "while a == 1: \n",
    "    ## Delete Predictor All\n",
    "    for predictor_arn in [predictor['PredictorArn'] for predictor in forecast.list_predictors()['Predictors']] :\n",
    "        print(predictor_arn)\n",
    "        try:        \n",
    "            forecast.delete_predictor(PredictorArn = predictor_arn)\n",
    "        except Exception as e:\n",
    "            print(e)\n",
    "            pass\n",
    "    ## Delete Forecast All\n",
    "    for forecast_arn in [forecast['ForecastArn'] for forecast in forecast.list_forecasts()['Forecasts']]:\n",
    "        print(forecast_arn)\n",
    "        try:\n",
    "            forecast.delete_forecast(ForecastArn = forecast_arn)\n",
    "        except Exception as e:\n",
    "            print(e)\n",
    "            pass\n",
    "    # Delete Forecast Export Job All\n",
    "    for export_arn in [export_job['ForecastExportJobArn'] for export_job in forecast.list_forecast_export_jobs()['ForecastExportJobs']]:\n",
    "        print(export_arn)\n",
    "        try:\n",
    "            forecast.delete_forecast_export_job(ForecastExportJobArn = export_arn)\n",
    "        except Exception as e:\n",
    "            print(e)\n",
    "            pass    \n",
    "        \n",
    "    # Delete Forecast Import Job\n",
    "    for import_job in [group['DatasetImportJobArn'] for group in forecast.list_dataset_import_jobs()['DatasetImportJobs']]:\n",
    "        print(import_job)\n",
    "        try:\n",
    "            forecast.delete_dataset_import_job(DatasetImportJobArn = import_job)\n",
    "        except Exception as e:\n",
    "            print(e)\n",
    "            pass    \n",
    "        \n",
    "    # Delete Forecast Dataset group All\n",
    "    for datagroup in [group['DatasetGroupArn'] for group in forecast.list_dataset_groups()['DatasetGroups']]:\n",
    "        print(datagroup)\n",
    "        try:\n",
    "            forecast.delete_dataset_group(DatasetGroupArn = datagroup)\n",
    "        except Exception as e:\n",
    "            print(e)\n",
    "            pass       \n",
    "        \n",
    "    # Delete Forecast Dataset\n",
    "    for dataset in [group['DatasetArn'] for group in forecast.list_datasets()['Datasets']]:\n",
    "        print(dataset)\n",
    "        try:\n",
    "            forecast.delete_dataset(DatasetArn = dataset)\n",
    "        except Exception as e:\n",
    "            print(e)\n",
    "            pass           "
   ]
  },
  {
   "cell_type": "code",
   "execution_count": null,
   "id": "77a51adb-a246-499f-9db6-cf52aa3bc2e3",
   "metadata": {},
   "outputs": [],
   "source": []
  },
  {
   "cell_type": "markdown",
   "id": "b1cd19f6-76ad-4321-9bb0-99282c4bc49a",
   "metadata": {
    "tags": []
   },
   "source": [
    "## Create Quicksight Insert Data"
   ]
  },
  {
   "cell_type": "code",
   "execution_count": 648,
   "id": "feaccfc9-f49c-48ec-a902-08b296ec071c",
   "metadata": {
    "tags": []
   },
   "outputs": [
    {
     "name": "stdout",
     "output_type": "stream",
     "text": [
      "s3://sagemaker-eightmeals/forecast_results/ffill/RETAIL/ffill_RETAIL_CNN_forecast_import_2023-02-23T08-52-29Z_part0.csv\n",
      "s3://sagemaker-eightmeals/forecast_results/ffill/RETAIL/ffill_RETAIL_CNN_forecast_import_2023-02-23T08-52-29Z_part1.csv\n",
      "s3://sagemaker-eightmeals/forecast_results/ffill/RETAIL/ffill_RETAIL_CNN_forecast_import_2023-02-23T08-52-29Z_part2.csv\n",
      "s3://sagemaker-eightmeals/forecast_results/ffill/RETAIL/ffill_RETAIL_CNN_forecast_import_2023-02-23T08-52-29Z_part3.csv\n"
     ]
    }
   ],
   "source": [
    "## 최종 모델 데이터\n",
    "domain = 'RETAIL'\n",
    "data_type = 'ffill'\n",
    "algorithm = 'CNN'\n",
    "\n",
    "s3_client = boto3.client('s3')\n",
    "objects_list = s3_client.list_objects_v2(Bucket='sagemaker-eightmeals')\n",
    "objects_list = [obj['Key'] for obj in objects_list['Contents'] if (algorithm in obj['Key'].split('/')[-1]) & (data_type in obj['Key'].split('/')[-1]) & (domain in obj['Key'].split('/')[-1])]\n",
    "\n",
    "results_df = pd.DataFrame()\n",
    "\n",
    "for obj in objects_list: \n",
    "    print(f's3://sagemaker-eightmeals/{obj}')\n",
    "    results_df = pd.concat([results_df, wr.s3.read_csv(f's3://sagemaker-eightmeals/{obj}')])        \n",
    "\n",
    "## 날짜 데이터 형변환\n",
    "results_df['date'] = results_df.apply(lambda x : x['date'][:10], axis = 1)\n",
    "results_df['date'] = pd.to_datetime(results_df['date'])\n",
    "results_df['item_id'] = results_df['item_id'].astype('str')"
   ]
  },
  {
   "cell_type": "code",
   "execution_count": 661,
   "id": "112e2c6f-5e01-4f2e-b38a-f3a593c65fb1",
   "metadata": {
    "tags": []
   },
   "outputs": [
    {
     "data": {
      "image/png": "[encoded data removed]",
      "text/plain": [
       "<Figure size 1200x500 with 1 Axes>"
      ]
     },
     "metadata": {},
     "output_type": "display_data"
    }
   ],
   "source": [
    "plt.plot(test_df[test_df['item_id'] == '등외제외'].reset_index()['demand'])\n",
    "plt.plot(results_df[results_df['item_id'] == '등외제외'].reset_index()['p50'])\n",
    "plt.show()"
   ]
  },
  {
   "cell_type": "code",
   "execution_count": 653,
   "id": "4ffb1514-a0a2-4589-842a-be7eb6c52617",
   "metadata": {
    "tags": []
   },
   "outputs": [
    {
     "data": {
      "text/plain": [
       "0      5333.674316\n",
       "1      5120.683105\n",
       "2      5371.115234\n",
       "3      5314.343750\n",
       "4      5289.454102\n",
       "          ...     \n",
       "495    5601.416016\n",
       "496    5606.180176\n",
       "497    5489.584473\n",
       "498    5495.595215\n",
       "499    5749.533691\n",
       "Name: p50, Length: 500, dtype: float64"
      ]
     },
     "execution_count": 653,
     "metadata": {},
     "output_type": "execute_result"
    }
   ],
   "source": []
  },
  {
   "cell_type": "code",
   "execution_count": null,
   "id": "ba3d76ed-84fd-4f1c-9f3f-2eaa7180d48e",
   "metadata": {},
   "outputs": [],
   "source": []
  },
  {
   "cell_type": "code",
   "execution_count": 634,
   "id": "0f167067-902c-4fad-973a-3cf0024b0929",
   "metadata": {
    "tags": []
   },
   "outputs": [],
   "source": [
    "results_df.rename(columns = {'item_id' : '등급', 'p50':'가격/두수'}, inplace = True)\n",
    "results_df['구분'] = '가격_전체'\n",
    "results_df = results_df[['date', '등급', '구분', '가격/두수']].copy()\n",
    "# results_df.to_csv('s3://sagemaker-eightmeals/quicksight_data/forecast_df.csv', index = False)\n",
    "temp_df = results_df[['date','구분']].drop_duplicates()\n",
    "temp_df['등급'] = '모돈'\n",
    "temp_df['가격/두수'] = np.NaN\n",
    "results_df = pd.concat([results_df, temp_df])\n",
    "temp_df = results_df[['date','구분']].drop_duplicates()\n",
    "temp_df['등급'] = '등외'\n",
    "temp_df['가격/두수'] = np.NaN\n",
    "results_df = pd.concat([results_df, temp_df])"
   ]
  },
  {
   "cell_type": "code",
   "execution_count": 636,
   "id": "c5e7da4b-cda8-4d1b-9f3b-f4af25d882ef",
   "metadata": {
    "tags": []
   },
   "outputs": [],
   "source": [
    "pd.concat([quick_df, results_df]).to_csv('s3://sagemaker-eightmeals/quicksight_data/quick_df.csv', index = False)"
   ]
  },
  {
   "cell_type": "code",
   "execution_count": null,
   "id": "fca5618e-001e-42f0-aa63-712df5dbea52",
   "metadata": {},
   "outputs": [],
   "source": []
  }
 ],
 "metadata": {
  "availableInstances": [
   {
    "_defaultOrder": 0,
    "_isFastLaunch": true,
    "category": "General purpose",
    "gpuNum": 0,
    "memoryGiB": 4,
    "name": "ml.t3.medium",
    "vcpuNum": 2
   },
   {
    "_defaultOrder": 1,
    "_isFastLaunch": false,
    "category": "General purpose",
    "gpuNum": 0,
    "memoryGiB": 8,
    "name": "ml.t3.large",
    "vcpuNum": 2
   },
   {
    "_defaultOrder": 2,
    "_isFastLaunch": false,
    "category": "General purpose",
    "gpuNum": 0,
    "memoryGiB": 16,
    "name": "ml.t3.xlarge",
    "vcpuNum": 4
   },
   {
    "_defaultOrder": 3,
    "_isFastLaunch": false,
    "category": "General purpose",
    "gpuNum": 0,
    "memoryGiB": 32,
    "name": "ml.t3.2xlarge",
    "vcpuNum": 8
   },
   {
    "_defaultOrder": 4,
    "_isFastLaunch": true,
    "category": "General purpose",
    "gpuNum": 0,
    "memoryGiB": 8,
    "name": "ml.m5.large",
    "vcpuNum": 2
   },
   {
    "_defaultOrder": 5,
    "_isFastLaunch": false,
    "category": "General purpose",
    "gpuNum": 0,
    "memoryGiB": 16,
    "name": "ml.m5.xlarge",
    "vcpuNum": 4
   },
   {
    "_defaultOrder": 6,
    "_isFastLaunch": false,
    "category": "General purpose",
    "gpuNum": 0,
    "memoryGiB": 32,
    "name": "ml.m5.2xlarge",
    "vcpuNum": 8
   },
   {
    "_defaultOrder": 7,
    "_isFastLaunch": false,
    "category": "General purpose",
    "gpuNum": 0,
    "memoryGiB": 64,
    "name": "ml.m5.4xlarge",
    "vcpuNum": 16
   },
   {
    "_defaultOrder": 8,
    "_isFastLaunch": false,
    "category": "General purpose",
    "gpuNum": 0,
    "memoryGiB": 128,
    "name": "ml.m5.8xlarge",
    "vcpuNum": 32
   },
   {
    "_defaultOrder": 9,
    "_isFastLaunch": false,
    "category": "General purpose",
    "gpuNum": 0,
    "memoryGiB": 192,
    "name": "ml.m5.12xlarge",
    "vcpuNum": 48
   },
   {
    "_defaultOrder": 10,
    "_isFastLaunch": false,
    "category": "General purpose",
    "gpuNum": 0,
    "memoryGiB": 256,
    "name": "ml.m5.16xlarge",
    "vcpuNum": 64
   },
   {
    "_defaultOrder": 11,
    "_isFastLaunch": false,
    "category": "General purpose",
    "gpuNum": 0,
    "memoryGiB": 384,
    "name": "ml.m5.24xlarge",
    "vcpuNum": 96
   },
   {
    "_defaultOrder": 12,
    "_isFastLaunch": false,
    "category": "General purpose",
    "gpuNum": 0,
    "memoryGiB": 8,
    "name": "ml.m5d.large",
    "vcpuNum": 2
   },
   {
    "_defaultOrder": 13,
    "_isFastLaunch": false,
    "category": "General purpose",
    "gpuNum": 0,
    "memoryGiB": 16,
    "name": "ml.m5d.xlarge",
    "vcpuNum": 4
   },
   {
    "_defaultOrder": 14,
    "_isFastLaunch": false,
    "category": "General purpose",
    "gpuNum": 0,
    "memoryGiB": 32,
    "name": "ml.m5d.2xlarge",
    "vcpuNum": 8
   },
   {
    "_defaultOrder": 15,
    "_isFastLaunch": false,
    "category": "General purpose",
    "gpuNum": 0,
    "memoryGiB": 64,
    "name": "ml.m5d.4xlarge",
    "vcpuNum": 16
   },
   {
    "_defaultOrder": 16,
    "_isFastLaunch": false,
    "category": "General purpose",
    "gpuNum": 0,
    "memoryGiB": 128,
    "name": "ml.m5d.8xlarge",
    "vcpuNum": 32
   },
   {
    "_defaultOrder": 17,
    "_isFastLaunch": false,
    "category": "General purpose",
    "gpuNum": 0,
    "memoryGiB": 192,
    "name": "ml.m5d.12xlarge",
    "vcpuNum": 48
   },
   {
    "_defaultOrder": 18,
    "_isFastLaunch": false,
    "category": "General purpose",
    "gpuNum": 0,
    "memoryGiB": 256,
    "name": "ml.m5d.16xlarge",
    "vcpuNum": 64
   },
   {
    "_defaultOrder": 19,
    "_isFastLaunch": false,
    "category": "General purpose",
    "gpuNum": 0,
    "memoryGiB": 384,
    "name": "ml.m5d.24xlarge",
    "vcpuNum": 96
   },
   {
    "_defaultOrder": 20,
    "_isFastLaunch": true,
    "category": "Compute optimized",
    "gpuNum": 0,
    "memoryGiB": 4,
    "name": "ml.c5.large",
    "vcpuNum": 2
   },
   {
    "_defaultOrder": 21,
    "_isFastLaunch": false,
    "category": "Compute optimized",
    "gpuNum": 0,
    "memoryGiB": 8,
    "name": "ml.c5.xlarge",
    "vcpuNum": 4
   },
   {
    "_defaultOrder": 22,
    "_isFastLaunch": false,
    "category": "Compute optimized",
    "gpuNum": 0,
    "memoryGiB": 16,
    "name": "ml.c5.2xlarge",
    "vcpuNum": 8
   },
   {
    "_defaultOrder": 23,
    "_isFastLaunch": false,
    "category": "Compute optimized",
    "gpuNum": 0,
    "memoryGiB": 32,
    "name": "ml.c5.4xlarge",
    "vcpuNum": 16
   },
   {
    "_defaultOrder": 24,
    "_isFastLaunch": false,
    "category": "Compute optimized",
    "gpuNum": 0,
    "memoryGiB": 72,
    "name": "ml.c5.9xlarge",
    "vcpuNum": 36
   },
   {
    "_defaultOrder": 25,
    "_isFastLaunch": false,
    "category": "Compute optimized",
    "gpuNum": 0,
    "memoryGiB": 96,
    "name": "ml.c5.12xlarge",
    "vcpuNum": 48
   },
   {
    "_defaultOrder": 26,
    "_isFastLaunch": false,
    "category": "Compute optimized",
    "gpuNum": 0,
    "memoryGiB": 144,
    "name": "ml.c5.18xlarge",
    "vcpuNum": 72
   },
   {
    "_defaultOrder": 27,
    "_isFastLaunch": false,
    "category": "Compute optimized",
    "gpuNum": 0,
    "memoryGiB": 192,
    "name": "ml.c5.24xlarge",
    "vcpuNum": 96
   },
   {
    "_defaultOrder": 28,
    "_isFastLaunch": true,
    "category": "Accelerated computing",
    "gpuNum": 1,
    "memoryGiB": 16,
    "name": "ml.g4dn.xlarge",
    "vcpuNum": 4
   },
   {
    "_defaultOrder": 29,
    "_isFastLaunch": false,
    "category": "Accelerated computing",
    "gpuNum": 1,
    "memoryGiB": 32,
    "name": "ml.g4dn.2xlarge",
    "vcpuNum": 8
   },
   {
    "_defaultOrder": 30,
    "_isFastLaunch": false,
    "category": "Accelerated computing",
    "gpuNum": 1,
    "memoryGiB": 64,
    "name": "ml.g4dn.4xlarge",
    "vcpuNum": 16
   },
   {
    "_defaultOrder": 31,
    "_isFastLaunch": false,
    "category": "Accelerated computing",
    "gpuNum": 1,
    "memoryGiB": 128,
    "name": "ml.g4dn.8xlarge",
    "vcpuNum": 32
   },
   {
    "_defaultOrder": 32,
    "_isFastLaunch": false,
    "category": "Accelerated computing",
    "gpuNum": 4,
    "memoryGiB": 192,
    "name": "ml.g4dn.12xlarge",
    "vcpuNum": 48
   },
   {
    "_defaultOrder": 33,
    "_isFastLaunch": false,
    "category": "Accelerated computing",
    "gpuNum": 1,
    "memoryGiB": 256,
    "name": "ml.g4dn.16xlarge",
    "vcpuNum": 64
   },
   {
    "_defaultOrder": 34,
    "_isFastLaunch": false,
    "category": "Accelerated computing",
    "gpuNum": 1,
    "memoryGiB": 61,
    "name": "ml.p3.2xlarge",
    "vcpuNum": 8
   },
   {
    "_defaultOrder": 35,
    "_isFastLaunch": false,
    "category": "Accelerated computing",
    "gpuNum": 4,
    "memoryGiB": 244,
    "name": "ml.p3.8xlarge",
    "vcpuNum": 32
   },
   {
    "_defaultOrder": 36,
    "_isFastLaunch": false,
    "category": "Accelerated computing",
    "gpuNum": 8,
    "memoryGiB": 488,
    "name": "ml.p3.16xlarge",
    "vcpuNum": 64
   },
   {
    "_defaultOrder": 37,
    "_isFastLaunch": false,
    "category": "Accelerated computing",
    "gpuNum": 8,
    "memoryGiB": 768,
    "name": "ml.p3dn.24xlarge",
    "vcpuNum": 96
   },
   {
    "_defaultOrder": 38,
    "_isFastLaunch": false,
    "category": "Memory Optimized",
    "gpuNum": 0,
    "memoryGiB": 16,
    "name": "ml.r5.large",
    "vcpuNum": 2
   },
   {
    "_defaultOrder": 39,
    "_isFastLaunch": false,
    "category": "Memory Optimized",
    "gpuNum": 0,
    "memoryGiB": 32,
    "name": "ml.r5.xlarge",
    "vcpuNum": 4
   },
   {
    "_defaultOrder": 40,
    "_isFastLaunch": false,
    "category": "Memory Optimized",
    "gpuNum": 0,
    "memoryGiB": 64,
    "name": "ml.r5.2xlarge",
    "vcpuNum": 8
   },
   {
    "_defaultOrder": 41,
    "_isFastLaunch": false,
    "category": "Memory Optimized",
    "gpuNum": 0,
    "memoryGiB": 128,
    "name": "ml.r5.4xlarge",
    "vcpuNum": 16
   },
   {
    "_defaultOrder": 42,
    "_isFastLaunch": false,
    "category": "Memory Optimized",
    "gpuNum": 0,
    "memoryGiB": 256,
    "name": "ml.r5.8xlarge",
    "vcpuNum": 32
   },
   {
    "_defaultOrder": 43,
    "_isFastLaunch": false,
    "category": "Memory Optimized",
    "gpuNum": 0,
    "memoryGiB": 384,
    "name": "ml.r5.12xlarge",
    "vcpuNum": 48
   },
   {
    "_defaultOrder": 44,
    "_isFastLaunch": false,
    "category": "Memory Optimized",
    "gpuNum": 0,
    "memoryGiB": 512,
    "name": "ml.r5.16xlarge",
    "vcpuNum": 64
   },
   {
    "_defaultOrder": 45,
    "_isFastLaunch": false,
    "category": "Memory Optimized",
    "gpuNum": 0,
    "memoryGiB": 768,
    "name": "ml.r5.24xlarge",
    "vcpuNum": 96
   },
   {
    "_defaultOrder": 46,
    "_isFastLaunch": false,
    "category": "Accelerated computing",
    "gpuNum": 1,
    "memoryGiB": 16,
    "name": "ml.g5.xlarge",
    "vcpuNum": 4
   },
   {
    "_defaultOrder": 47,
    "_isFastLaunch": false,
    "category": "Accelerated computing",
    "gpuNum": 1,
    "memoryGiB": 32,
    "name": "ml.g5.2xlarge",
    "vcpuNum": 8
   },
   {
    "_defaultOrder": 48,
    "_isFastLaunch": false,
    "category": "Accelerated computing",
    "gpuNum": 1,
    "memoryGiB": 64,
    "name": "ml.g5.4xlarge",
    "vcpuNum": 16
   },
   {
    "_defaultOrder": 49,
    "_isFastLaunch": false,
    "category": "Accelerated computing",
    "gpuNum": 1,
    "memoryGiB": 128,
    "name": "ml.g5.8xlarge",
    "vcpuNum": 32
   },
   {
    "_defaultOrder": 50,
    "_isFastLaunch": false,
    "category": "Accelerated computing",
    "gpuNum": 1,
    "memoryGiB": 256,
    "name": "ml.g5.16xlarge",
    "vcpuNum": 64
   },
   {
    "_defaultOrder": 51,
    "_isFastLaunch": false,
    "category": "Accelerated computing",
    "gpuNum": 4,
    "memoryGiB": 192,
    "name": "ml.g5.12xlarge",
    "vcpuNum": 48
   },
   {
    "_defaultOrder": 52,
    "_isFastLaunch": false,
    "category": "Accelerated computing",
    "gpuNum": 4,
    "memoryGiB": 384,
    "name": "ml.g5.24xlarge",
    "vcpuNum": 96
   },
   {
    "_defaultOrder": 53,
    "_isFastLaunch": false,
    "category": "Accelerated computing",
    "gpuNum": 8,
    "memoryGiB": 768,
    "name": "ml.g5.48xlarge",
    "vcpuNum": 192
   }
  ],
  "instance_type": "ml.t3.medium",
  "kernelspec": {
   "display_name": "Python 3 (Data Science)",
   "language": "python",
   "name": "python3__SAGEMAKER_INTERNAL__arn:aws:sagemaker:ap-northeast-2:806072073708:image/datascience-1.0"
  },
  "language_info": {
   "codemirror_mode": {
    "name": "ipython",
    "version": 3
   },
   "file_extension": ".py",
   "mimetype": "text/x-python",
   "name": "python",
   "nbconvert_exporter": "python",
   "pygments_lexer": "ipython3",
   "version": "3.7.10"
  }
 },
 "nbformat": 4,
 "nbformat_minor": 5
}
