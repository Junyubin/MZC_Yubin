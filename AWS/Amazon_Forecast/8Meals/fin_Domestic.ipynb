{
 "cells": [
  {
   "cell_type": "code",
   "execution_count": 1,
   "id": "c0ef8808",
   "metadata": {},
   "outputs": [],
   "source": [
    "# !pip install awswrangler"
   ]
  },
  {
   "cell_type": "code",
   "execution_count": 2,
   "id": "3f3223c7",
   "metadata": {},
   "outputs": [
    {
     "name": "stderr",
     "output_type": "stream",
     "text": [
      "INFO:botocore.credentials:Found credentials from IAM Role: BaseNotebookInstanceEc2InstanceRole\n"
     ]
    }
   ],
   "source": [
    "import awswrangler as wr\n",
    "import pandas as pd\n",
    "import numpy as np\n",
    "import boto3\n",
    "import logging\n",
    "import os\n",
    "from botocore.exceptions import ClientError\n",
    "\n",
    "logging.basicConfig(level=logging.INFO)\n",
    "logger = logging.getLogger(__name__)\n",
    "\n",
    "s3 = boto3.client('s3')\n",
    "os.environ['snsARN'] = 'arn:aws:sns:ap-northeast-2:630190875472:temp_marketstatus-lambda-error-topic'  "
   ]
  },
  {
   "cell_type": "code",
   "execution_count": 3,
   "id": "27f4b5c0",
   "metadata": {},
   "outputs": [],
   "source": [
    "### Domestic 파일\n",
    "bucket = 'marketstatus-domestic'\n",
    "obj_list = s3.list_objects(Bucket = bucket)\n",
    "key_list = [i['Key'] for i in obj_list['Contents'] if ('raw' in i['Key']) and (('.xlsx' in i['Key']) or ('.xls' in i['Key']))]        \n"
   ]
  },
  {
   "cell_type": "code",
   "execution_count": 8,
   "id": "c5e1a395",
   "metadata": {},
   "outputs": [
    {
     "name": "stdout",
     "output_type": "stream",
     "text": [
      "raw/2023/02/Monthly2023-02.xlsx\n"
     ]
    },
    {
     "ename": "ValueError",
     "evalue": "No such value in meta table(Company, Brand, Model): [['Hyundai' 'Hyundai' 'AVANTE(CN7) EXPORT']\n ['Hyundai' 'Hyundai' 'i30(PD) EXPORT']\n ['Hyundai' 'Hyundai' 'LF SONATA EXPORT']\n ['Hyundai' 'Hyundai' 'SONATA(DN8) EXPORT']\n ['Hyundai' 'Hyundai' 'G70 2.5T']\n ['Hyundai' 'Hyundai' 'G70 EXPORT']\n ['Hyundai' 'Hyundai' 'G80(RG3) EXPORT']\n ['Hyundai' 'Hyundai' 'GRANDEUR IG EXPORT']\n ['Hyundai' 'Hyundai' 'GRANDEUR(GN7) EXPORT']\n ['Hyundai' 'Hyundai' 'G90(RS4) EXPORT']\n ['Hyundai' 'Hyundai' 'VENUE EXPORT']\n ['Hyundai' 'Hyundai' 'KONA(OS) EXPORT']\n ['Hyundai' 'Hyundai' 'KONA(SX2) 1.6 HEV']\n ['Hyundai' 'Hyundai' 'KONA(SX2) EV']\n ['Hyundai' 'Hyundai' 'KONA(SX2) EXPORT']\n ['Hyundai' 'Hyundai' 'TUCSON(NX4) 1.6 PHEV']\n ['Hyundai' 'Hyundai' 'TUCSON(NX4) EXPORT']\n ['Hyundai' 'Hyundai' 'SANTAFE(TM) 1.6T PHEV']\n ['Hyundai' 'Hyundai' 'SANTAFE(TM) EXPORT']\n ['Hyundai' 'Hyundai' 'PALISADE EXPORT']\n ['Hyundai' 'Hyundai' 'GV70 EXPORT']\n ['Hyundai' 'Hyundai' 'GV80 EXPORT']\n ['Hyundai' 'Hyundai' 'GRAND STAREX EXPORT']\n ['Hyundai' 'Hyundai' 'STARIA(US4) EXPORT']\n ['Hyundai' 'Hyundai' 'COUNTY EXPORT']\n ['Hyundai' 'Hyundai' '대형버스 EXPORT']\n ['Hyundai' 'Hyundai' 'MIGHTY EXPORT']\n ['Hyundai' 'Hyundai' 'PORTER EXPORT']\n ['Hyundai' 'Hyundai' '5T EXPORT']\n ['Hyundai' 'Hyundai' '대형트럭 FCEV']\n ['Hyundai' 'Hyundai' '대형트럭 EXPORT']\n ['Hyundai' 'Hyundai' 'MIXER']\n ['Hyundai' 'Hyundai' 'PULL CARGO']\n ['Hyundai' 'Hyundai' 'TRACTOR']\n ['Hyundai' 'Hyundai' '8X4 DUMP']\n ['Hyundai' 'Hyundai' '특장기타']\n ['Kia' 'Kia' 'MORNING(JA) EXPORT']\n ['Kia' 'Kia' 'PRIDE(YB) EXPORT']\n ['Kia' 'Kia' 'K3(BD) EXPORT']\n ['Kia' 'Kia' 'K5(JF) EXPORT']\n ['Kia' 'Kia' 'K5(DL3) 2.0 PHEV']\n ['Kia' 'Kia' 'K5(DL3) EXPORT']\n ['Kia' 'Kia' 'K8(GL3) EXPORT']\n ['Kia' 'Kia' 'K9(RJ) EXPORT']\n ['Kia' 'Kia' 'STINGER EXPORT']\n ['Kia' 'Kia' 'SOUL BOOSTER EXPORT']\n ['Kia' 'Kia' 'STONIC EXPORT']\n ['Kia' 'Kia' 'NIRO(SG2) 1.6 PHEV']\n ['Kia' 'Kia' 'SELTOS EXPORT']\n ['Kia' 'Kia' 'SPORTAGE(NQ5) 1.6 PHEV']\n ['Kia' 'Kia' 'SPORTAGE(NQ5) EXPORT']\n ['Kia' 'Kia' 'SORENTO(MQ4) EXPORT']\n ['Kia' 'Kia' 'EV9']\n ['Kia' 'Kia' 'MOHAVE EXPORT']\n ['Kia' 'Kia' 'CARNIVAL(KA4) EXPORT']\n ['Kia' 'Kia' '실크로드캄']\n ['Kia' 'Kia' 'IT']\n ['Kia' 'Kia' '1.2/1.4T']\n ['Kia' 'Kia' '특장기타']\n ['GM Korea(Domestic)' 'GM Korea(Domestic)' 'NG MALIBU EXPORT']\n ['GM Korea(Domestic)' 'GM Korea(Domestic)' 'TRAX 1.8']\n ['GM Korea(Domestic)' 'GM Korea(Domestic)' 'TRAX EXPORT']\n ['GM Korea(Domestic)' 'GM Korea(Domestic)' 'TRAX(CUV) 1.2T']\n ['GM Korea(Domestic)' 'GM Korea(Domestic)' 'TRAX(CUV) EXPORT']\n ['GM Korea(Domestic)' 'GM Korea(Domestic)' 'TRAILBLAZER EXPORT']\n ['GM Korea(Domestic)' 'GM Korea(Domestic)' 'SIERRA 6.2*']\n ['Ssangyong' 'Ssangyong' 'TIVOLI 1.2']\n ['Ssangyong' 'Ssangyong' 'TIVOLI EXPORT']\n ['Ssangyong' 'Ssangyong' 'KORANDO(C300) 2.0']\n ['Ssangyong' 'Ssangyong' 'KORANDO(C300) EXPORT']\n ['Ssangyong' 'Ssangyong' 'REXTON 2.0 GSL']\n ['Ssangyong' 'Ssangyong' 'REXTON 3.2 GSL']\n ['Ssangyong' 'Ssangyong' 'REXTON EXPORT']\n ['Ssangyong' 'Ssangyong' 'REXTON SPORTS 2.0 GSL']\n ['Ssangyong' 'Ssangyong' 'REXTON SPORTS EXPORT']\n ['Renault Samsung' 'R. Samsung' 'NEW SM3 EXPORT']\n ['Renault Samsung' 'R. Samsung' 'NEW SM3 EV EXPORT']\n ['Renault Samsung' 'R. Samsung' 'SM6 EXPORT']\n ['Renault Samsung' 'R. Samsung' 'XM3 EXPORT']\n ['Renault Samsung' 'R. Samsung' 'QM6 2.0 LPe QUEST']\n ['Renault Samsung' 'R. Samsung' 'QM6 EXPORT']\n ['Daewoo Bus' 'Daewoo'\n  'BS (BS090, BF106, BS106,  BV120MA, BS110CN, BS120CN, BC211M)']\n ['Daewoo Bus' 'Daewoo' 'ROYAL CITY EXPORT']\n ['Daewoo Bus' 'Daewoo' 'ROYAL EXPORT']\n ['Tata Daewoo' 'Tata Daewoo' '대형트럭 EXPORT']\n ['Tata Daewoo' 'Tata Daewoo' 'MIXER']\n ['Tata Daewoo' 'Tata Daewoo' 'TRACTOR']]",
     "output_type": "error",
     "traceback": [
      "\u001b[0;31m---------------------------------------------------------------------------\u001b[0m",
      "\u001b[0;31mValueError\u001b[0m                                Traceback (most recent call last)",
      "\u001b[0;32m/tmp/ipykernel_6867/1698952624.py\u001b[0m in \u001b[0;36m<cell line: 6>\u001b[0;34m()\u001b[0m\n\u001b[1;32m     79\u001b[0m     \u001b[0mmodel_error\u001b[0m \u001b[0;34m=\u001b[0m \u001b[0mdf\u001b[0m\u001b[0;34m[\u001b[0m\u001b[0;34m~\u001b[0m\u001b[0;34m(\u001b[0m\u001b[0;34m(\u001b[0m\u001b[0mdf\u001b[0m\u001b[0;34m[\u001b[0m\u001b[0;34m'Model'\u001b[0m\u001b[0;34m]\u001b[0m\u001b[0;34m.\u001b[0m\u001b[0misin\u001b[0m\u001b[0;34m(\u001b[0m\u001b[0mmaster\u001b[0m\u001b[0;34m[\u001b[0m\u001b[0;34m'Model (until 2021)'\u001b[0m\u001b[0;34m]\u001b[0m\u001b[0;34m)\u001b[0m\u001b[0;34m)\u001b[0m \u001b[0;34m|\u001b[0m \u001b[0;34m(\u001b[0m\u001b[0mdf\u001b[0m\u001b[0;34m[\u001b[0m\u001b[0;34m'Model'\u001b[0m\u001b[0;34m]\u001b[0m\u001b[0;34m.\u001b[0m\u001b[0misin\u001b[0m\u001b[0;34m(\u001b[0m\u001b[0mmaster\u001b[0m\u001b[0;34m[\u001b[0m\u001b[0;34m'Model'\u001b[0m\u001b[0;34m]\u001b[0m\u001b[0;34m)\u001b[0m\u001b[0;34m)\u001b[0m \u001b[0;34m|\u001b[0m \u001b[0;34m(\u001b[0m\u001b[0mdf\u001b[0m\u001b[0;34m[\u001b[0m\u001b[0;34m'Model'\u001b[0m\u001b[0;34m]\u001b[0m\u001b[0;34m.\u001b[0m\u001b[0misna\u001b[0m\u001b[0;34m(\u001b[0m\u001b[0;34m)\u001b[0m\u001b[0;34m)\u001b[0m\u001b[0;34m)\u001b[0m\u001b[0;34m]\u001b[0m\u001b[0;34m\u001b[0m\u001b[0;34m\u001b[0m\u001b[0m\n\u001b[1;32m     80\u001b[0m     \u001b[0;32mif\u001b[0m \u001b[0mlen\u001b[0m\u001b[0;34m(\u001b[0m\u001b[0mmodel_error\u001b[0m\u001b[0;34m)\u001b[0m \u001b[0;34m>\u001b[0m \u001b[0;36m0\u001b[0m\u001b[0;34m:\u001b[0m\u001b[0;34m\u001b[0m\u001b[0;34m\u001b[0m\u001b[0m\n\u001b[0;32m---> 81\u001b[0;31m         \u001b[0;32mraise\u001b[0m \u001b[0mValueError\u001b[0m\u001b[0;34m(\u001b[0m\u001b[0;34mf\"No such value in meta table(Company, Brand, Model): {model_error[['Company', 'Brand', 'Model']].drop_duplicates().values}\"\u001b[0m\u001b[0;34m)\u001b[0m\u001b[0;34m\u001b[0m\u001b[0;34m\u001b[0m\u001b[0m\n\u001b[0m\u001b[1;32m     82\u001b[0m     \u001b[0mmodel\u001b[0m \u001b[0;34m=\u001b[0m \u001b[0mmaster\u001b[0m\u001b[0;34m.\u001b[0m\u001b[0mset_index\u001b[0m\u001b[0;34m(\u001b[0m\u001b[0;34m'Model (until 2021)'\u001b[0m\u001b[0;34m)\u001b[0m\u001b[0;34m.\u001b[0m\u001b[0mto_dict\u001b[0m\u001b[0;34m(\u001b[0m\u001b[0;34m)\u001b[0m\u001b[0;34m[\u001b[0m\u001b[0;34m'Model'\u001b[0m\u001b[0;34m]\u001b[0m\u001b[0;34m\u001b[0m\u001b[0;34m\u001b[0m\u001b[0m\n\u001b[1;32m     83\u001b[0m     \u001b[0mdf\u001b[0m \u001b[0;34m=\u001b[0m \u001b[0mdf\u001b[0m\u001b[0;34m.\u001b[0m\u001b[0mreplace\u001b[0m\u001b[0;34m(\u001b[0m\u001b[0;34m{\u001b[0m\u001b[0;34m\"Model\"\u001b[0m\u001b[0;34m:\u001b[0m\u001b[0mmodel\u001b[0m\u001b[0;34m}\u001b[0m\u001b[0;34m)\u001b[0m\u001b[0;34m\u001b[0m\u001b[0;34m\u001b[0m\u001b[0m\n",
      "\u001b[0;31mValueError\u001b[0m: No such value in meta table(Company, Brand, Model): [['Hyundai' 'Hyundai' 'AVANTE(CN7) EXPORT']\n ['Hyundai' 'Hyundai' 'i30(PD) EXPORT']\n ['Hyundai' 'Hyundai' 'LF SONATA EXPORT']\n ['Hyundai' 'Hyundai' 'SONATA(DN8) EXPORT']\n ['Hyundai' 'Hyundai' 'G70 2.5T']\n ['Hyundai' 'Hyundai' 'G70 EXPORT']\n ['Hyundai' 'Hyundai' 'G80(RG3) EXPORT']\n ['Hyundai' 'Hyundai' 'GRANDEUR IG EXPORT']\n ['Hyundai' 'Hyundai' 'GRANDEUR(GN7) EXPORT']\n ['Hyundai' 'Hyundai' 'G90(RS4) EXPORT']\n ['Hyundai' 'Hyundai' 'VENUE EXPORT']\n ['Hyundai' 'Hyundai' 'KONA(OS) EXPORT']\n ['Hyundai' 'Hyundai' 'KONA(SX2) 1.6 HEV']\n ['Hyundai' 'Hyundai' 'KONA(SX2) EV']\n ['Hyundai' 'Hyundai' 'KONA(SX2) EXPORT']\n ['Hyundai' 'Hyundai' 'TUCSON(NX4) 1.6 PHEV']\n ['Hyundai' 'Hyundai' 'TUCSON(NX4) EXPORT']\n ['Hyundai' 'Hyundai' 'SANTAFE(TM) 1.6T PHEV']\n ['Hyundai' 'Hyundai' 'SANTAFE(TM) EXPORT']\n ['Hyundai' 'Hyundai' 'PALISADE EXPORT']\n ['Hyundai' 'Hyundai' 'GV70 EXPORT']\n ['Hyundai' 'Hyundai' 'GV80 EXPORT']\n ['Hyundai' 'Hyundai' 'GRAND STAREX EXPORT']\n ['Hyundai' 'Hyundai' 'STARIA(US4) EXPORT']\n ['Hyundai' 'Hyundai' 'COUNTY EXPORT']\n ['Hyundai' 'Hyundai' '대형버스 EXPORT']\n ['Hyundai' 'Hyundai' 'MIGHTY EXPORT']\n ['Hyundai' 'Hyundai' 'PORTER EXPORT']\n ['Hyundai' 'Hyundai' '5T EXPORT']\n ['Hyundai' 'Hyundai' '대형트럭 FCEV']\n ['Hyundai' 'Hyundai' '대형트럭 EXPORT']\n ['Hyundai' 'Hyundai' 'MIXER']\n ['Hyundai' 'Hyundai' 'PULL CARGO']\n ['Hyundai' 'Hyundai' 'TRACTOR']\n ['Hyundai' 'Hyundai' '8X4 DUMP']\n ['Hyundai' 'Hyundai' '특장기타']\n ['Kia' 'Kia' 'MORNING(JA) EXPORT']\n ['Kia' 'Kia' 'PRIDE(YB) EXPORT']\n ['Kia' 'Kia' 'K3(BD) EXPORT']\n ['Kia' 'Kia' 'K5(JF) EXPORT']\n ['Kia' 'Kia' 'K5(DL3) 2.0 PHEV']\n ['Kia' 'Kia' 'K5(DL3) EXPORT']\n ['Kia' 'Kia' 'K8(GL3) EXPORT']\n ['Kia' 'Kia' 'K9(RJ) EXPORT']\n ['Kia' 'Kia' 'STINGER EXPORT']\n ['Kia' 'Kia' 'SOUL BOOSTER EXPORT']\n ['Kia' 'Kia' 'STONIC EXPORT']\n ['Kia' 'Kia' 'NIRO(SG2) 1.6 PHEV']\n ['Kia' 'Kia' 'SELTOS EXPORT']\n ['Kia' 'Kia' 'SPORTAGE(NQ5) 1.6 PHEV']\n ['Kia' 'Kia' 'SPORTAGE(NQ5) EXPORT']\n ['Kia' 'Kia' 'SORENTO(MQ4) EXPORT']\n ['Kia' 'Kia' 'EV9']\n ['Kia' 'Kia' 'MOHAVE EXPORT']\n ['Kia' 'Kia' 'CARNIVAL(KA4) EXPORT']\n ['Kia' 'Kia' '실크로드캄']\n ['Kia' 'Kia' 'IT']\n ['Kia' 'Kia' '1.2/1.4T']\n ['Kia' 'Kia' '특장기타']\n ['GM Korea(Domestic)' 'GM Korea(Domestic)' 'NG MALIBU EXPORT']\n ['GM Korea(Domestic)' 'GM Korea(Domestic)' 'TRAX 1.8']\n ['GM Korea(Domestic)' 'GM Korea(Domestic)' 'TRAX EXPORT']\n ['GM Korea(Domestic)' 'GM Korea(Domestic)' 'TRAX(CUV) 1.2T']\n ['GM Korea(Domestic)' 'GM Korea(Domestic)' 'TRAX(CUV) EXPORT']\n ['GM Korea(Domestic)' 'GM Korea(Domestic)' 'TRAILBLAZER EXPORT']\n ['GM Korea(Domestic)' 'GM Korea(Domestic)' 'SIERRA 6.2*']\n ['Ssangyong' 'Ssangyong' 'TIVOLI 1.2']\n ['Ssangyong' 'Ssangyong' 'TIVOLI EXPORT']\n ['Ssangyong' 'Ssangyong' 'KORANDO(C300) 2.0']\n ['Ssangyong' 'Ssangyong' 'KORANDO(C300) EXPORT']\n ['Ssangyong' 'Ssangyong' 'REXTON 2.0 GSL']\n ['Ssangyong' 'Ssangyong' 'REXTON 3.2 GSL']\n ['Ssangyong' 'Ssangyong' 'REXTON EXPORT']\n ['Ssangyong' 'Ssangyong' 'REXTON SPORTS 2.0 GSL']\n ['Ssangyong' 'Ssangyong' 'REXTON SPORTS EXPORT']\n ['Renault Samsung' 'R. Samsung' 'NEW SM3 EXPORT']\n ['Renault Samsung' 'R. Samsung' 'NEW SM3 EV EXPORT']\n ['Renault Samsung' 'R. Samsung' 'SM6 EXPORT']\n ['Renault Samsung' 'R. Samsung' 'XM3 EXPORT']\n ['Renault Samsung' 'R. Samsung' 'QM6 2.0 LPe QUEST']\n ['Renault Samsung' 'R. Samsung' 'QM6 EXPORT']\n ['Daewoo Bus' 'Daewoo'\n  'BS (BS090, BF106, BS106,  BV120MA, BS110CN, BS120CN, BC211M)']\n ['Daewoo Bus' 'Daewoo' 'ROYAL CITY EXPORT']\n ['Daewoo Bus' 'Daewoo' 'ROYAL EXPORT']\n ['Tata Daewoo' 'Tata Daewoo' '대형트럭 EXPORT']\n ['Tata Daewoo' 'Tata Daewoo' 'MIXER']\n ['Tata Daewoo' 'Tata Daewoo' 'TRACTOR']]"
     ]
    }
   ],
   "source": [
    "### Domestic 파일\n",
    "bucket = 'marketstatus-domestic'\n",
    "obj_list = s3.list_objects(Bucket = bucket)\n",
    "key_list = [i['Key'] for i in obj_list['Contents'] if ('raw' in i['Key']) and (('.xlsx' in i['Key']) or ('.xls' in i['Key']))]        \n",
    "\n",
    "for key_ in key_list[-1:]:\n",
    "    key = key_\n",
    "    ############## Lambda Code ##############   \n",
    "    print(key)\n",
    "    ## Bring Sheet Name\n",
    "    _, year, month, filename = key.split('/')\n",
    "    path = f's3://{bucket}/{key}' ## Data path\n",
    "    \n",
    "    ## Domestic Data Load\n",
    "    df = wr.s3.read_excel(path, \n",
    "                          sheet_name=3,\n",
    "                          header=4,\n",
    "                          usecols='A,D,E:F,H,J',\n",
    "                          skiprows=[5,],\n",
    "                          skipfooter=4,\n",
    "                          names=['Company', 'Category', 'Model', 'Production', 'Domestic', 'Export'],\n",
    "                         )\n",
    "    \n",
    "    ## 불필요 데이터 삭제 및 문자열 형식 변경\n",
    "    df = df[df['Model'].notnull()]\n",
    "    df = df[~df['Model'].str.endswith('계')]\n",
    "    df = df[(~df['Model'].str.contains('국산')) & (~df['Model'].str.contains('OEM 수입'))]    \n",
    "    df['Company'] = df['Company'].str.replace(' ', '')\n",
    "    df['Model'] = df['Model'].str.replace('\\n', '')  \n",
    "    df['Model'] = df['Model'].str.replace('  ', ' ')\n",
    "    df['Model'] = df['Model'].str.lstrip()\n",
    "    df['Model'] = df['Model'].str.rstrip()    \n",
    "    df.loc[df['Company'] == '','Company'] = np.NaN\n",
    "    \n",
    "    ## Company / Master Data Load        \n",
    "    company = wr.s3.read_csv('s3://marketstatus-metas/company/') ## Company Data Load\n",
    "    brand = wr.s3.read_csv('s3://marketstatus-metas/brand/') ## Brand Data Load\n",
    "    master = wr.s3.read_csv('s3://marketstatus-metas/master/') ## Master Data Load\n",
    "    master['Model (until 2021)'] = master['Model (until 2021)'].astype('str')\n",
    "    master['Model (until 2021)'] = master['Model (until 2021)'].str.replace('  ', ' ')\n",
    "    master['Model (until 2021)'] = master['Model (until 2021)'].str.lstrip()\n",
    "    master['Model (until 2021)'] = master['Model (until 2021)'].str.rstrip() \n",
    "    master['Model'] = master['Model'].astype('str')\n",
    "    master['Model'] = master['Model'].str.replace('  ', ' ')\n",
    "    master['Model'] = master['Model'].str.lstrip()\n",
    "    master['Model'] = master['Model'].str.rstrip()        \n",
    "\n",
    "    ## Check Company Data with Meta Data\n",
    "        ## Company 데이터가 Meta 데이터에 없고 NaN값도 아닐 경우 에러 발생 | 정상일 경우 Company명 바꿈\n",
    "    company_error = df[~((df['Company'].isin(company['Company_raw'])) | (df['Company'].isin(company['Company'])) | (df['Company'].isna()))]        \n",
    "    if len(company_error) > 0:\n",
    "        raise ValueError(f'No such value in meta table: {company_error[\"Company\"].unique()}')\n",
    "    company = company.set_index('Company_raw').to_dict()['Company']\n",
    "    df = df.replace({\"Company\":company})\n",
    "    \n",
    "    ## 공백값 채우기 & 데이터 형변환\n",
    "    df[['Company', 'Category']] = df[['Company', 'Category']].fillna(method='ffill')\n",
    "    df[['Production', 'Domestic', 'Export']] = df[['Production', 'Domestic', 'Export']].fillna(0).astype(int)\n",
    "    df['Brand'] = df['Company']\n",
    "    df['Year'] = int(year)\n",
    "    df['Month'] = int(month)\n",
    "    df['import_or_domestic'] = 'Domestic'\n",
    "    df['sales_or_not'] = 'Domestic'\n",
    "    \n",
    "    ## Check Brand Data with Meta Data\n",
    "    ## Brand 데이터가 Meta 데이터에 없고 NaN값도 아닐 경우 에러 발생 | 정상일 경우 Brand명 바꿈\n",
    "    brand_error = df[~((df['Brand'].isin(brand['Brand_raw'])) | (df['Brand'].isin(brand['Brand'])) | (df['Brand'].isna()))]        \n",
    "    if len(brand_error) > 0:\n",
    "        raise ValueError(f'No such value in meta table: {brand_error[\"Brand\"].unique()}')\n",
    "    brand = brand.set_index('Brand_raw').to_dict()['Brand']\n",
    "    df = df.replace({\"Brand\":brand})\n",
    "    \n",
    "    ## Genesis 데이터 처리\n",
    "    df.loc[df['Model'].isin(master[master['Brand'] == 'Genesis']['Model']),'Brand'] = 'Genesis'\n",
    "    \n",
    "    ## Check Model Data with Meta Data\n",
    "    ## Model 데이터가 Meta 데이터에 없고 NaN값도 아닐 경우 에러 발생 | 정상일 경우 Model명 바꿈\n",
    "    df['Model'] = df['Model'].astype('str')\n",
    "    model_error = df[~((df['Model'].isin(master['Model (until 2021)'])) | (df['Model'].isin(master['Model'])) | (df['Model'].isna()))]           \n",
    "    if len(model_error) > 0:        \n",
    "        raise ValueError(f\"No such value in meta table(Company, Brand, Model): {model_error[['Company', 'Brand', 'Model']].drop_duplicates().values}\")\n",
    "    model = master.set_index('Model (until 2021)').to_dict()['Model']\n",
    "    df = df.replace({\"Model\":model})                   \n",
    "    \n",
    "#     ## 전처리 데이터 저장\n",
    "#     write_path = f's3://{bucket}/domestic-preprocessed/{year}/{month}/domestic.parquet'\n",
    "#     wr.s3.to_parquet(df, write_path, index=False)\n",
    "    \n",
    "#     ## Drop exist data ###   \n",
    "#     sess = boto3.Session(region_name='us-east-1')\n",
    "#     query = f\"\"\"DELETE FROM marketstatus.models_iceberg \n",
    "#                 WHERE year = {year} \n",
    "#                 AND month = {month} \n",
    "#                 AND import_or_domestic = 'Domestic' \n",
    "#                 AND sales_or_not = 'Domestic'\"\"\"\n",
    "#     query_exec_id = wr.athena.start_query_execution(sql=query, database='marketstatus', boto3_session=sess, wait=True)\n",
    "    \n",
    "#     ## Data Insert To Iceberg Table ###         \n",
    "#     df_array = df[['Year', 'Month', 'import_or_domestic', 'Company', 'Brand', 'Model', 'Domestic', 'sales_or_not']].to_numpy()    \n",
    "#     query = \"\"\"INSERT INTO marketstatus.models_iceberg VALUES \"\"\"\n",
    "#     for r in df_array:\n",
    "#         query += f\"({r[0]}, {r[1]}, '{r[2]}', '{r[3]}', '{r[4]}', '{r[5]}', {r[6]},'{r[7]}'),\\n\"\n",
    "#     query = query[:-2]    \n",
    "#     query_exec_id = wr.athena.start_query_execution(sql=query, database='marketstatus', boto3_session=sess, wait=True)"
   ]
  },
  {
   "cell_type": "code",
   "execution_count": null,
   "id": "44d21d30",
   "metadata": {},
   "outputs": [],
   "source": []
  },
  {
   "cell_type": "code",
   "execution_count": null,
   "id": "bdbf3d99",
   "metadata": {},
   "outputs": [],
   "source": []
  },
  {
   "cell_type": "code",
   "execution_count": null,
   "id": "cf931758",
   "metadata": {},
   "outputs": [],
   "source": []
  },
  {
   "cell_type": "code",
   "execution_count": null,
   "id": "edfeecb5",
   "metadata": {},
   "outputs": [],
   "source": []
  },
  {
   "cell_type": "code",
   "execution_count": null,
   "id": "da8adcbf",
   "metadata": {},
   "outputs": [],
   "source": []
  },
  {
   "cell_type": "code",
   "execution_count": null,
   "id": "edc4f9fc",
   "metadata": {},
   "outputs": [],
   "source": []
  },
  {
   "cell_type": "code",
   "execution_count": null,
   "id": "dea76272",
   "metadata": {},
   "outputs": [],
   "source": []
  },
  {
   "cell_type": "code",
   "execution_count": null,
   "id": "e605e91a",
   "metadata": {},
   "outputs": [],
   "source": []
  }
 ],
 "metadata": {
  "kernelspec": {
   "display_name": "conda_tensorflow2_p38",
   "language": "python",
   "name": "conda_tensorflow2_p38"
  },
  "language_info": {
   "codemirror_mode": {
    "name": "ipython",
    "version": 3
   },
   "file_extension": ".py",
   "mimetype": "text/x-python",
   "name": "python",
   "nbconvert_exporter": "python",
   "pygments_lexer": "ipython3",
   "version": "3.8.12"
  }
 },
 "nbformat": 4,
 "nbformat_minor": 5
}
