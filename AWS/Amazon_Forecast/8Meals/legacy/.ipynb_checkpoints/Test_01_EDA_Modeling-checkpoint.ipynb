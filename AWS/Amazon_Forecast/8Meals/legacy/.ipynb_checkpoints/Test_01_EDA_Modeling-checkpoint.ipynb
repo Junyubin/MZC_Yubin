{
 "cells": [
  {
   "cell_type": "markdown",
   "id": "11a63ebe-8496-49b9-93cc-7eaa9ef003c1",
   "metadata": {},
   "source": [
    "## 데이터 불러오기 및 전처리\n"
   ]
  },
  {
   "cell_type": "markdown",
   "id": "6ca94e67-5a2b-4bb7-bd41-5c52322cbcca",
   "metadata": {},
   "source": [
    "* 발주/입고 정보"
   ]
  },
  {
   "cell_type": "code",
   "execution_count": 8,
   "id": "e6947f68-4b1f-44ae-a169-9743894a2b90",
   "metadata": {},
   "outputs": [],
   "source": [
    "# !pip install openpyxl"
   ]
  },
  {
   "cell_type": "code",
   "execution_count": 15,
   "id": "f472546c-9548-4bd8-9276-4bd77ab5cd56",
   "metadata": {},
   "outputs": [],
   "source": [
    "import pandas as pd\n",
    "import numpy as np\n",
    "import openpyxl\n",
    "\n",
    "filename = '미트맵 입출고 내역(6-7월).xlsx'\n",
    "\n",
    "# 엑셀 파일 읽어 오기\n",
    "df = pd.read_excel(filename, sheet_name = '발주현황', engine='openpyxl', header = 1)\n",
    "\n",
    "# 컬럼명 변환 (보관종류_고기부위)\n",
    "df_col = df.iloc[0:2].fillna(method=\"ffill\",axis = 1)\n",
    "list_col = [str(df_col.values[0][i]) + '_'+ str(df_col.values[1][i]) for i in range(df_col.shape[1])]\n",
    "list_col[3] = '구분' ## 중복 컬럼명 변경\n",
    "\n",
    "# 불필요 데이터 제거 (공백칸, 누계. 일평균, 합계, 소계, 중량 등)\n",
    "df = pd.DataFrame(data = df[8:].values, columns = list_col)\n",
    "df = df.iloc[:,1:]\n",
    "df.drop('구분_부위', axis = 1 , inplace = True)\n",
    "df.drop('합계_부위', axis = 1 , inplace = True)\n",
    "df.drop('냉장_소계', axis = 1 , inplace = True)\n",
    "\n",
    "# 컬렴명 변환\n",
    "df.rename(columns = {'일자_nan' : '일자'}, inplace = True)\n",
    "\n",
    "# 데이터 변환\n",
    "df['구분'] = df['구분'].apply(lambda x: x.split('(')[0])\n",
    "\n",
    "# 결측치 채우기\n",
    "df['일자'] = df['일자'].fillna(method = 'ffill', axis = 0)\n",
    "df.fillna(0, inplace = True) # 발주/입고량 결측치 0으로 채우기\n",
    "\n",
    "# 데이터 분류\n",
    "oder_df = df[df['구분'] == '발주'].reset_index(drop = True)\n",
    "receve_df = df[df['구분'] == '입고'].reset_index(drop = True)"
   ]
  },
  {
   "cell_type": "markdown",
   "id": "32d1e019-9172-4e93-8345-4e2c2d13ef12",
   "metadata": {},
   "source": [
    "* 출고 정보"
   ]
  },
  {
   "cell_type": "code",
   "execution_count": 16,
   "id": "2f999dbd-4982-4e72-9b54-9a59f4df7bab",
   "metadata": {},
   "outputs": [],
   "source": [
    "filename = '미트맵 입출고 내역(6-7월).xlsx'\n",
    "\n",
    "# 엑셀 파일 읽어 오기\n",
    "df = pd.read_excel(filename, sheet_name = '출고현황', engine='openpyxl', header = 2, index_col=0).T.reset_index(drop = True)\n",
    "\n",
    "# 컬럼명 변환 (보관종류_고기부위)\n",
    "df_col = df.iloc[0:3].fillna(method=\"ffill\",axis = 1)\n",
    "list_col = [str(df_col.values[0][i]) + '_'+ str(df_col.values[1][i]) + '_'+ str(df_col.values[2][i]) for i in range(df_col.shape[1])]\n",
    "\n",
    "# 불필요 데이터 제거 (공백칸, 누계. 일평균, 합계, 소계, 중량 등)\n",
    "df = pd.DataFrame(data = df[3:].values, columns = list_col)\n",
    "df = df.iloc[5:-1]\n",
    "\n",
    "# 컬렴명 변환\n",
    "df.rename(columns = {'[ 제품 ]_50_작업' : '일자'}, inplace = True)\n",
    "df.rename(columns = {'구분_부위_제품명' : '구분'}, inplace = True)\n",
    "\n",
    "# 결측치 채우기\n",
    "df['일자'] = df['일자'].fillna(method = 'ffill', axis = 0)\n",
    "df.fillna(0, inplace = True) # 팩수/중량 결측치 0으로 채우기\n",
    "\n",
    "# 데이터 분류\n",
    "pack_df = df[df['구분'] == '팩수'].reset_index(drop = True)\n",
    "weight_df = df[df['구분'] == '중량'].reset_index(drop = True)"
   ]
  },
  {
   "cell_type": "markdown",
   "id": "43cd79dd-ce11-44e4-87f4-82b56f04a615",
   "metadata": {},
   "source": [
    "## 데이터 EDA"
   ]
  },
  {
   "cell_type": "markdown",
   "id": "c0a849f0-9d4c-4d41-b90b-529daf3af5a6",
   "metadata": {},
   "source": [
    "* 출고 현황 데이터 EDA\n",
    "    - 중량 = 단량 * 팩수"
   ]
  },
  {
   "cell_type": "markdown",
   "id": "6676c3f4-32cb-4f84-ad9d-4d3150255721",
   "metadata": {},
   "source": [
    "* 발주 현황 데이터 EDA"
   ]
  },
  {
   "cell_type": "code",
   "execution_count": 17,
   "id": "0cd778b8-aae9-4e9a-ac96-9d70161b15d7",
   "metadata": {},
   "outputs": [
    {
     "name": "stdout",
     "output_type": "stream",
     "text": [
      "발주 제품 항목 : 27\n",
      "\n"
     ]
    }
   ],
   "source": [
    "## 고기 종류 27개\n",
    "order_col = ['냉장_미박삼겹', '냉장_삼겹', '냉장_목심', '냉장_뒷다리', '냉장_뒷사태', '냉장_앞다리', '냉장_등심꽃살', \n",
    "             '냉장_등심', '냉장_등심덧살', '냉장_등갈비', '냉장_갈비', '냉장_항정살', '냉장_안심', '냉장_갈매기살', \n",
    "             '냉장_토시살', '냉장_도깨비살', '냉동_소계', '냉동_뒷다리', '냉동_삼겹', '냉동_앞다리', '냉동_등심', \n",
    "             '냉동_목심', '냉동_갈비', '냉동_등뼈/찜용', '냉동_삼겹(자향)', '냉동_목심(자향_', '냉동_앞다리(자향)']\n",
    "print(f\"발주 제품 항목 : {len(order_col)}\")\n",
    "print()"
   ]
  },
  {
   "cell_type": "markdown",
   "id": "4c464a00-4546-44f1-ba08-bd4e5d19da2a",
   "metadata": {},
   "source": [
    "## Forecast Test"
   ]
  },
  {
   "cell_type": "code",
   "execution_count": 18,
   "id": "ea0ef2be-4ac4-4698-972e-c6db8327afc8",
   "metadata": {},
   "outputs": [
    {
     "name": "stderr",
     "output_type": "stream",
     "text": [
      "<ipython-input-18-ac3ded87d608>:7: SettingWithCopyWarning: \n",
      "A value is trying to be set on a copy of a slice from a DataFrame.\n",
      "Try using .loc[row_indexer,col_indexer] = value instead\n",
      "\n",
      "See the caveats in the documentation: https://pandas.pydata.org/pandas-docs/stable/user_guide/indexing.html#returning-a-view-versus-a-copy\n",
      "  temp_df['item_id'] = '냉장_삼겹'\n"
     ]
    },
    {
     "data": {
      "text/plain": [
       "(50, 3)"
      ]
     },
     "execution_count": 18,
     "metadata": {},
     "output_type": "execute_result"
    }
   ],
   "source": [
    "# temp_list =[x for x in list(weight_df) if \"냉장_삼겹\" in x]\n",
    "# temp_df.loc[:,'합계'] = temp_df.sum(axis = 1)\n",
    "\n",
    "temp_list = ['냉장_삼겹_소계']\n",
    "temp_list.insert(0, '일자')\n",
    "temp_df = weight_df[temp_list]\n",
    "temp_df['item_id'] = '냉장_삼겹'\n",
    "temp_df.columns = ['timestamp', 'demand', 'item_id']\n",
    "\n",
    "temp_df = temp_df[['item_id', 'timestamp', 'demand']]\n",
    "\n",
    "temp_df.to_csv('forecast_냉장삼겹.csv', index = False)\n",
    "temp_df.shape"
   ]
  },
  {
   "cell_type": "code",
   "execution_count": 19,
   "id": "98f81584-550b-4f5b-b4cd-3178b63444df",
   "metadata": {},
   "outputs": [
    {
     "name": "stderr",
     "output_type": "stream",
     "text": [
      "<ipython-input-19-9239266d1480>:7: SettingWithCopyWarning: \n",
      "A value is trying to be set on a copy of a slice from a DataFrame\n",
      "\n",
      "See the caveats in the documentation: https://pandas.pydata.org/pandas-docs/stable/user_guide/indexing.html#returning-a-view-versus-a-copy\n",
      "  temp_x.dropna(axis = 0, inplace = True)\n"
     ]
    }
   ],
   "source": [
    "n = 5\n",
    "for i in range(n):\n",
    "    temp_df[f'window_{i+1}'] = temp_df['demand'].shift(n-i)\n",
    "\n",
    "train_col = [f'window_{i + 1}' for i in range(n)]\n",
    "temp_x = temp_df[train_col]\n",
    "temp_x.dropna(axis = 0, inplace = True)\n",
    "temp_y = temp_df.loc[temp_x.index,'demand']"
   ]
  },
  {
   "cell_type": "code",
   "execution_count": 21,
   "id": "a56b408b-6b51-4f7f-836e-f9c6315df27f",
   "metadata": {},
   "outputs": [],
   "source": [
    "## Data Split\n",
    "\n",
    "from sklearn.model_selection import train_test_split\n",
    "\n",
    "train_x, test_x, train_y, test_y = train_test_split(temp_x, temp_y, test_size=0.2, random_state=42)"
   ]
  },
  {
   "cell_type": "code",
   "execution_count": 22,
   "id": "07116f12-d95d-415c-8a4c-b371cf228aa9",
   "metadata": {},
   "outputs": [
    {
     "data": {
      "text/plain": [
       "0.8689579153439347"
      ]
     },
     "execution_count": 22,
     "metadata": {},
     "output_type": "execute_result"
    }
   ],
   "source": [
    "from sklearn.ensemble import RandomForestRegressor\n",
    "\n",
    "model = RandomForestRegressor()\n",
    "model.fit(train_x, train_y)\n",
    "model.score(train_x, train_y)"
   ]
  },
  {
   "cell_type": "code",
   "execution_count": 23,
   "id": "b6e3c895-83d7-46b4-bcdd-1e8b660b1e8a",
   "metadata": {},
   "outputs": [
    {
     "data": {
      "text/plain": [
       "-0.32816415776726315"
      ]
     },
     "execution_count": 23,
     "metadata": {},
     "output_type": "execute_result"
    }
   ],
   "source": [
    "model.score(test_x, test_y)"
   ]
  },
  {
   "cell_type": "code",
   "execution_count": 24,
   "id": "7a6cf5f8-7e7e-4865-a355-27763b63f4ca",
   "metadata": {},
   "outputs": [
    {
     "data": {
      "text/plain": [
       "0.5484028147448843"
      ]
     },
     "execution_count": 24,
     "metadata": {},
     "output_type": "execute_result"
    }
   ],
   "source": [
    "from sklearn.metrics import mean_absolute_percentage_error\n",
    "\n",
    "mean_absolute_percentage_error(test_y, model.predict(test_x))"
   ]
  },
  {
   "cell_type": "code",
   "execution_count": 25,
   "id": "2e827c5c-d3ca-4cb2-9fe4-e0eb201a0e3e",
   "metadata": {},
   "outputs": [
    {
     "name": "stdout",
     "output_type": "stream",
     "text": [
      "0.8737323046123024\n",
      "0.22532628839640004\n"
     ]
    }
   ],
   "source": [
    "model = RandomForestRegressor()\n",
    "model.fit(temp_x, temp_y)\n",
    "print(model.score(temp_x, temp_y))\n",
    "print(mean_absolute_percentage_error(temp_y, model.predict(temp_x)))"
   ]
  },
  {
   "cell_type": "code",
   "execution_count": 9,
   "id": "5c3c4f11-e531-41b4-82fe-b7ef5642a769",
   "metadata": {},
   "outputs": [
    {
     "data": {
      "text/plain": [
       "(45, 5)"
      ]
     },
     "execution_count": 9,
     "metadata": {},
     "output_type": "execute_result"
    }
   ],
   "source": [
    "temp_x.shape"
   ]
  },
  {
   "cell_type": "code",
   "execution_count": 10,
   "id": "95011206-aec5-421f-ac47-684d15f7d01d",
   "metadata": {},
   "outputs": [],
   "source": [
    "import os\n",
    "os.environ[\"CUDA_VISIBLE_DEVICES\"] = \"0\""
   ]
  },
  {
   "cell_type": "code",
   "execution_count": 12,
   "id": "d4ecadf2-42ba-427f-add9-89f43133b274",
   "metadata": {
    "scrolled": true,
    "tags": []
   },
   "outputs": [
    {
     "name": "stdout",
     "output_type": "stream",
     "text": [
      "Model: \"sequential\"\n",
      "_________________________________________________________________\n",
      "Layer (type)                 Output Shape              Param #   \n",
      "=================================================================\n",
      "lstm (LSTM)                  (None, 4)                 160       \n",
      "_________________________________________________________________\n",
      "dense (Dense)                (None, 1)                 5         \n",
      "=================================================================\n",
      "Total params: 165\n",
      "Trainable params: 165\n",
      "Non-trainable params: 0\n",
      "_________________________________________________________________\n"
     ]
    }
   ],
   "source": [
    "from tensorflow.keras.layers import LSTM,Dense\n",
    "from tensorflow.keras.models import Sequential\n",
    "from tensorflow.keras import backend as K\n",
    "\n",
    "K.clear_session()\n",
    "\n",
    "temp = np.array(temp_x).reshape(45,1,-1)\n",
    "\n",
    "model = Sequential([\n",
    "    LSTM(4, input_shape = temp.shape[1:]),\n",
    "    Dense(1)\n",
    "])\n",
    "model.compile(optimizer='adam', loss='mse', metrics='mae')\n",
    "model.summary()"
   ]
  },
  {
   "cell_type": "code",
   "execution_count": null,
   "id": "4bd9d734-ace4-4112-9990-16b11aeee4a1",
   "metadata": {},
   "outputs": [],
   "source": [
    "## 모델링\n",
    "import tensorflow as tf\n",
    "from tensorflow import keras\n",
    "from tensorflow.keras import layers\n",
    "from tensorflow.keras import optimizers\n",
    "from tensorflow.python.keras.callbacks import EarlyStopping\n",
    "from keras import backend as K \n",
    "print(tf.__version__)\n",
    "K.clear_session()\n",
    "\n",
    "def root_mean_squared_error(y_true, y_pred):\n",
    "    return K.sqrt(K.mean(K.square(y_pred - y_true)))     \n",
    "Adam = optimizers.Adam(learning_rate = 0.0001)\n",
    "\n",
    "model = keras.Sequential([\n",
    "    layers.Dense(scl_x.shape[1], activation='tanh', input_shape=[scl_x.shape[1]]),\n",
    "    layers.Dense(64, activation='relu'),\n",
    "    # layers.BatchNormalization(),\n",
    "    layers.Dense(16, activation='PReLU'),\n",
    "    layers.Dense(1)\n",
    "    \n",
    "])\n",
    "model.compile(loss=root_mean_squared_error, optimizer=Adam, metrics=['mse', 'mae'])\n",
    "model.summary()\n",
    "EPOCHS = 10\n",
    "early_stopping = EarlyStopping(monitor = 'val_loss', min_delta = 0, patience = 5, mode = 'auto')\n",
    "\n",
    "history = model.fit(scl_x, train_y['rate'], epochs=EPOCHS, batch_size = 2,  validation_split = 0.2, verbose=1)\n",
    "# # history = model.fit(scl_x, scl_y, epochs=EPOCHS, batch_size = 4,  validation_split = 0.1, verbose=1, callbacks=[early_stopping])"
   ]
  },
  {
   "cell_type": "code",
   "execution_count": 14,
   "id": "8918eeb3-adcc-4226-ad39-0e06499b936c",
   "metadata": {},
   "outputs": [
    {
     "ename": "InternalError",
     "evalue": "stream did not block host until done; was already in an error state",
     "output_type": "error",
     "traceback": [
      "\u001b[0;31m---------------------------------------------------------------------------\u001b[0m",
      "\u001b[0;31mInternalError\u001b[0m                             Traceback (most recent call last)",
      "\u001b[0;32m<ipython-input-14-3e59307f89dd>\u001b[0m in \u001b[0;36m<module>\u001b[0;34m\u001b[0m\n\u001b[0;32m----> 1\u001b[0;31m \u001b[0mmodel\u001b[0m\u001b[0;34m.\u001b[0m\u001b[0mfit\u001b[0m\u001b[0;34m(\u001b[0m\u001b[0mtemp\u001b[0m\u001b[0;34m,\u001b[0m \u001b[0mtemp_y\u001b[0m\u001b[0;34m,\u001b[0m \u001b[0mbatch_size\u001b[0m \u001b[0;34m=\u001b[0m \u001b[0;36m4\u001b[0m\u001b[0;34m,\u001b[0m \u001b[0mverbose\u001b[0m \u001b[0;34m=\u001b[0m \u001b[0;36m1\u001b[0m\u001b[0;34m)\u001b[0m\u001b[0;34m\u001b[0m\u001b[0;34m\u001b[0m\u001b[0m\n\u001b[0m",
      "\u001b[0;32m/usr/local/lib/python3.8/site-packages/keras/engine/training.py\u001b[0m in \u001b[0;36mfit\u001b[0;34m(self, x, y, batch_size, epochs, verbose, callbacks, validation_split, validation_data, shuffle, class_weight, sample_weight, initial_epoch, steps_per_epoch, validation_steps, validation_batch_size, validation_freq, max_queue_size, workers, use_multiprocessing)\u001b[0m\n\u001b[1;32m   1132\u001b[0m          \u001b[0mtraining_utils\u001b[0m\u001b[0;34m.\u001b[0m\u001b[0mRespectCompiledTrainableState\u001b[0m\u001b[0;34m(\u001b[0m\u001b[0mself\u001b[0m\u001b[0;34m)\u001b[0m\u001b[0;34m:\u001b[0m\u001b[0;34m\u001b[0m\u001b[0;34m\u001b[0m\u001b[0m\n\u001b[1;32m   1133\u001b[0m       \u001b[0;31m# Creates a `tf.data.Dataset` and handles batch and epoch iteration.\u001b[0m\u001b[0;34m\u001b[0m\u001b[0;34m\u001b[0m\u001b[0;34m\u001b[0m\u001b[0m\n\u001b[0;32m-> 1134\u001b[0;31m       data_handler = data_adapter.get_data_handler(\n\u001b[0m\u001b[1;32m   1135\u001b[0m           \u001b[0mx\u001b[0m\u001b[0;34m=\u001b[0m\u001b[0mx\u001b[0m\u001b[0;34m,\u001b[0m\u001b[0;34m\u001b[0m\u001b[0;34m\u001b[0m\u001b[0m\n\u001b[1;32m   1136\u001b[0m           \u001b[0my\u001b[0m\u001b[0;34m=\u001b[0m\u001b[0my\u001b[0m\u001b[0;34m,\u001b[0m\u001b[0;34m\u001b[0m\u001b[0;34m\u001b[0m\u001b[0m\n",
      "\u001b[0;32m/usr/local/lib/python3.8/site-packages/keras/engine/data_adapter.py\u001b[0m in \u001b[0;36mget_data_handler\u001b[0;34m(*args, **kwargs)\u001b[0m\n\u001b[1;32m   1381\u001b[0m   \u001b[0;32mif\u001b[0m \u001b[0mgetattr\u001b[0m\u001b[0;34m(\u001b[0m\u001b[0mkwargs\u001b[0m\u001b[0;34m[\u001b[0m\u001b[0;34m\"model\"\u001b[0m\u001b[0;34m]\u001b[0m\u001b[0;34m,\u001b[0m \u001b[0;34m\"_cluster_coordinator\"\u001b[0m\u001b[0;34m,\u001b[0m \u001b[0;32mNone\u001b[0m\u001b[0;34m)\u001b[0m\u001b[0;34m:\u001b[0m\u001b[0;34m\u001b[0m\u001b[0;34m\u001b[0m\u001b[0m\n\u001b[1;32m   1382\u001b[0m     \u001b[0;32mreturn\u001b[0m \u001b[0m_ClusterCoordinatorDataHandler\u001b[0m\u001b[0;34m(\u001b[0m\u001b[0;34m*\u001b[0m\u001b[0margs\u001b[0m\u001b[0;34m,\u001b[0m \u001b[0;34m**\u001b[0m\u001b[0mkwargs\u001b[0m\u001b[0;34m)\u001b[0m\u001b[0;34m\u001b[0m\u001b[0;34m\u001b[0m\u001b[0m\n\u001b[0;32m-> 1383\u001b[0;31m   \u001b[0;32mreturn\u001b[0m \u001b[0mDataHandler\u001b[0m\u001b[0;34m(\u001b[0m\u001b[0;34m*\u001b[0m\u001b[0margs\u001b[0m\u001b[0;34m,\u001b[0m \u001b[0;34m**\u001b[0m\u001b[0mkwargs\u001b[0m\u001b[0;34m)\u001b[0m\u001b[0;34m\u001b[0m\u001b[0;34m\u001b[0m\u001b[0m\n\u001b[0m\u001b[1;32m   1384\u001b[0m \u001b[0;34m\u001b[0m\u001b[0m\n\u001b[1;32m   1385\u001b[0m \u001b[0;34m\u001b[0m\u001b[0m\n",
      "\u001b[0;32m/usr/local/lib/python3.8/site-packages/keras/engine/data_adapter.py\u001b[0m in \u001b[0;36m__init__\u001b[0;34m(self, x, y, sample_weight, batch_size, steps_per_epoch, initial_epoch, epochs, shuffle, class_weight, max_queue_size, workers, use_multiprocessing, model, steps_per_execution, distribute)\u001b[0m\n\u001b[1;32m   1133\u001b[0m     \u001b[0;32melse\u001b[0m\u001b[0;34m:\u001b[0m\u001b[0;34m\u001b[0m\u001b[0;34m\u001b[0m\u001b[0m\n\u001b[1;32m   1134\u001b[0m       \u001b[0mself\u001b[0m\u001b[0;34m.\u001b[0m\u001b[0m_steps_per_execution\u001b[0m \u001b[0;34m=\u001b[0m \u001b[0msteps_per_execution\u001b[0m\u001b[0;34m\u001b[0m\u001b[0;34m\u001b[0m\u001b[0m\n\u001b[0;32m-> 1135\u001b[0;31m       \u001b[0mself\u001b[0m\u001b[0;34m.\u001b[0m\u001b[0m_steps_per_execution_value\u001b[0m \u001b[0;34m=\u001b[0m \u001b[0msteps_per_execution\u001b[0m\u001b[0;34m.\u001b[0m\u001b[0mnumpy\u001b[0m\u001b[0;34m(\u001b[0m\u001b[0;34m)\u001b[0m\u001b[0;34m.\u001b[0m\u001b[0mitem\u001b[0m\u001b[0;34m(\u001b[0m\u001b[0;34m)\u001b[0m\u001b[0;34m\u001b[0m\u001b[0;34m\u001b[0m\u001b[0m\n\u001b[0m\u001b[1;32m   1136\u001b[0m \u001b[0;34m\u001b[0m\u001b[0m\n\u001b[1;32m   1137\u001b[0m     \u001b[0madapter_cls\u001b[0m \u001b[0;34m=\u001b[0m \u001b[0mselect_data_adapter\u001b[0m\u001b[0;34m(\u001b[0m\u001b[0mx\u001b[0m\u001b[0;34m,\u001b[0m \u001b[0my\u001b[0m\u001b[0;34m)\u001b[0m\u001b[0;34m\u001b[0m\u001b[0;34m\u001b[0m\u001b[0m\n",
      "\u001b[0;32m/usr/local/lib/python3.8/site-packages/tensorflow/python/ops/resource_variable_ops.py\u001b[0m in \u001b[0;36mnumpy\u001b[0;34m(self)\u001b[0m\n\u001b[1;32m    627\u001b[0m   \u001b[0;32mdef\u001b[0m \u001b[0mnumpy\u001b[0m\u001b[0;34m(\u001b[0m\u001b[0mself\u001b[0m\u001b[0;34m)\u001b[0m\u001b[0;34m:\u001b[0m\u001b[0;34m\u001b[0m\u001b[0;34m\u001b[0m\u001b[0m\n\u001b[1;32m    628\u001b[0m     \u001b[0;32mif\u001b[0m \u001b[0mcontext\u001b[0m\u001b[0;34m.\u001b[0m\u001b[0mexecuting_eagerly\u001b[0m\u001b[0;34m(\u001b[0m\u001b[0;34m)\u001b[0m\u001b[0;34m:\u001b[0m\u001b[0;34m\u001b[0m\u001b[0;34m\u001b[0m\u001b[0m\n\u001b[0;32m--> 629\u001b[0;31m       \u001b[0;32mreturn\u001b[0m \u001b[0mself\u001b[0m\u001b[0;34m.\u001b[0m\u001b[0mread_value\u001b[0m\u001b[0;34m(\u001b[0m\u001b[0;34m)\u001b[0m\u001b[0;34m.\u001b[0m\u001b[0mnumpy\u001b[0m\u001b[0;34m(\u001b[0m\u001b[0;34m)\u001b[0m\u001b[0;34m\u001b[0m\u001b[0;34m\u001b[0m\u001b[0m\n\u001b[0m\u001b[1;32m    630\u001b[0m     raise NotImplementedError(\n\u001b[1;32m    631\u001b[0m         \"numpy() is only available when eager execution is enabled.\")\n",
      "\u001b[0;32m/usr/local/lib/python3.8/site-packages/tensorflow/python/framework/ops.py\u001b[0m in \u001b[0;36mnumpy\u001b[0;34m(self)\u001b[0m\n\u001b[1;32m   1092\u001b[0m     \"\"\"\n\u001b[1;32m   1093\u001b[0m     \u001b[0;31m# TODO(slebedev): Consider avoiding a copy for non-CPU or remote tensors.\u001b[0m\u001b[0;34m\u001b[0m\u001b[0;34m\u001b[0m\u001b[0;34m\u001b[0m\u001b[0m\n\u001b[0;32m-> 1094\u001b[0;31m     \u001b[0mmaybe_arr\u001b[0m \u001b[0;34m=\u001b[0m \u001b[0mself\u001b[0m\u001b[0;34m.\u001b[0m\u001b[0m_numpy\u001b[0m\u001b[0;34m(\u001b[0m\u001b[0;34m)\u001b[0m  \u001b[0;31m# pylint: disable=protected-access\u001b[0m\u001b[0;34m\u001b[0m\u001b[0;34m\u001b[0m\u001b[0m\n\u001b[0m\u001b[1;32m   1095\u001b[0m     \u001b[0;32mreturn\u001b[0m \u001b[0mmaybe_arr\u001b[0m\u001b[0;34m.\u001b[0m\u001b[0mcopy\u001b[0m\u001b[0;34m(\u001b[0m\u001b[0;34m)\u001b[0m \u001b[0;32mif\u001b[0m \u001b[0misinstance\u001b[0m\u001b[0;34m(\u001b[0m\u001b[0mmaybe_arr\u001b[0m\u001b[0;34m,\u001b[0m \u001b[0mnp\u001b[0m\u001b[0;34m.\u001b[0m\u001b[0mndarray\u001b[0m\u001b[0;34m)\u001b[0m \u001b[0;32melse\u001b[0m \u001b[0mmaybe_arr\u001b[0m\u001b[0;34m\u001b[0m\u001b[0;34m\u001b[0m\u001b[0m\n\u001b[1;32m   1096\u001b[0m \u001b[0;34m\u001b[0m\u001b[0m\n",
      "\u001b[0;32m/usr/local/lib/python3.8/site-packages/tensorflow/python/framework/ops.py\u001b[0m in \u001b[0;36m_numpy\u001b[0;34m(self)\u001b[0m\n\u001b[1;32m   1060\u001b[0m       \u001b[0;32mreturn\u001b[0m \u001b[0mself\u001b[0m\u001b[0;34m.\u001b[0m\u001b[0m_numpy_internal\u001b[0m\u001b[0;34m(\u001b[0m\u001b[0;34m)\u001b[0m\u001b[0;34m\u001b[0m\u001b[0;34m\u001b[0m\u001b[0m\n\u001b[1;32m   1061\u001b[0m     \u001b[0;32mexcept\u001b[0m \u001b[0mcore\u001b[0m\u001b[0;34m.\u001b[0m\u001b[0m_NotOkStatusException\u001b[0m \u001b[0;32mas\u001b[0m \u001b[0me\u001b[0m\u001b[0;34m:\u001b[0m  \u001b[0;31m# pylint: disable=protected-access\u001b[0m\u001b[0;34m\u001b[0m\u001b[0;34m\u001b[0m\u001b[0m\n\u001b[0;32m-> 1062\u001b[0;31m       \u001b[0msix\u001b[0m\u001b[0;34m.\u001b[0m\u001b[0mraise_from\u001b[0m\u001b[0;34m(\u001b[0m\u001b[0mcore\u001b[0m\u001b[0;34m.\u001b[0m\u001b[0m_status_to_exception\u001b[0m\u001b[0;34m(\u001b[0m\u001b[0me\u001b[0m\u001b[0;34m.\u001b[0m\u001b[0mcode\u001b[0m\u001b[0;34m,\u001b[0m \u001b[0me\u001b[0m\u001b[0;34m.\u001b[0m\u001b[0mmessage\u001b[0m\u001b[0;34m)\u001b[0m\u001b[0;34m,\u001b[0m \u001b[0;32mNone\u001b[0m\u001b[0;34m)\u001b[0m  \u001b[0;31m# pylint: disable=protected-access\u001b[0m\u001b[0;34m\u001b[0m\u001b[0;34m\u001b[0m\u001b[0m\n\u001b[0m\u001b[1;32m   1063\u001b[0m \u001b[0;34m\u001b[0m\u001b[0m\n\u001b[1;32m   1064\u001b[0m   \u001b[0;34m@\u001b[0m\u001b[0mproperty\u001b[0m\u001b[0;34m\u001b[0m\u001b[0;34m\u001b[0m\u001b[0m\n",
      "\u001b[0;32m/usr/local/lib/python3.8/site-packages/six.py\u001b[0m in \u001b[0;36mraise_from\u001b[0;34m(value, from_value)\u001b[0m\n",
      "\u001b[0;31mInternalError\u001b[0m: stream did not block host until done; was already in an error state"
     ]
    }
   ],
   "source": [
    "model.fit(temp, temp_y, batch_size = 4, verbose = 1)"
   ]
  },
  {
   "cell_type": "code",
   "execution_count": null,
   "id": "f976210d-4cbc-4ae6-b0ba-fc30a5fc0820",
   "metadata": {},
   "outputs": [],
   "source": []
  },
  {
   "cell_type": "code",
   "execution_count": null,
   "id": "5ff4311a-96ee-449a-801d-6fbfd89a8d56",
   "metadata": {},
   "outputs": [],
   "source": []
  },
  {
   "cell_type": "code",
   "execution_count": null,
   "id": "4bdd8c1e-b2aa-4113-8f55-b139f8727520",
   "metadata": {},
   "outputs": [],
   "source": []
  },
  {
   "cell_type": "code",
   "execution_count": null,
   "id": "34c3dfbe-a07e-49e4-bce1-9ef017d26cd1",
   "metadata": {},
   "outputs": [],
   "source": []
  },
  {
   "cell_type": "code",
   "execution_count": null,
   "id": "6235887a-3b4c-41e9-8d7c-e4fb6ec0ffdd",
   "metadata": {},
   "outputs": [],
   "source": []
  },
  {
   "cell_type": "code",
   "execution_count": null,
   "id": "0a5e0573-4769-4c72-9d8d-f3e661b86f95",
   "metadata": {},
   "outputs": [],
   "source": []
  },
  {
   "cell_type": "code",
   "execution_count": null,
   "id": "b1c6774e-10fb-4af3-a6cd-52804be69e09",
   "metadata": {},
   "outputs": [],
   "source": []
  },
  {
   "cell_type": "code",
   "execution_count": null,
   "id": "4e95166f-7e56-4809-ae18-4255a1182188",
   "metadata": {},
   "outputs": [],
   "source": []
  },
  {
   "cell_type": "code",
   "execution_count": null,
   "id": "8485c6a4-26c9-40d3-a7ce-49c35590fb4d",
   "metadata": {},
   "outputs": [],
   "source": [
    "!aws s3 cp forecast_냉장삼겹.csv s3://poc-2208-8meals/data/"
   ]
  },
  {
   "cell_type": "code",
   "execution_count": null,
   "id": "d8550776-c8d3-4cb6-80f3-925718dc0b25",
   "metadata": {},
   "outputs": [],
   "source": [
    "import boto3\n",
    "\n",
    "session = boto3.Session() \n",
    "region = session.region_name\n",
    "forecast = session.client(service_name=\"forecast\") \n",
    "forecast_query = session.client(service_name=\"forecastquery\")\n",
    "s3 = session.client(service_name=\"s3\")"
   ]
  },
  {
   "cell_type": "code",
   "execution_count": 19,
   "id": "6428c332-0a9f-4fe5-bcde-4bec1bd0ad58",
   "metadata": {},
   "outputs": [
    {
     "data": {
      "text/plain": [
       "'arn:aws:forecast:ap-northeast-2:257832939543:dataset-group/test_8meals'"
      ]
     },
     "execution_count": 19,
     "metadata": {},
     "output_type": "execute_result"
    }
   ],
   "source": [
    "datagroup_arn = forecast.list_dataset_groups()['DatasetGroups'][0]['DatasetGroupArn']\n",
    "datagroup_arn"
   ]
  },
  {
   "cell_type": "code",
   "execution_count": 20,
   "id": "d0265bd0-3126-4abb-8191-264159d15e68",
   "metadata": {},
   "outputs": [
    {
     "ename": "ParamValidationError",
     "evalue": "Parameter validation failed:\nUnknown parameter in FeaturizationConfig.Featurizations[0]: \"Transformations\", must be one of: AttributeName, FeaturizationPipeline",
     "output_type": "error",
     "traceback": [
      "\u001b[0;31m---------------------------------------------------------------------------\u001b[0m",
      "\u001b[0;31mParamValidationError\u001b[0m                      Traceback (most recent call last)",
      "\u001b[0;32m<ipython-input-20-71f671c48ca5>\u001b[0m in \u001b[0;36m<module>\u001b[0;34m\u001b[0m\n\u001b[1;32m     11\u001b[0m         'Featurizations': [\n\u001b[1;32m     12\u001b[0m             {'AttributeName': 'demand',\n\u001b[0;32m---> 13\u001b[0;31m              \"Transformations\": {\"middlefill\": \"zero\", \"backfill\": \"zero\"}}\n\u001b[0m\u001b[1;32m     14\u001b[0m         ]\n\u001b[1;32m     15\u001b[0m     }\n",
      "\u001b[0;32m/opt/conda/lib/python3.7/site-packages/botocore/client.py\u001b[0m in \u001b[0;36m_api_call\u001b[0;34m(self, *args, **kwargs)\u001b[0m\n\u001b[1;32m    510\u001b[0m                 )\n\u001b[1;32m    511\u001b[0m             \u001b[0;31m# The \"self\" in this scope is referring to the BaseClient.\u001b[0m\u001b[0;34m\u001b[0m\u001b[0;34m\u001b[0m\u001b[0;34m\u001b[0m\u001b[0m\n\u001b[0;32m--> 512\u001b[0;31m             \u001b[0;32mreturn\u001b[0m \u001b[0mself\u001b[0m\u001b[0;34m.\u001b[0m\u001b[0m_make_api_call\u001b[0m\u001b[0;34m(\u001b[0m\u001b[0moperation_name\u001b[0m\u001b[0;34m,\u001b[0m \u001b[0mkwargs\u001b[0m\u001b[0;34m)\u001b[0m\u001b[0;34m\u001b[0m\u001b[0;34m\u001b[0m\u001b[0m\n\u001b[0m\u001b[1;32m    513\u001b[0m \u001b[0;34m\u001b[0m\u001b[0m\n\u001b[1;32m    514\u001b[0m         \u001b[0m_api_call\u001b[0m\u001b[0;34m.\u001b[0m\u001b[0m__name__\u001b[0m \u001b[0;34m=\u001b[0m \u001b[0mstr\u001b[0m\u001b[0;34m(\u001b[0m\u001b[0mpy_operation_name\u001b[0m\u001b[0;34m)\u001b[0m\u001b[0;34m\u001b[0m\u001b[0;34m\u001b[0m\u001b[0m\n",
      "\u001b[0;32m/opt/conda/lib/python3.7/site-packages/botocore/client.py\u001b[0m in \u001b[0;36m_make_api_call\u001b[0;34m(self, operation_name, api_params)\u001b[0m\n\u001b[1;32m    881\u001b[0m         }\n\u001b[1;32m    882\u001b[0m         request_dict = self._convert_to_request_dict(\n\u001b[0;32m--> 883\u001b[0;31m             \u001b[0mapi_params\u001b[0m\u001b[0;34m,\u001b[0m \u001b[0moperation_model\u001b[0m\u001b[0;34m,\u001b[0m \u001b[0mcontext\u001b[0m\u001b[0;34m=\u001b[0m\u001b[0mrequest_context\u001b[0m\u001b[0;34m\u001b[0m\u001b[0;34m\u001b[0m\u001b[0m\n\u001b[0m\u001b[1;32m    884\u001b[0m         )\n\u001b[1;32m    885\u001b[0m         \u001b[0mresolve_checksum_context\u001b[0m\u001b[0;34m(\u001b[0m\u001b[0mrequest_dict\u001b[0m\u001b[0;34m,\u001b[0m \u001b[0moperation_model\u001b[0m\u001b[0;34m,\u001b[0m \u001b[0mapi_params\u001b[0m\u001b[0;34m)\u001b[0m\u001b[0;34m\u001b[0m\u001b[0;34m\u001b[0m\u001b[0m\n",
      "\u001b[0;32m/opt/conda/lib/python3.7/site-packages/botocore/client.py\u001b[0m in \u001b[0;36m_convert_to_request_dict\u001b[0;34m(self, api_params, operation_model, context)\u001b[0m\n\u001b[1;32m    942\u001b[0m         )\n\u001b[1;32m    943\u001b[0m         request_dict = self._serializer.serialize_to_request(\n\u001b[0;32m--> 944\u001b[0;31m             \u001b[0mapi_params\u001b[0m\u001b[0;34m,\u001b[0m \u001b[0moperation_model\u001b[0m\u001b[0;34m\u001b[0m\u001b[0;34m\u001b[0m\u001b[0m\n\u001b[0m\u001b[1;32m    945\u001b[0m         )\n\u001b[1;32m    946\u001b[0m         \u001b[0;32mif\u001b[0m \u001b[0;32mnot\u001b[0m \u001b[0mself\u001b[0m\u001b[0;34m.\u001b[0m\u001b[0m_client_config\u001b[0m\u001b[0;34m.\u001b[0m\u001b[0minject_host_prefix\u001b[0m\u001b[0;34m:\u001b[0m\u001b[0;34m\u001b[0m\u001b[0;34m\u001b[0m\u001b[0m\n",
      "\u001b[0;32m/opt/conda/lib/python3.7/site-packages/botocore/validate.py\u001b[0m in \u001b[0;36mserialize_to_request\u001b[0;34m(self, parameters, operation_model)\u001b[0m\n\u001b[1;32m    379\u001b[0m             )\n\u001b[1;32m    380\u001b[0m             \u001b[0;32mif\u001b[0m \u001b[0mreport\u001b[0m\u001b[0;34m.\u001b[0m\u001b[0mhas_errors\u001b[0m\u001b[0;34m(\u001b[0m\u001b[0;34m)\u001b[0m\u001b[0;34m:\u001b[0m\u001b[0;34m\u001b[0m\u001b[0;34m\u001b[0m\u001b[0m\n\u001b[0;32m--> 381\u001b[0;31m                 \u001b[0;32mraise\u001b[0m \u001b[0mParamValidationError\u001b[0m\u001b[0;34m(\u001b[0m\u001b[0mreport\u001b[0m\u001b[0;34m=\u001b[0m\u001b[0mreport\u001b[0m\u001b[0;34m.\u001b[0m\u001b[0mgenerate_report\u001b[0m\u001b[0;34m(\u001b[0m\u001b[0;34m)\u001b[0m\u001b[0;34m)\u001b[0m\u001b[0;34m\u001b[0m\u001b[0;34m\u001b[0m\u001b[0m\n\u001b[0m\u001b[1;32m    382\u001b[0m         return self._serializer.serialize_to_request(\n\u001b[1;32m    383\u001b[0m             \u001b[0mparameters\u001b[0m\u001b[0;34m,\u001b[0m \u001b[0moperation_model\u001b[0m\u001b[0;34m\u001b[0m\u001b[0;34m\u001b[0m\u001b[0m\n",
      "\u001b[0;31mParamValidationError\u001b[0m: Parameter validation failed:\nUnknown parameter in FeaturizationConfig.Featurizations[0]: \"Transformations\", must be one of: AttributeName, FeaturizationPipeline"
     ]
    }
   ],
   "source": [
    "forecast.create_predictor(\n",
    "    PredictorName='release_67_CNNQR',\n",
    "    AlgorithmArn='arn:aws:forecast:::algorithm/CNN-QR',\n",
    "    ForecastHorizon=13,\n",
    "    InputDataConfig={\n",
    "        'DatasetGroupArn': datagroup_arn,\n",
    "        'SupplementaryFeatures': [{'Name': 'holiday', 'Value': 'KR'}],\n",
    "    },\n",
    "    FeaturizationConfig={\n",
    "        'ForecastFrequency': 'D',\n",
    "        'Featurizations': [\n",
    "            {'AttributeName': 'demand'}\n",
    "        ]\n",
    "    }\n",
    ")"
   ]
  },
  {
   "cell_type": "code",
   "execution_count": null,
   "id": "319cd87d-671d-4794-9ef0-31b767dd3007",
   "metadata": {},
   "outputs": [],
   "source": []
  }
 ],
 "metadata": {
  "instance_type": "ml.g4dn.xlarge",
  "kernelspec": {
   "display_name": "Python 3 (TensorFlow 2.6 Python 3.8 GPU Optimized)",
   "language": "python",
   "name": "python3__SAGEMAKER_INTERNAL__arn:aws:sagemaker:ap-northeast-2:806072073708:image/tensorflow-2.6-gpu-py38-cu112-ubuntu20.04-v1"
  },
  "language_info": {
   "codemirror_mode": {
    "name": "ipython",
    "version": 3
   },
   "file_extension": ".py",
   "mimetype": "text/x-python",
   "name": "python",
   "nbconvert_exporter": "python",
   "pygments_lexer": "ipython3",
   "version": "3.8.2"
  }
 },
 "nbformat": 4,
 "nbformat_minor": 5
}
