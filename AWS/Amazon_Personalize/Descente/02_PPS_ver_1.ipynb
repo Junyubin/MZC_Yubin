{
 "cells": [
  {
   "cell_type": "markdown",
   "id": "4c001e04-b112-44cc-9a9b-77e3533ef156",
   "metadata": {
    "tags": []
   },
   "source": [
    "# DATA Preprocessing & Personalize Test ver 1\n",
    "* 정기 일정 : 22/11/24 ~ 22/12/13\n",
    "* 작성자 : 전유빈"
   ]
  },
  {
   "cell_type": "markdown",
   "id": "4798b270-b168-4836-ae3b-578a219cef99",
   "metadata": {},
   "source": [
    "## DATA LOAD"
   ]
  },
  {
   "cell_type": "code",
   "execution_count": 16,
   "id": "464bc651-6697-43a7-82b9-ec6adbd66247",
   "metadata": {},
   "outputs": [
    {
     "name": "stderr",
     "output_type": "stream",
     "text": [
      "/opt/conda/lib/python3.7/site-packages/IPython/core/interactiveshell.py:3553: DtypeWarning: Columns (10,11) have mixed types.Specify dtype option on import or set low_memory=False.\n",
      "  exec(code_obj, self.user_global_ns, self.user_ns)\n"
     ]
    }
   ],
   "source": [
    "import pandas as pd\n",
    "import time\n",
    "import datetime\n",
    "import matplotlib.pyplot as plt\n",
    "import seaborn as sns\n",
    "import numpy as np\n",
    "\n",
    "raw_item = pd.read_csv('s3://poc-descente/raw_data/item.csv', encoding='cp949')\n",
    "raw_order = pd.read_csv('s3://poc-descente/raw_data/order.csv', encoding='cp949')\n",
    "raw_users = pd.read_csv('s3://poc-descente/raw_data/users_1125.csv', encoding='cp949')"
   ]
  },
  {
   "cell_type": "markdown",
   "id": "4195b5c0-3d88-49de-87f4-7c06ee277796",
   "metadata": {},
   "source": [
    "## Data Filtering\n",
    "#### 고객사 협의사항\n",
    "- Brand : Y (영애슬릿) 현재 운영하지 않으므로 제외\n",
    "- 인당 구매 개수 비정상 고객 ID (비회원 구매) 제외\n",
    "- PROD_CD : 첫글자 7(17년도)이하 및 TK 상품 제외\n",
    "- 가격 0 인 제품 제외\n",
    "- 상품 코드가 아닌 상품 명으로 추천"
   ]
  },
  {
   "cell_type": "code",
   "execution_count": 17,
   "id": "8a5143c9-b4db-4383-92d2-b174a3f4806a",
   "metadata": {},
   "outputs": [
    {
     "name": "stdout",
     "output_type": "stream",
     "text": [
      "(25780, 13)\n",
      "(482809, 10)\n",
      "(371863, 11)\n"
     ]
    }
   ],
   "source": [
    "## item\n",
    "item = raw_item[raw_item['ITEM_NM'] != 'TICKET'] ## TK(TICKET)상품 제외 (가격 0인 제품도 같이 제외되었음)\n",
    "item = item[item['PROD_CD'].str.split('',n = 3, expand = True)[2].isin(['0','M','N','O'])] ## 연도 정보 0, M, N, O에 해당되는 데이터만 추출\n",
    "print(item.shape)\n",
    "\n",
    "## user\n",
    "users = raw_users[raw_users['AGE'] != 2022]  ## 이상치 데이터 제외\n",
    "print(users.shape)\n",
    "\n",
    "## order\n",
    "raw_order['BRAND_CD'] = raw_order['PROD_CD'].str.split('', n=2, expand=True)[1] ## 브랜드코드 추출\n",
    "order = raw_order[raw_order['BRAND_CD']!='Y'] ## 브랜드 Y(영애슬릿) 제외\n",
    "order = order[order['USR_ID']!=raw_order['USR_ID'].value_counts().head(1).index[0]] ## 인당 구매개수 비정상 고객(비회원 구매) 제외\n",
    "order = order[order['PROD_CD'].str[:2] != 'TK'] ## TK(TICKET)상품 제외\n",
    "order = order[order['PROD_CD'] != 2800] ## 이상치 데이터 제외\n",
    "\n",
    "print(order.shape)"
   ]
  },
  {
   "cell_type": "markdown",
   "id": "adff1b37-14a6-43ac-ba5f-fd01391905e1",
   "metadata": {},
   "source": [
    "#### Personalize 요구사항\n",
    "- 1,000개 이상의 Interaction 데이터셋 (충족 완료)\n",
    "- 최소 25개의 UserID(충족 완료)\n",
    "- UserID당 최소 2개의 상호작용 필요 (필터링 진행)\n",
    "\n",
    "1) 전체 데이터셋 학습\n",
    "\n",
    "2) 추천모델 고려사항 반영\n",
    "* 인당 5번 구매 미만 고객 제외 후 진행\n",
    "* 동시 구매 된 아이템 건수 5회 미만일 경우 제외\n",
    "3) 교집합 데이터만 학습"
   ]
  },
  {
   "cell_type": "markdown",
   "id": "6137a977-738d-4b5d-bde8-2494b466fe85",
   "metadata": {},
   "source": [
    "## 기본 전처리"
   ]
  },
  {
   "cell_type": "code",
   "execution_count": 18,
   "id": "5209876e-7dfe-4da7-8713-5780907f114c",
   "metadata": {},
   "outputs": [
    {
     "name": "stderr",
     "output_type": "stream",
     "text": [
      "/opt/conda/lib/python3.7/site-packages/ipykernel_launcher.py:3: SettingWithCopyWarning: \n",
      "A value is trying to be set on a copy of a slice from a DataFrame.\n",
      "Try using .loc[row_indexer,col_indexer] = value instead\n",
      "\n",
      "See the caveats in the documentation: https://pandas.pydata.org/pandas-docs/stable/user_guide/indexing.html#returning-a-view-versus-a-copy\n",
      "  This is separate from the ipykernel package so we can avoid doing imports until\n"
     ]
    }
   ],
   "source": [
    "order['REG_DT'] = pd.to_datetime(order['REG_DT'])\n",
    "item['REG_DT'] = pd.to_datetime(item['REG_DT'])\n",
    "users['REG_DT'] = pd.to_datetime(users['REG_DT'])"
   ]
  },
  {
   "cell_type": "markdown",
   "id": "dbf60d03-bdee-46aa-94be-a07e04c8f521",
   "metadata": {
    "tags": []
   },
   "source": [
    "## 전체 데이터셋 학습 (order 데이터)"
   ]
  },
  {
   "cell_type": "code",
   "execution_count": 5,
   "id": "864668a4-133d-4015-bcc5-3436031cedac",
   "metadata": {},
   "outputs": [],
   "source": [
    "total_order = pd.DataFrame()\n",
    "\n",
    "total_order['TIMESTAMP'] = [datetime.datetime.timestamp(i) for i in order['REG_DT']]\n",
    "total_order['TIMESTAMP'] = total_order['TIMESTAMP'].astype('long')\n",
    "total_order['USER_ID'] = order['USR_ID'].astype('str')\n",
    "total_order['ITEM_ID'] = order['PROD_CD'].astype('str')\n",
    "total_order['EVENT_TYPE'] = 'Purchase'\n",
    "total_order.to_csv('s3://poc-descente/train_data/interactions/order_cd_1.csv')\n",
    "\n",
    "temp = pd.DataFrame(total_order['USER_ID'].value_counts())\n",
    "total_order_2 = total_order[total_order['USER_ID'].isin(temp[temp['USER_ID'] >= 2].index)].copy()\n",
    "total_order_2.to_csv('s3://poc-descente/train_data/interactions/order_cd_2.csv')\n",
    "\n",
    "temp = pd.DataFrame(total_order['USER_ID'].value_counts())\n",
    "total_order_5 = total_order[total_order['USER_ID'].isin(temp[temp['USER_ID'] >= 5].index)].copy()\n",
    "total_order_5.to_csv('s3://poc-descente/train_data/interactions/order_cd_5.csv')"
   ]
  },
  {
   "cell_type": "code",
   "execution_count": 6,
   "id": "2cfbc77a-bae9-43f3-bf53-9590ece3989b",
   "metadata": {},
   "outputs": [],
   "source": [
    "order = pd.merge(item[['PROD_CD','PROD_NM']], order, on = 'PROD_CD', how = 'right') ## 상품명 가져오기\n",
    "order = order[~order['PROD_NM'].isna()] ## 상품명이 매핑되지 않는 데이터 11,893건 삭제\n",
    "\n",
    "total_order = pd.DataFrame()\n",
    "\n",
    "total_order['TIMESTAMP'] = [datetime.datetime.timestamp(i) for i in order['REG_DT']]\n",
    "total_order['TIMESTAMP'] = total_order['TIMESTAMP'].astype('long')\n",
    "total_order['USER_ID'] = order['USR_ID'].astype('str')\n",
    "total_order['ITEM_ID'] = order['PROD_NM'].astype('str')\n",
    "total_order['EVENT_TYPE'] = 'Purchase'\n",
    "total_order.to_csv('s3://poc-descente/train_data/interactions/order_nm_1.csv')\n",
    "\n",
    "temp = pd.DataFrame(total_order['USER_ID'].value_counts())\n",
    "total_order_2 = total_order[total_order['USER_ID'].isin(temp[temp['USER_ID'] >= 2].index)].copy()\n",
    "total_order_2.to_csv('s3://poc-descente/train_data/interactions/order_nm_2.csv')\n",
    "\n",
    "temp = pd.DataFrame(total_order['USER_ID'].value_counts())\n",
    "total_order_5 = total_order[total_order['USER_ID'].isin(temp[temp['USER_ID'] >= 5].index)].copy()\n",
    "total_order_5.to_csv('s3://poc-descente/train_data/interactions/order_nm_5.csv')"
   ]
  },
  {
   "cell_type": "markdown",
   "id": "c122ef78-66f7-4541-a20d-8608cc2c5c94",
   "metadata": {
    "tags": []
   },
   "source": [
    "## 전체 데이터 학습 (user 데이터)"
   ]
  },
  {
   "cell_type": "code",
   "execution_count": 7,
   "id": "e0fa38f5-a7f6-4cdb-b65f-946148632ab0",
   "metadata": {},
   "outputs": [
    {
     "name": "stderr",
     "output_type": "stream",
     "text": [
      "/opt/conda/lib/python3.7/site-packages/ipykernel_launcher.py:1: SettingWithCopyWarning: \n",
      "A value is trying to be set on a copy of a slice from a DataFrame.\n",
      "Try using .loc[row_indexer,col_indexer] = value instead\n",
      "\n",
      "See the caveats in the documentation: https://pandas.pydata.org/pandas-docs/stable/user_guide/indexing.html#returning-a-view-versus-a-copy\n",
      "  \"\"\"Entry point for launching an IPython kernel.\n"
     ]
    }
   ],
   "source": [
    "users['GRADE'] = users['DST_GRADE'] + ' | ' +users['LCS_GRADE'] + ' | ' + users['UMB_GRADE'] + ' | ' +users['DSG_GRADE'] + ' | ' + users['LCG_GRADE'] + ' | ' +users['MSW_GRADE']\n",
    "total_users = users[['USR_ID', 'GENDER', 'AGE', 'GRADE']].copy()\n",
    "total_users.rename({'USR_ID' : 'USER_ID'}, axis = 1, inplace = True)\n",
    "total_users.to_csv('s3://poc-descente/train_data/users/users_1.csv')"
   ]
  },
  {
   "cell_type": "code",
   "execution_count": 8,
   "id": "b7ca5e75-3966-4770-8b05-fa697ef37a17",
   "metadata": {},
   "outputs": [],
   "source": [
    "total_users_60 = total_users[total_users['AGE'] < 60].copy()\n",
    "total_users_60.to_csv('s3://poc-descente/train_data/users/users_60.csv')"
   ]
  },
  {
   "cell_type": "markdown",
   "id": "f1a14240-7e48-4646-97f5-556e43be4ed0",
   "metadata": {},
   "source": [
    "## 전체 데이터 학습 (item 데이터)"
   ]
  },
  {
   "cell_type": "code",
   "execution_count": 19,
   "id": "8729b434-81e5-4187-a97e-185ecfc2334b",
   "metadata": {},
   "outputs": [],
   "source": [
    "item['CATEGORY_S'] = item['CATEGORY_S'].str.replace(',','|')\n",
    "item['CATEGORY_S'] = item['CATEGORY_S'].str.replace('/','|')\n",
    "item['CATEGORY_S'].fillna(\"\",inplace = True)\n",
    "item['CATEGORY_S'] = ['|'.join(list(set(i))) for i in list(item['CATEGORY_S'].str.split(\"|\"))]\n",
    "    "
   ]
  },
  {
   "cell_type": "code",
   "execution_count": 78,
   "id": "b503a22a-0585-4d21-a000-44d3b63859bc",
   "metadata": {},
   "outputs": [],
   "source": [
    "# # item['ITEM_NM'] = np.where(item['ITEM_NM'] == '신발', 'SHOES', item['ITEM_NM'])\n",
    "# item['ITEM_NM'] = np.where(item['ITEM_NM'].isin(['캐디백', '트롤리백', '보스턴백', '미니백/파우치',\n",
    "#                                                  'BACKPACK', 'TROLLY BOSTON BAG','HALF BAG',\n",
    "#                                                  'CADDYBAG', 'BOSTONBAG']), 'BAG', item['ITEM_NM'])\n",
    "# item['ITEM_NM'] = np.where(item['ITEM_NM'].isin(['캐디백', '트롤리백', '보스턴백', '미니백/파우치',\n",
    "#                                                  'BACKPACK', 'TROLLY BOSTON BAG','HALF BAG',\n",
    "#                                                  'CADDYBAG', 'BOSTONBAG']), 'BAG', item['ITEM_NM'])"
   ]
  },
  {
   "cell_type": "code",
   "execution_count": null,
   "id": "a60f0d8f-6d67-4f93-95bd-d982f60fd961",
   "metadata": {},
   "outputs": [],
   "source": []
  },
  {
   "cell_type": "code",
   "execution_count": null,
   "id": "5cce102f-fd17-4142-b4ab-750b144d4567",
   "metadata": {},
   "outputs": [],
   "source": []
  },
  {
   "cell_type": "code",
   "execution_count": null,
   "id": "51538acb-e1e5-4b4e-9c1a-0afaac79fc39",
   "metadata": {},
   "outputs": [],
   "source": []
  },
  {
   "cell_type": "markdown",
   "id": "e26ae23a-f392-4eed-8ffb-b798f7bb09cf",
   "metadata": {},
   "source": [
    "## Personalize"
   ]
  },
  {
   "cell_type": "code",
   "execution_count": 50,
   "id": "7c189dba-18a0-4c0f-878d-d6ab71f57d9b",
   "metadata": {},
   "outputs": [],
   "source": [
    "import boto3\n",
    "## 모델 총 3 + 8 = 11개\n",
    "recipeArn_lst = [ ## recommender는 HPO 없음\n",
    "    'arn:aws:personalize:::recipe/aws-ecomm-popular-items-by-purchases', ## 고객이 품목을 구매한 횟수를 기준으로 아이템 추천 (userid만 사용, itemid 사용하지 않음)\n",
    "    'arn:aws:personalize:::recipe/aws-ecomm-frequently-bought-together', ## 고객이 자주 구매하는 아이템과 셀러가 지정한 아이템 추천(userid, itemid 모두 사용)\n",
    "    'arn:aws:personalize:::recipe/aws-ecomm-recommended-for-you' ## 지정된 사용자 기반으로 항목에 대한 개인화된 추천. \n",
    "                                                                ## Amazon Personalize Personalize가 지정한 userId 기준으로 사용자가 구매한 품목을 자동으로 필터링\n",
    "                                                                ## 사용자 기반으로 개인화 된 추천 (View 데이터가 있을 경우 성능이 더 높음)\n",
    "]\n",
    "\n",
    "solution_lst = [\n",
    "    'arn:aws:personalize:::recipe/aws-user-personalization', ## 맞춤형 추천 시나리오 (Interaction, users, item 데이터 모두 사용)\n",
    "    'arn:aws:personalize:::recipe/aws-popularity-count', ## 모든 사용자의 행동 데이터 기반으로 가장 인기있는 항목 추천 (사용자와 상호작용이 가장 많은 품목) HPO 적용 불가\n",
    "    # 'arn:aws:personalize:::recipe/aws-hrnn', ## 계층적 반복 신경망으로 콘솔에서는 더이상 지원하지 않음, hrnn의 업그레이드 버전이 user-personalization\n",
    "    'arn:aws:personalize:::recipe/aws-hrnn-metadata', ## 고품질 메타데이터를 사용할 수 있을 때 비 메타데이터 모델보다 정확도가 높음\n",
    "    'arn:aws:personalize:::recipe/aws-hrnn-coldstart', ## 인기 추세를 파악하여 관련성이 적은 항목을 필터링으로 제외 (item dataset 필요)\n",
    "    'arn:aws:personalize:::recipe/aws-personalized-ranking', ## 아이템의 순위를 정하여 추천하며 비정형 텍스트 메타데이터도 사용 가능 (한국어 지원 불가)\n",
    "    'arn:aws:personalize:::recipe/aws-similar-items', ## 지정한 항목과 유사한 항목에 대한 추천\n",
    "    # 'arn:aws:personalize:::recipe/aws-sims' ## sims의 업그레이드 버전이 similar-items\n",
    "]\n",
    "client = boto3.client('personalize')"
   ]
  },
  {
   "cell_type": "code",
   "execution_count": 51,
   "id": "f315d686-3d28-4e76-a789-8e9bceef2442",
   "metadata": {},
   "outputs": [
    {
     "name": "stdout",
     "output_type": "stream",
     "text": [
      "aws-ecomm-popular-items-by-purchases\n",
      "aws-ecomm-frequently-bought-together\n",
      "aws-ecomm-recommended-for-you\n",
      "aws-user-personalization\n",
      "aws-popularity-count\n",
      "aws-hrnn-metadata\n",
      "aws-hrnn-coldstart\n",
      "An error occurred (InvalidInputException) when calling the CreateSolution operation: This recipe requires an ITEMS dataset. Please update your datasetGroup or choose another recipe.\n",
      "aws-personalized-ranking\n",
      "aws-similar-items\n"
     ]
    }
   ],
   "source": [
    "data_name = 'order_nm_5'\n",
    "base_name = f'{data_name}_recom'\n",
    "num = 0\n",
    "for model in recipeArn_lst:\n",
    "    try:\n",
    "        print(model.split('/')[-1])\n",
    "        response = client.create_recommender(\n",
    "            name=f'{base_name}_{num}',\n",
    "            datasetGroupArn=f'arn:aws:personalize:ap-northeast-2:217278714774:dataset-group/{data_name}',\n",
    "            recipeArn= model\n",
    "        )\n",
    "        num += 1\n",
    "    except Exception as e:\n",
    "        num += 1\n",
    "        print(e)\n",
    "        pass\n",
    "    \n",
    "for solution in solution_lst:\n",
    "    try:\n",
    "        print(solution.split('/')[-1])\n",
    "        if solution.split('/')[-1] == 'aws-popularity-count':\n",
    "            hpo_mode = False\n",
    "        else:\n",
    "            hpo_mode = True\n",
    "        response = client.create_solution(\n",
    "            name = f'{base_name}_{num}',\n",
    "            performHPO = hpo_mode,\n",
    "            recipeArn = solution,\n",
    "            datasetGroupArn = f'arn:aws:personalize:ap-northeast-2:217278714774:dataset-group/{data_name}')\n",
    "        \n",
    "        response = client.create_solution_version(\n",
    "            solutionArn=f'arn:aws:personalize:ap-northeast-2:217278714774:solution/{base_name}_{num}',\n",
    "            trainingMode='FULL'    \n",
    "        )\n",
    "        num += 1\n",
    "    except Exception as e:\n",
    "        print(e)\n",
    "        num += 1\n"
   ]
  },
  {
   "cell_type": "code",
   "execution_count": 57,
   "id": "111de6f8-a4e8-47f2-9e74-e942b74ca99c",
   "metadata": {},
   "outputs": [],
   "source": [
    "data = []\n",
    "model = []\n",
    "ndcg_5 = []\n",
    "ndcg_10 = []\n",
    "ndcg_25 = []\n",
    "precision_5 = []\n",
    "precision_10 = []\n",
    "precision_25 = []\n",
    "coverage = []\n",
    "\n",
    "for results in client.list_recommenders()['recommenders']:\n",
    "    response = client.describe_recommender(recommenderArn=results['recommenderArn'])\n",
    "    data.append('_'.join(results['name'].split('_')[:3]))\n",
    "    model.append(results['recipeArn'].split('/')[-1])\n",
    "    ndcg_5.append(response['recommender']['modelMetrics']['normalized_discounted_cumulative_gain_at_5'])\n",
    "    ndcg_10.append(response['recommender']['modelMetrics']['normalized_discounted_cumulative_gain_at_10'])\n",
    "    ndcg_25.append(response['recommender']['modelMetrics']['normalized_discounted_cumulative_gain_at_25'])\n",
    "    precision_5.append(response['recommender']['modelMetrics']['precision_at_5'])\n",
    "    precision_10.append(response['recommender']['modelMetrics']['precision_at_10'])\n",
    "    precision_25.append(response['recommender']['modelMetrics']['precision_at_25'])\n",
    "    coverage.append(response['recommender']['modelMetrics']['coverage'])\n",
    "    \n",
    "for results in client.list_solution_versions()['solutionVersions']:\n",
    "    try:\n",
    "        response = client.get_solution_metrics(solutionVersionArn=results['solutionVersionArn'])\n",
    "        ndcg_5.append(response['metrics']['normalized_discounted_cumulative_gain_at_5'])\n",
    "        ndcg_10.append(response['metrics']['normalized_discounted_cumulative_gain_at_10'])\n",
    "        ndcg_25.append(response['metrics']['normalized_discounted_cumulative_gain_at_25'])\n",
    "        precision_5.append(response['metrics']['precision_at_5'])\n",
    "        precision_10.append(response['metrics']['precision_at_10'])\n",
    "        precision_25.append(response['metrics']['precision_at_25'])\n",
    "        coverage.append(response['metrics']['coverage'])\n",
    "        response = client.describe_solution_version(solutionVersionArn=results['solutionVersionArn'])\n",
    "        data.append('_'.join(response['solutionVersion']['solutionVersionArn'].split('/')[-2].split('_')[:3]))\n",
    "        model.append(response['solutionVersion']['recipeArn'].split('/')[-1])       \n",
    "    except Exception as e:\n",
    "        print(results['solutionVersionArn'])\n",
    "        print(e)\n",
    "    \n",
    "for results in client.list_solution_versions(nextToken = client.list_solution_versions()['nextToken'])['solutionVersions']:\n",
    "        response = client.get_solution_metrics(solutionVersionArn=results['solutionVersionArn'])\n",
    "        ndcg_5.append(response['metrics']['normalized_discounted_cumulative_gain_at_5'])\n",
    "        ndcg_10.append(response['metrics']['normalized_discounted_cumulative_gain_at_10'])\n",
    "        ndcg_25.append(response['metrics']['normalized_discounted_cumulative_gain_at_25'])\n",
    "        precision_5.append(response['metrics']['precision_at_5'])\n",
    "        precision_10.append(response['metrics']['precision_at_10'])\n",
    "        precision_25.append(response['metrics']['precision_at_25'])\n",
    "        coverage.append(response['metrics']['coverage'])\n",
    "        response = client.describe_solution_version(solutionVersionArn=results['solutionVersionArn'])\n",
    "        data.append('_'.join(response['solutionVersion']['solutionVersionArn'].split('/')[-2].split('_')[:3]))\n",
    "        model.append(response['solutionVersion']['recipeArn'].split('/')[-1])"
   ]
  },
  {
   "cell_type": "code",
   "execution_count": 59,
   "id": "ed9d9c7e-ac28-40cf-ba64-3849fa3b9960",
   "metadata": {},
   "outputs": [],
   "source": [
    "results_df = pd.DataFrame(columns = ['data', 'model','ndcg_5','ndcg_10','ndcg_25','precision_5','precision_10','precision_25','coverage'])\n",
    "\n",
    "for i in list(results_df):\n",
    "    results_df[i] = globals()[i]"
   ]
  },
  {
   "cell_type": "code",
   "execution_count": 63,
   "id": "6f45fcf9-bc72-4576-88cb-443698be8be0",
   "metadata": {},
   "outputs": [],
   "source": [
    "results_df[results_df['data'] == 'order_nm_5'].sort_values('model').to_csv('temp.csv')"
   ]
  },
  {
   "cell_type": "code",
   "execution_count": 52,
   "id": "dedc4a89-bff0-4adb-bf90-1d86674d9541",
   "metadata": {},
   "outputs": [],
   "source": [
    "# results_df.to_csv('order_results.csv')"
   ]
  },
  {
   "cell_type": "code",
   "execution_count": null,
   "id": "0c6790e7-8732-4f92-ab39-162ac7b07362",
   "metadata": {},
   "outputs": [],
   "source": []
  },
  {
   "cell_type": "code",
   "execution_count": null,
   "id": "5f651217-7a45-4d45-b42b-d44a86addd27",
   "metadata": {},
   "outputs": [],
   "source": []
  },
  {
   "cell_type": "code",
   "execution_count": null,
   "id": "75c354d0-c3a7-409a-b47b-c03b496b5d4e",
   "metadata": {},
   "outputs": [],
   "source": []
  },
  {
   "cell_type": "code",
   "execution_count": 65,
   "id": "8e92e7d2-0572-4a73-8529-152d734c9911",
   "metadata": {},
   "outputs": [],
   "source": [
    "## 리소스 정리하기\n",
    "data_lst = client.list_dataset_groups()\n",
    "\n",
    "for data_group in data_lst['datasetGroups']:\n",
    "    try:\n",
    "        recom_lst = client.list_recommenders(datasetGroupArn = data_group['datasetGroupArn'])['recommenders']\n",
    "        for recom in recom_lst: \n",
    "            try: \n",
    "                client.stop_recommender(recommenderArn=recom['recommenderArn']) \n",
    "            except Exception as e:\n",
    "                # print(e)\n",
    "                pass\n",
    "        \n",
    "#         for recom in recom_lst: client.delete_recommender(recommenderArn=recom['recommenderArn'])     \n",
    "    except:\n",
    "        pass\n",
    "#     try:    \n",
    "#         sol_lst = client.list_solutions(datasetGroupArn = data_group['datasetGroupArn'])['solutions']\n",
    "#         for sol in sol_lst: client.delete_solution(solutionArn=sol['solutionArn'])        \n",
    "#     except:\n",
    "#         pass\n",
    "#     try:        \n",
    "#         dataset_lst = client.list_datasets(datasetGroupArn = data_group['datasetGroupArn'])['datasets']                           \n",
    "#         for dataset in dataset_lst: client.delete_dataset(datasetArn=dataset['datasetArn'])                \n",
    "#     except:\n",
    "#         pass\n",
    "#     try:\n",
    "#         client.delete_dataset_group(datasetGroupArn=data_group['datasetGroupArn'])\n",
    "#     except:\n",
    "#         pass"
   ]
  },
  {
   "cell_type": "code",
   "execution_count": null,
   "id": "43972ec7-18c7-4283-97a3-00b08cbde4c9",
   "metadata": {},
   "outputs": [],
   "source": []
  },
  {
   "cell_type": "code",
   "execution_count": null,
   "id": "2a5622bd-6f1b-43ec-b926-203583de7ae2",
   "metadata": {},
   "outputs": [],
   "source": []
  },
  {
   "cell_type": "code",
   "execution_count": null,
   "id": "8c837fda-e03d-4aa0-9633-cc0c38ca8573",
   "metadata": {},
   "outputs": [],
   "source": []
  },
  {
   "cell_type": "code",
   "execution_count": null,
   "id": "0ed9a236-de77-40b2-ae8c-75b5b6772dd7",
   "metadata": {},
   "outputs": [],
   "source": []
  }
 ],
 "metadata": {
  "instance_type": "ml.t3.medium",
  "kernelspec": {
   "display_name": "Python 3 (Data Science)",
   "language": "python",
   "name": "python3__SAGEMAKER_INTERNAL__arn:aws:sagemaker:ap-northeast-2:806072073708:image/datascience-1.0"
  },
  "language_info": {
   "codemirror_mode": {
    "name": "ipython",
    "version": 3
   },
   "file_extension": ".py",
   "mimetype": "text/x-python",
   "name": "python",
   "nbconvert_exporter": "python",
   "pygments_lexer": "ipython3",
   "version": "3.7.10"
  }
 },
 "nbformat": 4,
 "nbformat_minor": 5
}
