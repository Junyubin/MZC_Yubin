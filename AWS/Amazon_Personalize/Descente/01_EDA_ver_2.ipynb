{
 "cells": [
  {
   "cell_type": "markdown",
   "id": "4c001e04-b112-44cc-9a9b-77e3533ef156",
   "metadata": {
    "tags": []
   },
   "source": [
    "# DATA EDA\n",
    "* 정기 일정 : 22/11/14 ~ 22/11/24\n",
    "* 작성자 : 전유빈"
   ]
  },
  {
   "cell_type": "markdown",
   "id": "4798b270-b168-4836-ae3b-578a219cef99",
   "metadata": {},
   "source": [
    "## DATA LOAD"
   ]
  },
  {
   "cell_type": "markdown",
   "id": "9d54ddaf-aecb-4068-a3ad-342bfaf317a3",
   "metadata": {},
   "source": [
    "* 모든 브랜드를 통합하여 제품을 추천해줄 것인가?\n",
    "* 구매이력이 있는 상품만 사용할 것인지?\n",
    "* 아이템의 카테고리 통일 필요"
   ]
  },
  {
   "cell_type": "code",
   "execution_count": 1,
   "id": "464bc651-6697-43a7-82b9-ec6adbd66247",
   "metadata": {},
   "outputs": [
    {
     "name": "stderr",
     "output_type": "stream",
     "text": [
      "/opt/conda/lib/python3.7/site-packages/IPython/core/interactiveshell.py:3553: DtypeWarning: Columns (10,11) have mixed types.Specify dtype option on import or set low_memory=False.\n",
      "  exec(code_obj, self.user_global_ns, self.user_ns)\n"
     ]
    }
   ],
   "source": [
    "import pandas as pd\n",
    "import time\n",
    "import datetime\n",
    "import matplotlib.pyplot as plt\n",
    "import seaborn as sns\n",
    "import numpy as np\n",
    "\n",
    "raw_item = pd.read_csv('s3://poc-descente/raw_data/item.csv', encoding='cp949')\n",
    "raw_order = pd.read_csv('s3://poc-descente/raw_data/order.csv', encoding='cp949')\n",
    "raw_users = pd.read_csv('s3://poc-descente/raw_data/users_1125.csv', encoding='cp949')"
   ]
  },
  {
   "cell_type": "markdown",
   "id": "4195b5c0-3d88-49de-87f4-7c06ee277796",
   "metadata": {},
   "source": [
    "## Data Filtering\n",
    "#### 고객사 협의사항\n",
    "- Brand : Y (영애슬릿) 현재 운영하지 않으므로 제외\n",
    "- 인당 구매 개수 비정상 고객 ID (비회원 구매) 제외\n",
    "- PROD_CD : 첫글자 7(17년도)이하 및 TK 상품 제외\n",
    "- 가격 0 인 제품 제외"
   ]
  },
  {
   "cell_type": "code",
   "execution_count": null,
   "id": "8a5143c9-b4db-4383-92d2-b174a3f4806a",
   "metadata": {},
   "outputs": [
    {
     "name": "stdout",
     "output_type": "stream",
     "text": [
      "order loss rate version 1\n",
      "(378520, 11)\n",
      "(371863, 11)\n",
      "0.017586917468033425\n",
      "item loss rate version 1\n",
      "(82428, 13)\n",
      "(25780, 13)\n",
      "0.6872421992526812\n",
      "users loss rate version 1\n",
      "(482851, 10)\n",
      "(482809, 10)\n",
      "8.698335511370114e-05\n",
      "\n",
      "order loss rate version 2\n",
      "(349767, 11)\n",
      "0.0759616400718588\n",
      "item loss rate version 2\n",
      "(16641, 13)\n",
      "0.7981147182996069\n",
      "users loss rate version 2\n",
      "(124623, 10)\n",
      "0.7419017460873023\n"
     ]
    }
   ],
   "source": [
    "## order\n",
    "raw_order['BRAND_CD'] = raw_order['PROD_CD'].str.split('', n=2, expand=True)[1] ## 브랜드코드 추출\n",
    "order = raw_order[raw_order['BRAND_CD']!='Y'] ## 브랜드 Y(영애슬릿) 제외\n",
    "order = order[order['USR_ID']!=raw_order['USR_ID'].value_counts().head(1).index[0]] ## 인당 구매개수 비정상 고객(비회원 구매) 제외\n",
    "order = order[order['PROD_CD'].str[:2] != 'TK'] ## TK(TICKET)상품 제외\n",
    "order = order[order['PROD_CD'] != 2800]\n",
    "print('order loss rate version 1')\n",
    "print(raw_order.shape)\n",
    "print(order.shape)\n",
    "print(1-len(order)/len(raw_order))\n",
    "\n",
    "## item\n",
    "item = raw_item[raw_item['ITEM_NM'] != 'TICKET'] ## TK(TICKET)상품 제외 (가격 0인 제품도 같이 제외되었음)\n",
    "item = item[item['PROD_CD'].str.split('',n = 3, expand = True)[2].isin(['0','M','N','O'])] ## 연도 정보 0, M, N, O에 해당되는 데이터만 추출\n",
    "print('item loss rate version 1')\n",
    "print(raw_item.shape)\n",
    "print(item.shape)\n",
    "print(1 - len(item)/len(raw_item))\n",
    "\n",
    "## user\n",
    "users = raw_users[raw_users['AGE'] != 2022]\n",
    "print('users loss rate version 1')\n",
    "print(raw_users.shape)\n",
    "print(users.shape)\n",
    "print(1 - len(users)/len(raw_users))\n",
    "\n",
    "print(\"\")\n",
    "## 서로 포함하는 데이터만 추출\n",
    "order = order[order['USR_ID'].isin(raw_users['USR_ID'])] ## User 정보 있는 데이터만 추출\n",
    "order = order[order['PROD_CD'].isin(item['PROD_CD'])] ## User 정보 있는 데이터만 추출\n",
    "order.drop_duplicates(inplace = True)\n",
    "order.reset_index(drop = True, inplace = True)\n",
    "print('order loss rate version 2')\n",
    "print(order.shape)\n",
    "print(1-len(order)/len(raw_order))\n",
    "\n",
    "item = item[item['PROD_CD'].isin(order['PROD_CD'])]\n",
    "item.reset_index(drop = True, inplace = True)\n",
    "item.drop_duplicates(inplace = True)\n",
    "print('item loss rate version 2')\n",
    "print(item.shape)\n",
    "print(1 - len(item)/len(raw_item))\n",
    "\n",
    "users = users[users['USR_ID'].isin(order['USR_ID'])]\n",
    "users.reset_index(drop = True, inplace = True)\n",
    "users.drop_duplicates(inplace = True)\n",
    "print('users loss rate version 2')\n",
    "print(users.shape)\n",
    "print(1 - len(users)/len(raw_users))"
   ]
  },
  {
   "cell_type": "markdown",
   "id": "e1367eff-fd0d-48e5-bba7-5065703a893b",
   "metadata": {},
   "source": [
    "## Order Data"
   ]
  },
  {
   "cell_type": "code",
   "execution_count": 4,
   "id": "75a1a15e-c740-490e-b122-7a519a7fabd0",
   "metadata": {},
   "outputs": [
    {
     "name": "stdout",
     "output_type": "stream",
     "text": [
      "2021-11-01 00:00:00 ~ 2022-11-01 00:00:00\n"
     ]
    }
   ],
   "source": [
    "## 2021년 11월 1일 ~ 2022년 11월 1일 (1년치 데이터)\n",
    "order['REG_DT'] = pd.to_datetime(order['REG_DT'])\n",
    "print(f'{order[\"REG_DT\"].min()} ~ {order[\"REG_DT\"].max()}')"
   ]
  },
  {
   "cell_type": "code",
   "execution_count": 5,
   "id": "27b407e7-9abd-495a-90c9-4239105c7a59",
   "metadata": {},
   "outputs": [
    {
     "data": {
      "text/plain": [
       "ORD_NO         0\n",
       "ORD_DTL_NO     0\n",
       "USR_ID         0\n",
       "PROD_CD        0\n",
       "COLOR_CD       0\n",
       "SIZE_CD        0\n",
       "PROD_QTY       0\n",
       "PROD_PRC       0\n",
       "REG_DT         0\n",
       "ORD_CHANNEL    0\n",
       "BRAND_CD       0\n",
       "dtype: int64"
      ]
     },
     "execution_count": 5,
     "metadata": {},
     "output_type": "execute_result"
    }
   ],
   "source": [
    "## 결측치 없음\n",
    "order.isna().sum()"
   ]
  },
  {
   "cell_type": "code",
   "execution_count": 6,
   "id": "24c122ea-037d-4745-b125-605b6ec1c17a",
   "metadata": {},
   "outputs": [
    {
     "name": "stdout",
     "output_type": "stream",
     "text": [
      "인당 최대 구매 횟수 : 298\n",
      "인당 최소 구매 횟수 : 1\n",
      "인당 평균 구매 횟수 : 2.8061278521228457\n",
      "2건 이상 구매자 : 60362\n",
      "5건 이상 구매자 : 15607\n",
      "10건 이상 구매자 : 31\n",
      "100건 이상 구매자 : 31\n",
      "200건 이상 구매자 : 5\n"
     ]
    }
   ],
   "source": [
    "## USER_ID 컬럼 확인\n",
    "buy_usr = pd.DataFrame(order['USR_ID'].value_counts()).sort_values('USR_ID', ascending = False)\n",
    "print(f\"인당 최대 구매 횟수 : {buy_usr['USR_ID'].max()}\")\n",
    "print(f\"인당 최소 구매 횟수 : {buy_usr['USR_ID'].min()}\")\n",
    "print(f\"인당 평균 구매 횟수 : {buy_usr['USR_ID'].mean()}\")\n",
    "print(f\"2건 이상 구매자 : {len(buy_usr[buy_usr['USR_ID'] >= 2])}\")\n",
    "print(f\"5건 이상 구매자 : {len(buy_usr[buy_usr['USR_ID'] >= 5])}\")\n",
    "print(f\"10건 이상 구매자 : {len(buy_usr[buy_usr['USR_ID'] >= 100])}\")\n",
    "print(f\"100건 이상 구매자 : {len(buy_usr[buy_usr['USR_ID'] >= 100])}\")\n",
    "print(f\"200건 이상 구매자 : {len(buy_usr[buy_usr['USR_ID'] >= 200])}\")"
   ]
  },
  {
   "cell_type": "code",
   "execution_count": 7,
   "id": "da808e04-ae0f-4372-a85e-59efec6e8bf5",
   "metadata": {},
   "outputs": [
    {
     "name": "stdout",
     "output_type": "stream",
     "text": [
      "(349603, 11)\n",
      "(161, 11)\n",
      "(3, 11)\n"
     ]
    }
   ],
   "source": [
    "print(order[(order['PROD_QTY']<10)].shape)\n",
    "print(order[(order['PROD_QTY']>=10) &(order['PROD_QTY']<100)].shape)\n",
    "print(order[(order['PROD_QTY']>=100)].shape)"
   ]
  },
  {
   "cell_type": "code",
   "execution_count": 8,
   "id": "b1ba8fbb-e1ef-4c02-acca-653685e48d18",
   "metadata": {},
   "outputs": [
    {
     "data": {
      "text/plain": [
       "array(['여성 슬림핏 코튼 반팔티셔츠', 'DANKER (댄커)', '여성 에슬레져 멀티백',\n",
       "       '남녀공용 베이직 본딩플리스 자켓', '남녀공용 친환경 코튼 스몰로고 반팔 티셔츠',\n",
       "       '남성 프리즈런 소닉에어 러닝 반팔티셔츠', '남녀공용 스피릿 베이직캡', '스위스 스키팀 나일론 백팩',\n",
       "       'DANKER 2.0 (댄커 2.0)', '액티브 초경량 패커블 아노락', '베이직 페이크삭스', '귀달이 앵클삭스',\n",
       "       '스포츠베이직 삭스', 'GBR 트라이애슬론 사이클 슬링백 M', '트리컬러 하이삭스', '에너자이트 슈퍼',\n",
       "       '스포츠베이직 숏 삭스', '유커스텀 1.0 (라운드넥 반팔)',\n",
       "       '유커스텀 3.0 (STANDARD 소매 컬러 블록 반팔 상의)',\n",
       "       '유커스텀 3.0 (STANDARD 소매 컬러 블록 반팔 상하의 세트)', '하이퍼 슬라이드', '아이싱 나스',\n",
       "       '하이삭스', '[KPGA] 커먼 맥스 백팩', '러닝 베이직 암커버', '르플렉션 2.0',\n",
       "       '나노 피그먼트 반팔 후드 아노락', '주니어 UV 차단 우븐 아노락 자켓', '썸머 마스크',\n",
       "       '러닝 이지브리드 멀티 스카프', '워터컬러 그래픽 티셔츠', 'TOPI (토피)', '테니스 헤어밴드 아대 세트',\n",
       "       '로즈 아치 반팔티', '남성 냉감 팔토시', '스포츠베이직 스니커즈', '베이직 팔토시',\n",
       "       '유니 뒷그래픽 면 나시티', '시어서커 루즈핏 반팔 피스테', '딩키볼드'], dtype=object)"
      ]
     },
     "execution_count": 8,
     "metadata": {},
     "output_type": "execute_result"
    }
   ],
   "source": [
    "## 한번에 10개 이상 구매 고객\n",
    "item[item['PROD_CD'].isin(order[order['PROD_QTY']>10]['PROD_CD'].unique())]['PROD_NM'].unique()"
   ]
  },
  {
   "cell_type": "code",
   "execution_count": 9,
   "id": "041af1ff-afa8-4b6d-baee-289037d489c0",
   "metadata": {},
   "outputs": [
    {
     "data": {
      "text/plain": [
       "array(['GBR 트라이애슬론 사이클 슬링백 M', '[KPGA] 커먼 맥스 백팩'], dtype=object)"
      ]
     },
     "execution_count": 9,
     "metadata": {},
     "output_type": "execute_result"
    }
   ],
   "source": [
    "## 한번에 100개 이상 구매 고객\n",
    "item[item['PROD_CD'].isin(order[order['PROD_QTY']>100]['PROD_CD'].unique())]['PROD_NM'].unique()"
   ]
  },
  {
   "cell_type": "code",
   "execution_count": 11,
   "id": "d1cad63b-26eb-45b8-a01e-c643639a08a9",
   "metadata": {},
   "outputs": [
    {
     "data": {
      "image/png": "[encoded data removed]",
      "text/plain": [
       "<Figure size 800x500 with 1 Axes>"
      ]
     },
     "metadata": {},
     "output_type": "display_data"
    }
   ],
   "source": [
    "## 일자별 제품 구매 추이\n",
    "temp = pd.DataFrame(order['REG_DT'].value_counts().sort_index())\n",
    "temp.reset_index(drop = False, inplace = True)\n",
    "\n",
    "plt.figure(figsize =(8,5))\n",
    "plt.plot(temp['index'], temp['REG_DT'])\n",
    "plt.show()"
   ]
  },
  {
   "cell_type": "code",
   "execution_count": 13,
   "id": "855f472c-bafc-4a74-a323-a52b86039dae",
   "metadata": {},
   "outputs": [
    {
     "data": {
      "image/png": "[encoded data removed]",
      "text/plain": [
       "<Figure size 800x500 with 1 Axes>"
      ]
     },
     "metadata": {},
     "output_type": "display_data"
    }
   ],
   "source": [
    "plt.figure(figsize =(8,5))\n",
    "plt.hist(order['ORD_CHANNEL'])\n",
    "plt.show()"
   ]
  },
  {
   "cell_type": "markdown",
   "id": "ddf4b42b-8baa-40d4-9d4a-1b925a8c17fa",
   "metadata": {
    "tags": []
   },
   "source": [
    "## PreProcessing\n",
    "\n",
    "## 구매 횟수 1인 데이터 제거\n",
    "order = order[~order['USR_ID'].isin(buy_usr[buy_usr['USR_ID'] == 1].index)].copy()"
   ]
  },
  {
   "cell_type": "code",
   "execution_count": 15,
   "id": "14188590-9541-49ef-bee7-fcddbf3aee0e",
   "metadata": {},
   "outputs": [
    {
     "name": "stdout",
     "output_type": "stream",
     "text": [
      "\"ORD_NO\" column has 242233 unique values\n",
      "\"ORD_DTL_NO\" column has 349767 unique values\n",
      "\"USR_ID\" column has 124644 unique values\n",
      "\"PROD_CD\" column has 7583 unique values\n",
      "\"COLOR_CD\" column has 782 unique values\n",
      "\"SIZE_CD\" column has 157 unique values\n",
      "\"PROD_QTY\" column has 25 unique values\n",
      "\"PROD_PRC\" column has 524 unique values\n",
      "\"REG_DT\" column has 366 unique values\n",
      "\"ORD_CHANNEL\" column has 4 unique values\n",
      "\"BRAND_CD\" column has 6 unique values\n"
     ]
    }
   ],
   "source": [
    "for i in list(order):\n",
    "    print(f'\"{i}\" column has {order[i].nunique()} unique values')"
   ]
  },
  {
   "cell_type": "code",
   "execution_count": 17,
   "id": "9f066448-8474-4c2b-b946-b538b3df560d",
   "metadata": {},
   "outputs": [
    {
     "name": "stdout",
     "output_type": "stream",
     "text": [
      "제품당 최대 구매 횟수 : 6879\n",
      "제품당 최소 구매 횟수 : 1\n",
      "제품당 평균 구매 횟수 : 46.12514835816959\n",
      "제품당 횟수 중앙값 : 16.0\n",
      "5건 이상 구매된 제품 : 5949\n",
      "10건 이상 구매된 제품 : 831\n",
      "100건 이상 구매된 제품 : 831\n",
      "200건 이상 구매된 제품 : 350\n"
     ]
    }
   ],
   "source": [
    "buy_prod = pd.DataFrame(order['PROD_CD'].value_counts()).sort_values('PROD_CD', ascending = False)\n",
    "print(f\"제품당 최대 구매 횟수 : {buy_prod['PROD_CD'].max()}\")\n",
    "print(f\"제품당 최소 구매 횟수 : {buy_prod['PROD_CD'].min()}\")\n",
    "print(f\"제품당 평균 구매 횟수 : {buy_prod['PROD_CD'].mean()}\")\n",
    "print(f\"제품당 횟수 중앙값 : {buy_prod['PROD_CD'].median()}\")\n",
    "print(f\"5건 이상 구매된 제품 : {len(buy_prod[buy_prod['PROD_CD'] >= 5])}\")\n",
    "print(f\"10건 이상 구매된 제품 : {len(buy_prod[buy_prod['PROD_CD'] >= 100])}\")\n",
    "print(f\"100건 이상 구매된 제품 : {len(buy_prod[buy_prod['PROD_CD'] >= 100])}\")\n",
    "print(f\"200건 이상 구매된 제품 : {len(buy_prod[buy_prod['PROD_CD'] >= 200])}\")"
   ]
  },
  {
   "cell_type": "code",
   "execution_count": 19,
   "id": "9a13903a-8385-49cc-8a89-c78a5cb74215",
   "metadata": {},
   "outputs": [],
   "source": [
    "# ## 100건 이상 구매된 제품\n",
    "# print(item[item['PROD_CD'].isin(buy_prod[buy_prod['PROD_CD'] >= 100].index)]['PROD_NM'].unique(), '\\n')\n",
    "\n",
    "# ## 200건 이상 구매된 제품\n",
    "# print(item[item['PROD_CD'].isin(buy_prod[buy_prod['PROD_CD'] >= 200].index)]['PROD_NM'].unique())"
   ]
  },
  {
   "cell_type": "code",
   "execution_count": 21,
   "id": "a30d1ba8-0689-45fa-be6d-c7d63c5db3d7",
   "metadata": {},
   "outputs": [],
   "source": [
    "# ## 100건 이상 구매한 고객이 구매한 제품 (큰 특징 없음)\n",
    "# item[item['PROD_CD'].isin(order[order['USR_ID'].isin(buy_usr[buy_usr['USR_ID'] >= 100].index)]['PROD_CD'])]['PROD_NM'].value_counts().sort_values(ascending = False).head(20)\n",
    "\n",
    "# ## 200건 이상 구매한 고객이 구매한 제품 (큰 특징 없음)\n",
    "# item[item['PROD_CD'].isin(order[order['USR_ID'].isin(buy_usr[buy_usr['USR_ID'] >= 200].index)]['PROD_CD'])]['PROD_NM'].value_counts().sort_values(ascending = False).head(20)"
   ]
  },
  {
   "cell_type": "markdown",
   "id": "d564a10c-105a-4bdb-8293-bf4a4407e5c4",
   "metadata": {},
   "source": [
    "* 가격 기준을 order PROD_PRC와 item MALL_SALE_PRC중 어떤거로 봐야할까?"
   ]
  },
  {
   "cell_type": "code",
   "execution_count": 22,
   "id": "6a2dc7e3-0c8e-484f-9448-457293240dc9",
   "metadata": {},
   "outputs": [
    {
     "data": {
      "image/png": "[encoded data removed]",
      "text/plain": [
       "<Figure size 1000x300 with 1 Axes>"
      ]
     },
     "metadata": {},
     "output_type": "display_data"
    },
    {
     "data": {
      "image/png": "[encoded data removed]",
      "text/plain": [
       "<Figure size 1000x300 with 1 Axes>"
      ]
     },
     "metadata": {},
     "output_type": "display_data"
    }
   ],
   "source": [
    "## order 기준으로 다시그리기\n",
    "## 구매 된 제품 가격대(order price)\n",
    "plt.figure(figsize=(10,3))\n",
    "plt.hist(order['PROD_PRC'], bins = 20)\n",
    "plt.show()\n",
    "\n",
    "## 구매 된 제품 가격대(order price)\n",
    "plt.figure(figsize=(10,3))\n",
    "plt.hist(item['MALL_SALE_PRC'], bins = 20)\n",
    "plt.show()"
   ]
  },
  {
   "cell_type": "code",
   "execution_count": 322,
   "id": "ca5bcfcd-c381-4b23-a374-044e0e257bc0",
   "metadata": {},
   "outputs": [],
   "source": [
    "# item[item['PROD_CD'].isin(order[order['PROD_PRC'] >= 1000000]['PROD_CD'].unique())]\n",
    "# print(item[item['MALL_SALE_PRC'] >= 1000000])"
   ]
  },
  {
   "cell_type": "code",
   "execution_count": 23,
   "id": "c54f76b1-4bea-419c-bc76-08771bd6f6d5",
   "metadata": {},
   "outputs": [
    {
     "data": {
      "image/png": "[encoded data removed]",
      "text/plain": [
       "<Figure size 1000x300 with 1 Axes>"
      ]
     },
     "metadata": {},
     "output_type": "display_data"
    },
    {
     "data": {
      "image/png": "[encoded data removed]",
      "text/plain": [
       "<Figure size 1000x300 with 1 Axes>"
      ]
     },
     "metadata": {},
     "output_type": "display_data"
    }
   ],
   "source": [
    "## 100만원 이상 제품 제외\n",
    "\n",
    "## 구매 된 제품 가격대(order price)\n",
    "plt.figure(figsize=(10,3))\n",
    "plt.hist(order[order['PROD_PRC'] <500000]['PROD_PRC'], bins = 50)\n",
    "plt.show()\n",
    "\n",
    "## 구매 된 제품 가격대(order price)\n",
    "plt.figure(figsize=(10,3))\n",
    "plt.hist(item[item['MALL_SALE_PRC'] <500000]['MALL_SALE_PRC'], bins = 50)\n",
    "plt.show()"
   ]
  },
  {
   "cell_type": "code",
   "execution_count": 324,
   "id": "d9cfacf7-4f09-408e-8652-53be34900a0d",
   "metadata": {},
   "outputs": [],
   "source": [
    "## 가격대가 낮은 제품 파악 -- 양말 등의 기본 용품\n",
    "# item[item['PROD_CD'].isin(order[order['PROD_PRC'] <= 10000]['PROD_CD'].unique())]['PROD_NM'].unique()\n",
    "# item[item['MALL_SALE_PRC'] <= 10000]['CATEGORY_S'].unique()"
   ]
  },
  {
   "cell_type": "markdown",
   "id": "46e16c91-3c30-448f-8da4-948f631a472a",
   "metadata": {},
   "source": [
    "### - Order data format change"
   ]
  },
  {
   "cell_type": "code",
   "execution_count": 24,
   "id": "10bb5808-4cef-4d2c-b8a7-dd036f3c14fb",
   "metadata": {},
   "outputs": [],
   "source": [
    "order['TIMESTAMP'] = [datetime.datetime.timestamp(i) for i in order['REG_DT']]\n",
    "order['TIMESTAMP'] = order['TIMESTAMP'].astype('long')\n",
    "order['USER_ID'] = order['USR_ID'].astype('str')\n",
    "order['ITEM_ID'] = order['PROD_CD'].astype('str')\n",
    "order['EVENT_TYPE'] = 'Purchase'"
   ]
  },
  {
   "cell_type": "code",
   "execution_count": 25,
   "id": "a62f80ea-23ad-49a0-b25a-b71192a24569",
   "metadata": {},
   "outputs": [],
   "source": [
    "temp_order = order[['USER_ID','ITEM_ID','TIMESTAMP','EVENT_TYPE']].copy()"
   ]
  },
  {
   "cell_type": "markdown",
   "id": "79475c36-bd9b-487c-a6fd-96c1710c569e",
   "metadata": {
    "tags": []
   },
   "source": [
    "## User Data"
   ]
  },
  {
   "cell_type": "code",
   "execution_count": 26,
   "id": "8f0089eb-ad6d-44b1-9f3f-8839cfde74fa",
   "metadata": {},
   "outputs": [
    {
     "name": "stdout",
     "output_type": "stream",
     "text": [
      "2021-05-03 00:00:00 ~ 2022-11-01 00:00:00\n"
     ]
    }
   ],
   "source": [
    "## 2021년 5월 3일 ~ 2022년 10월 31일 (1년 반 데이터)\n",
    "users['REG_DT'] = pd.to_datetime(users['REG_DT'])\n",
    "print(f'{users[\"REG_DT\"].min()} ~ {users[\"REG_DT\"].max()}')"
   ]
  },
  {
   "cell_type": "code",
   "execution_count": 27,
   "id": "ed9c3b07-92fb-4ac3-aa6f-d7e7f7d0c3f7",
   "metadata": {},
   "outputs": [
    {
     "data": {
      "text/plain": [
       "USR_ID       0\n",
       "GENDER       0\n",
       "AGE          0\n",
       "DST_GRADE    0\n",
       "LCS_GRADE    0\n",
       "UMB_GRADE    0\n",
       "DSG_GRADE    0\n",
       "LCG_GRADE    0\n",
       "MSW_GRADE    0\n",
       "REG_DT       0\n",
       "dtype: int64"
      ]
     },
     "execution_count": 27,
     "metadata": {},
     "output_type": "execute_result"
    }
   ],
   "source": [
    "users.isna().sum()"
   ]
  },
  {
   "cell_type": "code",
   "execution_count": 28,
   "id": "c12d1211-9b26-4487-8f6c-c079b818274d",
   "metadata": {},
   "outputs": [
    {
     "name": "stdout",
     "output_type": "stream",
     "text": [
      "<class 'pandas.core.frame.DataFrame'>\n",
      "Int64Index: 124623 entries, 0 to 124622\n",
      "Data columns (total 10 columns):\n",
      " #   Column     Non-Null Count   Dtype         \n",
      "---  ------     --------------   -----         \n",
      " 0   USR_ID     124623 non-null  object        \n",
      " 1   GENDER     124623 non-null  object        \n",
      " 2   AGE        124623 non-null  int64         \n",
      " 3   DST_GRADE  124623 non-null  object        \n",
      " 4   LCS_GRADE  124623 non-null  object        \n",
      " 5   UMB_GRADE  124623 non-null  object        \n",
      " 6   DSG_GRADE  124623 non-null  object        \n",
      " 7   LCG_GRADE  124623 non-null  object        \n",
      " 8   MSW_GRADE  124623 non-null  object        \n",
      " 9   REG_DT     124623 non-null  datetime64[ns]\n",
      "dtypes: datetime64[ns](1), int64(1), object(8)\n",
      "memory usage: 10.5+ MB\n"
     ]
    }
   ],
   "source": [
    "users.info()"
   ]
  },
  {
   "cell_type": "code",
   "execution_count": 79,
   "id": "ed8e2f07-67e9-421d-91c8-e08296e905cb",
   "metadata": {},
   "outputs": [],
   "source": [
    "brand_list = [\"DST_GRADE\"\n",
    "              ,\"LCS_GRADE\",\"UMB_GRADE\",\"DSG_GRADE\",\"LCG_GRADE\",\"MSW_GRADE\"\n",
    "             ]\n",
    "grade_list = ['bronze', 'silver', 'gold', 'vip']\n",
    "temp_count = []\n",
    "temp_price = []\n",
    "temp_grade = []\n",
    "temp_brand = []\n",
    "\n",
    "for brand in brand_list:    \n",
    "    \n",
    "    for grade in grade_list:\n",
    "        # print(\"\")\n",
    "        temp_count.append(order[order[\"USR_ID\"].isin(users[users[brand] == grade].USR_ID.unique())].shape[0])\n",
    "        temp_price.append(order[order[\"USR_ID\"].isin(users[users[brand] == grade].USR_ID.unique())][\"PROD_PRC\"].sum())\n",
    "        temp_grade.append(grade)\n",
    "        temp_brand.append(brand)\n",
    "        # print(f'{brand} 브랜드 {grade} 고객 구매 횟수 : {order[order[\"USR_ID\"].isin(users[users[brand] == grade].USR_ID.unique())].shape[0]}')\n",
    "        # print(f'{brand} 브랜드 {grade} 고객 구매 가격 평균 : {order[order[\"USR_ID\"].isin(users[users[brand] == grade].USR_ID.unique())][\"PROD_PRC\"].mean()}')\n",
    "        \n",
    "temp_df = pd.DataFrame()\n",
    "temp_df['count'] = temp_count\n",
    "temp_df['price'] = temp_price\n",
    "temp_df['grade'] = temp_grade\n",
    "temp_df['brand'] = temp_brand\n",
    "\n",
    "temp_df.dropna(inplace = True)"
   ]
  },
  {
   "cell_type": "code",
   "execution_count": 80,
   "id": "9197c2b1-c382-4a90-ab8e-18cffc2bae85",
   "metadata": {},
   "outputs": [],
   "source": [
    "temp_df.to_csv('user_price_count_ver_2_sum.csv')"
   ]
  },
  {
   "cell_type": "code",
   "execution_count": 37,
   "id": "3ca3d6ae-9c34-487c-bb6f-4242675228c8",
   "metadata": {},
   "outputs": [
    {
     "name": "stdout",
     "output_type": "stream",
     "text": [
      "DST_GRADE\n"
     ]
    },
    {
     "data": {
      "image/png": "[encoded data removed]",
      "text/plain": [
       "<Figure size 200x300 with 1 Axes>"
      ]
     },
     "metadata": {},
     "output_type": "display_data"
    },
    {
     "name": "stdin",
     "output_type": "stream",
     "text": [
      " \n"
     ]
    },
    {
     "name": "stdout",
     "output_type": "stream",
     "text": [
      "LCS_GRADE\n"
     ]
    },
    {
     "data": {
      "image/png": "[encoded data removed]",
      "text/plain": [
       "<Figure size 200x300 with 1 Axes>"
      ]
     },
     "metadata": {},
     "output_type": "display_data"
    },
    {
     "name": "stdin",
     "output_type": "stream",
     "text": [
      " \n"
     ]
    },
    {
     "name": "stdout",
     "output_type": "stream",
     "text": [
      "UMB_GRADE\n"
     ]
    },
    {
     "data": {
      "image/png": "[encoded data removed]",
      "text/plain": [
       "<Figure size 200x300 with 1 Axes>"
      ]
     },
     "metadata": {},
     "output_type": "display_data"
    },
    {
     "name": "stdin",
     "output_type": "stream",
     "text": [
      " \n"
     ]
    },
    {
     "name": "stdout",
     "output_type": "stream",
     "text": [
      "DSG_GRADE\n"
     ]
    },
    {
     "data": {
      "image/png": "[encoded data removed]",
      "text/plain": [
       "<Figure size 200x300 with 1 Axes>"
      ]
     },
     "metadata": {},
     "output_type": "display_data"
    },
    {
     "name": "stdin",
     "output_type": "stream",
     "text": [
      " \n"
     ]
    },
    {
     "name": "stdout",
     "output_type": "stream",
     "text": [
      "LCG_GRADE\n"
     ]
    },
    {
     "data": {
      "image/png": "[encoded data removed]",
      "text/plain": [
       "<Figure size 200x300 with 1 Axes>"
      ]
     },
     "metadata": {},
     "output_type": "display_data"
    },
    {
     "name": "stdin",
     "output_type": "stream",
     "text": [
      " \n"
     ]
    },
    {
     "name": "stdout",
     "output_type": "stream",
     "text": [
      "MSW_GRADE\n"
     ]
    },
    {
     "data": {
      "image/png": "[encoded data removed]",
      "text/plain": [
       "<Figure size 200x300 with 1 Axes>"
      ]
     },
     "metadata": {},
     "output_type": "display_data"
    },
    {
     "name": "stdin",
     "output_type": "stream",
     "text": [
      " \n"
     ]
    }
   ],
   "source": [
    "for i in [\"DST_GRADE\",\"LCS_GRADE\",\"UMB_GRADE\",\"DSG_GRADE\",\"LCG_GRADE\",\"MSW_GRADE\"]:\n",
    "    print(i)\n",
    "    plt.figure(figsize =(2,3))\n",
    "    plt.bar(users[i].value_counts().index, users[i].value_counts(),  width = 0.5)\n",
    "    # plt.ylim(0,5000)\n",
    "    plt.show()\n",
    "    input()"
   ]
  },
  {
   "cell_type": "code",
   "execution_count": 38,
   "id": "c7c21a4d-05bc-4e3e-a75c-75630340d2a4",
   "metadata": {},
   "outputs": [
    {
     "data": {
      "text/plain": [
       "U    131607\n",
       "S    101791\n",
       "Q     66633\n",
       "D     26100\n",
       "G     14761\n",
       "M      8875\n",
       "Name: BRAND_CD, dtype: int64"
      ]
     },
     "execution_count": 38,
     "metadata": {},
     "output_type": "execute_result"
    }
   ],
   "source": [
    "order['BRAND_CD'].value_counts()"
   ]
  },
  {
   "cell_type": "code",
   "execution_count": 51,
   "id": "0280d92c-104b-4c9a-b059-f6be86affb83",
   "metadata": {},
   "outputs": [
    {
     "data": {
      "text/html": [
       "<div>\n",
       "<style scoped>\n",
       "    .dataframe tbody tr th:only-of-type {\n",
       "        vertical-align: middle;\n",
       "    }\n",
       "\n",
       "    .dataframe tbody tr th {\n",
       "        vertical-align: top;\n",
       "    }\n",
       "\n",
       "    .dataframe thead th {\n",
       "        text-align: right;\n",
       "    }\n",
       "</style>\n",
       "<table border=\"1\" class=\"dataframe\">\n",
       "  <thead>\n",
       "    <tr style=\"text-align: right;\">\n",
       "      <th></th>\n",
       "      <th>index</th>\n",
       "      <th>REG_DT</th>\n",
       "    </tr>\n",
       "  </thead>\n",
       "  <tbody>\n",
       "    <tr>\n",
       "      <th>182</th>\n",
       "      <td>2021-11-02</td>\n",
       "      <td>460</td>\n",
       "    </tr>\n",
       "    <tr>\n",
       "      <th>181</th>\n",
       "      <td>2021-11-01</td>\n",
       "      <td>380</td>\n",
       "    </tr>\n",
       "    <tr>\n",
       "      <th>393</th>\n",
       "      <td>2022-06-01</td>\n",
       "      <td>363</td>\n",
       "    </tr>\n",
       "    <tr>\n",
       "      <th>413</th>\n",
       "      <td>2022-06-21</td>\n",
       "      <td>322</td>\n",
       "    </tr>\n",
       "    <tr>\n",
       "      <th>183</th>\n",
       "      <td>2021-11-03</td>\n",
       "      <td>322</td>\n",
       "    </tr>\n",
       "    <tr>\n",
       "      <th>407</th>\n",
       "      <td>2022-06-15</td>\n",
       "      <td>305</td>\n",
       "    </tr>\n",
       "    <tr>\n",
       "      <th>362</th>\n",
       "      <td>2022-05-01</td>\n",
       "      <td>304</td>\n",
       "    </tr>\n",
       "    <tr>\n",
       "      <th>364</th>\n",
       "      <td>2022-05-03</td>\n",
       "      <td>300</td>\n",
       "    </tr>\n",
       "    <tr>\n",
       "      <th>408</th>\n",
       "      <td>2022-06-16</td>\n",
       "      <td>298</td>\n",
       "    </tr>\n",
       "    <tr>\n",
       "      <th>187</th>\n",
       "      <td>2021-11-07</td>\n",
       "      <td>297</td>\n",
       "    </tr>\n",
       "  </tbody>\n",
       "</table>\n",
       "</div>"
      ],
      "text/plain": [
       "         index  REG_DT\n",
       "182 2021-11-02     460\n",
       "181 2021-11-01     380\n",
       "393 2022-06-01     363\n",
       "413 2022-06-21     322\n",
       "183 2021-11-03     322\n",
       "407 2022-06-15     305\n",
       "362 2022-05-01     304\n",
       "364 2022-05-03     300\n",
       "408 2022-06-16     298\n",
       "187 2021-11-07     297"
      ]
     },
     "execution_count": 51,
     "metadata": {},
     "output_type": "execute_result"
    }
   ],
   "source": [
    "temp.sort_values('REG_DT', ascending = False).head(10)"
   ]
  },
  {
   "cell_type": "code",
   "execution_count": 47,
   "id": "bfcbe729-8e3b-4b6f-8f8d-99e0d6a3a585",
   "metadata": {},
   "outputs": [
    {
     "data": {
      "image/png": "[encoded data removed]",
      "text/plain": [
       "<Figure size 800x500 with 1 Axes>"
      ]
     },
     "metadata": {},
     "output_type": "display_data"
    }
   ],
   "source": [
    "## 일자별 유저 가입자 수 추이\n",
    "temp = pd.DataFrame(users[users['REG_DT'] != '2021-05-03 00:00:00']['REG_DT'].value_counts().sort_index())\n",
    "temp.reset_index(drop = False, inplace = True)\n",
    "\n",
    "plt.figure(figsize =(8,5))\n",
    "plt.plot(temp['index'], temp['REG_DT'])\n",
    "plt.show()"
   ]
  },
  {
   "cell_type": "code",
   "execution_count": 82,
   "id": "c75e6bae-7305-41d9-8d7b-463f5049fc2a",
   "metadata": {},
   "outputs": [
    {
     "data": {
      "image/png": "[encoded data removed]",
      "text/plain": [
       "<Figure size 800x500 with 1 Axes>"
      ]
     },
     "metadata": {},
     "output_type": "display_data"
    }
   ],
   "source": [
    "## 나이별 유저 가입자 수 추이\n",
    "temp = pd.DataFrame(users['AGE'].value_counts().sort_index())\n",
    "temp.reset_index(drop = False, inplace = True)\n",
    "\n",
    "plt.figure(figsize =(8,5))\n",
    "plt.plot(temp['index'], temp['AGE'])\n",
    "plt.show()"
   ]
  },
  {
   "cell_type": "code",
   "execution_count": 85,
   "id": "72adea91-5749-4f40-9947-9270cb6a3fbe",
   "metadata": {},
   "outputs": [
    {
     "data": {
      "text/plain": [
       "113"
      ]
     },
     "execution_count": 85,
     "metadata": {},
     "output_type": "execute_result"
    }
   ],
   "source": [
    "users['AGE'].max()"
   ]
  },
  {
   "cell_type": "code",
   "execution_count": 83,
   "id": "1e09df90-2414-4810-a6cd-fcce9fff1253",
   "metadata": {},
   "outputs": [
    {
     "data": {
      "text/html": [
       "<div>\n",
       "<style scoped>\n",
       "    .dataframe tbody tr th:only-of-type {\n",
       "        vertical-align: middle;\n",
       "    }\n",
       "\n",
       "    .dataframe tbody tr th {\n",
       "        vertical-align: top;\n",
       "    }\n",
       "\n",
       "    .dataframe thead th {\n",
       "        text-align: right;\n",
       "    }\n",
       "</style>\n",
       "<table border=\"1\" class=\"dataframe\">\n",
       "  <thead>\n",
       "    <tr style=\"text-align: right;\">\n",
       "      <th></th>\n",
       "      <th>USR_ID</th>\n",
       "      <th>GENDER</th>\n",
       "      <th>AGE</th>\n",
       "      <th>DST_GRADE</th>\n",
       "      <th>LCS_GRADE</th>\n",
       "      <th>UMB_GRADE</th>\n",
       "      <th>DSG_GRADE</th>\n",
       "      <th>LCG_GRADE</th>\n",
       "      <th>MSW_GRADE</th>\n",
       "      <th>REG_DT</th>\n",
       "    </tr>\n",
       "  </thead>\n",
       "  <tbody>\n",
       "    <tr>\n",
       "      <th>36</th>\n",
       "      <td>+eQ7ptvJvbNGYjzeYZKACw==</td>\n",
       "      <td>M</td>\n",
       "      <td>60</td>\n",
       "      <td>bronze</td>\n",
       "      <td>bronze</td>\n",
       "      <td>bronze</td>\n",
       "      <td>bronze</td>\n",
       "      <td>bronze</td>\n",
       "      <td>bronze</td>\n",
       "      <td>2021-05-04</td>\n",
       "    </tr>\n",
       "    <tr>\n",
       "      <th>62</th>\n",
       "      <td>+E2NaiuDrMG65pSYGXfUBw==</td>\n",
       "      <td>W</td>\n",
       "      <td>73</td>\n",
       "      <td>bronze</td>\n",
       "      <td>bronze</td>\n",
       "      <td>bronze</td>\n",
       "      <td>bronze</td>\n",
       "      <td>bronze</td>\n",
       "      <td>bronze</td>\n",
       "      <td>2021-05-04</td>\n",
       "    </tr>\n",
       "    <tr>\n",
       "      <th>105</th>\n",
       "      <td>XdUdSzt+T2a/s5Si6reSLQ==</td>\n",
       "      <td>W</td>\n",
       "      <td>69</td>\n",
       "      <td>bronze</td>\n",
       "      <td>bronze</td>\n",
       "      <td>bronze</td>\n",
       "      <td>bronze</td>\n",
       "      <td>bronze</td>\n",
       "      <td>bronze</td>\n",
       "      <td>2021-05-03</td>\n",
       "    </tr>\n",
       "    <tr>\n",
       "      <th>182</th>\n",
       "      <td>Nex9UK+SWofqWewYHC1frQ==</td>\n",
       "      <td>M</td>\n",
       "      <td>66</td>\n",
       "      <td>bronze</td>\n",
       "      <td>bronze</td>\n",
       "      <td>bronze</td>\n",
       "      <td>bronze</td>\n",
       "      <td>bronze</td>\n",
       "      <td>silver</td>\n",
       "      <td>2021-05-05</td>\n",
       "    </tr>\n",
       "    <tr>\n",
       "      <th>251</th>\n",
       "      <td>m0G2U3+k1ZusxGcxlVlgfQ==</td>\n",
       "      <td>W</td>\n",
       "      <td>67</td>\n",
       "      <td>bronze</td>\n",
       "      <td>bronze</td>\n",
       "      <td>bronze</td>\n",
       "      <td>bronze</td>\n",
       "      <td>bronze</td>\n",
       "      <td>bronze</td>\n",
       "      <td>2021-05-03</td>\n",
       "    </tr>\n",
       "    <tr>\n",
       "      <th>...</th>\n",
       "      <td>...</td>\n",
       "      <td>...</td>\n",
       "      <td>...</td>\n",
       "      <td>...</td>\n",
       "      <td>...</td>\n",
       "      <td>...</td>\n",
       "      <td>...</td>\n",
       "      <td>...</td>\n",
       "      <td>...</td>\n",
       "      <td>...</td>\n",
       "    </tr>\n",
       "    <tr>\n",
       "      <th>124455</th>\n",
       "      <td>SoUXtRuvAR/1gOQM8PE1Rg==</td>\n",
       "      <td>W</td>\n",
       "      <td>60</td>\n",
       "      <td>bronze</td>\n",
       "      <td>bronze</td>\n",
       "      <td>bronze</td>\n",
       "      <td>bronze</td>\n",
       "      <td>bronze</td>\n",
       "      <td>bronze</td>\n",
       "      <td>2022-10-30</td>\n",
       "    </tr>\n",
       "    <tr>\n",
       "      <th>124456</th>\n",
       "      <td>xZUmHoU+ftjLjnbuM9Wisw==</td>\n",
       "      <td>W</td>\n",
       "      <td>66</td>\n",
       "      <td>bronze</td>\n",
       "      <td>bronze</td>\n",
       "      <td>bronze</td>\n",
       "      <td>bronze</td>\n",
       "      <td>bronze</td>\n",
       "      <td>bronze</td>\n",
       "      <td>2022-10-30</td>\n",
       "    </tr>\n",
       "    <tr>\n",
       "      <th>124466</th>\n",
       "      <td>oTczUR2icwLtFIALrdLKBg==</td>\n",
       "      <td>M</td>\n",
       "      <td>62</td>\n",
       "      <td>bronze</td>\n",
       "      <td>bronze</td>\n",
       "      <td>bronze</td>\n",
       "      <td>bronze</td>\n",
       "      <td>bronze</td>\n",
       "      <td>bronze</td>\n",
       "      <td>2022-10-30</td>\n",
       "    </tr>\n",
       "    <tr>\n",
       "      <th>124477</th>\n",
       "      <td>Gd1BWMLqJffWCK4efpA11Q==</td>\n",
       "      <td>M</td>\n",
       "      <td>66</td>\n",
       "      <td>bronze</td>\n",
       "      <td>bronze</td>\n",
       "      <td>bronze</td>\n",
       "      <td>bronze</td>\n",
       "      <td>bronze</td>\n",
       "      <td>bronze</td>\n",
       "      <td>2022-10-30</td>\n",
       "    </tr>\n",
       "    <tr>\n",
       "      <th>124596</th>\n",
       "      <td>Dii9p3fG+f+h2NKEqfm/Xg==</td>\n",
       "      <td>W</td>\n",
       "      <td>63</td>\n",
       "      <td>bronze</td>\n",
       "      <td>bronze</td>\n",
       "      <td>bronze</td>\n",
       "      <td>bronze</td>\n",
       "      <td>bronze</td>\n",
       "      <td>bronze</td>\n",
       "      <td>2022-10-31</td>\n",
       "    </tr>\n",
       "  </tbody>\n",
       "</table>\n",
       "<p>2739 rows × 10 columns</p>\n",
       "</div>"
      ],
      "text/plain": [
       "                          USR_ID GENDER  AGE DST_GRADE LCS_GRADE UMB_GRADE  \\\n",
       "36      +eQ7ptvJvbNGYjzeYZKACw==      M   60    bronze    bronze    bronze   \n",
       "62      +E2NaiuDrMG65pSYGXfUBw==      W   73    bronze    bronze    bronze   \n",
       "105     XdUdSzt+T2a/s5Si6reSLQ==      W   69    bronze    bronze    bronze   \n",
       "182     Nex9UK+SWofqWewYHC1frQ==      M   66    bronze    bronze    bronze   \n",
       "251     m0G2U3+k1ZusxGcxlVlgfQ==      W   67    bronze    bronze    bronze   \n",
       "...                          ...    ...  ...       ...       ...       ...   \n",
       "124455  SoUXtRuvAR/1gOQM8PE1Rg==      W   60    bronze    bronze    bronze   \n",
       "124456  xZUmHoU+ftjLjnbuM9Wisw==      W   66    bronze    bronze    bronze   \n",
       "124466  oTczUR2icwLtFIALrdLKBg==      M   62    bronze    bronze    bronze   \n",
       "124477  Gd1BWMLqJffWCK4efpA11Q==      M   66    bronze    bronze    bronze   \n",
       "124596  Dii9p3fG+f+h2NKEqfm/Xg==      W   63    bronze    bronze    bronze   \n",
       "\n",
       "       DSG_GRADE LCG_GRADE MSW_GRADE     REG_DT  \n",
       "36        bronze    bronze    bronze 2021-05-04  \n",
       "62        bronze    bronze    bronze 2021-05-04  \n",
       "105       bronze    bronze    bronze 2021-05-03  \n",
       "182       bronze    bronze    silver 2021-05-05  \n",
       "251       bronze    bronze    bronze 2021-05-03  \n",
       "...          ...       ...       ...        ...  \n",
       "124455    bronze    bronze    bronze 2022-10-30  \n",
       "124456    bronze    bronze    bronze 2022-10-30  \n",
       "124466    bronze    bronze    bronze 2022-10-30  \n",
       "124477    bronze    bronze    bronze 2022-10-30  \n",
       "124596    bronze    bronze    bronze 2022-10-31  \n",
       "\n",
       "[2739 rows x 10 columns]"
      ]
     },
     "execution_count": 83,
     "metadata": {},
     "output_type": "execute_result"
    }
   ],
   "source": [
    "users[users['AGE'] >= 60]"
   ]
  },
  {
   "cell_type": "code",
   "execution_count": 54,
   "id": "a9a69bd9-72e9-4237-b244-0fc48c6e9c85",
   "metadata": {},
   "outputs": [
    {
     "data": {
      "image/png": "[encoded data removed]",
      "text/plain": [
       "<Figure size 800x500 with 1 Axes>"
      ]
     },
     "metadata": {},
     "output_type": "display_data"
    }
   ],
   "source": [
    "temp = pd.DataFrame(users[(users['AGE'].isin([i for i in range(30,55)])) & (users['REG_DT'] != '2021-05-03 00:00:00')]['REG_DT'].value_counts().sort_index())\n",
    "temp.reset_index(drop = False, inplace = True)\n",
    "\n",
    "plt.figure(figsize =(8,5))\n",
    "plt.plot(temp['index'], temp['REG_DT'])\n",
    "plt.show()"
   ]
  },
  {
   "cell_type": "code",
   "execution_count": 55,
   "id": "4e190998-4c8d-48b3-9573-ed594cdff6d8",
   "metadata": {},
   "outputs": [
    {
     "data": {
      "text/plain": [
       "(2739, 10)"
      ]
     },
     "execution_count": 55,
     "metadata": {},
     "output_type": "execute_result"
    }
   ],
   "source": [
    "users[users['AGE']>=60].shape"
   ]
  },
  {
   "cell_type": "code",
   "execution_count": 56,
   "id": "a554a989-521b-429e-95f3-0cb258f0c89a",
   "metadata": {},
   "outputs": [
    {
     "data": {
      "text/plain": [
       "113"
      ]
     },
     "execution_count": 56,
     "metadata": {},
     "output_type": "execute_result"
    }
   ],
   "source": [
    "users['AGE'].max()"
   ]
  },
  {
   "cell_type": "code",
   "execution_count": 57,
   "id": "8f1d79fa-ef18-4c21-b498-354ea872ff56",
   "metadata": {},
   "outputs": [
    {
     "data": {
      "text/plain": [
       "W    66545\n",
       "M    58078\n",
       "Name: GENDER, dtype: int64"
      ]
     },
     "execution_count": 57,
     "metadata": {},
     "output_type": "execute_result"
    }
   ],
   "source": [
    "users['GENDER'].value_counts()"
   ]
  },
  {
   "cell_type": "code",
   "execution_count": 58,
   "id": "00b537df-ae4d-4427-93e1-48c06548569e",
   "metadata": {},
   "outputs": [
    {
     "name": "stdout",
     "output_type": "stream",
     "text": [
      "\"USR_ID\" column has 124623 unique values\n",
      "\"GENDER\" column has 2 unique values\n",
      "\"AGE\" column has 83 unique values\n",
      "\"DST_GRADE\" column has 4 unique values\n",
      "\"LCS_GRADE\" column has 4 unique values\n",
      "\"UMB_GRADE\" column has 4 unique values\n",
      "\"DSG_GRADE\" column has 4 unique values\n",
      "\"LCG_GRADE\" column has 4 unique values\n",
      "\"MSW_GRADE\" column has 4 unique values\n",
      "\"REG_DT\" column has 548 unique values\n"
     ]
    }
   ],
   "source": [
    "for i in list(users):\n",
    "    print(f'\"{i}\" column has {users[i].nunique()} unique values')"
   ]
  },
  {
   "cell_type": "code",
   "execution_count": 59,
   "id": "f8cf55f6-53b8-43a2-955f-fab80ef075f0",
   "metadata": {},
   "outputs": [
    {
     "name": "stdout",
     "output_type": "stream",
     "text": [
      "DST_GRADE unique : ['bronze' 'silver' 'vip' 'gold']\n",
      "LCS_GRADE unique : ['bronze' 'gold' 'vip' 'silver']\n",
      "UMB_GRADE unique : ['bronze' 'vip' 'gold' 'silver']\n",
      "DSG_GRADE unique : ['bronze' 'vip' 'gold' 'silver']\n",
      "LCG_GRADE unique : ['bronze' 'silver' 'gold' 'vip']\n",
      "MSW_GRADE unique : ['bronze' 'gold' 'silver' 'vip']\n"
     ]
    }
   ],
   "source": [
    "for i in [\"DST_GRADE\",\"LCS_GRADE\",\"UMB_GRADE\",\"DSG_GRADE\",\"LCG_GRADE\",\"MSW_GRADE\"]:\n",
    "    print(f\"{i} unique : {users[i].unique()}\")"
   ]
  },
  {
   "cell_type": "markdown",
   "id": "3490b2ea-d5fb-43ce-9b9d-4cb21096c438",
   "metadata": {},
   "source": [
    "## Item Data"
   ]
  },
  {
   "cell_type": "code",
   "execution_count": 60,
   "id": "6a0ca64f-531a-4f61-8661-97a64be5ac6d",
   "metadata": {},
   "outputs": [
    {
     "name": "stdout",
     "output_type": "stream",
     "text": [
      "2019-11-11 00:00:00 ~ 2022-10-28 00:00:00\n"
     ]
    }
   ],
   "source": [
    "## 2021년 5월 3일 ~ 2022년 10월 31일 (1년 반 데이터)\n",
    "item['REG_DT'] = pd.to_datetime(item['REG_DT'])\n",
    "print(f'{item[\"REG_DT\"].min()} ~ {item[\"REG_DT\"].max()}')"
   ]
  },
  {
   "cell_type": "code",
   "execution_count": 61,
   "id": "8d0bb786-0722-41eb-a95b-5f3f258b9ebb",
   "metadata": {},
   "outputs": [
    {
     "data": {
      "text/plain": [
       "PROD_CD              0\n",
       "COLOR_CD             0\n",
       "PROD_NM              0\n",
       "COLOR_NM             0\n",
       "ITEM_NM              0\n",
       "GENDER               0\n",
       "BRND_NM              0\n",
       "MALL_SALE_PRC        0\n",
       "REG_DT               0\n",
       "CATEGORY_S         109\n",
       "TECH_NM_LIST     16025\n",
       "FIT_NM_LIST      15331\n",
       "IMG_URL              0\n",
       "dtype: int64"
      ]
     },
     "execution_count": 61,
     "metadata": {},
     "output_type": "execute_result"
    }
   ],
   "source": [
    "item.isna().sum()"
   ]
  },
  {
   "cell_type": "code",
   "execution_count": 62,
   "id": "e794e7c9-bcf1-4548-943e-367196175ef4",
   "metadata": {},
   "outputs": [],
   "source": [
    "item[item['CATEGORY_S'].isna()].to_csv('category_na.csv')"
   ]
  },
  {
   "cell_type": "code",
   "execution_count": 63,
   "id": "555eddea-cac8-4c85-8457-f484e6befae0",
   "metadata": {},
   "outputs": [
    {
     "name": "stdout",
     "output_type": "stream",
     "text": [
      "<class 'pandas.core.frame.DataFrame'>\n",
      "Int64Index: 16641 entries, 0 to 16640\n",
      "Data columns (total 13 columns):\n",
      " #   Column         Non-Null Count  Dtype         \n",
      "---  ------         --------------  -----         \n",
      " 0   PROD_CD        16641 non-null  object        \n",
      " 1   COLOR_CD       16641 non-null  object        \n",
      " 2   PROD_NM        16641 non-null  object        \n",
      " 3   COLOR_NM       16641 non-null  object        \n",
      " 4   ITEM_NM        16641 non-null  object        \n",
      " 5   GENDER         16641 non-null  object        \n",
      " 6   BRND_NM        16641 non-null  object        \n",
      " 7   MALL_SALE_PRC  16641 non-null  int64         \n",
      " 8   REG_DT         16641 non-null  datetime64[ns]\n",
      " 9   CATEGORY_S     16532 non-null  object        \n",
      " 10  TECH_NM_LIST   616 non-null    object        \n",
      " 11  FIT_NM_LIST    1310 non-null   object        \n",
      " 12  IMG_URL        16641 non-null  object        \n",
      "dtypes: datetime64[ns](1), int64(1), object(11)\n",
      "memory usage: 1.8+ MB\n"
     ]
    }
   ],
   "source": [
    "item.info()"
   ]
  },
  {
   "cell_type": "code",
   "execution_count": 64,
   "id": "1aa9a3c0-9241-458c-b26f-6e008b139cb0",
   "metadata": {},
   "outputs": [
    {
     "data": {
      "text/html": [
       "<div>\n",
       "<style scoped>\n",
       "    .dataframe tbody tr th:only-of-type {\n",
       "        vertical-align: middle;\n",
       "    }\n",
       "\n",
       "    .dataframe tbody tr th {\n",
       "        vertical-align: top;\n",
       "    }\n",
       "\n",
       "    .dataframe thead th {\n",
       "        text-align: right;\n",
       "    }\n",
       "</style>\n",
       "<table border=\"1\" class=\"dataframe\">\n",
       "  <thead>\n",
       "    <tr style=\"text-align: right;\">\n",
       "      <th></th>\n",
       "      <th>PROD_CD</th>\n",
       "      <th>COLOR_CD</th>\n",
       "      <th>PROD_NM</th>\n",
       "      <th>COLOR_NM</th>\n",
       "      <th>ITEM_NM</th>\n",
       "      <th>GENDER</th>\n",
       "      <th>BRND_NM</th>\n",
       "      <th>MALL_SALE_PRC</th>\n",
       "      <th>REG_DT</th>\n",
       "      <th>CATEGORY_S</th>\n",
       "      <th>TECH_NM_LIST</th>\n",
       "      <th>FIT_NM_LIST</th>\n",
       "      <th>IMG_URL</th>\n",
       "    </tr>\n",
       "  </thead>\n",
       "  <tbody>\n",
       "    <tr>\n",
       "      <th>7455</th>\n",
       "      <td>GM121MTS31</td>\n",
       "      <td>LVND</td>\n",
       "      <td>남성 듀얼 플렉스(DUAL FLEX) 반팔 티셔츠</td>\n",
       "      <td>Lavender</td>\n",
       "      <td>SHORTS SLEEVE T-SHIRTS</td>\n",
       "      <td>MAN</td>\n",
       "      <td>르꼬끄골프</td>\n",
       "      <td>47200</td>\n",
       "      <td>2021-01-28</td>\n",
       "      <td>긴팔/반팔티셔츠,반팔티셔츠</td>\n",
       "      <td>NaN</td>\n",
       "      <td>NaN</td>\n",
       "      <td>//images.descentekorea.co.kr/product/G/M1/GM12...</td>\n",
       "    </tr>\n",
       "    <tr>\n",
       "      <th>7456</th>\n",
       "      <td>GM121MTS31</td>\n",
       "      <td>CORA</td>\n",
       "      <td>남성 듀얼 플렉스(DUAL FLEX) 반팔 티셔츠</td>\n",
       "      <td>Coral</td>\n",
       "      <td>SHORTS SLEEVE T-SHIRTS</td>\n",
       "      <td>MAN</td>\n",
       "      <td>르꼬끄골프</td>\n",
       "      <td>47200</td>\n",
       "      <td>2021-01-28</td>\n",
       "      <td>긴팔/반팔티셔츠,반팔티셔츠</td>\n",
       "      <td>NaN</td>\n",
       "      <td>NaN</td>\n",
       "      <td>//images.descentekorea.co.kr/product/G/M1/GM12...</td>\n",
       "    </tr>\n",
       "    <tr>\n",
       "      <th>7457</th>\n",
       "      <td>GM121MTS31</td>\n",
       "      <td>WHTE</td>\n",
       "      <td>남성 듀얼 플렉스(DUAL FLEX) 반팔 티셔츠</td>\n",
       "      <td>white</td>\n",
       "      <td>SHORTS SLEEVE T-SHIRTS</td>\n",
       "      <td>MAN</td>\n",
       "      <td>르꼬끄골프</td>\n",
       "      <td>47200</td>\n",
       "      <td>2021-01-28</td>\n",
       "      <td>긴팔/반팔티셔츠,반팔티셔츠</td>\n",
       "      <td>NaN</td>\n",
       "      <td>NaN</td>\n",
       "      <td>//images.descentekorea.co.kr/product/G/M1/GM12...</td>\n",
       "    </tr>\n",
       "    <tr>\n",
       "      <th>7458</th>\n",
       "      <td>GM121MTS31</td>\n",
       "      <td>SPNK</td>\n",
       "      <td>남성 듀얼 플렉스(DUAL FLEX) 반팔 티셔츠</td>\n",
       "      <td>SPNK(PINK)</td>\n",
       "      <td>SHORTS SLEEVE T-SHIRTS</td>\n",
       "      <td>MAN</td>\n",
       "      <td>르꼬끄골프</td>\n",
       "      <td>47200</td>\n",
       "      <td>2021-01-28</td>\n",
       "      <td>긴팔/반팔티셔츠,반팔티셔츠</td>\n",
       "      <td>NaN</td>\n",
       "      <td>NaN</td>\n",
       "      <td>//images.descentekorea.co.kr/product/G/M1/GM12...</td>\n",
       "    </tr>\n",
       "    <tr>\n",
       "      <th>7459</th>\n",
       "      <td>GM121MTS31</td>\n",
       "      <td>MOSS</td>\n",
       "      <td>남성 듀얼 플렉스(DUAL FLEX) 반팔 티셔츠</td>\n",
       "      <td>MOSS</td>\n",
       "      <td>SHORTS SLEEVE T-SHIRTS</td>\n",
       "      <td>MAN</td>\n",
       "      <td>르꼬끄골프</td>\n",
       "      <td>47200</td>\n",
       "      <td>2021-01-28</td>\n",
       "      <td>긴팔/반팔티셔츠,반팔티셔츠</td>\n",
       "      <td>NaN</td>\n",
       "      <td>NaN</td>\n",
       "      <td>//images.descentekorea.co.kr/product/G/M1/GM12...</td>\n",
       "    </tr>\n",
       "    <tr>\n",
       "      <th>7460</th>\n",
       "      <td>GM121MTS31</td>\n",
       "      <td>DGRN</td>\n",
       "      <td>남성 듀얼 플렉스(DUAL FLEX) 반팔 티셔츠</td>\n",
       "      <td>D/GREEN</td>\n",
       "      <td>SHORTS SLEEVE T-SHIRTS</td>\n",
       "      <td>MAN</td>\n",
       "      <td>르꼬끄골프</td>\n",
       "      <td>47200</td>\n",
       "      <td>2021-01-28</td>\n",
       "      <td>긴팔/반팔티셔츠,반팔티셔츠</td>\n",
       "      <td>NaN</td>\n",
       "      <td>NaN</td>\n",
       "      <td>//images.descentekorea.co.kr/product/G/M1/GM12...</td>\n",
       "    </tr>\n",
       "    <tr>\n",
       "      <th>7461</th>\n",
       "      <td>GM121MTS31</td>\n",
       "      <td>BLCK</td>\n",
       "      <td>남성 듀얼 플렉스(DUAL FLEX) 반팔 티셔츠</td>\n",
       "      <td>BLCK</td>\n",
       "      <td>SHORTS SLEEVE T-SHIRTS</td>\n",
       "      <td>MAN</td>\n",
       "      <td>르꼬끄골프</td>\n",
       "      <td>47200</td>\n",
       "      <td>2021-01-28</td>\n",
       "      <td>긴팔/반팔티셔츠,반팔티셔츠</td>\n",
       "      <td>NaN</td>\n",
       "      <td>NaN</td>\n",
       "      <td>//images.descentekorea.co.kr/product/G/M1/GM12...</td>\n",
       "    </tr>\n",
       "  </tbody>\n",
       "</table>\n",
       "</div>"
      ],
      "text/plain": [
       "         PROD_CD COLOR_CD                      PROD_NM    COLOR_NM  \\\n",
       "7455  GM121MTS31     LVND  남성 듀얼 플렉스(DUAL FLEX) 반팔 티셔츠    Lavender   \n",
       "7456  GM121MTS31     CORA  남성 듀얼 플렉스(DUAL FLEX) 반팔 티셔츠       Coral   \n",
       "7457  GM121MTS31     WHTE  남성 듀얼 플렉스(DUAL FLEX) 반팔 티셔츠       white   \n",
       "7458  GM121MTS31     SPNK  남성 듀얼 플렉스(DUAL FLEX) 반팔 티셔츠  SPNK(PINK)   \n",
       "7459  GM121MTS31     MOSS  남성 듀얼 플렉스(DUAL FLEX) 반팔 티셔츠        MOSS   \n",
       "7460  GM121MTS31     DGRN  남성 듀얼 플렉스(DUAL FLEX) 반팔 티셔츠     D/GREEN   \n",
       "7461  GM121MTS31     BLCK  남성 듀얼 플렉스(DUAL FLEX) 반팔 티셔츠        BLCK   \n",
       "\n",
       "                     ITEM_NM GENDER BRND_NM  MALL_SALE_PRC     REG_DT  \\\n",
       "7455  SHORTS SLEEVE T-SHIRTS    MAN   르꼬끄골프          47200 2021-01-28   \n",
       "7456  SHORTS SLEEVE T-SHIRTS    MAN   르꼬끄골프          47200 2021-01-28   \n",
       "7457  SHORTS SLEEVE T-SHIRTS    MAN   르꼬끄골프          47200 2021-01-28   \n",
       "7458  SHORTS SLEEVE T-SHIRTS    MAN   르꼬끄골프          47200 2021-01-28   \n",
       "7459  SHORTS SLEEVE T-SHIRTS    MAN   르꼬끄골프          47200 2021-01-28   \n",
       "7460  SHORTS SLEEVE T-SHIRTS    MAN   르꼬끄골프          47200 2021-01-28   \n",
       "7461  SHORTS SLEEVE T-SHIRTS    MAN   르꼬끄골프          47200 2021-01-28   \n",
       "\n",
       "          CATEGORY_S TECH_NM_LIST FIT_NM_LIST  \\\n",
       "7455  긴팔/반팔티셔츠,반팔티셔츠          NaN         NaN   \n",
       "7456  긴팔/반팔티셔츠,반팔티셔츠          NaN         NaN   \n",
       "7457  긴팔/반팔티셔츠,반팔티셔츠          NaN         NaN   \n",
       "7458  긴팔/반팔티셔츠,반팔티셔츠          NaN         NaN   \n",
       "7459  긴팔/반팔티셔츠,반팔티셔츠          NaN         NaN   \n",
       "7460  긴팔/반팔티셔츠,반팔티셔츠          NaN         NaN   \n",
       "7461  긴팔/반팔티셔츠,반팔티셔츠          NaN         NaN   \n",
       "\n",
       "                                                IMG_URL  \n",
       "7455  //images.descentekorea.co.kr/product/G/M1/GM12...  \n",
       "7456  //images.descentekorea.co.kr/product/G/M1/GM12...  \n",
       "7457  //images.descentekorea.co.kr/product/G/M1/GM12...  \n",
       "7458  //images.descentekorea.co.kr/product/G/M1/GM12...  \n",
       "7459  //images.descentekorea.co.kr/product/G/M1/GM12...  \n",
       "7460  //images.descentekorea.co.kr/product/G/M1/GM12...  \n",
       "7461  //images.descentekorea.co.kr/product/G/M1/GM12...  "
      ]
     },
     "execution_count": 64,
     "metadata": {},
     "output_type": "execute_result"
    }
   ],
   "source": [
    "## 동일 상품코드임에도 여러개의 아이템 존재 (색상만 다름)\n",
    "item['PROD_CD'].value_counts()\n",
    "item[item['PROD_CD'] == 'GM121MTS31']"
   ]
  },
  {
   "cell_type": "code",
   "execution_count": 351,
   "id": "d1c934f5-84e5-4767-a486-58a6c65d0406",
   "metadata": {},
   "outputs": [
    {
     "data": {
      "text/html": [
       "<div>\n",
       "<style scoped>\n",
       "    .dataframe tbody tr th:only-of-type {\n",
       "        vertical-align: middle;\n",
       "    }\n",
       "\n",
       "    .dataframe tbody tr th {\n",
       "        vertical-align: top;\n",
       "    }\n",
       "\n",
       "    .dataframe thead th {\n",
       "        text-align: right;\n",
       "    }\n",
       "</style>\n",
       "<table border=\"1\" class=\"dataframe\">\n",
       "  <thead>\n",
       "    <tr style=\"text-align: right;\">\n",
       "      <th></th>\n",
       "      <th>PROD_CD</th>\n",
       "      <th>PROD_NM</th>\n",
       "    </tr>\n",
       "  </thead>\n",
       "  <tbody>\n",
       "    <tr>\n",
       "      <th>2109</th>\n",
       "      <td>UM323EMU90</td>\n",
       "      <td>SNUG (스너그)</td>\n",
       "    </tr>\n",
       "    <tr>\n",
       "      <th>8648</th>\n",
       "      <td>UN323CMU90</td>\n",
       "      <td>SNUG (스너그)</td>\n",
       "    </tr>\n",
       "    <tr>\n",
       "      <th>9313</th>\n",
       "      <td>UN223EMU40</td>\n",
       "      <td>SNUG (스너그)</td>\n",
       "    </tr>\n",
       "    <tr>\n",
       "      <th>11027</th>\n",
       "      <td>UN423CMUO2</td>\n",
       "      <td>SNUG (스너그)</td>\n",
       "    </tr>\n",
       "    <tr>\n",
       "      <th>11029</th>\n",
       "      <td>UN423CMUO1</td>\n",
       "      <td>SNUG (스너그)</td>\n",
       "    </tr>\n",
       "  </tbody>\n",
       "</table>\n",
       "</div>"
      ],
      "text/plain": [
       "          PROD_CD     PROD_NM\n",
       "2109   UM323EMU90  SNUG (스너그)\n",
       "8648   UN323CMU90  SNUG (스너그)\n",
       "9313   UN223EMU40  SNUG (스너그)\n",
       "11027  UN423CMUO2  SNUG (스너그)\n",
       "11029  UN423CMUO1  SNUG (스너그)"
      ]
     },
     "execution_count": 351,
     "metadata": {},
     "output_type": "execute_result"
    }
   ],
   "source": [
    "## 동일 제품명이지만, 카테고리, 시즌 등이 다름\n",
    "item[item['PROD_NM'] == 'SNUG (스너그)'][['PROD_CD','PROD_NM']].drop_duplicates()"
   ]
  },
  {
   "cell_type": "code",
   "execution_count": 352,
   "id": "0fbc66d7-1ad2-411c-ae5e-bfe39f411d95",
   "metadata": {},
   "outputs": [
    {
     "data": {
      "text/html": [
       "<div>\n",
       "<style scoped>\n",
       "    .dataframe tbody tr th:only-of-type {\n",
       "        vertical-align: middle;\n",
       "    }\n",
       "\n",
       "    .dataframe tbody tr th {\n",
       "        vertical-align: top;\n",
       "    }\n",
       "\n",
       "    .dataframe thead th {\n",
       "        text-align: right;\n",
       "    }\n",
       "</style>\n",
       "<table border=\"1\" class=\"dataframe\">\n",
       "  <thead>\n",
       "    <tr style=\"text-align: right;\">\n",
       "      <th></th>\n",
       "      <th>PROD_CD</th>\n",
       "      <th>COLOR_CD</th>\n",
       "      <th>PROD_NM</th>\n",
       "      <th>COLOR_NM</th>\n",
       "      <th>ITEM_NM</th>\n",
       "      <th>GENDER</th>\n",
       "      <th>BRND_NM</th>\n",
       "      <th>MALL_SALE_PRC</th>\n",
       "      <th>REG_DT</th>\n",
       "      <th>CATEGORY_S</th>\n",
       "      <th>TECH_NM_LIST</th>\n",
       "      <th>FIT_NM_LIST</th>\n",
       "      <th>IMG_URL</th>\n",
       "    </tr>\n",
       "  </thead>\n",
       "  <tbody>\n",
       "    <tr>\n",
       "      <th>1643</th>\n",
       "      <td>SM313RRN71</td>\n",
       "      <td>YLWH</td>\n",
       "      <td>에너자이트 제트 플러스</td>\n",
       "      <td>YELLOW/WHITE</td>\n",
       "      <td>RUNNING</td>\n",
       "      <td>UNISEX</td>\n",
       "      <td>데상트</td>\n",
       "      <td>101400</td>\n",
       "      <td>2021-06-10</td>\n",
       "      <td>러닝,런닝화</td>\n",
       "      <td>NaN</td>\n",
       "      <td>NaN</td>\n",
       "      <td>//images.descentekorea.co.kr/product/S/M3/SM31...</td>\n",
       "    </tr>\n",
       "    <tr>\n",
       "      <th>1644</th>\n",
       "      <td>SM313RRN71</td>\n",
       "      <td>WHT0</td>\n",
       "      <td>에너자이트 제트 플러스</td>\n",
       "      <td>WHT</td>\n",
       "      <td>RUNNING</td>\n",
       "      <td>UNISEX</td>\n",
       "      <td>데상트</td>\n",
       "      <td>101400</td>\n",
       "      <td>2021-06-10</td>\n",
       "      <td>러닝,런닝화</td>\n",
       "      <td>NaN</td>\n",
       "      <td>NaN</td>\n",
       "      <td>//images.descentekorea.co.kr/product/S/M3/SM31...</td>\n",
       "    </tr>\n",
       "    <tr>\n",
       "      <th>1645</th>\n",
       "      <td>SM313RRN71</td>\n",
       "      <td>SLBK</td>\n",
       "      <td>에너자이트 제트 플러스</td>\n",
       "      <td>SILVER / BLACK</td>\n",
       "      <td>RUNNING</td>\n",
       "      <td>UNISEX</td>\n",
       "      <td>데상트</td>\n",
       "      <td>101400</td>\n",
       "      <td>2021-06-10</td>\n",
       "      <td>러닝,런닝화</td>\n",
       "      <td>NaN</td>\n",
       "      <td>NaN</td>\n",
       "      <td>//images.descentekorea.co.kr/product/S/M3/SM31...</td>\n",
       "    </tr>\n",
       "    <tr>\n",
       "      <th>1646</th>\n",
       "      <td>SM313RRN71</td>\n",
       "      <td>RED0</td>\n",
       "      <td>에너자이트 제트 플러스</td>\n",
       "      <td>RED</td>\n",
       "      <td>RUNNING</td>\n",
       "      <td>UNISEX</td>\n",
       "      <td>데상트</td>\n",
       "      <td>101400</td>\n",
       "      <td>2021-06-10</td>\n",
       "      <td>러닝,런닝화</td>\n",
       "      <td>NaN</td>\n",
       "      <td>NaN</td>\n",
       "      <td>//images.descentekorea.co.kr/product/S/M3/SM31...</td>\n",
       "    </tr>\n",
       "    <tr>\n",
       "      <th>1647</th>\n",
       "      <td>SM313RRN71</td>\n",
       "      <td>GRY0</td>\n",
       "      <td>에너자이트 제트 플러스</td>\n",
       "      <td>Grey</td>\n",
       "      <td>RUNNING</td>\n",
       "      <td>UNISEX</td>\n",
       "      <td>데상트</td>\n",
       "      <td>101400</td>\n",
       "      <td>2021-06-10</td>\n",
       "      <td>러닝,런닝화</td>\n",
       "      <td>NaN</td>\n",
       "      <td>NaN</td>\n",
       "      <td>//images.descentekorea.co.kr/product/S/M3/SM31...</td>\n",
       "    </tr>\n",
       "    <tr>\n",
       "      <th>1648</th>\n",
       "      <td>SM313RRN71</td>\n",
       "      <td>BLK0</td>\n",
       "      <td>에너자이트 제트 플러스</td>\n",
       "      <td>BLK</td>\n",
       "      <td>RUNNING</td>\n",
       "      <td>UNISEX</td>\n",
       "      <td>데상트</td>\n",
       "      <td>101400</td>\n",
       "      <td>2021-06-10</td>\n",
       "      <td>러닝,런닝화</td>\n",
       "      <td>NaN</td>\n",
       "      <td>NaN</td>\n",
       "      <td>//images.descentekorea.co.kr/product/S/M3/SM31...</td>\n",
       "    </tr>\n",
       "    <tr>\n",
       "      <th>1649</th>\n",
       "      <td>SM313RRN71</td>\n",
       "      <td>BLE0</td>\n",
       "      <td>에너자이트 제트 플러스</td>\n",
       "      <td>BLUE</td>\n",
       "      <td>RUNNING</td>\n",
       "      <td>UNISEX</td>\n",
       "      <td>데상트</td>\n",
       "      <td>101400</td>\n",
       "      <td>2021-06-10</td>\n",
       "      <td>러닝,런닝화</td>\n",
       "      <td>NaN</td>\n",
       "      <td>NaN</td>\n",
       "      <td>//images.descentekorea.co.kr/product/S/M3/SM31...</td>\n",
       "    </tr>\n",
       "    <tr>\n",
       "      <th>2717</th>\n",
       "      <td>SM113RRN11</td>\n",
       "      <td>WHT0</td>\n",
       "      <td>에너자이트 제트 플러스</td>\n",
       "      <td>WHT</td>\n",
       "      <td>RUNNING</td>\n",
       "      <td>UNISEX</td>\n",
       "      <td>데상트</td>\n",
       "      <td>118300</td>\n",
       "      <td>2021-01-18</td>\n",
       "      <td>러닝,런닝화</td>\n",
       "      <td>NaN</td>\n",
       "      <td>NaN</td>\n",
       "      <td>//images.descentekorea.co.kr/product/S/M1/SM11...</td>\n",
       "    </tr>\n",
       "    <tr>\n",
       "      <th>2718</th>\n",
       "      <td>SM113RRN11</td>\n",
       "      <td>WHBK</td>\n",
       "      <td>에너자이트 제트 플러스</td>\n",
       "      <td>WHITE / BLACK</td>\n",
       "      <td>RUNNING</td>\n",
       "      <td>UNISEX</td>\n",
       "      <td>데상트</td>\n",
       "      <td>118300</td>\n",
       "      <td>2021-01-18</td>\n",
       "      <td>러닝,런닝화</td>\n",
       "      <td>NaN</td>\n",
       "      <td>NaN</td>\n",
       "      <td>//images.descentekorea.co.kr/product/S/M1/SM11...</td>\n",
       "    </tr>\n",
       "    <tr>\n",
       "      <th>2719</th>\n",
       "      <td>SM113RRN11</td>\n",
       "      <td>SVWH</td>\n",
       "      <td>에너자이트 제트 플러스</td>\n",
       "      <td>SILVER WHITE</td>\n",
       "      <td>RUNNING</td>\n",
       "      <td>UNISEX</td>\n",
       "      <td>데상트</td>\n",
       "      <td>118300</td>\n",
       "      <td>2021-01-18</td>\n",
       "      <td>러닝,런닝화</td>\n",
       "      <td>NaN</td>\n",
       "      <td>NaN</td>\n",
       "      <td>//images.descentekorea.co.kr/product/S/M1/SM11...</td>\n",
       "    </tr>\n",
       "    <tr>\n",
       "      <th>2720</th>\n",
       "      <td>SM113RRN11</td>\n",
       "      <td>ORG0</td>\n",
       "      <td>에너자이트 제트 플러스</td>\n",
       "      <td>ORANGE</td>\n",
       "      <td>RUNNING</td>\n",
       "      <td>UNISEX</td>\n",
       "      <td>데상트</td>\n",
       "      <td>118300</td>\n",
       "      <td>2021-01-18</td>\n",
       "      <td>러닝,런닝화</td>\n",
       "      <td>NaN</td>\n",
       "      <td>NaN</td>\n",
       "      <td>//images.descentekorea.co.kr/product/S/M1/SM11...</td>\n",
       "    </tr>\n",
       "    <tr>\n",
       "      <th>2721</th>\n",
       "      <td>SM113RRN11</td>\n",
       "      <td>GRN0</td>\n",
       "      <td>에너자이트 제트 플러스</td>\n",
       "      <td>GREEN</td>\n",
       "      <td>RUNNING</td>\n",
       "      <td>UNISEX</td>\n",
       "      <td>데상트</td>\n",
       "      <td>118300</td>\n",
       "      <td>2021-01-18</td>\n",
       "      <td>러닝,런닝화</td>\n",
       "      <td>NaN</td>\n",
       "      <td>NaN</td>\n",
       "      <td>//images.descentekorea.co.kr/product/S/M1/SM11...</td>\n",
       "    </tr>\n",
       "    <tr>\n",
       "      <th>2722</th>\n",
       "      <td>SM113RRN11</td>\n",
       "      <td>BLK0</td>\n",
       "      <td>에너자이트 제트 플러스</td>\n",
       "      <td>BLK</td>\n",
       "      <td>RUNNING</td>\n",
       "      <td>UNISEX</td>\n",
       "      <td>데상트</td>\n",
       "      <td>118300</td>\n",
       "      <td>2021-01-18</td>\n",
       "      <td>러닝,런닝화</td>\n",
       "      <td>NaN</td>\n",
       "      <td>NaN</td>\n",
       "      <td>//images.descentekorea.co.kr/product/S/M1/SM11...</td>\n",
       "    </tr>\n",
       "    <tr>\n",
       "      <th>2723</th>\n",
       "      <td>SM113RRN11</td>\n",
       "      <td>BEG0</td>\n",
       "      <td>에너자이트 제트 플러스</td>\n",
       "      <td>BEIGE</td>\n",
       "      <td>RUNNING</td>\n",
       "      <td>UNISEX</td>\n",
       "      <td>데상트</td>\n",
       "      <td>118300</td>\n",
       "      <td>2021-01-18</td>\n",
       "      <td>러닝,런닝화</td>\n",
       "      <td>NaN</td>\n",
       "      <td>NaN</td>\n",
       "      <td>//images.descentekorea.co.kr/product/S/M1/SM11...</td>\n",
       "    </tr>\n",
       "    <tr>\n",
       "      <th>6607</th>\n",
       "      <td>SM311RRN71</td>\n",
       "      <td>WHT0</td>\n",
       "      <td>에너자이트 제트 플러스</td>\n",
       "      <td>WHT</td>\n",
       "      <td>RUNNING</td>\n",
       "      <td>MAN</td>\n",
       "      <td>데상트</td>\n",
       "      <td>101400</td>\n",
       "      <td>2021-06-28</td>\n",
       "      <td>러닝,런닝화</td>\n",
       "      <td>NaN</td>\n",
       "      <td>NaN</td>\n",
       "      <td>//images.descentekorea.co.kr/product/S/M3/SM31...</td>\n",
       "    </tr>\n",
       "    <tr>\n",
       "      <th>6608</th>\n",
       "      <td>SM311RRN71</td>\n",
       "      <td>SLBK</td>\n",
       "      <td>에너자이트 제트 플러스</td>\n",
       "      <td>SILVER / BLACK</td>\n",
       "      <td>RUNNING</td>\n",
       "      <td>MAN</td>\n",
       "      <td>데상트</td>\n",
       "      <td>101400</td>\n",
       "      <td>2021-06-28</td>\n",
       "      <td>러닝,런닝화</td>\n",
       "      <td>NaN</td>\n",
       "      <td>NaN</td>\n",
       "      <td>//images.descentekorea.co.kr/product/S/M3/SM31...</td>\n",
       "    </tr>\n",
       "    <tr>\n",
       "      <th>6609</th>\n",
       "      <td>SM311RRN71</td>\n",
       "      <td>RED0</td>\n",
       "      <td>에너자이트 제트 플러스</td>\n",
       "      <td>RED</td>\n",
       "      <td>RUNNING</td>\n",
       "      <td>MAN</td>\n",
       "      <td>데상트</td>\n",
       "      <td>101400</td>\n",
       "      <td>2021-06-28</td>\n",
       "      <td>러닝,런닝화</td>\n",
       "      <td>NaN</td>\n",
       "      <td>NaN</td>\n",
       "      <td>//images.descentekorea.co.kr/product/S/M3/SM31...</td>\n",
       "    </tr>\n",
       "  </tbody>\n",
       "</table>\n",
       "</div>"
      ],
      "text/plain": [
       "         PROD_CD COLOR_CD       PROD_NM        COLOR_NM  ITEM_NM  GENDER  \\\n",
       "1643  SM313RRN71     YLWH  에너자이트 제트 플러스    YELLOW/WHITE  RUNNING  UNISEX   \n",
       "1644  SM313RRN71     WHT0  에너자이트 제트 플러스             WHT  RUNNING  UNISEX   \n",
       "1645  SM313RRN71     SLBK  에너자이트 제트 플러스  SILVER / BLACK  RUNNING  UNISEX   \n",
       "1646  SM313RRN71     RED0  에너자이트 제트 플러스             RED  RUNNING  UNISEX   \n",
       "1647  SM313RRN71     GRY0  에너자이트 제트 플러스            Grey  RUNNING  UNISEX   \n",
       "1648  SM313RRN71     BLK0  에너자이트 제트 플러스             BLK  RUNNING  UNISEX   \n",
       "1649  SM313RRN71     BLE0  에너자이트 제트 플러스            BLUE  RUNNING  UNISEX   \n",
       "2717  SM113RRN11     WHT0  에너자이트 제트 플러스             WHT  RUNNING  UNISEX   \n",
       "2718  SM113RRN11     WHBK  에너자이트 제트 플러스   WHITE / BLACK  RUNNING  UNISEX   \n",
       "2719  SM113RRN11     SVWH  에너자이트 제트 플러스    SILVER WHITE  RUNNING  UNISEX   \n",
       "2720  SM113RRN11     ORG0  에너자이트 제트 플러스          ORANGE  RUNNING  UNISEX   \n",
       "2721  SM113RRN11     GRN0  에너자이트 제트 플러스           GREEN  RUNNING  UNISEX   \n",
       "2722  SM113RRN11     BLK0  에너자이트 제트 플러스             BLK  RUNNING  UNISEX   \n",
       "2723  SM113RRN11     BEG0  에너자이트 제트 플러스           BEIGE  RUNNING  UNISEX   \n",
       "6607  SM311RRN71     WHT0  에너자이트 제트 플러스             WHT  RUNNING     MAN   \n",
       "6608  SM311RRN71     SLBK  에너자이트 제트 플러스  SILVER / BLACK  RUNNING     MAN   \n",
       "6609  SM311RRN71     RED0  에너자이트 제트 플러스             RED  RUNNING     MAN   \n",
       "\n",
       "     BRND_NM  MALL_SALE_PRC     REG_DT CATEGORY_S TECH_NM_LIST FIT_NM_LIST  \\\n",
       "1643     데상트         101400 2021-06-10     러닝,런닝화          NaN         NaN   \n",
       "1644     데상트         101400 2021-06-10     러닝,런닝화          NaN         NaN   \n",
       "1645     데상트         101400 2021-06-10     러닝,런닝화          NaN         NaN   \n",
       "1646     데상트         101400 2021-06-10     러닝,런닝화          NaN         NaN   \n",
       "1647     데상트         101400 2021-06-10     러닝,런닝화          NaN         NaN   \n",
       "1648     데상트         101400 2021-06-10     러닝,런닝화          NaN         NaN   \n",
       "1649     데상트         101400 2021-06-10     러닝,런닝화          NaN         NaN   \n",
       "2717     데상트         118300 2021-01-18     러닝,런닝화          NaN         NaN   \n",
       "2718     데상트         118300 2021-01-18     러닝,런닝화          NaN         NaN   \n",
       "2719     데상트         118300 2021-01-18     러닝,런닝화          NaN         NaN   \n",
       "2720     데상트         118300 2021-01-18     러닝,런닝화          NaN         NaN   \n",
       "2721     데상트         118300 2021-01-18     러닝,런닝화          NaN         NaN   \n",
       "2722     데상트         118300 2021-01-18     러닝,런닝화          NaN         NaN   \n",
       "2723     데상트         118300 2021-01-18     러닝,런닝화          NaN         NaN   \n",
       "6607     데상트         101400 2021-06-28     러닝,런닝화          NaN         NaN   \n",
       "6608     데상트         101400 2021-06-28     러닝,런닝화          NaN         NaN   \n",
       "6609     데상트         101400 2021-06-28     러닝,런닝화          NaN         NaN   \n",
       "\n",
       "                                                IMG_URL  \n",
       "1643  //images.descentekorea.co.kr/product/S/M3/SM31...  \n",
       "1644  //images.descentekorea.co.kr/product/S/M3/SM31...  \n",
       "1645  //images.descentekorea.co.kr/product/S/M3/SM31...  \n",
       "1646  //images.descentekorea.co.kr/product/S/M3/SM31...  \n",
       "1647  //images.descentekorea.co.kr/product/S/M3/SM31...  \n",
       "1648  //images.descentekorea.co.kr/product/S/M3/SM31...  \n",
       "1649  //images.descentekorea.co.kr/product/S/M3/SM31...  \n",
       "2717  //images.descentekorea.co.kr/product/S/M1/SM11...  \n",
       "2718  //images.descentekorea.co.kr/product/S/M1/SM11...  \n",
       "2719  //images.descentekorea.co.kr/product/S/M1/SM11...  \n",
       "2720  //images.descentekorea.co.kr/product/S/M1/SM11...  \n",
       "2721  //images.descentekorea.co.kr/product/S/M1/SM11...  \n",
       "2722  //images.descentekorea.co.kr/product/S/M1/SM11...  \n",
       "2723  //images.descentekorea.co.kr/product/S/M1/SM11...  \n",
       "6607  //images.descentekorea.co.kr/product/S/M3/SM31...  \n",
       "6608  //images.descentekorea.co.kr/product/S/M3/SM31...  \n",
       "6609  //images.descentekorea.co.kr/product/S/M3/SM31...  "
      ]
     },
     "execution_count": 352,
     "metadata": {},
     "output_type": "execute_result"
    }
   ],
   "source": [
    "## 동일 제품명이지만, 시즌정보, 성별정보, 아이템 코드에 따라 다양한 제품으로 분류됨 (추후 같은 제품으로 인지하고 진행해야 할 지?)\n",
    "item[item['PROD_NM'] == '에너자이트 제트 플러스']"
   ]
  },
  {
   "cell_type": "code",
   "execution_count": 353,
   "id": "39c90bb2-9a73-4c22-ad35-17d775596e87",
   "metadata": {},
   "outputs": [
    {
     "ename": "SyntaxError",
     "evalue": "invalid syntax (<ipython-input-353-c2f17d108335>, line 1)",
     "output_type": "error",
     "traceback": [
      "\u001b[0;36m  File \u001b[0;32m\"<ipython-input-353-c2f17d108335>\"\u001b[0;36m, line \u001b[0;32m1\u001b[0m\n\u001b[0;31m    모든 브랜드를 통합하여 Personalize를 진행할 것인지, 별도로 진행할 것인지 확인 필요\u001b[0m\n\u001b[0m          ^\u001b[0m\n\u001b[0;31mSyntaxError\u001b[0m\u001b[0;31m:\u001b[0m invalid syntax\n"
     ]
    }
   ],
   "source": [
    "모든 브랜드를 통합하여 Personalize를 진행할 것인지, 별도로 진행할 것인지 확인 필요"
   ]
  },
  {
   "cell_type": "code",
   "execution_count": 354,
   "id": "2a016570-7fc4-45fe-b66b-fc1f766e511e",
   "metadata": {},
   "outputs": [
    {
     "name": "stdout",
     "output_type": "stream",
     "text": [
      "1740 1194000\n",
      "2800 1990000\n"
     ]
    }
   ],
   "source": [
    "print(item['MALL_SALE_PRC'].min(), item['MALL_SALE_PRC'].max())\n",
    "print(order['PROD_PRC'].min(), order['PROD_PRC'].max())"
   ]
  },
  {
   "cell_type": "code",
   "execution_count": 365,
   "id": "d9d3804a-c0d0-4022-86ee-a0c8bc1b25f0",
   "metadata": {},
   "outputs": [
    {
     "data": {
      "text/html": [
       "<div>\n",
       "<style scoped>\n",
       "    .dataframe tbody tr th:only-of-type {\n",
       "        vertical-align: middle;\n",
       "    }\n",
       "\n",
       "    .dataframe tbody tr th {\n",
       "        vertical-align: top;\n",
       "    }\n",
       "\n",
       "    .dataframe thead th {\n",
       "        text-align: right;\n",
       "    }\n",
       "</style>\n",
       "<table border=\"1\" class=\"dataframe\">\n",
       "  <thead>\n",
       "    <tr style=\"text-align: right;\">\n",
       "      <th></th>\n",
       "      <th>PROD_CD</th>\n",
       "      <th>COLOR_CD</th>\n",
       "      <th>PROD_NM</th>\n",
       "      <th>COLOR_NM</th>\n",
       "      <th>ITEM_NM</th>\n",
       "      <th>GENDER</th>\n",
       "      <th>BRND_NM</th>\n",
       "      <th>MALL_SALE_PRC</th>\n",
       "      <th>REG_DT</th>\n",
       "      <th>CATEGORY_S</th>\n",
       "      <th>TECH_NM_LIST</th>\n",
       "      <th>FIT_NM_LIST</th>\n",
       "      <th>IMG_URL</th>\n",
       "    </tr>\n",
       "  </thead>\n",
       "  <tbody>\n",
       "    <tr>\n",
       "      <th>4601</th>\n",
       "      <td>SM123ASA22</td>\n",
       "      <td>WHT0</td>\n",
       "      <td>다이컷 인솔</td>\n",
       "      <td>WHT</td>\n",
       "      <td>SHOES ACC</td>\n",
       "      <td>UNISEX</td>\n",
       "      <td>데상트</td>\n",
       "      <td>1740</td>\n",
       "      <td>2021-02-19</td>\n",
       "      <td>기타,양말</td>\n",
       "      <td>NaN</td>\n",
       "      <td>NaN</td>\n",
       "      <td>//images.descentekorea.co.kr/product/S/M1/SM12...</td>\n",
       "    </tr>\n",
       "  </tbody>\n",
       "</table>\n",
       "</div>"
      ],
      "text/plain": [
       "         PROD_CD COLOR_CD PROD_NM COLOR_NM    ITEM_NM  GENDER BRND_NM  \\\n",
       "4601  SM123ASA22     WHT0  다이컷 인솔      WHT  SHOES ACC  UNISEX     데상트   \n",
       "\n",
       "      MALL_SALE_PRC     REG_DT CATEGORY_S TECH_NM_LIST FIT_NM_LIST  \\\n",
       "4601           1740 2021-02-19      기타,양말          NaN         NaN   \n",
       "\n",
       "                                                IMG_URL  \n",
       "4601  //images.descentekorea.co.kr/product/S/M1/SM12...  "
      ]
     },
     "execution_count": 365,
     "metadata": {},
     "output_type": "execute_result"
    }
   ],
   "source": [
    "item[item['MALL_SALE_PRC'] == item['MALL_SALE_PRC'].min()]"
   ]
  },
  {
   "cell_type": "code",
   "execution_count": 366,
   "id": "a8f024b2-4364-472a-bb03-c8328e336088",
   "metadata": {},
   "outputs": [
    {
     "data": {
      "text/html": [
       "<div>\n",
       "<style scoped>\n",
       "    .dataframe tbody tr th:only-of-type {\n",
       "        vertical-align: middle;\n",
       "    }\n",
       "\n",
       "    .dataframe tbody tr th {\n",
       "        vertical-align: top;\n",
       "    }\n",
       "\n",
       "    .dataframe thead th {\n",
       "        text-align: right;\n",
       "    }\n",
       "</style>\n",
       "<table border=\"1\" class=\"dataframe\">\n",
       "  <thead>\n",
       "    <tr style=\"text-align: right;\">\n",
       "      <th></th>\n",
       "      <th>PROD_CD</th>\n",
       "      <th>COLOR_CD</th>\n",
       "      <th>PROD_NM</th>\n",
       "      <th>COLOR_NM</th>\n",
       "      <th>ITEM_NM</th>\n",
       "      <th>GENDER</th>\n",
       "      <th>BRND_NM</th>\n",
       "      <th>MALL_SALE_PRC</th>\n",
       "      <th>REG_DT</th>\n",
       "      <th>CATEGORY_S</th>\n",
       "      <th>TECH_NM_LIST</th>\n",
       "      <th>FIT_NM_LIST</th>\n",
       "      <th>IMG_URL</th>\n",
       "    </tr>\n",
       "  </thead>\n",
       "  <tbody>\n",
       "    <tr>\n",
       "      <th>3089</th>\n",
       "      <td>QM123ASC11</td>\n",
       "      <td>WHT0</td>\n",
       "      <td>베이직 페이크삭스</td>\n",
       "      <td>WHT</td>\n",
       "      <td>SOCKS</td>\n",
       "      <td>UNISEX</td>\n",
       "      <td>르꼬끄</td>\n",
       "      <td>2800</td>\n",
       "      <td>2020-12-24</td>\n",
       "      <td>양말</td>\n",
       "      <td>NaN</td>\n",
       "      <td>NaN</td>\n",
       "      <td>//images.descentekorea.co.kr/product/Q/M1/QM12...</td>\n",
       "    </tr>\n",
       "    <tr>\n",
       "      <th>3090</th>\n",
       "      <td>QM123ASC11</td>\n",
       "      <td>DMR0</td>\n",
       "      <td>베이직 페이크삭스</td>\n",
       "      <td>DMR</td>\n",
       "      <td>SOCKS</td>\n",
       "      <td>UNISEX</td>\n",
       "      <td>르꼬끄</td>\n",
       "      <td>2800</td>\n",
       "      <td>2020-12-24</td>\n",
       "      <td>양말</td>\n",
       "      <td>NaN</td>\n",
       "      <td>NaN</td>\n",
       "      <td>//images.descentekorea.co.kr/product/Q/M1/QM12...</td>\n",
       "    </tr>\n",
       "    <tr>\n",
       "      <th>3091</th>\n",
       "      <td>QM123ASC11</td>\n",
       "      <td>BLK0</td>\n",
       "      <td>베이직 페이크삭스</td>\n",
       "      <td>BLK</td>\n",
       "      <td>SOCKS</td>\n",
       "      <td>UNISEX</td>\n",
       "      <td>르꼬끄</td>\n",
       "      <td>2800</td>\n",
       "      <td>2020-12-24</td>\n",
       "      <td>양말</td>\n",
       "      <td>NaN</td>\n",
       "      <td>NaN</td>\n",
       "      <td>//images.descentekorea.co.kr/product/Q/M1/QM12...</td>\n",
       "    </tr>\n",
       "  </tbody>\n",
       "</table>\n",
       "</div>"
      ],
      "text/plain": [
       "         PROD_CD COLOR_CD    PROD_NM COLOR_NM ITEM_NM  GENDER BRND_NM  \\\n",
       "3089  QM123ASC11     WHT0  베이직 페이크삭스      WHT   SOCKS  UNISEX     르꼬끄   \n",
       "3090  QM123ASC11     DMR0  베이직 페이크삭스      DMR   SOCKS  UNISEX     르꼬끄   \n",
       "3091  QM123ASC11     BLK0  베이직 페이크삭스      BLK   SOCKS  UNISEX     르꼬끄   \n",
       "\n",
       "      MALL_SALE_PRC     REG_DT CATEGORY_S TECH_NM_LIST FIT_NM_LIST  \\\n",
       "3089           2800 2020-12-24         양말          NaN         NaN   \n",
       "3090           2800 2020-12-24         양말          NaN         NaN   \n",
       "3091           2800 2020-12-24         양말          NaN         NaN   \n",
       "\n",
       "                                                IMG_URL  \n",
       "3089  //images.descentekorea.co.kr/product/Q/M1/QM12...  \n",
       "3090  //images.descentekorea.co.kr/product/Q/M1/QM12...  \n",
       "3091  //images.descentekorea.co.kr/product/Q/M1/QM12...  "
      ]
     },
     "execution_count": 366,
     "metadata": {},
     "output_type": "execute_result"
    }
   ],
   "source": [
    "item[item['PROD_CD'].isin(order[order['PROD_PRC'] == order['PROD_PRC'].min()]['PROD_CD'].values)]"
   ]
  },
  {
   "cell_type": "code",
   "execution_count": 129,
   "id": "9fa7cc97-88da-42f1-b02b-e2669e150a99",
   "metadata": {},
   "outputs": [
    {
     "data": {
      "text/plain": [
       "array(['WOMAN', 'MAN', 'UNISEX'], dtype=object)"
      ]
     },
     "execution_count": 129,
     "metadata": {},
     "output_type": "execute_result"
    }
   ],
   "source": [
    "item['GENDER'].unique()"
   ]
  },
  {
   "cell_type": "code",
   "execution_count": 133,
   "id": "c61fce9f-f070-4151-acf1-840504ef9b1a",
   "metadata": {},
   "outputs": [
    {
     "data": {
      "text/plain": [
       "array(['SW', 'CUT&SAW', 'SHORT SLEEVE T-SHIRTS', 'WOVEN TOP', 'CAP',\n",
       "       'FLEECE PANTS', 'KNIT 단품 FLEECE JACKET', 'LONG SLEEVE T-SHIRTS',\n",
       "       'SHORTS SLEEVE T-SHIRTS', 'TS', 'ESSENTIAL 퍼포먼스 SHOES', 'SNEAKERS',\n",
       "       'RUNNING', 'JACKET', 'TL', 'PANTS', 'FLEECE T', 'TRAINING',\n",
       "       'CLASSIC RUNNING', 'KNIT LEGGINGS', 'HEAVY T/SHIRTS (TERRY)',\n",
       "       'BACK PACK', 'HALF PANTS', 'LONG SLEEVE T- SHIRTS ', 'FLEECE TOP',\n",
       "       'SLIDE', 'PANTS FOR FITNESS', 'SOCKS', 'WARMER', 'WOVEN VEST',\n",
       "       'KNIT CAP', 'ETC', 'BAG', 'WIND BREAK', 'KNIT OUTER', 'CUPSOLE',\n",
       "       'BRA-TOP', 'FLEECE JACKET', 'BACKPACK', 'ONEPIECE',\n",
       "       'FLEECE ZIP-UP', 'KIDS', 'SKIRT', 'DOWN JACKET', 'WARM UP PANTS',\n",
       "       'ACCESSORY OTHERS', 'LONG PANTS', 'BOOTS', 'SKI PANTS',\n",
       "       'SKI JACKET', 'KNIT PULLOVER', 'PADDING JACKET', 'WOVEN PANTS',\n",
       "       'VULCANIZING', 'WARM UP JACKET', 'JP', 'GLOVE', 'IN',\n",
       "       'KNIT 단품 FLEECE PANTS', 'SHOES', 'DOWN VEST', 'HOODED SWEAT', 'SK',\n",
       "       'PT', 'DOWN JUMPER', 'SJ', 'SLEEVELESS',\n",
       "       'SHORT SLEEVE POLO T-SHIRTS', 'SWIMSUIT', '신발', 'BELT',\n",
       "       'SEASON ACC', '트롤리백', '캐디백', 'EQUIPMENT(ETC)', '미니백/파우치',\n",
       "       'SUPPORTER', '라운드/브이넥 긴팔', 'PADDING VEST', 'INNER', 'BEANIE',\n",
       "       'VEST', 'RAINWEAR', 'TROLLY BOSTON BAG', 'WARMMER', 'ONE PIECE',\n",
       "       'CS', 'COMPRESSION TOP', 'COMPRESSION BOTTOM', 'INFANT', 'GLOVES',\n",
       "       'KNIT TOP', 'BLOUSON', 'KNIT VEST', 'GOLF SHOES',\n",
       "       'LONG SLEEVE T SHIRT', 'TREND PYLON', 'KNEE SOCKS', 'HOODY',\n",
       "       'SHORT PANTS', 'ROUND LONG SLEEVE T-SHIRTS', 'GOLF GLOVES',\n",
       "       '퍼포먼스/러닝', 'MULE', 'POLO SHORT TEE', 'WV', 'INNER (상의)', 'SANDAL',\n",
       "       'THONG', 'BOSTONBAG', 'HAT', 'CADDYBAG', 'SUNVISOR', 'SHOES ACC',\n",
       "       'KV', 'SHORTS SLEEVE T SHIRT', 'TURF', 'COOL MATE',\n",
       "       'SLEEVELESS TEE', 'SHIN GUARD',\n",
       "       'PERFORMANCE TOP(JERSEY/COMPRESSION)', 'SP', 'WOVEN SHIRTS',\n",
       "       'KNIT HALF PANTS', 'SKI-SUIT', 'LONG SLEEVE POLO TS', 'CUSTOM',\n",
       "       'RAIN WEAR', 'INNER PANTS', '보스턴백', 'PAD', 'ANORAK JACKET',\n",
       "       'CUT&SAW OUTER', 'JK', 'OP', 'SLEEVELESS T-SHIRTS', 'BRA TOP',\n",
       "       'ROUND T-SHIRTS', 'BASKETBALL', 'ST', '라운드 / 브이넥 반팔', 'JUMP SUIT'],\n",
       "      dtype=object)"
      ]
     },
     "execution_count": 133,
     "metadata": {},
     "output_type": "execute_result"
    }
   ],
   "source": [
    "item['ITEM_NM'].unique()"
   ]
  },
  {
   "cell_type": "code",
   "execution_count": 160,
   "id": "743eb7ce-6020-427e-8101-7e615184a715",
   "metadata": {},
   "outputs": [
    {
     "data": {
      "text/plain": [
       "array(['NAVY', 'Bright White', 'BLACK', 'Bleached Aqua', 'WHT', 'ORANGE',\n",
       "       'BLK', 'RED', 'BLCK', 'ROYAL BLUE', '(MGR0)H. GREY', 'CORAL',\n",
       "       'white', 'NeonPink', 'PINK', '(OWHT)O.White', 'KHAKI', 'BEIGE',\n",
       "       'PINK / WHITE', 'Melange Charcaol', 'Birch', 'GREY ORANGE',\n",
       "       'PATTERN', 'LIME', 'T.BLUE', 'CHARCOAL GREY', 'Mustard',\n",
       "       'DIET ORANGE', 'CBG0', 'CML', 'DARK OLIVE', 'CREAM', 'BURGUNDY',\n",
       "       'FOD0', 'YELLOW', 'MUS0', 'D NAVY', 'BIG', 'GREEN / WHITE', 'Grey',\n",
       "       'BLUE', 'OFF-WHITE', 'LILAC', 'SILVER', 'BLACK / WHITE', 'IVORY',\n",
       "       'PBD0', 'DTG0', 'ABSOLUTE BLUE', 'Black Pattern', 'CTL0',\n",
       "       'SURF BLUE', 'PGR0', 'NYL', 'OLIVE', 'WHITE/BLUE/RED',\n",
       "       'Physical NEON CORAL', 'Physical D.GREEN', 'LOTUS PINK', 'DMR',\n",
       "       'LIGHT MINT', 'ASH KHAKI', 'TRED', 'WHITE / BLACK', 'P BLUE',\n",
       "       'PORG', 'WHITE X BLACK', 'MOV0', 'IPK0', 'DENIM', 'CRIMSON',\n",
       "       'GREY', 'TRICOLOR', 'PEACH PINK', 'GSN0', 'WONDERLAND PINK',\n",
       "       'khaki grey', 'IPP', '(MGRY)M.GREY', 'LAVENDER', 'WHITE NAVY',\n",
       "       'KAKI', 'GREEN', 'SKB', 'ELECTRIC RED', 'SPW(WHITE)',\n",
       "       'KOREA SKI TEAM', '5500', 'SPW/BK', 'DMT', 'DARK PINK', 'PRNT',\n",
       "       'RED/BLACK', 'BLUE / BLACK', 'L/BLUE', 'NAVY CHECK', 'MMT',\n",
       "       'DARK CHERRY', 'DARK BRICK', 'BLK2', 'BRW', 'LIGHT GREY',\n",
       "       'CHARCOAL', 'High Red', 'TAN', 'red', 'MINT', 'kHAKI', 'OATMEAL',\n",
       "       'YGR', 'CRIGIO GREY', 'DCG0', 'KGR0', 'Hot Pink', 'MULI-COLOR',\n",
       "       'HYEL', 'HGRN', 'Peach Pink', '투르드 프랑스 레드 도트', 'GRAY/BROWN/GREEN',\n",
       "       'H.CHARCOAL', 'L/PINK', 'Physical Cream', 'Physical D.SKY', 'KPK0',\n",
       "       'NAVY MELANGE', 'Moonlit Ocean', 'BONITAS ORANGE', 'C. BLUE',\n",
       "       'REFLECTIVE BLK(3M전판)', 'PPT', 'LRD0', 'BLUE/ WHITE', 'CAMO',\n",
       "       'VIOLET', 'SKY BLUE', 'Brown', 'PURPLE BLUE', 'ICE BLUE',\n",
       "       'Light grey', 'NUDE GREY', 'Jade Green', 'carmel Yellow', 'Beige',\n",
       "       'D.NAVY', 'Melange Black', 'LGR', 'Melange Grey', '1100', 'DYE',\n",
       "       'LIME YELLOW', 'CARPET RED', 'SALMON PINK', 'black violet',\n",
       "       'Light Beige', 'DARK ORANGE', 'PBLK', 'Skin color', 'green',\n",
       "       'LIGHT KHAKI', 'Green', 'M BROWN', 'sweetcorn', 'Surf the Web',\n",
       "       'E/GRY', 'PDW0', 'DARK MELANGE', 'DEEP PURPLE', 'DALMATIAN',\n",
       "       'D.RED', 'L/BEIGE', 'Deep Navy', 'SPORTS BASIC YELLOW',\n",
       "       'SPORTS BASIC KHAKI', 'WHT2', 'MULTI-COLOR', 'BLACK / GREY', 'Red',\n",
       "       'Navy Ash', 'camel', 'AURORA BLACK', 'PURPLE', 'UNVY',\n",
       "       'light violet', 'Lunar Rock', 'wonder blue', 'NEON YELLOW',\n",
       "       'WHITE X BLUE', 'cream beige', 'WHITE+YELLOW', 'WHITE', 'D/GREEN',\n",
       "       'BROWN', 'DGRY(DARK GREY)', '1800', 'ROYALNAVY', 'BattleshipGrey',\n",
       "       'Beetle Khaki', 'KGB0', 'GUNMETALGREY', 'GREY/RED', 'ABLU',\n",
       "       'Stone Grey', 'Night blue', 'GREY/BLACK', 'BLACK / GRAY', 'BYL',\n",
       "       'D.BEIGE', 'KHAKI BEIGE', 'FORESTZ GREEN', 'Warm Grey',\n",
       "       'Deep Orange', 'Racing Red', 'Dark Grey', 'Dull Blue', 'LIP0',\n",
       "       'FUTSAL BLUE', 'WLG0', 'BPP0', 'INK BLUE', 'NEON PINK',\n",
       "       'NEON PURPLE', 'QGR', 'LVG0', '8585', '5000', 'Brick Brown',\n",
       "       'WHITE / GREY', 'DARK CHARCOAL', 'Oatmeal', 'Yellow ORange', 'NBL',\n",
       "       'MELANGE GREY', 'MALDIVE GREEN', 'ABE0', 'WHITE MELANGE',\n",
       "       'SOFT ORANGE', 'KHAKI_J4908', 'Blue Grey', 'BEG', 'COOL GREY',\n",
       "       'YELLOW/WHITE', 'SILVER / BLACK', 'Scuba Blue', 'Light Pink',\n",
       "       'Dark Warm Grey', 'T-GREEN', 'GREEN NAVY', 'BLACK / BLUE',\n",
       "       'DAZZLING BLUE', 'ORANGE RED', 'DEEP PINK', 'CANTELOUPE ORANGE',\n",
       "       'YPNK', 'WOMENS ORAGNE', 'Light Cool Gray', 'LIGHT CARAMEL',\n",
       "       'GREEN TEA', 'L/BLACK', 'BRASIL GREEN', 'L/MINT', 'DGR0', 'Purple',\n",
       "       'WINE', 'pattern', 'ORANGE/WHITE', 'BGWH', 'LT BROWN', 'ASH BEIGE',\n",
       "       'SBLU', 'Dirty Turquiose', 'GREEN / PINK', 'CLN0',\n",
       "       'Cylinder Yellow', 'DARK CHARCOL', 'LGP0', 'LIGHT BEIGE',\n",
       "       'HAPPY BLUE', 'PBG', 'AYL', 'dark charcol', 'Cool Purple',\n",
       "       'GOJI BERRY', 'light navy', 'BLIZZARD GREY', 'HEATHER GREY',\n",
       "       'ESPANA COLOR', 'WATER GREEN', 'WHITE GREEN', 'IVY2', 'ROYAL NAVY',\n",
       "       'MELON GREEN', 'Offwhite', 'M/BLUE', 'TEDDY BROWN', 'INDI PINK',\n",
       "       'BECM', 'Dualis Moss', 'MELANGE GREY LIGHT', 'OFF WHITE',\n",
       "       'WOMENS IVORY', 'WOMENS BEIGE', 'DARK NAVY', 'RPK', 'Pattern HBLG',\n",
       "       'Dark Wine', 'SPORTS STYLE WINE', 'SPORTS STYLE BEIGE',\n",
       "       'Yellow Grey', 'NAIVE PINK', 'INK', 'Lemon', 'Ski Orange', 'CAMEL',\n",
       "       'Wine', 'CHARCOAL GRAY', 'BLACK / BLACK', 'L GREEN', 'Olive Green',\n",
       "       'INK NAVY', '4000', 'GRAY MINT', 'NEON CORAL', 'GREY KHAKI', 'PGN',\n",
       "       'Light Mint', 'Lilac', 'Pattern BLACK', 'ICE MINT', 'BRED',\n",
       "       'Smoke', 'DARK HEATHER GREY', 'EGN0', 'SKK0', 'RBG0', 'SOR0',\n",
       "       'BLACK /GRID', 'Ultra Marine', 'NAVY / WHITE', 'Green Beige',\n",
       "       'L/GREY', 'SILVER WHITE', 'ORANGE YELLOW', 'TEAL BLUE',\n",
       "       'NAVY/ORANGE', 'WARM GREY', 'Sand Beige', 'LEMON YELLOW',\n",
       "       'Washed Gray', 'SERENITY BLUE', 'DEEP BROWN', 'Grey Beige',\n",
       "       'WHITE / ORANGE', 'ZBL0', 'YELLOW/BLACK/GREEN', 'GLOW BLUE',\n",
       "       'LOVELY NAVY', 'KGY0', 'DVY', 'MICHEAL LAU BEIGE',\n",
       "       'Light (Loose) Green', 'CYAN PINK', 'WHITE / BLUE', 'DARK BEIGE',\n",
       "       'DEW', 'LBG0', 'DBG0', 'IYL', 'Warm Beige', 'WOMENS ROSE',\n",
       "       'WOMENS CREAM', 'PINK / GREY', 'RED / WHITE', 'MID BLUE', 'BPK',\n",
       "       'Light Blue', 'Deep Mint', 'WOMENS CHARCOAL', \"WOMEN'S MELANGE\",\n",
       "       \"WOMEN'S LAVENDAR\", 'LIGHT VIOLET', 'JADE GREEN', 'DARK ROSE',\n",
       "       'M GRAY', 'TGR0', 'KPB0', 'WHITE / NAVY', 'Mid/M Grey',\n",
       "       'D/MELANGE', 'Deep Cblue', 'BUBBLY ORANGE', 'NEUTRALVILOET',\n",
       "       'OLD GREEN', 'YBG0', 'TMIN', 'W.BROWN ', 'VYG0', 'CHOCOLATE',\n",
       "       'TORG_ORANGE', 'TKAK', 'PALE BLUE', 'Soft Grey', 'Cream',\n",
       "       'DEEP BLUE', 'WHITE / BEIGE', 'BLACK / GREEN', 'Turquis',\n",
       "       'Tropical Orange', 'TNV', 'WOR0', 'Charcoal Grey', 'Turquoise',\n",
       "       'Apricot', 'HPB0', 'SOFT MINT UMB', 'SCARLET', 'GREY/PINK',\n",
       "       'NEON GREEN', 'ASH GREY', 'MIDNIGHT BLUE', 'MARSHMALLOW/PINK',\n",
       "       'Junior Red', 'KIVY', 'DBG', 'P NAVY', 'PURPLE PINK', 'LSN0',\n",
       "       'Pale Pink', 'SNOW WHITE', 'MAROON RED', 'UCUSTOM Side Block',\n",
       "       'WHITE / SILVER', 'TENTATION', 'KHAKI BROWN', 'C/GREY', 'SEPIA',\n",
       "       'mustard', 'WSBU(W.Skyblue)', 'Apricot Pink', 'ORANGE/ BLACK',\n",
       "       'ORANGE / BEIGE', 'Dark Blue', 'YSKY', 'MINT / WHITE', 'PEACH',\n",
       "       'PATRIOT BLUE', 'DEEP RED', 'Z GREY', 'IRIS GREY', 'Lavender',\n",
       "       'Coral', 'SPNK(PINK)', 'MOSS', 'MIDDLE BEIGE', 'STONE GREY/BLACK',\n",
       "       'NAVY/GREY', 'LGBLACK', 'Magenta', 'BLACK / SNOW WHITE',\n",
       "       'HOT PINK', 'COOL GREEN', 'LIGHT ORANGE', 'BLACK / NAVY',\n",
       "       'YELLOW /PURPLE', 'ORANGE / GRAY', 'ONYX GRAY', 'FOLIAGE KHAKI',\n",
       "       'PSKY', 'BLACK / GOLD', 'OATMEAL M/GREY', 'WHT+WHT+BLK',\n",
       "       'White x Red', 'ORANGE/ NAVY', 'LIME / WHITE', 'GREY/WHITE',\n",
       "       'BROWN/WHITE', 'Asparagus', 'PAPRIKA RED', 'oatmeal', 'UPNK',\n",
       "       'KBG0', 'HPP0', 'D/BGD', 'FLOWER', 'KORG', 'OCEAN GREEN',\n",
       "       'WOMENS OATMEAL', 'POPPY RED', 'LPU0', 'KAKHI', 'Bright Pink',\n",
       "       'EXTRA NAVY', '상의YEL / 하의BLK', '상의WHT / 하의BLK', '상의RED / 하의BLU',\n",
       "       '상의LBL / 하의BLK', '상의BLU / 하의BLK', 'SPICY ORANGE', 'SUNDAY PRINT',\n",
       "       'SKN', 'Light Purple', 'PEACOAK GREEN', 'BUFFALO BLUE',\n",
       "       \"WOMEN'S SKYBLUE\", \"WOMEN'S Charcoal Black \", \"WOMEN'S GREEN\",\n",
       "       'SPIRITUAL NAVY', 'L.yellow', 'Running Neon Orange', 'LIGHT BLUE',\n",
       "       'violet', 'BLACK/WHITE', 'BLACK/RED', 'BLACK/PURPLE',\n",
       "       'KHAKI/WHITE', 'MPK0', 'GREY/MINT', 'WHITE CHARCOAL', 'NIGHT NAVY',\n",
       "       'BLUE RIBBON', 'Black & Heather Gray', 'WHITE / KHAKI', 'CWHT',\n",
       "       'CBLK', 'WHITE / GOLD', 'Dark BEIGE', 'Bright Blue',\n",
       "       'Light/M Grey', 'Exotic Blue', 'LLP0', 'SGN', 'Olive', 'MZT0',\n",
       "       'WHITE/PINK', 'KHAKI_D4104', 'DEEP YELLOW', 'Sky Blue',\n",
       "       'APPLE GREEN', 'brown', 'P GREEN', 'Brick', 'Charcoal',\n",
       "       'BLUE / BEIGE', 'DEEP KHAKI', 'PASSION PINK', 'KGRY', 'WHITE+BLUE',\n",
       "       'light khaki', 'Off White', 'YELLOW/BLUE', 'Dark Melange',\n",
       "       'SPLASH MINT', 'WHITE / RED', 'Chocolate', 'Dark Orange',\n",
       "       'D/Brown', 'Stone', 'Dark Khaki', 'ORNAGE / BROWN', 'Mud', 'LRP0',\n",
       "       'PPK1', 'EBLK', 'SAND BEIGE', 'Pink', 'Forest Blue', 'Ivory',\n",
       "       'BGRY', 'S/PURPLE', 'MGRN', 'Light Violet', 'Opal Silver',\n",
       "       'GRAPE BLUE', 'PLATINUM BEIGE', 'WHITE+PURPLE', 'IRISH GREEN',\n",
       "       'ACTIVE GREY', 'WHITE YELOW', 'Real Green', 'GMN0', 'SUPER WHITE',\n",
       "       'BLUE / YELLOW', 'warm scw', 'NEON', 'VPP', 'midnight navy',\n",
       "       'TENNIS YELLOW', 'Dove', 'deep beige pink', 'PURPLE MELANGE',\n",
       "       'BEIGE / GREY', 'DEW WYL IPK', 'TLIM(Training Lime)', 'T/BLUE',\n",
       "       'Warm Light Gray', 'SCARLET RED', 'B.CHECK', 'Summer Navy',\n",
       "       \"women's light beige\", 'POR0', 'Sharp Green', 'WHITE YELLOW',\n",
       "       'SPORTS BASIC GREEN', 'WHT/CRM/BIG', 'Melona',\n",
       "       'SPORTS STYLE ORANGE', 'BRSH', 'light mint', 'Butter', 'SKIN',\n",
       "       'Yellow', 'SPB0', 'GOLD', 'Summer Pink', 'Glow Pink', 'YLLF',\n",
       "       'BRGD', 'GYMS', 'Silver', 'DEEP GREEN CHCACOAL', 'KNV0',\n",
       "       'Burnt ORANGE', 'DARK GREEN', \"womens' peach\", 'NIGHT',\n",
       "       'BRICK DUST PINK', 'GREY/ WHITE', 'NSP0', 'BSP0', 'RSP0',\n",
       "       'BLACK / LIME', 'Carbon Black'], dtype=object)"
      ]
     },
     "execution_count": 160,
     "metadata": {},
     "output_type": "execute_result"
    }
   ],
   "source": [
    "item['COLOR_NM'].unique()"
   ]
  },
  {
   "cell_type": "code",
   "execution_count": 136,
   "id": "674694b0-6b8f-4ed9-ae82-5f4172d6e577",
   "metadata": {},
   "outputs": [
    {
     "data": {
      "text/plain": [
       "632"
      ]
     },
     "execution_count": 136,
     "metadata": {},
     "output_type": "execute_result"
    }
   ],
   "source": [
    "item['COLOR_NM'].nunique()"
   ]
  },
  {
   "cell_type": "code",
   "execution_count": 135,
   "id": "dd3bc834-18ed-472b-9c4f-26cca131b613",
   "metadata": {},
   "outputs": [
    {
     "data": {
      "text/plain": [
       "582"
      ]
     },
     "execution_count": 135,
     "metadata": {},
     "output_type": "execute_result"
    }
   ],
   "source": [
    "item['COLOR_NM'].str.upper().nunique()"
   ]
  },
  {
   "cell_type": "code",
   "execution_count": 52,
   "id": "a70d6df9-813f-45b3-a408-823d641af5cb",
   "metadata": {},
   "outputs": [
    {
     "name": "stdout",
     "output_type": "stream",
     "text": [
      "\"PROD_CD\" column has 4970 unique values\n",
      "\"COLOR_CD\" column has 696 unique values\n",
      "\"PROD_NM\" column has 4735 unique values\n",
      "\"COLOR_NM\" column has 632 unique values\n",
      "\"ITEM_NM\" column has 142 unique values\n",
      "\"GENDER\" column has 3 unique values\n",
      "\"BRND_NM\" column has 6 unique values\n",
      "\"MALL_SALE_PRC\" column has 448 unique values\n",
      "\"REG_DT\" column has 588 unique values\n",
      "\"CATEGORY_S\" column has 562 unique values\n",
      "\"TECH_NM_LIST\" column has 50 unique values\n",
      "\"FIT_NM_LIST\" column has 53 unique values\n",
      "\"IMG_URL\" column has 11405 unique values\n"
     ]
    }
   ],
   "source": [
    "## 아이템 명이 같지만 상품코드가 다름 (세부 내용으로 구분)\n",
    "for i in list(item):\n",
    "    print(f'\"{i}\" column has {item[i].nunique()} unique values')"
   ]
  },
  {
   "cell_type": "code",
   "execution_count": 138,
   "id": "96917496-d91b-4a70-963d-9a83600182a9",
   "metadata": {},
   "outputs": [
    {
     "data": {
      "text/plain": [
       "UNISEX    4755\n",
       "MAN       3410\n",
       "WOMAN     3240\n",
       "Name: GENDER, dtype: int64"
      ]
     },
     "execution_count": 138,
     "metadata": {},
     "output_type": "execute_result"
    }
   ],
   "source": [
    "item['GENDER'].value_counts()"
   ]
  },
  {
   "cell_type": "code",
   "execution_count": 53,
   "id": "dd7f59d4-695d-4b2e-b6e9-3afbffa83580",
   "metadata": {},
   "outputs": [
    {
     "name": "stdout",
     "output_type": "stream",
     "text": [
      "Brand Name Num : 6\n"
     ]
    },
    {
     "data": {
      "text/plain": [
       "데상트      3770\n",
       "르꼬끄      2641\n",
       "엄브로      2124\n",
       "데상트골프    1170\n",
       "르꼬끄골프     910\n",
       "먼싱웨어      790\n",
       "Name: BRND_NM, dtype: int64"
      ]
     },
     "execution_count": 53,
     "metadata": {},
     "output_type": "execute_result"
    }
   ],
   "source": [
    "## 브랜드 개수 6개\n",
    "print(f'Brand Name Num : {item[\"BRND_NM\"].nunique()}')\n",
    "item['BRND_NM'].value_counts()"
   ]
  },
  {
   "cell_type": "markdown",
   "id": "e3ed9e99-eeeb-407b-b4bd-73451553087c",
   "metadata": {},
   "source": [
    "## Data Join"
   ]
  },
  {
   "cell_type": "code",
   "execution_count": 65,
   "id": "7734fd44-dd09-4b4d-8480-622b76666870",
   "metadata": {},
   "outputs": [],
   "source": [
    "total_df = order.merge(item, on = ['COLOR_CD', 'PROD_CD'])\n",
    "total_df.rename({'GENDER' : 'BUY_GENDER'}, axis = 1, inplace = True)\n",
    "total_df = total_df.merge(users, on =['USR_ID'])\n",
    "total_df.drop(['REG_DT_x', 'REG_DT_y', 'REG_DT'], axis = 1, inplace = True)"
   ]
  },
  {
   "cell_type": "code",
   "execution_count": 72,
   "id": "e69ee8c8-6ba6-458d-a3e1-da556960d23f",
   "metadata": {},
   "outputs": [
    {
     "name": "stderr",
     "output_type": "stream",
     "text": [
      "/opt/conda/lib/python3.7/site-packages/ipykernel_launcher.py:16: DeprecationWarning: `np.bool` is a deprecated alias for the builtin `bool`. To silence this warning, use `bool` by itself. Doing this will not modify any behavior and is safe. If you specifically wanted the numpy scalar type, use `np.bool_` here.\n",
      "Deprecated in NumPy 1.20; for more details and guidance: https://numpy.org/devdocs/release/1.20.0-notes.html#deprecations\n",
      "  app.launch_new_instance()\n"
     ]
    }
   ],
   "source": [
    "temp_df = total_df[['PROD_QTY', 'PROD_PRC', 'ORD_CHANNEL', 'BUY_GENDER', 'BRND_NM', 'GENDER', \n",
    "                    'AGE', 'DST_GRADE', 'LCS_GRADE', 'UMB_GRADE', 'DSG_GRADE', 'LCG_GRADE', 'MSW_GRADE']].select_dtypes('int')\n",
    "total_df['BRND_NM'] = np.where(total_df['BRND_NM'] =='데상트', 'dsc', \n",
    "                               np.where(total_df['BRND_NM'] =='르꼬끄', 'lcs',\n",
    "                                        np.where(total_df['BRND_NM'] =='엄브로', 'umb',\n",
    "                                                np.where(total_df['BRND_NM'] =='데상트골프', 'dsc',\n",
    "                                                        np.where(total_df['BRND_NM'] =='르꼬끄골프', 'lcg',\n",
    "                                                                 np.where(total_df['BRND_NM'] =='먼싱웨어', 'msw', total_df['BRND_NM']))))))\n",
    "\n",
    "for i in total_df[['PROD_QTY', 'PROD_PRC', 'ORD_CHANNEL', 'BUY_GENDER', 'BRND_NM', 'GENDER', 'AGE', \n",
    "                   # 'DST_GRADE', 'LCS_GRADE', 'UMB_GRADE', 'DSG_GRADE', 'LCG_GRADE', 'MSW_GRADE'\n",
    "                  ]].select_dtypes('object').columns:\n",
    "    temp_df = temp_df.merge(pd.get_dummies(total_df[[i]], prefix=[i]), right_index = True, left_index = True)\n",
    "    \n",
    "cor_matrix = temp_df.corr().abs()\n",
    "upper_tri = cor_matrix.where(np.triu(np.ones(cor_matrix.shape),k=1).astype(np.bool))\n",
    "high_score_set = set()\n",
    "\n",
    "for key, row in upper_tri.iterrows():\n",
    "    for col in upper_tri.columns:\n",
    "        if row[col] > 0.5:\n",
    "            high_score_set.add(key)\n",
    "            high_score_set.add(col)"
   ]
  },
  {
   "cell_type": "code",
   "execution_count": 73,
   "id": "8d09c056-eba2-4c64-b5f5-34809849eb19",
   "metadata": {},
   "outputs": [
    {
     "data": {
      "image/png": "[encoded data removed]",
      "text/plain": [
       "<Figure size 1000x1000 with 1 Axes>"
      ]
     },
     "metadata": {},
     "output_type": "display_data"
    }
   ],
   "source": [
    "## 르꼬끄 구매와 데상트 구매가 대비됨\n",
    "## 엄브로 구매와 데상트 구매가 대비됨\n",
    "\n",
    "plt.figure(figsize=(10,10))\n",
    "sns.heatmap(data = temp_df[high_score_set].corr(), annot=True, fmt = '.1f', cmap='Purples', linewidths=.5, cbar = False)\n",
    "plt.show()"
   ]
  },
  {
   "cell_type": "code",
   "execution_count": null,
   "id": "180eb52e-2e4e-4e63-becd-b2b233e35308",
   "metadata": {},
   "outputs": [],
   "source": []
  }
 ],
 "metadata": {
  "instance_type": "ml.t3.medium",
  "kernelspec": {
   "display_name": "Python 3 (Data Science)",
   "language": "python",
   "name": "python3__SAGEMAKER_INTERNAL__arn:aws:sagemaker:ap-northeast-2:806072073708:image/datascience-1.0"
  },
  "language_info": {
   "codemirror_mode": {
    "name": "ipython",
    "version": 3
   },
   "file_extension": ".py",
   "mimetype": "text/x-python",
   "name": "python",
   "nbconvert_exporter": "python",
   "pygments_lexer": "ipython3",
   "version": "3.7.10"
  }
 },
 "nbformat": 4,
 "nbformat_minor": 5
}
